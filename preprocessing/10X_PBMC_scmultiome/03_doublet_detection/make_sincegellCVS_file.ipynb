{
 "cells": [
  {
   "cell_type": "code",
   "execution_count": 3,
   "id": "b9528c90-0fbf-4fb7-9dd7-479854e68291",
   "metadata": {},
   "outputs": [],
   "source": [
    "import pandas as pd"
   ]
  },
  {
   "cell_type": "code",
   "execution_count": 6,
   "id": "8b879ef4-12d4-4420-ba11-7e7ea1061df6",
   "metadata": {},
   "outputs": [],
   "source": [
    "per_barcode_metrics = pd.read_csv(\"../../.././/data/10X_PBMC_scmultiome/pbmc_granulocyte_sorted_10k_per_barcode_metrics.csv\")\n",
    "\n",
    "\n"
   ]
  },
  {
   "cell_type": "markdown",
   "id": "5d89aa15-adac-4209-8f43-73b4520b323c",
   "metadata": {},
   "source": [
    "## despite the atac barcode is specificially indicated in the per_barcode_metrics dile, it is later matched to the gex barcodes"
   ]
  },
  {
   "cell_type": "code",
   "execution_count": 7,
   "id": "57822839-2363-4391-bf16-df79ea32c92b",
   "metadata": {},
   "outputs": [
    {
     "data": {
      "text/html": [
       "<div>\n",
       "<style scoped>\n",
       "    .dataframe tbody tr th:only-of-type {\n",
       "        vertical-align: middle;\n",
       "    }\n",
       "\n",
       "    .dataframe tbody tr th {\n",
       "        vertical-align: top;\n",
       "    }\n",
       "\n",
       "    .dataframe thead th {\n",
       "        text-align: right;\n",
       "    }\n",
       "</style>\n",
       "<table border=\"1\" class=\"dataframe\">\n",
       "  <thead>\n",
       "    <tr style=\"text-align: right;\">\n",
       "      <th></th>\n",
       "      <th>barcode</th>\n",
       "      <th>gex_barcode</th>\n",
       "      <th>atac_barcode</th>\n",
       "      <th>is_cell</th>\n",
       "      <th>excluded_reason</th>\n",
       "      <th>gex_raw_reads</th>\n",
       "      <th>gex_mapped_reads</th>\n",
       "      <th>gex_conf_intergenic_reads</th>\n",
       "      <th>gex_conf_exonic_reads</th>\n",
       "      <th>gex_conf_intronic_reads</th>\n",
       "      <th>...</th>\n",
       "      <th>atac_raw_reads</th>\n",
       "      <th>atac_unmapped_reads</th>\n",
       "      <th>atac_lowmapq</th>\n",
       "      <th>atac_dup_reads</th>\n",
       "      <th>atac_chimeric_reads</th>\n",
       "      <th>atac_mitochondrial_reads</th>\n",
       "      <th>atac_fragments</th>\n",
       "      <th>atac_TSS_fragments</th>\n",
       "      <th>atac_peak_region_fragments</th>\n",
       "      <th>atac_peak_region_cutsites</th>\n",
       "    </tr>\n",
       "  </thead>\n",
       "  <tbody>\n",
       "    <tr>\n",
       "      <th>0</th>\n",
       "      <td>AAACAGCCAAACAACA-1</td>\n",
       "      <td>AAACAGCCAAACAACA-1</td>\n",
       "      <td>ACAGCGGGTGTGTTAC-1</td>\n",
       "      <td>0</td>\n",
       "      <td>0</td>\n",
       "      <td>7</td>\n",
       "      <td>7</td>\n",
       "      <td>1</td>\n",
       "      <td>5</td>\n",
       "      <td>1</td>\n",
       "      <td>...</td>\n",
       "      <td>34</td>\n",
       "      <td>0</td>\n",
       "      <td>2</td>\n",
       "      <td>14</td>\n",
       "      <td>0</td>\n",
       "      <td>1</td>\n",
       "      <td>17</td>\n",
       "      <td>6</td>\n",
       "      <td>11</td>\n",
       "      <td>21</td>\n",
       "    </tr>\n",
       "    <tr>\n",
       "      <th>1</th>\n",
       "      <td>AAACAGCCAAACATAG-1</td>\n",
       "      <td>AAACAGCCAAACATAG-1</td>\n",
       "      <td>ACAGCGGGTTGTTCTT-1</td>\n",
       "      <td>0</td>\n",
       "      <td>0</td>\n",
       "      <td>1</td>\n",
       "      <td>1</td>\n",
       "      <td>0</td>\n",
       "      <td>1</td>\n",
       "      <td>0</td>\n",
       "      <td>...</td>\n",
       "      <td>2</td>\n",
       "      <td>1</td>\n",
       "      <td>0</td>\n",
       "      <td>0</td>\n",
       "      <td>1</td>\n",
       "      <td>0</td>\n",
       "      <td>0</td>\n",
       "      <td>0</td>\n",
       "      <td>0</td>\n",
       "      <td>0</td>\n",
       "    </tr>\n",
       "    <tr>\n",
       "      <th>2</th>\n",
       "      <td>AAACAGCCAAACCCTA-1</td>\n",
       "      <td>AAACAGCCAAACCCTA-1</td>\n",
       "      <td>ACAGCGGGTAACAGGC-1</td>\n",
       "      <td>0</td>\n",
       "      <td>0</td>\n",
       "      <td>15</td>\n",
       "      <td>15</td>\n",
       "      <td>1</td>\n",
       "      <td>1</td>\n",
       "      <td>11</td>\n",
       "      <td>...</td>\n",
       "      <td>31</td>\n",
       "      <td>23</td>\n",
       "      <td>1</td>\n",
       "      <td>2</td>\n",
       "      <td>0</td>\n",
       "      <td>0</td>\n",
       "      <td>5</td>\n",
       "      <td>1</td>\n",
       "      <td>3</td>\n",
       "      <td>6</td>\n",
       "    </tr>\n",
       "    <tr>\n",
       "      <th>3</th>\n",
       "      <td>AAACAGCCAAACCTAT-1</td>\n",
       "      <td>AAACAGCCAAACCTAT-1</td>\n",
       "      <td>ACAGCGGGTGCGCGAA-1</td>\n",
       "      <td>0</td>\n",
       "      <td>0</td>\n",
       "      <td>20</td>\n",
       "      <td>20</td>\n",
       "      <td>12</td>\n",
       "      <td>7</td>\n",
       "      <td>1</td>\n",
       "      <td>...</td>\n",
       "      <td>3</td>\n",
       "      <td>1</td>\n",
       "      <td>2</td>\n",
       "      <td>0</td>\n",
       "      <td>0</td>\n",
       "      <td>0</td>\n",
       "      <td>0</td>\n",
       "      <td>0</td>\n",
       "      <td>0</td>\n",
       "      <td>0</td>\n",
       "    </tr>\n",
       "    <tr>\n",
       "      <th>4</th>\n",
       "      <td>AAACAGCCAAACCTTG-1</td>\n",
       "      <td>AAACAGCCAAACCTTG-1</td>\n",
       "      <td>ACAGCGGGTCCTCCAT-1</td>\n",
       "      <td>0</td>\n",
       "      <td>0</td>\n",
       "      <td>2</td>\n",
       "      <td>2</td>\n",
       "      <td>0</td>\n",
       "      <td>2</td>\n",
       "      <td>0</td>\n",
       "      <td>...</td>\n",
       "      <td>13</td>\n",
       "      <td>1</td>\n",
       "      <td>0</td>\n",
       "      <td>4</td>\n",
       "      <td>3</td>\n",
       "      <td>0</td>\n",
       "      <td>5</td>\n",
       "      <td>1</td>\n",
       "      <td>2</td>\n",
       "      <td>4</td>\n",
       "    </tr>\n",
       "  </tbody>\n",
       "</table>\n",
       "<p>5 rows × 31 columns</p>\n",
       "</div>"
      ],
      "text/plain": [
       "              barcode         gex_barcode        atac_barcode  is_cell  \\\n",
       "0  AAACAGCCAAACAACA-1  AAACAGCCAAACAACA-1  ACAGCGGGTGTGTTAC-1        0   \n",
       "1  AAACAGCCAAACATAG-1  AAACAGCCAAACATAG-1  ACAGCGGGTTGTTCTT-1        0   \n",
       "2  AAACAGCCAAACCCTA-1  AAACAGCCAAACCCTA-1  ACAGCGGGTAACAGGC-1        0   \n",
       "3  AAACAGCCAAACCTAT-1  AAACAGCCAAACCTAT-1  ACAGCGGGTGCGCGAA-1        0   \n",
       "4  AAACAGCCAAACCTTG-1  AAACAGCCAAACCTTG-1  ACAGCGGGTCCTCCAT-1        0   \n",
       "\n",
       "   excluded_reason  gex_raw_reads  gex_mapped_reads  \\\n",
       "0                0              7                 7   \n",
       "1                0              1                 1   \n",
       "2                0             15                15   \n",
       "3                0             20                20   \n",
       "4                0              2                 2   \n",
       "\n",
       "   gex_conf_intergenic_reads  gex_conf_exonic_reads  gex_conf_intronic_reads  \\\n",
       "0                          1                      5                        1   \n",
       "1                          0                      1                        0   \n",
       "2                          1                      1                       11   \n",
       "3                         12                      7                        1   \n",
       "4                          0                      2                        0   \n",
       "\n",
       "   ...  atac_raw_reads  atac_unmapped_reads  atac_lowmapq  atac_dup_reads  \\\n",
       "0  ...              34                    0             2              14   \n",
       "1  ...               2                    1             0               0   \n",
       "2  ...              31                   23             1               2   \n",
       "3  ...               3                    1             2               0   \n",
       "4  ...              13                    1             0               4   \n",
       "\n",
       "   atac_chimeric_reads  atac_mitochondrial_reads  atac_fragments  \\\n",
       "0                    0                         1              17   \n",
       "1                    1                         0               0   \n",
       "2                    0                         0               5   \n",
       "3                    0                         0               0   \n",
       "4                    3                         0               5   \n",
       "\n",
       "   atac_TSS_fragments  atac_peak_region_fragments  atac_peak_region_cutsites  \n",
       "0                   6                          11                         21  \n",
       "1                   0                           0                          0  \n",
       "2                   1                           3                          6  \n",
       "3                   0                           0                          0  \n",
       "4                   1                           2                          4  \n",
       "\n",
       "[5 rows x 31 columns]"
      ]
     },
     "execution_count": 7,
     "metadata": {},
     "output_type": "execute_result"
    }
   ],
   "source": [
    "per_barcode_metrics.head()"
   ]
  },
  {
   "cell_type": "code",
   "execution_count": 8,
   "id": "e55cfafa-7264-405c-bad4-2d76c4978598",
   "metadata": {},
   "outputs": [],
   "source": [
    "per_barcode_metrics_only_atac= per_barcode_metrics[[\"barcode\",\"is_cell\"]]"
   ]
  },
  {
   "cell_type": "code",
   "execution_count": 9,
   "id": "26133c2d-8dc1-490f-bb54-fce146a75588",
   "metadata": {},
   "outputs": [],
   "source": [
    "per_barcode_metrics_only_atac.columns = ['barcode' , 'is__cell_barcode']"
   ]
  },
  {
   "cell_type": "code",
   "execution_count": 10,
   "id": "df1757f2-0502-4e38-b8ed-11180c112d07",
   "metadata": {},
   "outputs": [
    {
     "data": {
      "text/plain": [
       "'AAACAGCCAAACAACA-1'"
      ]
     },
     "execution_count": 10,
     "metadata": {},
     "output_type": "execute_result"
    }
   ],
   "source": [
    "per_barcode_metrics_only_atac.iloc[0,0]"
   ]
  },
  {
   "cell_type": "code",
   "execution_count": 11,
   "id": "88442745-02b5-4cfb-acd6-5cac570a14a5",
   "metadata": {},
   "outputs": [],
   "source": [
    "per_barcode_metrics_only_atac.to_csv(\"../../../../data/10X_PBMC_scmultiome/03_doublet_detection/singlecell.csv\",index=False)\n",
    "\n"
   ]
  },
  {
   "cell_type": "code",
   "execution_count": 12,
   "id": "d12131ae-17ef-4ef8-a0e2-37eaf2c03da2",
   "metadata": {},
   "outputs": [
    {
     "data": {
      "text/plain": [
       "True"
      ]
     },
     "execution_count": 12,
     "metadata": {},
     "output_type": "execute_result"
    }
   ],
   "source": [
    "'TCAAGAACAGTAATAG-1' in list(per_barcode_metrics_only_atac.barcode)"
   ]
  },
  {
   "cell_type": "code",
   "execution_count": 13,
   "id": "74017323-c5e8-4998-8aec-96b3a91e5333",
   "metadata": {},
   "outputs": [
    {
     "data": {
      "text/plain": [
       "True"
      ]
     },
     "execution_count": 13,
     "metadata": {},
     "output_type": "execute_result"
    }
   ],
   "source": [
    "'TTTGTTGGTTTGCAGA-1' in list(per_barcode_metrics_only_atac.barcode)"
   ]
  },
  {
   "cell_type": "code",
   "execution_count": 14,
   "id": "8142ecf1-24e2-4853-9c16-0fc478c3507c",
   "metadata": {},
   "outputs": [
    {
     "data": {
      "text/plain": [
       "False"
      ]
     },
     "execution_count": 14,
     "metadata": {},
     "output_type": "execute_result"
    }
   ],
   "source": [
    "'TTTGTTGGTTTGCAGA-1' in list(per_barcode_metrics.atac_barcode)"
   ]
  },
  {
   "cell_type": "code",
   "execution_count": 15,
   "id": "3d949f2a-4b1d-4e79-b6bd-b7254494ce77",
   "metadata": {},
   "outputs": [
    {
     "data": {
      "text/plain": [
       "0         AAACAGCCAAACAACA-1\n",
       "1         AAACAGCCAAACATAG-1\n",
       "2         AAACAGCCAAACCCTA-1\n",
       "3         AAACAGCCAAACCTAT-1\n",
       "4         AAACAGCCAAACCTTG-1\n",
       "                 ...        \n",
       "732266    TTTGTTGGTTGCCTCA-1\n",
       "732267    TTTGTTGGTTGTAAAC-1\n",
       "732268    TTTGTTGGTTGTGATG-1\n",
       "732269    TTTGTTGGTTTAACGG-1\n",
       "732270    TTTGTTGGTTTGAGCA-1\n",
       "Name: barcode, Length: 732271, dtype: object"
      ]
     },
     "execution_count": 15,
     "metadata": {},
     "output_type": "execute_result"
    }
   ],
   "source": [
    "per_barcode_metrics_only_atac['barcode']"
   ]
  },
  {
   "cell_type": "code",
   "execution_count": null,
   "id": "f3a86a61-76ea-475c-903f-4f96c28cb007",
   "metadata": {},
   "outputs": [],
   "source": []
  }
 ],
 "metadata": {
  "kernelspec": {
   "display_name": "Python 3 (ipykernel)",
   "language": "python",
   "name": "python3"
  },
  "language_info": {
   "codemirror_mode": {
    "name": "ipython",
    "version": 3
   },
   "file_extension": ".py",
   "mimetype": "text/x-python",
   "name": "python",
   "nbconvert_exporter": "python",
   "pygments_lexer": "ipython3",
   "version": "3.10.12"
  }
 },
 "nbformat": 4,
 "nbformat_minor": 5
}
