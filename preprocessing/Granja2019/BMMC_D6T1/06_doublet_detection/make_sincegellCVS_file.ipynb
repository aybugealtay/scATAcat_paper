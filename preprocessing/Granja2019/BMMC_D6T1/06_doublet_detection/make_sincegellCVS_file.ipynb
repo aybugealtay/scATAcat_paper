{
 "cells": [
  {
   "cell_type": "code",
   "execution_count": 1,
   "id": "b9528c90-0fbf-4fb7-9dd7-479854e68291",
   "metadata": {},
   "outputs": [],
   "source": [
    "import pandas as pd"
   ]
  },
  {
   "cell_type": "code",
   "execution_count": 2,
   "id": "8b879ef4-12d4-4420-ba11-7e7ea1061df6",
   "metadata": {},
   "outputs": [],
   "source": [
    "barcodes = pd.read_csv(\"/project/scATAC_analysis/scATAcat_review/data/Granja2019/PBMC_D10T1/03_cellIDs_and_annotations/cell_IDs.csv\")\n",
    "\n",
    "\n"
   ]
  },
  {
   "cell_type": "code",
   "execution_count": 4,
   "id": "7f00cd88-b38e-4a51-9d73-16e094537ce5",
   "metadata": {},
   "outputs": [],
   "source": [
    "barcodes.columns = [\"barcode\"]"
   ]
  },
  {
   "cell_type": "code",
   "execution_count": 5,
   "id": "179f79d9-04f6-469b-a3d2-b6f5c62193b7",
   "metadata": {},
   "outputs": [],
   "source": [
    "barcodes['is__cell_barcode']=1"
   ]
  },
  {
   "cell_type": "code",
   "execution_count": 6,
   "id": "ca888189-8ead-405c-bbbc-5b771b8582c7",
   "metadata": {},
   "outputs": [
    {
     "data": {
      "text/html": [
       "<div>\n",
       "<style scoped>\n",
       "    .dataframe tbody tr th:only-of-type {\n",
       "        vertical-align: middle;\n",
       "    }\n",
       "\n",
       "    .dataframe tbody tr th {\n",
       "        vertical-align: top;\n",
       "    }\n",
       "\n",
       "    .dataframe thead th {\n",
       "        text-align: right;\n",
       "    }\n",
       "</style>\n",
       "<table border=\"1\" class=\"dataframe\">\n",
       "  <thead>\n",
       "    <tr style=\"text-align: right;\">\n",
       "      <th></th>\n",
       "      <th>barcode</th>\n",
       "      <th>is__cell_barcode</th>\n",
       "    </tr>\n",
       "  </thead>\n",
       "  <tbody>\n",
       "    <tr>\n",
       "      <th>0</th>\n",
       "      <td>TCAGGGCAGGGCATTG-1</td>\n",
       "      <td>1</td>\n",
       "    </tr>\n",
       "    <tr>\n",
       "      <th>1</th>\n",
       "      <td>GTTCAAGCAGTTACAC-1</td>\n",
       "      <td>1</td>\n",
       "    </tr>\n",
       "    <tr>\n",
       "      <th>2</th>\n",
       "      <td>CATTCCGGTGATAACA-1</td>\n",
       "      <td>1</td>\n",
       "    </tr>\n",
       "    <tr>\n",
       "      <th>3</th>\n",
       "      <td>GCGTTGGTCCAGTTAG-1</td>\n",
       "      <td>1</td>\n",
       "    </tr>\n",
       "    <tr>\n",
       "      <th>4</th>\n",
       "      <td>TCAAAGCCAAGCACTT-1</td>\n",
       "      <td>1</td>\n",
       "    </tr>\n",
       "  </tbody>\n",
       "</table>\n",
       "</div>"
      ],
      "text/plain": [
       "              barcode  is__cell_barcode\n",
       "0  TCAGGGCAGGGCATTG-1                 1\n",
       "1  GTTCAAGCAGTTACAC-1                 1\n",
       "2  CATTCCGGTGATAACA-1                 1\n",
       "3  GCGTTGGTCCAGTTAG-1                 1\n",
       "4  TCAAAGCCAAGCACTT-1                 1"
      ]
     },
     "execution_count": 6,
     "metadata": {},
     "output_type": "execute_result"
    }
   ],
   "source": [
    "barcodes.head()"
   ]
  },
  {
   "cell_type": "code",
   "execution_count": 7,
   "id": "030d845c-1b4d-4e0b-ac8a-bc9dc9e83031",
   "metadata": {},
   "outputs": [],
   "source": [
    "barcodes.to_csv(\"../../../../data/Granja2019/PBMC_D10T1/06_doublet_detection//singlecell.csv\",index=False)"
   ]
  }
 ],
 "metadata": {
  "kernelspec": {
   "display_name": "scATAcat_reproducibility_env",
   "language": "python",
   "name": "scatacat_reproducibility_env"
  },
  "language_info": {
   "codemirror_mode": {
    "name": "ipython",
    "version": 3
   },
   "file_extension": ".py",
   "mimetype": "text/x-python",
   "name": "python",
   "nbconvert_exporter": "python",
   "pygments_lexer": "ipython3",
   "version": "3.10.10"
  },
  "widgets": {
   "application/vnd.jupyter.widget-state+json": {
    "state": {},
    "version_major": 2,
    "version_minor": 0
   }
  }
 },
 "nbformat": 4,
 "nbformat_minor": 5
}
