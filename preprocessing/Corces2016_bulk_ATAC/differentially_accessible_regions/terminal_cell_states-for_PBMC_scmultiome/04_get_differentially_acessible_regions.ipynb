{
 "cells": [
  {
   "cell_type": "code",
   "execution_count": 1,
   "id": "480d57c5-093b-459d-b0c8-5da1907c7208",
   "metadata": {},
   "outputs": [
    {
     "data": {
      "text/plain": [
       "               _                           \n",
       "platform       x86_64-pc-linux-gnu         \n",
       "arch           x86_64                      \n",
       "os             linux-gnu                   \n",
       "system         x86_64, linux-gnu           \n",
       "status                                     \n",
       "major          4                           \n",
       "minor          0.5                         \n",
       "year           2021                        \n",
       "month          03                          \n",
       "day            31                          \n",
       "svn rev        80133                       \n",
       "language       R                           \n",
       "version.string R version 4.0.5 (2021-03-31)\n",
       "nickname       Shake and Throw             "
      ]
     },
     "metadata": {},
     "output_type": "display_data"
    }
   ],
   "source": [
    "R.version"
   ]
  },
  {
   "cell_type": "code",
   "execution_count": 2,
   "id": "563f4629-65d9-4bc2-9001-a50b74752bb6",
   "metadata": {
    "tags": []
   },
   "outputs": [
    {
     "name": "stderr",
     "output_type": "stream",
     "text": [
      "Loading required package: GenomicRanges\n",
      "\n",
      "Loading required package: stats4\n",
      "\n",
      "Loading required package: BiocGenerics\n",
      "\n",
      "Loading required package: parallel\n",
      "\n",
      "\n",
      "Attaching package: ‘BiocGenerics’\n",
      "\n",
      "\n",
      "The following objects are masked from ‘package:parallel’:\n",
      "\n",
      "    clusterApply, clusterApplyLB, clusterCall, clusterEvalQ,\n",
      "    clusterExport, clusterMap, parApply, parCapply, parLapply,\n",
      "    parLapplyLB, parRapply, parSapply, parSapplyLB\n",
      "\n",
      "\n",
      "The following objects are masked from ‘package:stats’:\n",
      "\n",
      "    IQR, mad, sd, var, xtabs\n",
      "\n",
      "\n",
      "The following objects are masked from ‘package:base’:\n",
      "\n",
      "    Filter, Find, Map, Position, Reduce, anyDuplicated, append,\n",
      "    as.data.frame, basename, cbind, colnames, dirname, do.call,\n",
      "    duplicated, eval, evalq, get, grep, grepl, intersect, is.unsorted,\n",
      "    lapply, mapply, match, mget, order, paste, pmax, pmax.int, pmin,\n",
      "    pmin.int, rank, rbind, rownames, sapply, setdiff, sort, table,\n",
      "    tapply, union, unique, unsplit, which.max, which.min\n",
      "\n",
      "\n",
      "Loading required package: S4Vectors\n",
      "\n",
      "\n",
      "Attaching package: ‘S4Vectors’\n",
      "\n",
      "\n",
      "The following object is masked from ‘package:base’:\n",
      "\n",
      "    expand.grid\n",
      "\n",
      "\n",
      "Loading required package: IRanges\n",
      "\n",
      "Loading required package: GenomeInfoDb\n",
      "\n",
      "Loading required package: SummarizedExperiment\n",
      "\n",
      "Loading required package: MatrixGenerics\n",
      "\n",
      "Loading required package: matrixStats\n",
      "\n",
      "\n",
      "Attaching package: ‘MatrixGenerics’\n",
      "\n",
      "\n",
      "The following objects are masked from ‘package:matrixStats’:\n",
      "\n",
      "    colAlls, colAnyNAs, colAnys, colAvgsPerRowSet, colCollapse,\n",
      "    colCounts, colCummaxs, colCummins, colCumprods, colCumsums,\n",
      "    colDiffs, colIQRDiffs, colIQRs, colLogSumExps, colMadDiffs,\n",
      "    colMads, colMaxs, colMeans2, colMedians, colMins, colOrderStats,\n",
      "    colProds, colQuantiles, colRanges, colRanks, colSdDiffs, colSds,\n",
      "    colSums2, colTabulates, colVarDiffs, colVars, colWeightedMads,\n",
      "    colWeightedMeans, colWeightedMedians, colWeightedSds,\n",
      "    colWeightedVars, rowAlls, rowAnyNAs, rowAnys, rowAvgsPerColSet,\n",
      "    rowCollapse, rowCounts, rowCummaxs, rowCummins, rowCumprods,\n",
      "    rowCumsums, rowDiffs, rowIQRDiffs, rowIQRs, rowLogSumExps,\n",
      "    rowMadDiffs, rowMads, rowMaxs, rowMeans2, rowMedians, rowMins,\n",
      "    rowOrderStats, rowProds, rowQuantiles, rowRanges, rowRanks,\n",
      "    rowSdDiffs, rowSds, rowSums2, rowTabulates, rowVarDiffs, rowVars,\n",
      "    rowWeightedMads, rowWeightedMeans, rowWeightedMedians,\n",
      "    rowWeightedSds, rowWeightedVars\n",
      "\n",
      "\n",
      "Loading required package: Biobase\n",
      "\n",
      "Welcome to Bioconductor\n",
      "\n",
      "    Vignettes contain introductory material; view with\n",
      "    'browseVignettes()'. To cite Bioconductor, see\n",
      "    'citation(\"Biobase\")', and for packages 'citation(\"pkgname\")'.\n",
      "\n",
      "\n",
      "\n",
      "Attaching package: ‘Biobase’\n",
      "\n",
      "\n",
      "The following object is masked from ‘package:MatrixGenerics’:\n",
      "\n",
      "    rowMedians\n",
      "\n",
      "\n",
      "The following objects are masked from ‘package:matrixStats’:\n",
      "\n",
      "    anyMissing, rowMedians\n",
      "\n",
      "\n",
      "Possible Ensembl SSL connectivity problems detected.\n",
      "Please see the 'Connection Troubleshooting' section of the biomaRt vignette\n",
      "vignette('accessing_ensembl', package = 'biomaRt')Error in curl::curl_fetch_memory(url, handle = handle) : \n",
      "  SSL certificate problem: certificate has expired\n",
      "\n",
      "\n",
      "\n",
      "\n",
      " >>> DiffBind 3.0 includes substantial updates. See ?DiffBind3 for details on what has changed.\n",
      "\n"
     ]
    }
   ],
   "source": [
    "library(DiffBind)"
   ]
  },
  {
   "cell_type": "code",
   "execution_count": 6,
   "id": "77315093-2d22-42e4-834a-0ac952b5b854",
   "metadata": {},
   "outputs": [
    {
     "data": {
      "text/html": [
       "<table class=\"dataframe\">\n",
       "<caption>A data.frame: 29 × 10</caption>\n",
       "<thead>\n",
       "\t<tr><th scope=col>SampleID</th><th scope=col>Tissue</th><th scope=col>Condition</th><th scope=col>donorID</th><th scope=col>Treatment</th><th scope=col>bamReads</th><th scope=col>Replicate</th><th scope=col>ControlID</th><th scope=col>Peaks</th><th scope=col>PeakCaller</th></tr>\n",
       "\t<tr><th scope=col>&lt;chr&gt;</th><th scope=col>&lt;chr&gt;</th><th scope=col>&lt;chr&gt;</th><th scope=col>&lt;int&gt;</th><th scope=col>&lt;chr&gt;</th><th scope=col>&lt;chr&gt;</th><th scope=col>&lt;int&gt;</th><th scope=col>&lt;chr&gt;</th><th scope=col>&lt;chr&gt;</th><th scope=col>&lt;chr&gt;</th></tr>\n",
       "</thead>\n",
       "<tbody>\n",
       "\t<tr><td>Bcell_1   </td><td>Bcell   </td><td>Bcell   </td><td>1022</td><td>control</td><td>/project/scATAC_analysis/10X_PBMC_analysis/AnnotationQuestion/bulk_ATAC_data/GSE74912_Corces2016/GSE74912_Corces2016_ENCODE_v3_processed/Bcell/atac/c3305399-347a-4f14-871d-696a4b7bd760/call-filter/shard-0/execution/SRR2920492_1.fastq.trim.srt.nodup.no_chrM_MT.bam   </td><td>1</td><td>Bcell   </td><td>/project/scATAC_analysis/scATAcat_notebooks_for_paper/jan2024/data/Corces2016_bulk_ATAC/01_ENCODE_cCRE_coverages/Bcell/SRR2920492_NOTmerged_scATAC_overlap_ENCODE_cCRE_coverage_6col.bed   </td><td>bed</td></tr>\n",
       "\t<tr><td>Bcell_2   </td><td>Bcell   </td><td>Bcell   </td><td>4983</td><td>control</td><td>/project/scATAC_analysis/10X_PBMC_analysis/AnnotationQuestion/bulk_ATAC_data/GSE74912_Corces2016/GSE74912_Corces2016_ENCODE_v3_processed/Bcell/atac/c3305399-347a-4f14-871d-696a4b7bd760/call-filter/shard-1/execution/SRR2920513_1.fastq.trim.srt.nodup.no_chrM_MT.bam   </td><td>2</td><td>Bcell   </td><td>/project/scATAC_analysis/scATAcat_notebooks_for_paper/jan2024/data/Corces2016_bulk_ATAC/01_ENCODE_cCRE_coverages/Bcell/SRR2920513_NOTmerged_scATAC_overlap_ENCODE_cCRE_coverage_6col.bed   </td><td>bed</td></tr>\n",
       "\t<tr><td>Bcell_3   </td><td>Bcell   </td><td>Bcell   </td><td>5483</td><td>control</td><td>/project/scATAC_analysis/10X_PBMC_analysis/AnnotationQuestion/bulk_ATAC_data/GSE74912_Corces2016/GSE74912_Corces2016_ENCODE_v3_processed/Bcell/atac/c3305399-347a-4f14-871d-696a4b7bd760/call-filter/shard-2/execution/SRR2920517_1.fastq.trim.srt.nodup.no_chrM_MT.bam   </td><td>3</td><td>Bcell   </td><td>/project/scATAC_analysis/scATAcat_notebooks_for_paper/jan2024/data/Corces2016_bulk_ATAC/01_ENCODE_cCRE_coverages/Bcell/SRR2920517_NOTmerged_scATAC_overlap_ENCODE_cCRE_coverage_6col.bed   </td><td>bed</td></tr>\n",
       "\t<tr><td>Bcell_4   </td><td>Bcell   </td><td>Bcell   </td><td>5483</td><td>control</td><td>/project/scATAC_analysis/10X_PBMC_analysis/AnnotationQuestion/bulk_ATAC_data/GSE74912_Corces2016/GSE74912_Corces2016_ENCODE_v3_processed/Bcell/atac/c3305399-347a-4f14-871d-696a4b7bd760/call-filter/shard-3/execution/SRR2920544_1.fastq.trim.srt.nodup.no_chrM_MT.bam   </td><td>4</td><td>Bcell   </td><td>/project/scATAC_analysis/scATAcat_notebooks_for_paper/jan2024/data/Corces2016_bulk_ATAC/01_ENCODE_cCRE_coverages/Bcell/SRR2920544_NOTmerged_scATAC_overlap_ENCODE_cCRE_coverage_6col.bed   </td><td>bed</td></tr>\n",
       "\t<tr><td>CD4Tcell_1</td><td>CD4Tcell</td><td>CD4Tcell</td><td>1022</td><td>control</td><td>/project/scATAC_analysis/10X_PBMC_analysis/AnnotationQuestion/bulk_ATAC_data/GSE74912_Corces2016/GSE74912_Corces2016_ENCODE_v3_processed/CD4Tcell/atac/aaead0dc-374c-4a33-b443-e7bd45c3b3b6/call-filter/shard-0/execution/SRR2920493_1.fastq.trim.srt.nodup.no_chrM_MT.bam</td><td>1</td><td>CD4Tcell</td><td>/project/scATAC_analysis/scATAcat_notebooks_for_paper/jan2024/data/Corces2016_bulk_ATAC/01_ENCODE_cCRE_coverages/CD4Tcell/SRR2920493_NOTmerged_scATAC_overlap_ENCODE_cCRE_coverage_6col.bed</td><td>bed</td></tr>\n",
       "\t<tr><td>CD4Tcell_2</td><td>CD4Tcell</td><td>CD4Tcell</td><td>2596</td><td>control</td><td>/project/scATAC_analysis/10X_PBMC_analysis/AnnotationQuestion/bulk_ATAC_data/GSE74912_Corces2016/GSE74912_Corces2016_ENCODE_v3_processed/CD4Tcell/atac/aaead0dc-374c-4a33-b443-e7bd45c3b3b6/call-filter/shard-1/execution/SRR2920496_1.fastq.trim.srt.nodup.no_chrM_MT.bam</td><td>2</td><td>CD4Tcell</td><td>/project/scATAC_analysis/scATAcat_notebooks_for_paper/jan2024/data/Corces2016_bulk_ATAC/01_ENCODE_cCRE_coverages/CD4Tcell/SRR2920496_NOTmerged_scATAC_overlap_ENCODE_cCRE_coverage_6col.bed</td><td>bed</td></tr>\n",
       "\t<tr><td>CD4Tcell_3</td><td>CD4Tcell</td><td>CD4Tcell</td><td>4983</td><td>control</td><td>/project/scATAC_analysis/10X_PBMC_analysis/AnnotationQuestion/bulk_ATAC_data/GSE74912_Corces2016/GSE74912_Corces2016_ENCODE_v3_processed/CD4Tcell/atac/aaead0dc-374c-4a33-b443-e7bd45c3b3b6/call-filter/shard-2/execution/SRR2920514_1.fastq.trim.srt.nodup.no_chrM_MT.bam</td><td>3</td><td>CD4Tcell</td><td>/project/scATAC_analysis/scATAcat_notebooks_for_paper/jan2024/data/Corces2016_bulk_ATAC/01_ENCODE_cCRE_coverages/CD4Tcell/SRR2920514_NOTmerged_scATAC_overlap_ENCODE_cCRE_coverage_6col.bed</td><td>bed</td></tr>\n",
       "\t<tr><td>CD4Tcell_4</td><td>CD4Tcell</td><td>CD4Tcell</td><td>5483</td><td>control</td><td>/project/scATAC_analysis/10X_PBMC_analysis/AnnotationQuestion/bulk_ATAC_data/GSE74912_Corces2016/GSE74912_Corces2016_ENCODE_v3_processed/CD4Tcell/atac/aaead0dc-374c-4a33-b443-e7bd45c3b3b6/call-filter/shard-3/execution/SRR2920518_1.fastq.trim.srt.nodup.no_chrM_MT.bam</td><td>4</td><td>CD4Tcell</td><td>/project/scATAC_analysis/scATAcat_notebooks_for_paper/jan2024/data/Corces2016_bulk_ATAC/01_ENCODE_cCRE_coverages/CD4Tcell/SRR2920518_NOTmerged_scATAC_overlap_ENCODE_cCRE_coverage_6col.bed</td><td>bed</td></tr>\n",
       "\t<tr><td>CD4Tcell_5</td><td>CD4Tcell</td><td>CD4Tcell</td><td>5483</td><td>control</td><td>/project/scATAC_analysis/10X_PBMC_analysis/AnnotationQuestion/bulk_ATAC_data/GSE74912_Corces2016/GSE74912_Corces2016_ENCODE_v3_processed/CD4Tcell/atac/aaead0dc-374c-4a33-b443-e7bd45c3b3b6/call-filter/shard-4/execution/SRR2920519_1.fastq.trim.srt.nodup.no_chrM_MT.bam</td><td>5</td><td>CD4Tcell</td><td>/project/scATAC_analysis/scATAcat_notebooks_for_paper/jan2024/data/Corces2016_bulk_ATAC/01_ENCODE_cCRE_coverages/CD4Tcell/SRR2920519_NOTmerged_scATAC_overlap_ENCODE_cCRE_coverage_6col.bed</td><td>bed</td></tr>\n",
       "\t<tr><td>CD8Tcell_1</td><td>CD8Tcell</td><td>CD8Tcell</td><td>1022</td><td>control</td><td>/project/scATAC_analysis/10X_PBMC_analysis/AnnotationQuestion/bulk_ATAC_data/GSE74912_Corces2016/GSE74912_Corces2016_ENCODE_v3_processed/CD8Tcell/atac/a60a2fd4-712c-4bac-95a9-ccf5a2bd53e5/call-filter/shard-0/execution/SRR2920494_1.fastq.trim.srt.nodup.no_chrM_MT.bam</td><td>1</td><td>CD8Tcell</td><td>/project/scATAC_analysis/scATAcat_notebooks_for_paper/jan2024/data/Corces2016_bulk_ATAC/01_ENCODE_cCRE_coverages/CD8Tcell/SRR2920494_NOTmerged_scATAC_overlap_ENCODE_cCRE_coverage_6col.bed</td><td>bed</td></tr>\n",
       "\t<tr><td>CD8Tcell_2</td><td>CD8Tcell</td><td>CD8Tcell</td><td>2596</td><td>control</td><td>/project/scATAC_analysis/10X_PBMC_analysis/AnnotationQuestion/bulk_ATAC_data/GSE74912_Corces2016/GSE74912_Corces2016_ENCODE_v3_processed/CD8Tcell/atac/a60a2fd4-712c-4bac-95a9-ccf5a2bd53e5/call-filter/shard-1/execution/SRR2920497_1.fastq.trim.srt.nodup.no_chrM_MT.bam</td><td>2</td><td>CD8Tcell</td><td>/project/scATAC_analysis/scATAcat_notebooks_for_paper/jan2024/data/Corces2016_bulk_ATAC/01_ENCODE_cCRE_coverages/CD8Tcell/SRR2920497_NOTmerged_scATAC_overlap_ENCODE_cCRE_coverage_6col.bed</td><td>bed</td></tr>\n",
       "\t<tr><td>CD8Tcell_3</td><td>CD8Tcell</td><td>CD8Tcell</td><td>4983</td><td>control</td><td>/project/scATAC_analysis/10X_PBMC_analysis/AnnotationQuestion/bulk_ATAC_data/GSE74912_Corces2016/GSE74912_Corces2016_ENCODE_v3_processed/CD8Tcell/atac/a60a2fd4-712c-4bac-95a9-ccf5a2bd53e5/call-filter/shard-2/execution/SRR2920515_1.fastq.trim.srt.nodup.no_chrM_MT.bam</td><td>3</td><td>CD8Tcell</td><td>/project/scATAC_analysis/scATAcat_notebooks_for_paper/jan2024/data/Corces2016_bulk_ATAC/01_ENCODE_cCRE_coverages/CD8Tcell/SRR2920515_NOTmerged_scATAC_overlap_ENCODE_cCRE_coverage_6col.bed</td><td>bed</td></tr>\n",
       "\t<tr><td>CD8Tcell_4</td><td>CD8Tcell</td><td>CD8Tcell</td><td>5483</td><td>control</td><td>/project/scATAC_analysis/10X_PBMC_analysis/AnnotationQuestion/bulk_ATAC_data/GSE74912_Corces2016/GSE74912_Corces2016_ENCODE_v3_processed/CD8Tcell/atac/a60a2fd4-712c-4bac-95a9-ccf5a2bd53e5/call-filter/shard-3/execution/SRR2920520_1.fastq.trim.srt.nodup.no_chrM_MT.bam</td><td>4</td><td>CD8Tcell</td><td>/project/scATAC_analysis/scATAcat_notebooks_for_paper/jan2024/data/Corces2016_bulk_ATAC/01_ENCODE_cCRE_coverages/CD8Tcell/SRR2920520_NOTmerged_scATAC_overlap_ENCODE_cCRE_coverage_6col.bed</td><td>bed</td></tr>\n",
       "\t<tr><td>CD8Tcell_5</td><td>CD8Tcell</td><td>CD8Tcell</td><td>5483</td><td>control</td><td>/project/scATAC_analysis/10X_PBMC_analysis/AnnotationQuestion/bulk_ATAC_data/GSE74912_Corces2016/GSE74912_Corces2016_ENCODE_v3_processed/CD8Tcell/atac/a60a2fd4-712c-4bac-95a9-ccf5a2bd53e5/call-filter/shard-4/execution/SRR2920521_1.fastq.trim.srt.nodup.no_chrM_MT.bam</td><td>5</td><td>CD8Tcell</td><td>/project/scATAC_analysis/scATAcat_notebooks_for_paper/jan2024/data/Corces2016_bulk_ATAC/01_ENCODE_cCRE_coverages/CD8Tcell/SRR2920521_NOTmerged_scATAC_overlap_ENCODE_cCRE_coverage_6col.bed</td><td>bed</td></tr>\n",
       "\t<tr><td>Mono_1    </td><td>Mono    </td><td>Mono    </td><td>4983</td><td>control</td><td>/project/scATAC_analysis/10X_PBMC_analysis/AnnotationQuestion/bulk_ATAC_data/GSE74912_Corces2016/GSE74912_Corces2016_ENCODE_v3_processed/Mono/atac/bf31ec47-252c-4e42-bda2-fae4f6dc6cab/call-filter/shard-0/execution/SRR2920475_1.fastq.trim.srt.nodup.no_chrM_MT.bam    </td><td>1</td><td>Mono    </td><td>/project/scATAC_analysis/scATAcat_notebooks_for_paper/jan2024/data/Corces2016_bulk_ATAC/01_ENCODE_cCRE_coverages/Mono/SRR2920475_NOTmerged_scATAC_overlap_ENCODE_cCRE_coverage_6col.bed    </td><td>bed</td></tr>\n",
       "\t<tr><td>Mono_2    </td><td>Mono    </td><td>Mono    </td><td>4983</td><td>control</td><td>/project/scATAC_analysis/10X_PBMC_analysis/AnnotationQuestion/bulk_ATAC_data/GSE74912_Corces2016/GSE74912_Corces2016_ENCODE_v3_processed/Mono/atac/bf31ec47-252c-4e42-bda2-fae4f6dc6cab/call-filter/shard-1/execution/SRR2920476_1.fastq.trim.srt.nodup.no_chrM_MT.bam    </td><td>2</td><td>Mono    </td><td>/project/scATAC_analysis/scATAcat_notebooks_for_paper/jan2024/data/Corces2016_bulk_ATAC/01_ENCODE_cCRE_coverages/Mono/SRR2920476_NOTmerged_scATAC_overlap_ENCODE_cCRE_coverage_6col.bed    </td><td>bed</td></tr>\n",
       "\t<tr><td>Mono_3    </td><td>Mono    </td><td>Mono    </td><td>6792</td><td>control</td><td>/project/scATAC_analysis/10X_PBMC_analysis/AnnotationQuestion/bulk_ATAC_data/GSE74912_Corces2016/GSE74912_Corces2016_ENCODE_v3_processed/Mono/atac/bf31ec47-252c-4e42-bda2-fae4f6dc6cab/call-filter/shard-2/execution/SRR2920487_1.fastq.trim.srt.nodup.no_chrM_MT.bam    </td><td>3</td><td>Mono    </td><td>/project/scATAC_analysis/scATAcat_notebooks_for_paper/jan2024/data/Corces2016_bulk_ATAC/01_ENCODE_cCRE_coverages/Mono/SRR2920487_NOTmerged_scATAC_overlap_ENCODE_cCRE_coverage_6col.bed    </td><td>bed</td></tr>\n",
       "\t<tr><td>Mono_4    </td><td>Mono    </td><td>Mono    </td><td>6792</td><td>control</td><td>/project/scATAC_analysis/10X_PBMC_analysis/AnnotationQuestion/bulk_ATAC_data/GSE74912_Corces2016/GSE74912_Corces2016_ENCODE_v3_processed/Mono/atac/bf31ec47-252c-4e42-bda2-fae4f6dc6cab/call-filter/shard-3/execution/SRR2920488_1.fastq.trim.srt.nodup.no_chrM_MT.bam    </td><td>4</td><td>Mono    </td><td>/project/scATAC_analysis/scATAcat_notebooks_for_paper/jan2024/data/Corces2016_bulk_ATAC/01_ENCODE_cCRE_coverages/Mono/SRR2920488_NOTmerged_scATAC_overlap_ENCODE_cCRE_coverage_6col.bed    </td><td>bed</td></tr>\n",
       "\t<tr><td>Mono_5    </td><td>Mono    </td><td>Mono    </td><td>7256</td><td>control</td><td>/project/scATAC_analysis/10X_PBMC_analysis/AnnotationQuestion/bulk_ATAC_data/GSE74912_Corces2016/GSE74912_Corces2016_ENCODE_v3_processed/Mono/atac/bf31ec47-252c-4e42-bda2-fae4f6dc6cab/call-filter/shard-4/execution/SRR2920542_1.fastq.trim.srt.nodup.no_chrM_MT.bam    </td><td>5</td><td>Mono    </td><td>/project/scATAC_analysis/scATAcat_notebooks_for_paper/jan2024/data/Corces2016_bulk_ATAC/01_ENCODE_cCRE_coverages/Mono/SRR2920542_NOTmerged_scATAC_overlap_ENCODE_cCRE_coverage_6col.bed    </td><td>bed</td></tr>\n",
       "\t<tr><td>Mono_6    </td><td>Mono    </td><td>Mono    </td><td>7256</td><td>control</td><td>/project/scATAC_analysis/10X_PBMC_analysis/AnnotationQuestion/bulk_ATAC_data/GSE74912_Corces2016/GSE74912_Corces2016_ENCODE_v3_processed/Mono/atac/bf31ec47-252c-4e42-bda2-fae4f6dc6cab/call-filter/shard-5/execution/SRR2920543_1.fastq.trim.srt.nodup.no_chrM_MT.bam    </td><td>6</td><td>Mono    </td><td>/project/scATAC_analysis/scATAcat_notebooks_for_paper/jan2024/data/Corces2016_bulk_ATAC/01_ENCODE_cCRE_coverages/Mono/SRR2920543_NOTmerged_scATAC_overlap_ENCODE_cCRE_coverage_6col.bed    </td><td>bed</td></tr>\n",
       "\t<tr><td>NKcell_1  </td><td>NKcell  </td><td>NKcell  </td><td>1022</td><td>control</td><td>/project/scATAC_analysis/10X_PBMC_analysis/AnnotationQuestion/bulk_ATAC_data/GSE74912_Corces2016/GSE74912_Corces2016_ENCODE_v3_processed/NKcell/atac/da919b8b-7e98-43f5-bbc7-c6c14fd50f04/call-filter/shard-0/execution/SRR2920495_1.fastq.trim.srt.nodup.no_chrM_MT.bam  </td><td>1</td><td>NKcell  </td><td>/project/scATAC_analysis/scATAcat_notebooks_for_paper/jan2024/data/Corces2016_bulk_ATAC/01_ENCODE_cCRE_coverages/NKcell/SRR2920495_NOTmerged_scATAC_overlap_ENCODE_cCRE_coverage_6col.bed  </td><td>bed</td></tr>\n",
       "\t<tr><td>NKcell_2  </td><td>NKcell  </td><td>NKcell  </td><td>2596</td><td>control</td><td>/project/scATAC_analysis/10X_PBMC_analysis/AnnotationQuestion/bulk_ATAC_data/GSE74912_Corces2016/GSE74912_Corces2016_ENCODE_v3_processed/NKcell/atac/da919b8b-7e98-43f5-bbc7-c6c14fd50f04/call-filter/shard-1/execution/SRR2920511_1.fastq.trim.srt.nodup.no_chrM_MT.bam  </td><td>2</td><td>NKcell  </td><td>/project/scATAC_analysis/scATAcat_notebooks_for_paper/jan2024/data/Corces2016_bulk_ATAC/01_ENCODE_cCRE_coverages/NKcell/SRR2920511_NOTmerged_scATAC_overlap_ENCODE_cCRE_coverage_6col.bed  </td><td>bed</td></tr>\n",
       "\t<tr><td>NKcell_3  </td><td>NKcell  </td><td>NKcell  </td><td>2596</td><td>control</td><td>/project/scATAC_analysis/10X_PBMC_analysis/AnnotationQuestion/bulk_ATAC_data/GSE74912_Corces2016/GSE74912_Corces2016_ENCODE_v3_processed/NKcell/atac/da919b8b-7e98-43f5-bbc7-c6c14fd50f04/call-filter/shard-2/execution/SRR2920512_1.fastq.trim.srt.nodup.no_chrM_MT.bam  </td><td>3</td><td>NKcell  </td><td>/project/scATAC_analysis/scATAcat_notebooks_for_paper/jan2024/data/Corces2016_bulk_ATAC/01_ENCODE_cCRE_coverages/NKcell/SRR2920512_NOTmerged_scATAC_overlap_ENCODE_cCRE_coverage_6col.bed  </td><td>bed</td></tr>\n",
       "\t<tr><td>NKcell_4  </td><td>NKcell  </td><td>NKcell  </td><td>4983</td><td>control</td><td>/project/scATAC_analysis/10X_PBMC_analysis/AnnotationQuestion/bulk_ATAC_data/GSE74912_Corces2016/GSE74912_Corces2016_ENCODE_v3_processed/NKcell/atac/da919b8b-7e98-43f5-bbc7-c6c14fd50f04/call-filter/shard-3/execution/SRR2920516_1.fastq.trim.srt.nodup.no_chrM_MT.bam  </td><td>4</td><td>NKcell  </td><td>/project/scATAC_analysis/scATAcat_notebooks_for_paper/jan2024/data/Corces2016_bulk_ATAC/01_ENCODE_cCRE_coverages/NKcell/SRR2920516_NOTmerged_scATAC_overlap_ENCODE_cCRE_coverage_6col.bed  </td><td>bed</td></tr>\n",
       "\t<tr><td>NKcell_5  </td><td>NKcell  </td><td>NKcell  </td><td>5483</td><td>control</td><td>/project/scATAC_analysis/10X_PBMC_analysis/AnnotationQuestion/bulk_ATAC_data/GSE74912_Corces2016/GSE74912_Corces2016_ENCODE_v3_processed/NKcell/atac/da919b8b-7e98-43f5-bbc7-c6c14fd50f04/call-filter/shard-4/execution/SRR2920526_1.fastq.trim.srt.nodup.no_chrM_MT.bam  </td><td>5</td><td>NKcell  </td><td>/project/scATAC_analysis/scATAcat_notebooks_for_paper/jan2024/data/Corces2016_bulk_ATAC/01_ENCODE_cCRE_coverages/NKcell/SRR2920526_NOTmerged_scATAC_overlap_ENCODE_cCRE_coverage_6col.bed  </td><td>bed</td></tr>\n",
       "\t<tr><td>NKcell_6  </td><td>NKcell  </td><td>NKcell  </td><td>5483</td><td>control</td><td>/project/scATAC_analysis/10X_PBMC_analysis/AnnotationQuestion/bulk_ATAC_data/GSE74912_Corces2016/GSE74912_Corces2016_ENCODE_v3_processed/NKcell/atac/da919b8b-7e98-43f5-bbc7-c6c14fd50f04/call-filter/shard-5/execution/SRR2920527_1.fastq.trim.srt.nodup.no_chrM_MT.bam  </td><td>6</td><td>NKcell  </td><td>/project/scATAC_analysis/scATAcat_notebooks_for_paper/jan2024/data/Corces2016_bulk_ATAC/01_ENCODE_cCRE_coverages/NKcell/SRR2920527_NOTmerged_scATAC_overlap_ENCODE_cCRE_coverage_6col.bed  </td><td>bed</td></tr>\n",
       "\t<tr><td>pDC_1     </td><td>pDC     </td><td>pDC     </td><td>   1</td><td>control</td><td>/project/scATAC_analysis/Calderon2019_data/bulk_ATAC_GSE118189_prcd_w_ENCODEpipeline/pDCs/atac/5b55dc7f-f49c-495f-8b6d-ea6c8ed108ac/call-filter/shard-0/execution/SRR7650770_1.fastq.trim.srt.nodup.no_chrM_MT.bam                                                        </td><td>1</td><td>pDC     </td><td>/project/scATAC_analysis/scATAcat_notebooks_for_paper/jan2024/data/Corces2016_bulk_ATAC/01_ENCODE_cCRE_coverages/pDC/SRR7650770_NOTmerged_scATAC_overlap_ENCODE_cCRE_coverage_6col.bed     </td><td>bed</td></tr>\n",
       "\t<tr><td>pDC_2     </td><td>pDC     </td><td>pDC     </td><td>   1</td><td>control</td><td>/project/scATAC_analysis/Calderon2019_data/bulk_ATAC_GSE118189_prcd_w_ENCODEpipeline/pDCs/atac/5b55dc7f-f49c-495f-8b6d-ea6c8ed108ac/call-filter/shard-1/execution/SRR7650811_1.fastq.trim.srt.nodup.no_chrM_MT.bam                                                        </td><td>2</td><td>pDC     </td><td>/project/scATAC_analysis/scATAcat_notebooks_for_paper/jan2024/data/Corces2016_bulk_ATAC/01_ENCODE_cCRE_coverages/pDC/SRR7650811_NOTmerged_scATAC_overlap_ENCODE_cCRE_coverage_6col.bed     </td><td>bed</td></tr>\n",
       "\t<tr><td>pDC_3     </td><td>pDC     </td><td>pDC     </td><td>   1</td><td>control</td><td>/project/scATAC_analysis/Calderon2019_data/bulk_ATAC_GSE118189_prcd_w_ENCODEpipeline/pDCs/atac/5b55dc7f-f49c-495f-8b6d-ea6c8ed108ac/call-filter/shard-2/execution/SRR7650916_1.fastq.trim.srt.nodup.no_chrM_MT.bam                                                        </td><td>3</td><td>pDC     </td><td>/project/scATAC_analysis/scATAcat_notebooks_for_paper/jan2024/data/Corces2016_bulk_ATAC/01_ENCODE_cCRE_coverages/pDC/SRR7650916_NOTmerged_scATAC_overlap_ENCODE_cCRE_coverage_6col.bed     </td><td>bed</td></tr>\n",
       "</tbody>\n",
       "</table>\n"
      ],
      "text/latex": [
       "A data.frame: 29 × 10\n",
       "\\begin{tabular}{llllllllll}\n",
       " SampleID & Tissue & Condition & donorID & Treatment & bamReads & Replicate & ControlID & Peaks & PeakCaller\\\\\n",
       " <chr> & <chr> & <chr> & <int> & <chr> & <chr> & <int> & <chr> & <chr> & <chr>\\\\\n",
       "\\hline\n",
       "\t Bcell\\_1    & Bcell    & Bcell    & 1022 & control & /project/scATAC\\_analysis/10X\\_PBMC\\_analysis/AnnotationQuestion/bulk\\_ATAC\\_data/GSE74912\\_Corces2016/GSE74912\\_Corces2016\\_ENCODE\\_v3\\_processed/Bcell/atac/c3305399-347a-4f14-871d-696a4b7bd760/call-filter/shard-0/execution/SRR2920492\\_1.fastq.trim.srt.nodup.no\\_chrM\\_MT.bam    & 1 & Bcell    & /project/scATAC\\_analysis/scATAcat\\_notebooks\\_for\\_paper/jan2024/data/Corces2016\\_bulk\\_ATAC/01\\_ENCODE\\_cCRE\\_coverages/Bcell/SRR2920492\\_NOTmerged\\_scATAC\\_overlap\\_ENCODE\\_cCRE\\_coverage\\_6col.bed    & bed\\\\\n",
       "\t Bcell\\_2    & Bcell    & Bcell    & 4983 & control & /project/scATAC\\_analysis/10X\\_PBMC\\_analysis/AnnotationQuestion/bulk\\_ATAC\\_data/GSE74912\\_Corces2016/GSE74912\\_Corces2016\\_ENCODE\\_v3\\_processed/Bcell/atac/c3305399-347a-4f14-871d-696a4b7bd760/call-filter/shard-1/execution/SRR2920513\\_1.fastq.trim.srt.nodup.no\\_chrM\\_MT.bam    & 2 & Bcell    & /project/scATAC\\_analysis/scATAcat\\_notebooks\\_for\\_paper/jan2024/data/Corces2016\\_bulk\\_ATAC/01\\_ENCODE\\_cCRE\\_coverages/Bcell/SRR2920513\\_NOTmerged\\_scATAC\\_overlap\\_ENCODE\\_cCRE\\_coverage\\_6col.bed    & bed\\\\\n",
       "\t Bcell\\_3    & Bcell    & Bcell    & 5483 & control & /project/scATAC\\_analysis/10X\\_PBMC\\_analysis/AnnotationQuestion/bulk\\_ATAC\\_data/GSE74912\\_Corces2016/GSE74912\\_Corces2016\\_ENCODE\\_v3\\_processed/Bcell/atac/c3305399-347a-4f14-871d-696a4b7bd760/call-filter/shard-2/execution/SRR2920517\\_1.fastq.trim.srt.nodup.no\\_chrM\\_MT.bam    & 3 & Bcell    & /project/scATAC\\_analysis/scATAcat\\_notebooks\\_for\\_paper/jan2024/data/Corces2016\\_bulk\\_ATAC/01\\_ENCODE\\_cCRE\\_coverages/Bcell/SRR2920517\\_NOTmerged\\_scATAC\\_overlap\\_ENCODE\\_cCRE\\_coverage\\_6col.bed    & bed\\\\\n",
       "\t Bcell\\_4    & Bcell    & Bcell    & 5483 & control & /project/scATAC\\_analysis/10X\\_PBMC\\_analysis/AnnotationQuestion/bulk\\_ATAC\\_data/GSE74912\\_Corces2016/GSE74912\\_Corces2016\\_ENCODE\\_v3\\_processed/Bcell/atac/c3305399-347a-4f14-871d-696a4b7bd760/call-filter/shard-3/execution/SRR2920544\\_1.fastq.trim.srt.nodup.no\\_chrM\\_MT.bam    & 4 & Bcell    & /project/scATAC\\_analysis/scATAcat\\_notebooks\\_for\\_paper/jan2024/data/Corces2016\\_bulk\\_ATAC/01\\_ENCODE\\_cCRE\\_coverages/Bcell/SRR2920544\\_NOTmerged\\_scATAC\\_overlap\\_ENCODE\\_cCRE\\_coverage\\_6col.bed    & bed\\\\\n",
       "\t CD4Tcell\\_1 & CD4Tcell & CD4Tcell & 1022 & control & /project/scATAC\\_analysis/10X\\_PBMC\\_analysis/AnnotationQuestion/bulk\\_ATAC\\_data/GSE74912\\_Corces2016/GSE74912\\_Corces2016\\_ENCODE\\_v3\\_processed/CD4Tcell/atac/aaead0dc-374c-4a33-b443-e7bd45c3b3b6/call-filter/shard-0/execution/SRR2920493\\_1.fastq.trim.srt.nodup.no\\_chrM\\_MT.bam & 1 & CD4Tcell & /project/scATAC\\_analysis/scATAcat\\_notebooks\\_for\\_paper/jan2024/data/Corces2016\\_bulk\\_ATAC/01\\_ENCODE\\_cCRE\\_coverages/CD4Tcell/SRR2920493\\_NOTmerged\\_scATAC\\_overlap\\_ENCODE\\_cCRE\\_coverage\\_6col.bed & bed\\\\\n",
       "\t CD4Tcell\\_2 & CD4Tcell & CD4Tcell & 2596 & control & /project/scATAC\\_analysis/10X\\_PBMC\\_analysis/AnnotationQuestion/bulk\\_ATAC\\_data/GSE74912\\_Corces2016/GSE74912\\_Corces2016\\_ENCODE\\_v3\\_processed/CD4Tcell/atac/aaead0dc-374c-4a33-b443-e7bd45c3b3b6/call-filter/shard-1/execution/SRR2920496\\_1.fastq.trim.srt.nodup.no\\_chrM\\_MT.bam & 2 & CD4Tcell & /project/scATAC\\_analysis/scATAcat\\_notebooks\\_for\\_paper/jan2024/data/Corces2016\\_bulk\\_ATAC/01\\_ENCODE\\_cCRE\\_coverages/CD4Tcell/SRR2920496\\_NOTmerged\\_scATAC\\_overlap\\_ENCODE\\_cCRE\\_coverage\\_6col.bed & bed\\\\\n",
       "\t CD4Tcell\\_3 & CD4Tcell & CD4Tcell & 4983 & control & /project/scATAC\\_analysis/10X\\_PBMC\\_analysis/AnnotationQuestion/bulk\\_ATAC\\_data/GSE74912\\_Corces2016/GSE74912\\_Corces2016\\_ENCODE\\_v3\\_processed/CD4Tcell/atac/aaead0dc-374c-4a33-b443-e7bd45c3b3b6/call-filter/shard-2/execution/SRR2920514\\_1.fastq.trim.srt.nodup.no\\_chrM\\_MT.bam & 3 & CD4Tcell & /project/scATAC\\_analysis/scATAcat\\_notebooks\\_for\\_paper/jan2024/data/Corces2016\\_bulk\\_ATAC/01\\_ENCODE\\_cCRE\\_coverages/CD4Tcell/SRR2920514\\_NOTmerged\\_scATAC\\_overlap\\_ENCODE\\_cCRE\\_coverage\\_6col.bed & bed\\\\\n",
       "\t CD4Tcell\\_4 & CD4Tcell & CD4Tcell & 5483 & control & /project/scATAC\\_analysis/10X\\_PBMC\\_analysis/AnnotationQuestion/bulk\\_ATAC\\_data/GSE74912\\_Corces2016/GSE74912\\_Corces2016\\_ENCODE\\_v3\\_processed/CD4Tcell/atac/aaead0dc-374c-4a33-b443-e7bd45c3b3b6/call-filter/shard-3/execution/SRR2920518\\_1.fastq.trim.srt.nodup.no\\_chrM\\_MT.bam & 4 & CD4Tcell & /project/scATAC\\_analysis/scATAcat\\_notebooks\\_for\\_paper/jan2024/data/Corces2016\\_bulk\\_ATAC/01\\_ENCODE\\_cCRE\\_coverages/CD4Tcell/SRR2920518\\_NOTmerged\\_scATAC\\_overlap\\_ENCODE\\_cCRE\\_coverage\\_6col.bed & bed\\\\\n",
       "\t CD4Tcell\\_5 & CD4Tcell & CD4Tcell & 5483 & control & /project/scATAC\\_analysis/10X\\_PBMC\\_analysis/AnnotationQuestion/bulk\\_ATAC\\_data/GSE74912\\_Corces2016/GSE74912\\_Corces2016\\_ENCODE\\_v3\\_processed/CD4Tcell/atac/aaead0dc-374c-4a33-b443-e7bd45c3b3b6/call-filter/shard-4/execution/SRR2920519\\_1.fastq.trim.srt.nodup.no\\_chrM\\_MT.bam & 5 & CD4Tcell & /project/scATAC\\_analysis/scATAcat\\_notebooks\\_for\\_paper/jan2024/data/Corces2016\\_bulk\\_ATAC/01\\_ENCODE\\_cCRE\\_coverages/CD4Tcell/SRR2920519\\_NOTmerged\\_scATAC\\_overlap\\_ENCODE\\_cCRE\\_coverage\\_6col.bed & bed\\\\\n",
       "\t CD8Tcell\\_1 & CD8Tcell & CD8Tcell & 1022 & control & /project/scATAC\\_analysis/10X\\_PBMC\\_analysis/AnnotationQuestion/bulk\\_ATAC\\_data/GSE74912\\_Corces2016/GSE74912\\_Corces2016\\_ENCODE\\_v3\\_processed/CD8Tcell/atac/a60a2fd4-712c-4bac-95a9-ccf5a2bd53e5/call-filter/shard-0/execution/SRR2920494\\_1.fastq.trim.srt.nodup.no\\_chrM\\_MT.bam & 1 & CD8Tcell & /project/scATAC\\_analysis/scATAcat\\_notebooks\\_for\\_paper/jan2024/data/Corces2016\\_bulk\\_ATAC/01\\_ENCODE\\_cCRE\\_coverages/CD8Tcell/SRR2920494\\_NOTmerged\\_scATAC\\_overlap\\_ENCODE\\_cCRE\\_coverage\\_6col.bed & bed\\\\\n",
       "\t CD8Tcell\\_2 & CD8Tcell & CD8Tcell & 2596 & control & /project/scATAC\\_analysis/10X\\_PBMC\\_analysis/AnnotationQuestion/bulk\\_ATAC\\_data/GSE74912\\_Corces2016/GSE74912\\_Corces2016\\_ENCODE\\_v3\\_processed/CD8Tcell/atac/a60a2fd4-712c-4bac-95a9-ccf5a2bd53e5/call-filter/shard-1/execution/SRR2920497\\_1.fastq.trim.srt.nodup.no\\_chrM\\_MT.bam & 2 & CD8Tcell & /project/scATAC\\_analysis/scATAcat\\_notebooks\\_for\\_paper/jan2024/data/Corces2016\\_bulk\\_ATAC/01\\_ENCODE\\_cCRE\\_coverages/CD8Tcell/SRR2920497\\_NOTmerged\\_scATAC\\_overlap\\_ENCODE\\_cCRE\\_coverage\\_6col.bed & bed\\\\\n",
       "\t CD8Tcell\\_3 & CD8Tcell & CD8Tcell & 4983 & control & /project/scATAC\\_analysis/10X\\_PBMC\\_analysis/AnnotationQuestion/bulk\\_ATAC\\_data/GSE74912\\_Corces2016/GSE74912\\_Corces2016\\_ENCODE\\_v3\\_processed/CD8Tcell/atac/a60a2fd4-712c-4bac-95a9-ccf5a2bd53e5/call-filter/shard-2/execution/SRR2920515\\_1.fastq.trim.srt.nodup.no\\_chrM\\_MT.bam & 3 & CD8Tcell & /project/scATAC\\_analysis/scATAcat\\_notebooks\\_for\\_paper/jan2024/data/Corces2016\\_bulk\\_ATAC/01\\_ENCODE\\_cCRE\\_coverages/CD8Tcell/SRR2920515\\_NOTmerged\\_scATAC\\_overlap\\_ENCODE\\_cCRE\\_coverage\\_6col.bed & bed\\\\\n",
       "\t CD8Tcell\\_4 & CD8Tcell & CD8Tcell & 5483 & control & /project/scATAC\\_analysis/10X\\_PBMC\\_analysis/AnnotationQuestion/bulk\\_ATAC\\_data/GSE74912\\_Corces2016/GSE74912\\_Corces2016\\_ENCODE\\_v3\\_processed/CD8Tcell/atac/a60a2fd4-712c-4bac-95a9-ccf5a2bd53e5/call-filter/shard-3/execution/SRR2920520\\_1.fastq.trim.srt.nodup.no\\_chrM\\_MT.bam & 4 & CD8Tcell & /project/scATAC\\_analysis/scATAcat\\_notebooks\\_for\\_paper/jan2024/data/Corces2016\\_bulk\\_ATAC/01\\_ENCODE\\_cCRE\\_coverages/CD8Tcell/SRR2920520\\_NOTmerged\\_scATAC\\_overlap\\_ENCODE\\_cCRE\\_coverage\\_6col.bed & bed\\\\\n",
       "\t CD8Tcell\\_5 & CD8Tcell & CD8Tcell & 5483 & control & /project/scATAC\\_analysis/10X\\_PBMC\\_analysis/AnnotationQuestion/bulk\\_ATAC\\_data/GSE74912\\_Corces2016/GSE74912\\_Corces2016\\_ENCODE\\_v3\\_processed/CD8Tcell/atac/a60a2fd4-712c-4bac-95a9-ccf5a2bd53e5/call-filter/shard-4/execution/SRR2920521\\_1.fastq.trim.srt.nodup.no\\_chrM\\_MT.bam & 5 & CD8Tcell & /project/scATAC\\_analysis/scATAcat\\_notebooks\\_for\\_paper/jan2024/data/Corces2016\\_bulk\\_ATAC/01\\_ENCODE\\_cCRE\\_coverages/CD8Tcell/SRR2920521\\_NOTmerged\\_scATAC\\_overlap\\_ENCODE\\_cCRE\\_coverage\\_6col.bed & bed\\\\\n",
       "\t Mono\\_1     & Mono     & Mono     & 4983 & control & /project/scATAC\\_analysis/10X\\_PBMC\\_analysis/AnnotationQuestion/bulk\\_ATAC\\_data/GSE74912\\_Corces2016/GSE74912\\_Corces2016\\_ENCODE\\_v3\\_processed/Mono/atac/bf31ec47-252c-4e42-bda2-fae4f6dc6cab/call-filter/shard-0/execution/SRR2920475\\_1.fastq.trim.srt.nodup.no\\_chrM\\_MT.bam     & 1 & Mono     & /project/scATAC\\_analysis/scATAcat\\_notebooks\\_for\\_paper/jan2024/data/Corces2016\\_bulk\\_ATAC/01\\_ENCODE\\_cCRE\\_coverages/Mono/SRR2920475\\_NOTmerged\\_scATAC\\_overlap\\_ENCODE\\_cCRE\\_coverage\\_6col.bed     & bed\\\\\n",
       "\t Mono\\_2     & Mono     & Mono     & 4983 & control & /project/scATAC\\_analysis/10X\\_PBMC\\_analysis/AnnotationQuestion/bulk\\_ATAC\\_data/GSE74912\\_Corces2016/GSE74912\\_Corces2016\\_ENCODE\\_v3\\_processed/Mono/atac/bf31ec47-252c-4e42-bda2-fae4f6dc6cab/call-filter/shard-1/execution/SRR2920476\\_1.fastq.trim.srt.nodup.no\\_chrM\\_MT.bam     & 2 & Mono     & /project/scATAC\\_analysis/scATAcat\\_notebooks\\_for\\_paper/jan2024/data/Corces2016\\_bulk\\_ATAC/01\\_ENCODE\\_cCRE\\_coverages/Mono/SRR2920476\\_NOTmerged\\_scATAC\\_overlap\\_ENCODE\\_cCRE\\_coverage\\_6col.bed     & bed\\\\\n",
       "\t Mono\\_3     & Mono     & Mono     & 6792 & control & /project/scATAC\\_analysis/10X\\_PBMC\\_analysis/AnnotationQuestion/bulk\\_ATAC\\_data/GSE74912\\_Corces2016/GSE74912\\_Corces2016\\_ENCODE\\_v3\\_processed/Mono/atac/bf31ec47-252c-4e42-bda2-fae4f6dc6cab/call-filter/shard-2/execution/SRR2920487\\_1.fastq.trim.srt.nodup.no\\_chrM\\_MT.bam     & 3 & Mono     & /project/scATAC\\_analysis/scATAcat\\_notebooks\\_for\\_paper/jan2024/data/Corces2016\\_bulk\\_ATAC/01\\_ENCODE\\_cCRE\\_coverages/Mono/SRR2920487\\_NOTmerged\\_scATAC\\_overlap\\_ENCODE\\_cCRE\\_coverage\\_6col.bed     & bed\\\\\n",
       "\t Mono\\_4     & Mono     & Mono     & 6792 & control & /project/scATAC\\_analysis/10X\\_PBMC\\_analysis/AnnotationQuestion/bulk\\_ATAC\\_data/GSE74912\\_Corces2016/GSE74912\\_Corces2016\\_ENCODE\\_v3\\_processed/Mono/atac/bf31ec47-252c-4e42-bda2-fae4f6dc6cab/call-filter/shard-3/execution/SRR2920488\\_1.fastq.trim.srt.nodup.no\\_chrM\\_MT.bam     & 4 & Mono     & /project/scATAC\\_analysis/scATAcat\\_notebooks\\_for\\_paper/jan2024/data/Corces2016\\_bulk\\_ATAC/01\\_ENCODE\\_cCRE\\_coverages/Mono/SRR2920488\\_NOTmerged\\_scATAC\\_overlap\\_ENCODE\\_cCRE\\_coverage\\_6col.bed     & bed\\\\\n",
       "\t Mono\\_5     & Mono     & Mono     & 7256 & control & /project/scATAC\\_analysis/10X\\_PBMC\\_analysis/AnnotationQuestion/bulk\\_ATAC\\_data/GSE74912\\_Corces2016/GSE74912\\_Corces2016\\_ENCODE\\_v3\\_processed/Mono/atac/bf31ec47-252c-4e42-bda2-fae4f6dc6cab/call-filter/shard-4/execution/SRR2920542\\_1.fastq.trim.srt.nodup.no\\_chrM\\_MT.bam     & 5 & Mono     & /project/scATAC\\_analysis/scATAcat\\_notebooks\\_for\\_paper/jan2024/data/Corces2016\\_bulk\\_ATAC/01\\_ENCODE\\_cCRE\\_coverages/Mono/SRR2920542\\_NOTmerged\\_scATAC\\_overlap\\_ENCODE\\_cCRE\\_coverage\\_6col.bed     & bed\\\\\n",
       "\t Mono\\_6     & Mono     & Mono     & 7256 & control & /project/scATAC\\_analysis/10X\\_PBMC\\_analysis/AnnotationQuestion/bulk\\_ATAC\\_data/GSE74912\\_Corces2016/GSE74912\\_Corces2016\\_ENCODE\\_v3\\_processed/Mono/atac/bf31ec47-252c-4e42-bda2-fae4f6dc6cab/call-filter/shard-5/execution/SRR2920543\\_1.fastq.trim.srt.nodup.no\\_chrM\\_MT.bam     & 6 & Mono     & /project/scATAC\\_analysis/scATAcat\\_notebooks\\_for\\_paper/jan2024/data/Corces2016\\_bulk\\_ATAC/01\\_ENCODE\\_cCRE\\_coverages/Mono/SRR2920543\\_NOTmerged\\_scATAC\\_overlap\\_ENCODE\\_cCRE\\_coverage\\_6col.bed     & bed\\\\\n",
       "\t NKcell\\_1   & NKcell   & NKcell   & 1022 & control & /project/scATAC\\_analysis/10X\\_PBMC\\_analysis/AnnotationQuestion/bulk\\_ATAC\\_data/GSE74912\\_Corces2016/GSE74912\\_Corces2016\\_ENCODE\\_v3\\_processed/NKcell/atac/da919b8b-7e98-43f5-bbc7-c6c14fd50f04/call-filter/shard-0/execution/SRR2920495\\_1.fastq.trim.srt.nodup.no\\_chrM\\_MT.bam   & 1 & NKcell   & /project/scATAC\\_analysis/scATAcat\\_notebooks\\_for\\_paper/jan2024/data/Corces2016\\_bulk\\_ATAC/01\\_ENCODE\\_cCRE\\_coverages/NKcell/SRR2920495\\_NOTmerged\\_scATAC\\_overlap\\_ENCODE\\_cCRE\\_coverage\\_6col.bed   & bed\\\\\n",
       "\t NKcell\\_2   & NKcell   & NKcell   & 2596 & control & /project/scATAC\\_analysis/10X\\_PBMC\\_analysis/AnnotationQuestion/bulk\\_ATAC\\_data/GSE74912\\_Corces2016/GSE74912\\_Corces2016\\_ENCODE\\_v3\\_processed/NKcell/atac/da919b8b-7e98-43f5-bbc7-c6c14fd50f04/call-filter/shard-1/execution/SRR2920511\\_1.fastq.trim.srt.nodup.no\\_chrM\\_MT.bam   & 2 & NKcell   & /project/scATAC\\_analysis/scATAcat\\_notebooks\\_for\\_paper/jan2024/data/Corces2016\\_bulk\\_ATAC/01\\_ENCODE\\_cCRE\\_coverages/NKcell/SRR2920511\\_NOTmerged\\_scATAC\\_overlap\\_ENCODE\\_cCRE\\_coverage\\_6col.bed   & bed\\\\\n",
       "\t NKcell\\_3   & NKcell   & NKcell   & 2596 & control & /project/scATAC\\_analysis/10X\\_PBMC\\_analysis/AnnotationQuestion/bulk\\_ATAC\\_data/GSE74912\\_Corces2016/GSE74912\\_Corces2016\\_ENCODE\\_v3\\_processed/NKcell/atac/da919b8b-7e98-43f5-bbc7-c6c14fd50f04/call-filter/shard-2/execution/SRR2920512\\_1.fastq.trim.srt.nodup.no\\_chrM\\_MT.bam   & 3 & NKcell   & /project/scATAC\\_analysis/scATAcat\\_notebooks\\_for\\_paper/jan2024/data/Corces2016\\_bulk\\_ATAC/01\\_ENCODE\\_cCRE\\_coverages/NKcell/SRR2920512\\_NOTmerged\\_scATAC\\_overlap\\_ENCODE\\_cCRE\\_coverage\\_6col.bed   & bed\\\\\n",
       "\t NKcell\\_4   & NKcell   & NKcell   & 4983 & control & /project/scATAC\\_analysis/10X\\_PBMC\\_analysis/AnnotationQuestion/bulk\\_ATAC\\_data/GSE74912\\_Corces2016/GSE74912\\_Corces2016\\_ENCODE\\_v3\\_processed/NKcell/atac/da919b8b-7e98-43f5-bbc7-c6c14fd50f04/call-filter/shard-3/execution/SRR2920516\\_1.fastq.trim.srt.nodup.no\\_chrM\\_MT.bam   & 4 & NKcell   & /project/scATAC\\_analysis/scATAcat\\_notebooks\\_for\\_paper/jan2024/data/Corces2016\\_bulk\\_ATAC/01\\_ENCODE\\_cCRE\\_coverages/NKcell/SRR2920516\\_NOTmerged\\_scATAC\\_overlap\\_ENCODE\\_cCRE\\_coverage\\_6col.bed   & bed\\\\\n",
       "\t NKcell\\_5   & NKcell   & NKcell   & 5483 & control & /project/scATAC\\_analysis/10X\\_PBMC\\_analysis/AnnotationQuestion/bulk\\_ATAC\\_data/GSE74912\\_Corces2016/GSE74912\\_Corces2016\\_ENCODE\\_v3\\_processed/NKcell/atac/da919b8b-7e98-43f5-bbc7-c6c14fd50f04/call-filter/shard-4/execution/SRR2920526\\_1.fastq.trim.srt.nodup.no\\_chrM\\_MT.bam   & 5 & NKcell   & /project/scATAC\\_analysis/scATAcat\\_notebooks\\_for\\_paper/jan2024/data/Corces2016\\_bulk\\_ATAC/01\\_ENCODE\\_cCRE\\_coverages/NKcell/SRR2920526\\_NOTmerged\\_scATAC\\_overlap\\_ENCODE\\_cCRE\\_coverage\\_6col.bed   & bed\\\\\n",
       "\t NKcell\\_6   & NKcell   & NKcell   & 5483 & control & /project/scATAC\\_analysis/10X\\_PBMC\\_analysis/AnnotationQuestion/bulk\\_ATAC\\_data/GSE74912\\_Corces2016/GSE74912\\_Corces2016\\_ENCODE\\_v3\\_processed/NKcell/atac/da919b8b-7e98-43f5-bbc7-c6c14fd50f04/call-filter/shard-5/execution/SRR2920527\\_1.fastq.trim.srt.nodup.no\\_chrM\\_MT.bam   & 6 & NKcell   & /project/scATAC\\_analysis/scATAcat\\_notebooks\\_for\\_paper/jan2024/data/Corces2016\\_bulk\\_ATAC/01\\_ENCODE\\_cCRE\\_coverages/NKcell/SRR2920527\\_NOTmerged\\_scATAC\\_overlap\\_ENCODE\\_cCRE\\_coverage\\_6col.bed   & bed\\\\\n",
       "\t pDC\\_1      & pDC      & pDC      &    1 & control & /project/scATAC\\_analysis/Calderon2019\\_data/bulk\\_ATAC\\_GSE118189\\_prcd\\_w\\_ENCODEpipeline/pDCs/atac/5b55dc7f-f49c-495f-8b6d-ea6c8ed108ac/call-filter/shard-0/execution/SRR7650770\\_1.fastq.trim.srt.nodup.no\\_chrM\\_MT.bam                                                         & 1 & pDC      & /project/scATAC\\_analysis/scATAcat\\_notebooks\\_for\\_paper/jan2024/data/Corces2016\\_bulk\\_ATAC/01\\_ENCODE\\_cCRE\\_coverages/pDC/SRR7650770\\_NOTmerged\\_scATAC\\_overlap\\_ENCODE\\_cCRE\\_coverage\\_6col.bed      & bed\\\\\n",
       "\t pDC\\_2      & pDC      & pDC      &    1 & control & /project/scATAC\\_analysis/Calderon2019\\_data/bulk\\_ATAC\\_GSE118189\\_prcd\\_w\\_ENCODEpipeline/pDCs/atac/5b55dc7f-f49c-495f-8b6d-ea6c8ed108ac/call-filter/shard-1/execution/SRR7650811\\_1.fastq.trim.srt.nodup.no\\_chrM\\_MT.bam                                                         & 2 & pDC      & /project/scATAC\\_analysis/scATAcat\\_notebooks\\_for\\_paper/jan2024/data/Corces2016\\_bulk\\_ATAC/01\\_ENCODE\\_cCRE\\_coverages/pDC/SRR7650811\\_NOTmerged\\_scATAC\\_overlap\\_ENCODE\\_cCRE\\_coverage\\_6col.bed      & bed\\\\\n",
       "\t pDC\\_3      & pDC      & pDC      &    1 & control & /project/scATAC\\_analysis/Calderon2019\\_data/bulk\\_ATAC\\_GSE118189\\_prcd\\_w\\_ENCODEpipeline/pDCs/atac/5b55dc7f-f49c-495f-8b6d-ea6c8ed108ac/call-filter/shard-2/execution/SRR7650916\\_1.fastq.trim.srt.nodup.no\\_chrM\\_MT.bam                                                         & 3 & pDC      & /project/scATAC\\_analysis/scATAcat\\_notebooks\\_for\\_paper/jan2024/data/Corces2016\\_bulk\\_ATAC/01\\_ENCODE\\_cCRE\\_coverages/pDC/SRR7650916\\_NOTmerged\\_scATAC\\_overlap\\_ENCODE\\_cCRE\\_coverage\\_6col.bed      & bed\\\\\n",
       "\\end{tabular}\n"
      ],
      "text/markdown": [
       "\n",
       "A data.frame: 29 × 10\n",
       "\n",
       "| SampleID &lt;chr&gt; | Tissue &lt;chr&gt; | Condition &lt;chr&gt; | donorID &lt;int&gt; | Treatment &lt;chr&gt; | bamReads &lt;chr&gt; | Replicate &lt;int&gt; | ControlID &lt;chr&gt; | Peaks &lt;chr&gt; | PeakCaller &lt;chr&gt; |\n",
       "|---|---|---|---|---|---|---|---|---|---|\n",
       "| Bcell_1    | Bcell    | Bcell    | 1022 | control | /project/scATAC_analysis/10X_PBMC_analysis/AnnotationQuestion/bulk_ATAC_data/GSE74912_Corces2016/GSE74912_Corces2016_ENCODE_v3_processed/Bcell/atac/c3305399-347a-4f14-871d-696a4b7bd760/call-filter/shard-0/execution/SRR2920492_1.fastq.trim.srt.nodup.no_chrM_MT.bam    | 1 | Bcell    | /project/scATAC_analysis/scATAcat_notebooks_for_paper/jan2024/data/Corces2016_bulk_ATAC/01_ENCODE_cCRE_coverages/Bcell/SRR2920492_NOTmerged_scATAC_overlap_ENCODE_cCRE_coverage_6col.bed    | bed |\n",
       "| Bcell_2    | Bcell    | Bcell    | 4983 | control | /project/scATAC_analysis/10X_PBMC_analysis/AnnotationQuestion/bulk_ATAC_data/GSE74912_Corces2016/GSE74912_Corces2016_ENCODE_v3_processed/Bcell/atac/c3305399-347a-4f14-871d-696a4b7bd760/call-filter/shard-1/execution/SRR2920513_1.fastq.trim.srt.nodup.no_chrM_MT.bam    | 2 | Bcell    | /project/scATAC_analysis/scATAcat_notebooks_for_paper/jan2024/data/Corces2016_bulk_ATAC/01_ENCODE_cCRE_coverages/Bcell/SRR2920513_NOTmerged_scATAC_overlap_ENCODE_cCRE_coverage_6col.bed    | bed |\n",
       "| Bcell_3    | Bcell    | Bcell    | 5483 | control | /project/scATAC_analysis/10X_PBMC_analysis/AnnotationQuestion/bulk_ATAC_data/GSE74912_Corces2016/GSE74912_Corces2016_ENCODE_v3_processed/Bcell/atac/c3305399-347a-4f14-871d-696a4b7bd760/call-filter/shard-2/execution/SRR2920517_1.fastq.trim.srt.nodup.no_chrM_MT.bam    | 3 | Bcell    | /project/scATAC_analysis/scATAcat_notebooks_for_paper/jan2024/data/Corces2016_bulk_ATAC/01_ENCODE_cCRE_coverages/Bcell/SRR2920517_NOTmerged_scATAC_overlap_ENCODE_cCRE_coverage_6col.bed    | bed |\n",
       "| Bcell_4    | Bcell    | Bcell    | 5483 | control | /project/scATAC_analysis/10X_PBMC_analysis/AnnotationQuestion/bulk_ATAC_data/GSE74912_Corces2016/GSE74912_Corces2016_ENCODE_v3_processed/Bcell/atac/c3305399-347a-4f14-871d-696a4b7bd760/call-filter/shard-3/execution/SRR2920544_1.fastq.trim.srt.nodup.no_chrM_MT.bam    | 4 | Bcell    | /project/scATAC_analysis/scATAcat_notebooks_for_paper/jan2024/data/Corces2016_bulk_ATAC/01_ENCODE_cCRE_coverages/Bcell/SRR2920544_NOTmerged_scATAC_overlap_ENCODE_cCRE_coverage_6col.bed    | bed |\n",
       "| CD4Tcell_1 | CD4Tcell | CD4Tcell | 1022 | control | /project/scATAC_analysis/10X_PBMC_analysis/AnnotationQuestion/bulk_ATAC_data/GSE74912_Corces2016/GSE74912_Corces2016_ENCODE_v3_processed/CD4Tcell/atac/aaead0dc-374c-4a33-b443-e7bd45c3b3b6/call-filter/shard-0/execution/SRR2920493_1.fastq.trim.srt.nodup.no_chrM_MT.bam | 1 | CD4Tcell | /project/scATAC_analysis/scATAcat_notebooks_for_paper/jan2024/data/Corces2016_bulk_ATAC/01_ENCODE_cCRE_coverages/CD4Tcell/SRR2920493_NOTmerged_scATAC_overlap_ENCODE_cCRE_coverage_6col.bed | bed |\n",
       "| CD4Tcell_2 | CD4Tcell | CD4Tcell | 2596 | control | /project/scATAC_analysis/10X_PBMC_analysis/AnnotationQuestion/bulk_ATAC_data/GSE74912_Corces2016/GSE74912_Corces2016_ENCODE_v3_processed/CD4Tcell/atac/aaead0dc-374c-4a33-b443-e7bd45c3b3b6/call-filter/shard-1/execution/SRR2920496_1.fastq.trim.srt.nodup.no_chrM_MT.bam | 2 | CD4Tcell | /project/scATAC_analysis/scATAcat_notebooks_for_paper/jan2024/data/Corces2016_bulk_ATAC/01_ENCODE_cCRE_coverages/CD4Tcell/SRR2920496_NOTmerged_scATAC_overlap_ENCODE_cCRE_coverage_6col.bed | bed |\n",
       "| CD4Tcell_3 | CD4Tcell | CD4Tcell | 4983 | control | /project/scATAC_analysis/10X_PBMC_analysis/AnnotationQuestion/bulk_ATAC_data/GSE74912_Corces2016/GSE74912_Corces2016_ENCODE_v3_processed/CD4Tcell/atac/aaead0dc-374c-4a33-b443-e7bd45c3b3b6/call-filter/shard-2/execution/SRR2920514_1.fastq.trim.srt.nodup.no_chrM_MT.bam | 3 | CD4Tcell | /project/scATAC_analysis/scATAcat_notebooks_for_paper/jan2024/data/Corces2016_bulk_ATAC/01_ENCODE_cCRE_coverages/CD4Tcell/SRR2920514_NOTmerged_scATAC_overlap_ENCODE_cCRE_coverage_6col.bed | bed |\n",
       "| CD4Tcell_4 | CD4Tcell | CD4Tcell | 5483 | control | /project/scATAC_analysis/10X_PBMC_analysis/AnnotationQuestion/bulk_ATAC_data/GSE74912_Corces2016/GSE74912_Corces2016_ENCODE_v3_processed/CD4Tcell/atac/aaead0dc-374c-4a33-b443-e7bd45c3b3b6/call-filter/shard-3/execution/SRR2920518_1.fastq.trim.srt.nodup.no_chrM_MT.bam | 4 | CD4Tcell | /project/scATAC_analysis/scATAcat_notebooks_for_paper/jan2024/data/Corces2016_bulk_ATAC/01_ENCODE_cCRE_coverages/CD4Tcell/SRR2920518_NOTmerged_scATAC_overlap_ENCODE_cCRE_coverage_6col.bed | bed |\n",
       "| CD4Tcell_5 | CD4Tcell | CD4Tcell | 5483 | control | /project/scATAC_analysis/10X_PBMC_analysis/AnnotationQuestion/bulk_ATAC_data/GSE74912_Corces2016/GSE74912_Corces2016_ENCODE_v3_processed/CD4Tcell/atac/aaead0dc-374c-4a33-b443-e7bd45c3b3b6/call-filter/shard-4/execution/SRR2920519_1.fastq.trim.srt.nodup.no_chrM_MT.bam | 5 | CD4Tcell | /project/scATAC_analysis/scATAcat_notebooks_for_paper/jan2024/data/Corces2016_bulk_ATAC/01_ENCODE_cCRE_coverages/CD4Tcell/SRR2920519_NOTmerged_scATAC_overlap_ENCODE_cCRE_coverage_6col.bed | bed |\n",
       "| CD8Tcell_1 | CD8Tcell | CD8Tcell | 1022 | control | /project/scATAC_analysis/10X_PBMC_analysis/AnnotationQuestion/bulk_ATAC_data/GSE74912_Corces2016/GSE74912_Corces2016_ENCODE_v3_processed/CD8Tcell/atac/a60a2fd4-712c-4bac-95a9-ccf5a2bd53e5/call-filter/shard-0/execution/SRR2920494_1.fastq.trim.srt.nodup.no_chrM_MT.bam | 1 | CD8Tcell | /project/scATAC_analysis/scATAcat_notebooks_for_paper/jan2024/data/Corces2016_bulk_ATAC/01_ENCODE_cCRE_coverages/CD8Tcell/SRR2920494_NOTmerged_scATAC_overlap_ENCODE_cCRE_coverage_6col.bed | bed |\n",
       "| CD8Tcell_2 | CD8Tcell | CD8Tcell | 2596 | control | /project/scATAC_analysis/10X_PBMC_analysis/AnnotationQuestion/bulk_ATAC_data/GSE74912_Corces2016/GSE74912_Corces2016_ENCODE_v3_processed/CD8Tcell/atac/a60a2fd4-712c-4bac-95a9-ccf5a2bd53e5/call-filter/shard-1/execution/SRR2920497_1.fastq.trim.srt.nodup.no_chrM_MT.bam | 2 | CD8Tcell | /project/scATAC_analysis/scATAcat_notebooks_for_paper/jan2024/data/Corces2016_bulk_ATAC/01_ENCODE_cCRE_coverages/CD8Tcell/SRR2920497_NOTmerged_scATAC_overlap_ENCODE_cCRE_coverage_6col.bed | bed |\n",
       "| CD8Tcell_3 | CD8Tcell | CD8Tcell | 4983 | control | /project/scATAC_analysis/10X_PBMC_analysis/AnnotationQuestion/bulk_ATAC_data/GSE74912_Corces2016/GSE74912_Corces2016_ENCODE_v3_processed/CD8Tcell/atac/a60a2fd4-712c-4bac-95a9-ccf5a2bd53e5/call-filter/shard-2/execution/SRR2920515_1.fastq.trim.srt.nodup.no_chrM_MT.bam | 3 | CD8Tcell | /project/scATAC_analysis/scATAcat_notebooks_for_paper/jan2024/data/Corces2016_bulk_ATAC/01_ENCODE_cCRE_coverages/CD8Tcell/SRR2920515_NOTmerged_scATAC_overlap_ENCODE_cCRE_coverage_6col.bed | bed |\n",
       "| CD8Tcell_4 | CD8Tcell | CD8Tcell | 5483 | control | /project/scATAC_analysis/10X_PBMC_analysis/AnnotationQuestion/bulk_ATAC_data/GSE74912_Corces2016/GSE74912_Corces2016_ENCODE_v3_processed/CD8Tcell/atac/a60a2fd4-712c-4bac-95a9-ccf5a2bd53e5/call-filter/shard-3/execution/SRR2920520_1.fastq.trim.srt.nodup.no_chrM_MT.bam | 4 | CD8Tcell | /project/scATAC_analysis/scATAcat_notebooks_for_paper/jan2024/data/Corces2016_bulk_ATAC/01_ENCODE_cCRE_coverages/CD8Tcell/SRR2920520_NOTmerged_scATAC_overlap_ENCODE_cCRE_coverage_6col.bed | bed |\n",
       "| CD8Tcell_5 | CD8Tcell | CD8Tcell | 5483 | control | /project/scATAC_analysis/10X_PBMC_analysis/AnnotationQuestion/bulk_ATAC_data/GSE74912_Corces2016/GSE74912_Corces2016_ENCODE_v3_processed/CD8Tcell/atac/a60a2fd4-712c-4bac-95a9-ccf5a2bd53e5/call-filter/shard-4/execution/SRR2920521_1.fastq.trim.srt.nodup.no_chrM_MT.bam | 5 | CD8Tcell | /project/scATAC_analysis/scATAcat_notebooks_for_paper/jan2024/data/Corces2016_bulk_ATAC/01_ENCODE_cCRE_coverages/CD8Tcell/SRR2920521_NOTmerged_scATAC_overlap_ENCODE_cCRE_coverage_6col.bed | bed |\n",
       "| Mono_1     | Mono     | Mono     | 4983 | control | /project/scATAC_analysis/10X_PBMC_analysis/AnnotationQuestion/bulk_ATAC_data/GSE74912_Corces2016/GSE74912_Corces2016_ENCODE_v3_processed/Mono/atac/bf31ec47-252c-4e42-bda2-fae4f6dc6cab/call-filter/shard-0/execution/SRR2920475_1.fastq.trim.srt.nodup.no_chrM_MT.bam     | 1 | Mono     | /project/scATAC_analysis/scATAcat_notebooks_for_paper/jan2024/data/Corces2016_bulk_ATAC/01_ENCODE_cCRE_coverages/Mono/SRR2920475_NOTmerged_scATAC_overlap_ENCODE_cCRE_coverage_6col.bed     | bed |\n",
       "| Mono_2     | Mono     | Mono     | 4983 | control | /project/scATAC_analysis/10X_PBMC_analysis/AnnotationQuestion/bulk_ATAC_data/GSE74912_Corces2016/GSE74912_Corces2016_ENCODE_v3_processed/Mono/atac/bf31ec47-252c-4e42-bda2-fae4f6dc6cab/call-filter/shard-1/execution/SRR2920476_1.fastq.trim.srt.nodup.no_chrM_MT.bam     | 2 | Mono     | /project/scATAC_analysis/scATAcat_notebooks_for_paper/jan2024/data/Corces2016_bulk_ATAC/01_ENCODE_cCRE_coverages/Mono/SRR2920476_NOTmerged_scATAC_overlap_ENCODE_cCRE_coverage_6col.bed     | bed |\n",
       "| Mono_3     | Mono     | Mono     | 6792 | control | /project/scATAC_analysis/10X_PBMC_analysis/AnnotationQuestion/bulk_ATAC_data/GSE74912_Corces2016/GSE74912_Corces2016_ENCODE_v3_processed/Mono/atac/bf31ec47-252c-4e42-bda2-fae4f6dc6cab/call-filter/shard-2/execution/SRR2920487_1.fastq.trim.srt.nodup.no_chrM_MT.bam     | 3 | Mono     | /project/scATAC_analysis/scATAcat_notebooks_for_paper/jan2024/data/Corces2016_bulk_ATAC/01_ENCODE_cCRE_coverages/Mono/SRR2920487_NOTmerged_scATAC_overlap_ENCODE_cCRE_coverage_6col.bed     | bed |\n",
       "| Mono_4     | Mono     | Mono     | 6792 | control | /project/scATAC_analysis/10X_PBMC_analysis/AnnotationQuestion/bulk_ATAC_data/GSE74912_Corces2016/GSE74912_Corces2016_ENCODE_v3_processed/Mono/atac/bf31ec47-252c-4e42-bda2-fae4f6dc6cab/call-filter/shard-3/execution/SRR2920488_1.fastq.trim.srt.nodup.no_chrM_MT.bam     | 4 | Mono     | /project/scATAC_analysis/scATAcat_notebooks_for_paper/jan2024/data/Corces2016_bulk_ATAC/01_ENCODE_cCRE_coverages/Mono/SRR2920488_NOTmerged_scATAC_overlap_ENCODE_cCRE_coverage_6col.bed     | bed |\n",
       "| Mono_5     | Mono     | Mono     | 7256 | control | /project/scATAC_analysis/10X_PBMC_analysis/AnnotationQuestion/bulk_ATAC_data/GSE74912_Corces2016/GSE74912_Corces2016_ENCODE_v3_processed/Mono/atac/bf31ec47-252c-4e42-bda2-fae4f6dc6cab/call-filter/shard-4/execution/SRR2920542_1.fastq.trim.srt.nodup.no_chrM_MT.bam     | 5 | Mono     | /project/scATAC_analysis/scATAcat_notebooks_for_paper/jan2024/data/Corces2016_bulk_ATAC/01_ENCODE_cCRE_coverages/Mono/SRR2920542_NOTmerged_scATAC_overlap_ENCODE_cCRE_coverage_6col.bed     | bed |\n",
       "| Mono_6     | Mono     | Mono     | 7256 | control | /project/scATAC_analysis/10X_PBMC_analysis/AnnotationQuestion/bulk_ATAC_data/GSE74912_Corces2016/GSE74912_Corces2016_ENCODE_v3_processed/Mono/atac/bf31ec47-252c-4e42-bda2-fae4f6dc6cab/call-filter/shard-5/execution/SRR2920543_1.fastq.trim.srt.nodup.no_chrM_MT.bam     | 6 | Mono     | /project/scATAC_analysis/scATAcat_notebooks_for_paper/jan2024/data/Corces2016_bulk_ATAC/01_ENCODE_cCRE_coverages/Mono/SRR2920543_NOTmerged_scATAC_overlap_ENCODE_cCRE_coverage_6col.bed     | bed |\n",
       "| NKcell_1   | NKcell   | NKcell   | 1022 | control | /project/scATAC_analysis/10X_PBMC_analysis/AnnotationQuestion/bulk_ATAC_data/GSE74912_Corces2016/GSE74912_Corces2016_ENCODE_v3_processed/NKcell/atac/da919b8b-7e98-43f5-bbc7-c6c14fd50f04/call-filter/shard-0/execution/SRR2920495_1.fastq.trim.srt.nodup.no_chrM_MT.bam   | 1 | NKcell   | /project/scATAC_analysis/scATAcat_notebooks_for_paper/jan2024/data/Corces2016_bulk_ATAC/01_ENCODE_cCRE_coverages/NKcell/SRR2920495_NOTmerged_scATAC_overlap_ENCODE_cCRE_coverage_6col.bed   | bed |\n",
       "| NKcell_2   | NKcell   | NKcell   | 2596 | control | /project/scATAC_analysis/10X_PBMC_analysis/AnnotationQuestion/bulk_ATAC_data/GSE74912_Corces2016/GSE74912_Corces2016_ENCODE_v3_processed/NKcell/atac/da919b8b-7e98-43f5-bbc7-c6c14fd50f04/call-filter/shard-1/execution/SRR2920511_1.fastq.trim.srt.nodup.no_chrM_MT.bam   | 2 | NKcell   | /project/scATAC_analysis/scATAcat_notebooks_for_paper/jan2024/data/Corces2016_bulk_ATAC/01_ENCODE_cCRE_coverages/NKcell/SRR2920511_NOTmerged_scATAC_overlap_ENCODE_cCRE_coverage_6col.bed   | bed |\n",
       "| NKcell_3   | NKcell   | NKcell   | 2596 | control | /project/scATAC_analysis/10X_PBMC_analysis/AnnotationQuestion/bulk_ATAC_data/GSE74912_Corces2016/GSE74912_Corces2016_ENCODE_v3_processed/NKcell/atac/da919b8b-7e98-43f5-bbc7-c6c14fd50f04/call-filter/shard-2/execution/SRR2920512_1.fastq.trim.srt.nodup.no_chrM_MT.bam   | 3 | NKcell   | /project/scATAC_analysis/scATAcat_notebooks_for_paper/jan2024/data/Corces2016_bulk_ATAC/01_ENCODE_cCRE_coverages/NKcell/SRR2920512_NOTmerged_scATAC_overlap_ENCODE_cCRE_coverage_6col.bed   | bed |\n",
       "| NKcell_4   | NKcell   | NKcell   | 4983 | control | /project/scATAC_analysis/10X_PBMC_analysis/AnnotationQuestion/bulk_ATAC_data/GSE74912_Corces2016/GSE74912_Corces2016_ENCODE_v3_processed/NKcell/atac/da919b8b-7e98-43f5-bbc7-c6c14fd50f04/call-filter/shard-3/execution/SRR2920516_1.fastq.trim.srt.nodup.no_chrM_MT.bam   | 4 | NKcell   | /project/scATAC_analysis/scATAcat_notebooks_for_paper/jan2024/data/Corces2016_bulk_ATAC/01_ENCODE_cCRE_coverages/NKcell/SRR2920516_NOTmerged_scATAC_overlap_ENCODE_cCRE_coverage_6col.bed   | bed |\n",
       "| NKcell_5   | NKcell   | NKcell   | 5483 | control | /project/scATAC_analysis/10X_PBMC_analysis/AnnotationQuestion/bulk_ATAC_data/GSE74912_Corces2016/GSE74912_Corces2016_ENCODE_v3_processed/NKcell/atac/da919b8b-7e98-43f5-bbc7-c6c14fd50f04/call-filter/shard-4/execution/SRR2920526_1.fastq.trim.srt.nodup.no_chrM_MT.bam   | 5 | NKcell   | /project/scATAC_analysis/scATAcat_notebooks_for_paper/jan2024/data/Corces2016_bulk_ATAC/01_ENCODE_cCRE_coverages/NKcell/SRR2920526_NOTmerged_scATAC_overlap_ENCODE_cCRE_coverage_6col.bed   | bed |\n",
       "| NKcell_6   | NKcell   | NKcell   | 5483 | control | /project/scATAC_analysis/10X_PBMC_analysis/AnnotationQuestion/bulk_ATAC_data/GSE74912_Corces2016/GSE74912_Corces2016_ENCODE_v3_processed/NKcell/atac/da919b8b-7e98-43f5-bbc7-c6c14fd50f04/call-filter/shard-5/execution/SRR2920527_1.fastq.trim.srt.nodup.no_chrM_MT.bam   | 6 | NKcell   | /project/scATAC_analysis/scATAcat_notebooks_for_paper/jan2024/data/Corces2016_bulk_ATAC/01_ENCODE_cCRE_coverages/NKcell/SRR2920527_NOTmerged_scATAC_overlap_ENCODE_cCRE_coverage_6col.bed   | bed |\n",
       "| pDC_1      | pDC      | pDC      |    1 | control | /project/scATAC_analysis/Calderon2019_data/bulk_ATAC_GSE118189_prcd_w_ENCODEpipeline/pDCs/atac/5b55dc7f-f49c-495f-8b6d-ea6c8ed108ac/call-filter/shard-0/execution/SRR7650770_1.fastq.trim.srt.nodup.no_chrM_MT.bam                                                         | 1 | pDC      | /project/scATAC_analysis/scATAcat_notebooks_for_paper/jan2024/data/Corces2016_bulk_ATAC/01_ENCODE_cCRE_coverages/pDC/SRR7650770_NOTmerged_scATAC_overlap_ENCODE_cCRE_coverage_6col.bed      | bed |\n",
       "| pDC_2      | pDC      | pDC      |    1 | control | /project/scATAC_analysis/Calderon2019_data/bulk_ATAC_GSE118189_prcd_w_ENCODEpipeline/pDCs/atac/5b55dc7f-f49c-495f-8b6d-ea6c8ed108ac/call-filter/shard-1/execution/SRR7650811_1.fastq.trim.srt.nodup.no_chrM_MT.bam                                                         | 2 | pDC      | /project/scATAC_analysis/scATAcat_notebooks_for_paper/jan2024/data/Corces2016_bulk_ATAC/01_ENCODE_cCRE_coverages/pDC/SRR7650811_NOTmerged_scATAC_overlap_ENCODE_cCRE_coverage_6col.bed      | bed |\n",
       "| pDC_3      | pDC      | pDC      |    1 | control | /project/scATAC_analysis/Calderon2019_data/bulk_ATAC_GSE118189_prcd_w_ENCODEpipeline/pDCs/atac/5b55dc7f-f49c-495f-8b6d-ea6c8ed108ac/call-filter/shard-2/execution/SRR7650916_1.fastq.trim.srt.nodup.no_chrM_MT.bam                                                         | 3 | pDC      | /project/scATAC_analysis/scATAcat_notebooks_for_paper/jan2024/data/Corces2016_bulk_ATAC/01_ENCODE_cCRE_coverages/pDC/SRR7650916_NOTmerged_scATAC_overlap_ENCODE_cCRE_coverage_6col.bed      | bed |\n",
       "\n"
      ],
      "text/plain": [
       "   SampleID   Tissue   Condition donorID Treatment\n",
       "1  Bcell_1    Bcell    Bcell     1022    control  \n",
       "2  Bcell_2    Bcell    Bcell     4983    control  \n",
       "3  Bcell_3    Bcell    Bcell     5483    control  \n",
       "4  Bcell_4    Bcell    Bcell     5483    control  \n",
       "5  CD4Tcell_1 CD4Tcell CD4Tcell  1022    control  \n",
       "6  CD4Tcell_2 CD4Tcell CD4Tcell  2596    control  \n",
       "7  CD4Tcell_3 CD4Tcell CD4Tcell  4983    control  \n",
       "8  CD4Tcell_4 CD4Tcell CD4Tcell  5483    control  \n",
       "9  CD4Tcell_5 CD4Tcell CD4Tcell  5483    control  \n",
       "10 CD8Tcell_1 CD8Tcell CD8Tcell  1022    control  \n",
       "11 CD8Tcell_2 CD8Tcell CD8Tcell  2596    control  \n",
       "12 CD8Tcell_3 CD8Tcell CD8Tcell  4983    control  \n",
       "13 CD8Tcell_4 CD8Tcell CD8Tcell  5483    control  \n",
       "14 CD8Tcell_5 CD8Tcell CD8Tcell  5483    control  \n",
       "15 Mono_1     Mono     Mono      4983    control  \n",
       "16 Mono_2     Mono     Mono      4983    control  \n",
       "17 Mono_3     Mono     Mono      6792    control  \n",
       "18 Mono_4     Mono     Mono      6792    control  \n",
       "19 Mono_5     Mono     Mono      7256    control  \n",
       "20 Mono_6     Mono     Mono      7256    control  \n",
       "21 NKcell_1   NKcell   NKcell    1022    control  \n",
       "22 NKcell_2   NKcell   NKcell    2596    control  \n",
       "23 NKcell_3   NKcell   NKcell    2596    control  \n",
       "24 NKcell_4   NKcell   NKcell    4983    control  \n",
       "25 NKcell_5   NKcell   NKcell    5483    control  \n",
       "26 NKcell_6   NKcell   NKcell    5483    control  \n",
       "27 pDC_1      pDC      pDC          1    control  \n",
       "28 pDC_2      pDC      pDC          1    control  \n",
       "29 pDC_3      pDC      pDC          1    control  \n",
       "   bamReads                                                                                                                                                                                                                                                                  \n",
       "1  /project/scATAC_analysis/10X_PBMC_analysis/AnnotationQuestion/bulk_ATAC_data/GSE74912_Corces2016/GSE74912_Corces2016_ENCODE_v3_processed/Bcell/atac/c3305399-347a-4f14-871d-696a4b7bd760/call-filter/shard-0/execution/SRR2920492_1.fastq.trim.srt.nodup.no_chrM_MT.bam   \n",
       "2  /project/scATAC_analysis/10X_PBMC_analysis/AnnotationQuestion/bulk_ATAC_data/GSE74912_Corces2016/GSE74912_Corces2016_ENCODE_v3_processed/Bcell/atac/c3305399-347a-4f14-871d-696a4b7bd760/call-filter/shard-1/execution/SRR2920513_1.fastq.trim.srt.nodup.no_chrM_MT.bam   \n",
       "3  /project/scATAC_analysis/10X_PBMC_analysis/AnnotationQuestion/bulk_ATAC_data/GSE74912_Corces2016/GSE74912_Corces2016_ENCODE_v3_processed/Bcell/atac/c3305399-347a-4f14-871d-696a4b7bd760/call-filter/shard-2/execution/SRR2920517_1.fastq.trim.srt.nodup.no_chrM_MT.bam   \n",
       "4  /project/scATAC_analysis/10X_PBMC_analysis/AnnotationQuestion/bulk_ATAC_data/GSE74912_Corces2016/GSE74912_Corces2016_ENCODE_v3_processed/Bcell/atac/c3305399-347a-4f14-871d-696a4b7bd760/call-filter/shard-3/execution/SRR2920544_1.fastq.trim.srt.nodup.no_chrM_MT.bam   \n",
       "5  /project/scATAC_analysis/10X_PBMC_analysis/AnnotationQuestion/bulk_ATAC_data/GSE74912_Corces2016/GSE74912_Corces2016_ENCODE_v3_processed/CD4Tcell/atac/aaead0dc-374c-4a33-b443-e7bd45c3b3b6/call-filter/shard-0/execution/SRR2920493_1.fastq.trim.srt.nodup.no_chrM_MT.bam\n",
       "6  /project/scATAC_analysis/10X_PBMC_analysis/AnnotationQuestion/bulk_ATAC_data/GSE74912_Corces2016/GSE74912_Corces2016_ENCODE_v3_processed/CD4Tcell/atac/aaead0dc-374c-4a33-b443-e7bd45c3b3b6/call-filter/shard-1/execution/SRR2920496_1.fastq.trim.srt.nodup.no_chrM_MT.bam\n",
       "7  /project/scATAC_analysis/10X_PBMC_analysis/AnnotationQuestion/bulk_ATAC_data/GSE74912_Corces2016/GSE74912_Corces2016_ENCODE_v3_processed/CD4Tcell/atac/aaead0dc-374c-4a33-b443-e7bd45c3b3b6/call-filter/shard-2/execution/SRR2920514_1.fastq.trim.srt.nodup.no_chrM_MT.bam\n",
       "8  /project/scATAC_analysis/10X_PBMC_analysis/AnnotationQuestion/bulk_ATAC_data/GSE74912_Corces2016/GSE74912_Corces2016_ENCODE_v3_processed/CD4Tcell/atac/aaead0dc-374c-4a33-b443-e7bd45c3b3b6/call-filter/shard-3/execution/SRR2920518_1.fastq.trim.srt.nodup.no_chrM_MT.bam\n",
       "9  /project/scATAC_analysis/10X_PBMC_analysis/AnnotationQuestion/bulk_ATAC_data/GSE74912_Corces2016/GSE74912_Corces2016_ENCODE_v3_processed/CD4Tcell/atac/aaead0dc-374c-4a33-b443-e7bd45c3b3b6/call-filter/shard-4/execution/SRR2920519_1.fastq.trim.srt.nodup.no_chrM_MT.bam\n",
       "10 /project/scATAC_analysis/10X_PBMC_analysis/AnnotationQuestion/bulk_ATAC_data/GSE74912_Corces2016/GSE74912_Corces2016_ENCODE_v3_processed/CD8Tcell/atac/a60a2fd4-712c-4bac-95a9-ccf5a2bd53e5/call-filter/shard-0/execution/SRR2920494_1.fastq.trim.srt.nodup.no_chrM_MT.bam\n",
       "11 /project/scATAC_analysis/10X_PBMC_analysis/AnnotationQuestion/bulk_ATAC_data/GSE74912_Corces2016/GSE74912_Corces2016_ENCODE_v3_processed/CD8Tcell/atac/a60a2fd4-712c-4bac-95a9-ccf5a2bd53e5/call-filter/shard-1/execution/SRR2920497_1.fastq.trim.srt.nodup.no_chrM_MT.bam\n",
       "12 /project/scATAC_analysis/10X_PBMC_analysis/AnnotationQuestion/bulk_ATAC_data/GSE74912_Corces2016/GSE74912_Corces2016_ENCODE_v3_processed/CD8Tcell/atac/a60a2fd4-712c-4bac-95a9-ccf5a2bd53e5/call-filter/shard-2/execution/SRR2920515_1.fastq.trim.srt.nodup.no_chrM_MT.bam\n",
       "13 /project/scATAC_analysis/10X_PBMC_analysis/AnnotationQuestion/bulk_ATAC_data/GSE74912_Corces2016/GSE74912_Corces2016_ENCODE_v3_processed/CD8Tcell/atac/a60a2fd4-712c-4bac-95a9-ccf5a2bd53e5/call-filter/shard-3/execution/SRR2920520_1.fastq.trim.srt.nodup.no_chrM_MT.bam\n",
       "14 /project/scATAC_analysis/10X_PBMC_analysis/AnnotationQuestion/bulk_ATAC_data/GSE74912_Corces2016/GSE74912_Corces2016_ENCODE_v3_processed/CD8Tcell/atac/a60a2fd4-712c-4bac-95a9-ccf5a2bd53e5/call-filter/shard-4/execution/SRR2920521_1.fastq.trim.srt.nodup.no_chrM_MT.bam\n",
       "15 /project/scATAC_analysis/10X_PBMC_analysis/AnnotationQuestion/bulk_ATAC_data/GSE74912_Corces2016/GSE74912_Corces2016_ENCODE_v3_processed/Mono/atac/bf31ec47-252c-4e42-bda2-fae4f6dc6cab/call-filter/shard-0/execution/SRR2920475_1.fastq.trim.srt.nodup.no_chrM_MT.bam    \n",
       "16 /project/scATAC_analysis/10X_PBMC_analysis/AnnotationQuestion/bulk_ATAC_data/GSE74912_Corces2016/GSE74912_Corces2016_ENCODE_v3_processed/Mono/atac/bf31ec47-252c-4e42-bda2-fae4f6dc6cab/call-filter/shard-1/execution/SRR2920476_1.fastq.trim.srt.nodup.no_chrM_MT.bam    \n",
       "17 /project/scATAC_analysis/10X_PBMC_analysis/AnnotationQuestion/bulk_ATAC_data/GSE74912_Corces2016/GSE74912_Corces2016_ENCODE_v3_processed/Mono/atac/bf31ec47-252c-4e42-bda2-fae4f6dc6cab/call-filter/shard-2/execution/SRR2920487_1.fastq.trim.srt.nodup.no_chrM_MT.bam    \n",
       "18 /project/scATAC_analysis/10X_PBMC_analysis/AnnotationQuestion/bulk_ATAC_data/GSE74912_Corces2016/GSE74912_Corces2016_ENCODE_v3_processed/Mono/atac/bf31ec47-252c-4e42-bda2-fae4f6dc6cab/call-filter/shard-3/execution/SRR2920488_1.fastq.trim.srt.nodup.no_chrM_MT.bam    \n",
       "19 /project/scATAC_analysis/10X_PBMC_analysis/AnnotationQuestion/bulk_ATAC_data/GSE74912_Corces2016/GSE74912_Corces2016_ENCODE_v3_processed/Mono/atac/bf31ec47-252c-4e42-bda2-fae4f6dc6cab/call-filter/shard-4/execution/SRR2920542_1.fastq.trim.srt.nodup.no_chrM_MT.bam    \n",
       "20 /project/scATAC_analysis/10X_PBMC_analysis/AnnotationQuestion/bulk_ATAC_data/GSE74912_Corces2016/GSE74912_Corces2016_ENCODE_v3_processed/Mono/atac/bf31ec47-252c-4e42-bda2-fae4f6dc6cab/call-filter/shard-5/execution/SRR2920543_1.fastq.trim.srt.nodup.no_chrM_MT.bam    \n",
       "21 /project/scATAC_analysis/10X_PBMC_analysis/AnnotationQuestion/bulk_ATAC_data/GSE74912_Corces2016/GSE74912_Corces2016_ENCODE_v3_processed/NKcell/atac/da919b8b-7e98-43f5-bbc7-c6c14fd50f04/call-filter/shard-0/execution/SRR2920495_1.fastq.trim.srt.nodup.no_chrM_MT.bam  \n",
       "22 /project/scATAC_analysis/10X_PBMC_analysis/AnnotationQuestion/bulk_ATAC_data/GSE74912_Corces2016/GSE74912_Corces2016_ENCODE_v3_processed/NKcell/atac/da919b8b-7e98-43f5-bbc7-c6c14fd50f04/call-filter/shard-1/execution/SRR2920511_1.fastq.trim.srt.nodup.no_chrM_MT.bam  \n",
       "23 /project/scATAC_analysis/10X_PBMC_analysis/AnnotationQuestion/bulk_ATAC_data/GSE74912_Corces2016/GSE74912_Corces2016_ENCODE_v3_processed/NKcell/atac/da919b8b-7e98-43f5-bbc7-c6c14fd50f04/call-filter/shard-2/execution/SRR2920512_1.fastq.trim.srt.nodup.no_chrM_MT.bam  \n",
       "24 /project/scATAC_analysis/10X_PBMC_analysis/AnnotationQuestion/bulk_ATAC_data/GSE74912_Corces2016/GSE74912_Corces2016_ENCODE_v3_processed/NKcell/atac/da919b8b-7e98-43f5-bbc7-c6c14fd50f04/call-filter/shard-3/execution/SRR2920516_1.fastq.trim.srt.nodup.no_chrM_MT.bam  \n",
       "25 /project/scATAC_analysis/10X_PBMC_analysis/AnnotationQuestion/bulk_ATAC_data/GSE74912_Corces2016/GSE74912_Corces2016_ENCODE_v3_processed/NKcell/atac/da919b8b-7e98-43f5-bbc7-c6c14fd50f04/call-filter/shard-4/execution/SRR2920526_1.fastq.trim.srt.nodup.no_chrM_MT.bam  \n",
       "26 /project/scATAC_analysis/10X_PBMC_analysis/AnnotationQuestion/bulk_ATAC_data/GSE74912_Corces2016/GSE74912_Corces2016_ENCODE_v3_processed/NKcell/atac/da919b8b-7e98-43f5-bbc7-c6c14fd50f04/call-filter/shard-5/execution/SRR2920527_1.fastq.trim.srt.nodup.no_chrM_MT.bam  \n",
       "27 /project/scATAC_analysis/Calderon2019_data/bulk_ATAC_GSE118189_prcd_w_ENCODEpipeline/pDCs/atac/5b55dc7f-f49c-495f-8b6d-ea6c8ed108ac/call-filter/shard-0/execution/SRR7650770_1.fastq.trim.srt.nodup.no_chrM_MT.bam                                                        \n",
       "28 /project/scATAC_analysis/Calderon2019_data/bulk_ATAC_GSE118189_prcd_w_ENCODEpipeline/pDCs/atac/5b55dc7f-f49c-495f-8b6d-ea6c8ed108ac/call-filter/shard-1/execution/SRR7650811_1.fastq.trim.srt.nodup.no_chrM_MT.bam                                                        \n",
       "29 /project/scATAC_analysis/Calderon2019_data/bulk_ATAC_GSE118189_prcd_w_ENCODEpipeline/pDCs/atac/5b55dc7f-f49c-495f-8b6d-ea6c8ed108ac/call-filter/shard-2/execution/SRR7650916_1.fastq.trim.srt.nodup.no_chrM_MT.bam                                                        \n",
       "   Replicate ControlID\n",
       "1  1         Bcell    \n",
       "2  2         Bcell    \n",
       "3  3         Bcell    \n",
       "4  4         Bcell    \n",
       "5  1         CD4Tcell \n",
       "6  2         CD4Tcell \n",
       "7  3         CD4Tcell \n",
       "8  4         CD4Tcell \n",
       "9  5         CD4Tcell \n",
       "10 1         CD8Tcell \n",
       "11 2         CD8Tcell \n",
       "12 3         CD8Tcell \n",
       "13 4         CD8Tcell \n",
       "14 5         CD8Tcell \n",
       "15 1         Mono     \n",
       "16 2         Mono     \n",
       "17 3         Mono     \n",
       "18 4         Mono     \n",
       "19 5         Mono     \n",
       "20 6         Mono     \n",
       "21 1         NKcell   \n",
       "22 2         NKcell   \n",
       "23 3         NKcell   \n",
       "24 4         NKcell   \n",
       "25 5         NKcell   \n",
       "26 6         NKcell   \n",
       "27 1         pDC      \n",
       "28 2         pDC      \n",
       "29 3         pDC      \n",
       "   Peaks                                                                                                                                                                                      \n",
       "1  /project/scATAC_analysis/scATAcat_notebooks_for_paper/jan2024/data/Corces2016_bulk_ATAC/01_ENCODE_cCRE_coverages/Bcell/SRR2920492_NOTmerged_scATAC_overlap_ENCODE_cCRE_coverage_6col.bed   \n",
       "2  /project/scATAC_analysis/scATAcat_notebooks_for_paper/jan2024/data/Corces2016_bulk_ATAC/01_ENCODE_cCRE_coverages/Bcell/SRR2920513_NOTmerged_scATAC_overlap_ENCODE_cCRE_coverage_6col.bed   \n",
       "3  /project/scATAC_analysis/scATAcat_notebooks_for_paper/jan2024/data/Corces2016_bulk_ATAC/01_ENCODE_cCRE_coverages/Bcell/SRR2920517_NOTmerged_scATAC_overlap_ENCODE_cCRE_coverage_6col.bed   \n",
       "4  /project/scATAC_analysis/scATAcat_notebooks_for_paper/jan2024/data/Corces2016_bulk_ATAC/01_ENCODE_cCRE_coverages/Bcell/SRR2920544_NOTmerged_scATAC_overlap_ENCODE_cCRE_coverage_6col.bed   \n",
       "5  /project/scATAC_analysis/scATAcat_notebooks_for_paper/jan2024/data/Corces2016_bulk_ATAC/01_ENCODE_cCRE_coverages/CD4Tcell/SRR2920493_NOTmerged_scATAC_overlap_ENCODE_cCRE_coverage_6col.bed\n",
       "6  /project/scATAC_analysis/scATAcat_notebooks_for_paper/jan2024/data/Corces2016_bulk_ATAC/01_ENCODE_cCRE_coverages/CD4Tcell/SRR2920496_NOTmerged_scATAC_overlap_ENCODE_cCRE_coverage_6col.bed\n",
       "7  /project/scATAC_analysis/scATAcat_notebooks_for_paper/jan2024/data/Corces2016_bulk_ATAC/01_ENCODE_cCRE_coverages/CD4Tcell/SRR2920514_NOTmerged_scATAC_overlap_ENCODE_cCRE_coverage_6col.bed\n",
       "8  /project/scATAC_analysis/scATAcat_notebooks_for_paper/jan2024/data/Corces2016_bulk_ATAC/01_ENCODE_cCRE_coverages/CD4Tcell/SRR2920518_NOTmerged_scATAC_overlap_ENCODE_cCRE_coverage_6col.bed\n",
       "9  /project/scATAC_analysis/scATAcat_notebooks_for_paper/jan2024/data/Corces2016_bulk_ATAC/01_ENCODE_cCRE_coverages/CD4Tcell/SRR2920519_NOTmerged_scATAC_overlap_ENCODE_cCRE_coverage_6col.bed\n",
       "10 /project/scATAC_analysis/scATAcat_notebooks_for_paper/jan2024/data/Corces2016_bulk_ATAC/01_ENCODE_cCRE_coverages/CD8Tcell/SRR2920494_NOTmerged_scATAC_overlap_ENCODE_cCRE_coverage_6col.bed\n",
       "11 /project/scATAC_analysis/scATAcat_notebooks_for_paper/jan2024/data/Corces2016_bulk_ATAC/01_ENCODE_cCRE_coverages/CD8Tcell/SRR2920497_NOTmerged_scATAC_overlap_ENCODE_cCRE_coverage_6col.bed\n",
       "12 /project/scATAC_analysis/scATAcat_notebooks_for_paper/jan2024/data/Corces2016_bulk_ATAC/01_ENCODE_cCRE_coverages/CD8Tcell/SRR2920515_NOTmerged_scATAC_overlap_ENCODE_cCRE_coverage_6col.bed\n",
       "13 /project/scATAC_analysis/scATAcat_notebooks_for_paper/jan2024/data/Corces2016_bulk_ATAC/01_ENCODE_cCRE_coverages/CD8Tcell/SRR2920520_NOTmerged_scATAC_overlap_ENCODE_cCRE_coverage_6col.bed\n",
       "14 /project/scATAC_analysis/scATAcat_notebooks_for_paper/jan2024/data/Corces2016_bulk_ATAC/01_ENCODE_cCRE_coverages/CD8Tcell/SRR2920521_NOTmerged_scATAC_overlap_ENCODE_cCRE_coverage_6col.bed\n",
       "15 /project/scATAC_analysis/scATAcat_notebooks_for_paper/jan2024/data/Corces2016_bulk_ATAC/01_ENCODE_cCRE_coverages/Mono/SRR2920475_NOTmerged_scATAC_overlap_ENCODE_cCRE_coverage_6col.bed    \n",
       "16 /project/scATAC_analysis/scATAcat_notebooks_for_paper/jan2024/data/Corces2016_bulk_ATAC/01_ENCODE_cCRE_coverages/Mono/SRR2920476_NOTmerged_scATAC_overlap_ENCODE_cCRE_coverage_6col.bed    \n",
       "17 /project/scATAC_analysis/scATAcat_notebooks_for_paper/jan2024/data/Corces2016_bulk_ATAC/01_ENCODE_cCRE_coverages/Mono/SRR2920487_NOTmerged_scATAC_overlap_ENCODE_cCRE_coverage_6col.bed    \n",
       "18 /project/scATAC_analysis/scATAcat_notebooks_for_paper/jan2024/data/Corces2016_bulk_ATAC/01_ENCODE_cCRE_coverages/Mono/SRR2920488_NOTmerged_scATAC_overlap_ENCODE_cCRE_coverage_6col.bed    \n",
       "19 /project/scATAC_analysis/scATAcat_notebooks_for_paper/jan2024/data/Corces2016_bulk_ATAC/01_ENCODE_cCRE_coverages/Mono/SRR2920542_NOTmerged_scATAC_overlap_ENCODE_cCRE_coverage_6col.bed    \n",
       "20 /project/scATAC_analysis/scATAcat_notebooks_for_paper/jan2024/data/Corces2016_bulk_ATAC/01_ENCODE_cCRE_coverages/Mono/SRR2920543_NOTmerged_scATAC_overlap_ENCODE_cCRE_coverage_6col.bed    \n",
       "21 /project/scATAC_analysis/scATAcat_notebooks_for_paper/jan2024/data/Corces2016_bulk_ATAC/01_ENCODE_cCRE_coverages/NKcell/SRR2920495_NOTmerged_scATAC_overlap_ENCODE_cCRE_coverage_6col.bed  \n",
       "22 /project/scATAC_analysis/scATAcat_notebooks_for_paper/jan2024/data/Corces2016_bulk_ATAC/01_ENCODE_cCRE_coverages/NKcell/SRR2920511_NOTmerged_scATAC_overlap_ENCODE_cCRE_coverage_6col.bed  \n",
       "23 /project/scATAC_analysis/scATAcat_notebooks_for_paper/jan2024/data/Corces2016_bulk_ATAC/01_ENCODE_cCRE_coverages/NKcell/SRR2920512_NOTmerged_scATAC_overlap_ENCODE_cCRE_coverage_6col.bed  \n",
       "24 /project/scATAC_analysis/scATAcat_notebooks_for_paper/jan2024/data/Corces2016_bulk_ATAC/01_ENCODE_cCRE_coverages/NKcell/SRR2920516_NOTmerged_scATAC_overlap_ENCODE_cCRE_coverage_6col.bed  \n",
       "25 /project/scATAC_analysis/scATAcat_notebooks_for_paper/jan2024/data/Corces2016_bulk_ATAC/01_ENCODE_cCRE_coverages/NKcell/SRR2920526_NOTmerged_scATAC_overlap_ENCODE_cCRE_coverage_6col.bed  \n",
       "26 /project/scATAC_analysis/scATAcat_notebooks_for_paper/jan2024/data/Corces2016_bulk_ATAC/01_ENCODE_cCRE_coverages/NKcell/SRR2920527_NOTmerged_scATAC_overlap_ENCODE_cCRE_coverage_6col.bed  \n",
       "27 /project/scATAC_analysis/scATAcat_notebooks_for_paper/jan2024/data/Corces2016_bulk_ATAC/01_ENCODE_cCRE_coverages/pDC/SRR7650770_NOTmerged_scATAC_overlap_ENCODE_cCRE_coverage_6col.bed     \n",
       "28 /project/scATAC_analysis/scATAcat_notebooks_for_paper/jan2024/data/Corces2016_bulk_ATAC/01_ENCODE_cCRE_coverages/pDC/SRR7650811_NOTmerged_scATAC_overlap_ENCODE_cCRE_coverage_6col.bed     \n",
       "29 /project/scATAC_analysis/scATAcat_notebooks_for_paper/jan2024/data/Corces2016_bulk_ATAC/01_ENCODE_cCRE_coverages/pDC/SRR7650916_NOTmerged_scATAC_overlap_ENCODE_cCRE_coverage_6col.bed     \n",
       "   PeakCaller\n",
       "1  bed       \n",
       "2  bed       \n",
       "3  bed       \n",
       "4  bed       \n",
       "5  bed       \n",
       "6  bed       \n",
       "7  bed       \n",
       "8  bed       \n",
       "9  bed       \n",
       "10 bed       \n",
       "11 bed       \n",
       "12 bed       \n",
       "13 bed       \n",
       "14 bed       \n",
       "15 bed       \n",
       "16 bed       \n",
       "17 bed       \n",
       "18 bed       \n",
       "19 bed       \n",
       "20 bed       \n",
       "21 bed       \n",
       "22 bed       \n",
       "23 bed       \n",
       "24 bed       \n",
       "25 bed       \n",
       "26 bed       \n",
       "27 bed       \n",
       "28 bed       \n",
       "29 bed       "
      ]
     },
     "metadata": {},
     "output_type": "display_data"
    }
   ],
   "source": [
    "CorcesDataInfo =read.csv(\"./Corces2016_with_calderon_pDC_meta.csv\",\n",
    "                          sep = \";\") #, header=TRUE,row.names=NULL\n",
    "CorcesDataInfo"
   ]
  },
  {
   "cell_type": "code",
   "execution_count": null,
   "id": "fa55f704-3121-4fe0-99c1-4b6b8e945bab",
   "metadata": {},
   "outputs": [],
   "source": []
  },
  {
   "cell_type": "code",
   "execution_count": 7,
   "id": "8b93099c-3e9c-47e2-9147-98251e23c575",
   "metadata": {},
   "outputs": [
    {
     "name": "stderr",
     "output_type": "stream",
     "text": [
      "Bcell_1 Bcell  Bcell control 1 bed\n",
      "\n",
      "Bcell_2 Bcell  Bcell control 2 bed\n",
      "\n",
      "Bcell_3 Bcell  Bcell control 3 bed\n",
      "\n",
      "Bcell_4 Bcell  Bcell control 4 bed\n",
      "\n",
      "CD4Tcell_1 CD4Tcell  CD4Tcell control 1 bed\n",
      "\n",
      "CD4Tcell_2 CD4Tcell  CD4Tcell control 2 bed\n",
      "\n",
      "CD4Tcell_3 CD4Tcell  CD4Tcell control 3 bed\n",
      "\n",
      "CD4Tcell_4 CD4Tcell  CD4Tcell control 4 bed\n",
      "\n",
      "CD4Tcell_5 CD4Tcell  CD4Tcell control 5 bed\n",
      "\n",
      "CD8Tcell_1 CD8Tcell  CD8Tcell control 1 bed\n",
      "\n",
      "CD8Tcell_2 CD8Tcell  CD8Tcell control 2 bed\n",
      "\n",
      "CD8Tcell_3 CD8Tcell  CD8Tcell control 3 bed\n",
      "\n",
      "CD8Tcell_4 CD8Tcell  CD8Tcell control 4 bed\n",
      "\n",
      "CD8Tcell_5 CD8Tcell  CD8Tcell control 5 bed\n",
      "\n",
      "Mono_1 Mono  Mono control 1 bed\n",
      "\n",
      "Mono_2 Mono  Mono control 2 bed\n",
      "\n",
      "Mono_3 Mono  Mono control 3 bed\n",
      "\n",
      "Mono_4 Mono  Mono control 4 bed\n",
      "\n",
      "Mono_5 Mono  Mono control 5 bed\n",
      "\n",
      "Mono_6 Mono  Mono control 6 bed\n",
      "\n",
      "NKcell_1 NKcell  NKcell control 1 bed\n",
      "\n",
      "NKcell_2 NKcell  NKcell control 2 bed\n",
      "\n",
      "NKcell_3 NKcell  NKcell control 3 bed\n",
      "\n",
      "NKcell_4 NKcell  NKcell control 4 bed\n",
      "\n",
      "NKcell_5 NKcell  NKcell control 5 bed\n",
      "\n",
      "NKcell_6 NKcell  NKcell control 6 bed\n",
      "\n",
      "pDC_1 pDC  pDC control 1 bed\n",
      "\n",
      "pDC_2 pDC  pDC control 2 bed\n",
      "\n",
      "pDC_3 pDC  pDC control 3 bed\n",
      "\n"
     ]
    }
   ],
   "source": [
    "corces_DBdata <- dba(sampleSheet=CorcesDataInfo) "
   ]
  },
  {
   "cell_type": "code",
   "execution_count": 8,
   "id": "5acd78b8-d16a-498b-8950-1d11c5ed8fb6",
   "metadata": {},
   "outputs": [
    {
     "name": "stderr",
     "output_type": "stream",
     "text": [
      "Computing summits...\n",
      "\n",
      "Re-centering peaks...\n",
      "\n",
      "Reads will be counted as Paired-end.\n",
      "\n"
     ]
    }
   ],
   "source": [
    "corces <- dba.count(corces_DBdata)"
   ]
  },
  {
   "cell_type": "code",
   "execution_count": 9,
   "id": "ce2f1949-5bdb-485e-bc5d-d943125fe68f",
   "metadata": {},
   "outputs": [
    {
     "data": {
      "text/plain": [
       "29 Samples, 579423 sites in matrix:\n",
       "           ID   Tissue Condition Treatment Replicate    Reads FRiP\n",
       "1     Bcell_1    Bcell     Bcell   control         1 10633743 0.24\n",
       "2     Bcell_2    Bcell     Bcell   control         2 33051601 0.30\n",
       "3     Bcell_3    Bcell     Bcell   control         3 12871788 0.44\n",
       "4     Bcell_4    Bcell     Bcell   control         4  2908237 0.57\n",
       "5  CD4Tcell_1 CD4Tcell  CD4Tcell   control         1  5758439 0.61\n",
       "6  CD4Tcell_2 CD4Tcell  CD4Tcell   control         2 10731358 0.50\n",
       "7  CD4Tcell_3 CD4Tcell  CD4Tcell   control         3 15086963 0.41\n",
       "8  CD4Tcell_4 CD4Tcell  CD4Tcell   control         4  8500373 0.52\n",
       "9  CD4Tcell_5 CD4Tcell  CD4Tcell   control         5  7002029 0.48\n",
       "10 CD8Tcell_1 CD8Tcell  CD8Tcell   control         1  4771124 0.41\n",
       "11 CD8Tcell_2 CD8Tcell  CD8Tcell   control         2 11230780 0.45\n",
       "12 CD8Tcell_3 CD8Tcell  CD8Tcell   control         3 20228671 0.48\n",
       "13 CD8Tcell_4 CD8Tcell  CD8Tcell   control         4  7618212 0.66\n",
       "14 CD8Tcell_5 CD8Tcell  CD8Tcell   control         5  8228425 0.61\n",
       "15     Mono_1     Mono      Mono   control         1  4122635 0.31\n",
       "16     Mono_2     Mono      Mono   control         2  3267929 0.44\n",
       "17     Mono_3     Mono      Mono   control         3  4354694 0.25\n",
       "18     Mono_4     Mono      Mono   control         4  4630430 0.26\n",
       "19     Mono_5     Mono      Mono   control         5  8147520 0.34\n",
       "20     Mono_6     Mono      Mono   control         6  9721689 0.33\n",
       "21   NKcell_1   NKcell    NKcell   control         1  6892346 0.54\n",
       "22   NKcell_2   NKcell    NKcell   control         2  7782070 0.44\n",
       "23   NKcell_3   NKcell    NKcell   control         3  6876725 0.44\n",
       "24   NKcell_4   NKcell    NKcell   control         4 21416455 0.46\n",
       "25   NKcell_5   NKcell    NKcell   control         5  7959095 0.47\n",
       "26   NKcell_6   NKcell    NKcell   control         6  7999778 0.54\n",
       "27      pDC_1      pDC       pDC   control         1  7551766 0.44\n",
       "28      pDC_2      pDC       pDC   control         2 19512092 0.51\n",
       "29      pDC_3      pDC       pDC   control         3 29591696 0.25"
      ]
     },
     "metadata": {},
     "output_type": "display_data"
    }
   ],
   "source": [
    "corces"
   ]
  },
  {
   "cell_type": "code",
   "execution_count": 10,
   "id": "81040433-2626-4ac1-90cf-18f15ed0d7b2",
   "metadata": {},
   "outputs": [
    {
     "data": {
      "image/png": "[encoded data removed]",
      "text/plain": [
       "Plot with title “Color Key\n",
       "and Histogram”"
      ]
     },
     "metadata": {
      "image/png": {
       "height": 420,
       "width": 420
      }
     },
     "output_type": "display_data"
    }
   ],
   "source": [
    "plot(corces)"
   ]
  },
  {
   "cell_type": "code",
   "execution_count": 11,
   "id": "34dc7a5e-fa1d-4ede-9d6c-3bd14c0f9e3f",
   "metadata": {},
   "outputs": [
    {
     "data": {
      "text/html": [
       "<table class=\"dataframe\">\n",
       "<caption>A matrix: 29 × 3 of type dbl</caption>\n",
       "<thead>\n",
       "\t<tr><th></th><th scope=col>LibReads</th><th scope=col>FRiP</th><th scope=col>PeakReads</th></tr>\n",
       "</thead>\n",
       "<tbody>\n",
       "\t<tr><th scope=row>Bcell_1</th><td>10633743</td><td>0.24</td><td>2552098</td></tr>\n",
       "\t<tr><th scope=row>Bcell_2</th><td>33051601</td><td>0.30</td><td>9915480</td></tr>\n",
       "\t<tr><th scope=row>Bcell_3</th><td>12871788</td><td>0.44</td><td>5663587</td></tr>\n",
       "\t<tr><th scope=row>Bcell_4</th><td> 2908237</td><td>0.57</td><td>1657695</td></tr>\n",
       "\t<tr><th scope=row>CD4Tcell_1</th><td> 5758439</td><td>0.61</td><td>3512648</td></tr>\n",
       "\t<tr><th scope=row>CD4Tcell_2</th><td>10731358</td><td>0.50</td><td>5365679</td></tr>\n",
       "\t<tr><th scope=row>CD4Tcell_3</th><td>15086963</td><td>0.41</td><td>6185655</td></tr>\n",
       "\t<tr><th scope=row>CD4Tcell_4</th><td> 8500373</td><td>0.52</td><td>4420194</td></tr>\n",
       "\t<tr><th scope=row>CD4Tcell_5</th><td> 7002029</td><td>0.48</td><td>3360974</td></tr>\n",
       "\t<tr><th scope=row>CD8Tcell_1</th><td> 4771124</td><td>0.41</td><td>1956161</td></tr>\n",
       "\t<tr><th scope=row>CD8Tcell_2</th><td>11230780</td><td>0.45</td><td>5053851</td></tr>\n",
       "\t<tr><th scope=row>CD8Tcell_3</th><td>20228671</td><td>0.48</td><td>9709762</td></tr>\n",
       "\t<tr><th scope=row>CD8Tcell_4</th><td> 7618212</td><td>0.66</td><td>5028020</td></tr>\n",
       "\t<tr><th scope=row>CD8Tcell_5</th><td> 8228425</td><td>0.61</td><td>5019339</td></tr>\n",
       "\t<tr><th scope=row>Mono_1</th><td> 4122635</td><td>0.31</td><td>1278017</td></tr>\n",
       "\t<tr><th scope=row>Mono_2</th><td> 3267929</td><td>0.44</td><td>1437889</td></tr>\n",
       "\t<tr><th scope=row>Mono_3</th><td> 4354694</td><td>0.25</td><td>1088674</td></tr>\n",
       "\t<tr><th scope=row>Mono_4</th><td> 4630430</td><td>0.26</td><td>1203912</td></tr>\n",
       "\t<tr><th scope=row>Mono_5</th><td> 8147520</td><td>0.34</td><td>2770157</td></tr>\n",
       "\t<tr><th scope=row>Mono_6</th><td> 9721689</td><td>0.33</td><td>3208157</td></tr>\n",
       "\t<tr><th scope=row>NKcell_1</th><td> 6892346</td><td>0.54</td><td>3721867</td></tr>\n",
       "\t<tr><th scope=row>NKcell_2</th><td> 7782070</td><td>0.44</td><td>3424111</td></tr>\n",
       "\t<tr><th scope=row>NKcell_3</th><td> 6876725</td><td>0.44</td><td>3025759</td></tr>\n",
       "\t<tr><th scope=row>NKcell_4</th><td>21416455</td><td>0.46</td><td>9851569</td></tr>\n",
       "\t<tr><th scope=row>NKcell_5</th><td> 7959095</td><td>0.47</td><td>3740775</td></tr>\n",
       "\t<tr><th scope=row>NKcell_6</th><td> 7999778</td><td>0.54</td><td>4319880</td></tr>\n",
       "\t<tr><th scope=row>pDC_1</th><td> 7551766</td><td>0.44</td><td>3322777</td></tr>\n",
       "\t<tr><th scope=row>pDC_2</th><td>19512092</td><td>0.51</td><td>9951167</td></tr>\n",
       "\t<tr><th scope=row>pDC_3</th><td>29591696</td><td>0.25</td><td>7397924</td></tr>\n",
       "</tbody>\n",
       "</table>\n"
      ],
      "text/latex": [
       "A matrix: 29 × 3 of type dbl\n",
       "\\begin{tabular}{r|lll}\n",
       "  & LibReads & FRiP & PeakReads\\\\\n",
       "\\hline\n",
       "\tBcell\\_1 & 10633743 & 0.24 & 2552098\\\\\n",
       "\tBcell\\_2 & 33051601 & 0.30 & 9915480\\\\\n",
       "\tBcell\\_3 & 12871788 & 0.44 & 5663587\\\\\n",
       "\tBcell\\_4 &  2908237 & 0.57 & 1657695\\\\\n",
       "\tCD4Tcell\\_1 &  5758439 & 0.61 & 3512648\\\\\n",
       "\tCD4Tcell\\_2 & 10731358 & 0.50 & 5365679\\\\\n",
       "\tCD4Tcell\\_3 & 15086963 & 0.41 & 6185655\\\\\n",
       "\tCD4Tcell\\_4 &  8500373 & 0.52 & 4420194\\\\\n",
       "\tCD4Tcell\\_5 &  7002029 & 0.48 & 3360974\\\\\n",
       "\tCD8Tcell\\_1 &  4771124 & 0.41 & 1956161\\\\\n",
       "\tCD8Tcell\\_2 & 11230780 & 0.45 & 5053851\\\\\n",
       "\tCD8Tcell\\_3 & 20228671 & 0.48 & 9709762\\\\\n",
       "\tCD8Tcell\\_4 &  7618212 & 0.66 & 5028020\\\\\n",
       "\tCD8Tcell\\_5 &  8228425 & 0.61 & 5019339\\\\\n",
       "\tMono\\_1 &  4122635 & 0.31 & 1278017\\\\\n",
       "\tMono\\_2 &  3267929 & 0.44 & 1437889\\\\\n",
       "\tMono\\_3 &  4354694 & 0.25 & 1088674\\\\\n",
       "\tMono\\_4 &  4630430 & 0.26 & 1203912\\\\\n",
       "\tMono\\_5 &  8147520 & 0.34 & 2770157\\\\\n",
       "\tMono\\_6 &  9721689 & 0.33 & 3208157\\\\\n",
       "\tNKcell\\_1 &  6892346 & 0.54 & 3721867\\\\\n",
       "\tNKcell\\_2 &  7782070 & 0.44 & 3424111\\\\\n",
       "\tNKcell\\_3 &  6876725 & 0.44 & 3025759\\\\\n",
       "\tNKcell\\_4 & 21416455 & 0.46 & 9851569\\\\\n",
       "\tNKcell\\_5 &  7959095 & 0.47 & 3740775\\\\\n",
       "\tNKcell\\_6 &  7999778 & 0.54 & 4319880\\\\\n",
       "\tpDC\\_1 &  7551766 & 0.44 & 3322777\\\\\n",
       "\tpDC\\_2 & 19512092 & 0.51 & 9951167\\\\\n",
       "\tpDC\\_3 & 29591696 & 0.25 & 7397924\\\\\n",
       "\\end{tabular}\n"
      ],
      "text/markdown": [
       "\n",
       "A matrix: 29 × 3 of type dbl\n",
       "\n",
       "| <!--/--> | LibReads | FRiP | PeakReads |\n",
       "|---|---|---|---|\n",
       "| Bcell_1 | 10633743 | 0.24 | 2552098 |\n",
       "| Bcell_2 | 33051601 | 0.30 | 9915480 |\n",
       "| Bcell_3 | 12871788 | 0.44 | 5663587 |\n",
       "| Bcell_4 |  2908237 | 0.57 | 1657695 |\n",
       "| CD4Tcell_1 |  5758439 | 0.61 | 3512648 |\n",
       "| CD4Tcell_2 | 10731358 | 0.50 | 5365679 |\n",
       "| CD4Tcell_3 | 15086963 | 0.41 | 6185655 |\n",
       "| CD4Tcell_4 |  8500373 | 0.52 | 4420194 |\n",
       "| CD4Tcell_5 |  7002029 | 0.48 | 3360974 |\n",
       "| CD8Tcell_1 |  4771124 | 0.41 | 1956161 |\n",
       "| CD8Tcell_2 | 11230780 | 0.45 | 5053851 |\n",
       "| CD8Tcell_3 | 20228671 | 0.48 | 9709762 |\n",
       "| CD8Tcell_4 |  7618212 | 0.66 | 5028020 |\n",
       "| CD8Tcell_5 |  8228425 | 0.61 | 5019339 |\n",
       "| Mono_1 |  4122635 | 0.31 | 1278017 |\n",
       "| Mono_2 |  3267929 | 0.44 | 1437889 |\n",
       "| Mono_3 |  4354694 | 0.25 | 1088674 |\n",
       "| Mono_4 |  4630430 | 0.26 | 1203912 |\n",
       "| Mono_5 |  8147520 | 0.34 | 2770157 |\n",
       "| Mono_6 |  9721689 | 0.33 | 3208157 |\n",
       "| NKcell_1 |  6892346 | 0.54 | 3721867 |\n",
       "| NKcell_2 |  7782070 | 0.44 | 3424111 |\n",
       "| NKcell_3 |  6876725 | 0.44 | 3025759 |\n",
       "| NKcell_4 | 21416455 | 0.46 | 9851569 |\n",
       "| NKcell_5 |  7959095 | 0.47 | 3740775 |\n",
       "| NKcell_6 |  7999778 | 0.54 | 4319880 |\n",
       "| pDC_1 |  7551766 | 0.44 | 3322777 |\n",
       "| pDC_2 | 19512092 | 0.51 | 9951167 |\n",
       "| pDC_3 | 29591696 | 0.25 | 7397924 |\n",
       "\n"
      ],
      "text/plain": [
       "           LibReads FRiP PeakReads\n",
       "Bcell_1    10633743 0.24 2552098  \n",
       "Bcell_2    33051601 0.30 9915480  \n",
       "Bcell_3    12871788 0.44 5663587  \n",
       "Bcell_4     2908237 0.57 1657695  \n",
       "CD4Tcell_1  5758439 0.61 3512648  \n",
       "CD4Tcell_2 10731358 0.50 5365679  \n",
       "CD4Tcell_3 15086963 0.41 6185655  \n",
       "CD4Tcell_4  8500373 0.52 4420194  \n",
       "CD4Tcell_5  7002029 0.48 3360974  \n",
       "CD8Tcell_1  4771124 0.41 1956161  \n",
       "CD8Tcell_2 11230780 0.45 5053851  \n",
       "CD8Tcell_3 20228671 0.48 9709762  \n",
       "CD8Tcell_4  7618212 0.66 5028020  \n",
       "CD8Tcell_5  8228425 0.61 5019339  \n",
       "Mono_1      4122635 0.31 1278017  \n",
       "Mono_2      3267929 0.44 1437889  \n",
       "Mono_3      4354694 0.25 1088674  \n",
       "Mono_4      4630430 0.26 1203912  \n",
       "Mono_5      8147520 0.34 2770157  \n",
       "Mono_6      9721689 0.33 3208157  \n",
       "NKcell_1    6892346 0.54 3721867  \n",
       "NKcell_2    7782070 0.44 3424111  \n",
       "NKcell_3    6876725 0.44 3025759  \n",
       "NKcell_4   21416455 0.46 9851569  \n",
       "NKcell_5    7959095 0.47 3740775  \n",
       "NKcell_6    7999778 0.54 4319880  \n",
       "pDC_1       7551766 0.44 3322777  \n",
       "pDC_2      19512092 0.51 9951167  \n",
       "pDC_3      29591696 0.25 7397924  "
      ]
     },
     "metadata": {},
     "output_type": "display_data"
    }
   ],
   "source": [
    "info <- dba.show(corces)\n",
    "libsizes <- cbind(LibReads=info$Reads, FRiP=info$FRiP,PeakReads=round(info$Reads * info$FRiP))\n",
    "rownames(libsizes) <- info$ID\n",
    "libsizes"
   ]
  },
  {
   "cell_type": "code",
   "execution_count": 12,
   "id": "db47b280-9ef0-453c-be5c-40804bcd20cd",
   "metadata": {},
   "outputs": [],
   "source": [
    "corces_norm <- dba.normalize(corces)"
   ]
  },
  {
   "cell_type": "code",
   "execution_count": 13,
   "id": "b881204d-0b7a-44ca-bbef-c17461ae778d",
   "metadata": {},
   "outputs": [
    {
     "data": {
      "image/png": "[encoded data removed]",
      "text/plain": [
       "Plot with title “Color Key\n",
       "and Histogram”"
      ]
     },
     "metadata": {
      "image/png": {
       "height": 420,
       "width": 420
      }
     },
     "output_type": "display_data"
    }
   ],
   "source": [
    "plot(corces_norm)"
   ]
  },
  {
   "cell_type": "code",
   "execution_count": 14,
   "id": "a6093702-443f-4e9c-b19f-5e2c6dfb6844",
   "metadata": {},
   "outputs": [
    {
     "data": {
      "image/png": "[encoded data removed]",
      "text/plain": [
       "plot without title"
      ]
     },
     "metadata": {
      "image/png": {
       "height": 420,
       "width": 420
      }
     },
     "output_type": "display_data"
    }
   ],
   "source": [
    "dba.plotPCA(corces_norm,  attributes=DBA_CONTROL, label=DBA_ID)"
   ]
  },
  {
   "cell_type": "code",
   "execution_count": 15,
   "id": "d5bd764d-4ea9-44c3-b1c7-0b8d247a60a1",
   "metadata": {},
   "outputs": [
    {
     "data": {
      "text/html": [
       "<table class=\"dataframe\">\n",
       "<caption>A matrix: 29 × 3 of type dbl</caption>\n",
       "<thead>\n",
       "\t<tr><th></th><th scope=col>FullLibSize</th><th scope=col>NormFacs</th><th scope=col>NormLibSize</th></tr>\n",
       "</thead>\n",
       "<tbody>\n",
       "\t<tr><th scope=row>Bcell_1</th><td>10633743</td><td>0.9997727</td><td>10636161</td></tr>\n",
       "\t<tr><th scope=row>Bcell_2</th><td>33051601</td><td>3.1074747</td><td>10636161</td></tr>\n",
       "\t<tr><th scope=row>Bcell_3</th><td>12871788</td><td>1.2101912</td><td>10636161</td></tr>\n",
       "\t<tr><th scope=row>Bcell_4</th><td> 2908237</td><td>0.2734292</td><td>10636161</td></tr>\n",
       "\t<tr><th scope=row>CD4Tcell_1</th><td> 5758439</td><td>0.5414020</td><td>10636161</td></tr>\n",
       "\t<tr><th scope=row>CD4Tcell_2</th><td>10731358</td><td>1.0089503</td><td>10636161</td></tr>\n",
       "\t<tr><th scope=row>CD4Tcell_3</th><td>15086963</td><td>1.4184595</td><td>10636161</td></tr>\n",
       "\t<tr><th scope=row>CD4Tcell_4</th><td> 8500373</td><td>0.7991956</td><td>10636161</td></tr>\n",
       "\t<tr><th scope=row>CD4Tcell_5</th><td> 7002029</td><td>0.6583230</td><td>10636161</td></tr>\n",
       "\t<tr><th scope=row>CD8Tcell_1</th><td> 4771124</td><td>0.4485758</td><td>10636161</td></tr>\n",
       "\t<tr><th scope=row>CD8Tcell_2</th><td>11230780</td><td>1.0559054</td><td>10636161</td></tr>\n",
       "\t<tr><th scope=row>CD8Tcell_3</th><td>20228671</td><td>1.9018771</td><td>10636161</td></tr>\n",
       "\t<tr><th scope=row>CD8Tcell_4</th><td> 7618212</td><td>0.7162558</td><td>10636161</td></tr>\n",
       "\t<tr><th scope=row>CD8Tcell_5</th><td> 8228425</td><td>0.7736274</td><td>10636161</td></tr>\n",
       "\t<tr><th scope=row>Mono_1</th><td> 4122635</td><td>0.3876056</td><td>10636161</td></tr>\n",
       "\t<tr><th scope=row>Mono_2</th><td> 3267929</td><td>0.3072470</td><td>10636161</td></tr>\n",
       "\t<tr><th scope=row>Mono_3</th><td> 4354694</td><td>0.4094235</td><td>10636161</td></tr>\n",
       "\t<tr><th scope=row>Mono_4</th><td> 4630430</td><td>0.4353479</td><td>10636161</td></tr>\n",
       "\t<tr><th scope=row>Mono_5</th><td> 8147520</td><td>0.7660208</td><td>10636161</td></tr>\n",
       "\t<tr><th scope=row>Mono_6</th><td> 9721689</td><td>0.9140224</td><td>10636161</td></tr>\n",
       "\t<tr><th scope=row>NKcell_1</th><td> 6892346</td><td>0.6480107</td><td>10636161</td></tr>\n",
       "\t<tr><th scope=row>NKcell_2</th><td> 7782070</td><td>0.7316616</td><td>10636161</td></tr>\n",
       "\t<tr><th scope=row>NKcell_3</th><td> 6876725</td><td>0.6465420</td><td>10636161</td></tr>\n",
       "\t<tr><th scope=row>NKcell_4</th><td>21416455</td><td>2.0135513</td><td>10636161</td></tr>\n",
       "\t<tr><th scope=row>NKcell_5</th><td> 7959095</td><td>0.7483053</td><td>10636161</td></tr>\n",
       "\t<tr><th scope=row>NKcell_6</th><td> 7999778</td><td>0.7521302</td><td>10636161</td></tr>\n",
       "\t<tr><th scope=row>pDC_1</th><td> 7551766</td><td>0.7100086</td><td>10636161</td></tr>\n",
       "\t<tr><th scope=row>pDC_2</th><td>19512092</td><td>1.8345052</td><td>10636161</td></tr>\n",
       "\t<tr><th scope=row>pDC_3</th><td>29591696</td><td>2.7821783</td><td>10636161</td></tr>\n",
       "</tbody>\n",
       "</table>\n"
      ],
      "text/latex": [
       "A matrix: 29 × 3 of type dbl\n",
       "\\begin{tabular}{r|lll}\n",
       "  & FullLibSize & NormFacs & NormLibSize\\\\\n",
       "\\hline\n",
       "\tBcell\\_1 & 10633743 & 0.9997727 & 10636161\\\\\n",
       "\tBcell\\_2 & 33051601 & 3.1074747 & 10636161\\\\\n",
       "\tBcell\\_3 & 12871788 & 1.2101912 & 10636161\\\\\n",
       "\tBcell\\_4 &  2908237 & 0.2734292 & 10636161\\\\\n",
       "\tCD4Tcell\\_1 &  5758439 & 0.5414020 & 10636161\\\\\n",
       "\tCD4Tcell\\_2 & 10731358 & 1.0089503 & 10636161\\\\\n",
       "\tCD4Tcell\\_3 & 15086963 & 1.4184595 & 10636161\\\\\n",
       "\tCD4Tcell\\_4 &  8500373 & 0.7991956 & 10636161\\\\\n",
       "\tCD4Tcell\\_5 &  7002029 & 0.6583230 & 10636161\\\\\n",
       "\tCD8Tcell\\_1 &  4771124 & 0.4485758 & 10636161\\\\\n",
       "\tCD8Tcell\\_2 & 11230780 & 1.0559054 & 10636161\\\\\n",
       "\tCD8Tcell\\_3 & 20228671 & 1.9018771 & 10636161\\\\\n",
       "\tCD8Tcell\\_4 &  7618212 & 0.7162558 & 10636161\\\\\n",
       "\tCD8Tcell\\_5 &  8228425 & 0.7736274 & 10636161\\\\\n",
       "\tMono\\_1 &  4122635 & 0.3876056 & 10636161\\\\\n",
       "\tMono\\_2 &  3267929 & 0.3072470 & 10636161\\\\\n",
       "\tMono\\_3 &  4354694 & 0.4094235 & 10636161\\\\\n",
       "\tMono\\_4 &  4630430 & 0.4353479 & 10636161\\\\\n",
       "\tMono\\_5 &  8147520 & 0.7660208 & 10636161\\\\\n",
       "\tMono\\_6 &  9721689 & 0.9140224 & 10636161\\\\\n",
       "\tNKcell\\_1 &  6892346 & 0.6480107 & 10636161\\\\\n",
       "\tNKcell\\_2 &  7782070 & 0.7316616 & 10636161\\\\\n",
       "\tNKcell\\_3 &  6876725 & 0.6465420 & 10636161\\\\\n",
       "\tNKcell\\_4 & 21416455 & 2.0135513 & 10636161\\\\\n",
       "\tNKcell\\_5 &  7959095 & 0.7483053 & 10636161\\\\\n",
       "\tNKcell\\_6 &  7999778 & 0.7521302 & 10636161\\\\\n",
       "\tpDC\\_1 &  7551766 & 0.7100086 & 10636161\\\\\n",
       "\tpDC\\_2 & 19512092 & 1.8345052 & 10636161\\\\\n",
       "\tpDC\\_3 & 29591696 & 2.7821783 & 10636161\\\\\n",
       "\\end{tabular}\n"
      ],
      "text/markdown": [
       "\n",
       "A matrix: 29 × 3 of type dbl\n",
       "\n",
       "| <!--/--> | FullLibSize | NormFacs | NormLibSize |\n",
       "|---|---|---|---|\n",
       "| Bcell_1 | 10633743 | 0.9997727 | 10636161 |\n",
       "| Bcell_2 | 33051601 | 3.1074747 | 10636161 |\n",
       "| Bcell_3 | 12871788 | 1.2101912 | 10636161 |\n",
       "| Bcell_4 |  2908237 | 0.2734292 | 10636161 |\n",
       "| CD4Tcell_1 |  5758439 | 0.5414020 | 10636161 |\n",
       "| CD4Tcell_2 | 10731358 | 1.0089503 | 10636161 |\n",
       "| CD4Tcell_3 | 15086963 | 1.4184595 | 10636161 |\n",
       "| CD4Tcell_4 |  8500373 | 0.7991956 | 10636161 |\n",
       "| CD4Tcell_5 |  7002029 | 0.6583230 | 10636161 |\n",
       "| CD8Tcell_1 |  4771124 | 0.4485758 | 10636161 |\n",
       "| CD8Tcell_2 | 11230780 | 1.0559054 | 10636161 |\n",
       "| CD8Tcell_3 | 20228671 | 1.9018771 | 10636161 |\n",
       "| CD8Tcell_4 |  7618212 | 0.7162558 | 10636161 |\n",
       "| CD8Tcell_5 |  8228425 | 0.7736274 | 10636161 |\n",
       "| Mono_1 |  4122635 | 0.3876056 | 10636161 |\n",
       "| Mono_2 |  3267929 | 0.3072470 | 10636161 |\n",
       "| Mono_3 |  4354694 | 0.4094235 | 10636161 |\n",
       "| Mono_4 |  4630430 | 0.4353479 | 10636161 |\n",
       "| Mono_5 |  8147520 | 0.7660208 | 10636161 |\n",
       "| Mono_6 |  9721689 | 0.9140224 | 10636161 |\n",
       "| NKcell_1 |  6892346 | 0.6480107 | 10636161 |\n",
       "| NKcell_2 |  7782070 | 0.7316616 | 10636161 |\n",
       "| NKcell_3 |  6876725 | 0.6465420 | 10636161 |\n",
       "| NKcell_4 | 21416455 | 2.0135513 | 10636161 |\n",
       "| NKcell_5 |  7959095 | 0.7483053 | 10636161 |\n",
       "| NKcell_6 |  7999778 | 0.7521302 | 10636161 |\n",
       "| pDC_1 |  7551766 | 0.7100086 | 10636161 |\n",
       "| pDC_2 | 19512092 | 1.8345052 | 10636161 |\n",
       "| pDC_3 | 29591696 | 2.7821783 | 10636161 |\n",
       "\n"
      ],
      "text/plain": [
       "           FullLibSize NormFacs  NormLibSize\n",
       "Bcell_1    10633743    0.9997727 10636161   \n",
       "Bcell_2    33051601    3.1074747 10636161   \n",
       "Bcell_3    12871788    1.2101912 10636161   \n",
       "Bcell_4     2908237    0.2734292 10636161   \n",
       "CD4Tcell_1  5758439    0.5414020 10636161   \n",
       "CD4Tcell_2 10731358    1.0089503 10636161   \n",
       "CD4Tcell_3 15086963    1.4184595 10636161   \n",
       "CD4Tcell_4  8500373    0.7991956 10636161   \n",
       "CD4Tcell_5  7002029    0.6583230 10636161   \n",
       "CD8Tcell_1  4771124    0.4485758 10636161   \n",
       "CD8Tcell_2 11230780    1.0559054 10636161   \n",
       "CD8Tcell_3 20228671    1.9018771 10636161   \n",
       "CD8Tcell_4  7618212    0.7162558 10636161   \n",
       "CD8Tcell_5  8228425    0.7736274 10636161   \n",
       "Mono_1      4122635    0.3876056 10636161   \n",
       "Mono_2      3267929    0.3072470 10636161   \n",
       "Mono_3      4354694    0.4094235 10636161   \n",
       "Mono_4      4630430    0.4353479 10636161   \n",
       "Mono_5      8147520    0.7660208 10636161   \n",
       "Mono_6      9721689    0.9140224 10636161   \n",
       "NKcell_1    6892346    0.6480107 10636161   \n",
       "NKcell_2    7782070    0.7316616 10636161   \n",
       "NKcell_3    6876725    0.6465420 10636161   \n",
       "NKcell_4   21416455    2.0135513 10636161   \n",
       "NKcell_5    7959095    0.7483053 10636161   \n",
       "NKcell_6    7999778    0.7521302 10636161   \n",
       "pDC_1       7551766    0.7100086 10636161   \n",
       "pDC_2      19512092    1.8345052 10636161   \n",
       "pDC_3      29591696    2.7821783 10636161   "
      ]
     },
     "metadata": {},
     "output_type": "display_data"
    }
   ],
   "source": [
    "norm <- dba.normalize(corces_norm, bRetrieve=TRUE)\n",
    "normlibs <- cbind(FullLibSize=norm$lib.sizes, NormFacs=norm$norm.factors, NormLibSize=round(norm$lib.sizes/norm$norm.factors))\n",
    "rownames(normlibs) <- info$ID\n",
    "normlibs"
   ]
  },
  {
   "cell_type": "code",
   "execution_count": 16,
   "id": "5eadb994-e1ba-4b6e-a23b-13e9494130ba",
   "metadata": {},
   "outputs": [
    {
     "name": "stderr",
     "output_type": "stream",
     "text": [
      "Computing results names...\n",
      "\n"
     ]
    }
   ],
   "source": [
    "corces_norm <- dba.contrast(corces_norm, categories=DBA_CONDITION,minMembers = 2)"
   ]
  },
  {
   "cell_type": "code",
   "execution_count": 17,
   "id": "afba73d0-b7b6-4c6c-9dc3-638a2a043fd3",
   "metadata": {},
   "outputs": [
    {
     "data": {
      "text/plain": [
       "29 Samples, 579423 sites in matrix:\n",
       "           ID   Tissue Condition Treatment Replicate    Reads FRiP\n",
       "1     Bcell_1    Bcell     Bcell   control         1 10633743 0.24\n",
       "2     Bcell_2    Bcell     Bcell   control         2 33051601 0.30\n",
       "3     Bcell_3    Bcell     Bcell   control         3 12871788 0.44\n",
       "4     Bcell_4    Bcell     Bcell   control         4  2908237 0.57\n",
       "5  CD4Tcell_1 CD4Tcell  CD4Tcell   control         1  5758439 0.61\n",
       "6  CD4Tcell_2 CD4Tcell  CD4Tcell   control         2 10731358 0.50\n",
       "7  CD4Tcell_3 CD4Tcell  CD4Tcell   control         3 15086963 0.41\n",
       "8  CD4Tcell_4 CD4Tcell  CD4Tcell   control         4  8500373 0.52\n",
       "9  CD4Tcell_5 CD4Tcell  CD4Tcell   control         5  7002029 0.48\n",
       "10 CD8Tcell_1 CD8Tcell  CD8Tcell   control         1  4771124 0.41\n",
       "11 CD8Tcell_2 CD8Tcell  CD8Tcell   control         2 11230780 0.45\n",
       "12 CD8Tcell_3 CD8Tcell  CD8Tcell   control         3 20228671 0.48\n",
       "13 CD8Tcell_4 CD8Tcell  CD8Tcell   control         4  7618212 0.66\n",
       "14 CD8Tcell_5 CD8Tcell  CD8Tcell   control         5  8228425 0.61\n",
       "15     Mono_1     Mono      Mono   control         1  4122635 0.31\n",
       "16     Mono_2     Mono      Mono   control         2  3267929 0.44\n",
       "17     Mono_3     Mono      Mono   control         3  4354694 0.25\n",
       "18     Mono_4     Mono      Mono   control         4  4630430 0.26\n",
       "19     Mono_5     Mono      Mono   control         5  8147520 0.34\n",
       "20     Mono_6     Mono      Mono   control         6  9721689 0.33\n",
       "21   NKcell_1   NKcell    NKcell   control         1  6892346 0.54\n",
       "22   NKcell_2   NKcell    NKcell   control         2  7782070 0.44\n",
       "23   NKcell_3   NKcell    NKcell   control         3  6876725 0.44\n",
       "24   NKcell_4   NKcell    NKcell   control         4 21416455 0.46\n",
       "25   NKcell_5   NKcell    NKcell   control         5  7959095 0.47\n",
       "26   NKcell_6   NKcell    NKcell   control         6  7999778 0.54\n",
       "27      pDC_1      pDC       pDC   control         1  7551766 0.44\n",
       "28      pDC_2      pDC       pDC   control         2 19512092 0.51\n",
       "29      pDC_3      pDC       pDC   control         3 29591696 0.25\n",
       "\n",
       "Design: [~Condition] | 15 Contrasts:\n",
       "      Factor    Group Samples   Group2 Samples2\n",
       "1  Condition    Bcell       4 CD4Tcell        5\n",
       "2  Condition    Bcell       4 CD8Tcell        5\n",
       "3  Condition    Bcell       4     Mono        6\n",
       "4  Condition    Bcell       4   NKcell        6\n",
       "5  Condition    Bcell       4      pDC        3\n",
       "6  Condition CD4Tcell       5 CD8Tcell        5\n",
       "7  Condition CD4Tcell       5     Mono        6\n",
       "8  Condition CD4Tcell       5   NKcell        6\n",
       "9  Condition CD4Tcell       5      pDC        3\n",
       "10 Condition CD8Tcell       5     Mono        6\n",
       "11 Condition CD8Tcell       5   NKcell        6\n",
       "12 Condition CD8Tcell       5      pDC        3\n",
       "13 Condition     Mono       6   NKcell        6\n",
       "14 Condition     Mono       6      pDC        3\n",
       "15 Condition      pDC       3   NKcell        6"
      ]
     },
     "metadata": {},
     "output_type": "display_data"
    }
   ],
   "source": [
    "corces_norm"
   ]
  },
  {
   "cell_type": "code",
   "execution_count": 18,
   "id": "74dd5d45-571c-4b3c-8abe-8d2916575b53",
   "metadata": {},
   "outputs": [
    {
     "name": "stderr",
     "output_type": "stream",
     "text": [
      "Applying Blacklist/Greylists...\n",
      "\n",
      "Genome detected: Hsapiens.UCSC.hg38\n",
      "\n",
      "Applying blacklist...\n",
      "\n",
      "Removed: 263 of 579423 intervals.\n",
      "\n",
      "Re-normalizing...\n",
      "\n",
      "Removed 263 (of 579423) consensus peaks.\n",
      "\n",
      "Analyzing...\n",
      "\n",
      "gene-wise dispersion estimates\n",
      "\n",
      "mean-dispersion relationship\n",
      "\n",
      "final dispersion estimates\n",
      "\n"
     ]
    }
   ],
   "source": [
    "corces_norm <- dba.analyze(corces_norm)"
   ]
  },
  {
   "cell_type": "code",
   "execution_count": 19,
   "id": "868c32c2-4bd4-480b-bf9f-291e9f08a3fa",
   "metadata": {},
   "outputs": [
    {
     "data": {
      "text/html": [
       "<table class=\"dataframe\">\n",
       "<caption>A data.frame: 15 × 6</caption>\n",
       "<thead>\n",
       "\t<tr><th></th><th scope=col>Factor</th><th scope=col>Group</th><th scope=col>Samples</th><th scope=col>Group2</th><th scope=col>Samples2</th><th scope=col>DB.DESeq2</th></tr>\n",
       "\t<tr><th></th><th scope=col>&lt;chr&gt;</th><th scope=col>&lt;chr&gt;</th><th scope=col>&lt;chr&gt;</th><th scope=col>&lt;chr&gt;</th><th scope=col>&lt;chr&gt;</th><th scope=col>&lt;chr&gt;</th></tr>\n",
       "</thead>\n",
       "<tbody>\n",
       "\t<tr><th scope=row>1</th><td>Condition</td><td>Bcell   </td><td>4</td><td>CD4Tcell</td><td>5</td><td>46645</td></tr>\n",
       "\t<tr><th scope=row>2</th><td>Condition</td><td>Bcell   </td><td>4</td><td>CD8Tcell</td><td>5</td><td>53466</td></tr>\n",
       "\t<tr><th scope=row>3</th><td>Condition</td><td>Bcell   </td><td>4</td><td>Mono    </td><td>6</td><td>42782</td></tr>\n",
       "\t<tr><th scope=row>4</th><td>Condition</td><td>Bcell   </td><td>4</td><td>NKcell  </td><td>6</td><td>47172</td></tr>\n",
       "\t<tr><th scope=row>5</th><td>Condition</td><td>Bcell   </td><td>4</td><td>pDC     </td><td>3</td><td>28315</td></tr>\n",
       "\t<tr><th scope=row>6</th><td>Condition</td><td>CD4Tcell</td><td>5</td><td>CD8Tcell</td><td>5</td><td>5770 </td></tr>\n",
       "\t<tr><th scope=row>7</th><td>Condition</td><td>CD4Tcell</td><td>5</td><td>Mono    </td><td>6</td><td>72912</td></tr>\n",
       "\t<tr><th scope=row>8</th><td>Condition</td><td>CD4Tcell</td><td>5</td><td>NKcell  </td><td>6</td><td>32030</td></tr>\n",
       "\t<tr><th scope=row>9</th><td>Condition</td><td>CD4Tcell</td><td>5</td><td>pDC     </td><td>3</td><td>70972</td></tr>\n",
       "\t<tr><th scope=row>10</th><td>Condition</td><td>CD8Tcell</td><td>5</td><td>Mono    </td><td>6</td><td>79999</td></tr>\n",
       "\t<tr><th scope=row>11</th><td>Condition</td><td>CD8Tcell</td><td>5</td><td>NKcell  </td><td>6</td><td>15673</td></tr>\n",
       "\t<tr><th scope=row>12</th><td>Condition</td><td>CD8Tcell</td><td>5</td><td>pDC     </td><td>3</td><td>77416</td></tr>\n",
       "\t<tr><th scope=row>13</th><td>Condition</td><td>Mono    </td><td>6</td><td>NKcell  </td><td>6</td><td>67820</td></tr>\n",
       "\t<tr><th scope=row>14</th><td>Condition</td><td>Mono    </td><td>6</td><td>pDC     </td><td>3</td><td>43635</td></tr>\n",
       "\t<tr><th scope=row>15</th><td>Condition</td><td>pDC     </td><td>3</td><td>NKcell  </td><td>6</td><td>66681</td></tr>\n",
       "</tbody>\n",
       "</table>\n"
      ],
      "text/latex": [
       "A data.frame: 15 × 6\n",
       "\\begin{tabular}{r|llllll}\n",
       "  & Factor & Group & Samples & Group2 & Samples2 & DB.DESeq2\\\\\n",
       "  & <chr> & <chr> & <chr> & <chr> & <chr> & <chr>\\\\\n",
       "\\hline\n",
       "\t1 & Condition & Bcell    & 4 & CD4Tcell & 5 & 46645\\\\\n",
       "\t2 & Condition & Bcell    & 4 & CD8Tcell & 5 & 53466\\\\\n",
       "\t3 & Condition & Bcell    & 4 & Mono     & 6 & 42782\\\\\n",
       "\t4 & Condition & Bcell    & 4 & NKcell   & 6 & 47172\\\\\n",
       "\t5 & Condition & Bcell    & 4 & pDC      & 3 & 28315\\\\\n",
       "\t6 & Condition & CD4Tcell & 5 & CD8Tcell & 5 & 5770 \\\\\n",
       "\t7 & Condition & CD4Tcell & 5 & Mono     & 6 & 72912\\\\\n",
       "\t8 & Condition & CD4Tcell & 5 & NKcell   & 6 & 32030\\\\\n",
       "\t9 & Condition & CD4Tcell & 5 & pDC      & 3 & 70972\\\\\n",
       "\t10 & Condition & CD8Tcell & 5 & Mono     & 6 & 79999\\\\\n",
       "\t11 & Condition & CD8Tcell & 5 & NKcell   & 6 & 15673\\\\\n",
       "\t12 & Condition & CD8Tcell & 5 & pDC      & 3 & 77416\\\\\n",
       "\t13 & Condition & Mono     & 6 & NKcell   & 6 & 67820\\\\\n",
       "\t14 & Condition & Mono     & 6 & pDC      & 3 & 43635\\\\\n",
       "\t15 & Condition & pDC      & 3 & NKcell   & 6 & 66681\\\\\n",
       "\\end{tabular}\n"
      ],
      "text/markdown": [
       "\n",
       "A data.frame: 15 × 6\n",
       "\n",
       "| <!--/--> | Factor &lt;chr&gt; | Group &lt;chr&gt; | Samples &lt;chr&gt; | Group2 &lt;chr&gt; | Samples2 &lt;chr&gt; | DB.DESeq2 &lt;chr&gt; |\n",
       "|---|---|---|---|---|---|---|\n",
       "| 1 | Condition | Bcell    | 4 | CD4Tcell | 5 | 46645 |\n",
       "| 2 | Condition | Bcell    | 4 | CD8Tcell | 5 | 53466 |\n",
       "| 3 | Condition | Bcell    | 4 | Mono     | 6 | 42782 |\n",
       "| 4 | Condition | Bcell    | 4 | NKcell   | 6 | 47172 |\n",
       "| 5 | Condition | Bcell    | 4 | pDC      | 3 | 28315 |\n",
       "| 6 | Condition | CD4Tcell | 5 | CD8Tcell | 5 | 5770  |\n",
       "| 7 | Condition | CD4Tcell | 5 | Mono     | 6 | 72912 |\n",
       "| 8 | Condition | CD4Tcell | 5 | NKcell   | 6 | 32030 |\n",
       "| 9 | Condition | CD4Tcell | 5 | pDC      | 3 | 70972 |\n",
       "| 10 | Condition | CD8Tcell | 5 | Mono     | 6 | 79999 |\n",
       "| 11 | Condition | CD8Tcell | 5 | NKcell   | 6 | 15673 |\n",
       "| 12 | Condition | CD8Tcell | 5 | pDC      | 3 | 77416 |\n",
       "| 13 | Condition | Mono     | 6 | NKcell   | 6 | 67820 |\n",
       "| 14 | Condition | Mono     | 6 | pDC      | 3 | 43635 |\n",
       "| 15 | Condition | pDC      | 3 | NKcell   | 6 | 66681 |\n",
       "\n"
      ],
      "text/plain": [
       "   Factor    Group    Samples Group2   Samples2 DB.DESeq2\n",
       "1  Condition Bcell    4       CD4Tcell 5        46645    \n",
       "2  Condition Bcell    4       CD8Tcell 5        53466    \n",
       "3  Condition Bcell    4       Mono     6        42782    \n",
       "4  Condition Bcell    4       NKcell   6        47172    \n",
       "5  Condition Bcell    4       pDC      3        28315    \n",
       "6  Condition CD4Tcell 5       CD8Tcell 5        5770     \n",
       "7  Condition CD4Tcell 5       Mono     6        72912    \n",
       "8  Condition CD4Tcell 5       NKcell   6        32030    \n",
       "9  Condition CD4Tcell 5       pDC      3        70972    \n",
       "10 Condition CD8Tcell 5       Mono     6        79999    \n",
       "11 Condition CD8Tcell 5       NKcell   6        15673    \n",
       "12 Condition CD8Tcell 5       pDC      3        77416    \n",
       "13 Condition Mono     6       NKcell   6        67820    \n",
       "14 Condition Mono     6       pDC      3        43635    \n",
       "15 Condition pDC      3       NKcell   6        66681    "
      ]
     },
     "metadata": {},
     "output_type": "display_data"
    }
   ],
   "source": [
    "dba.show(corces_norm, bContrasts=TRUE)"
   ]
  },
  {
   "cell_type": "code",
   "execution_count": 20,
   "id": "911a752a-cbaa-4cca-bab1-68be27cee027",
   "metadata": {},
   "outputs": [
    {
     "data": {
      "text/html": [
       "<table class=\"dataframe\">\n",
       "<caption>A data.frame: 15 × 6</caption>\n",
       "<thead>\n",
       "\t<tr><th></th><th scope=col>Factor</th><th scope=col>Group</th><th scope=col>Samples</th><th scope=col>Group2</th><th scope=col>Samples2</th><th scope=col>DB.DESeq2</th></tr>\n",
       "\t<tr><th></th><th scope=col>&lt;chr&gt;</th><th scope=col>&lt;chr&gt;</th><th scope=col>&lt;chr&gt;</th><th scope=col>&lt;chr&gt;</th><th scope=col>&lt;chr&gt;</th><th scope=col>&lt;chr&gt;</th></tr>\n",
       "</thead>\n",
       "<tbody>\n",
       "\t<tr><th scope=row>1</th><td>Condition</td><td>Bcell   </td><td>4</td><td>CD4Tcell</td><td>5</td><td>46645</td></tr>\n",
       "\t<tr><th scope=row>2</th><td>Condition</td><td>Bcell   </td><td>4</td><td>CD8Tcell</td><td>5</td><td>53466</td></tr>\n",
       "\t<tr><th scope=row>3</th><td>Condition</td><td>Bcell   </td><td>4</td><td>Mono    </td><td>6</td><td>42782</td></tr>\n",
       "\t<tr><th scope=row>4</th><td>Condition</td><td>Bcell   </td><td>4</td><td>NKcell  </td><td>6</td><td>47172</td></tr>\n",
       "\t<tr><th scope=row>5</th><td>Condition</td><td>Bcell   </td><td>4</td><td>pDC     </td><td>3</td><td>28315</td></tr>\n",
       "\t<tr><th scope=row>6</th><td>Condition</td><td>CD4Tcell</td><td>5</td><td>CD8Tcell</td><td>5</td><td>5770 </td></tr>\n",
       "\t<tr><th scope=row>7</th><td>Condition</td><td>CD4Tcell</td><td>5</td><td>Mono    </td><td>6</td><td>72912</td></tr>\n",
       "\t<tr><th scope=row>8</th><td>Condition</td><td>CD4Tcell</td><td>5</td><td>NKcell  </td><td>6</td><td>32030</td></tr>\n",
       "\t<tr><th scope=row>9</th><td>Condition</td><td>CD4Tcell</td><td>5</td><td>pDC     </td><td>3</td><td>70972</td></tr>\n",
       "\t<tr><th scope=row>10</th><td>Condition</td><td>CD8Tcell</td><td>5</td><td>Mono    </td><td>6</td><td>79999</td></tr>\n",
       "\t<tr><th scope=row>11</th><td>Condition</td><td>CD8Tcell</td><td>5</td><td>NKcell  </td><td>6</td><td>15673</td></tr>\n",
       "\t<tr><th scope=row>12</th><td>Condition</td><td>CD8Tcell</td><td>5</td><td>pDC     </td><td>3</td><td>77416</td></tr>\n",
       "\t<tr><th scope=row>13</th><td>Condition</td><td>Mono    </td><td>6</td><td>NKcell  </td><td>6</td><td>67820</td></tr>\n",
       "\t<tr><th scope=row>14</th><td>Condition</td><td>Mono    </td><td>6</td><td>pDC     </td><td>3</td><td>43635</td></tr>\n",
       "\t<tr><th scope=row>15</th><td>Condition</td><td>pDC     </td><td>3</td><td>NKcell  </td><td>6</td><td>66681</td></tr>\n",
       "</tbody>\n",
       "</table>\n"
      ],
      "text/latex": [
       "A data.frame: 15 × 6\n",
       "\\begin{tabular}{r|llllll}\n",
       "  & Factor & Group & Samples & Group2 & Samples2 & DB.DESeq2\\\\\n",
       "  & <chr> & <chr> & <chr> & <chr> & <chr> & <chr>\\\\\n",
       "\\hline\n",
       "\t1 & Condition & Bcell    & 4 & CD4Tcell & 5 & 46645\\\\\n",
       "\t2 & Condition & Bcell    & 4 & CD8Tcell & 5 & 53466\\\\\n",
       "\t3 & Condition & Bcell    & 4 & Mono     & 6 & 42782\\\\\n",
       "\t4 & Condition & Bcell    & 4 & NKcell   & 6 & 47172\\\\\n",
       "\t5 & Condition & Bcell    & 4 & pDC      & 3 & 28315\\\\\n",
       "\t6 & Condition & CD4Tcell & 5 & CD8Tcell & 5 & 5770 \\\\\n",
       "\t7 & Condition & CD4Tcell & 5 & Mono     & 6 & 72912\\\\\n",
       "\t8 & Condition & CD4Tcell & 5 & NKcell   & 6 & 32030\\\\\n",
       "\t9 & Condition & CD4Tcell & 5 & pDC      & 3 & 70972\\\\\n",
       "\t10 & Condition & CD8Tcell & 5 & Mono     & 6 & 79999\\\\\n",
       "\t11 & Condition & CD8Tcell & 5 & NKcell   & 6 & 15673\\\\\n",
       "\t12 & Condition & CD8Tcell & 5 & pDC      & 3 & 77416\\\\\n",
       "\t13 & Condition & Mono     & 6 & NKcell   & 6 & 67820\\\\\n",
       "\t14 & Condition & Mono     & 6 & pDC      & 3 & 43635\\\\\n",
       "\t15 & Condition & pDC      & 3 & NKcell   & 6 & 66681\\\\\n",
       "\\end{tabular}\n"
      ],
      "text/markdown": [
       "\n",
       "A data.frame: 15 × 6\n",
       "\n",
       "| <!--/--> | Factor &lt;chr&gt; | Group &lt;chr&gt; | Samples &lt;chr&gt; | Group2 &lt;chr&gt; | Samples2 &lt;chr&gt; | DB.DESeq2 &lt;chr&gt; |\n",
       "|---|---|---|---|---|---|---|\n",
       "| 1 | Condition | Bcell    | 4 | CD4Tcell | 5 | 46645 |\n",
       "| 2 | Condition | Bcell    | 4 | CD8Tcell | 5 | 53466 |\n",
       "| 3 | Condition | Bcell    | 4 | Mono     | 6 | 42782 |\n",
       "| 4 | Condition | Bcell    | 4 | NKcell   | 6 | 47172 |\n",
       "| 5 | Condition | Bcell    | 4 | pDC      | 3 | 28315 |\n",
       "| 6 | Condition | CD4Tcell | 5 | CD8Tcell | 5 | 5770  |\n",
       "| 7 | Condition | CD4Tcell | 5 | Mono     | 6 | 72912 |\n",
       "| 8 | Condition | CD4Tcell | 5 | NKcell   | 6 | 32030 |\n",
       "| 9 | Condition | CD4Tcell | 5 | pDC      | 3 | 70972 |\n",
       "| 10 | Condition | CD8Tcell | 5 | Mono     | 6 | 79999 |\n",
       "| 11 | Condition | CD8Tcell | 5 | NKcell   | 6 | 15673 |\n",
       "| 12 | Condition | CD8Tcell | 5 | pDC      | 3 | 77416 |\n",
       "| 13 | Condition | Mono     | 6 | NKcell   | 6 | 67820 |\n",
       "| 14 | Condition | Mono     | 6 | pDC      | 3 | 43635 |\n",
       "| 15 | Condition | pDC      | 3 | NKcell   | 6 | 66681 |\n",
       "\n"
      ],
      "text/plain": [
       "   Factor    Group    Samples Group2   Samples2 DB.DESeq2\n",
       "1  Condition Bcell    4       CD4Tcell 5        46645    \n",
       "2  Condition Bcell    4       CD8Tcell 5        53466    \n",
       "3  Condition Bcell    4       Mono     6        42782    \n",
       "4  Condition Bcell    4       NKcell   6        47172    \n",
       "5  Condition Bcell    4       pDC      3        28315    \n",
       "6  Condition CD4Tcell 5       CD8Tcell 5        5770     \n",
       "7  Condition CD4Tcell 5       Mono     6        72912    \n",
       "8  Condition CD4Tcell 5       NKcell   6        32030    \n",
       "9  Condition CD4Tcell 5       pDC      3        70972    \n",
       "10 Condition CD8Tcell 5       Mono     6        79999    \n",
       "11 Condition CD8Tcell 5       NKcell   6        15673    \n",
       "12 Condition CD8Tcell 5       pDC      3        77416    \n",
       "13 Condition Mono     6       NKcell   6        67820    \n",
       "14 Condition Mono     6       pDC      3        43635    \n",
       "15 Condition pDC      3       NKcell   6        66681    "
      ]
     },
     "metadata": {},
     "output_type": "display_data"
    }
   ],
   "source": [
    "dba.show(corces_norm, bContrasts = 1)"
   ]
  },
  {
   "cell_type": "code",
   "execution_count": 21,
   "id": "07272055-e5eb-4427-baa4-c01396c91f8b",
   "metadata": {},
   "outputs": [],
   "source": [
    "Corces_Bcell_vs_CD4Tcell <- dba.report(corces_norm, contrast = 1)"
   ]
  },
  {
   "cell_type": "code",
   "execution_count": 22,
   "id": "8c6e71c4-b59c-4c47-bb38-e6c687d1ac44",
   "metadata": {},
   "outputs": [
    {
     "data": {
      "text/plain": [
       "GRanges object with 46645 ranges and 6 metadata columns:\n",
       "         seqnames              ranges strand |      Conc Conc_Bcell\n",
       "            <Rle>           <IRanges>  <Rle> | <numeric>  <numeric>\n",
       "  420382     chr5   52725118-52725990      * |   8.26887    2.17649\n",
       "  273545     chr2   60819526-60819926      * |   7.75536    2.73226\n",
       "   98147    chr11   85752349-85753568      * |   8.07082    3.23234\n",
       "  532542     chr8 100430420-100431076      * |   7.58446    2.80925\n",
       "   22324     chr1   91804409-91805071      * |   8.13474    2.56265\n",
       "     ...      ...                 ...    ... .       ...        ...\n",
       "  133741    chr12 116337223-116337623      * |   1.14242    2.08224\n",
       "  354700     chr3   56590887-56591649      * |   2.02369    0.00000\n",
       "  455925     chr6   31899795-31900741      * |   2.21631    2.89737\n",
       "  127721    chr12   92408523-92408923      * |   2.15021    2.93967\n",
       "  463688     chr6   73774396-73774796      * |   1.84184    2.60115\n",
       "         Conc_CD4Tcell      Fold     p-value         FDR\n",
       "             <numeric> <numeric>   <numeric>   <numeric>\n",
       "  420382       9.10744  -6.74600 6.67058e-63 2.73977e-57\n",
       "  273545       8.58350  -5.60508 3.14638e-62 6.46146e-57\n",
       "   98147       8.89623  -5.51091 5.14382e-61 7.04230e-56\n",
       "  532542       8.40885  -5.62363 5.79767e-52 5.95311e-47\n",
       "   22324       8.96920  -6.32908 8.37403e-50 6.87883e-45\n",
       "     ...           ...       ...         ...         ...\n",
       "  133741      0.000000  1.404625  0.00567448   0.0499699\n",
       "  354700      2.707734 -1.199872  0.00567563   0.0499785\n",
       "  455925      1.265496  0.986294  0.00567570   0.0499785\n",
       "  127721      0.889212  1.126607  0.00567596   0.0499797\n",
       "  463688      0.676480  1.138488  0.00567613   0.0499801\n",
       "  -------\n",
       "  seqinfo: 24 sequences from an unspecified genome; no seqlengths"
      ]
     },
     "metadata": {},
     "output_type": "display_data"
    }
   ],
   "source": [
    "Corces_Bcell_vs_CD4Tcell"
   ]
  },
  {
   "cell_type": "code",
   "execution_count": 23,
   "id": "d26bf0af-fc14-4578-bb08-5c44282bb51b",
   "metadata": {},
   "outputs": [
    {
     "data": {
      "text/html": [
       "<table class=\"dataframe\">\n",
       "<caption>A data.frame: 15 × 6</caption>\n",
       "<thead>\n",
       "\t<tr><th></th><th scope=col>Factor</th><th scope=col>Group</th><th scope=col>Samples</th><th scope=col>Group2</th><th scope=col>Samples2</th><th scope=col>DB.DESeq2</th></tr>\n",
       "\t<tr><th></th><th scope=col>&lt;chr&gt;</th><th scope=col>&lt;chr&gt;</th><th scope=col>&lt;chr&gt;</th><th scope=col>&lt;chr&gt;</th><th scope=col>&lt;chr&gt;</th><th scope=col>&lt;chr&gt;</th></tr>\n",
       "</thead>\n",
       "<tbody>\n",
       "\t<tr><th scope=row>1</th><td>Condition</td><td>Bcell   </td><td>4</td><td>CD4Tcell</td><td>5</td><td>46645</td></tr>\n",
       "\t<tr><th scope=row>2</th><td>Condition</td><td>Bcell   </td><td>4</td><td>CD8Tcell</td><td>5</td><td>53466</td></tr>\n",
       "\t<tr><th scope=row>3</th><td>Condition</td><td>Bcell   </td><td>4</td><td>Mono    </td><td>6</td><td>42782</td></tr>\n",
       "\t<tr><th scope=row>4</th><td>Condition</td><td>Bcell   </td><td>4</td><td>NKcell  </td><td>6</td><td>47172</td></tr>\n",
       "\t<tr><th scope=row>5</th><td>Condition</td><td>Bcell   </td><td>4</td><td>pDC     </td><td>3</td><td>28315</td></tr>\n",
       "\t<tr><th scope=row>6</th><td>Condition</td><td>CD4Tcell</td><td>5</td><td>CD8Tcell</td><td>5</td><td>5770 </td></tr>\n",
       "\t<tr><th scope=row>7</th><td>Condition</td><td>CD4Tcell</td><td>5</td><td>Mono    </td><td>6</td><td>72912</td></tr>\n",
       "\t<tr><th scope=row>8</th><td>Condition</td><td>CD4Tcell</td><td>5</td><td>NKcell  </td><td>6</td><td>32030</td></tr>\n",
       "\t<tr><th scope=row>9</th><td>Condition</td><td>CD4Tcell</td><td>5</td><td>pDC     </td><td>3</td><td>70972</td></tr>\n",
       "\t<tr><th scope=row>10</th><td>Condition</td><td>CD8Tcell</td><td>5</td><td>Mono    </td><td>6</td><td>79999</td></tr>\n",
       "\t<tr><th scope=row>11</th><td>Condition</td><td>CD8Tcell</td><td>5</td><td>NKcell  </td><td>6</td><td>15673</td></tr>\n",
       "\t<tr><th scope=row>12</th><td>Condition</td><td>CD8Tcell</td><td>5</td><td>pDC     </td><td>3</td><td>77416</td></tr>\n",
       "\t<tr><th scope=row>13</th><td>Condition</td><td>Mono    </td><td>6</td><td>NKcell  </td><td>6</td><td>67820</td></tr>\n",
       "\t<tr><th scope=row>14</th><td>Condition</td><td>Mono    </td><td>6</td><td>pDC     </td><td>3</td><td>43635</td></tr>\n",
       "\t<tr><th scope=row>15</th><td>Condition</td><td>pDC     </td><td>3</td><td>NKcell  </td><td>6</td><td>66681</td></tr>\n",
       "</tbody>\n",
       "</table>\n"
      ],
      "text/latex": [
       "A data.frame: 15 × 6\n",
       "\\begin{tabular}{r|llllll}\n",
       "  & Factor & Group & Samples & Group2 & Samples2 & DB.DESeq2\\\\\n",
       "  & <chr> & <chr> & <chr> & <chr> & <chr> & <chr>\\\\\n",
       "\\hline\n",
       "\t1 & Condition & Bcell    & 4 & CD4Tcell & 5 & 46645\\\\\n",
       "\t2 & Condition & Bcell    & 4 & CD8Tcell & 5 & 53466\\\\\n",
       "\t3 & Condition & Bcell    & 4 & Mono     & 6 & 42782\\\\\n",
       "\t4 & Condition & Bcell    & 4 & NKcell   & 6 & 47172\\\\\n",
       "\t5 & Condition & Bcell    & 4 & pDC      & 3 & 28315\\\\\n",
       "\t6 & Condition & CD4Tcell & 5 & CD8Tcell & 5 & 5770 \\\\\n",
       "\t7 & Condition & CD4Tcell & 5 & Mono     & 6 & 72912\\\\\n",
       "\t8 & Condition & CD4Tcell & 5 & NKcell   & 6 & 32030\\\\\n",
       "\t9 & Condition & CD4Tcell & 5 & pDC      & 3 & 70972\\\\\n",
       "\t10 & Condition & CD8Tcell & 5 & Mono     & 6 & 79999\\\\\n",
       "\t11 & Condition & CD8Tcell & 5 & NKcell   & 6 & 15673\\\\\n",
       "\t12 & Condition & CD8Tcell & 5 & pDC      & 3 & 77416\\\\\n",
       "\t13 & Condition & Mono     & 6 & NKcell   & 6 & 67820\\\\\n",
       "\t14 & Condition & Mono     & 6 & pDC      & 3 & 43635\\\\\n",
       "\t15 & Condition & pDC      & 3 & NKcell   & 6 & 66681\\\\\n",
       "\\end{tabular}\n"
      ],
      "text/markdown": [
       "\n",
       "A data.frame: 15 × 6\n",
       "\n",
       "| <!--/--> | Factor &lt;chr&gt; | Group &lt;chr&gt; | Samples &lt;chr&gt; | Group2 &lt;chr&gt; | Samples2 &lt;chr&gt; | DB.DESeq2 &lt;chr&gt; |\n",
       "|---|---|---|---|---|---|---|\n",
       "| 1 | Condition | Bcell    | 4 | CD4Tcell | 5 | 46645 |\n",
       "| 2 | Condition | Bcell    | 4 | CD8Tcell | 5 | 53466 |\n",
       "| 3 | Condition | Bcell    | 4 | Mono     | 6 | 42782 |\n",
       "| 4 | Condition | Bcell    | 4 | NKcell   | 6 | 47172 |\n",
       "| 5 | Condition | Bcell    | 4 | pDC      | 3 | 28315 |\n",
       "| 6 | Condition | CD4Tcell | 5 | CD8Tcell | 5 | 5770  |\n",
       "| 7 | Condition | CD4Tcell | 5 | Mono     | 6 | 72912 |\n",
       "| 8 | Condition | CD4Tcell | 5 | NKcell   | 6 | 32030 |\n",
       "| 9 | Condition | CD4Tcell | 5 | pDC      | 3 | 70972 |\n",
       "| 10 | Condition | CD8Tcell | 5 | Mono     | 6 | 79999 |\n",
       "| 11 | Condition | CD8Tcell | 5 | NKcell   | 6 | 15673 |\n",
       "| 12 | Condition | CD8Tcell | 5 | pDC      | 3 | 77416 |\n",
       "| 13 | Condition | Mono     | 6 | NKcell   | 6 | 67820 |\n",
       "| 14 | Condition | Mono     | 6 | pDC      | 3 | 43635 |\n",
       "| 15 | Condition | pDC      | 3 | NKcell   | 6 | 66681 |\n",
       "\n"
      ],
      "text/plain": [
       "   Factor    Group    Samples Group2   Samples2 DB.DESeq2\n",
       "1  Condition Bcell    4       CD4Tcell 5        46645    \n",
       "2  Condition Bcell    4       CD8Tcell 5        53466    \n",
       "3  Condition Bcell    4       Mono     6        42782    \n",
       "4  Condition Bcell    4       NKcell   6        47172    \n",
       "5  Condition Bcell    4       pDC      3        28315    \n",
       "6  Condition CD4Tcell 5       CD8Tcell 5        5770     \n",
       "7  Condition CD4Tcell 5       Mono     6        72912    \n",
       "8  Condition CD4Tcell 5       NKcell   6        32030    \n",
       "9  Condition CD4Tcell 5       pDC      3        70972    \n",
       "10 Condition CD8Tcell 5       Mono     6        79999    \n",
       "11 Condition CD8Tcell 5       NKcell   6        15673    \n",
       "12 Condition CD8Tcell 5       pDC      3        77416    \n",
       "13 Condition Mono     6       NKcell   6        67820    \n",
       "14 Condition Mono     6       pDC      3        43635    \n",
       "15 Condition pDC      3       NKcell   6        66681    "
      ]
     },
     "metadata": {},
     "output_type": "display_data"
    }
   ],
   "source": [
    "contrast_matrix = dba.show(corces_norm, bContrasts = TRUE)\n",
    "contrast_matrix"
   ]
  },
  {
   "cell_type": "code",
   "execution_count": 24,
   "id": "eefb9c59-51a3-48f6-98df-ba2a4f77f39a",
   "metadata": {},
   "outputs": [],
   "source": [
    "    Bcell_VS_CD4Tcell <- dba.report(corces_norm, contrast = 1)\n",
    "    Bcell_VS_CD4Tcell_df <- as.data.frame(Bcell_VS_CD4Tcell)"
   ]
  },
  {
   "cell_type": "code",
   "execution_count": 25,
   "id": "f94f8383-9577-4da4-bc3f-6ff1d0f24dd0",
   "metadata": {},
   "outputs": [],
   "source": [
    "    Bcell_VS_NKcell<- dba.report(corces_norm, contrast = 4)\n",
    "    Bcell_VS_NKcell_df <- as.data.frame(Bcell_VS_NKcell)"
   ]
  },
  {
   "cell_type": "code",
   "execution_count": 26,
   "id": "0902612e-d4cd-492b-b32e-209a4c8bf305",
   "metadata": {},
   "outputs": [
    {
     "data": {
      "text/html": [
       "<style>\n",
       ".list-inline {list-style: none; margin:0; padding: 0}\n",
       ".list-inline>li {display: inline-block}\n",
       ".list-inline>li:not(:last-child)::after {content: \"\\00b7\"; padding: 0 .5ex}\n",
       "</style>\n",
       "<ol class=list-inline><li>47172</li><li>11</li></ol>\n"
      ],
      "text/latex": [
       "\\begin{enumerate*}\n",
       "\\item 47172\n",
       "\\item 11\n",
       "\\end{enumerate*}\n"
      ],
      "text/markdown": [
       "1. 47172\n",
       "2. 11\n",
       "\n",
       "\n"
      ],
      "text/plain": [
       "[1] 47172    11"
      ]
     },
     "metadata": {},
     "output_type": "display_data"
    }
   ],
   "source": [
    "dim(Bcell_VS_NKcell_df)"
   ]
  },
  {
   "cell_type": "code",
   "execution_count": 27,
   "id": "6ebdd97c-e98a-4cdb-a38a-ff1f3297c4ae",
   "metadata": {},
   "outputs": [
    {
     "data": {
      "text/html": [
       "0.0499801270478131"
      ],
      "text/latex": [
       "0.0499801270478131"
      ],
      "text/markdown": [
       "0.0499801270478131"
      ],
      "text/plain": [
       "[1] 0.04998013"
      ]
     },
     "metadata": {},
     "output_type": "display_data"
    }
   ],
   "source": [
    "max(Bcell_VS_CD4Tcell_df$FDR)"
   ]
  },
  {
   "cell_type": "code",
   "execution_count": 28,
   "id": "ed69a6ed-fcab-45db-b475-88dbceffbdbd",
   "metadata": {},
   "outputs": [
    {
     "data": {
      "text/html": [
       "<style>\n",
       ".list-inline {list-style: none; margin:0; padding: 0}\n",
       ".list-inline>li {display: inline-block}\n",
       ".list-inline>li:not(:last-child)::after {content: \"\\00b7\"; padding: 0 .5ex}\n",
       "</style>\n",
       "<ol class=list-inline><li>46645</li><li>11</li></ol>\n"
      ],
      "text/latex": [
       "\\begin{enumerate*}\n",
       "\\item 46645\n",
       "\\item 11\n",
       "\\end{enumerate*}\n"
      ],
      "text/markdown": [
       "1. 46645\n",
       "2. 11\n",
       "\n",
       "\n"
      ],
      "text/plain": [
       "[1] 46645    11"
      ]
     },
     "metadata": {},
     "output_type": "display_data"
    }
   ],
   "source": [
    "dim(Bcell_VS_CD4Tcell_df)"
   ]
  },
  {
   "cell_type": "code",
   "execution_count": 29,
   "id": "15678da2-e82a-4cd5-b2f8-ec847c1e00a5",
   "metadata": {},
   "outputs": [
    {
     "data": {
      "image/png": "[encoded data removed]",
      "text/plain": [
       "plot without title"
      ]
     },
     "metadata": {
      "image/png": {
       "height": 420,
       "width": 420
      }
     },
     "output_type": "display_data"
    }
   ],
   "source": [
    "plot(Bcell_VS_CD4Tcell_df$FDR)"
   ]
  },
  {
   "cell_type": "code",
   "execution_count": 30,
   "id": "a71affc9-aa49-473d-bf15-b4a17a602a4c",
   "metadata": {},
   "outputs": [
    {
     "data": {
      "text/html": [
       "<table class=\"dataframe\">\n",
       "<caption>A data.frame: 6 × 11</caption>\n",
       "<thead>\n",
       "\t<tr><th></th><th scope=col>seqnames</th><th scope=col>start</th><th scope=col>end</th><th scope=col>width</th><th scope=col>strand</th><th scope=col>Conc</th><th scope=col>Conc_Bcell</th><th scope=col>Conc_CD4Tcell</th><th scope=col>Fold</th><th scope=col>p.value</th><th scope=col>FDR</th></tr>\n",
       "\t<tr><th></th><th scope=col>&lt;fct&gt;</th><th scope=col>&lt;int&gt;</th><th scope=col>&lt;int&gt;</th><th scope=col>&lt;int&gt;</th><th scope=col>&lt;fct&gt;</th><th scope=col>&lt;dbl&gt;</th><th scope=col>&lt;dbl&gt;</th><th scope=col>&lt;dbl&gt;</th><th scope=col>&lt;dbl&gt;</th><th scope=col>&lt;dbl&gt;</th><th scope=col>&lt;dbl&gt;</th></tr>\n",
       "</thead>\n",
       "<tbody>\n",
       "\t<tr><th scope=row>420382</th><td>chr5 </td><td> 52725118</td><td> 52725990</td><td> 873</td><td>*</td><td>8.268873</td><td>2.176491</td><td>9.107442</td><td>-6.746000</td><td>6.670575e-63</td><td>2.739765e-57</td></tr>\n",
       "\t<tr><th scope=row>273545</th><td>chr2 </td><td> 60819526</td><td> 60819926</td><td> 401</td><td>*</td><td>7.755361</td><td>2.732261</td><td>8.583502</td><td>-5.605082</td><td>3.146376e-62</td><td>6.461460e-57</td></tr>\n",
       "\t<tr><th scope=row>98147</th><td>chr11</td><td> 85752349</td><td> 85753568</td><td>1220</td><td>*</td><td>8.070817</td><td>3.232335</td><td>8.896227</td><td>-5.510909</td><td>5.143817e-61</td><td>7.042296e-56</td></tr>\n",
       "\t<tr><th scope=row>532542</th><td>chr8 </td><td>100430420</td><td>100431076</td><td> 657</td><td>*</td><td>7.584457</td><td>2.809254</td><td>8.408846</td><td>-5.623631</td><td>5.797672e-52</td><td>5.953108e-47</td></tr>\n",
       "\t<tr><th scope=row>22324</th><td>chr1 </td><td> 91804409</td><td> 91805071</td><td> 663</td><td>*</td><td>8.134740</td><td>2.562653</td><td>8.969195</td><td>-6.329079</td><td>8.374033e-50</td><td>6.878833e-45</td></tr>\n",
       "\t<tr><th scope=row>494616</th><td>chr7 </td><td> 50360156</td><td> 50360889</td><td> 734</td><td>*</td><td>7.858831</td><td>3.159239</td><td>8.681939</td><td>-5.412568</td><td>1.752995e-49</td><td>1.199995e-44</td></tr>\n",
       "</tbody>\n",
       "</table>\n"
      ],
      "text/latex": [
       "A data.frame: 6 × 11\n",
       "\\begin{tabular}{r|lllllllllll}\n",
       "  & seqnames & start & end & width & strand & Conc & Conc\\_Bcell & Conc\\_CD4Tcell & Fold & p.value & FDR\\\\\n",
       "  & <fct> & <int> & <int> & <int> & <fct> & <dbl> & <dbl> & <dbl> & <dbl> & <dbl> & <dbl>\\\\\n",
       "\\hline\n",
       "\t420382 & chr5  &  52725118 &  52725990 &  873 & * & 8.268873 & 2.176491 & 9.107442 & -6.746000 & 6.670575e-63 & 2.739765e-57\\\\\n",
       "\t273545 & chr2  &  60819526 &  60819926 &  401 & * & 7.755361 & 2.732261 & 8.583502 & -5.605082 & 3.146376e-62 & 6.461460e-57\\\\\n",
       "\t98147 & chr11 &  85752349 &  85753568 & 1220 & * & 8.070817 & 3.232335 & 8.896227 & -5.510909 & 5.143817e-61 & 7.042296e-56\\\\\n",
       "\t532542 & chr8  & 100430420 & 100431076 &  657 & * & 7.584457 & 2.809254 & 8.408846 & -5.623631 & 5.797672e-52 & 5.953108e-47\\\\\n",
       "\t22324 & chr1  &  91804409 &  91805071 &  663 & * & 8.134740 & 2.562653 & 8.969195 & -6.329079 & 8.374033e-50 & 6.878833e-45\\\\\n",
       "\t494616 & chr7  &  50360156 &  50360889 &  734 & * & 7.858831 & 3.159239 & 8.681939 & -5.412568 & 1.752995e-49 & 1.199995e-44\\\\\n",
       "\\end{tabular}\n"
      ],
      "text/markdown": [
       "\n",
       "A data.frame: 6 × 11\n",
       "\n",
       "| <!--/--> | seqnames &lt;fct&gt; | start &lt;int&gt; | end &lt;int&gt; | width &lt;int&gt; | strand &lt;fct&gt; | Conc &lt;dbl&gt; | Conc_Bcell &lt;dbl&gt; | Conc_CD4Tcell &lt;dbl&gt; | Fold &lt;dbl&gt; | p.value &lt;dbl&gt; | FDR &lt;dbl&gt; |\n",
       "|---|---|---|---|---|---|---|---|---|---|---|---|\n",
       "| 420382 | chr5  |  52725118 |  52725990 |  873 | * | 8.268873 | 2.176491 | 9.107442 | -6.746000 | 6.670575e-63 | 2.739765e-57 |\n",
       "| 273545 | chr2  |  60819526 |  60819926 |  401 | * | 7.755361 | 2.732261 | 8.583502 | -5.605082 | 3.146376e-62 | 6.461460e-57 |\n",
       "| 98147 | chr11 |  85752349 |  85753568 | 1220 | * | 8.070817 | 3.232335 | 8.896227 | -5.510909 | 5.143817e-61 | 7.042296e-56 |\n",
       "| 532542 | chr8  | 100430420 | 100431076 |  657 | * | 7.584457 | 2.809254 | 8.408846 | -5.623631 | 5.797672e-52 | 5.953108e-47 |\n",
       "| 22324 | chr1  |  91804409 |  91805071 |  663 | * | 8.134740 | 2.562653 | 8.969195 | -6.329079 | 8.374033e-50 | 6.878833e-45 |\n",
       "| 494616 | chr7  |  50360156 |  50360889 |  734 | * | 7.858831 | 3.159239 | 8.681939 | -5.412568 | 1.752995e-49 | 1.199995e-44 |\n",
       "\n"
      ],
      "text/plain": [
       "       seqnames start     end       width strand Conc     Conc_Bcell\n",
       "420382 chr5      52725118  52725990  873  *      8.268873 2.176491  \n",
       "273545 chr2      60819526  60819926  401  *      7.755361 2.732261  \n",
       "98147  chr11     85752349  85753568 1220  *      8.070817 3.232335  \n",
       "532542 chr8     100430420 100431076  657  *      7.584457 2.809254  \n",
       "22324  chr1      91804409  91805071  663  *      8.134740 2.562653  \n",
       "494616 chr7      50360156  50360889  734  *      7.858831 3.159239  \n",
       "       Conc_CD4Tcell Fold      p.value      FDR         \n",
       "420382 9.107442      -6.746000 6.670575e-63 2.739765e-57\n",
       "273545 8.583502      -5.605082 3.146376e-62 6.461460e-57\n",
       "98147  8.896227      -5.510909 5.143817e-61 7.042296e-56\n",
       "532542 8.408846      -5.623631 5.797672e-52 5.953108e-47\n",
       "22324  8.969195      -6.329079 8.374033e-50 6.878833e-45\n",
       "494616 8.681939      -5.412568 1.752995e-49 1.199995e-44"
      ]
     },
     "metadata": {},
     "output_type": "display_data"
    }
   ],
   "source": [
    "head(Bcell_VS_CD4Tcell_df)"
   ]
  },
  {
   "cell_type": "code",
   "execution_count": 32,
   "id": "8b1aa092-b59f-4698-a2dd-8bf3d23bf9b7",
   "metadata": {},
   "outputs": [],
   "source": [
    "granges_to_df <- function(granges_obj, contrast){\n",
    "    report <- dba.report(granges_obj, contrast = contrast)\n",
    "    report_df <- as.data.frame(report)\n",
    "    region= paste(report_df$seqnames,report_df$start,sep=\":\")\n",
    "    region=paste(region,report_df$end,sep=\"-\")\n",
    "    report_df[\"region\"]=region\n",
    "    return(report_df)\n",
    "}"
   ]
  },
  {
   "cell_type": "code",
   "execution_count": 33,
   "id": "c2e8e563-5322-49df-b6f6-167189d6ea59",
   "metadata": {},
   "outputs": [
    {
     "name": "stdout",
     "output_type": "stream",
     "text": [
      "[1] \"Bcell_VS_CD4Tcell\"\n",
      "[1] \"Bcell_VS_CD8Tcell\"\n",
      "[1] \"Bcell_VS_Mono\"\n",
      "[1] \"Bcell_VS_NKcell\"\n",
      "[1] \"Bcell_VS_pDC\"\n",
      "[1] \"CD4Tcell_VS_CD8Tcell\"\n",
      "[1] \"CD4Tcell_VS_Mono\"\n",
      "[1] \"CD4Tcell_VS_NKcell\"\n",
      "[1] \"CD4Tcell_VS_pDC\"\n",
      "[1] \"CD8Tcell_VS_Mono\"\n",
      "[1] \"CD8Tcell_VS_NKcell\"\n",
      "[1] \"CD8Tcell_VS_pDC\"\n",
      "[1] \"Mono_VS_NKcell\"\n",
      "[1] \"Mono_VS_pDC\"\n",
      "[1] \"pDC_VS_NKcell\"\n"
     ]
    }
   ],
   "source": [
    "for (i in seq(1, NROW(contrast_matrix))){\n",
    "    save_name = paste( gsub(\"-\", \"_\", contrast_matrix[i,2], fixed = TRUE) , \"_VS_\" ,gsub(\"-\", \"_\", contrast_matrix[i,4], fixed = TRUE), sep=\"\")\n",
    "    \n",
    "    print(save_name)\n",
    "}"
   ]
  },
  {
   "cell_type": "code",
   "execution_count": 34,
   "id": "8833776b-f34d-4829-bfd4-5edbf84fb399",
   "metadata": {},
   "outputs": [],
   "source": [
    "Bcell_VS_CD4Tcell= granges_to_df(corces_norm, contrast = 1)\n",
    "Bcell_VS_CD8Tcell= granges_to_df(corces_norm, contrast =2 )\n",
    "Bcell_VS_Mono= granges_to_df(corces_norm, contrast =3 )\n",
    "Bcell_VS_NKcell= granges_to_df(corces_norm, contrast =4 )\n",
    "Bcell_VS_pDC= granges_to_df(corces_norm, contrast =5 )\n",
    "CD4Tcell_VS_CD8Tcell= granges_to_df(corces_norm, contrast = 6)\n",
    "CD4Tcell_VS_Mono= granges_to_df(corces_norm, contrast = 7)\n",
    "CD4Tcell_VS_NKcell= granges_to_df(corces_norm, contrast =8 )\n",
    "CD4Tcell_VS_pDC= granges_to_df(corces_norm, contrast = 9)\n",
    "CD8Tcell_VS_Mono= granges_to_df(corces_norm, contrast = 10)\n",
    "CD8Tcell_VS_NKcell= granges_to_df(corces_norm, contrast = 11)\n",
    "CD8Tcell_VS_pDC= granges_to_df(corces_norm, contrast = 12)\n",
    "Mono_VS_NKcell= granges_to_df(corces_norm, contrast = 13)\n",
    "Mono_VS_pDC= granges_to_df(corces_norm, contrast = 14)\n",
    "pDC_VS_NKcell= granges_to_df(corces_norm, contrast = 15)\n"
   ]
  },
  {
   "cell_type": "code",
   "execution_count": 35,
   "id": "5ee4cc56-845f-47c9-a1db-c9be2e3f658f",
   "metadata": {},
   "outputs": [
    {
     "data": {
      "text/html": [
       "<table class=\"dataframe\">\n",
       "<caption>A data.frame: 6 × 11</caption>\n",
       "<thead>\n",
       "\t<tr><th></th><th scope=col>seqnames</th><th scope=col>start</th><th scope=col>end</th><th scope=col>width</th><th scope=col>strand</th><th scope=col>Conc</th><th scope=col>Conc_Bcell</th><th scope=col>Conc_CD4Tcell</th><th scope=col>Fold</th><th scope=col>p.value</th><th scope=col>FDR</th></tr>\n",
       "\t<tr><th></th><th scope=col>&lt;fct&gt;</th><th scope=col>&lt;int&gt;</th><th scope=col>&lt;int&gt;</th><th scope=col>&lt;int&gt;</th><th scope=col>&lt;fct&gt;</th><th scope=col>&lt;dbl&gt;</th><th scope=col>&lt;dbl&gt;</th><th scope=col>&lt;dbl&gt;</th><th scope=col>&lt;dbl&gt;</th><th scope=col>&lt;dbl&gt;</th><th scope=col>&lt;dbl&gt;</th></tr>\n",
       "</thead>\n",
       "<tbody>\n",
       "\t<tr><th scope=row>420382</th><td>chr5 </td><td> 52725118</td><td> 52725990</td><td> 873</td><td>*</td><td>8.268873</td><td>2.176491</td><td>9.107442</td><td>-6.746000</td><td>6.670575e-63</td><td>2.739765e-57</td></tr>\n",
       "\t<tr><th scope=row>273545</th><td>chr2 </td><td> 60819526</td><td> 60819926</td><td> 401</td><td>*</td><td>7.755361</td><td>2.732261</td><td>8.583502</td><td>-5.605082</td><td>3.146376e-62</td><td>6.461460e-57</td></tr>\n",
       "\t<tr><th scope=row>98147</th><td>chr11</td><td> 85752349</td><td> 85753568</td><td>1220</td><td>*</td><td>8.070817</td><td>3.232335</td><td>8.896227</td><td>-5.510909</td><td>5.143817e-61</td><td>7.042296e-56</td></tr>\n",
       "\t<tr><th scope=row>532542</th><td>chr8 </td><td>100430420</td><td>100431076</td><td> 657</td><td>*</td><td>7.584457</td><td>2.809254</td><td>8.408846</td><td>-5.623631</td><td>5.797672e-52</td><td>5.953108e-47</td></tr>\n",
       "\t<tr><th scope=row>22324</th><td>chr1 </td><td> 91804409</td><td> 91805071</td><td> 663</td><td>*</td><td>8.134740</td><td>2.562653</td><td>8.969195</td><td>-6.329079</td><td>8.374033e-50</td><td>6.878833e-45</td></tr>\n",
       "\t<tr><th scope=row>494616</th><td>chr7 </td><td> 50360156</td><td> 50360889</td><td> 734</td><td>*</td><td>7.858831</td><td>3.159239</td><td>8.681939</td><td>-5.412568</td><td>1.752995e-49</td><td>1.199995e-44</td></tr>\n",
       "</tbody>\n",
       "</table>\n"
      ],
      "text/latex": [
       "A data.frame: 6 × 11\n",
       "\\begin{tabular}{r|lllllllllll}\n",
       "  & seqnames & start & end & width & strand & Conc & Conc\\_Bcell & Conc\\_CD4Tcell & Fold & p.value & FDR\\\\\n",
       "  & <fct> & <int> & <int> & <int> & <fct> & <dbl> & <dbl> & <dbl> & <dbl> & <dbl> & <dbl>\\\\\n",
       "\\hline\n",
       "\t420382 & chr5  &  52725118 &  52725990 &  873 & * & 8.268873 & 2.176491 & 9.107442 & -6.746000 & 6.670575e-63 & 2.739765e-57\\\\\n",
       "\t273545 & chr2  &  60819526 &  60819926 &  401 & * & 7.755361 & 2.732261 & 8.583502 & -5.605082 & 3.146376e-62 & 6.461460e-57\\\\\n",
       "\t98147 & chr11 &  85752349 &  85753568 & 1220 & * & 8.070817 & 3.232335 & 8.896227 & -5.510909 & 5.143817e-61 & 7.042296e-56\\\\\n",
       "\t532542 & chr8  & 100430420 & 100431076 &  657 & * & 7.584457 & 2.809254 & 8.408846 & -5.623631 & 5.797672e-52 & 5.953108e-47\\\\\n",
       "\t22324 & chr1  &  91804409 &  91805071 &  663 & * & 8.134740 & 2.562653 & 8.969195 & -6.329079 & 8.374033e-50 & 6.878833e-45\\\\\n",
       "\t494616 & chr7  &  50360156 &  50360889 &  734 & * & 7.858831 & 3.159239 & 8.681939 & -5.412568 & 1.752995e-49 & 1.199995e-44\\\\\n",
       "\\end{tabular}\n"
      ],
      "text/markdown": [
       "\n",
       "A data.frame: 6 × 11\n",
       "\n",
       "| <!--/--> | seqnames &lt;fct&gt; | start &lt;int&gt; | end &lt;int&gt; | width &lt;int&gt; | strand &lt;fct&gt; | Conc &lt;dbl&gt; | Conc_Bcell &lt;dbl&gt; | Conc_CD4Tcell &lt;dbl&gt; | Fold &lt;dbl&gt; | p.value &lt;dbl&gt; | FDR &lt;dbl&gt; |\n",
       "|---|---|---|---|---|---|---|---|---|---|---|---|\n",
       "| 420382 | chr5  |  52725118 |  52725990 |  873 | * | 8.268873 | 2.176491 | 9.107442 | -6.746000 | 6.670575e-63 | 2.739765e-57 |\n",
       "| 273545 | chr2  |  60819526 |  60819926 |  401 | * | 7.755361 | 2.732261 | 8.583502 | -5.605082 | 3.146376e-62 | 6.461460e-57 |\n",
       "| 98147 | chr11 |  85752349 |  85753568 | 1220 | * | 8.070817 | 3.232335 | 8.896227 | -5.510909 | 5.143817e-61 | 7.042296e-56 |\n",
       "| 532542 | chr8  | 100430420 | 100431076 |  657 | * | 7.584457 | 2.809254 | 8.408846 | -5.623631 | 5.797672e-52 | 5.953108e-47 |\n",
       "| 22324 | chr1  |  91804409 |  91805071 |  663 | * | 8.134740 | 2.562653 | 8.969195 | -6.329079 | 8.374033e-50 | 6.878833e-45 |\n",
       "| 494616 | chr7  |  50360156 |  50360889 |  734 | * | 7.858831 | 3.159239 | 8.681939 | -5.412568 | 1.752995e-49 | 1.199995e-44 |\n",
       "\n"
      ],
      "text/plain": [
       "       seqnames start     end       width strand Conc     Conc_Bcell\n",
       "420382 chr5      52725118  52725990  873  *      8.268873 2.176491  \n",
       "273545 chr2      60819526  60819926  401  *      7.755361 2.732261  \n",
       "98147  chr11     85752349  85753568 1220  *      8.070817 3.232335  \n",
       "532542 chr8     100430420 100431076  657  *      7.584457 2.809254  \n",
       "22324  chr1      91804409  91805071  663  *      8.134740 2.562653  \n",
       "494616 chr7      50360156  50360889  734  *      7.858831 3.159239  \n",
       "       Conc_CD4Tcell Fold      p.value      FDR         \n",
       "420382 9.107442      -6.746000 6.670575e-63 2.739765e-57\n",
       "273545 8.583502      -5.605082 3.146376e-62 6.461460e-57\n",
       "98147  8.896227      -5.510909 5.143817e-61 7.042296e-56\n",
       "532542 8.408846      -5.623631 5.797672e-52 5.953108e-47\n",
       "22324  8.969195      -6.329079 8.374033e-50 6.878833e-45\n",
       "494616 8.681939      -5.412568 1.752995e-49 1.199995e-44"
      ]
     },
     "metadata": {},
     "output_type": "display_data"
    }
   ],
   "source": [
    "head(Bcell_VS_CD4Tcell_df)"
   ]
  },
  {
   "cell_type": "code",
   "execution_count": 36,
   "id": "032d42d5-d3b7-4a34-aeb4-a68ab0e5a6c3",
   "metadata": {},
   "outputs": [],
   "source": [
    "combined_regions =c()\n",
    "for (df_ in list(Bcell_VS_CD4Tcell, Bcell_VS_CD8Tcell, Bcell_VS_Mono, Bcell_VS_NKcell, Bcell_VS_pDC, CD4Tcell_VS_CD8Tcell, CD4Tcell_VS_Mono, CD4Tcell_VS_NKcell, CD4Tcell_VS_pDC, CD8Tcell_VS_Mono, CD8Tcell_VS_NKcell, CD8Tcell_VS_pDC, Mono_VS_NKcell, Mono_VS_pDC, pDC_VS_NKcell )){\n",
    "    combined_regions =  c(combined_regions,df_[[\"region\"]] )\n",
    "    }"
   ]
  },
  {
   "cell_type": "code",
   "execution_count": 54,
   "id": "120c0a31-aabc-4c3c-a422-3cf648d1ba02",
   "metadata": {},
   "outputs": [
    {
     "name": "stdout",
     "output_type": "stream",
     "text": [
      "[1] 46645    12\n",
      "[1] 53466    12\n",
      "[1] 42782    12\n",
      "[1] 47172    12\n",
      "[1] 28315    12\n",
      "[1] 5770   12\n",
      "[1] 72912    12\n",
      "[1] 32030    12\n",
      "[1] 70972    12\n",
      "[1] 79999    12\n",
      "[1] 15673    12\n",
      "[1] 77416    12\n",
      "[1] 67820    12\n",
      "[1] 43635    12\n",
      "[1] 66681    12\n"
     ]
    }
   ],
   "source": [
    "sum_=0\n",
    "combined_regions_size =c()\n",
    "for (df_ in list(Bcell_VS_CD4Tcell, Bcell_VS_CD8Tcell, Bcell_VS_Mono, Bcell_VS_NKcell, Bcell_VS_pDC, CD4Tcell_VS_CD8Tcell, CD4Tcell_VS_Mono, CD4Tcell_VS_NKcell, CD4Tcell_VS_pDC, CD8Tcell_VS_Mono, CD8Tcell_VS_NKcell, CD8Tcell_VS_pDC, Mono_VS_NKcell, Mono_VS_pDC, pDC_VS_NKcell )){\n",
    "    combined_regions_size = c(combined_regions_size,as.numeric(as.character(dim(df_)[1])) )\n",
    "    print(dim(df_))\n",
    "    sum_=sum_+as.integer(NROW(df_))\n",
    "    }"
   ]
  },
  {
   "cell_type": "code",
   "execution_count": 55,
   "id": "49da14bb-7bc1-40a3-91cb-d8ad3195ba32",
   "metadata": {},
   "outputs": [
    {
     "data": {
      "text/html": [
       "66681"
      ],
      "text/latex": [
       "66681"
      ],
      "text/markdown": [
       "66681"
      ],
      "text/plain": [
       "[1] 66681"
      ]
     },
     "metadata": {},
     "output_type": "display_data"
    }
   ],
   "source": [
    "as.numeric(as.character(dim(df_)[1]))"
   ]
  },
  {
   "cell_type": "code",
   "execution_count": 56,
   "id": "a0af2d1a-6111-4e82-af95-98203d479a46",
   "metadata": {},
   "outputs": [
    {
     "data": {
      "text/html": [
       "<style>\n",
       ".list-inline {list-style: none; margin:0; padding: 0}\n",
       ".list-inline>li {display: inline-block}\n",
       ".list-inline>li:not(:last-child)::after {content: \"\\00b7\"; padding: 0 .5ex}\n",
       "</style>\n",
       "<ol class=list-inline><li>46645</li><li>53466</li><li>42782</li><li>47172</li><li>28315</li><li>5770</li><li>72912</li><li>32030</li><li>70972</li><li>79999</li><li>15673</li><li>77416</li><li>67820</li><li>43635</li><li>66681</li></ol>\n"
      ],
      "text/latex": [
       "\\begin{enumerate*}\n",
       "\\item 46645\n",
       "\\item 53466\n",
       "\\item 42782\n",
       "\\item 47172\n",
       "\\item 28315\n",
       "\\item 5770\n",
       "\\item 72912\n",
       "\\item 32030\n",
       "\\item 70972\n",
       "\\item 79999\n",
       "\\item 15673\n",
       "\\item 77416\n",
       "\\item 67820\n",
       "\\item 43635\n",
       "\\item 66681\n",
       "\\end{enumerate*}\n"
      ],
      "text/markdown": [
       "1. 46645\n",
       "2. 53466\n",
       "3. 42782\n",
       "4. 47172\n",
       "5. 28315\n",
       "6. 5770\n",
       "7. 72912\n",
       "8. 32030\n",
       "9. 70972\n",
       "10. 79999\n",
       "11. 15673\n",
       "12. 77416\n",
       "13. 67820\n",
       "14. 43635\n",
       "15. 66681\n",
       "\n",
       "\n"
      ],
      "text/plain": [
       " [1] 46645 53466 42782 47172 28315  5770 72912 32030 70972 79999 15673 77416\n",
       "[13] 67820 43635 66681"
      ]
     },
     "metadata": {},
     "output_type": "display_data"
    }
   ],
   "source": [
    "combined_regions_size"
   ]
  },
  {
   "cell_type": "code",
   "execution_count": null,
   "id": "5ce817b1-bfd8-4b98-82b6-f7d2f60b7ae4",
   "metadata": {},
   "outputs": [],
   "source": []
  },
  {
   "cell_type": "code",
   "execution_count": 57,
   "id": "186b88d2-a9f0-4f8c-ab9b-82aaf73848e8",
   "metadata": {
    "tags": []
   },
   "outputs": [
    {
     "data": {
      "text/html": [
       "<table class=\"dataframe\">\n",
       "<caption>A data.frame: 15 × 2</caption>\n",
       "<thead>\n",
       "\t<tr><th scope=col>comparisons</th><th scope=col>num_diff_reg</th></tr>\n",
       "\t<tr><th scope=col>&lt;chr&gt;</th><th scope=col>&lt;dbl&gt;</th></tr>\n",
       "</thead>\n",
       "<tbody>\n",
       "\t<tr><td>Bcell_VS_CD4Tcell   </td><td>46645</td></tr>\n",
       "\t<tr><td>Bcell_VS_CD8Tcell   </td><td>53466</td></tr>\n",
       "\t<tr><td>Bcell_VS_Mono       </td><td>42782</td></tr>\n",
       "\t<tr><td>Bcell_VS_NKcell     </td><td>47172</td></tr>\n",
       "\t<tr><td>Bcell_VS_pDC        </td><td>28315</td></tr>\n",
       "\t<tr><td>CD4Tcell_VS_CD8Tcell</td><td> 5770</td></tr>\n",
       "\t<tr><td>CD4Tcell_VS_Mono    </td><td>72912</td></tr>\n",
       "\t<tr><td>CD4Tcell_VS_NKcell  </td><td>32030</td></tr>\n",
       "\t<tr><td>CD4Tcell_VS_pDC     </td><td>70972</td></tr>\n",
       "\t<tr><td>CD8Tcell_VS_Mono    </td><td>79999</td></tr>\n",
       "\t<tr><td>CD8Tcell_VS_NKcell  </td><td>15673</td></tr>\n",
       "\t<tr><td>CD8Tcell_VS_pDC     </td><td>77416</td></tr>\n",
       "\t<tr><td>Mono_VS_NKcell      </td><td>67820</td></tr>\n",
       "\t<tr><td>Mono_VS_pDC         </td><td>43635</td></tr>\n",
       "\t<tr><td>pDC_VS_NKcell       </td><td>66681</td></tr>\n",
       "</tbody>\n",
       "</table>\n"
      ],
      "text/latex": [
       "A data.frame: 15 × 2\n",
       "\\begin{tabular}{ll}\n",
       " comparisons & num\\_diff\\_reg\\\\\n",
       " <chr> & <dbl>\\\\\n",
       "\\hline\n",
       "\t Bcell\\_VS\\_CD4Tcell    & 46645\\\\\n",
       "\t Bcell\\_VS\\_CD8Tcell    & 53466\\\\\n",
       "\t Bcell\\_VS\\_Mono        & 42782\\\\\n",
       "\t Bcell\\_VS\\_NKcell      & 47172\\\\\n",
       "\t Bcell\\_VS\\_pDC         & 28315\\\\\n",
       "\t CD4Tcell\\_VS\\_CD8Tcell &  5770\\\\\n",
       "\t CD4Tcell\\_VS\\_Mono     & 72912\\\\\n",
       "\t CD4Tcell\\_VS\\_NKcell   & 32030\\\\\n",
       "\t CD4Tcell\\_VS\\_pDC      & 70972\\\\\n",
       "\t CD8Tcell\\_VS\\_Mono     & 79999\\\\\n",
       "\t CD8Tcell\\_VS\\_NKcell   & 15673\\\\\n",
       "\t CD8Tcell\\_VS\\_pDC      & 77416\\\\\n",
       "\t Mono\\_VS\\_NKcell       & 67820\\\\\n",
       "\t Mono\\_VS\\_pDC          & 43635\\\\\n",
       "\t pDC\\_VS\\_NKcell        & 66681\\\\\n",
       "\\end{tabular}\n"
      ],
      "text/markdown": [
       "\n",
       "A data.frame: 15 × 2\n",
       "\n",
       "| comparisons &lt;chr&gt; | num_diff_reg &lt;dbl&gt; |\n",
       "|---|---|\n",
       "| Bcell_VS_CD4Tcell    | 46645 |\n",
       "| Bcell_VS_CD8Tcell    | 53466 |\n",
       "| Bcell_VS_Mono        | 42782 |\n",
       "| Bcell_VS_NKcell      | 47172 |\n",
       "| Bcell_VS_pDC         | 28315 |\n",
       "| CD4Tcell_VS_CD8Tcell |  5770 |\n",
       "| CD4Tcell_VS_Mono     | 72912 |\n",
       "| CD4Tcell_VS_NKcell   | 32030 |\n",
       "| CD4Tcell_VS_pDC      | 70972 |\n",
       "| CD8Tcell_VS_Mono     | 79999 |\n",
       "| CD8Tcell_VS_NKcell   | 15673 |\n",
       "| CD8Tcell_VS_pDC      | 77416 |\n",
       "| Mono_VS_NKcell       | 67820 |\n",
       "| Mono_VS_pDC          | 43635 |\n",
       "| pDC_VS_NKcell        | 66681 |\n",
       "\n"
      ],
      "text/plain": [
       "   comparisons          num_diff_reg\n",
       "1  Bcell_VS_CD4Tcell    46645       \n",
       "2  Bcell_VS_CD8Tcell    53466       \n",
       "3  Bcell_VS_Mono        42782       \n",
       "4  Bcell_VS_NKcell      47172       \n",
       "5  Bcell_VS_pDC         28315       \n",
       "6  CD4Tcell_VS_CD8Tcell  5770       \n",
       "7  CD4Tcell_VS_Mono     72912       \n",
       "8  CD4Tcell_VS_NKcell   32030       \n",
       "9  CD4Tcell_VS_pDC      70972       \n",
       "10 CD8Tcell_VS_Mono     79999       \n",
       "11 CD8Tcell_VS_NKcell   15673       \n",
       "12 CD8Tcell_VS_pDC      77416       \n",
       "13 Mono_VS_NKcell       67820       \n",
       "14 Mono_VS_pDC          43635       \n",
       "15 pDC_VS_NKcell        66681       "
      ]
     },
     "metadata": {},
     "output_type": "display_data"
    }
   ],
   "source": [
    "# plot the number of diff regions per comparison\n",
    "\n",
    "comparisons <- c(\"Bcell_VS_CD4Tcell\", \"Bcell_VS_CD8Tcell\", \"Bcell_VS_Mono\", \"Bcell_VS_NKcell\", \"Bcell_VS_pDC\", \"CD4Tcell_VS_CD8Tcell\", \"CD4Tcell_VS_Mono\", \"CD4Tcell_VS_NKcell\", \"CD4Tcell_VS_pDC\", \"CD8Tcell_VS_Mono\", \"CD8Tcell_VS_NKcell\", \"CD8Tcell_VS_pDC\", \"Mono_VS_NKcell\", \"Mono_VS_pDC\", \"pDC_VS_NKcell\")\n",
    "num_diff_reg <- combined_regions_size #c(46645 , 53466 , 42782 , 47172 , 28315 , 5770, 72912 , 32030 , 70972 , 79999 , 15673 , 77416 , 67820 , 43635 , 66681)\n",
    "\n",
    "num_diff_reg_per_comparison_df <- data.frame(comparisons,num_diff_reg)\n",
    "num_diff_reg_per_comparison_df"
   ]
  },
  {
   "cell_type": "code",
   "execution_count": 61,
   "id": "004a5a07-eb82-4602-afeb-85f785eaccd1",
   "metadata": {},
   "outputs": [],
   "source": [
    "num_diff_reg_per_comparison_df = num_diff_reg_per_comparison_df[order(num_diff_reg_per_comparison_df$num_diff_reg),]"
   ]
  },
  {
   "cell_type": "code",
   "execution_count": 62,
   "id": "3c29f51a-c68b-4409-9d13-e59ab2ea80ce",
   "metadata": {
    "tags": []
   },
   "outputs": [
    {
     "data": {
      "image/png": "[encoded data removed]",
      "text/plain": [
       "plot without title"
      ]
     },
     "metadata": {
      "image/png": {
       "height": 420,
       "width": 420
      }
     },
     "output_type": "display_data"
    }
   ],
   "source": [
    "library(ggplot2)\n",
    "library(dplyr)\n",
    "library(forcats)\n",
    "# Reorder following the value of another column:\n",
    "plot_num_diff_regions_per_comparison <-num_diff_reg_per_comparison_df %>%\n",
    "  mutate(comparisons = fct_reorder(comparisons, num_diff_reg)) %>%\n",
    "  ggplot( aes(x=comparisons, y=num_diff_reg)) +\n",
    "    geom_bar(stat=\"identity\", , alpha=.7, width=.6) +\n",
    "    coord_flip() +\n",
    "    xlab(\"\") + ylab(\"number of differential regions\") +\n",
    "    scale_y_continuous(minor_breaks = seq(0, 80000, 5000),) +\n",
    "    theme_bw()\n",
    "plot_num_diff_regions_per_comparison"
   ]
  },
  {
   "cell_type": "code",
   "execution_count": 63,
   "id": "e60779da-a634-40c2-a204-83a87255ee3e",
   "metadata": {
    "tags": []
   },
   "outputs": [
    {
     "name": "stderr",
     "output_type": "stream",
     "text": [
      "Saving 6.67 x 6.67 in image\n",
      "\n"
     ]
    }
   ],
   "source": [
    "ggsave(\"./figures/plot_num_diff_regions_per_comparison.png\")\n"
   ]
  },
  {
   "cell_type": "code",
   "execution_count": 64,
   "id": "ac9ba7d4-c931-470d-8fde-d76312e27590",
   "metadata": {},
   "outputs": [],
   "source": [
    "combined_regions_unique = unique(combined_regions)"
   ]
  },
  {
   "cell_type": "code",
   "execution_count": 65,
   "id": "fb341f82-1ccd-49c1-aa43-be2c7a421429",
   "metadata": {},
   "outputs": [
    {
     "data": {
      "text/html": [
       "168130"
      ],
      "text/latex": [
       "168130"
      ],
      "text/markdown": [
       "168130"
      ],
      "text/plain": [
       "[1] 168130"
      ]
     },
     "metadata": {},
     "output_type": "display_data"
    }
   ],
   "source": [
    "length(combined_regions_unique)"
   ]
  },
  {
   "cell_type": "markdown",
   "id": "03dbe60c-3e5d-4341-b69f-ed8da5990fc1",
   "metadata": {
    "tags": []
   },
   "source": [
    "## FILTER THE DIFFERENTIAL REGIONS:\n",
    "\n",
    "### TOP 2000 REGIONS OF EACH PAIRWISE COMPARISON\n",
    "#### ## remove the chrY regions"
   ]
  },
  {
   "cell_type": "code",
   "execution_count": 66,
   "id": "5b7df542-5966-4b62-9671-b52375bd336d",
   "metadata": {},
   "outputs": [],
   "source": [
    "combined_regions_top2000 =c()\n",
    "for (df_ in list(Bcell_VS_CD4Tcell, Bcell_VS_CD8Tcell, Bcell_VS_Mono, Bcell_VS_NKcell, Bcell_VS_pDC, CD4Tcell_VS_CD8Tcell, CD4Tcell_VS_Mono, CD4Tcell_VS_NKcell, CD4Tcell_VS_pDC, CD8Tcell_VS_Mono, CD8Tcell_VS_NKcell, CD8Tcell_VS_pDC, Mono_VS_NKcell, Mono_VS_pDC, pDC_VS_NKcell )){\n",
    "    df_= df_[df_[[\"seqnames\"]] !=\"chrY\",]\n",
    "    top2000_regions = df_[sort(abs(df_[[\"Fold\"]]),decreasing=T,index.return=T)[[2]],][1:2000,][[\"region\"]]\n",
    "    top2000_merged_name = gsub(\":\", \"_\", gsub(\"-\", \"_\", top2000_regions, fixed = TRUE) , fixed = TRUE)\n",
    "    combined_regions_top2000 =  c(combined_regions_top2000,top2000_merged_name )\n",
    "}"
   ]
  },
  {
   "cell_type": "code",
   "execution_count": 67,
   "id": "c52ce2b5-d257-45f7-99e6-5d847e9bf5a9",
   "metadata": {},
   "outputs": [
    {
     "data": {
      "text/html": [
       "<style>\n",
       ".list-inline {list-style: none; margin:0; padding: 0}\n",
       ".list-inline>li {display: inline-block}\n",
       ".list-inline>li:not(:last-child)::after {content: \"\\00b7\"; padding: 0 .5ex}\n",
       "</style>\n",
       "<ol class=list-inline><li>'chr3_113005661_113006061'</li><li>'chr3_68057657_68058057'</li><li>'chr6_127971988_127972388'</li><li>'chr1_239501707_239502107'</li><li>'chr18_74373419_74374018'</li><li>'chr8_19497094_19497494'</li><li>'chr2_45728496_45728896'</li><li>'chr17_35214204_35214604'</li><li>'chrX_13151884_13152284'</li><li>'chr12_44828092_44828492'</li><li>'chrX_16528645_16529045'</li><li>'chr1_234408721_234409121'</li><li>'chr11_85823869_85824269'</li><li>'chr11_13869018_13869418'</li><li>'chr1_221166609_221167292'</li><li>'chr1_61782676_61783076'</li><li>'chr11_88843349_88844638'</li><li>'chr11_35247386_35247786'</li><li>'chr9_31259851_31260251'</li><li>'chr5_124034926_124035326'</li><li>'chr14_35203691_35204346'</li><li>'chr4_7854992_7855392'</li><li>'chr9_101569875_101570502'</li><li>'chr1_219090624_219091024'</li><li>'chr2_197869579_197870189'</li><li>'chr8_96861321_96861721'</li><li>'chr16_21360087_21360487'</li><li>'chr3_56593483_56593883'</li><li>'chr1_64877144_64877544'</li><li>'chr4_102630672_102631072'</li><li>'chr3_108806370_108806770'</li><li>'chr12_12482219_12482619'</li><li>'chr5_52725118_52725990'</li><li>'chr22_17594607_17595007'</li><li>'chrX_124736537_124737277'</li><li>'chr2_101570830_101571230'</li><li>'chr11_128476700_128477100'</li><li>'chr3_108835068_108835468'</li><li>'chr19_2681518_2681918'</li><li>'chr14_38065083_38065483'</li><li>'chr6_139113249_139113649'</li><li>'chr2_148524463_148524863'</li><li>'chr1_116933591_116933991'</li><li>'chr8_128191190_128191590'</li><li>'chr2_112996631_112997031'</li><li>'chr3_7876852_7877252'</li><li>'chr21_25186297_25186697'</li><li>'chr5_157180613_157181013'</li><li>'chr16_89374979_89375379'</li><li>'chr3_128316464_128317077'</li></ol>\n"
      ],
      "text/latex": [
       "\\begin{enumerate*}\n",
       "\\item 'chr3\\_113005661\\_113006061'\n",
       "\\item 'chr3\\_68057657\\_68058057'\n",
       "\\item 'chr6\\_127971988\\_127972388'\n",
       "\\item 'chr1\\_239501707\\_239502107'\n",
       "\\item 'chr18\\_74373419\\_74374018'\n",
       "\\item 'chr8\\_19497094\\_19497494'\n",
       "\\item 'chr2\\_45728496\\_45728896'\n",
       "\\item 'chr17\\_35214204\\_35214604'\n",
       "\\item 'chrX\\_13151884\\_13152284'\n",
       "\\item 'chr12\\_44828092\\_44828492'\n",
       "\\item 'chrX\\_16528645\\_16529045'\n",
       "\\item 'chr1\\_234408721\\_234409121'\n",
       "\\item 'chr11\\_85823869\\_85824269'\n",
       "\\item 'chr11\\_13869018\\_13869418'\n",
       "\\item 'chr1\\_221166609\\_221167292'\n",
       "\\item 'chr1\\_61782676\\_61783076'\n",
       "\\item 'chr11\\_88843349\\_88844638'\n",
       "\\item 'chr11\\_35247386\\_35247786'\n",
       "\\item 'chr9\\_31259851\\_31260251'\n",
       "\\item 'chr5\\_124034926\\_124035326'\n",
       "\\item 'chr14\\_35203691\\_35204346'\n",
       "\\item 'chr4\\_7854992\\_7855392'\n",
       "\\item 'chr9\\_101569875\\_101570502'\n",
       "\\item 'chr1\\_219090624\\_219091024'\n",
       "\\item 'chr2\\_197869579\\_197870189'\n",
       "\\item 'chr8\\_96861321\\_96861721'\n",
       "\\item 'chr16\\_21360087\\_21360487'\n",
       "\\item 'chr3\\_56593483\\_56593883'\n",
       "\\item 'chr1\\_64877144\\_64877544'\n",
       "\\item 'chr4\\_102630672\\_102631072'\n",
       "\\item 'chr3\\_108806370\\_108806770'\n",
       "\\item 'chr12\\_12482219\\_12482619'\n",
       "\\item 'chr5\\_52725118\\_52725990'\n",
       "\\item 'chr22\\_17594607\\_17595007'\n",
       "\\item 'chrX\\_124736537\\_124737277'\n",
       "\\item 'chr2\\_101570830\\_101571230'\n",
       "\\item 'chr11\\_128476700\\_128477100'\n",
       "\\item 'chr3\\_108835068\\_108835468'\n",
       "\\item 'chr19\\_2681518\\_2681918'\n",
       "\\item 'chr14\\_38065083\\_38065483'\n",
       "\\item 'chr6\\_139113249\\_139113649'\n",
       "\\item 'chr2\\_148524463\\_148524863'\n",
       "\\item 'chr1\\_116933591\\_116933991'\n",
       "\\item 'chr8\\_128191190\\_128191590'\n",
       "\\item 'chr2\\_112996631\\_112997031'\n",
       "\\item 'chr3\\_7876852\\_7877252'\n",
       "\\item 'chr21\\_25186297\\_25186697'\n",
       "\\item 'chr5\\_157180613\\_157181013'\n",
       "\\item 'chr16\\_89374979\\_89375379'\n",
       "\\item 'chr3\\_128316464\\_128317077'\n",
       "\\end{enumerate*}\n"
      ],
      "text/markdown": [
       "1. 'chr3_113005661_113006061'\n",
       "2. 'chr3_68057657_68058057'\n",
       "3. 'chr6_127971988_127972388'\n",
       "4. 'chr1_239501707_239502107'\n",
       "5. 'chr18_74373419_74374018'\n",
       "6. 'chr8_19497094_19497494'\n",
       "7. 'chr2_45728496_45728896'\n",
       "8. 'chr17_35214204_35214604'\n",
       "9. 'chrX_13151884_13152284'\n",
       "10. 'chr12_44828092_44828492'\n",
       "11. 'chrX_16528645_16529045'\n",
       "12. 'chr1_234408721_234409121'\n",
       "13. 'chr11_85823869_85824269'\n",
       "14. 'chr11_13869018_13869418'\n",
       "15. 'chr1_221166609_221167292'\n",
       "16. 'chr1_61782676_61783076'\n",
       "17. 'chr11_88843349_88844638'\n",
       "18. 'chr11_35247386_35247786'\n",
       "19. 'chr9_31259851_31260251'\n",
       "20. 'chr5_124034926_124035326'\n",
       "21. 'chr14_35203691_35204346'\n",
       "22. 'chr4_7854992_7855392'\n",
       "23. 'chr9_101569875_101570502'\n",
       "24. 'chr1_219090624_219091024'\n",
       "25. 'chr2_197869579_197870189'\n",
       "26. 'chr8_96861321_96861721'\n",
       "27. 'chr16_21360087_21360487'\n",
       "28. 'chr3_56593483_56593883'\n",
       "29. 'chr1_64877144_64877544'\n",
       "30. 'chr4_102630672_102631072'\n",
       "31. 'chr3_108806370_108806770'\n",
       "32. 'chr12_12482219_12482619'\n",
       "33. 'chr5_52725118_52725990'\n",
       "34. 'chr22_17594607_17595007'\n",
       "35. 'chrX_124736537_124737277'\n",
       "36. 'chr2_101570830_101571230'\n",
       "37. 'chr11_128476700_128477100'\n",
       "38. 'chr3_108835068_108835468'\n",
       "39. 'chr19_2681518_2681918'\n",
       "40. 'chr14_38065083_38065483'\n",
       "41. 'chr6_139113249_139113649'\n",
       "42. 'chr2_148524463_148524863'\n",
       "43. 'chr1_116933591_116933991'\n",
       "44. 'chr8_128191190_128191590'\n",
       "45. 'chr2_112996631_112997031'\n",
       "46. 'chr3_7876852_7877252'\n",
       "47. 'chr21_25186297_25186697'\n",
       "48. 'chr5_157180613_157181013'\n",
       "49. 'chr16_89374979_89375379'\n",
       "50. 'chr3_128316464_128317077'\n",
       "\n",
       "\n"
      ],
      "text/plain": [
       " [1] \"chr3_113005661_113006061\"  \"chr3_68057657_68058057\"   \n",
       " [3] \"chr6_127971988_127972388\"  \"chr1_239501707_239502107\" \n",
       " [5] \"chr18_74373419_74374018\"   \"chr8_19497094_19497494\"   \n",
       " [7] \"chr2_45728496_45728896\"    \"chr17_35214204_35214604\"  \n",
       " [9] \"chrX_13151884_13152284\"    \"chr12_44828092_44828492\"  \n",
       "[11] \"chrX_16528645_16529045\"    \"chr1_234408721_234409121\" \n",
       "[13] \"chr11_85823869_85824269\"   \"chr11_13869018_13869418\"  \n",
       "[15] \"chr1_221166609_221167292\"  \"chr1_61782676_61783076\"   \n",
       "[17] \"chr11_88843349_88844638\"   \"chr11_35247386_35247786\"  \n",
       "[19] \"chr9_31259851_31260251\"    \"chr5_124034926_124035326\" \n",
       "[21] \"chr14_35203691_35204346\"   \"chr4_7854992_7855392\"     \n",
       "[23] \"chr9_101569875_101570502\"  \"chr1_219090624_219091024\" \n",
       "[25] \"chr2_197869579_197870189\"  \"chr8_96861321_96861721\"   \n",
       "[27] \"chr16_21360087_21360487\"   \"chr3_56593483_56593883\"   \n",
       "[29] \"chr1_64877144_64877544\"    \"chr4_102630672_102631072\" \n",
       "[31] \"chr3_108806370_108806770\"  \"chr12_12482219_12482619\"  \n",
       "[33] \"chr5_52725118_52725990\"    \"chr22_17594607_17595007\"  \n",
       "[35] \"chrX_124736537_124737277\"  \"chr2_101570830_101571230\" \n",
       "[37] \"chr11_128476700_128477100\" \"chr3_108835068_108835468\" \n",
       "[39] \"chr19_2681518_2681918\"     \"chr14_38065083_38065483\"  \n",
       "[41] \"chr6_139113249_139113649\"  \"chr2_148524463_148524863\" \n",
       "[43] \"chr1_116933591_116933991\"  \"chr8_128191190_128191590\" \n",
       "[45] \"chr2_112996631_112997031\"  \"chr3_7876852_7877252\"     \n",
       "[47] \"chr21_25186297_25186697\"   \"chr5_157180613_157181013\" \n",
       "[49] \"chr16_89374979_89375379\"   \"chr3_128316464_128317077\" "
      ]
     },
     "metadata": {},
     "output_type": "display_data"
    }
   ],
   "source": [
    "combined_regions_top2000[1:50]"
   ]
  },
  {
   "cell_type": "code",
   "execution_count": 68,
   "id": "8674d851-ed57-4308-96a8-cb29c9b84d4d",
   "metadata": {
    "tags": []
   },
   "outputs": [],
   "source": [
    "combined_regions_top2000_sorted = sort(combined_regions_top2000)"
   ]
  },
  {
   "cell_type": "code",
   "execution_count": 69,
   "id": "127dd077-aa28-4fd2-b6dc-01ad317a3460",
   "metadata": {},
   "outputs": [
    {
     "name": "stderr",
     "output_type": "stream",
     "text": [
      "── \u001b[1mAttaching packages\u001b[22m ──────────────────────────────────────────────────────────────────────────────────────────────────────────────────────────────────────────────────────────────────────────────────────────────────────────────────────────────────────── tidyverse 1.3.1 ──\n",
      "\n",
      "\u001b[32m✔\u001b[39m \u001b[34mtibble \u001b[39m 3.1.6     \u001b[32m✔\u001b[39m \u001b[34mpurrr  \u001b[39m 0.3.4\n",
      "\u001b[32m✔\u001b[39m \u001b[34mreadr  \u001b[39m 2.1.3     \u001b[32m✔\u001b[39m \u001b[34mstringr\u001b[39m 1.4.0\n",
      "\n",
      "── \u001b[1mConflicts\u001b[22m ─────────────────────────────────────────────────────────────────────────────────────────────────────────────────────────────────────────────────────────────────────────────────────────────────────────────────────────────────────────── tidyverse_conflicts() ──\n",
      "\u001b[31m✖\u001b[39m \u001b[34mggplot2\u001b[39m::\u001b[32mPosition()\u001b[39m masks \u001b[34mBiocGenerics\u001b[39m::Position(), \u001b[34mbase\u001b[39m::Position()\n",
      "\u001b[31m✖\u001b[39m \u001b[34mdplyr\u001b[39m::\u001b[32mcollapse()\u001b[39m   masks \u001b[34mIRanges\u001b[39m::collapse()\n",
      "\u001b[31m✖\u001b[39m \u001b[34mdplyr\u001b[39m::\u001b[32mcombine()\u001b[39m    masks \u001b[34mBiobase\u001b[39m::combine(), \u001b[34mBiocGenerics\u001b[39m::combine()\n",
      "\u001b[31m✖\u001b[39m \u001b[34mdplyr\u001b[39m::\u001b[32mcount()\u001b[39m      masks \u001b[34mmatrixStats\u001b[39m::count()\n",
      "\u001b[31m✖\u001b[39m \u001b[34mdplyr\u001b[39m::\u001b[32mdesc()\u001b[39m       masks \u001b[34mIRanges\u001b[39m::desc()\n",
      "\u001b[31m✖\u001b[39m \u001b[34mtidyr\u001b[39m::\u001b[32mexpand()\u001b[39m     masks \u001b[34mS4Vectors\u001b[39m::expand()\n",
      "\u001b[31m✖\u001b[39m \u001b[34mdplyr\u001b[39m::\u001b[32mfilter()\u001b[39m     masks \u001b[34mstats\u001b[39m::filter()\n",
      "\u001b[31m✖\u001b[39m \u001b[34mdplyr\u001b[39m::\u001b[32mfirst()\u001b[39m      masks \u001b[34mS4Vectors\u001b[39m::first()\n",
      "\u001b[31m✖\u001b[39m \u001b[34mdplyr\u001b[39m::\u001b[32mlag()\u001b[39m        masks \u001b[34mstats\u001b[39m::lag()\n",
      "\u001b[31m✖\u001b[39m \u001b[34mpurrr\u001b[39m::\u001b[32mreduce()\u001b[39m     masks \u001b[34mGenomicRanges\u001b[39m::reduce(), \u001b[34mIRanges\u001b[39m::reduce()\n",
      "\u001b[31m✖\u001b[39m \u001b[34mdplyr\u001b[39m::\u001b[32mrename()\u001b[39m     masks \u001b[34mS4Vectors\u001b[39m::rename()\n",
      "\u001b[31m✖\u001b[39m \u001b[34mdplyr\u001b[39m::\u001b[32mslice()\u001b[39m      masks \u001b[34mIRanges\u001b[39m::slice()\n",
      "\n"
     ]
    }
   ],
   "source": [
    "library(tidyverse)\n",
    "combined_regions_top2000_3col = as.data.frame(combined_regions_top2000_sorted) %>% \n",
    "   separate(combined_regions_top2000_sorted, into = c(\"seq\", \"start\", \"end\"), sep=\"_\")\n"
   ]
  },
  {
   "cell_type": "code",
   "execution_count": 70,
   "id": "a2a12614-ddeb-473b-9d54-81143b25bfc6",
   "metadata": {},
   "outputs": [
    {
     "data": {
      "text/html": [
       "<table class=\"dataframe\">\n",
       "<caption>A data.frame: 6 × 3</caption>\n",
       "<thead>\n",
       "\t<tr><th></th><th scope=col>seq</th><th scope=col>start</th><th scope=col>end</th></tr>\n",
       "\t<tr><th></th><th scope=col>&lt;chr&gt;</th><th scope=col>&lt;chr&gt;</th><th scope=col>&lt;chr&gt;</th></tr>\n",
       "</thead>\n",
       "<tbody>\n",
       "\t<tr><th scope=row>1</th><td>chr10</td><td>100014032</td><td>100014674</td></tr>\n",
       "\t<tr><th scope=row>2</th><td>chr10</td><td>100020279</td><td>100021256</td></tr>\n",
       "\t<tr><th scope=row>3</th><td>chr10</td><td>100204338</td><td>100204738</td></tr>\n",
       "\t<tr><th scope=row>4</th><td>chr10</td><td>100204338</td><td>100204738</td></tr>\n",
       "\t<tr><th scope=row>5</th><td>chr10</td><td>100256949</td><td>100257349</td></tr>\n",
       "\t<tr><th scope=row>6</th><td>chr10</td><td>100256949</td><td>100257349</td></tr>\n",
       "</tbody>\n",
       "</table>\n"
      ],
      "text/latex": [
       "A data.frame: 6 × 3\n",
       "\\begin{tabular}{r|lll}\n",
       "  & seq & start & end\\\\\n",
       "  & <chr> & <chr> & <chr>\\\\\n",
       "\\hline\n",
       "\t1 & chr10 & 100014032 & 100014674\\\\\n",
       "\t2 & chr10 & 100020279 & 100021256\\\\\n",
       "\t3 & chr10 & 100204338 & 100204738\\\\\n",
       "\t4 & chr10 & 100204338 & 100204738\\\\\n",
       "\t5 & chr10 & 100256949 & 100257349\\\\\n",
       "\t6 & chr10 & 100256949 & 100257349\\\\\n",
       "\\end{tabular}\n"
      ],
      "text/markdown": [
       "\n",
       "A data.frame: 6 × 3\n",
       "\n",
       "| <!--/--> | seq &lt;chr&gt; | start &lt;chr&gt; | end &lt;chr&gt; |\n",
       "|---|---|---|---|\n",
       "| 1 | chr10 | 100014032 | 100014674 |\n",
       "| 2 | chr10 | 100020279 | 100021256 |\n",
       "| 3 | chr10 | 100204338 | 100204738 |\n",
       "| 4 | chr10 | 100204338 | 100204738 |\n",
       "| 5 | chr10 | 100256949 | 100257349 |\n",
       "| 6 | chr10 | 100256949 | 100257349 |\n",
       "\n"
      ],
      "text/plain": [
       "  seq   start     end      \n",
       "1 chr10 100014032 100014674\n",
       "2 chr10 100020279 100021256\n",
       "3 chr10 100204338 100204738\n",
       "4 chr10 100204338 100204738\n",
       "5 chr10 100256949 100257349\n",
       "6 chr10 100256949 100257349"
      ]
     },
     "metadata": {},
     "output_type": "display_data"
    }
   ],
   "source": [
    "head(combined_regions_top2000_3col)"
   ]
  },
  {
   "cell_type": "code",
   "execution_count": 71,
   "id": "cbcc8ab6-ed36-4b25-8482-f0f1aca5668a",
   "metadata": {},
   "outputs": [
    {
     "data": {
      "text/html": [
       "<table class=\"dataframe\">\n",
       "<caption>A data.frame: 6 × 3</caption>\n",
       "<thead>\n",
       "\t<tr><th></th><th scope=col>seq</th><th scope=col>start</th><th scope=col>end</th></tr>\n",
       "\t<tr><th></th><th scope=col>&lt;chr&gt;</th><th scope=col>&lt;chr&gt;</th><th scope=col>&lt;chr&gt;</th></tr>\n",
       "</thead>\n",
       "<tbody>\n",
       "\t<tr><th scope=row>29995</th><td>chrX</td><td>97597940</td><td>97598340</td></tr>\n",
       "\t<tr><th scope=row>29996</th><td>chrX</td><td>9899642 </td><td>9900042 </td></tr>\n",
       "\t<tr><th scope=row>29997</th><td>chrX</td><td>9940311 </td><td>9940711 </td></tr>\n",
       "\t<tr><th scope=row>29998</th><td>chrX</td><td>9940311 </td><td>9940711 </td></tr>\n",
       "\t<tr><th scope=row>29999</th><td>chrX</td><td>9940311 </td><td>9940711 </td></tr>\n",
       "\t<tr><th scope=row>30000</th><td>chrX</td><td>9942112 </td><td>9942512 </td></tr>\n",
       "</tbody>\n",
       "</table>\n"
      ],
      "text/latex": [
       "A data.frame: 6 × 3\n",
       "\\begin{tabular}{r|lll}\n",
       "  & seq & start & end\\\\\n",
       "  & <chr> & <chr> & <chr>\\\\\n",
       "\\hline\n",
       "\t29995 & chrX & 97597940 & 97598340\\\\\n",
       "\t29996 & chrX & 9899642  & 9900042 \\\\\n",
       "\t29997 & chrX & 9940311  & 9940711 \\\\\n",
       "\t29998 & chrX & 9940311  & 9940711 \\\\\n",
       "\t29999 & chrX & 9940311  & 9940711 \\\\\n",
       "\t30000 & chrX & 9942112  & 9942512 \\\\\n",
       "\\end{tabular}\n"
      ],
      "text/markdown": [
       "\n",
       "A data.frame: 6 × 3\n",
       "\n",
       "| <!--/--> | seq &lt;chr&gt; | start &lt;chr&gt; | end &lt;chr&gt; |\n",
       "|---|---|---|---|\n",
       "| 29995 | chrX | 97597940 | 97598340 |\n",
       "| 29996 | chrX | 9899642  | 9900042  |\n",
       "| 29997 | chrX | 9940311  | 9940711  |\n",
       "| 29998 | chrX | 9940311  | 9940711  |\n",
       "| 29999 | chrX | 9940311  | 9940711  |\n",
       "| 30000 | chrX | 9942112  | 9942512  |\n",
       "\n"
      ],
      "text/plain": [
       "      seq  start    end     \n",
       "29995 chrX 97597940 97598340\n",
       "29996 chrX 9899642  9900042 \n",
       "29997 chrX 9940311  9940711 \n",
       "29998 chrX 9940311  9940711 \n",
       "29999 chrX 9940311  9940711 \n",
       "30000 chrX 9942112  9942512 "
      ]
     },
     "metadata": {},
     "output_type": "display_data"
    }
   ],
   "source": [
    "tail(combined_regions_top2000_3col)\n"
   ]
  },
  {
   "cell_type": "code",
   "execution_count": 73,
   "id": "c61fe2df-91b9-4c0d-b7e9-81213ecb363b",
   "metadata": {},
   "outputs": [],
   "source": [
    "write.table(combined_regions_top2000_3col, \"../../../../data/Corces2016_bulk_ATAC/03_get_differentially_accessible_regions/terminal_cell_states-for_PBMC_scmultiome/Corces2016_pairwise_differential_cCREs_FDR0.05_top2000_of_each_pair.bed\", sep = \"\\t\", col.names=FALSE,quote=FALSE, row.names = FALSE)\n"
   ]
  },
  {
   "cell_type": "markdown",
   "id": "23941735-3894-440c-bafc-d1f4575f9ef7",
   "metadata": {},
   "source": [
    "## again: --> NOTE THAT THE PEAK REGIONS ARE MERGED DURING THE PROCESSING AND THE REGIONS GIVEN ABOVE NO LONGER CORRESPOND TO ENCODE cCREs. I NEED TO OBTAIN THE CORRESPONDING cCREs"
   ]
  },
  {
   "cell_type": "raw",
   "id": "cf7f652c-dcb6-4911-8328-667a1908b1d8",
   "metadata": {},
   "source": [
    "cd  /project/scATAC_analysis/scATAcat_notebooks_for_paper/jan2024/data/Corces2016_bulk_ATAC/03_get_differentially_accessible_regions/terminal_cell_states-for_PBMC_scmultiome\n",
    "sort-bed Corces2016_pairwise_differential_cCREs_FDR0.05_top2000_of_each_pair.bed > Corces2016_pairwise_differential_cCREs_FDR0.05_top2000_of_each_pair_sorted.bed\n",
    "\n",
    "bedops --element-of 1 /project/scATAC_analysis/scATAcat_notebooks_for_paper/jan2024/data/ENCODE_cCREs/V2.hg38-cCREs-3col_sorted.bed  Corces2016_pairwise_differential_cCREs_FDR0.05_top2000_of_each_pair_sorted.bed > Corces2016_pairwise_differential_cCREs_FDR0.05_top2000_of_each_pair_sorted_exactCREs.bed\n",
    "\n",
    "\n"
   ]
  },
  {
   "cell_type": "code",
   "execution_count": 74,
   "id": "2ebd1583-db49-4da9-9297-73a0ecbdeda6",
   "metadata": {},
   "outputs": [],
   "source": [
    "exact_match_differential_cCREs_top2000_ = read.table(\"../../../../data/Corces2016_bulk_ATAC/03_get_differentially_accessible_regions/terminal_cell_states-for_PBMC_scmultiome/Corces2016_pairwise_differential_cCREs_FDR0.05_top2000_of_each_pair_sorted_exactCREs.bed\", header = FALSE, sep=\"\\t\")"
   ]
  },
  {
   "cell_type": "code",
   "execution_count": 75,
   "id": "a6dfbffb-e627-47c8-8ad5-09ee6f9efb8d",
   "metadata": {},
   "outputs": [
    {
     "data": {
      "text/html": [
       "<table class=\"dataframe\">\n",
       "<caption>A data.frame: 6 × 3</caption>\n",
       "<thead>\n",
       "\t<tr><th></th><th scope=col>V1</th><th scope=col>V2</th><th scope=col>V3</th></tr>\n",
       "\t<tr><th></th><th scope=col>&lt;chr&gt;</th><th scope=col>&lt;int&gt;</th><th scope=col>&lt;int&gt;</th></tr>\n",
       "</thead>\n",
       "<tbody>\n",
       "\t<tr><th scope=row>1</th><td>chr1</td><td>1216791</td><td>1217011</td></tr>\n",
       "\t<tr><th scope=row>2</th><td>chr1</td><td>1217013</td><td>1217334</td></tr>\n",
       "\t<tr><th scope=row>3</th><td>chr1</td><td>1607107</td><td>1607413</td></tr>\n",
       "\t<tr><th scope=row>4</th><td>chr1</td><td>1629532</td><td>1629772</td></tr>\n",
       "\t<tr><th scope=row>5</th><td>chr1</td><td>1629775</td><td>1630119</td></tr>\n",
       "\t<tr><th scope=row>6</th><td>chr1</td><td>1677810</td><td>1678155</td></tr>\n",
       "</tbody>\n",
       "</table>\n"
      ],
      "text/latex": [
       "A data.frame: 6 × 3\n",
       "\\begin{tabular}{r|lll}\n",
       "  & V1 & V2 & V3\\\\\n",
       "  & <chr> & <int> & <int>\\\\\n",
       "\\hline\n",
       "\t1 & chr1 & 1216791 & 1217011\\\\\n",
       "\t2 & chr1 & 1217013 & 1217334\\\\\n",
       "\t3 & chr1 & 1607107 & 1607413\\\\\n",
       "\t4 & chr1 & 1629532 & 1629772\\\\\n",
       "\t5 & chr1 & 1629775 & 1630119\\\\\n",
       "\t6 & chr1 & 1677810 & 1678155\\\\\n",
       "\\end{tabular}\n"
      ],
      "text/markdown": [
       "\n",
       "A data.frame: 6 × 3\n",
       "\n",
       "| <!--/--> | V1 &lt;chr&gt; | V2 &lt;int&gt; | V3 &lt;int&gt; |\n",
       "|---|---|---|---|\n",
       "| 1 | chr1 | 1216791 | 1217011 |\n",
       "| 2 | chr1 | 1217013 | 1217334 |\n",
       "| 3 | chr1 | 1607107 | 1607413 |\n",
       "| 4 | chr1 | 1629532 | 1629772 |\n",
       "| 5 | chr1 | 1629775 | 1630119 |\n",
       "| 6 | chr1 | 1677810 | 1678155 |\n",
       "\n"
      ],
      "text/plain": [
       "  V1   V2      V3     \n",
       "1 chr1 1216791 1217011\n",
       "2 chr1 1217013 1217334\n",
       "3 chr1 1607107 1607413\n",
       "4 chr1 1629532 1629772\n",
       "5 chr1 1629775 1630119\n",
       "6 chr1 1677810 1678155"
      ]
     },
     "metadata": {},
     "output_type": "display_data"
    }
   ],
   "source": [
    "head(exact_match_differential_cCREs_top2000_)"
   ]
  },
  {
   "cell_type": "code",
   "execution_count": 78,
   "id": "f71efd6d-2518-40c2-ab93-1cee24445577",
   "metadata": {},
   "outputs": [
    {
     "data": {
      "text/html": [
       "<style>\n",
       ".list-inline {list-style: none; margin:0; padding: 0}\n",
       ".list-inline>li {display: inline-block}\n",
       ".list-inline>li:not(:last-child)::after {content: \"\\00b7\"; padding: 0 .5ex}\n",
       "</style>\n",
       "<ol class=list-inline><li>19481</li><li>3</li></ol>\n"
      ],
      "text/latex": [
       "\\begin{enumerate*}\n",
       "\\item 19481\n",
       "\\item 3\n",
       "\\end{enumerate*}\n"
      ],
      "text/markdown": [
       "1. 19481\n",
       "2. 3\n",
       "\n",
       "\n"
      ],
      "text/plain": [
       "[1] 19481     3"
      ]
     },
     "metadata": {},
     "output_type": "display_data"
    }
   ],
   "source": [
    "dim(exact_match_differential_cCREs_top2000_)"
   ]
  },
  {
   "cell_type": "code",
   "execution_count": 79,
   "id": "27a61162-0550-4493-90fc-c175b768b1aa",
   "metadata": {},
   "outputs": [],
   "source": [
    "exact_match_differential_cCREs_top2000_[\"region\"]=paste(exact_match_differential_cCREs_top2000_$V1, exact_match_differential_cCREs_top2000_$V2, exact_match_differential_cCREs_top2000_$V3, sep=\"_\")"
   ]
  },
  {
   "cell_type": "code",
   "execution_count": 80,
   "id": "37fe32a8-7e3a-4c56-a116-4778ba0ff7c6",
   "metadata": {},
   "outputs": [
    {
     "data": {
      "text/html": [
       "<table class=\"dataframe\">\n",
       "<caption>A data.frame: 6 × 4</caption>\n",
       "<thead>\n",
       "\t<tr><th></th><th scope=col>V1</th><th scope=col>V2</th><th scope=col>V3</th><th scope=col>region</th></tr>\n",
       "\t<tr><th></th><th scope=col>&lt;chr&gt;</th><th scope=col>&lt;int&gt;</th><th scope=col>&lt;int&gt;</th><th scope=col>&lt;chr&gt;</th></tr>\n",
       "</thead>\n",
       "<tbody>\n",
       "\t<tr><th scope=row>1</th><td>chr1</td><td>1216791</td><td>1217011</td><td>chr1_1216791_1217011</td></tr>\n",
       "\t<tr><th scope=row>2</th><td>chr1</td><td>1217013</td><td>1217334</td><td>chr1_1217013_1217334</td></tr>\n",
       "\t<tr><th scope=row>3</th><td>chr1</td><td>1607107</td><td>1607413</td><td>chr1_1607107_1607413</td></tr>\n",
       "\t<tr><th scope=row>4</th><td>chr1</td><td>1629532</td><td>1629772</td><td>chr1_1629532_1629772</td></tr>\n",
       "\t<tr><th scope=row>5</th><td>chr1</td><td>1629775</td><td>1630119</td><td>chr1_1629775_1630119</td></tr>\n",
       "\t<tr><th scope=row>6</th><td>chr1</td><td>1677810</td><td>1678155</td><td>chr1_1677810_1678155</td></tr>\n",
       "</tbody>\n",
       "</table>\n"
      ],
      "text/latex": [
       "A data.frame: 6 × 4\n",
       "\\begin{tabular}{r|llll}\n",
       "  & V1 & V2 & V3 & region\\\\\n",
       "  & <chr> & <int> & <int> & <chr>\\\\\n",
       "\\hline\n",
       "\t1 & chr1 & 1216791 & 1217011 & chr1\\_1216791\\_1217011\\\\\n",
       "\t2 & chr1 & 1217013 & 1217334 & chr1\\_1217013\\_1217334\\\\\n",
       "\t3 & chr1 & 1607107 & 1607413 & chr1\\_1607107\\_1607413\\\\\n",
       "\t4 & chr1 & 1629532 & 1629772 & chr1\\_1629532\\_1629772\\\\\n",
       "\t5 & chr1 & 1629775 & 1630119 & chr1\\_1629775\\_1630119\\\\\n",
       "\t6 & chr1 & 1677810 & 1678155 & chr1\\_1677810\\_1678155\\\\\n",
       "\\end{tabular}\n"
      ],
      "text/markdown": [
       "\n",
       "A data.frame: 6 × 4\n",
       "\n",
       "| <!--/--> | V1 &lt;chr&gt; | V2 &lt;int&gt; | V3 &lt;int&gt; | region &lt;chr&gt; |\n",
       "|---|---|---|---|---|\n",
       "| 1 | chr1 | 1216791 | 1217011 | chr1_1216791_1217011 |\n",
       "| 2 | chr1 | 1217013 | 1217334 | chr1_1217013_1217334 |\n",
       "| 3 | chr1 | 1607107 | 1607413 | chr1_1607107_1607413 |\n",
       "| 4 | chr1 | 1629532 | 1629772 | chr1_1629532_1629772 |\n",
       "| 5 | chr1 | 1629775 | 1630119 | chr1_1629775_1630119 |\n",
       "| 6 | chr1 | 1677810 | 1678155 | chr1_1677810_1678155 |\n",
       "\n"
      ],
      "text/plain": [
       "  V1   V2      V3      region              \n",
       "1 chr1 1216791 1217011 chr1_1216791_1217011\n",
       "2 chr1 1217013 1217334 chr1_1217013_1217334\n",
       "3 chr1 1607107 1607413 chr1_1607107_1607413\n",
       "4 chr1 1629532 1629772 chr1_1629532_1629772\n",
       "5 chr1 1629775 1630119 chr1_1629775_1630119\n",
       "6 chr1 1677810 1678155 chr1_1677810_1678155"
      ]
     },
     "metadata": {},
     "output_type": "display_data"
    }
   ],
   "source": [
    "head(exact_match_differential_cCREs_top2000_)"
   ]
  },
  {
   "cell_type": "code",
   "execution_count": 81,
   "id": "ba121097-8e04-49c4-a7be-7080a4b3c00c",
   "metadata": {},
   "outputs": [],
   "source": [
    "write.table(exact_match_differential_cCREs_top2000_[\"region\"], \"../../../../data/Corces2016_bulk_ATAC/03_get_differentially_accessible_regions/terminal_cell_states-for_PBMC_scmultiome/Corces2016_pairwise_differential_cCREs_FDR0.05_top2000_of_each_pair_sorted_exactCREs.csv\", sep = \",\", col.names=FALSE,quote=FALSE, row.names = FALSE)\n"
   ]
  },
  {
   "cell_type": "code",
   "execution_count": null,
   "id": "9a495360-65e9-414e-8551-055f2fb9bec2",
   "metadata": {},
   "outputs": [],
   "source": []
  }
 ],
 "metadata": {
  "kernelspec": {
   "display_name": "R-4.0.5",
   "language": "R",
   "name": "ir-4.0.5"
  },
  "language_info": {
   "codemirror_mode": "r",
   "file_extension": ".r",
   "mimetype": "text/x-r-source",
   "name": "R",
   "pygments_lexer": "r",
   "version": "4.0.5"
  }
 },
 "nbformat": 4,
 "nbformat_minor": 5
}
