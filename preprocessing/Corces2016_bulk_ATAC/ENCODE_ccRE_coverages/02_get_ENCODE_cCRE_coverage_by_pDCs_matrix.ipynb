{
 "cells": [
  {
   "cell_type": "code",
   "execution_count": 1,
   "id": "58839aa4-b2f0-42fc-bff2-f19f634ba8fa",
   "metadata": {},
   "outputs": [],
   "source": [
    "import pandas as pd\n",
    "import numpy as np\n",
    "import os, os.path\n",
    "import pickle"
   ]
  },
  {
   "cell_type": "markdown",
   "id": "fe3bf1a9-9187-4a82-a08e-ee9f62f94232",
   "metadata": {
    "tags": []
   },
   "source": [
    "### 6th column refers to coverage"
   ]
  },
  {
   "cell_type": "code",
   "execution_count": 2,
   "id": "223ca02d-47b0-4c6b-8d54-4b16f611cdf0",
   "metadata": {},
   "outputs": [],
   "source": [
    "# features (peaks)\n",
    "ENCODE_cCREs = pd.read_table(\"../../../data/ENCODE_cCREs/ENCOCE_cREs_merged_names.tsv\", sep='\\t', header=None)\n"
   ]
  },
  {
   "cell_type": "code",
   "execution_count": 3,
   "id": "fea01140-b334-42b6-8fd6-584cde56ceca",
   "metadata": {},
   "outputs": [
    {
     "data": {
      "text/plain": [
       "(926535, 1)"
      ]
     },
     "execution_count": 3,
     "metadata": {},
     "output_type": "execute_result"
    }
   ],
   "source": [
    "ENCODE_cCREs.shape"
   ]
  },
  {
   "cell_type": "code",
   "execution_count": 4,
   "id": "894b5aaa-d715-451b-8fda-e98d77a0145e",
   "metadata": {},
   "outputs": [],
   "source": [
    "ENCODE_cCREs = pd.read_table(\"/project/scATAC_analysis/10X_PBMC_analysis/AnnotationQuestion/overlap_bulk_and_scATAC/sc_multiome/10X_PBMC_multiome/data_10X_PBMC_multiome_granulocytes_removed_ARC_1.0.0/ENCODE_cCRE_coverage/ENCOCE_cREs_merged_names.tsv\", sep='\\t', header=None)\n"
   ]
  },
  {
   "cell_type": "markdown",
   "id": "5d00c9b8-d357-43cb-bac5-e7068188ea6f",
   "metadata": {},
   "source": [
    "## columns --> number of bulk data"
   ]
  },
  {
   "cell_type": "code",
   "execution_count": 5,
   "id": "aacb68bc-34d2-4e32-a82a-579b56f66e44",
   "metadata": {},
   "outputs": [],
   "source": [
    "corces_cell_types = [\"pDC\"]\n",
    "path_dir_base = \"../../../data/Corces2016_bulk_ATAC/01_ENCODE_cCRE_coverages/pDC/\"\n",
    "ENCODE_cCRE_overlapped_bedFiles_dir=[]\n",
    "SRR_IDs=[]\n",
    "# convert to a pandas df for the easy access to incex etc\n",
    "for cell_type in corces_cell_types:\n",
    "    for bed_file in os.listdir(path_dir_base):\n",
    "        if bed_file.endswith(\"_NOTmerged_scATAC_overlap_ENCODE_cCRE_coverage.bed\"):\n",
    "            #print(f)\n",
    "            ENCODE_cCRE_overlapped_bedFiles_dir.append(bed_file)\n",
    "            SRR_IDs.append(bed_file.split('_')[0])"
   ]
  },
  {
   "cell_type": "code",
   "execution_count": 6,
   "id": "bd9f3c17-7129-44f4-97fa-86fb9c1e670c",
   "metadata": {},
   "outputs": [
    {
     "data": {
      "text/plain": [
       "['SRR7650770_NOTmerged_scATAC_overlap_ENCODE_cCRE_coverage.bed',\n",
       " 'SRR7650811_NOTmerged_scATAC_overlap_ENCODE_cCRE_coverage.bed',\n",
       " 'SRR7650916_NOTmerged_scATAC_overlap_ENCODE_cCRE_coverage.bed']"
      ]
     },
     "execution_count": 6,
     "metadata": {},
     "output_type": "execute_result"
    }
   ],
   "source": [
    "ENCODE_cCRE_overlapped_bedFiles_dir"
   ]
  },
  {
   "cell_type": "code",
   "execution_count": 7,
   "id": "3514c5e1-1aaa-47b5-9cb2-7c1595c3d3e1",
   "metadata": {},
   "outputs": [
    {
     "data": {
      "text/plain": [
       "3"
      ]
     },
     "execution_count": 7,
     "metadata": {},
     "output_type": "execute_result"
    }
   ],
   "source": [
    "# number of bulk atac data --> number of columns\n",
    "num_ENCODE_cCRE_overlapped_bedFiles =  len(ENCODE_cCRE_overlapped_bedFiles_dir)\n",
    "num_ENCODE_cCRE_overlapped_bedFiles"
   ]
  },
  {
   "cell_type": "markdown",
   "id": "4d372cdc-ec3d-4410-844a-9f6fb4eca62f",
   "metadata": {},
   "source": [
    "## create bulk_by_ENCODE_peaks matrix"
   ]
  },
  {
   "cell_type": "code",
   "execution_count": 8,
   "id": "798c652a-a851-47f3-8893-b0c6bc44f11e",
   "metadata": {
    "tags": []
   },
   "outputs": [
    {
     "name": "stdout",
     "output_type": "stream",
     "text": [
      "SRR7650770_NOTmerged_scATAC_overlap_ENCODE_cCRE_coverage.bed\n",
      "SRR7650811_NOTmerged_scATAC_overlap_ENCODE_cCRE_coverage.bed\n",
      "SRR7650916_NOTmerged_scATAC_overlap_ENCODE_cCRE_coverage.bed\n"
     ]
    }
   ],
   "source": [
    "corces_cell_types = [\"pDC\"]\n",
    "path_dir_base = \"../../../data/Corces2016_bulk_ATAC/01_ENCODE_cCRE_coverages/pDC/\"\n",
    "bulk_by_ENCODE_peaks = np.zeros((len(ENCODE_cCREs),0))\n",
    "# convert to a pandas df for the easy access to incex etc\n",
    "bulk_by_ENCODE_peaks_df = pd.DataFrame(bulk_by_ENCODE_peaks,index=ENCODE_cCREs[0])\n",
    "for cell_type in corces_cell_types:\n",
    "    path_dir = path_dir_base \n",
    "    for bed_file in os.listdir(path_dir):\n",
    "        if bed_file.endswith(\"_NOTmerged_scATAC_overlap_ENCODE_cCRE_coverage.bed\"):\n",
    "            print(bed_file)\n",
    "            SRR_name = bed_file.split('_')[0]\n",
    "            full_path = path_dir +\"/\"+ bed_file\n",
    "            SRR_df = pd.read_table(full_path, sep='\\t', header=None)\n",
    "            SRR_df['merged_peak_name']=SRR_df[0].astype(str)+'_'+SRR_df[1].astype(str)+'_'+SRR_df[2].astype(str)\n",
    "            SRR_df.index = SRR_df.loc[:,\"merged_peak_name\"]\n",
    "            SRR_df = pd.DataFrame(SRR_df.loc[:,6])\n",
    "            SRR_df.columns = [SRR_name]\n",
    "            bulk_by_ENCODE_peaks_df= pd.concat([bulk_by_ENCODE_peaks_df,SRR_df], axis=1)"
   ]
  },
  {
   "cell_type": "code",
   "execution_count": 9,
   "id": "3bc562f7-8d5a-435f-874f-980a85886153",
   "metadata": {},
   "outputs": [],
   "source": [
    "bulk_by_ENCODE_peaks_df_annotated = bulk_by_ENCODE_peaks_df.copy()"
   ]
  },
  {
   "cell_type": "code",
   "execution_count": 10,
   "id": "fc0397b1-5f52-4490-8628-7542d317ea20",
   "metadata": {},
   "outputs": [],
   "source": [
    "bulk_by_ENCODE_peaks_df_annotated.columns= [\"pDC_1\", \"pDC_2\",\"pDC_3\"]"
   ]
  },
  {
   "cell_type": "code",
   "execution_count": 11,
   "id": "1d864c52-2e15-45e0-af68-c474fd3bc74d",
   "metadata": {},
   "outputs": [],
   "source": [
    "bulk_by_ENCODE_peaks_df_annotated.to_csv('../../../data/Corces2016_bulk_ATAC/02_ENCODE_coverage_by_prototypes_matrix/Calderon2019_pDC_ENCODE_cCRE_overlappingPeaks_annotated.csv')"
   ]
  },
  {
   "cell_type": "code",
   "execution_count": 12,
   "id": "f70a78f5-2114-4c7e-ba93-6fb9e9df772b",
   "metadata": {},
   "outputs": [],
   "source": [
    "# Saving the objects:\n",
    "with open('../../../data/Corces2016_bulk_ATAC/02_ENCODE_coverage_by_prototypes_matrix/Calderon2019_pDC_ENCODE_cCRE_overlappingPeaks_annotated.pkl', 'wb') as f:\n",
    "    pickle.dump(bulk_by_ENCODE_peaks_df_annotated, f)"
   ]
  }
 ],
 "metadata": {
  "kernelspec": {
   "display_name": "Python 3 (ipykernel)",
   "language": "python",
   "name": "python3"
  },
  "language_info": {
   "codemirror_mode": {
    "name": "ipython",
    "version": 3
   },
   "file_extension": ".py",
   "mimetype": "text/x-python",
   "name": "python",
   "nbconvert_exporter": "python",
   "pygments_lexer": "ipython3",
   "version": "3.10.12"
  }
 },
 "nbformat": 4,
 "nbformat_minor": 5
}
