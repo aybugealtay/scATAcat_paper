{
 "cells": [
  {
   "cell_type": "markdown",
   "id": "e8ae6acc-9a2f-4ab4-8a79-1db324fff217",
   "metadata": {},
   "source": [
    "**EpiAnno** requires unified feature set between reference and query dataset. This is achieved bu *mapping* the reads of reference to those in query. In practice this means:\n",
    "    \n",
    "    1. get the features of query dataset\n",
    "    2. for the reference dataset, count the # of reads falling into each of these features\n",
    "\n",
    "- This results in unified feature-set. However this is somewhat problematic because this reference dataset is used as the training set in supervised learning setting. This means, the training data actually knows about the test set.\n",
    "\n",
    "After obtaning this unified feature sets, the daat matrices are subjected to following normalization/processing steps:\n",
    "    \n",
    "    1. feature selection: keep only the features/peaks that have at least one read count in at least 3% of cells\n",
    "    2. TF-IDF transformation: TF *  log (1 + inverse document frequency)\n",
    "    3. z-normalization: normalize the TF-IDF-transformed scCAS data by making each peak centred and scaled (with zero mean and unit variance)\n",
    "    \n",
    "Some of these functions \n"
   ]
  },
  {
   "cell_type": "code",
   "execution_count": null,
   "id": "a549aacc-da0a-40fa-a377-9e4087d73de9",
   "metadata": {
    "tags": []
   },
   "outputs": [],
   "source": [
    "import pickle\n",
    "import pandas as pd\n",
    "import sklearn\n",
    "import numpy as np\n",
    "import scanpy as sc\n",
    "import scipy.sparse\n",
    "import anndata\n",
    "import matplotlib.pylab as plt\n",
    "from sklearn.decomposition import PCA\n",
    "import copy\n",
    "import logging as logg\n",
    "from sklearn import preprocessing\n",
    "import os \n",
    "import warnings\n",
    "import scATAcat\n",
    "import seaborn as sns\n",
    "import random as rn \n",
    "\n",
    "warnings.filterwarnings('ignore')"
   ]
  },
  {
   "cell_type": "code",
   "execution_count": null,
   "id": "10d70691-99cd-451c-ae54-0ce06bf57d6d",
   "metadata": {},
   "outputs": [],
   "source": [
    "# set the seed for reproducibility\n",
    "sd = 1234\n",
    "np.random.seed(sd)\n",
    "rn.seed(sd)\n",
    "%env PYTHONHASHSEED=0\n"
   ]
  },
  {
   "cell_type": "markdown",
   "id": "153969f2-aa6c-472e-9724-5f0fa54ffc91",
   "metadata": {},
   "source": [
    "#### define necessary parameters"
   ]
  },
  {
   "cell_type": "code",
   "execution_count": null,
   "id": "52f41b9c-1441-4358-9148-91839ec3e90e",
   "metadata": {},
   "outputs": [],
   "source": [
    "results_dir = \"../../../../data/Satpathy2019/PBMC_Rep1_scATAC/04_preprocessing_for_EpiAnno/\"\n",
    "output_dir = results_dir +\"/outputs/\"\n",
    "figures_dir = results_dir +\"/figures/\"\n",
    "data_dir = \"../../../../data/Satpathy2019/PBMC_Rep1_scATAC/03_ENCODE_coverage_by_cell_matrix/\"\n",
    "\n",
    "for dir in [figures_dir, output_dir]:\n",
    "    if not os.path.exists(dir):\n",
    "        os.makedirs(dir)"
   ]
  },
  {
   "cell_type": "markdown",
   "id": "5d0a013b-6cbc-4375-a314-fa3a1ac9be91",
   "metadata": {
    "tags": []
   },
   "source": [
    "### 0 - Load scATAC-seq data"
   ]
  },
  {
   "cell_type": "code",
   "execution_count": null,
   "id": "05b4cdff-a864-48a6-b325-4e33f0b2df19",
   "metadata": {
    "tags": []
   },
   "outputs": [],
   "source": [
    "reference_ENCODE_coverage_per_cell_df= pickle.load(open(data_dir + 'GSM3722015_PBMC_Rep1_per_cell_encode_cCRE_matrix_sparse.pkl','rb'))\n"
   ]
  },
  {
   "cell_type": "code",
   "execution_count": null,
   "id": "945f6b2b-7b34-4e76-9e9b-7afab98bf79b",
   "metadata": {
    "tags": []
   },
   "outputs": [],
   "source": [
    "reference_ENCODE_cCREs = pd.read_csv(data_dir +\"GSM3722015_PBMC_Rep1_ENCODE_cCREs.csv\", index_col=0)\n",
    "reference_ENCODE_cCREs.index = reference_ENCODE_cCREs.iloc[:,0]\n",
    "reference_ENCODE_cCREs.index.name = None\n",
    "reference_ENCODE_cCREs.columns = ['cCREs']\n",
    "reference_ENCODE_cCREs.head()"
   ]
  },
  {
   "cell_type": "code",
   "execution_count": null,
   "id": "90cfa316-ea03-4e58-8ed4-c84618b9b1ba",
   "metadata": {
    "tags": []
   },
   "outputs": [],
   "source": [
    "reference_cell_IDs = pd.read_csv(data_dir +\"cellIDs.csv\", index_col=0)\n",
    "reference_cell_IDs.index = reference_cell_IDs.iloc[:,0]\n",
    "reference_cell_IDs.index.name = None\n",
    "reference_cell_IDs.columns = ['cell_IDs']\n",
    "reference_cell_IDs.head()"
   ]
  },
  {
   "cell_type": "markdown",
   "id": "5f8b4d62-6b96-4b10-bc3a-4ea870bba922",
   "metadata": {},
   "source": [
    "### 1 - initialize the AnnData object"
   ]
  },
  {
   "cell_type": "code",
   "execution_count": null,
   "id": "05bbe76e-9e12-4d27-95e0-90edbf5fe14b",
   "metadata": {
    "tags": []
   },
   "outputs": [],
   "source": [
    "reference_sc_completeFeatures_adata = anndata.AnnData(reference_ENCODE_coverage_per_cell_df.transpose(), var=ENCODE_cCREs, obs=cell_IDs)\n"
   ]
  },
  {
   "cell_type": "code",
   "execution_count": null,
   "id": "e3338816-58f3-4a51-b708-4e9a6df7e8aa",
   "metadata": {
    "tags": []
   },
   "outputs": [],
   "source": [
    "reference_sc_completeFeatures_adata"
   ]
  },
  {
   "cell_type": "markdown",
   "id": "93bdbb6c-759e-4e73-9582-2c7418d50e98",
   "metadata": {},
   "source": [
    "### 2 - add binary layer to AnnData"
   ]
  },
  {
   "cell_type": "code",
   "execution_count": null,
   "id": "59c75037-0502-495d-9d02-0e78088465f8",
   "metadata": {
    "tags": []
   },
   "outputs": [],
   "source": [
    "scATAcat.add_binary_layer(reference_sc_completeFeatures_adata, binary_layer_key=\"binary\")"
   ]
  },
  {
   "cell_type": "markdown",
   "id": "293d142a-6661-49b2-b125-f3f7ba18296c",
   "metadata": {},
   "source": [
    "## 3- calculate & plot cell and feature statistics"
   ]
  },
  {
   "cell_type": "code",
   "execution_count": null,
   "id": "13559718-6090-4109-9bf7-576b876f703e",
   "metadata": {
    "tags": []
   },
   "outputs": [],
   "source": [
    "scATAcat.cell_feature_statistics(reference_sc_completeFeatures_adata, binary_layer_key ='binary')"
   ]
  },
  {
   "cell_type": "code",
   "execution_count": null,
   "id": "5513a2aa-595e-4f99-869d-68c06b46b9d2",
   "metadata": {
    "tags": []
   },
   "outputs": [],
   "source": [
    "scATAcat.plot_feature_statistics(reference_sc_completeFeatures_adata, threshold=3, bins=50, color=\"lightgrey\", save=True, save_dir = figures_dir +\"/feature_statistics_plot.png\")"
   ]
  },
  {
   "cell_type": "code",
   "execution_count": null,
   "id": "67ab5a40-3afb-4896-8d22-c71eee69b5d4",
   "metadata": {
    "tags": []
   },
   "outputs": [],
   "source": [
    "scATAcat.plot_cell_statistics(reference_sc_completeFeatures_adata, threshold=1000, bins=50, color=\"lightgrey\", save=True, save_dir = figures_dir + \"/cell_statistics_plot.png\")"
   ]
  },
  {
   "cell_type": "markdown",
   "id": "08ae6abe-74d0-4cc0-ace1-262ab4db7bf8",
   "metadata": {},
   "source": [
    "## 4- filter the cells and features"
   ]
  },
  {
   "cell_type": "code",
   "execution_count": null,
   "id": "4a8ae78f-1bb5-427d-86af-124d688e809e",
   "metadata": {
    "tags": []
   },
   "outputs": [],
   "source": [
    "reference_sc_completeFeatures_adata"
   ]
  },
  {
   "cell_type": "code",
   "execution_count": null,
   "id": "9cfe3649-8200-493e-86fc-201412e21ea5",
   "metadata": {},
   "outputs": [],
   "source": [
    "int(reference_sc_completeFeatures_adata.shape[0]*3/100)"
   ]
  },
  {
   "cell_type": "code",
   "execution_count": null,
   "id": "18b44126-3143-4b71-8ba1-91e50230b85b",
   "metadata": {
    "tags": []
   },
   "outputs": [],
   "source": [
    "reference_sc_filteredFeatures_adata = scATAcat.preproces_sc_matrix(reference_sc_completeFeatures_adata,cell_cutoff=0,cell_cutoff_max=80000, feature_cutoff=int(reference_sc_completeFeatures_adata.shape[0]*3/100), remove_chrY = True, var_key = 'cCREs', copy=True)"
   ]
  },
  {
   "cell_type": "code",
   "execution_count": null,
   "id": "5321dd7b-fcb7-435f-b40a-96508ed47003",
   "metadata": {},
   "outputs": [],
   "source": [
    "reference_sc_filteredFeatures_adata"
   ]
  },
  {
   "cell_type": "markdown",
   "id": "0f3d82a4-b5e6-451c-9de3-4a0b8ad27388",
   "metadata": {},
   "source": [
    "## do until this step also with the query data anbd re-unify the features as afytr filtering step the feature sets might be the same:"
   ]
  },
  {
   "cell_type": "code",
   "execution_count": null,
   "id": "6ce03cc7-8e84-42d9-acc6-3771ccf35478",
   "metadata": {},
   "outputs": [],
   "source": [
    "scATAC_analysis/scATAcat_notebooks_for_paper/jan2024/data/10X_PBMC_scmultiome"
   ]
  },
  {
   "cell_type": "code",
   "execution_count": 3,
   "id": "a76f2979-5af6-491a-a1ea-bbdefb3969bf",
   "metadata": {},
   "outputs": [],
   "source": [
    "results_dir_query = \"../../../../data/Satpathy2019/PBMC_Rep1_scATAC/04_preprocessing_for_EpiAnno/\"\n",
    "output_dir_query = results_dir+\"/outputs_query/\"\n",
    "figures_dir_query = results_dir+\"/figures_query/\"\n",
    "data_dir_query = \"../../../../../scATAcat_notebooks_for_paper/jan2024/data/\"\n",
    "\n",
    "for dir in [figures_dir, output_dir]:\n",
    "    if not os.path.exists(dir):\n",
    "        os.mkdir(dir)\n"
   ]
  },
  {
   "cell_type": "markdown",
   "id": "80c99707-69a7-4278-82e6-f66ec608db74",
   "metadata": {
    "tags": []
   },
   "source": [
    "### 0 - Load scATAC-seq data"
   ]
  },
  {
   "cell_type": "code",
   "execution_count": 4,
   "id": "f1480e78-e9d7-4463-843a-19f72691205f",
   "metadata": {
    "tags": []
   },
   "outputs": [],
   "source": [
    "ENCODE_coverage_per_cell_df= pickle.load(open(data_dir + '10X_PBMC_scmultiome/02_ENCODE_coverage_by_cell_matrix/PBMC_ENCODE_coverage_per_cell_matrix_sparse.pkl','rb'))\n"
   ]
  },
  {
   "cell_type": "code",
   "execution_count": 5,
   "id": "40c2ef20-6c2c-4a08-958d-e973301e33ee",
   "metadata": {},
   "outputs": [
    {
     "data": {
      "text/plain": [
       "<926535x10411 sparse matrix of type '<class 'numpy.float32'>'\n",
       "\twith 123604223 stored elements in Compressed Sparse Row format>"
      ]
     },
     "execution_count": 5,
     "metadata": {},
     "output_type": "execute_result"
    }
   ],
   "source": [
    "ENCODE_coverage_per_cell_df"
   ]
  },
  {
   "cell_type": "code",
   "execution_count": 6,
   "id": "3df9f6c4-b171-4af5-b2d6-99081c369f49",
   "metadata": {
    "tags": []
   },
   "outputs": [
    {
     "data": {
      "text/html": [
       "<div>\n",
       "<style scoped>\n",
       "    .dataframe tbody tr th:only-of-type {\n",
       "        vertical-align: middle;\n",
       "    }\n",
       "\n",
       "    .dataframe tbody tr th {\n",
       "        vertical-align: top;\n",
       "    }\n",
       "\n",
       "    .dataframe thead th {\n",
       "        text-align: right;\n",
       "    }\n",
       "</style>\n",
       "<table border=\"1\" class=\"dataframe\">\n",
       "  <thead>\n",
       "    <tr style=\"text-align: right;\">\n",
       "      <th></th>\n",
       "      <th>cCREs</th>\n",
       "    </tr>\n",
       "    <tr>\n",
       "      <th>cCREs</th>\n",
       "      <th></th>\n",
       "    </tr>\n",
       "  </thead>\n",
       "  <tbody>\n",
       "    <tr>\n",
       "      <th>chr1_181251_181601</th>\n",
       "      <td>chr1_181251_181601</td>\n",
       "    </tr>\n",
       "    <tr>\n",
       "      <th>chr1_190865_191071</th>\n",
       "      <td>chr1_190865_191071</td>\n",
       "    </tr>\n",
       "    <tr>\n",
       "      <th>chr1_778562_778912</th>\n",
       "      <td>chr1_778562_778912</td>\n",
       "    </tr>\n",
       "    <tr>\n",
       "      <th>chr1_779086_779355</th>\n",
       "      <td>chr1_779086_779355</td>\n",
       "    </tr>\n",
       "    <tr>\n",
       "      <th>chr1_779727_780060</th>\n",
       "      <td>chr1_779727_780060</td>\n",
       "    </tr>\n",
       "  </tbody>\n",
       "</table>\n",
       "</div>"
      ],
      "text/plain": [
       "                                 cCREs\n",
       "cCREs                                 \n",
       "chr1_181251_181601  chr1_181251_181601\n",
       "chr1_190865_191071  chr1_190865_191071\n",
       "chr1_778562_778912  chr1_778562_778912\n",
       "chr1_779086_779355  chr1_779086_779355\n",
       "chr1_779727_780060  chr1_779727_780060"
      ]
     },
     "execution_count": 6,
     "metadata": {},
     "output_type": "execute_result"
    }
   ],
   "source": [
    "ENCODE_cCREs = pd.read_csv(data_dir +\"10X_PBMC_scmultiome/02_ENCODE_coverage_by_cell_matrix/ENCODE_coverage_per_cell_ENCODE_cCREs.csv\", index_col=0)\n",
    "ENCODE_cCREs.columns = [\"cCREs\"]\n",
    "ENCODE_cCREs.index = ENCODE_cCREs['cCREs']\n",
    "ENCODE_cCREs.head()"
   ]
  },
  {
   "cell_type": "code",
   "execution_count": 7,
   "id": "00363f0a-e4c4-4614-9532-324d14695418",
   "metadata": {
    "tags": []
   },
   "outputs": [
    {
     "data": {
      "text/html": [
       "<div>\n",
       "<style scoped>\n",
       "    .dataframe tbody tr th:only-of-type {\n",
       "        vertical-align: middle;\n",
       "    }\n",
       "\n",
       "    .dataframe tbody tr th {\n",
       "        vertical-align: top;\n",
       "    }\n",
       "\n",
       "    .dataframe thead th {\n",
       "        text-align: right;\n",
       "    }\n",
       "</style>\n",
       "<table border=\"1\" class=\"dataframe\">\n",
       "  <thead>\n",
       "    <tr style=\"text-align: right;\">\n",
       "      <th></th>\n",
       "      <th>cell_IDs</th>\n",
       "    </tr>\n",
       "    <tr>\n",
       "      <th>cell_IDs</th>\n",
       "      <th></th>\n",
       "    </tr>\n",
       "  </thead>\n",
       "  <tbody>\n",
       "    <tr>\n",
       "      <th>AAACAGCCAATCCCTT-1</th>\n",
       "      <td>AAACAGCCAATCCCTT-1</td>\n",
       "    </tr>\n",
       "    <tr>\n",
       "      <th>AAACAGCCAATGCGCT-1</th>\n",
       "      <td>AAACAGCCAATGCGCT-1</td>\n",
       "    </tr>\n",
       "    <tr>\n",
       "      <th>AAACAGCCACCAACCG-1</th>\n",
       "      <td>AAACAGCCACCAACCG-1</td>\n",
       "    </tr>\n",
       "    <tr>\n",
       "      <th>AAACAGCCAGGATAAC-1</th>\n",
       "      <td>AAACAGCCAGGATAAC-1</td>\n",
       "    </tr>\n",
       "    <tr>\n",
       "      <th>AAACAGCCAGTAGGTG-1</th>\n",
       "      <td>AAACAGCCAGTAGGTG-1</td>\n",
       "    </tr>\n",
       "  </tbody>\n",
       "</table>\n",
       "</div>"
      ],
      "text/plain": [
       "                              cell_IDs\n",
       "cell_IDs                              \n",
       "AAACAGCCAATCCCTT-1  AAACAGCCAATCCCTT-1\n",
       "AAACAGCCAATGCGCT-1  AAACAGCCAATGCGCT-1\n",
       "AAACAGCCACCAACCG-1  AAACAGCCACCAACCG-1\n",
       "AAACAGCCAGGATAAC-1  AAACAGCCAGGATAAC-1\n",
       "AAACAGCCAGTAGGTG-1  AAACAGCCAGTAGGTG-1"
      ]
     },
     "execution_count": 7,
     "metadata": {},
     "output_type": "execute_result"
    }
   ],
   "source": [
    "cell_IDs = pd.read_csv(data_dir +\"10X_PBMC_scmultiome/02_ENCODE_coverage_by_cell_matrix/ENCODE_coverage_per_cell_cell_IDs.csv\", index_col=0)\n",
    "cell_IDs.columns = [\"cell_IDs\"]\n",
    "cell_IDs.index = cell_IDs[\"cell_IDs\"]\n",
    "cell_IDs.head()"
   ]
  },
  {
   "cell_type": "markdown",
   "id": "7a1a8ddc-0954-4a68-a56a-4a3485891511",
   "metadata": {},
   "source": [
    "### 1 - initialize the AnnData object"
   ]
  },
  {
   "cell_type": "code",
   "execution_count": 8,
   "id": "f4a42b59-f25b-4cef-b21a-52ddaa12d564",
   "metadata": {
    "tags": []
   },
   "outputs": [],
   "source": [
    "sc_completeFeatures_adata = anndata.AnnData(ENCODE_coverage_per_cell_df.transpose(), var=ENCODE_cCREs, obs=cell_IDs)\n"
   ]
  },
  {
   "cell_type": "code",
   "execution_count": 9,
   "id": "6dc82a65-a71e-4456-99c8-07db61bf8118",
   "metadata": {
    "tags": []
   },
   "outputs": [
    {
     "data": {
      "text/plain": [
       "AnnData object with n_obs × n_vars = 10411 × 926535\n",
       "    obs: 'cell_IDs'\n",
       "    var: 'cCREs'"
      ]
     },
     "execution_count": 9,
     "metadata": {},
     "output_type": "execute_result"
    }
   ],
   "source": [
    "sc_completeFeatures_adata"
   ]
  },
  {
   "cell_type": "markdown",
   "id": "9c15e9d7-0f04-4e84-8a29-3d9bc81a1636",
   "metadata": {},
   "source": [
    "### 2 - add binary layer to AnnData"
   ]
  },
  {
   "cell_type": "code",
   "execution_count": 10,
   "id": "4edc38da-58f3-4027-8445-d51a22351870",
   "metadata": {
    "tags": []
   },
   "outputs": [
    {
     "data": {
      "text/plain": [
       "AnnData object with n_obs × n_vars = 10411 × 926535\n",
       "    obs: 'cell_IDs'\n",
       "    var: 'cCREs'\n",
       "    layers: 'binary'"
      ]
     },
     "execution_count": 10,
     "metadata": {},
     "output_type": "execute_result"
    }
   ],
   "source": [
    "scATAcat.add_binary_layer(sc_completeFeatures_adata, binary_layer_key=\"binary\")"
   ]
  },
  {
   "cell_type": "markdown",
   "id": "67ccb42d-3b7d-4269-aea4-c15859dc2651",
   "metadata": {},
   "source": [
    "## 3- calculate & plot cell and feature statistics"
   ]
  },
  {
   "cell_type": "code",
   "execution_count": 11,
   "id": "f70581cb-e936-4a6e-80de-d76805c68d18",
   "metadata": {
    "tags": []
   },
   "outputs": [
    {
     "data": {
      "text/plain": [
       "AnnData object with n_obs × n_vars = 10411 × 926535\n",
       "    obs: 'cell_IDs'\n",
       "    var: 'cCREs'\n",
       "    obsm: 'num_feature_per_cell'\n",
       "    varm: 'num_cell_per_feature'\n",
       "    layers: 'binary'"
      ]
     },
     "execution_count": 11,
     "metadata": {},
     "output_type": "execute_result"
    }
   ],
   "source": [
    "scATAcat.cell_feature_statistics(sc_completeFeatures_adata, binary_layer_key ='binary')"
   ]
  },
  {
   "cell_type": "code",
   "execution_count": 12,
   "id": "a47b2491-a136-4feb-a830-59b027f2954f",
   "metadata": {
    "tags": []
   },
   "outputs": [
    {
     "data": {
      "text/plain": [
       "AnnData object with n_obs × n_vars = 10411 × 926535\n",
       "    obs: 'cell_IDs'\n",
       "    var: 'cCREs'\n",
       "    obsm: 'num_feature_per_cell'\n",
       "    varm: 'num_cell_per_feature'\n",
       "    layers: 'binary'"
      ]
     },
     "execution_count": 12,
     "metadata": {},
     "output_type": "execute_result"
    },
    {
     "data": {
      "image/png": "[encoded data removed]",
      "text/plain": [
       "<Figure size 640x480 with 1 Axes>"
      ]
     },
     "metadata": {},
     "output_type": "display_data"
    }
   ],
   "source": [
    "scATAcat.plot_feature_statistics(sc_completeFeatures_adata, threshold=3, bins=50, color=\"lightgrey\", save=True, save_dir = figures_dir +\"/feature_statistics_plot.png\")"
   ]
  },
  {
   "cell_type": "code",
   "execution_count": 13,
   "id": "6287bfb6-8d9c-4c3e-80c0-f1d4df34a82b",
   "metadata": {
    "tags": []
   },
   "outputs": [
    {
     "data": {
      "text/plain": [
       "AnnData object with n_obs × n_vars = 10411 × 926535\n",
       "    obs: 'cell_IDs'\n",
       "    var: 'cCREs'\n",
       "    obsm: 'num_feature_per_cell'\n",
       "    varm: 'num_cell_per_feature'\n",
       "    layers: 'binary'"
      ]
     },
     "execution_count": 13,
     "metadata": {},
     "output_type": "execute_result"
    },
    {
     "data": {
      "image/png": "[encoded data removed]",
      "text/plain": [
       "<Figure size 640x480 with 1 Axes>"
      ]
     },
     "metadata": {},
     "output_type": "display_data"
    }
   ],
   "source": [
    "scATAcat.plot_cell_statistics(sc_completeFeatures_adata, threshold=1000, bins=50, color=\"lightgrey\", save=True, save_dir = figures_dir + \"/cell_statistics_plot.png\")"
   ]
  },
  {
   "cell_type": "markdown",
   "id": "416dd799-f5ad-467b-b74c-033088a3799a",
   "metadata": {},
   "source": [
    "## 4- filter the cells and features"
   ]
  },
  {
   "cell_type": "code",
   "execution_count": 14,
   "id": "fc55385b-8cf5-41b6-b17d-e352c59f90a6",
   "metadata": {
    "tags": []
   },
   "outputs": [
    {
     "data": {
      "text/plain": [
       "AnnData object with n_obs × n_vars = 10411 × 926535\n",
       "    obs: 'cell_IDs'\n",
       "    var: 'cCREs'\n",
       "    obsm: 'num_feature_per_cell'\n",
       "    varm: 'num_cell_per_feature'\n",
       "    layers: 'binary'"
      ]
     },
     "execution_count": 14,
     "metadata": {},
     "output_type": "execute_result"
    }
   ],
   "source": [
    "sc_completeFeatures_adata"
   ]
  },
  {
   "cell_type": "code",
   "execution_count": 15,
   "id": "11be5762-8cab-4ab3-96c8-5712b6e7aa0a",
   "metadata": {
    "tags": []
   },
   "outputs": [],
   "source": [
    "sc_filteredFeatures_adata = scATAcat.preproces_sc_matrix(sc_completeFeatures_adata,cell_cutoff=1000,cell_cutoff_max=80000, feature_cutoff=3, remove_chrY = True, var_key = 'cCREs', copy=True)"
   ]
  },
  {
   "cell_type": "code",
   "execution_count": 16,
   "id": "d048c4c1-b8ce-48ea-aa9c-3770f81da608",
   "metadata": {},
   "outputs": [
    {
     "data": {
      "text/plain": [
       "View of AnnData object with n_obs × n_vars = 10411 × 742148\n",
       "    obs: 'cell_IDs'\n",
       "    var: 'cCREs'\n",
       "    obsm: 'num_feature_per_cell'\n",
       "    varm: 'num_cell_per_feature'\n",
       "    layers: 'binary'"
      ]
     },
     "execution_count": 16,
     "metadata": {},
     "output_type": "execute_result"
    }
   ],
   "source": [
    "sc_filteredFeatures_adata"
   ]
  },
  {
   "cell_type": "code",
   "execution_count": null,
   "id": "84ffd7af-4398-4ef5-9fcf-909ca77e6d24",
   "metadata": {},
   "outputs": [],
   "source": []
  }
 ],
 "metadata": {
  "kernelspec": {
   "display_name": "scATAcat_reproducibility_env",
   "language": "python",
   "name": "scatacat_reproducibility_env"
  },
  "language_info": {
   "codemirror_mode": {
    "name": "ipython",
    "version": 3
   },
   "file_extension": ".py",
   "mimetype": "text/x-python",
   "name": "python",
   "nbconvert_exporter": "python",
   "pygments_lexer": "ipython3",
   "version": "3.10.10"
  },
  "widgets": {
   "application/vnd.jupyter.widget-state+json": {
    "state": {},
    "version_major": 2,
    "version_minor": 0
   }
  }
 },
 "nbformat": 4,
 "nbformat_minor": 5
}
