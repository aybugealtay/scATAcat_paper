{
 "cells": [
  {
   "cell_type": "code",
   "execution_count": 1,
   "id": "6b6ad727-005e-4fc6-92e7-978a257f6fe5",
   "metadata": {},
   "outputs": [],
   "source": [
    "import pandas as pd"
   ]
  },
  {
   "cell_type": "code",
   "execution_count": 2,
   "id": "7d9de64e-7d70-4d7e-ab99-380d96e521cf",
   "metadata": {},
   "outputs": [],
   "source": [
    "barcode_metdadata = pd.read_table(\"/project/scATAC_analysis/scATAcat_review/benchmarking/Cellcano/apply_PBMC/prepare_inputs/GSE129785_scATAC-Hematopoiesis-All.cell_barcodes.txt\", sep=\"\\t\")"
   ]
  },
  {
   "cell_type": "code",
   "execution_count": 3,
   "id": "660c1849-3cf2-4111-9ace-c9b753c7bfcb",
   "metadata": {},
   "outputs": [
    {
     "data": {
      "text/html": [
       "<div>\n",
       "<style scoped>\n",
       "    .dataframe tbody tr th:only-of-type {\n",
       "        vertical-align: middle;\n",
       "    }\n",
       "\n",
       "    .dataframe tbody tr th {\n",
       "        vertical-align: top;\n",
       "    }\n",
       "\n",
       "    .dataframe thead th {\n",
       "        text-align: right;\n",
       "    }\n",
       "</style>\n",
       "<table border=\"1\" class=\"dataframe\">\n",
       "  <thead>\n",
       "    <tr style=\"text-align: right;\">\n",
       "      <th></th>\n",
       "      <th>UMAP1</th>\n",
       "      <th>UMAP2</th>\n",
       "      <th>Clusters</th>\n",
       "      <th>Group</th>\n",
       "      <th>depth</th>\n",
       "      <th>FRIP</th>\n",
       "      <th>Barcodes</th>\n",
       "      <th>Internal_Name</th>\n",
       "      <th>Group_Barcode</th>\n",
       "    </tr>\n",
       "  </thead>\n",
       "  <tbody>\n",
       "    <tr>\n",
       "      <th>0</th>\n",
       "      <td>-2.419656</td>\n",
       "      <td>7.603472</td>\n",
       "      <td>Cluster6</td>\n",
       "      <td>Bone_Marrow_Rep1</td>\n",
       "      <td>29301</td>\n",
       "      <td>0.347190</td>\n",
       "      <td>CAAGAAAGTCAAGACG-1</td>\n",
       "      <td>SUHealthy_BM_B1_50</td>\n",
       "      <td>Bone_Marrow_Rep1#CAAGAAAGTCAAGACG-1</td>\n",
       "    </tr>\n",
       "    <tr>\n",
       "      <th>1</th>\n",
       "      <td>5.676727</td>\n",
       "      <td>-9.210454</td>\n",
       "      <td>Cluster20</td>\n",
       "      <td>Bone_Marrow_Rep1</td>\n",
       "      <td>7534</td>\n",
       "      <td>0.290948</td>\n",
       "      <td>AATGCCATCGCACAAT-1</td>\n",
       "      <td>SUHealthy_BM_B1_51</td>\n",
       "      <td>Bone_Marrow_Rep1#AATGCCATCGCACAAT-1</td>\n",
       "    </tr>\n",
       "    <tr>\n",
       "      <th>2</th>\n",
       "      <td>-7.153399</td>\n",
       "      <td>-5.512960</td>\n",
       "      <td>Cluster11</td>\n",
       "      <td>Bone_Marrow_Rep1</td>\n",
       "      <td>29608</td>\n",
       "      <td>0.449186</td>\n",
       "      <td>AAAGGGCAGTACCCAT-1</td>\n",
       "      <td>SUHealthy_BM_B1_52</td>\n",
       "      <td>Bone_Marrow_Rep1#AAAGGGCAGTACCCAT-1</td>\n",
       "    </tr>\n",
       "    <tr>\n",
       "      <th>3</th>\n",
       "      <td>-8.475636</td>\n",
       "      <td>-5.377475</td>\n",
       "      <td>Cluster9</td>\n",
       "      <td>Bone_Marrow_Rep1</td>\n",
       "      <td>16810</td>\n",
       "      <td>0.498632</td>\n",
       "      <td>CACAACATCGTGGGTC-1</td>\n",
       "      <td>SUHealthy_BM_B1_53</td>\n",
       "      <td>Bone_Marrow_Rep1#CACAACATCGTGGGTC-1</td>\n",
       "    </tr>\n",
       "    <tr>\n",
       "      <th>4</th>\n",
       "      <td>8.297910</td>\n",
       "      <td>-3.170289</td>\n",
       "      <td>Cluster31</td>\n",
       "      <td>Bone_Marrow_Rep1</td>\n",
       "      <td>14890</td>\n",
       "      <td>0.333277</td>\n",
       "      <td>TCCATCGGTTGGTAAA-1</td>\n",
       "      <td>SUHealthy_BM_B1_54</td>\n",
       "      <td>Bone_Marrow_Rep1#TCCATCGGTTGGTAAA-1</td>\n",
       "    </tr>\n",
       "  </tbody>\n",
       "</table>\n",
       "</div>"
      ],
      "text/plain": [
       "      UMAP1     UMAP2   Clusters             Group  depth      FRIP  \\\n",
       "0 -2.419656  7.603472   Cluster6  Bone_Marrow_Rep1  29301  0.347190   \n",
       "1  5.676727 -9.210454  Cluster20  Bone_Marrow_Rep1   7534  0.290948   \n",
       "2 -7.153399 -5.512960  Cluster11  Bone_Marrow_Rep1  29608  0.449186   \n",
       "3 -8.475636 -5.377475   Cluster9  Bone_Marrow_Rep1  16810  0.498632   \n",
       "4  8.297910 -3.170289  Cluster31  Bone_Marrow_Rep1  14890  0.333277   \n",
       "\n",
       "             Barcodes       Internal_Name                        Group_Barcode  \n",
       "0  CAAGAAAGTCAAGACG-1  SUHealthy_BM_B1_50  Bone_Marrow_Rep1#CAAGAAAGTCAAGACG-1  \n",
       "1  AATGCCATCGCACAAT-1  SUHealthy_BM_B1_51  Bone_Marrow_Rep1#AATGCCATCGCACAAT-1  \n",
       "2  AAAGGGCAGTACCCAT-1  SUHealthy_BM_B1_52  Bone_Marrow_Rep1#AAAGGGCAGTACCCAT-1  \n",
       "3  CACAACATCGTGGGTC-1  SUHealthy_BM_B1_53  Bone_Marrow_Rep1#CACAACATCGTGGGTC-1  \n",
       "4  TCCATCGGTTGGTAAA-1  SUHealthy_BM_B1_54  Bone_Marrow_Rep1#TCCATCGGTTGGTAAA-1  "
      ]
     },
     "execution_count": 3,
     "metadata": {},
     "output_type": "execute_result"
    }
   ],
   "source": [
    "barcode_metdadata.head()"
   ]
  },
  {
   "cell_type": "code",
   "execution_count": 4,
   "id": "c11f2389-3814-42e0-8bf7-07af7eedf809",
   "metadata": {},
   "outputs": [
    {
     "data": {
      "text/plain": [
       "(63882, 9)"
      ]
     },
     "execution_count": 4,
     "metadata": {},
     "output_type": "execute_result"
    }
   ],
   "source": [
    "barcode_metdadata.shape"
   ]
  },
  {
   "cell_type": "code",
   "execution_count": 5,
   "id": "bc6cb7c4-d9a3-4827-9b05-a772abfd0812",
   "metadata": {},
   "outputs": [
    {
     "data": {
      "text/plain": [
       "{'BM_pDC',\n",
       " 'B_Cells',\n",
       " 'Bone_Marrow_Rep1',\n",
       " 'CD34_Progenitors_Rep1',\n",
       " 'CD34_Progenitors_Rep2',\n",
       " 'CD4_HelperT',\n",
       " 'CLP',\n",
       " 'CMP',\n",
       " 'Dendritic_Cells',\n",
       " 'GMP',\n",
       " 'HSC',\n",
       " 'LMPP',\n",
       " 'MEP',\n",
       " 'MPP',\n",
       " 'Memory_CD4_T_Cells_Rep1',\n",
       " 'Memory_CD4_T_Cells_Rep2',\n",
       " 'Memory_CD8_T_Cells',\n",
       " 'Monocytes',\n",
       " 'NK_Cells',\n",
       " 'Naive_CD4_T_Cells_Rep1',\n",
       " 'Naive_CD4_T_Cells_Rep2',\n",
       " 'Naive_CD8_T_Cells',\n",
       " 'PBMC_Rep1',\n",
       " 'PBMC_Rep2',\n",
       " 'PBMC_Rep3',\n",
       " 'PBMC_Rep4',\n",
       " 'Regulatory_T_Cells'}"
      ]
     },
     "execution_count": 5,
     "metadata": {},
     "output_type": "execute_result"
    }
   ],
   "source": [
    "set(barcode_metdadata[\"Group\"])"
   ]
  },
  {
   "cell_type": "code",
   "execution_count": 6,
   "id": "47aa7e95-72ea-412d-9af6-c8b5fa64f81e",
   "metadata": {},
   "outputs": [],
   "source": [
    "PBMC_Rep1_metadata = barcode_metdadata.loc[barcode_metdadata.Group==\"PBMC_Rep1\",]"
   ]
  },
  {
   "cell_type": "code",
   "execution_count": 7,
   "id": "5378ed92-74c3-4aaf-9d0b-bd3824a0f989",
   "metadata": {},
   "outputs": [
    {
     "data": {
      "text/html": [
       "<div>\n",
       "<style scoped>\n",
       "    .dataframe tbody tr th:only-of-type {\n",
       "        vertical-align: middle;\n",
       "    }\n",
       "\n",
       "    .dataframe tbody tr th {\n",
       "        vertical-align: top;\n",
       "    }\n",
       "\n",
       "    .dataframe thead th {\n",
       "        text-align: right;\n",
       "    }\n",
       "</style>\n",
       "<table border=\"1\" class=\"dataframe\">\n",
       "  <thead>\n",
       "    <tr style=\"text-align: right;\">\n",
       "      <th></th>\n",
       "      <th>UMAP1</th>\n",
       "      <th>UMAP2</th>\n",
       "      <th>Clusters</th>\n",
       "      <th>Group</th>\n",
       "      <th>depth</th>\n",
       "      <th>FRIP</th>\n",
       "      <th>Barcodes</th>\n",
       "      <th>Internal_Name</th>\n",
       "      <th>Group_Barcode</th>\n",
       "    </tr>\n",
       "  </thead>\n",
       "  <tbody>\n",
       "    <tr>\n",
       "      <th>27298</th>\n",
       "      <td>6.922433</td>\n",
       "      <td>4.971992</td>\n",
       "      <td>Cluster24</td>\n",
       "      <td>PBMC_Rep1</td>\n",
       "      <td>13885</td>\n",
       "      <td>0.357220</td>\n",
       "      <td>TAGGTCACATCAGAAA-1</td>\n",
       "      <td>PBMC_10k_34</td>\n",
       "      <td>PBMC_Rep1#TAGGTCACATCAGAAA-1</td>\n",
       "    </tr>\n",
       "    <tr>\n",
       "      <th>27299</th>\n",
       "      <td>10.873216</td>\n",
       "      <td>2.964309</td>\n",
       "      <td>Cluster22</td>\n",
       "      <td>PBMC_Rep1</td>\n",
       "      <td>12466</td>\n",
       "      <td>0.360099</td>\n",
       "      <td>CTTCTAACATTGCGAT-1</td>\n",
       "      <td>PBMC_10k_35</td>\n",
       "      <td>PBMC_Rep1#CTTCTAACATTGCGAT-1</td>\n",
       "    </tr>\n",
       "    <tr>\n",
       "      <th>27300</th>\n",
       "      <td>3.590086</td>\n",
       "      <td>-7.668284</td>\n",
       "      <td>Cluster19</td>\n",
       "      <td>PBMC_Rep1</td>\n",
       "      <td>5648</td>\n",
       "      <td>0.401470</td>\n",
       "      <td>TAGCCCTCAAACGTTC-1</td>\n",
       "      <td>PBMC_10k_36</td>\n",
       "      <td>PBMC_Rep1#TAGCCCTCAAACGTTC-1</td>\n",
       "    </tr>\n",
       "    <tr>\n",
       "      <th>27301</th>\n",
       "      <td>-3.245804</td>\n",
       "      <td>-7.154364</td>\n",
       "      <td>Cluster12</td>\n",
       "      <td>PBMC_Rep1</td>\n",
       "      <td>44756</td>\n",
       "      <td>0.394897</td>\n",
       "      <td>ACGTGGCCACAGGTAG-1</td>\n",
       "      <td>PBMC_10k_37</td>\n",
       "      <td>PBMC_Rep1#ACGTGGCCACAGGTAG-1</td>\n",
       "    </tr>\n",
       "    <tr>\n",
       "      <th>27302</th>\n",
       "      <td>7.420461</td>\n",
       "      <td>3.609262</td>\n",
       "      <td>Cluster24</td>\n",
       "      <td>PBMC_Rep1</td>\n",
       "      <td>21440</td>\n",
       "      <td>0.335541</td>\n",
       "      <td>CGCTAGGCAGATACAA-1</td>\n",
       "      <td>PBMC_10k_38</td>\n",
       "      <td>PBMC_Rep1#CGCTAGGCAGATACAA-1</td>\n",
       "    </tr>\n",
       "  </tbody>\n",
       "</table>\n",
       "</div>"
      ],
      "text/plain": [
       "           UMAP1     UMAP2   Clusters      Group  depth      FRIP  \\\n",
       "27298   6.922433  4.971992  Cluster24  PBMC_Rep1  13885  0.357220   \n",
       "27299  10.873216  2.964309  Cluster22  PBMC_Rep1  12466  0.360099   \n",
       "27300   3.590086 -7.668284  Cluster19  PBMC_Rep1   5648  0.401470   \n",
       "27301  -3.245804 -7.154364  Cluster12  PBMC_Rep1  44756  0.394897   \n",
       "27302   7.420461  3.609262  Cluster24  PBMC_Rep1  21440  0.335541   \n",
       "\n",
       "                 Barcodes Internal_Name                 Group_Barcode  \n",
       "27298  TAGGTCACATCAGAAA-1   PBMC_10k_34  PBMC_Rep1#TAGGTCACATCAGAAA-1  \n",
       "27299  CTTCTAACATTGCGAT-1   PBMC_10k_35  PBMC_Rep1#CTTCTAACATTGCGAT-1  \n",
       "27300  TAGCCCTCAAACGTTC-1   PBMC_10k_36  PBMC_Rep1#TAGCCCTCAAACGTTC-1  \n",
       "27301  ACGTGGCCACAGGTAG-1   PBMC_10k_37  PBMC_Rep1#ACGTGGCCACAGGTAG-1  \n",
       "27302  CGCTAGGCAGATACAA-1   PBMC_10k_38  PBMC_Rep1#CGCTAGGCAGATACAA-1  "
      ]
     },
     "execution_count": 7,
     "metadata": {},
     "output_type": "execute_result"
    }
   ],
   "source": [
    "PBMC_Rep1_metadata.head()"
   ]
  },
  {
   "cell_type": "code",
   "execution_count": 9,
   "id": "f3055937-7f80-45bf-9e67-d88d2fba70a3",
   "metadata": {},
   "outputs": [
    {
     "data": {
      "text/plain": [
       "(9616, 9)"
      ]
     },
     "execution_count": 9,
     "metadata": {},
     "output_type": "execute_result"
    }
   ],
   "source": [
    "PBMC_Rep1_metadata.shape"
   ]
  },
  {
   "cell_type": "markdown",
   "id": "69e1b388-0f0d-49fb-926d-c8f2bcccc19e",
   "metadata": {},
   "source": [
    "###  add the cell type labels based on the cluster annotation information provided by the (WashU EpiGenome Browser)[http://epigenomegateway.wustl.edu/legacy/?genome=hg19&session=HcbHMSgBCc&statusId=28207718] (The SatPathy, Granja et al 2019 v1 track is used) - as Cellcano"
   ]
  },
  {
   "cell_type": "code",
   "execution_count": 10,
   "id": "9e523889-aeca-4fcd-a22b-9c9d0aef49b5",
   "metadata": {},
   "outputs": [],
   "source": [
    "cellType_cluster_mapping=pd.read_table(\"/project/scATAC_analysis/scATAcat_review/benchmarking/Cellcano/apply_PBMC/prepare_inputs/SatPathy_Granja_2019_annotations.csv\", sep=\";\")"
   ]
  },
  {
   "cell_type": "code",
   "execution_count": 11,
   "id": "2fa1dd4d-4130-4e84-a4fe-90d68bb72878",
   "metadata": {},
   "outputs": [
    {
     "data": {
      "text/html": [
       "<div>\n",
       "<style scoped>\n",
       "    .dataframe tbody tr th:only-of-type {\n",
       "        vertical-align: middle;\n",
       "    }\n",
       "\n",
       "    .dataframe tbody tr th {\n",
       "        vertical-align: top;\n",
       "    }\n",
       "\n",
       "    .dataframe thead th {\n",
       "        text-align: right;\n",
       "    }\n",
       "</style>\n",
       "<table border=\"1\" class=\"dataframe\">\n",
       "  <thead>\n",
       "    <tr style=\"text-align: right;\">\n",
       "      <th></th>\n",
       "      <th>cluster</th>\n",
       "      <th>annotation</th>\n",
       "    </tr>\n",
       "  </thead>\n",
       "  <tbody>\n",
       "    <tr>\n",
       "      <th>0</th>\n",
       "      <td>Cluster1</td>\n",
       "      <td>HSC/MPP</td>\n",
       "    </tr>\n",
       "    <tr>\n",
       "      <th>1</th>\n",
       "      <td>Cluster2</td>\n",
       "      <td>MEP</td>\n",
       "    </tr>\n",
       "    <tr>\n",
       "      <th>2</th>\n",
       "      <td>Cluster3</td>\n",
       "      <td>CMP/BMP</td>\n",
       "    </tr>\n",
       "    <tr>\n",
       "      <th>3</th>\n",
       "      <td>Cluster4</td>\n",
       "      <td>LMPP</td>\n",
       "    </tr>\n",
       "    <tr>\n",
       "      <th>4</th>\n",
       "      <td>Cluster5</td>\n",
       "      <td>CLP</td>\n",
       "    </tr>\n",
       "  </tbody>\n",
       "</table>\n",
       "</div>"
      ],
      "text/plain": [
       "    cluster annotation\n",
       "0  Cluster1    HSC/MPP\n",
       "1  Cluster2        MEP\n",
       "2  Cluster3    CMP/BMP\n",
       "3  Cluster4       LMPP\n",
       "4  Cluster5        CLP"
      ]
     },
     "execution_count": 11,
     "metadata": {},
     "output_type": "execute_result"
    }
   ],
   "source": [
    "cellType_cluster_mapping.head()"
   ]
  },
  {
   "cell_type": "code",
   "execution_count": 12,
   "id": "2a3c01ea-358c-44eb-8dbb-a56f3345e1bb",
   "metadata": {},
   "outputs": [],
   "source": [
    "cellType_cluster_mapping.columns = [\"Clusters\", \"celltype\"]"
   ]
  },
  {
   "cell_type": "code",
   "execution_count": 13,
   "id": "800f2a26-e571-4a53-b128-9ef002cf0d14",
   "metadata": {},
   "outputs": [],
   "source": [
    "PBMC_Rep1_metadata_full = PBMC_Rep1_metadata.merge(cellType_cluster_mapping, on='Clusters')"
   ]
  },
  {
   "cell_type": "code",
   "execution_count": 14,
   "id": "544c5df3-836e-4f51-bcd5-a21a3936936f",
   "metadata": {},
   "outputs": [
    {
     "data": {
      "text/html": [
       "<div>\n",
       "<style scoped>\n",
       "    .dataframe tbody tr th:only-of-type {\n",
       "        vertical-align: middle;\n",
       "    }\n",
       "\n",
       "    .dataframe tbody tr th {\n",
       "        vertical-align: top;\n",
       "    }\n",
       "\n",
       "    .dataframe thead th {\n",
       "        text-align: right;\n",
       "    }\n",
       "</style>\n",
       "<table border=\"1\" class=\"dataframe\">\n",
       "  <thead>\n",
       "    <tr style=\"text-align: right;\">\n",
       "      <th></th>\n",
       "      <th>UMAP1</th>\n",
       "      <th>UMAP2</th>\n",
       "      <th>Clusters</th>\n",
       "      <th>Group</th>\n",
       "      <th>depth</th>\n",
       "      <th>FRIP</th>\n",
       "      <th>Barcodes</th>\n",
       "      <th>Internal_Name</th>\n",
       "      <th>Group_Barcode</th>\n",
       "      <th>celltype</th>\n",
       "    </tr>\n",
       "  </thead>\n",
       "  <tbody>\n",
       "    <tr>\n",
       "      <th>0</th>\n",
       "      <td>6.922433</td>\n",
       "      <td>4.971992</td>\n",
       "      <td>Cluster24</td>\n",
       "      <td>PBMC_Rep1</td>\n",
       "      <td>13885</td>\n",
       "      <td>0.357220</td>\n",
       "      <td>TAGGTCACATCAGAAA-1</td>\n",
       "      <td>PBMC_10k_34</td>\n",
       "      <td>PBMC_Rep1#TAGGTCACATCAGAAA-1</td>\n",
       "      <td>M-CD4T</td>\n",
       "    </tr>\n",
       "    <tr>\n",
       "      <th>1</th>\n",
       "      <td>7.420461</td>\n",
       "      <td>3.609262</td>\n",
       "      <td>Cluster24</td>\n",
       "      <td>PBMC_Rep1</td>\n",
       "      <td>21440</td>\n",
       "      <td>0.335541</td>\n",
       "      <td>CGCTAGGCAGATACAA-1</td>\n",
       "      <td>PBMC_10k_38</td>\n",
       "      <td>PBMC_Rep1#CGCTAGGCAGATACAA-1</td>\n",
       "      <td>M-CD4T</td>\n",
       "    </tr>\n",
       "    <tr>\n",
       "      <th>2</th>\n",
       "      <td>7.232558</td>\n",
       "      <td>3.980523</td>\n",
       "      <td>Cluster24</td>\n",
       "      <td>PBMC_Rep1</td>\n",
       "      <td>20495</td>\n",
       "      <td>0.348134</td>\n",
       "      <td>TCAGCTCCACTAGGAG-1</td>\n",
       "      <td>PBMC_10k_51</td>\n",
       "      <td>PBMC_Rep1#TCAGCTCCACTAGGAG-1</td>\n",
       "      <td>M-CD4T</td>\n",
       "    </tr>\n",
       "    <tr>\n",
       "      <th>3</th>\n",
       "      <td>7.041385</td>\n",
       "      <td>6.108622</td>\n",
       "      <td>Cluster24</td>\n",
       "      <td>PBMC_Rep1</td>\n",
       "      <td>12831</td>\n",
       "      <td>0.355506</td>\n",
       "      <td>ACTTCCGCAATGCCAT-1</td>\n",
       "      <td>PBMC_10k_53</td>\n",
       "      <td>PBMC_Rep1#ACTTCCGCAATGCCAT-1</td>\n",
       "      <td>M-CD4T</td>\n",
       "    </tr>\n",
       "    <tr>\n",
       "      <th>4</th>\n",
       "      <td>6.455682</td>\n",
       "      <td>6.867174</td>\n",
       "      <td>Cluster24</td>\n",
       "      <td>PBMC_Rep1</td>\n",
       "      <td>8277</td>\n",
       "      <td>0.328319</td>\n",
       "      <td>GAGATTCGTTGAAGCG-1</td>\n",
       "      <td>PBMC_10k_55</td>\n",
       "      <td>PBMC_Rep1#GAGATTCGTTGAAGCG-1</td>\n",
       "      <td>M-CD4T</td>\n",
       "    </tr>\n",
       "  </tbody>\n",
       "</table>\n",
       "</div>"
      ],
      "text/plain": [
       "      UMAP1     UMAP2   Clusters      Group  depth      FRIP  \\\n",
       "0  6.922433  4.971992  Cluster24  PBMC_Rep1  13885  0.357220   \n",
       "1  7.420461  3.609262  Cluster24  PBMC_Rep1  21440  0.335541   \n",
       "2  7.232558  3.980523  Cluster24  PBMC_Rep1  20495  0.348134   \n",
       "3  7.041385  6.108622  Cluster24  PBMC_Rep1  12831  0.355506   \n",
       "4  6.455682  6.867174  Cluster24  PBMC_Rep1   8277  0.328319   \n",
       "\n",
       "             Barcodes Internal_Name                 Group_Barcode celltype  \n",
       "0  TAGGTCACATCAGAAA-1   PBMC_10k_34  PBMC_Rep1#TAGGTCACATCAGAAA-1   M-CD4T  \n",
       "1  CGCTAGGCAGATACAA-1   PBMC_10k_38  PBMC_Rep1#CGCTAGGCAGATACAA-1   M-CD4T  \n",
       "2  TCAGCTCCACTAGGAG-1   PBMC_10k_51  PBMC_Rep1#TCAGCTCCACTAGGAG-1   M-CD4T  \n",
       "3  ACTTCCGCAATGCCAT-1   PBMC_10k_53  PBMC_Rep1#ACTTCCGCAATGCCAT-1   M-CD4T  \n",
       "4  GAGATTCGTTGAAGCG-1   PBMC_10k_55  PBMC_Rep1#GAGATTCGTTGAAGCG-1   M-CD4T  "
      ]
     },
     "execution_count": 14,
     "metadata": {},
     "output_type": "execute_result"
    }
   ],
   "source": [
    "PBMC_Rep1_metadata_full.head()"
   ]
  },
  {
   "cell_type": "code",
   "execution_count": 16,
   "id": "dccf3fcc-ad80-4704-9fe5-80a96d05f929",
   "metadata": {},
   "outputs": [],
   "source": [
    "PBMC_Rep1_metadata_full.to_csv(\"/project/scATAC_analysis/scATAcat_review/benchmarking/Cellcano/apply_PBMC/prepare_inputs/GSM3722071_PBMC_Rep1_metadata_full.csv\")"
   ]
  },
  {
   "cell_type": "code",
   "execution_count": null,
   "id": "98631c3b-8551-4108-9ef1-e0910329c57a",
   "metadata": {},
   "outputs": [],
   "source": []
  },
  {
   "cell_type": "code",
   "execution_count": 17,
   "id": "b39470dc-a5bb-4e9f-8853-7a0cb2e52033",
   "metadata": {},
   "outputs": [],
   "source": [
    "# add an index according to the barcodes in the ArchR files\n",
    "PBMC_Rep1_metadata_full.index  = ['GSM3722015_PBMC_Rep1_liftOverhg38_sorted#' +str(col) for col in PBMC_Rep1_metadata_full.Barcodes]"
   ]
  },
  {
   "cell_type": "code",
   "execution_count": 18,
   "id": "06116124-f88c-49d3-83f9-81bcae9e2d2b",
   "metadata": {},
   "outputs": [],
   "source": [
    "PBMC_Rep1_metadata_full.to_csv(\"/project/scATAC_analysis/scATAcat_review/benchmarking/Cellcano/apply_PBMC/train_data_GSM3722015_PBMC_Rep1/train_data_GSM3722015_PBMC_Rep1_metadata_final.csv\")"
   ]
  },
  {
   "cell_type": "code",
   "execution_count": null,
   "id": "9e2f5290-26a0-4ee8-90b2-9b30877da59a",
   "metadata": {},
   "outputs": [],
   "source": []
  }
 ],
 "metadata": {
  "kernelspec": {
   "display_name": "scATAcat_reproducibility_env",
   "language": "python",
   "name": "scatacat_reproducibility_env"
  },
  "language_info": {
   "codemirror_mode": {
    "name": "ipython",
    "version": 3
   },
   "file_extension": ".py",
   "mimetype": "text/x-python",
   "name": "python",
   "nbconvert_exporter": "python",
   "pygments_lexer": "ipython3",
   "version": "3.10.10"
  },
  "widgets": {
   "application/vnd.jupyter.widget-state+json": {
    "state": {},
    "version_major": 2,
    "version_minor": 0
   }
  }
 },
 "nbformat": 4,
 "nbformat_minor": 5
}
