{
 "cells": [
  {
   "cell_type": "code",
   "execution_count": 1,
   "id": "45c7ea05-9cff-45dd-950d-0bee8644d3a6",
   "metadata": {
    "tags": []
   },
   "outputs": [
    {
     "name": "stderr",
     "output_type": "stream",
     "text": [
      "Loading required package: GenomicRanges\n",
      "\n",
      "Loading required package: stats4\n",
      "\n",
      "Loading required package: BiocGenerics\n",
      "\n",
      "Loading required package: parallel\n",
      "\n",
      "\n",
      "Attaching package: ‘BiocGenerics’\n",
      "\n",
      "\n",
      "The following objects are masked from ‘package:parallel’:\n",
      "\n",
      "    clusterApply, clusterApplyLB, clusterCall, clusterEvalQ,\n",
      "    clusterExport, clusterMap, parApply, parCapply, parLapply,\n",
      "    parLapplyLB, parRapply, parSapply, parSapplyLB\n",
      "\n",
      "\n",
      "The following objects are masked from ‘package:stats’:\n",
      "\n",
      "    IQR, mad, sd, var, xtabs\n",
      "\n",
      "\n",
      "The following objects are masked from ‘package:base’:\n",
      "\n",
      "    Filter, Find, Map, Position, Reduce, anyDuplicated, append,\n",
      "    as.data.frame, basename, cbind, colnames, dirname, do.call,\n",
      "    duplicated, eval, evalq, get, grep, grepl, intersect, is.unsorted,\n",
      "    lapply, mapply, match, mget, order, paste, pmax, pmax.int, pmin,\n",
      "    pmin.int, rank, rbind, rownames, sapply, setdiff, sort, table,\n",
      "    tapply, union, unique, unsplit, which.max, which.min\n",
      "\n",
      "\n",
      "Loading required package: S4Vectors\n",
      "\n",
      "\n",
      "Attaching package: ‘S4Vectors’\n",
      "\n",
      "\n",
      "The following object is masked from ‘package:base’:\n",
      "\n",
      "    expand.grid\n",
      "\n",
      "\n",
      "Loading required package: IRanges\n",
      "\n",
      "Loading required package: GenomeInfoDb\n",
      "\n",
      "Loading required package: SummarizedExperiment\n",
      "\n",
      "Loading required package: MatrixGenerics\n",
      "\n",
      "Loading required package: matrixStats\n",
      "\n",
      "\n",
      "Attaching package: ‘MatrixGenerics’\n",
      "\n",
      "\n",
      "The following objects are masked from ‘package:matrixStats’:\n",
      "\n",
      "    colAlls, colAnyNAs, colAnys, colAvgsPerRowSet, colCollapse,\n",
      "    colCounts, colCummaxs, colCummins, colCumprods, colCumsums,\n",
      "    colDiffs, colIQRDiffs, colIQRs, colLogSumExps, colMadDiffs,\n",
      "    colMads, colMaxs, colMeans2, colMedians, colMins, colOrderStats,\n",
      "    colProds, colQuantiles, colRanges, colRanks, colSdDiffs, colSds,\n",
      "    colSums2, colTabulates, colVarDiffs, colVars, colWeightedMads,\n",
      "    colWeightedMeans, colWeightedMedians, colWeightedSds,\n",
      "    colWeightedVars, rowAlls, rowAnyNAs, rowAnys, rowAvgsPerColSet,\n",
      "    rowCollapse, rowCounts, rowCummaxs, rowCummins, rowCumprods,\n",
      "    rowCumsums, rowDiffs, rowIQRDiffs, rowIQRs, rowLogSumExps,\n",
      "    rowMadDiffs, rowMads, rowMaxs, rowMeans2, rowMedians, rowMins,\n",
      "    rowOrderStats, rowProds, rowQuantiles, rowRanges, rowRanks,\n",
      "    rowSdDiffs, rowSds, rowSums2, rowTabulates, rowVarDiffs, rowVars,\n",
      "    rowWeightedMads, rowWeightedMeans, rowWeightedMedians,\n",
      "    rowWeightedSds, rowWeightedVars\n",
      "\n",
      "\n",
      "Loading required package: Biobase\n",
      "\n",
      "Welcome to Bioconductor\n",
      "\n",
      "    Vignettes contain introductory material; view with\n",
      "    'browseVignettes()'. To cite Bioconductor, see\n",
      "    'citation(\"Biobase\")', and for packages 'citation(\"pkgname\")'.\n",
      "\n",
      "\n",
      "\n",
      "Attaching package: ‘Biobase’\n",
      "\n",
      "\n",
      "The following object is masked from ‘package:MatrixGenerics’:\n",
      "\n",
      "    rowMedians\n",
      "\n",
      "\n",
      "The following objects are masked from ‘package:matrixStats’:\n",
      "\n",
      "    anyMissing, rowMedians\n",
      "\n",
      "\n",
      "Possible Ensembl SSL connectivity problems detected.\n",
      "Please see the 'Connection Troubleshooting' section of the biomaRt vignette\n",
      "vignette('accessing_ensembl', package = 'biomaRt')Error in curl::curl_fetch_memory(url, handle = handle) : \n",
      "  SSL certificate problem: certificate has expired\n",
      "\n",
      "\n",
      "\n",
      "\n",
      " >>> DiffBind 3.0 includes substantial updates. See ?DiffBind3 for details on what has changed.\n",
      "\n"
     ]
    }
   ],
   "source": [
    "library(DiffBind)"
   ]
  },
  {
   "cell_type": "code",
   "execution_count": 3,
   "id": "40e07002-6e12-40f3-8da0-6edff3f87182",
   "metadata": {
    "tags": []
   },
   "outputs": [
    {
     "data": {
      "text/html": [
       "<table class=\"dataframe\">\n",
       "<caption>A data.frame: 6 × 10</caption>\n",
       "<thead>\n",
       "\t<tr><th></th><th scope=col>SampleID</th><th scope=col>Tissue</th><th scope=col>Condition</th><th scope=col>DonorID</th><th scope=col>Treatment</th><th scope=col>bamReads</th><th scope=col>Replicate</th><th scope=col>ControlID</th><th scope=col>Peaks</th><th scope=col>PeakCaller</th></tr>\n",
       "\t<tr><th></th><th scope=col>&lt;chr&gt;</th><th scope=col>&lt;chr&gt;</th><th scope=col>&lt;chr&gt;</th><th scope=col>&lt;int&gt;</th><th scope=col>&lt;chr&gt;</th><th scope=col>&lt;chr&gt;</th><th scope=col>&lt;int&gt;</th><th scope=col>&lt;chr&gt;</th><th scope=col>&lt;chr&gt;</th><th scope=col>&lt;chr&gt;</th></tr>\n",
       "</thead>\n",
       "<tbody>\n",
       "\t<tr><th scope=row>1</th><td>CMP_1</td><td>CMP</td><td>CMP</td><td>1</td><td>control</td><td>/project/scATAC_analysis/Corces2018_BM_FACS_scATAC/analysis/get_pseudobulk_as_combined_scs/2replicates_per_cellType/combined_bam_files/CMP_1_combined.bam</td><td>1</td><td>CMP</td><td>/project/scATAC_analysis/scATAcat_notebooks_for_paper/jan2024/data/Buenrostro2018_FACS_BM_scATAC/feasibility_study_synthetic_prototypes/01_synthetic_prototypes_ENCODE_cCRE_coverage/CMP_1_combined_NOTmerged_scATAC_overlap_ENCODE_cCRE_coverage_6col.bed</td><td>bed</td></tr>\n",
       "\t<tr><th scope=row>2</th><td>CMP_2</td><td>CMP</td><td>CMP</td><td>1</td><td>control</td><td>/project/scATAC_analysis/Corces2018_BM_FACS_scATAC/analysis/get_pseudobulk_as_combined_scs/2replicates_per_cellType/combined_bam_files/CMP_2_combined.bam</td><td>2</td><td>CMP</td><td>/project/scATAC_analysis/scATAcat_notebooks_for_paper/jan2024/data/Buenrostro2018_FACS_BM_scATAC/feasibility_study_synthetic_prototypes/01_synthetic_prototypes_ENCODE_cCRE_coverage/CMP_2_combined_NOTmerged_scATAC_overlap_ENCODE_cCRE_coverage_6col.bed</td><td>bed</td></tr>\n",
       "\t<tr><th scope=row>3</th><td>HSC_1</td><td>HSC</td><td>HSC</td><td>1</td><td>control</td><td>/project/scATAC_analysis/Corces2018_BM_FACS_scATAC/analysis/get_pseudobulk_as_combined_scs/2replicates_per_cellType/combined_bam_files/HSC_1_combined.bam</td><td>1</td><td>HSC</td><td>/project/scATAC_analysis/scATAcat_notebooks_for_paper/jan2024/data/Buenrostro2018_FACS_BM_scATAC/feasibility_study_synthetic_prototypes/01_synthetic_prototypes_ENCODE_cCRE_coverage/HSC_1_combined_NOTmerged_scATAC_overlap_ENCODE_cCRE_coverage_6col.bed</td><td>bed</td></tr>\n",
       "\t<tr><th scope=row>4</th><td>HSC_2</td><td>HSC</td><td>HSC</td><td>1</td><td>control</td><td>/project/scATAC_analysis/Corces2018_BM_FACS_scATAC/analysis/get_pseudobulk_as_combined_scs/2replicates_per_cellType/combined_bam_files/HSC_2_combined.bam</td><td>2</td><td>HSC</td><td>/project/scATAC_analysis/scATAcat_notebooks_for_paper/jan2024/data/Buenrostro2018_FACS_BM_scATAC/feasibility_study_synthetic_prototypes/01_synthetic_prototypes_ENCODE_cCRE_coverage/HSC_2_combined_NOTmerged_scATAC_overlap_ENCODE_cCRE_coverage_6col.bed</td><td>bed</td></tr>\n",
       "\t<tr><th scope=row>5</th><td>GMP_1</td><td>GMP</td><td>GMP</td><td>1</td><td>control</td><td>/project/scATAC_analysis/Corces2018_BM_FACS_scATAC/analysis/get_pseudobulk_as_combined_scs/2replicates_per_cellType/combined_bam_files/GMP_1_combined.bam</td><td>1</td><td>GMP</td><td>/project/scATAC_analysis/scATAcat_notebooks_for_paper/jan2024/data/Buenrostro2018_FACS_BM_scATAC/feasibility_study_synthetic_prototypes/01_synthetic_prototypes_ENCODE_cCRE_coverage/GMP_1_combined_NOTmerged_scATAC_overlap_ENCODE_cCRE_coverage_6col.bed</td><td>bed</td></tr>\n",
       "\t<tr><th scope=row>6</th><td>GMP_2</td><td>GMP</td><td>GMP</td><td>1</td><td>control</td><td>/project/scATAC_analysis/Corces2018_BM_FACS_scATAC/analysis/get_pseudobulk_as_combined_scs/2replicates_per_cellType/combined_bam_files/GMP_2_combined.bam</td><td>2</td><td>GMP</td><td>/project/scATAC_analysis/scATAcat_notebooks_for_paper/jan2024/data/Buenrostro2018_FACS_BM_scATAC/feasibility_study_synthetic_prototypes/01_synthetic_prototypes_ENCODE_cCRE_coverage/GMP_2_combined_NOTmerged_scATAC_overlap_ENCODE_cCRE_coverage_6col.bed</td><td>bed</td></tr>\n",
       "</tbody>\n",
       "</table>\n"
      ],
      "text/latex": [
       "A data.frame: 6 × 10\n",
       "\\begin{tabular}{r|llllllllll}\n",
       "  & SampleID & Tissue & Condition & DonorID & Treatment & bamReads & Replicate & ControlID & Peaks & PeakCaller\\\\\n",
       "  & <chr> & <chr> & <chr> & <int> & <chr> & <chr> & <int> & <chr> & <chr> & <chr>\\\\\n",
       "\\hline\n",
       "\t1 & CMP\\_1 & CMP & CMP & 1 & control & /project/scATAC\\_analysis/Corces2018\\_BM\\_FACS\\_scATAC/analysis/get\\_pseudobulk\\_as\\_combined\\_scs/2replicates\\_per\\_cellType/combined\\_bam\\_files/CMP\\_1\\_combined.bam & 1 & CMP & /project/scATAC\\_analysis/scATAcat\\_notebooks\\_for\\_paper/jan2024/data/Buenrostro2018\\_FACS\\_BM\\_scATAC/feasibility\\_study\\_synthetic\\_prototypes/01\\_synthetic\\_prototypes\\_ENCODE\\_cCRE\\_coverage/CMP\\_1\\_combined\\_NOTmerged\\_scATAC\\_overlap\\_ENCODE\\_cCRE\\_coverage\\_6col.bed & bed\\\\\n",
       "\t2 & CMP\\_2 & CMP & CMP & 1 & control & /project/scATAC\\_analysis/Corces2018\\_BM\\_FACS\\_scATAC/analysis/get\\_pseudobulk\\_as\\_combined\\_scs/2replicates\\_per\\_cellType/combined\\_bam\\_files/CMP\\_2\\_combined.bam & 2 & CMP & /project/scATAC\\_analysis/scATAcat\\_notebooks\\_for\\_paper/jan2024/data/Buenrostro2018\\_FACS\\_BM\\_scATAC/feasibility\\_study\\_synthetic\\_prototypes/01\\_synthetic\\_prototypes\\_ENCODE\\_cCRE\\_coverage/CMP\\_2\\_combined\\_NOTmerged\\_scATAC\\_overlap\\_ENCODE\\_cCRE\\_coverage\\_6col.bed & bed\\\\\n",
       "\t3 & HSC\\_1 & HSC & HSC & 1 & control & /project/scATAC\\_analysis/Corces2018\\_BM\\_FACS\\_scATAC/analysis/get\\_pseudobulk\\_as\\_combined\\_scs/2replicates\\_per\\_cellType/combined\\_bam\\_files/HSC\\_1\\_combined.bam & 1 & HSC & /project/scATAC\\_analysis/scATAcat\\_notebooks\\_for\\_paper/jan2024/data/Buenrostro2018\\_FACS\\_BM\\_scATAC/feasibility\\_study\\_synthetic\\_prototypes/01\\_synthetic\\_prototypes\\_ENCODE\\_cCRE\\_coverage/HSC\\_1\\_combined\\_NOTmerged\\_scATAC\\_overlap\\_ENCODE\\_cCRE\\_coverage\\_6col.bed & bed\\\\\n",
       "\t4 & HSC\\_2 & HSC & HSC & 1 & control & /project/scATAC\\_analysis/Corces2018\\_BM\\_FACS\\_scATAC/analysis/get\\_pseudobulk\\_as\\_combined\\_scs/2replicates\\_per\\_cellType/combined\\_bam\\_files/HSC\\_2\\_combined.bam & 2 & HSC & /project/scATAC\\_analysis/scATAcat\\_notebooks\\_for\\_paper/jan2024/data/Buenrostro2018\\_FACS\\_BM\\_scATAC/feasibility\\_study\\_synthetic\\_prototypes/01\\_synthetic\\_prototypes\\_ENCODE\\_cCRE\\_coverage/HSC\\_2\\_combined\\_NOTmerged\\_scATAC\\_overlap\\_ENCODE\\_cCRE\\_coverage\\_6col.bed & bed\\\\\n",
       "\t5 & GMP\\_1 & GMP & GMP & 1 & control & /project/scATAC\\_analysis/Corces2018\\_BM\\_FACS\\_scATAC/analysis/get\\_pseudobulk\\_as\\_combined\\_scs/2replicates\\_per\\_cellType/combined\\_bam\\_files/GMP\\_1\\_combined.bam & 1 & GMP & /project/scATAC\\_analysis/scATAcat\\_notebooks\\_for\\_paper/jan2024/data/Buenrostro2018\\_FACS\\_BM\\_scATAC/feasibility\\_study\\_synthetic\\_prototypes/01\\_synthetic\\_prototypes\\_ENCODE\\_cCRE\\_coverage/GMP\\_1\\_combined\\_NOTmerged\\_scATAC\\_overlap\\_ENCODE\\_cCRE\\_coverage\\_6col.bed & bed\\\\\n",
       "\t6 & GMP\\_2 & GMP & GMP & 1 & control & /project/scATAC\\_analysis/Corces2018\\_BM\\_FACS\\_scATAC/analysis/get\\_pseudobulk\\_as\\_combined\\_scs/2replicates\\_per\\_cellType/combined\\_bam\\_files/GMP\\_2\\_combined.bam & 2 & GMP & /project/scATAC\\_analysis/scATAcat\\_notebooks\\_for\\_paper/jan2024/data/Buenrostro2018\\_FACS\\_BM\\_scATAC/feasibility\\_study\\_synthetic\\_prototypes/01\\_synthetic\\_prototypes\\_ENCODE\\_cCRE\\_coverage/GMP\\_2\\_combined\\_NOTmerged\\_scATAC\\_overlap\\_ENCODE\\_cCRE\\_coverage\\_6col.bed & bed\\\\\n",
       "\\end{tabular}\n"
      ],
      "text/markdown": [
       "\n",
       "A data.frame: 6 × 10\n",
       "\n",
       "| <!--/--> | SampleID &lt;chr&gt; | Tissue &lt;chr&gt; | Condition &lt;chr&gt; | DonorID &lt;int&gt; | Treatment &lt;chr&gt; | bamReads &lt;chr&gt; | Replicate &lt;int&gt; | ControlID &lt;chr&gt; | Peaks &lt;chr&gt; | PeakCaller &lt;chr&gt; |\n",
       "|---|---|---|---|---|---|---|---|---|---|---|\n",
       "| 1 | CMP_1 | CMP | CMP | 1 | control | /project/scATAC_analysis/Corces2018_BM_FACS_scATAC/analysis/get_pseudobulk_as_combined_scs/2replicates_per_cellType/combined_bam_files/CMP_1_combined.bam | 1 | CMP | /project/scATAC_analysis/scATAcat_notebooks_for_paper/jan2024/data/Buenrostro2018_FACS_BM_scATAC/feasibility_study_synthetic_prototypes/01_synthetic_prototypes_ENCODE_cCRE_coverage/CMP_1_combined_NOTmerged_scATAC_overlap_ENCODE_cCRE_coverage_6col.bed | bed |\n",
       "| 2 | CMP_2 | CMP | CMP | 1 | control | /project/scATAC_analysis/Corces2018_BM_FACS_scATAC/analysis/get_pseudobulk_as_combined_scs/2replicates_per_cellType/combined_bam_files/CMP_2_combined.bam | 2 | CMP | /project/scATAC_analysis/scATAcat_notebooks_for_paper/jan2024/data/Buenrostro2018_FACS_BM_scATAC/feasibility_study_synthetic_prototypes/01_synthetic_prototypes_ENCODE_cCRE_coverage/CMP_2_combined_NOTmerged_scATAC_overlap_ENCODE_cCRE_coverage_6col.bed | bed |\n",
       "| 3 | HSC_1 | HSC | HSC | 1 | control | /project/scATAC_analysis/Corces2018_BM_FACS_scATAC/analysis/get_pseudobulk_as_combined_scs/2replicates_per_cellType/combined_bam_files/HSC_1_combined.bam | 1 | HSC | /project/scATAC_analysis/scATAcat_notebooks_for_paper/jan2024/data/Buenrostro2018_FACS_BM_scATAC/feasibility_study_synthetic_prototypes/01_synthetic_prototypes_ENCODE_cCRE_coverage/HSC_1_combined_NOTmerged_scATAC_overlap_ENCODE_cCRE_coverage_6col.bed | bed |\n",
       "| 4 | HSC_2 | HSC | HSC | 1 | control | /project/scATAC_analysis/Corces2018_BM_FACS_scATAC/analysis/get_pseudobulk_as_combined_scs/2replicates_per_cellType/combined_bam_files/HSC_2_combined.bam | 2 | HSC | /project/scATAC_analysis/scATAcat_notebooks_for_paper/jan2024/data/Buenrostro2018_FACS_BM_scATAC/feasibility_study_synthetic_prototypes/01_synthetic_prototypes_ENCODE_cCRE_coverage/HSC_2_combined_NOTmerged_scATAC_overlap_ENCODE_cCRE_coverage_6col.bed | bed |\n",
       "| 5 | GMP_1 | GMP | GMP | 1 | control | /project/scATAC_analysis/Corces2018_BM_FACS_scATAC/analysis/get_pseudobulk_as_combined_scs/2replicates_per_cellType/combined_bam_files/GMP_1_combined.bam | 1 | GMP | /project/scATAC_analysis/scATAcat_notebooks_for_paper/jan2024/data/Buenrostro2018_FACS_BM_scATAC/feasibility_study_synthetic_prototypes/01_synthetic_prototypes_ENCODE_cCRE_coverage/GMP_1_combined_NOTmerged_scATAC_overlap_ENCODE_cCRE_coverage_6col.bed | bed |\n",
       "| 6 | GMP_2 | GMP | GMP | 1 | control | /project/scATAC_analysis/Corces2018_BM_FACS_scATAC/analysis/get_pseudobulk_as_combined_scs/2replicates_per_cellType/combined_bam_files/GMP_2_combined.bam | 2 | GMP | /project/scATAC_analysis/scATAcat_notebooks_for_paper/jan2024/data/Buenrostro2018_FACS_BM_scATAC/feasibility_study_synthetic_prototypes/01_synthetic_prototypes_ENCODE_cCRE_coverage/GMP_2_combined_NOTmerged_scATAC_overlap_ENCODE_cCRE_coverage_6col.bed | bed |\n",
       "\n"
      ],
      "text/plain": [
       "  SampleID Tissue Condition DonorID Treatment\n",
       "1 CMP_1    CMP    CMP       1       control  \n",
       "2 CMP_2    CMP    CMP       1       control  \n",
       "3 HSC_1    HSC    HSC       1       control  \n",
       "4 HSC_2    HSC    HSC       1       control  \n",
       "5 GMP_1    GMP    GMP       1       control  \n",
       "6 GMP_2    GMP    GMP       1       control  \n",
       "  bamReads                                                                                                                                                 \n",
       "1 /project/scATAC_analysis/Corces2018_BM_FACS_scATAC/analysis/get_pseudobulk_as_combined_scs/2replicates_per_cellType/combined_bam_files/CMP_1_combined.bam\n",
       "2 /project/scATAC_analysis/Corces2018_BM_FACS_scATAC/analysis/get_pseudobulk_as_combined_scs/2replicates_per_cellType/combined_bam_files/CMP_2_combined.bam\n",
       "3 /project/scATAC_analysis/Corces2018_BM_FACS_scATAC/analysis/get_pseudobulk_as_combined_scs/2replicates_per_cellType/combined_bam_files/HSC_1_combined.bam\n",
       "4 /project/scATAC_analysis/Corces2018_BM_FACS_scATAC/analysis/get_pseudobulk_as_combined_scs/2replicates_per_cellType/combined_bam_files/HSC_2_combined.bam\n",
       "5 /project/scATAC_analysis/Corces2018_BM_FACS_scATAC/analysis/get_pseudobulk_as_combined_scs/2replicates_per_cellType/combined_bam_files/GMP_1_combined.bam\n",
       "6 /project/scATAC_analysis/Corces2018_BM_FACS_scATAC/analysis/get_pseudobulk_as_combined_scs/2replicates_per_cellType/combined_bam_files/GMP_2_combined.bam\n",
       "  Replicate ControlID\n",
       "1 1         CMP      \n",
       "2 2         CMP      \n",
       "3 1         HSC      \n",
       "4 2         HSC      \n",
       "5 1         GMP      \n",
       "6 2         GMP      \n",
       "  Peaks                                                                                                                                                                                                                                                     \n",
       "1 /project/scATAC_analysis/scATAcat_notebooks_for_paper/jan2024/data/Buenrostro2018_FACS_BM_scATAC/feasibility_study_synthetic_prototypes/01_synthetic_prototypes_ENCODE_cCRE_coverage/CMP_1_combined_NOTmerged_scATAC_overlap_ENCODE_cCRE_coverage_6col.bed\n",
       "2 /project/scATAC_analysis/scATAcat_notebooks_for_paper/jan2024/data/Buenrostro2018_FACS_BM_scATAC/feasibility_study_synthetic_prototypes/01_synthetic_prototypes_ENCODE_cCRE_coverage/CMP_2_combined_NOTmerged_scATAC_overlap_ENCODE_cCRE_coverage_6col.bed\n",
       "3 /project/scATAC_analysis/scATAcat_notebooks_for_paper/jan2024/data/Buenrostro2018_FACS_BM_scATAC/feasibility_study_synthetic_prototypes/01_synthetic_prototypes_ENCODE_cCRE_coverage/HSC_1_combined_NOTmerged_scATAC_overlap_ENCODE_cCRE_coverage_6col.bed\n",
       "4 /project/scATAC_analysis/scATAcat_notebooks_for_paper/jan2024/data/Buenrostro2018_FACS_BM_scATAC/feasibility_study_synthetic_prototypes/01_synthetic_prototypes_ENCODE_cCRE_coverage/HSC_2_combined_NOTmerged_scATAC_overlap_ENCODE_cCRE_coverage_6col.bed\n",
       "5 /project/scATAC_analysis/scATAcat_notebooks_for_paper/jan2024/data/Buenrostro2018_FACS_BM_scATAC/feasibility_study_synthetic_prototypes/01_synthetic_prototypes_ENCODE_cCRE_coverage/GMP_1_combined_NOTmerged_scATAC_overlap_ENCODE_cCRE_coverage_6col.bed\n",
       "6 /project/scATAC_analysis/scATAcat_notebooks_for_paper/jan2024/data/Buenrostro2018_FACS_BM_scATAC/feasibility_study_synthetic_prototypes/01_synthetic_prototypes_ENCODE_cCRE_coverage/GMP_2_combined_NOTmerged_scATAC_overlap_ENCODE_cCRE_coverage_6col.bed\n",
       "  PeakCaller\n",
       "1 bed       \n",
       "2 bed       \n",
       "3 bed       \n",
       "4 bed       \n",
       "5 bed       \n",
       "6 bed       "
      ]
     },
     "metadata": {},
     "output_type": "display_data"
    }
   ],
   "source": [
    "CorcesDataInfo =read.csv(\"./buenrostro2018_combined_sc_pseudobulk_with_replicates_peakSet.csv\",\n",
    "                          sep = \";\",stringsAsFactors=FALSE) #, header=TRUE,row.names=NULL\n",
    "head(CorcesDataInfo)\n"
   ]
  },
  {
   "cell_type": "code",
   "execution_count": 4,
   "id": "5352b372-5b2b-47d4-9cb0-eb62a0e18af7",
   "metadata": {
    "tags": []
   },
   "outputs": [
    {
     "name": "stderr",
     "output_type": "stream",
     "text": [
      "CMP_1 CMP  CMP control 1 bed\n",
      "\n",
      "CMP_2 CMP  CMP control 2 bed\n",
      "\n",
      "HSC_1 HSC  HSC control 1 bed\n",
      "\n",
      "HSC_2 HSC  HSC control 2 bed\n",
      "\n",
      "GMP_1 GMP  GMP control 1 bed\n",
      "\n",
      "GMP_2 GMP  GMP control 2 bed\n",
      "\n",
      "MEP_1 MEP  MEP control 1 bed\n",
      "\n",
      "MEP_2 MEP  MEP control 2 bed\n",
      "\n",
      "MPP_1 MPP  MPP control 1 bed\n",
      "\n",
      "MPP_2 MPP  MPP control 2 bed\n",
      "\n",
      "CLP_1 CLP  CLP control 1 bed\n",
      "\n",
      "CLP_2 CLP  CLP control 2 bed\n",
      "\n",
      "LMPP_1 LMPP  LMPP control 1 bed\n",
      "\n",
      "LMPP_2 LMPP  LMPP control 2 bed\n",
      "\n"
     ]
    }
   ],
   "source": [
    "corces_DBdata <- dba(sampleSheet=CorcesDataInfo) "
   ]
  },
  {
   "cell_type": "raw",
   "id": "9a2f6f06-1a60-49e8-8c8d-69b5d7305cb9",
   "metadata": {
    "tags": []
   },
   "source": [
    "save.image(\"/project/scATAC_analysis/Corces2018_BM_FACS_scATAC/analysis/get_pseudobulk_as_combined_scs/pseudobulk_diffBind/WS/DiffAcc_readData.RData\")\n"
   ]
  },
  {
   "cell_type": "code",
   "execution_count": 5,
   "id": "0aa2c421-b590-45ec-853a-c99928d36ff2",
   "metadata": {
    "tags": []
   },
   "outputs": [
    {
     "name": "stderr",
     "output_type": "stream",
     "text": [
      "Computing summits...\n",
      "\n",
      "Re-centering peaks...\n",
      "\n",
      "Reads will be counted as Paired-end.\n",
      "\n"
     ]
    }
   ],
   "source": [
    "corces <- dba.count(corces_DBdata)"
   ]
  },
  {
   "cell_type": "code",
   "execution_count": 6,
   "id": "c839d545-c84a-456f-a62f-e5948edae8d8",
   "metadata": {
    "tags": []
   },
   "outputs": [
    {
     "data": {
      "text/html": [
       "<table class=\"dataframe\">\n",
       "<caption>A matrix: 6 × 3 of type dbl</caption>\n",
       "<thead>\n",
       "\t<tr><th></th><th scope=col>LibReads</th><th scope=col>FRiP</th><th scope=col>PeakReads</th></tr>\n",
       "</thead>\n",
       "<tbody>\n",
       "\t<tr><th scope=row>CMP_1</th><td>7660776</td><td>0.54</td><td>4136819</td></tr>\n",
       "\t<tr><th scope=row>CMP_2</th><td>6756627</td><td>0.58</td><td>3918844</td></tr>\n",
       "\t<tr><th scope=row>HSC_1</th><td>3081323</td><td>0.60</td><td>1848794</td></tr>\n",
       "\t<tr><th scope=row>HSC_2</th><td>2210133</td><td>0.62</td><td>1370282</td></tr>\n",
       "\t<tr><th scope=row>GMP_1</th><td>1528834</td><td>0.51</td><td> 779705</td></tr>\n",
       "\t<tr><th scope=row>GMP_2</th><td>2058920</td><td>0.63</td><td>1297120</td></tr>\n",
       "</tbody>\n",
       "</table>\n"
      ],
      "text/latex": [
       "A matrix: 6 × 3 of type dbl\n",
       "\\begin{tabular}{r|lll}\n",
       "  & LibReads & FRiP & PeakReads\\\\\n",
       "\\hline\n",
       "\tCMP\\_1 & 7660776 & 0.54 & 4136819\\\\\n",
       "\tCMP\\_2 & 6756627 & 0.58 & 3918844\\\\\n",
       "\tHSC\\_1 & 3081323 & 0.60 & 1848794\\\\\n",
       "\tHSC\\_2 & 2210133 & 0.62 & 1370282\\\\\n",
       "\tGMP\\_1 & 1528834 & 0.51 &  779705\\\\\n",
       "\tGMP\\_2 & 2058920 & 0.63 & 1297120\\\\\n",
       "\\end{tabular}\n"
      ],
      "text/markdown": [
       "\n",
       "A matrix: 6 × 3 of type dbl\n",
       "\n",
       "| <!--/--> | LibReads | FRiP | PeakReads |\n",
       "|---|---|---|---|\n",
       "| CMP_1 | 7660776 | 0.54 | 4136819 |\n",
       "| CMP_2 | 6756627 | 0.58 | 3918844 |\n",
       "| HSC_1 | 3081323 | 0.60 | 1848794 |\n",
       "| HSC_2 | 2210133 | 0.62 | 1370282 |\n",
       "| GMP_1 | 1528834 | 0.51 |  779705 |\n",
       "| GMP_2 | 2058920 | 0.63 | 1297120 |\n",
       "\n"
      ],
      "text/plain": [
       "      LibReads FRiP PeakReads\n",
       "CMP_1 7660776  0.54 4136819  \n",
       "CMP_2 6756627  0.58 3918844  \n",
       "HSC_1 3081323  0.60 1848794  \n",
       "HSC_2 2210133  0.62 1370282  \n",
       "GMP_1 1528834  0.51  779705  \n",
       "GMP_2 2058920  0.63 1297120  "
      ]
     },
     "metadata": {},
     "output_type": "display_data"
    }
   ],
   "source": [
    "info <- dba.show(corces)\n",
    "libsizes <- cbind(LibReads=info$Reads, FRiP=info$FRiP,PeakReads=round(info$Reads * info$FRiP))\n",
    "rownames(libsizes) <- info$ID\n",
    "head(libsizes)\n"
   ]
  },
  {
   "cell_type": "code",
   "execution_count": 7,
   "id": "1347305c-e440-4668-83ee-9ab31f105834",
   "metadata": {
    "tags": []
   },
   "outputs": [
    {
     "data": {
      "text/html": [
       "<table class=\"dataframe\">\n",
       "<caption>A matrix: 6 × 3 of type dbl</caption>\n",
       "<thead>\n",
       "\t<tr><th></th><th scope=col>FullLibSize</th><th scope=col>NormFacs</th><th scope=col>NormLibSize</th></tr>\n",
       "</thead>\n",
       "<tbody>\n",
       "\t<tr><th scope=row>CMP_1</th><td>7660776</td><td>3.1993332</td><td>2394491</td></tr>\n",
       "\t<tr><th scope=row>CMP_2</th><td>6756627</td><td>2.8217378</td><td>2394491</td></tr>\n",
       "\t<tr><th scope=row>HSC_1</th><td>3081323</td><td>1.2868382</td><td>2394491</td></tr>\n",
       "\t<tr><th scope=row>HSC_2</th><td>2210133</td><td>0.9230073</td><td>2394491</td></tr>\n",
       "\t<tr><th scope=row>GMP_1</th><td>1528834</td><td>0.6384796</td><td>2394491</td></tr>\n",
       "\t<tr><th scope=row>GMP_2</th><td>2058920</td><td>0.8598569</td><td>2394491</td></tr>\n",
       "</tbody>\n",
       "</table>\n"
      ],
      "text/latex": [
       "A matrix: 6 × 3 of type dbl\n",
       "\\begin{tabular}{r|lll}\n",
       "  & FullLibSize & NormFacs & NormLibSize\\\\\n",
       "\\hline\n",
       "\tCMP\\_1 & 7660776 & 3.1993332 & 2394491\\\\\n",
       "\tCMP\\_2 & 6756627 & 2.8217378 & 2394491\\\\\n",
       "\tHSC\\_1 & 3081323 & 1.2868382 & 2394491\\\\\n",
       "\tHSC\\_2 & 2210133 & 0.9230073 & 2394491\\\\\n",
       "\tGMP\\_1 & 1528834 & 0.6384796 & 2394491\\\\\n",
       "\tGMP\\_2 & 2058920 & 0.8598569 & 2394491\\\\\n",
       "\\end{tabular}\n"
      ],
      "text/markdown": [
       "\n",
       "A matrix: 6 × 3 of type dbl\n",
       "\n",
       "| <!--/--> | FullLibSize | NormFacs | NormLibSize |\n",
       "|---|---|---|---|\n",
       "| CMP_1 | 7660776 | 3.1993332 | 2394491 |\n",
       "| CMP_2 | 6756627 | 2.8217378 | 2394491 |\n",
       "| HSC_1 | 3081323 | 1.2868382 | 2394491 |\n",
       "| HSC_2 | 2210133 | 0.9230073 | 2394491 |\n",
       "| GMP_1 | 1528834 | 0.6384796 | 2394491 |\n",
       "| GMP_2 | 2058920 | 0.8598569 | 2394491 |\n",
       "\n"
      ],
      "text/plain": [
       "      FullLibSize NormFacs  NormLibSize\n",
       "CMP_1 7660776     3.1993332 2394491    \n",
       "CMP_2 6756627     2.8217378 2394491    \n",
       "HSC_1 3081323     1.2868382 2394491    \n",
       "HSC_2 2210133     0.9230073 2394491    \n",
       "GMP_1 1528834     0.6384796 2394491    \n",
       "GMP_2 2058920     0.8598569 2394491    "
      ]
     },
     "metadata": {},
     "output_type": "display_data"
    }
   ],
   "source": [
    "corces_norm <- dba.normalize(corces)\n",
    "norm <- dba.normalize(corces_norm, bRetrieve=TRUE)\n",
    "normlibs <- cbind(FullLibSize=norm$lib.sizes, NormFacs=norm$norm.factors, NormLibSize=round(norm$lib.sizes/norm$norm.factors))\n",
    "rownames(normlibs) <- info$ID\n",
    "head(normlibs)\n"
   ]
  },
  {
   "cell_type": "code",
   "execution_count": 8,
   "id": "45766fd9-ba6f-4ee8-9ea6-d40eff16c78e",
   "metadata": {
    "tags": []
   },
   "outputs": [
    {
     "name": "stderr",
     "output_type": "stream",
     "text": [
      "Computing results names...\n",
      "\n"
     ]
    }
   ],
   "source": [
    "corces_norm <- dba.contrast(corces_norm, categories=DBA_CONDITION,minMembers = 2)"
   ]
  },
  {
   "cell_type": "code",
   "execution_count": 9,
   "id": "ee989b58-3fa4-410d-a8db-c6c167c6bb0f",
   "metadata": {
    "tags": []
   },
   "outputs": [
    {
     "name": "stderr",
     "output_type": "stream",
     "text": [
      "Applying Blacklist/Greylists...\n",
      "\n",
      "Genome detected: Hsapiens.UCSC.hg38\n",
      "\n",
      "Applying blacklist...\n",
      "\n",
      "Removed: 232 of 513811 intervals.\n",
      "\n",
      "Re-normalizing...\n",
      "\n",
      "Removed 232 (of 513811) consensus peaks.\n",
      "\n",
      "Analyzing...\n",
      "\n",
      "gene-wise dispersion estimates\n",
      "\n",
      "mean-dispersion relationship\n",
      "\n",
      "final dispersion estimates\n",
      "\n"
     ]
    }
   ],
   "source": [
    "corces_norm <- dba.analyze(corces_norm)\n"
   ]
  },
  {
   "cell_type": "raw",
   "id": "a45eb80d-5bb0-4cca-ae83-b50d9e8392df",
   "metadata": {
    "tags": []
   },
   "source": [
    "saveRDS(corces_norm, file = \"/project/scATAC_analysis/Corces2018_BM_FACS_scATAC/analysis/get_pseudobulk_as_combined_scs/pseudobulk_diffBind/WS/corces_norm_Analyzed.rds\")"
   ]
  },
  {
   "cell_type": "code",
   "execution_count": 11,
   "id": "b3425a19-4e9f-4b51-bd51-1b70f96edaef",
   "metadata": {
    "tags": []
   },
   "outputs": [
    {
     "data": {
      "text/html": [
       "<table class=\"dataframe\">\n",
       "<caption>A data.frame: 21 × 6</caption>\n",
       "<thead>\n",
       "\t<tr><th></th><th scope=col>Factor</th><th scope=col>Group</th><th scope=col>Samples</th><th scope=col>Group2</th><th scope=col>Samples2</th><th scope=col>DB.DESeq2</th></tr>\n",
       "\t<tr><th></th><th scope=col>&lt;chr&gt;</th><th scope=col>&lt;chr&gt;</th><th scope=col>&lt;chr&gt;</th><th scope=col>&lt;chr&gt;</th><th scope=col>&lt;chr&gt;</th><th scope=col>&lt;chr&gt;</th></tr>\n",
       "</thead>\n",
       "<tbody>\n",
       "\t<tr><th scope=row>1</th><td>Condition</td><td>CMP </td><td>2</td><td>HSC </td><td>2</td><td>653 </td></tr>\n",
       "\t<tr><th scope=row>2</th><td>Condition</td><td>CMP </td><td>2</td><td>GMP </td><td>2</td><td>875 </td></tr>\n",
       "\t<tr><th scope=row>3</th><td>Condition</td><td>CMP </td><td>2</td><td>MEP </td><td>2</td><td>1637</td></tr>\n",
       "\t<tr><th scope=row>4</th><td>Condition</td><td>CMP </td><td>2</td><td>MPP </td><td>2</td><td>71  </td></tr>\n",
       "\t<tr><th scope=row>5</th><td>Condition</td><td>CMP </td><td>2</td><td>CLP </td><td>2</td><td>2040</td></tr>\n",
       "\t<tr><th scope=row>6</th><td>Condition</td><td>CMP </td><td>2</td><td>LMPP</td><td>2</td><td>788 </td></tr>\n",
       "\t<tr><th scope=row>7</th><td>Condition</td><td>HSC </td><td>2</td><td>GMP </td><td>2</td><td>787 </td></tr>\n",
       "\t<tr><th scope=row>8</th><td>Condition</td><td>HSC </td><td>2</td><td>MEP </td><td>2</td><td>7053</td></tr>\n",
       "\t<tr><th scope=row>9</th><td>Condition</td><td>HSC </td><td>2</td><td>MPP </td><td>2</td><td>0   </td></tr>\n",
       "\t<tr><th scope=row>10</th><td>Condition</td><td>HSC </td><td>2</td><td>CLP </td><td>2</td><td>668 </td></tr>\n",
       "\t<tr><th scope=row>11</th><td>Condition</td><td>HSC </td><td>2</td><td>LMPP</td><td>2</td><td>71  </td></tr>\n",
       "\t<tr><th scope=row>12</th><td>Condition</td><td>GMP </td><td>2</td><td>MEP </td><td>2</td><td>8602</td></tr>\n",
       "\t<tr><th scope=row>13</th><td>Condition</td><td>GMP </td><td>2</td><td>MPP </td><td>2</td><td>942 </td></tr>\n",
       "\t<tr><th scope=row>14</th><td>Condition</td><td>GMP </td><td>2</td><td>CLP </td><td>2</td><td>153 </td></tr>\n",
       "\t<tr><th scope=row>15</th><td>Condition</td><td>GMP </td><td>2</td><td>LMPP</td><td>2</td><td>95  </td></tr>\n",
       "\t<tr><th scope=row>16</th><td>Condition</td><td>MEP </td><td>2</td><td>MPP </td><td>2</td><td>3364</td></tr>\n",
       "\t<tr><th scope=row>17</th><td>Condition</td><td>MEP </td><td>2</td><td>CLP </td><td>2</td><td>3239</td></tr>\n",
       "\t<tr><th scope=row>18</th><td>Condition</td><td>MEP </td><td>2</td><td>LMPP</td><td>2</td><td>5438</td></tr>\n",
       "\t<tr><th scope=row>19</th><td>Condition</td><td>MPP </td><td>2</td><td>CLP </td><td>2</td><td>1024</td></tr>\n",
       "\t<tr><th scope=row>20</th><td>Condition</td><td>MPP </td><td>2</td><td>LMPP</td><td>2</td><td>55  </td></tr>\n",
       "\t<tr><th scope=row>21</th><td>Condition</td><td>LMPP</td><td>2</td><td>CLP </td><td>2</td><td>551 </td></tr>\n",
       "</tbody>\n",
       "</table>\n"
      ],
      "text/latex": [
       "A data.frame: 21 × 6\n",
       "\\begin{tabular}{r|llllll}\n",
       "  & Factor & Group & Samples & Group2 & Samples2 & DB.DESeq2\\\\\n",
       "  & <chr> & <chr> & <chr> & <chr> & <chr> & <chr>\\\\\n",
       "\\hline\n",
       "\t1 & Condition & CMP  & 2 & HSC  & 2 & 653 \\\\\n",
       "\t2 & Condition & CMP  & 2 & GMP  & 2 & 875 \\\\\n",
       "\t3 & Condition & CMP  & 2 & MEP  & 2 & 1637\\\\\n",
       "\t4 & Condition & CMP  & 2 & MPP  & 2 & 71  \\\\\n",
       "\t5 & Condition & CMP  & 2 & CLP  & 2 & 2040\\\\\n",
       "\t6 & Condition & CMP  & 2 & LMPP & 2 & 788 \\\\\n",
       "\t7 & Condition & HSC  & 2 & GMP  & 2 & 787 \\\\\n",
       "\t8 & Condition & HSC  & 2 & MEP  & 2 & 7053\\\\\n",
       "\t9 & Condition & HSC  & 2 & MPP  & 2 & 0   \\\\\n",
       "\t10 & Condition & HSC  & 2 & CLP  & 2 & 668 \\\\\n",
       "\t11 & Condition & HSC  & 2 & LMPP & 2 & 71  \\\\\n",
       "\t12 & Condition & GMP  & 2 & MEP  & 2 & 8602\\\\\n",
       "\t13 & Condition & GMP  & 2 & MPP  & 2 & 942 \\\\\n",
       "\t14 & Condition & GMP  & 2 & CLP  & 2 & 153 \\\\\n",
       "\t15 & Condition & GMP  & 2 & LMPP & 2 & 95  \\\\\n",
       "\t16 & Condition & MEP  & 2 & MPP  & 2 & 3364\\\\\n",
       "\t17 & Condition & MEP  & 2 & CLP  & 2 & 3239\\\\\n",
       "\t18 & Condition & MEP  & 2 & LMPP & 2 & 5438\\\\\n",
       "\t19 & Condition & MPP  & 2 & CLP  & 2 & 1024\\\\\n",
       "\t20 & Condition & MPP  & 2 & LMPP & 2 & 55  \\\\\n",
       "\t21 & Condition & LMPP & 2 & CLP  & 2 & 551 \\\\\n",
       "\\end{tabular}\n"
      ],
      "text/markdown": [
       "\n",
       "A data.frame: 21 × 6\n",
       "\n",
       "| <!--/--> | Factor &lt;chr&gt; | Group &lt;chr&gt; | Samples &lt;chr&gt; | Group2 &lt;chr&gt; | Samples2 &lt;chr&gt; | DB.DESeq2 &lt;chr&gt; |\n",
       "|---|---|---|---|---|---|---|\n",
       "| 1 | Condition | CMP  | 2 | HSC  | 2 | 653  |\n",
       "| 2 | Condition | CMP  | 2 | GMP  | 2 | 875  |\n",
       "| 3 | Condition | CMP  | 2 | MEP  | 2 | 1637 |\n",
       "| 4 | Condition | CMP  | 2 | MPP  | 2 | 71   |\n",
       "| 5 | Condition | CMP  | 2 | CLP  | 2 | 2040 |\n",
       "| 6 | Condition | CMP  | 2 | LMPP | 2 | 788  |\n",
       "| 7 | Condition | HSC  | 2 | GMP  | 2 | 787  |\n",
       "| 8 | Condition | HSC  | 2 | MEP  | 2 | 7053 |\n",
       "| 9 | Condition | HSC  | 2 | MPP  | 2 | 0    |\n",
       "| 10 | Condition | HSC  | 2 | CLP  | 2 | 668  |\n",
       "| 11 | Condition | HSC  | 2 | LMPP | 2 | 71   |\n",
       "| 12 | Condition | GMP  | 2 | MEP  | 2 | 8602 |\n",
       "| 13 | Condition | GMP  | 2 | MPP  | 2 | 942  |\n",
       "| 14 | Condition | GMP  | 2 | CLP  | 2 | 153  |\n",
       "| 15 | Condition | GMP  | 2 | LMPP | 2 | 95   |\n",
       "| 16 | Condition | MEP  | 2 | MPP  | 2 | 3364 |\n",
       "| 17 | Condition | MEP  | 2 | CLP  | 2 | 3239 |\n",
       "| 18 | Condition | MEP  | 2 | LMPP | 2 | 5438 |\n",
       "| 19 | Condition | MPP  | 2 | CLP  | 2 | 1024 |\n",
       "| 20 | Condition | MPP  | 2 | LMPP | 2 | 55   |\n",
       "| 21 | Condition | LMPP | 2 | CLP  | 2 | 551  |\n",
       "\n"
      ],
      "text/plain": [
       "   Factor    Group Samples Group2 Samples2 DB.DESeq2\n",
       "1  Condition CMP   2       HSC    2        653      \n",
       "2  Condition CMP   2       GMP    2        875      \n",
       "3  Condition CMP   2       MEP    2        1637     \n",
       "4  Condition CMP   2       MPP    2        71       \n",
       "5  Condition CMP   2       CLP    2        2040     \n",
       "6  Condition CMP   2       LMPP   2        788      \n",
       "7  Condition HSC   2       GMP    2        787      \n",
       "8  Condition HSC   2       MEP    2        7053     \n",
       "9  Condition HSC   2       MPP    2        0        \n",
       "10 Condition HSC   2       CLP    2        668      \n",
       "11 Condition HSC   2       LMPP   2        71       \n",
       "12 Condition GMP   2       MEP    2        8602     \n",
       "13 Condition GMP   2       MPP    2        942      \n",
       "14 Condition GMP   2       CLP    2        153      \n",
       "15 Condition GMP   2       LMPP   2        95       \n",
       "16 Condition MEP   2       MPP    2        3364     \n",
       "17 Condition MEP   2       CLP    2        3239     \n",
       "18 Condition MEP   2       LMPP   2        5438     \n",
       "19 Condition MPP   2       CLP    2        1024     \n",
       "20 Condition MPP   2       LMPP   2        55       \n",
       "21 Condition LMPP  2       CLP    2        551      "
      ]
     },
     "metadata": {},
     "output_type": "display_data"
    }
   ],
   "source": [
    "contrast_matrix = dba.show(corces_norm, bContrasts = TRUE)\n",
    "contrast_matrix"
   ]
  },
  {
   "cell_type": "code",
   "execution_count": 12,
   "id": "962a6275-1e21-480a-86ee-79769887e74e",
   "metadata": {},
   "outputs": [],
   "source": [
    "granges_to_df <- function(granges_obj, contrast){\n",
    "    report <- dba.report(granges_obj, contrast = contrast)\n",
    "    report_df <- as.data.frame(report)\n",
    "    region= paste(report_df$seqnames,report_df$start,sep=\":\")\n",
    "    region=paste(region,report_df$end,sep=\"-\")\n",
    "    report_df[\"region\"]=region\n",
    "    return(report_df)\n",
    "}"
   ]
  },
  {
   "cell_type": "code",
   "execution_count": 13,
   "id": "a99c4ae1-386b-4672-b5b7-237d7ed4ce8d",
   "metadata": {},
   "outputs": [
    {
     "name": "stdout",
     "output_type": "stream",
     "text": [
      "[1] \"CMP_VS_HSC\"\n",
      "[1] \"CMP_VS_GMP\"\n",
      "[1] \"CMP_VS_MEP\"\n",
      "[1] \"CMP_VS_MPP\"\n",
      "[1] \"CMP_VS_CLP\"\n",
      "[1] \"CMP_VS_LMPP\"\n",
      "[1] \"HSC_VS_GMP\"\n",
      "[1] \"HSC_VS_MEP\"\n",
      "[1] \"HSC_VS_MPP\"\n",
      "[1] \"HSC_VS_CLP\"\n",
      "[1] \"HSC_VS_LMPP\"\n",
      "[1] \"GMP_VS_MEP\"\n",
      "[1] \"GMP_VS_MPP\"\n",
      "[1] \"GMP_VS_CLP\"\n",
      "[1] \"GMP_VS_LMPP\"\n",
      "[1] \"MEP_VS_MPP\"\n",
      "[1] \"MEP_VS_CLP\"\n",
      "[1] \"MEP_VS_LMPP\"\n",
      "[1] \"MPP_VS_CLP\"\n",
      "[1] \"MPP_VS_LMPP\"\n",
      "[1] \"LMPP_VS_CLP\"\n"
     ]
    }
   ],
   "source": [
    "for (i in seq(1, NROW(contrast_matrix))){\n",
    "    save_name = paste( gsub(\"-\", \"_\", contrast_matrix[i,2], fixed = TRUE) , \"_VS_\" ,gsub(\"-\", \"_\", contrast_matrix[i,4], fixed = TRUE), sep=\"\")\n",
    "    \n",
    "    print(save_name)\n",
    "}"
   ]
  },
  {
   "cell_type": "code",
   "execution_count": 14,
   "id": "966a9e4a-0b44-4d5a-a568-7ec5abc9301f",
   "metadata": {
    "scrolled": true,
    "tags": []
   },
   "outputs": [
    {
     "data": {
      "text/html": [
       "<table class=\"dataframe\">\n",
       "<caption>A data.frame: 21 × 6</caption>\n",
       "<thead>\n",
       "\t<tr><th></th><th scope=col>Factor</th><th scope=col>Group</th><th scope=col>Samples</th><th scope=col>Group2</th><th scope=col>Samples2</th><th scope=col>DB.DESeq2</th></tr>\n",
       "\t<tr><th></th><th scope=col>&lt;chr&gt;</th><th scope=col>&lt;chr&gt;</th><th scope=col>&lt;chr&gt;</th><th scope=col>&lt;chr&gt;</th><th scope=col>&lt;chr&gt;</th><th scope=col>&lt;chr&gt;</th></tr>\n",
       "</thead>\n",
       "<tbody>\n",
       "\t<tr><th scope=row>1</th><td>Condition</td><td>CMP </td><td>2</td><td>HSC </td><td>2</td><td>653 </td></tr>\n",
       "\t<tr><th scope=row>2</th><td>Condition</td><td>CMP </td><td>2</td><td>GMP </td><td>2</td><td>875 </td></tr>\n",
       "\t<tr><th scope=row>3</th><td>Condition</td><td>CMP </td><td>2</td><td>MEP </td><td>2</td><td>1637</td></tr>\n",
       "\t<tr><th scope=row>4</th><td>Condition</td><td>CMP </td><td>2</td><td>MPP </td><td>2</td><td>71  </td></tr>\n",
       "\t<tr><th scope=row>5</th><td>Condition</td><td>CMP </td><td>2</td><td>CLP </td><td>2</td><td>2040</td></tr>\n",
       "\t<tr><th scope=row>6</th><td>Condition</td><td>CMP </td><td>2</td><td>LMPP</td><td>2</td><td>788 </td></tr>\n",
       "\t<tr><th scope=row>7</th><td>Condition</td><td>HSC </td><td>2</td><td>GMP </td><td>2</td><td>787 </td></tr>\n",
       "\t<tr><th scope=row>8</th><td>Condition</td><td>HSC </td><td>2</td><td>MEP </td><td>2</td><td>7053</td></tr>\n",
       "\t<tr><th scope=row>9</th><td>Condition</td><td>HSC </td><td>2</td><td>MPP </td><td>2</td><td>0   </td></tr>\n",
       "\t<tr><th scope=row>10</th><td>Condition</td><td>HSC </td><td>2</td><td>CLP </td><td>2</td><td>668 </td></tr>\n",
       "\t<tr><th scope=row>11</th><td>Condition</td><td>HSC </td><td>2</td><td>LMPP</td><td>2</td><td>71  </td></tr>\n",
       "\t<tr><th scope=row>12</th><td>Condition</td><td>GMP </td><td>2</td><td>MEP </td><td>2</td><td>8602</td></tr>\n",
       "\t<tr><th scope=row>13</th><td>Condition</td><td>GMP </td><td>2</td><td>MPP </td><td>2</td><td>942 </td></tr>\n",
       "\t<tr><th scope=row>14</th><td>Condition</td><td>GMP </td><td>2</td><td>CLP </td><td>2</td><td>153 </td></tr>\n",
       "\t<tr><th scope=row>15</th><td>Condition</td><td>GMP </td><td>2</td><td>LMPP</td><td>2</td><td>95  </td></tr>\n",
       "\t<tr><th scope=row>16</th><td>Condition</td><td>MEP </td><td>2</td><td>MPP </td><td>2</td><td>3364</td></tr>\n",
       "\t<tr><th scope=row>17</th><td>Condition</td><td>MEP </td><td>2</td><td>CLP </td><td>2</td><td>3239</td></tr>\n",
       "\t<tr><th scope=row>18</th><td>Condition</td><td>MEP </td><td>2</td><td>LMPP</td><td>2</td><td>5438</td></tr>\n",
       "\t<tr><th scope=row>19</th><td>Condition</td><td>MPP </td><td>2</td><td>CLP </td><td>2</td><td>1024</td></tr>\n",
       "\t<tr><th scope=row>20</th><td>Condition</td><td>MPP </td><td>2</td><td>LMPP</td><td>2</td><td>55  </td></tr>\n",
       "\t<tr><th scope=row>21</th><td>Condition</td><td>LMPP</td><td>2</td><td>CLP </td><td>2</td><td>551 </td></tr>\n",
       "</tbody>\n",
       "</table>\n"
      ],
      "text/latex": [
       "A data.frame: 21 × 6\n",
       "\\begin{tabular}{r|llllll}\n",
       "  & Factor & Group & Samples & Group2 & Samples2 & DB.DESeq2\\\\\n",
       "  & <chr> & <chr> & <chr> & <chr> & <chr> & <chr>\\\\\n",
       "\\hline\n",
       "\t1 & Condition & CMP  & 2 & HSC  & 2 & 653 \\\\\n",
       "\t2 & Condition & CMP  & 2 & GMP  & 2 & 875 \\\\\n",
       "\t3 & Condition & CMP  & 2 & MEP  & 2 & 1637\\\\\n",
       "\t4 & Condition & CMP  & 2 & MPP  & 2 & 71  \\\\\n",
       "\t5 & Condition & CMP  & 2 & CLP  & 2 & 2040\\\\\n",
       "\t6 & Condition & CMP  & 2 & LMPP & 2 & 788 \\\\\n",
       "\t7 & Condition & HSC  & 2 & GMP  & 2 & 787 \\\\\n",
       "\t8 & Condition & HSC  & 2 & MEP  & 2 & 7053\\\\\n",
       "\t9 & Condition & HSC  & 2 & MPP  & 2 & 0   \\\\\n",
       "\t10 & Condition & HSC  & 2 & CLP  & 2 & 668 \\\\\n",
       "\t11 & Condition & HSC  & 2 & LMPP & 2 & 71  \\\\\n",
       "\t12 & Condition & GMP  & 2 & MEP  & 2 & 8602\\\\\n",
       "\t13 & Condition & GMP  & 2 & MPP  & 2 & 942 \\\\\n",
       "\t14 & Condition & GMP  & 2 & CLP  & 2 & 153 \\\\\n",
       "\t15 & Condition & GMP  & 2 & LMPP & 2 & 95  \\\\\n",
       "\t16 & Condition & MEP  & 2 & MPP  & 2 & 3364\\\\\n",
       "\t17 & Condition & MEP  & 2 & CLP  & 2 & 3239\\\\\n",
       "\t18 & Condition & MEP  & 2 & LMPP & 2 & 5438\\\\\n",
       "\t19 & Condition & MPP  & 2 & CLP  & 2 & 1024\\\\\n",
       "\t20 & Condition & MPP  & 2 & LMPP & 2 & 55  \\\\\n",
       "\t21 & Condition & LMPP & 2 & CLP  & 2 & 551 \\\\\n",
       "\\end{tabular}\n"
      ],
      "text/markdown": [
       "\n",
       "A data.frame: 21 × 6\n",
       "\n",
       "| <!--/--> | Factor &lt;chr&gt; | Group &lt;chr&gt; | Samples &lt;chr&gt; | Group2 &lt;chr&gt; | Samples2 &lt;chr&gt; | DB.DESeq2 &lt;chr&gt; |\n",
       "|---|---|---|---|---|---|---|\n",
       "| 1 | Condition | CMP  | 2 | HSC  | 2 | 653  |\n",
       "| 2 | Condition | CMP  | 2 | GMP  | 2 | 875  |\n",
       "| 3 | Condition | CMP  | 2 | MEP  | 2 | 1637 |\n",
       "| 4 | Condition | CMP  | 2 | MPP  | 2 | 71   |\n",
       "| 5 | Condition | CMP  | 2 | CLP  | 2 | 2040 |\n",
       "| 6 | Condition | CMP  | 2 | LMPP | 2 | 788  |\n",
       "| 7 | Condition | HSC  | 2 | GMP  | 2 | 787  |\n",
       "| 8 | Condition | HSC  | 2 | MEP  | 2 | 7053 |\n",
       "| 9 | Condition | HSC  | 2 | MPP  | 2 | 0    |\n",
       "| 10 | Condition | HSC  | 2 | CLP  | 2 | 668  |\n",
       "| 11 | Condition | HSC  | 2 | LMPP | 2 | 71   |\n",
       "| 12 | Condition | GMP  | 2 | MEP  | 2 | 8602 |\n",
       "| 13 | Condition | GMP  | 2 | MPP  | 2 | 942  |\n",
       "| 14 | Condition | GMP  | 2 | CLP  | 2 | 153  |\n",
       "| 15 | Condition | GMP  | 2 | LMPP | 2 | 95   |\n",
       "| 16 | Condition | MEP  | 2 | MPP  | 2 | 3364 |\n",
       "| 17 | Condition | MEP  | 2 | CLP  | 2 | 3239 |\n",
       "| 18 | Condition | MEP  | 2 | LMPP | 2 | 5438 |\n",
       "| 19 | Condition | MPP  | 2 | CLP  | 2 | 1024 |\n",
       "| 20 | Condition | MPP  | 2 | LMPP | 2 | 55   |\n",
       "| 21 | Condition | LMPP | 2 | CLP  | 2 | 551  |\n",
       "\n"
      ],
      "text/plain": [
       "   Factor    Group Samples Group2 Samples2 DB.DESeq2\n",
       "1  Condition CMP   2       HSC    2        653      \n",
       "2  Condition CMP   2       GMP    2        875      \n",
       "3  Condition CMP   2       MEP    2        1637     \n",
       "4  Condition CMP   2       MPP    2        71       \n",
       "5  Condition CMP   2       CLP    2        2040     \n",
       "6  Condition CMP   2       LMPP   2        788      \n",
       "7  Condition HSC   2       GMP    2        787      \n",
       "8  Condition HSC   2       MEP    2        7053     \n",
       "9  Condition HSC   2       MPP    2        0        \n",
       "10 Condition HSC   2       CLP    2        668      \n",
       "11 Condition HSC   2       LMPP   2        71       \n",
       "12 Condition GMP   2       MEP    2        8602     \n",
       "13 Condition GMP   2       MPP    2        942      \n",
       "14 Condition GMP   2       CLP    2        153      \n",
       "15 Condition GMP   2       LMPP   2        95       \n",
       "16 Condition MEP   2       MPP    2        3364     \n",
       "17 Condition MEP   2       CLP    2        3239     \n",
       "18 Condition MEP   2       LMPP   2        5438     \n",
       "19 Condition MPP   2       CLP    2        1024     \n",
       "20 Condition MPP   2       LMPP   2        55       \n",
       "21 Condition LMPP  2       CLP    2        551      "
      ]
     },
     "metadata": {},
     "output_type": "display_data"
    }
   ],
   "source": [
    "contrast_matrix"
   ]
  },
  {
   "cell_type": "code",
   "execution_count": 15,
   "id": "e797fb7a-bffd-4881-b987-2939a5470d7e",
   "metadata": {
    "scrolled": true,
    "tags": []
   },
   "outputs": [
    {
     "data": {
      "image/png": "[encoded data removed]",
      "text/plain": [
       "Plot with title “Color Key\n",
       "and Histogram”"
      ]
     },
     "metadata": {
      "image/png": {
       "height": 420,
       "width": 420
      }
     },
     "output_type": "display_data"
    }
   ],
   "source": [
    "plot(corces_norm)"
   ]
  },
  {
   "cell_type": "code",
   "execution_count": 16,
   "id": "59a13a8f-c430-4059-adaf-92db5ee575e4",
   "metadata": {
    "tags": []
   },
   "outputs": [
    {
     "name": "stderr",
     "output_type": "stream",
     "text": [
      "Warning message:\n",
      "“No sites above threshold”\n"
     ]
    }
   ],
   "source": [
    "CMP_VS_HSC_df = granges_to_df(corces_norm, contrast = 1)\n",
    "CMP_VS_GMP_df = granges_to_df(corces_norm, contrast = 2)\n",
    "CMP_VS_MEP_df = granges_to_df(corces_norm, contrast = 3)\n",
    "CMP_VS_MPP_df = granges_to_df(corces_norm, contrast = 4)\n",
    "CMP_VS_CLP_df = granges_to_df(corces_norm, contrast = 5)\n",
    "CMP_VS_LMPP_df = granges_to_df(corces_norm, contrast = 6)\n",
    "HSC_VS_GMP_df = granges_to_df(corces_norm, contrast = 7)\n",
    "HSC_VS_MEP_df = granges_to_df(corces_norm, contrast = 8)\n",
    "HSC_VS_MPP_df = granges_to_df(corces_norm, contrast = 9)\n",
    "HSC_VS_CLP_df = granges_to_df(corces_norm, contrast = 10)\n",
    "HSC_VS_LMPP_df = granges_to_df(corces_norm, contrast = 11)\n",
    "GMP_VS_MEP_df = granges_to_df(corces_norm, contrast = 12)\n",
    "GMP_VS_MPP_df = granges_to_df(corces_norm, contrast = 13)\n",
    "GMP_VS_CLP_df = granges_to_df(corces_norm, contrast = 14)\n",
    "GMP_VS_LMPP_df = granges_to_df(corces_norm, contrast = 15)\n",
    "MEP_VS_MPP_df = granges_to_df(corces_norm, contrast = 16)\n",
    "MEP_VS_CLP_df = granges_to_df(corces_norm, contrast = 17)\n",
    "MEP_VS_LMPP_df = granges_to_df(corces_norm, contrast = 18)\n",
    "MPP_VS_CLP_df = granges_to_df(corces_norm, contrast = 19)\n",
    "MPP_VS_LMPP_df = granges_to_df(corces_norm, contrast = 20)\n",
    "LMPP_VS_CLP_df = granges_to_df(corces_norm, contrast = 21)\n"
   ]
  },
  {
   "cell_type": "code",
   "execution_count": 17,
   "id": "161f4114-9104-4f00-9cb4-61c8db7fbd04",
   "metadata": {},
   "outputs": [],
   "source": [
    "combined_regions =c()\n",
    "for (df_ in list(CMP_VS_HSC_df, CMP_VS_GMP_df, CMP_VS_MEP_df, CMP_VS_MPP_df, CMP_VS_CLP_df, CMP_VS_LMPP_df, HSC_VS_GMP_df, HSC_VS_MEP_df, HSC_VS_MPP_df, HSC_VS_CLP_df, HSC_VS_LMPP_df, GMP_VS_MEP_df, GMP_VS_MPP_df, GMP_VS_CLP_df, GMP_VS_LMPP_df, MEP_VS_MPP_df, MEP_VS_CLP_df, MEP_VS_LMPP_df, MPP_VS_CLP_df, MPP_VS_LMPP_df, LMPP_VS_CLP_df)){\n",
    "    combined_regions =  c(combined_regions,df_[[\"region\"]] )\n",
    "    }"
   ]
  },
  {
   "cell_type": "code",
   "execution_count": 18,
   "id": "b0e88847-c64c-4f1a-9438-28d8f9aae56f",
   "metadata": {},
   "outputs": [
    {
     "name": "stdout",
     "output_type": "stream",
     "text": [
      "[1] 653  12\n",
      "[1] 875  12\n",
      "[1] 1637   12\n",
      "[1] 71 12\n",
      "[1] 2040   12\n",
      "[1] 788  12\n",
      "[1] 787  12\n",
      "[1] 7053   12\n",
      "[1] 0 1\n",
      "[1] 668  12\n",
      "[1] 71 12\n",
      "[1] 8602   12\n",
      "[1] 942  12\n",
      "[1] 153  12\n",
      "[1] 95 12\n",
      "[1] 3364   12\n",
      "[1] 3239   12\n",
      "[1] 5438   12\n",
      "[1] 1024   12\n",
      "[1] 55 12\n",
      "[1] 551  12\n"
     ]
    }
   ],
   "source": [
    "sum_=0\n",
    "combined_regions_size =c()\n",
    "for (df_ in list(CMP_VS_HSC_df, CMP_VS_GMP_df, CMP_VS_MEP_df, CMP_VS_MPP_df, CMP_VS_CLP_df, CMP_VS_LMPP_df, HSC_VS_GMP_df, HSC_VS_MEP_df, HSC_VS_MPP_df, HSC_VS_CLP_df, HSC_VS_LMPP_df, GMP_VS_MEP_df, GMP_VS_MPP_df, GMP_VS_CLP_df, GMP_VS_LMPP_df, MEP_VS_MPP_df, MEP_VS_CLP_df, MEP_VS_LMPP_df, MPP_VS_CLP_df, MPP_VS_LMPP_df, LMPP_VS_CLP_df)){\n",
    "    combined_regions_size = c(combined_regions_size,as.numeric(as.character(dim(df_)[1])) )\n",
    "    print(dim(df_))\n",
    "    sum_=sum_+as.integer(NROW(df_))\n",
    "    }"
   ]
  },
  {
   "cell_type": "code",
   "execution_count": 23,
   "id": "77d75b3c-635f-4169-80e6-7d7f1197b5d2",
   "metadata": {
    "tags": []
   },
   "outputs": [
    {
     "data": {
      "text/html": [
       "<table class=\"dataframe\">\n",
       "<caption>A data.frame: 21 × 2</caption>\n",
       "<thead>\n",
       "\t<tr><th scope=col>comparisons</th><th scope=col>num_diff_reg</th></tr>\n",
       "\t<tr><th scope=col>&lt;chr&gt;</th><th scope=col>&lt;dbl&gt;</th></tr>\n",
       "</thead>\n",
       "<tbody>\n",
       "\t<tr><td>CMP_VS_HSC_df </td><td> 653</td></tr>\n",
       "\t<tr><td>CMP_VS_GMP_df </td><td> 875</td></tr>\n",
       "\t<tr><td>CMP_VS_MEP_df </td><td>1637</td></tr>\n",
       "\t<tr><td>CMP_VS_MPP_df </td><td>  71</td></tr>\n",
       "\t<tr><td>CMP_VS_CLP_df </td><td>2040</td></tr>\n",
       "\t<tr><td>CMP_VS_LMPP_df</td><td> 788</td></tr>\n",
       "\t<tr><td>HSC_VS_GMP_df </td><td> 787</td></tr>\n",
       "\t<tr><td>HSC_VS_MEP_df </td><td>7053</td></tr>\n",
       "\t<tr><td>HSC_VS_MPP_df </td><td>   0</td></tr>\n",
       "\t<tr><td>HSC_VS_CLP_df </td><td> 668</td></tr>\n",
       "\t<tr><td>HSC_VS_LMPP_df</td><td>  71</td></tr>\n",
       "\t<tr><td>GMP_VS_MEP_df </td><td>8602</td></tr>\n",
       "\t<tr><td>GMP_VS_MPP_df </td><td> 942</td></tr>\n",
       "\t<tr><td>GMP_VS_CLP_df </td><td> 153</td></tr>\n",
       "\t<tr><td>GMP_VS_LMPP_df</td><td>  95</td></tr>\n",
       "\t<tr><td>MEP_VS_MPP_df </td><td>3364</td></tr>\n",
       "\t<tr><td>MEP_VS_CLP_df </td><td>3239</td></tr>\n",
       "\t<tr><td>MEP_VS_LMPP_df</td><td>5438</td></tr>\n",
       "\t<tr><td>MPP_VS_CLP_df </td><td>1024</td></tr>\n",
       "\t<tr><td>MPP_VS_LMPP_df</td><td>  55</td></tr>\n",
       "\t<tr><td>LMPP_VS_CLP_df</td><td> 551</td></tr>\n",
       "</tbody>\n",
       "</table>\n"
      ],
      "text/latex": [
       "A data.frame: 21 × 2\n",
       "\\begin{tabular}{ll}\n",
       " comparisons & num\\_diff\\_reg\\\\\n",
       " <chr> & <dbl>\\\\\n",
       "\\hline\n",
       "\t CMP\\_VS\\_HSC\\_df  &  653\\\\\n",
       "\t CMP\\_VS\\_GMP\\_df  &  875\\\\\n",
       "\t CMP\\_VS\\_MEP\\_df  & 1637\\\\\n",
       "\t CMP\\_VS\\_MPP\\_df  &   71\\\\\n",
       "\t CMP\\_VS\\_CLP\\_df  & 2040\\\\\n",
       "\t CMP\\_VS\\_LMPP\\_df &  788\\\\\n",
       "\t HSC\\_VS\\_GMP\\_df  &  787\\\\\n",
       "\t HSC\\_VS\\_MEP\\_df  & 7053\\\\\n",
       "\t HSC\\_VS\\_MPP\\_df  &    0\\\\\n",
       "\t HSC\\_VS\\_CLP\\_df  &  668\\\\\n",
       "\t HSC\\_VS\\_LMPP\\_df &   71\\\\\n",
       "\t GMP\\_VS\\_MEP\\_df  & 8602\\\\\n",
       "\t GMP\\_VS\\_MPP\\_df  &  942\\\\\n",
       "\t GMP\\_VS\\_CLP\\_df  &  153\\\\\n",
       "\t GMP\\_VS\\_LMPP\\_df &   95\\\\\n",
       "\t MEP\\_VS\\_MPP\\_df  & 3364\\\\\n",
       "\t MEP\\_VS\\_CLP\\_df  & 3239\\\\\n",
       "\t MEP\\_VS\\_LMPP\\_df & 5438\\\\\n",
       "\t MPP\\_VS\\_CLP\\_df  & 1024\\\\\n",
       "\t MPP\\_VS\\_LMPP\\_df &   55\\\\\n",
       "\t LMPP\\_VS\\_CLP\\_df &  551\\\\\n",
       "\\end{tabular}\n"
      ],
      "text/markdown": [
       "\n",
       "A data.frame: 21 × 2\n",
       "\n",
       "| comparisons &lt;chr&gt; | num_diff_reg &lt;dbl&gt; |\n",
       "|---|---|\n",
       "| CMP_VS_HSC_df  |  653 |\n",
       "| CMP_VS_GMP_df  |  875 |\n",
       "| CMP_VS_MEP_df  | 1637 |\n",
       "| CMP_VS_MPP_df  |   71 |\n",
       "| CMP_VS_CLP_df  | 2040 |\n",
       "| CMP_VS_LMPP_df |  788 |\n",
       "| HSC_VS_GMP_df  |  787 |\n",
       "| HSC_VS_MEP_df  | 7053 |\n",
       "| HSC_VS_MPP_df  |    0 |\n",
       "| HSC_VS_CLP_df  |  668 |\n",
       "| HSC_VS_LMPP_df |   71 |\n",
       "| GMP_VS_MEP_df  | 8602 |\n",
       "| GMP_VS_MPP_df  |  942 |\n",
       "| GMP_VS_CLP_df  |  153 |\n",
       "| GMP_VS_LMPP_df |   95 |\n",
       "| MEP_VS_MPP_df  | 3364 |\n",
       "| MEP_VS_CLP_df  | 3239 |\n",
       "| MEP_VS_LMPP_df | 5438 |\n",
       "| MPP_VS_CLP_df  | 1024 |\n",
       "| MPP_VS_LMPP_df |   55 |\n",
       "| LMPP_VS_CLP_df |  551 |\n",
       "\n"
      ],
      "text/plain": [
       "   comparisons    num_diff_reg\n",
       "1  CMP_VS_HSC_df   653        \n",
       "2  CMP_VS_GMP_df   875        \n",
       "3  CMP_VS_MEP_df  1637        \n",
       "4  CMP_VS_MPP_df    71        \n",
       "5  CMP_VS_CLP_df  2040        \n",
       "6  CMP_VS_LMPP_df  788        \n",
       "7  HSC_VS_GMP_df   787        \n",
       "8  HSC_VS_MEP_df  7053        \n",
       "9  HSC_VS_MPP_df     0        \n",
       "10 HSC_VS_CLP_df   668        \n",
       "11 HSC_VS_LMPP_df   71        \n",
       "12 GMP_VS_MEP_df  8602        \n",
       "13 GMP_VS_MPP_df   942        \n",
       "14 GMP_VS_CLP_df   153        \n",
       "15 GMP_VS_LMPP_df   95        \n",
       "16 MEP_VS_MPP_df  3364        \n",
       "17 MEP_VS_CLP_df  3239        \n",
       "18 MEP_VS_LMPP_df 5438        \n",
       "19 MPP_VS_CLP_df  1024        \n",
       "20 MPP_VS_LMPP_df   55        \n",
       "21 LMPP_VS_CLP_df  551        "
      ]
     },
     "metadata": {},
     "output_type": "display_data"
    }
   ],
   "source": [
    "# plot the number of diff regions per comparison\n",
    "\n",
    "comparisons <- c(\"CMP_VS_HSC_df\", \"CMP_VS_GMP_df\", \"CMP_VS_MEP_df\", \"CMP_VS_MPP_df\", \"CMP_VS_CLP_df\", \"CMP_VS_LMPP_df\", \"HSC_VS_GMP_df\", \"HSC_VS_MEP_df\", \"HSC_VS_MPP_df\", \"HSC_VS_CLP_df\", \"HSC_VS_LMPP_df\", \"GMP_VS_MEP_df\", \"GMP_VS_MPP_df\", \"GMP_VS_CLP_df\", \"GMP_VS_LMPP_df\", \"MEP_VS_MPP_df\", \"MEP_VS_CLP_df\", \"MEP_VS_LMPP_df\", \"MPP_VS_CLP_df\", \"MPP_VS_LMPP_df\", \"LMPP_VS_CLP_df\")\n",
    "\n",
    "num_diff_reg <- combined_regions_size \n",
    "num_diff_reg_per_comparison_df <- data.frame(comparisons,num_diff_reg)\n",
    "num_diff_reg_per_comparison_df"
   ]
  },
  {
   "cell_type": "code",
   "execution_count": 24,
   "id": "37df81b4-255b-4239-8c74-545c66bad865",
   "metadata": {},
   "outputs": [],
   "source": [
    "num_diff_reg_per_comparison_df = num_diff_reg_per_comparison_df[order(num_diff_reg_per_comparison_df$num_diff_reg),]"
   ]
  },
  {
   "cell_type": "code",
   "execution_count": 25,
   "id": "fde910e5-1195-458c-a70f-5444ea9cb7cb",
   "metadata": {
    "tags": []
   },
   "outputs": [
    {
     "name": "stderr",
     "output_type": "stream",
     "text": [
      "\n",
      "Attaching package: ‘dplyr’\n",
      "\n",
      "\n",
      "The following object is masked from ‘package:Biobase’:\n",
      "\n",
      "    combine\n",
      "\n",
      "\n",
      "The following object is masked from ‘package:matrixStats’:\n",
      "\n",
      "    count\n",
      "\n",
      "\n",
      "The following objects are masked from ‘package:GenomicRanges’:\n",
      "\n",
      "    intersect, setdiff, union\n",
      "\n",
      "\n",
      "The following object is masked from ‘package:GenomeInfoDb’:\n",
      "\n",
      "    intersect\n",
      "\n",
      "\n",
      "The following objects are masked from ‘package:IRanges’:\n",
      "\n",
      "    collapse, desc, intersect, setdiff, slice, union\n",
      "\n",
      "\n",
      "The following objects are masked from ‘package:S4Vectors’:\n",
      "\n",
      "    first, intersect, rename, setdiff, setequal, union\n",
      "\n",
      "\n",
      "The following objects are masked from ‘package:BiocGenerics’:\n",
      "\n",
      "    combine, intersect, setdiff, union\n",
      "\n",
      "\n",
      "The following objects are masked from ‘package:stats’:\n",
      "\n",
      "    filter, lag\n",
      "\n",
      "\n",
      "The following objects are masked from ‘package:base’:\n",
      "\n",
      "    intersect, setdiff, setequal, union\n",
      "\n",
      "\n"
     ]
    },
    {
     "data": {
      "image/png": "[encoded data removed]",
      "text/plain": [
       "plot without title"
      ]
     },
     "metadata": {
      "image/png": {
       "height": 420,
       "width": 420
      }
     },
     "output_type": "display_data"
    }
   ],
   "source": [
    "library(ggplot2)\n",
    "library(dplyr)\n",
    "library(forcats)\n",
    "# Reorder following the value of another column:\n",
    "plot_num_diff_regions_per_comparison <-num_diff_reg_per_comparison_df %>%\n",
    "  mutate(comparisons = fct_reorder(comparisons, num_diff_reg)) %>%\n",
    "  ggplot( aes(x=comparisons, y=num_diff_reg)) +\n",
    "    geom_bar(stat=\"identity\", , alpha=.7, width=.6) +\n",
    "    coord_flip() +\n",
    "    xlab(\"\") + ylab(\"number of differential regions\") +\n",
    "    scale_y_continuous(minor_breaks = seq(0, 80000, 5000),) +\n",
    "    theme_bw()\n",
    "plot_num_diff_regions_per_comparison"
   ]
  },
  {
   "cell_type": "code",
   "execution_count": 26,
   "id": "9f817d14-af16-4e9b-bfe1-9ca5df816186",
   "metadata": {
    "tags": []
   },
   "outputs": [
    {
     "name": "stderr",
     "output_type": "stream",
     "text": [
      "Saving 6.67 x 6.67 in image\n",
      "\n"
     ]
    }
   ],
   "source": [
    "ggsave(\"./figures/plot_num_diff_regions_per_comparison.png\")\n"
   ]
  },
  {
   "cell_type": "markdown",
   "id": "851aa7d0-4a90-4689-ba14-63a6ac5d5005",
   "metadata": {},
   "source": [
    "# ------------------------------------------------------------\n",
    "### SELECT THE FEATURES CONSIDERING THE TREE STRUCTURE\n",
    "# ------------------------------------------------------------"
   ]
  },
  {
   "cell_type": "code",
   "execution_count": 30,
   "id": "4c9ccbf2-172e-4567-9464-3701d895647e",
   "metadata": {
    "tags": []
   },
   "outputs": [
    {
     "data": {
      "image/png": "[encoded data removed]"
     },
     "metadata": {},
     "output_type": "display_data"
    }
   ],
   "source": [
    "library(\"IRdisplay\")\n",
    "\n",
    "display_png(file=\"./hematopoiesis.png\")\n"
   ]
  },
  {
   "cell_type": "markdown",
   "id": "bdab9082-fcb2-455a-bfa7-ee5c6a7d23b1",
   "metadata": {},
   "source": [
    "### tree guided comparisons \n",
    "\n",
    "> HSC_VS_MPP_df, MPP_VS_LMPP_df, LMPP_VS_CLP_df, GMP_VS_LMPP_df, CMP_VS_MPP_df,CMP_VS_GMP_df, CMP_VS_MEP_df, CMP_VS_LMPP_df, GMP_VS_CLP_df,GMP_VS_MEP_df \n"
   ]
  },
  {
   "cell_type": "code",
   "execution_count": 31,
   "id": "209da472-f63a-4e74-8ee9-5ed46a9df9e6",
   "metadata": {
    "tags": []
   },
   "outputs": [],
   "source": [
    "\n",
    "# SELECT THE FEATURES CONSIDERING THE TREE STRUCTURE\n",
    "\n",
    "# I exclude HSC_VS_MPP_df df because this has no differential reads and returns an empty df\n",
    "\n",
    "tree_guided_combined_regions_top2000 =c()\n",
    "for (df_ in list( MPP_VS_LMPP_df, LMPP_VS_CLP_df, GMP_VS_LMPP_df, CMP_VS_MPP_df,CMP_VS_GMP_df, CMP_VS_MEP_df, CMP_VS_LMPP_df, GMP_VS_CLP_df,GMP_VS_MEP_df )){\n",
    "    df_= df_[df_[[\"seqnames\"]] !=\"chrY\",]\n",
    "    if (NROW(df_) >2000){\n",
    "        top2000_regions = df_[sort(abs(df_[[\"Fold\"]]),decreasing=T,index.return=T)[[2]],][1:2000,][[\"region\"]]\n",
    "        top2000_merged_name = gsub(\":\", \"_\", gsub(\"-\", \"_\", top2000_regions, fixed = TRUE) , fixed = TRUE)\n",
    "        tree_guided_combined_regions_top2000 =  c(tree_guided_combined_regions_top2000,top2000_merged_name )\n",
    "    }else{ \n",
    "        all_regions = df_[sort(abs(df_[[\"Fold\"]]),decreasing=T,index.return=T)[[2]],][[\"region\"]]\n",
    "        all_regions_merged_name = gsub(\":\", \"_\", gsub(\"-\", \"_\", all_regions, fixed = TRUE) , fixed = TRUE)\n",
    "        tree_guided_combined_regions_top2000 =  c(tree_guided_combined_regions_top2000,all_regions_merged_name )\n",
    "    }\n",
    "}\n",
    "\n",
    "\n"
   ]
  },
  {
   "cell_type": "code",
   "execution_count": 32,
   "id": "3788ba52-0b3c-4a53-93e8-6980b2b3390b",
   "metadata": {
    "tags": []
   },
   "outputs": [
    {
     "data": {
      "text/html": [
       "6225"
      ],
      "text/latex": [
       "6225"
      ],
      "text/markdown": [
       "6225"
      ],
      "text/plain": [
       "[1] 6225"
      ]
     },
     "metadata": {},
     "output_type": "display_data"
    }
   ],
   "source": [
    "length(tree_guided_combined_regions_top2000)"
   ]
  },
  {
   "cell_type": "code",
   "execution_count": 33,
   "id": "7694ecda-256c-431c-bc39-ee31014305f8",
   "metadata": {},
   "outputs": [],
   "source": [
    "tree_guided_combined_regions_top2000_sorted = sort(tree_guided_combined_regions_top2000)\n"
   ]
  },
  {
   "cell_type": "code",
   "execution_count": 34,
   "id": "c87ae6d1-a9f2-4cff-b59a-e6d1b9714e6b",
   "metadata": {},
   "outputs": [
    {
     "name": "stderr",
     "output_type": "stream",
     "text": [
      "── \u001b[1mAttaching packages\u001b[22m ───────────────────────────────────────────────────────────────────────────────────────────────────────────────────────────────────────── tidyverse 1.3.1 ──\n",
      "\n",
      "\u001b[32m✔\u001b[39m \u001b[34mtibble \u001b[39m 3.1.6     \u001b[32m✔\u001b[39m \u001b[34mpurrr  \u001b[39m 0.3.4\n",
      "\u001b[32m✔\u001b[39m \u001b[34mtidyr  \u001b[39m 1.2.1     \u001b[32m✔\u001b[39m \u001b[34mstringr\u001b[39m 1.4.0\n",
      "\u001b[32m✔\u001b[39m \u001b[34mreadr  \u001b[39m 2.1.3     \n",
      "\n",
      "── \u001b[1mConflicts\u001b[22m ──────────────────────────────────────────────────────────────────────────────────────────────────────────────────────────────────────────── tidyverse_conflicts() ──\n",
      "\u001b[31m✖\u001b[39m \u001b[34mggplot2\u001b[39m::\u001b[32mPosition()\u001b[39m masks \u001b[34mBiocGenerics\u001b[39m::Position(), \u001b[34mbase\u001b[39m::Position()\n",
      "\u001b[31m✖\u001b[39m \u001b[34mdplyr\u001b[39m::\u001b[32mcollapse()\u001b[39m   masks \u001b[34mIRanges\u001b[39m::collapse()\n",
      "\u001b[31m✖\u001b[39m \u001b[34mdplyr\u001b[39m::\u001b[32mcombine()\u001b[39m    masks \u001b[34mBiobase\u001b[39m::combine(), \u001b[34mBiocGenerics\u001b[39m::combine()\n",
      "\u001b[31m✖\u001b[39m \u001b[34mdplyr\u001b[39m::\u001b[32mcount()\u001b[39m      masks \u001b[34mmatrixStats\u001b[39m::count()\n",
      "\u001b[31m✖\u001b[39m \u001b[34mdplyr\u001b[39m::\u001b[32mdesc()\u001b[39m       masks \u001b[34mIRanges\u001b[39m::desc()\n",
      "\u001b[31m✖\u001b[39m \u001b[34mtidyr\u001b[39m::\u001b[32mexpand()\u001b[39m     masks \u001b[34mS4Vectors\u001b[39m::expand()\n",
      "\u001b[31m✖\u001b[39m \u001b[34mdplyr\u001b[39m::\u001b[32mfilter()\u001b[39m     masks \u001b[34mstats\u001b[39m::filter()\n",
      "\u001b[31m✖\u001b[39m \u001b[34mdplyr\u001b[39m::\u001b[32mfirst()\u001b[39m      masks \u001b[34mS4Vectors\u001b[39m::first()\n",
      "\u001b[31m✖\u001b[39m \u001b[34mdplyr\u001b[39m::\u001b[32mlag()\u001b[39m        masks \u001b[34mstats\u001b[39m::lag()\n",
      "\u001b[31m✖\u001b[39m \u001b[34mpurrr\u001b[39m::\u001b[32mreduce()\u001b[39m     masks \u001b[34mGenomicRanges\u001b[39m::reduce(), \u001b[34mIRanges\u001b[39m::reduce()\n",
      "\u001b[31m✖\u001b[39m \u001b[34mdplyr\u001b[39m::\u001b[32mrename()\u001b[39m     masks \u001b[34mS4Vectors\u001b[39m::rename()\n",
      "\u001b[31m✖\u001b[39m \u001b[34mdplyr\u001b[39m::\u001b[32mslice()\u001b[39m      masks \u001b[34mIRanges\u001b[39m::slice()\n",
      "\n"
     ]
    }
   ],
   "source": [
    "library(tidyverse)\n",
    "tree_guided_combined_regions_top2000_3col = as.data.frame(tree_guided_combined_regions_top2000_sorted) %>% \n",
    "   separate(tree_guided_combined_regions_top2000_sorted, into = c(\"seq\", \"start\", \"end\"), sep=\"_\")\n"
   ]
  },
  {
   "cell_type": "code",
   "execution_count": 35,
   "id": "e5880009-c2ac-407c-98e1-b28deb05ce1e",
   "metadata": {},
   "outputs": [],
   "source": [
    "write.table(tree_guided_combined_regions_top2000_3col, \"../../../data/Buenrostro2018_FACS_BM_scATAC/feasibility_study_synthetic_prototypes/03_get_differentially_accessible_regions/buenrostro2018_sc_aggregated_pseudobulk_tree_guided_top2k_differential_cCREs_FDR0.05.bed\", sep = \"\\t\", col.names=FALSE,quote=FALSE, row.names = FALSE)\n"
   ]
  },
  {
   "cell_type": "markdown",
   "id": "a16d375b-a075-4724-998b-1beb0f5d0458",
   "metadata": {},
   "source": [
    "\n",
    "cd ../../../data/Buenrostro2018_FACS_BM_scATAC/feasibility_study_synthetic_prototypes/03_get_differentially_accessible_regions/\n",
    "\n",
    "sort-bed buenrostro2018_sc_aggregated_pseudobulk_tree_guided_top2k_differential_cCREs_FDR0.05.bed >  buenrostro2018_sc_aggregated_pseudobulk_tree_guided_top2k_differential_cCREs_FDR0.05_sorted.bed \n",
    "\n",
    "bedops --element-of 1 ../../../data/ENCODE_cCREs/V2.hg38-cCREs-3col_sorted.bed buenrostro2018_sc_aggregated_pseudobulk_tree_guided_top2k_differential_cCREs_FDR0.05_sorted.bed  > buenrostro2018_sc_aggregated_pseudobulk_tree_guided_top2k_differential_cCREs_FDR0.05_sorted_exactcCREs.bed"
   ]
  },
  {
   "cell_type": "code",
   "execution_count": null,
   "id": "2c9efc2b-aba5-4355-b5b1-64fbcd7e8c85",
   "metadata": {},
   "outputs": [],
   "source": []
  },
  {
   "cell_type": "code",
   "execution_count": 36,
   "id": "e6a21233-d29f-4a43-b6bb-49fad3e4b30e",
   "metadata": {
    "tags": []
   },
   "outputs": [],
   "source": [
    "exact_match_differential_cCREs = read.table(\"../../../data/Buenrostro2018_FACS_BM_scATAC/feasibility_study_synthetic_prototypes/03_get_differentially_accessible_regions/buenrostro2018_sc_aggregated_pseudobulk_tree_guided_top2k_differential_cCREs_FDR0.05_sorted_exactcCREs.bed\", header = FALSE, sep=\"\\t\")\n",
    "\n"
   ]
  },
  {
   "cell_type": "code",
   "execution_count": 37,
   "id": "b9fa7076-c534-4a5f-bb3f-bbfdcc573caf",
   "metadata": {
    "tags": []
   },
   "outputs": [
    {
     "data": {
      "text/html": [
       "<table class=\"dataframe\">\n",
       "<caption>A data.frame: 6 × 3</caption>\n",
       "<thead>\n",
       "\t<tr><th></th><th scope=col>V1</th><th scope=col>V2</th><th scope=col>V3</th></tr>\n",
       "\t<tr><th></th><th scope=col>&lt;chr&gt;</th><th scope=col>&lt;int&gt;</th><th scope=col>&lt;int&gt;</th></tr>\n",
       "</thead>\n",
       "<tbody>\n",
       "\t<tr><th scope=row>1</th><td>chr1</td><td>1143719</td><td>1144060</td></tr>\n",
       "\t<tr><th scope=row>2</th><td>chr1</td><td>1144085</td><td>1144425</td></tr>\n",
       "\t<tr><th scope=row>3</th><td>chr1</td><td>1144468</td><td>1144736</td></tr>\n",
       "\t<tr><th scope=row>4</th><td>chr1</td><td>1144786</td><td>1145009</td></tr>\n",
       "\t<tr><th scope=row>5</th><td>chr1</td><td>1145090</td><td>1145439</td></tr>\n",
       "\t<tr><th scope=row>6</th><td>chr1</td><td>1370999</td><td>1371293</td></tr>\n",
       "</tbody>\n",
       "</table>\n"
      ],
      "text/latex": [
       "A data.frame: 6 × 3\n",
       "\\begin{tabular}{r|lll}\n",
       "  & V1 & V2 & V3\\\\\n",
       "  & <chr> & <int> & <int>\\\\\n",
       "\\hline\n",
       "\t1 & chr1 & 1143719 & 1144060\\\\\n",
       "\t2 & chr1 & 1144085 & 1144425\\\\\n",
       "\t3 & chr1 & 1144468 & 1144736\\\\\n",
       "\t4 & chr1 & 1144786 & 1145009\\\\\n",
       "\t5 & chr1 & 1145090 & 1145439\\\\\n",
       "\t6 & chr1 & 1370999 & 1371293\\\\\n",
       "\\end{tabular}\n"
      ],
      "text/markdown": [
       "\n",
       "A data.frame: 6 × 3\n",
       "\n",
       "| <!--/--> | V1 &lt;chr&gt; | V2 &lt;int&gt; | V3 &lt;int&gt; |\n",
       "|---|---|---|---|\n",
       "| 1 | chr1 | 1143719 | 1144060 |\n",
       "| 2 | chr1 | 1144085 | 1144425 |\n",
       "| 3 | chr1 | 1144468 | 1144736 |\n",
       "| 4 | chr1 | 1144786 | 1145009 |\n",
       "| 5 | chr1 | 1145090 | 1145439 |\n",
       "| 6 | chr1 | 1370999 | 1371293 |\n",
       "\n"
      ],
      "text/plain": [
       "  V1   V2      V3     \n",
       "1 chr1 1143719 1144060\n",
       "2 chr1 1144085 1144425\n",
       "3 chr1 1144468 1144736\n",
       "4 chr1 1144786 1145009\n",
       "5 chr1 1145090 1145439\n",
       "6 chr1 1370999 1371293"
      ]
     },
     "metadata": {},
     "output_type": "display_data"
    }
   ],
   "source": [
    "head(exact_match_differential_cCREs)"
   ]
  },
  {
   "cell_type": "code",
   "execution_count": 38,
   "id": "a203fd82-6fd8-4a4f-893a-a943522142e1",
   "metadata": {
    "tags": []
   },
   "outputs": [],
   "source": [
    "exact_match_differential_cCREs[\"region\"]=paste(exact_match_differential_cCREs$V1, exact_match_differential_cCREs$V2, exact_match_differential_cCREs$V3, sep=\"_\")"
   ]
  },
  {
   "cell_type": "code",
   "execution_count": 39,
   "id": "20d26a2d-7f9a-413d-a6b7-fff687951ea3",
   "metadata": {
    "tags": []
   },
   "outputs": [
    {
     "data": {
      "text/html": [
       "<style>\n",
       ".list-inline {list-style: none; margin:0; padding: 0}\n",
       ".list-inline>li {display: inline-block}\n",
       ".list-inline>li:not(:last-child)::after {content: \"\\00b7\"; padding: 0 .5ex}\n",
       "</style>\n",
       "<ol class=list-inline><li>9121</li><li>4</li></ol>\n"
      ],
      "text/latex": [
       "\\begin{enumerate*}\n",
       "\\item 9121\n",
       "\\item 4\n",
       "\\end{enumerate*}\n"
      ],
      "text/markdown": [
       "1. 9121\n",
       "2. 4\n",
       "\n",
       "\n"
      ],
      "text/plain": [
       "[1] 9121    4"
      ]
     },
     "metadata": {},
     "output_type": "display_data"
    }
   ],
   "source": [
    "dim(exact_match_differential_cCREs)"
   ]
  },
  {
   "cell_type": "code",
   "execution_count": 40,
   "id": "8ac28773-8688-4d49-90f4-128c328280ef",
   "metadata": {
    "tags": []
   },
   "outputs": [],
   "source": [
    "write.table(exact_match_differential_cCREs[\"region\"], \"../../../data/Buenrostro2018_FACS_BM_scATAC/feasibility_study_synthetic_prototypes/03_get_differentially_accessible_regions/buenrostro2018_sc_aggregated_pseudobulk_tree_guided_top2k_differential_cCREs_FDR0.05_sorted_exactcCREs.csv\", sep = \",\", col.names=FALSE,quote=FALSE, row.names = FALSE)\n"
   ]
  },
  {
   "cell_type": "code",
   "execution_count": 41,
   "id": "5d3c9738-672f-4803-b020-1ed66eedc327",
   "metadata": {},
   "outputs": [],
   "source": [
    "saveRDS(corces_norm, \"./WS/buenrostro2018_sc_aggregated_pseudobulk_tree_guided_top2k_corces_norm.RDS\")\n"
   ]
  },
  {
   "cell_type": "markdown",
   "id": "f4c185e1-4f10-42b6-a432-c32fe49e829e",
   "metadata": {},
   "source": [
    "# ------------------------------------------------------------\n",
    "### SELECT THE FEATURES WITHOUT CONSIDERING THE TREE STRUCTURE\n",
    "### PAIRWISE COMAPRISON OF CELL TYPES\n",
    "#### unsupervised feature selection\n",
    "# ------------------------------------------------------------"
   ]
  },
  {
   "cell_type": "markdown",
   "id": "c9997367-d9e4-46a4-bb4c-b76a86731da5",
   "metadata": {},
   "source": [
    "corces_norm"
   ]
  },
  {
   "cell_type": "code",
   "execution_count": 2,
   "id": "4054602f-3cd7-4028-9588-55ff3ca23b60",
   "metadata": {},
   "outputs": [],
   "source": [
    "# load data\n",
    "corces_norm = readRDS(\"/project/scATAC_analysis/scATAcat_notebooks_for_paper/jan2024/preprocessing/Buenrostro2018_FACS_BM_scATAC/feasibility_study_synthetic_prototypes/WS/buenrostro2018_sc_aggregated_pseudobulk_tree_guided_top2k_corces_norm.RDS\")"
   ]
  },
  {
   "cell_type": "code",
   "execution_count": 3,
   "id": "3e7a2fc7-b14f-446f-bcfb-f025cec1f725",
   "metadata": {
    "tags": []
   },
   "outputs": [
    {
     "data": {
      "text/html": [
       "<table class=\"dataframe\">\n",
       "<caption>A data.frame: 21 × 6</caption>\n",
       "<thead>\n",
       "\t<tr><th></th><th scope=col>Factor</th><th scope=col>Group</th><th scope=col>Samples</th><th scope=col>Group2</th><th scope=col>Samples2</th><th scope=col>DB.DESeq2</th></tr>\n",
       "\t<tr><th></th><th scope=col>&lt;chr&gt;</th><th scope=col>&lt;chr&gt;</th><th scope=col>&lt;chr&gt;</th><th scope=col>&lt;chr&gt;</th><th scope=col>&lt;chr&gt;</th><th scope=col>&lt;chr&gt;</th></tr>\n",
       "</thead>\n",
       "<tbody>\n",
       "\t<tr><th scope=row>1</th><td>Condition</td><td>CMP </td><td>2</td><td>HSC </td><td>2</td><td>653 </td></tr>\n",
       "\t<tr><th scope=row>2</th><td>Condition</td><td>CMP </td><td>2</td><td>GMP </td><td>2</td><td>875 </td></tr>\n",
       "\t<tr><th scope=row>3</th><td>Condition</td><td>CMP </td><td>2</td><td>MEP </td><td>2</td><td>1637</td></tr>\n",
       "\t<tr><th scope=row>4</th><td>Condition</td><td>CMP </td><td>2</td><td>MPP </td><td>2</td><td>71  </td></tr>\n",
       "\t<tr><th scope=row>5</th><td>Condition</td><td>CMP </td><td>2</td><td>CLP </td><td>2</td><td>2040</td></tr>\n",
       "\t<tr><th scope=row>6</th><td>Condition</td><td>CMP </td><td>2</td><td>LMPP</td><td>2</td><td>788 </td></tr>\n",
       "\t<tr><th scope=row>7</th><td>Condition</td><td>HSC </td><td>2</td><td>GMP </td><td>2</td><td>787 </td></tr>\n",
       "\t<tr><th scope=row>8</th><td>Condition</td><td>HSC </td><td>2</td><td>MEP </td><td>2</td><td>7053</td></tr>\n",
       "\t<tr><th scope=row>9</th><td>Condition</td><td>HSC </td><td>2</td><td>MPP </td><td>2</td><td>0   </td></tr>\n",
       "\t<tr><th scope=row>10</th><td>Condition</td><td>HSC </td><td>2</td><td>CLP </td><td>2</td><td>668 </td></tr>\n",
       "\t<tr><th scope=row>11</th><td>Condition</td><td>HSC </td><td>2</td><td>LMPP</td><td>2</td><td>71  </td></tr>\n",
       "\t<tr><th scope=row>12</th><td>Condition</td><td>GMP </td><td>2</td><td>MEP </td><td>2</td><td>8602</td></tr>\n",
       "\t<tr><th scope=row>13</th><td>Condition</td><td>GMP </td><td>2</td><td>MPP </td><td>2</td><td>942 </td></tr>\n",
       "\t<tr><th scope=row>14</th><td>Condition</td><td>GMP </td><td>2</td><td>CLP </td><td>2</td><td>153 </td></tr>\n",
       "\t<tr><th scope=row>15</th><td>Condition</td><td>GMP </td><td>2</td><td>LMPP</td><td>2</td><td>95  </td></tr>\n",
       "\t<tr><th scope=row>16</th><td>Condition</td><td>MEP </td><td>2</td><td>MPP </td><td>2</td><td>3364</td></tr>\n",
       "\t<tr><th scope=row>17</th><td>Condition</td><td>MEP </td><td>2</td><td>CLP </td><td>2</td><td>3239</td></tr>\n",
       "\t<tr><th scope=row>18</th><td>Condition</td><td>MEP </td><td>2</td><td>LMPP</td><td>2</td><td>5438</td></tr>\n",
       "\t<tr><th scope=row>19</th><td>Condition</td><td>MPP </td><td>2</td><td>CLP </td><td>2</td><td>1024</td></tr>\n",
       "\t<tr><th scope=row>20</th><td>Condition</td><td>MPP </td><td>2</td><td>LMPP</td><td>2</td><td>55  </td></tr>\n",
       "\t<tr><th scope=row>21</th><td>Condition</td><td>LMPP</td><td>2</td><td>CLP </td><td>2</td><td>551 </td></tr>\n",
       "</tbody>\n",
       "</table>\n"
      ],
      "text/latex": [
       "A data.frame: 21 × 6\n",
       "\\begin{tabular}{r|llllll}\n",
       "  & Factor & Group & Samples & Group2 & Samples2 & DB.DESeq2\\\\\n",
       "  & <chr> & <chr> & <chr> & <chr> & <chr> & <chr>\\\\\n",
       "\\hline\n",
       "\t1 & Condition & CMP  & 2 & HSC  & 2 & 653 \\\\\n",
       "\t2 & Condition & CMP  & 2 & GMP  & 2 & 875 \\\\\n",
       "\t3 & Condition & CMP  & 2 & MEP  & 2 & 1637\\\\\n",
       "\t4 & Condition & CMP  & 2 & MPP  & 2 & 71  \\\\\n",
       "\t5 & Condition & CMP  & 2 & CLP  & 2 & 2040\\\\\n",
       "\t6 & Condition & CMP  & 2 & LMPP & 2 & 788 \\\\\n",
       "\t7 & Condition & HSC  & 2 & GMP  & 2 & 787 \\\\\n",
       "\t8 & Condition & HSC  & 2 & MEP  & 2 & 7053\\\\\n",
       "\t9 & Condition & HSC  & 2 & MPP  & 2 & 0   \\\\\n",
       "\t10 & Condition & HSC  & 2 & CLP  & 2 & 668 \\\\\n",
       "\t11 & Condition & HSC  & 2 & LMPP & 2 & 71  \\\\\n",
       "\t12 & Condition & GMP  & 2 & MEP  & 2 & 8602\\\\\n",
       "\t13 & Condition & GMP  & 2 & MPP  & 2 & 942 \\\\\n",
       "\t14 & Condition & GMP  & 2 & CLP  & 2 & 153 \\\\\n",
       "\t15 & Condition & GMP  & 2 & LMPP & 2 & 95  \\\\\n",
       "\t16 & Condition & MEP  & 2 & MPP  & 2 & 3364\\\\\n",
       "\t17 & Condition & MEP  & 2 & CLP  & 2 & 3239\\\\\n",
       "\t18 & Condition & MEP  & 2 & LMPP & 2 & 5438\\\\\n",
       "\t19 & Condition & MPP  & 2 & CLP  & 2 & 1024\\\\\n",
       "\t20 & Condition & MPP  & 2 & LMPP & 2 & 55  \\\\\n",
       "\t21 & Condition & LMPP & 2 & CLP  & 2 & 551 \\\\\n",
       "\\end{tabular}\n"
      ],
      "text/markdown": [
       "\n",
       "A data.frame: 21 × 6\n",
       "\n",
       "| <!--/--> | Factor &lt;chr&gt; | Group &lt;chr&gt; | Samples &lt;chr&gt; | Group2 &lt;chr&gt; | Samples2 &lt;chr&gt; | DB.DESeq2 &lt;chr&gt; |\n",
       "|---|---|---|---|---|---|---|\n",
       "| 1 | Condition | CMP  | 2 | HSC  | 2 | 653  |\n",
       "| 2 | Condition | CMP  | 2 | GMP  | 2 | 875  |\n",
       "| 3 | Condition | CMP  | 2 | MEP  | 2 | 1637 |\n",
       "| 4 | Condition | CMP  | 2 | MPP  | 2 | 71   |\n",
       "| 5 | Condition | CMP  | 2 | CLP  | 2 | 2040 |\n",
       "| 6 | Condition | CMP  | 2 | LMPP | 2 | 788  |\n",
       "| 7 | Condition | HSC  | 2 | GMP  | 2 | 787  |\n",
       "| 8 | Condition | HSC  | 2 | MEP  | 2 | 7053 |\n",
       "| 9 | Condition | HSC  | 2 | MPP  | 2 | 0    |\n",
       "| 10 | Condition | HSC  | 2 | CLP  | 2 | 668  |\n",
       "| 11 | Condition | HSC  | 2 | LMPP | 2 | 71   |\n",
       "| 12 | Condition | GMP  | 2 | MEP  | 2 | 8602 |\n",
       "| 13 | Condition | GMP  | 2 | MPP  | 2 | 942  |\n",
       "| 14 | Condition | GMP  | 2 | CLP  | 2 | 153  |\n",
       "| 15 | Condition | GMP  | 2 | LMPP | 2 | 95   |\n",
       "| 16 | Condition | MEP  | 2 | MPP  | 2 | 3364 |\n",
       "| 17 | Condition | MEP  | 2 | CLP  | 2 | 3239 |\n",
       "| 18 | Condition | MEP  | 2 | LMPP | 2 | 5438 |\n",
       "| 19 | Condition | MPP  | 2 | CLP  | 2 | 1024 |\n",
       "| 20 | Condition | MPP  | 2 | LMPP | 2 | 55   |\n",
       "| 21 | Condition | LMPP | 2 | CLP  | 2 | 551  |\n",
       "\n"
      ],
      "text/plain": [
       "   Factor    Group Samples Group2 Samples2 DB.DESeq2\n",
       "1  Condition CMP   2       HSC    2        653      \n",
       "2  Condition CMP   2       GMP    2        875      \n",
       "3  Condition CMP   2       MEP    2        1637     \n",
       "4  Condition CMP   2       MPP    2        71       \n",
       "5  Condition CMP   2       CLP    2        2040     \n",
       "6  Condition CMP   2       LMPP   2        788      \n",
       "7  Condition HSC   2       GMP    2        787      \n",
       "8  Condition HSC   2       MEP    2        7053     \n",
       "9  Condition HSC   2       MPP    2        0        \n",
       "10 Condition HSC   2       CLP    2        668      \n",
       "11 Condition HSC   2       LMPP   2        71       \n",
       "12 Condition GMP   2       MEP    2        8602     \n",
       "13 Condition GMP   2       MPP    2        942      \n",
       "14 Condition GMP   2       CLP    2        153      \n",
       "15 Condition GMP   2       LMPP   2        95       \n",
       "16 Condition MEP   2       MPP    2        3364     \n",
       "17 Condition MEP   2       CLP    2        3239     \n",
       "18 Condition MEP   2       LMPP   2        5438     \n",
       "19 Condition MPP   2       CLP    2        1024     \n",
       "20 Condition MPP   2       LMPP   2        55       \n",
       "21 Condition LMPP  2       CLP    2        551      "
      ]
     },
     "metadata": {},
     "output_type": "display_data"
    }
   ],
   "source": [
    "contrast_matrix = dba.show(corces_norm, bContrasts = TRUE)\n",
    "contrast_matrix"
   ]
  },
  {
   "cell_type": "code",
   "execution_count": 4,
   "id": "40a793e9-1bb6-49fe-a261-d362f9ca9761",
   "metadata": {},
   "outputs": [],
   "source": [
    "granges_to_df <- function(granges_obj, contrast){\n",
    "    report <- dba.report(granges_obj, contrast = contrast)\n",
    "    report_df <- as.data.frame(report)\n",
    "    region= paste(report_df$seqnames,report_df$start,sep=\":\")\n",
    "    region=paste(region,report_df$end,sep=\"-\")\n",
    "    report_df[\"region\"]=region\n",
    "    return(report_df)\n",
    "}"
   ]
  },
  {
   "cell_type": "code",
   "execution_count": 5,
   "id": "55ccc6c8-a2bb-4861-8b56-3f63ba7ecc7b",
   "metadata": {},
   "outputs": [
    {
     "name": "stdout",
     "output_type": "stream",
     "text": [
      "[1] \"CMP_VS_HSC\"\n",
      "[1] \"CMP_VS_GMP\"\n",
      "[1] \"CMP_VS_MEP\"\n",
      "[1] \"CMP_VS_MPP\"\n",
      "[1] \"CMP_VS_CLP\"\n",
      "[1] \"CMP_VS_LMPP\"\n",
      "[1] \"HSC_VS_GMP\"\n",
      "[1] \"HSC_VS_MEP\"\n",
      "[1] \"HSC_VS_MPP\"\n",
      "[1] \"HSC_VS_CLP\"\n",
      "[1] \"HSC_VS_LMPP\"\n",
      "[1] \"GMP_VS_MEP\"\n",
      "[1] \"GMP_VS_MPP\"\n",
      "[1] \"GMP_VS_CLP\"\n",
      "[1] \"GMP_VS_LMPP\"\n",
      "[1] \"MEP_VS_MPP\"\n",
      "[1] \"MEP_VS_CLP\"\n",
      "[1] \"MEP_VS_LMPP\"\n",
      "[1] \"MPP_VS_CLP\"\n",
      "[1] \"MPP_VS_LMPP\"\n",
      "[1] \"LMPP_VS_CLP\"\n"
     ]
    }
   ],
   "source": [
    "for (i in seq(1, NROW(contrast_matrix))){\n",
    "    save_name = paste( gsub(\"-\", \"_\", contrast_matrix[i,2], fixed = TRUE) , \"_VS_\" ,gsub(\"-\", \"_\", contrast_matrix[i,4], fixed = TRUE), sep=\"\")\n",
    "    \n",
    "    print(save_name)\n",
    "}"
   ]
  },
  {
   "cell_type": "code",
   "execution_count": 6,
   "id": "f346c2f2-9f3f-4a07-a840-8c431401a3f3",
   "metadata": {
    "tags": []
   },
   "outputs": [
    {
     "data": {
      "text/html": [
       "<table class=\"dataframe\">\n",
       "<caption>A data.frame: 21 × 6</caption>\n",
       "<thead>\n",
       "\t<tr><th></th><th scope=col>Factor</th><th scope=col>Group</th><th scope=col>Samples</th><th scope=col>Group2</th><th scope=col>Samples2</th><th scope=col>DB.DESeq2</th></tr>\n",
       "\t<tr><th></th><th scope=col>&lt;chr&gt;</th><th scope=col>&lt;chr&gt;</th><th scope=col>&lt;chr&gt;</th><th scope=col>&lt;chr&gt;</th><th scope=col>&lt;chr&gt;</th><th scope=col>&lt;chr&gt;</th></tr>\n",
       "</thead>\n",
       "<tbody>\n",
       "\t<tr><th scope=row>1</th><td>Condition</td><td>CMP </td><td>2</td><td>HSC </td><td>2</td><td>653 </td></tr>\n",
       "\t<tr><th scope=row>2</th><td>Condition</td><td>CMP </td><td>2</td><td>GMP </td><td>2</td><td>875 </td></tr>\n",
       "\t<tr><th scope=row>3</th><td>Condition</td><td>CMP </td><td>2</td><td>MEP </td><td>2</td><td>1637</td></tr>\n",
       "\t<tr><th scope=row>4</th><td>Condition</td><td>CMP </td><td>2</td><td>MPP </td><td>2</td><td>71  </td></tr>\n",
       "\t<tr><th scope=row>5</th><td>Condition</td><td>CMP </td><td>2</td><td>CLP </td><td>2</td><td>2040</td></tr>\n",
       "\t<tr><th scope=row>6</th><td>Condition</td><td>CMP </td><td>2</td><td>LMPP</td><td>2</td><td>788 </td></tr>\n",
       "\t<tr><th scope=row>7</th><td>Condition</td><td>HSC </td><td>2</td><td>GMP </td><td>2</td><td>787 </td></tr>\n",
       "\t<tr><th scope=row>8</th><td>Condition</td><td>HSC </td><td>2</td><td>MEP </td><td>2</td><td>7053</td></tr>\n",
       "\t<tr><th scope=row>9</th><td>Condition</td><td>HSC </td><td>2</td><td>MPP </td><td>2</td><td>0   </td></tr>\n",
       "\t<tr><th scope=row>10</th><td>Condition</td><td>HSC </td><td>2</td><td>CLP </td><td>2</td><td>668 </td></tr>\n",
       "\t<tr><th scope=row>11</th><td>Condition</td><td>HSC </td><td>2</td><td>LMPP</td><td>2</td><td>71  </td></tr>\n",
       "\t<tr><th scope=row>12</th><td>Condition</td><td>GMP </td><td>2</td><td>MEP </td><td>2</td><td>8602</td></tr>\n",
       "\t<tr><th scope=row>13</th><td>Condition</td><td>GMP </td><td>2</td><td>MPP </td><td>2</td><td>942 </td></tr>\n",
       "\t<tr><th scope=row>14</th><td>Condition</td><td>GMP </td><td>2</td><td>CLP </td><td>2</td><td>153 </td></tr>\n",
       "\t<tr><th scope=row>15</th><td>Condition</td><td>GMP </td><td>2</td><td>LMPP</td><td>2</td><td>95  </td></tr>\n",
       "\t<tr><th scope=row>16</th><td>Condition</td><td>MEP </td><td>2</td><td>MPP </td><td>2</td><td>3364</td></tr>\n",
       "\t<tr><th scope=row>17</th><td>Condition</td><td>MEP </td><td>2</td><td>CLP </td><td>2</td><td>3239</td></tr>\n",
       "\t<tr><th scope=row>18</th><td>Condition</td><td>MEP </td><td>2</td><td>LMPP</td><td>2</td><td>5438</td></tr>\n",
       "\t<tr><th scope=row>19</th><td>Condition</td><td>MPP </td><td>2</td><td>CLP </td><td>2</td><td>1024</td></tr>\n",
       "\t<tr><th scope=row>20</th><td>Condition</td><td>MPP </td><td>2</td><td>LMPP</td><td>2</td><td>55  </td></tr>\n",
       "\t<tr><th scope=row>21</th><td>Condition</td><td>LMPP</td><td>2</td><td>CLP </td><td>2</td><td>551 </td></tr>\n",
       "</tbody>\n",
       "</table>\n"
      ],
      "text/latex": [
       "A data.frame: 21 × 6\n",
       "\\begin{tabular}{r|llllll}\n",
       "  & Factor & Group & Samples & Group2 & Samples2 & DB.DESeq2\\\\\n",
       "  & <chr> & <chr> & <chr> & <chr> & <chr> & <chr>\\\\\n",
       "\\hline\n",
       "\t1 & Condition & CMP  & 2 & HSC  & 2 & 653 \\\\\n",
       "\t2 & Condition & CMP  & 2 & GMP  & 2 & 875 \\\\\n",
       "\t3 & Condition & CMP  & 2 & MEP  & 2 & 1637\\\\\n",
       "\t4 & Condition & CMP  & 2 & MPP  & 2 & 71  \\\\\n",
       "\t5 & Condition & CMP  & 2 & CLP  & 2 & 2040\\\\\n",
       "\t6 & Condition & CMP  & 2 & LMPP & 2 & 788 \\\\\n",
       "\t7 & Condition & HSC  & 2 & GMP  & 2 & 787 \\\\\n",
       "\t8 & Condition & HSC  & 2 & MEP  & 2 & 7053\\\\\n",
       "\t9 & Condition & HSC  & 2 & MPP  & 2 & 0   \\\\\n",
       "\t10 & Condition & HSC  & 2 & CLP  & 2 & 668 \\\\\n",
       "\t11 & Condition & HSC  & 2 & LMPP & 2 & 71  \\\\\n",
       "\t12 & Condition & GMP  & 2 & MEP  & 2 & 8602\\\\\n",
       "\t13 & Condition & GMP  & 2 & MPP  & 2 & 942 \\\\\n",
       "\t14 & Condition & GMP  & 2 & CLP  & 2 & 153 \\\\\n",
       "\t15 & Condition & GMP  & 2 & LMPP & 2 & 95  \\\\\n",
       "\t16 & Condition & MEP  & 2 & MPP  & 2 & 3364\\\\\n",
       "\t17 & Condition & MEP  & 2 & CLP  & 2 & 3239\\\\\n",
       "\t18 & Condition & MEP  & 2 & LMPP & 2 & 5438\\\\\n",
       "\t19 & Condition & MPP  & 2 & CLP  & 2 & 1024\\\\\n",
       "\t20 & Condition & MPP  & 2 & LMPP & 2 & 55  \\\\\n",
       "\t21 & Condition & LMPP & 2 & CLP  & 2 & 551 \\\\\n",
       "\\end{tabular}\n"
      ],
      "text/markdown": [
       "\n",
       "A data.frame: 21 × 6\n",
       "\n",
       "| <!--/--> | Factor &lt;chr&gt; | Group &lt;chr&gt; | Samples &lt;chr&gt; | Group2 &lt;chr&gt; | Samples2 &lt;chr&gt; | DB.DESeq2 &lt;chr&gt; |\n",
       "|---|---|---|---|---|---|---|\n",
       "| 1 | Condition | CMP  | 2 | HSC  | 2 | 653  |\n",
       "| 2 | Condition | CMP  | 2 | GMP  | 2 | 875  |\n",
       "| 3 | Condition | CMP  | 2 | MEP  | 2 | 1637 |\n",
       "| 4 | Condition | CMP  | 2 | MPP  | 2 | 71   |\n",
       "| 5 | Condition | CMP  | 2 | CLP  | 2 | 2040 |\n",
       "| 6 | Condition | CMP  | 2 | LMPP | 2 | 788  |\n",
       "| 7 | Condition | HSC  | 2 | GMP  | 2 | 787  |\n",
       "| 8 | Condition | HSC  | 2 | MEP  | 2 | 7053 |\n",
       "| 9 | Condition | HSC  | 2 | MPP  | 2 | 0    |\n",
       "| 10 | Condition | HSC  | 2 | CLP  | 2 | 668  |\n",
       "| 11 | Condition | HSC  | 2 | LMPP | 2 | 71   |\n",
       "| 12 | Condition | GMP  | 2 | MEP  | 2 | 8602 |\n",
       "| 13 | Condition | GMP  | 2 | MPP  | 2 | 942  |\n",
       "| 14 | Condition | GMP  | 2 | CLP  | 2 | 153  |\n",
       "| 15 | Condition | GMP  | 2 | LMPP | 2 | 95   |\n",
       "| 16 | Condition | MEP  | 2 | MPP  | 2 | 3364 |\n",
       "| 17 | Condition | MEP  | 2 | CLP  | 2 | 3239 |\n",
       "| 18 | Condition | MEP  | 2 | LMPP | 2 | 5438 |\n",
       "| 19 | Condition | MPP  | 2 | CLP  | 2 | 1024 |\n",
       "| 20 | Condition | MPP  | 2 | LMPP | 2 | 55   |\n",
       "| 21 | Condition | LMPP | 2 | CLP  | 2 | 551  |\n",
       "\n"
      ],
      "text/plain": [
       "   Factor    Group Samples Group2 Samples2 DB.DESeq2\n",
       "1  Condition CMP   2       HSC    2        653      \n",
       "2  Condition CMP   2       GMP    2        875      \n",
       "3  Condition CMP   2       MEP    2        1637     \n",
       "4  Condition CMP   2       MPP    2        71       \n",
       "5  Condition CMP   2       CLP    2        2040     \n",
       "6  Condition CMP   2       LMPP   2        788      \n",
       "7  Condition HSC   2       GMP    2        787      \n",
       "8  Condition HSC   2       MEP    2        7053     \n",
       "9  Condition HSC   2       MPP    2        0        \n",
       "10 Condition HSC   2       CLP    2        668      \n",
       "11 Condition HSC   2       LMPP   2        71       \n",
       "12 Condition GMP   2       MEP    2        8602     \n",
       "13 Condition GMP   2       MPP    2        942      \n",
       "14 Condition GMP   2       CLP    2        153      \n",
       "15 Condition GMP   2       LMPP   2        95       \n",
       "16 Condition MEP   2       MPP    2        3364     \n",
       "17 Condition MEP   2       CLP    2        3239     \n",
       "18 Condition MEP   2       LMPP   2        5438     \n",
       "19 Condition MPP   2       CLP    2        1024     \n",
       "20 Condition MPP   2       LMPP   2        55       \n",
       "21 Condition LMPP  2       CLP    2        551      "
      ]
     },
     "metadata": {},
     "output_type": "display_data"
    }
   ],
   "source": [
    "contrast_matrix"
   ]
  },
  {
   "cell_type": "code",
   "execution_count": 7,
   "id": "967ff84a-1d24-4f34-a185-9b760a5c8807",
   "metadata": {
    "tags": []
   },
   "outputs": [
    {
     "data": {
      "image/png": "[encoded data removed]",
      "text/plain": [
       "Plot with title “Color Key\n",
       "and Histogram”"
      ]
     },
     "metadata": {
      "image/png": {
       "height": 420,
       "width": 420
      }
     },
     "output_type": "display_data"
    }
   ],
   "source": [
    "plot(corces_norm)"
   ]
  },
  {
   "cell_type": "code",
   "execution_count": 8,
   "id": "1a976535-e98e-4dea-b34e-b0f0f01de87f",
   "metadata": {
    "tags": []
   },
   "outputs": [
    {
     "name": "stderr",
     "output_type": "stream",
     "text": [
      "Warning message:\n",
      "“No sites above threshold”\n"
     ]
    }
   ],
   "source": [
    "CMP_VS_HSC_df = granges_to_df(corces_norm, contrast = 1)\n",
    "CMP_VS_GMP_df = granges_to_df(corces_norm, contrast = 2)\n",
    "CMP_VS_MEP_df = granges_to_df(corces_norm, contrast = 3)\n",
    "CMP_VS_MPP_df = granges_to_df(corces_norm, contrast = 4)\n",
    "CMP_VS_CLP_df = granges_to_df(corces_norm, contrast = 5)\n",
    "CMP_VS_LMPP_df = granges_to_df(corces_norm, contrast = 6)\n",
    "HSC_VS_GMP_df = granges_to_df(corces_norm, contrast = 7)\n",
    "HSC_VS_MEP_df = granges_to_df(corces_norm, contrast = 8)\n",
    "HSC_VS_MPP_df = granges_to_df(corces_norm, contrast = 9)\n",
    "HSC_VS_CLP_df = granges_to_df(corces_norm, contrast = 10)\n",
    "HSC_VS_LMPP_df = granges_to_df(corces_norm, contrast = 11)\n",
    "GMP_VS_MEP_df = granges_to_df(corces_norm, contrast = 12)\n",
    "GMP_VS_MPP_df = granges_to_df(corces_norm, contrast = 13)\n",
    "GMP_VS_CLP_df = granges_to_df(corces_norm, contrast = 14)\n",
    "GMP_VS_LMPP_df = granges_to_df(corces_norm, contrast = 15)\n",
    "MEP_VS_MPP_df = granges_to_df(corces_norm, contrast = 16)\n",
    "MEP_VS_CLP_df = granges_to_df(corces_norm, contrast = 17)\n",
    "MEP_VS_LMPP_df = granges_to_df(corces_norm, contrast = 18)\n",
    "MPP_VS_CLP_df = granges_to_df(corces_norm, contrast = 19)\n",
    "MPP_VS_LMPP_df = granges_to_df(corces_norm, contrast = 20)\n",
    "LMPP_VS_CLP_df = granges_to_df(corces_norm, contrast = 21)\n"
   ]
  },
  {
   "cell_type": "code",
   "execution_count": 12,
   "id": "4a295512-a1a7-432a-ad69-accaf0982d4a",
   "metadata": {},
   "outputs": [],
   "source": [
    "\n",
    "# SELECT THE FEATURES EITHOUT CONSIDERING THE TREE STRUCTURE\n",
    "\n",
    "# I exclude HSC_VS_MPP_df df because this has no differential reads and returns an empty df\n",
    "\n",
    "pairwise_comparison_combined_regions_top2000 =c()\n",
    "for (df_ in list(CMP_VS_HSC_df,CMP_VS_GMP_df,CMP_VS_MEP_df,CMP_VS_MPP_df,CMP_VS_CLP_df,CMP_VS_LMPP_df,HSC_VS_GMP_df,HSC_VS_MEP_df,HSC_VS_CLP_df,HSC_VS_LMPP_df,GMP_VS_MEP_df,GMP_VS_MPP_df,GMP_VS_CLP_df,GMP_VS_LMPP_df,MEP_VS_MPP_df,MEP_VS_CLP_df,MEP_VS_LMPP_df,MPP_VS_CLP_df,MPP_VS_LMPP_df,LMPP_VS_CLP_df)){\n",
    "    df_= df_[df_[[\"seqnames\"]] !=\"chrY\",]\n",
    "    if (NROW(df_) >2000){\n",
    "        top2000_regions = df_[sort(abs(df_[[\"Fold\"]]),decreasing=T,index.return=T)[[2]],][1:2000,][[\"region\"]]\n",
    "        top2000_merged_name = gsub(\":\", \"_\", gsub(\"-\", \"_\", top2000_regions, fixed = TRUE) , fixed = TRUE)\n",
    "        pairwise_comparison_combined_regions_top2000 =  c(pairwise_comparison_combined_regions_top2000,top2000_merged_name )\n",
    "    }else{ \n",
    "        all_regions = df_[sort(abs(df_[[\"Fold\"]]),decreasing=T,index.return=T)[[2]],][[\"region\"]]\n",
    "        all_regions_merged_name = gsub(\":\", \"_\", gsub(\"-\", \"_\", all_regions, fixed = TRUE) , fixed = TRUE)\n",
    "        pairwise_comparison_combined_regions_top2000 =  c(pairwise_comparison_combined_regions_top2000,all_regions_merged_name )\n",
    "    }\n",
    "}\n",
    "\n"
   ]
  },
  {
   "cell_type": "code",
   "execution_count": 13,
   "id": "fe0845df-a609-48e0-b565-c424440d26ed",
   "metadata": {
    "tags": []
   },
   "outputs": [
    {
     "data": {
      "text/html": [
       "20370"
      ],
      "text/latex": [
       "20370"
      ],
      "text/markdown": [
       "20370"
      ],
      "text/plain": [
       "[1] 20370"
      ]
     },
     "metadata": {},
     "output_type": "display_data"
    }
   ],
   "source": [
    "length(pairwise_comparison_combined_regions_top2000)"
   ]
  },
  {
   "cell_type": "code",
   "execution_count": 14,
   "id": "366e8e6a-a380-4a12-b5a8-d9ff012af41b",
   "metadata": {},
   "outputs": [],
   "source": [
    "pairwise_comparison_combined_regions_top2000_sorted = sort(pairwise_comparison_combined_regions_top2000)\n"
   ]
  },
  {
   "cell_type": "code",
   "execution_count": 15,
   "id": "cca55ab7-2493-4314-aac3-4dc565123a98",
   "metadata": {},
   "outputs": [
    {
     "name": "stderr",
     "output_type": "stream",
     "text": [
      "── \u001b[1mAttaching packages\u001b[22m ────────────────────────────────────────────────────────────────────────────────────────────────────────────────────────────────────────────────────────────── tidyverse 1.3.1 ──\n",
      "\n",
      "\u001b[32m✔\u001b[39m \u001b[34mggplot2\u001b[39m 3.3.6      \u001b[32m✔\u001b[39m \u001b[34mpurrr  \u001b[39m 0.3.4 \n",
      "\u001b[32m✔\u001b[39m \u001b[34mtibble \u001b[39m 3.1.6      \u001b[32m✔\u001b[39m \u001b[34mdplyr  \u001b[39m 1.0.10\n",
      "\u001b[32m✔\u001b[39m \u001b[34mtidyr  \u001b[39m 1.2.1      \u001b[32m✔\u001b[39m \u001b[34mstringr\u001b[39m 1.4.0 \n",
      "\u001b[32m✔\u001b[39m \u001b[34mreadr  \u001b[39m 2.1.3      \u001b[32m✔\u001b[39m \u001b[34mforcats\u001b[39m 0.5.2 \n",
      "\n",
      "── \u001b[1mConflicts\u001b[22m ───────────────────────────────────────────────────────────────────────────────────────────────────────────────────────────────────────────────────────────────── tidyverse_conflicts() ──\n",
      "\u001b[31m✖\u001b[39m \u001b[34mggplot2\u001b[39m::\u001b[32mPosition()\u001b[39m masks \u001b[34mBiocGenerics\u001b[39m::Position(), \u001b[34mbase\u001b[39m::Position()\n",
      "\u001b[31m✖\u001b[39m \u001b[34mdplyr\u001b[39m::\u001b[32mcollapse()\u001b[39m   masks \u001b[34mIRanges\u001b[39m::collapse()\n",
      "\u001b[31m✖\u001b[39m \u001b[34mdplyr\u001b[39m::\u001b[32mcombine()\u001b[39m    masks \u001b[34mBiobase\u001b[39m::combine(), \u001b[34mBiocGenerics\u001b[39m::combine()\n",
      "\u001b[31m✖\u001b[39m \u001b[34mdplyr\u001b[39m::\u001b[32mcount()\u001b[39m      masks \u001b[34mmatrixStats\u001b[39m::count()\n",
      "\u001b[31m✖\u001b[39m \u001b[34mdplyr\u001b[39m::\u001b[32mdesc()\u001b[39m       masks \u001b[34mIRanges\u001b[39m::desc()\n",
      "\u001b[31m✖\u001b[39m \u001b[34mtidyr\u001b[39m::\u001b[32mexpand()\u001b[39m     masks \u001b[34mS4Vectors\u001b[39m::expand()\n",
      "\u001b[31m✖\u001b[39m \u001b[34mdplyr\u001b[39m::\u001b[32mfilter()\u001b[39m     masks \u001b[34mstats\u001b[39m::filter()\n",
      "\u001b[31m✖\u001b[39m \u001b[34mdplyr\u001b[39m::\u001b[32mfirst()\u001b[39m      masks \u001b[34mS4Vectors\u001b[39m::first()\n",
      "\u001b[31m✖\u001b[39m \u001b[34mdplyr\u001b[39m::\u001b[32mlag()\u001b[39m        masks \u001b[34mstats\u001b[39m::lag()\n",
      "\u001b[31m✖\u001b[39m \u001b[34mpurrr\u001b[39m::\u001b[32mreduce()\u001b[39m     masks \u001b[34mGenomicRanges\u001b[39m::reduce(), \u001b[34mIRanges\u001b[39m::reduce()\n",
      "\u001b[31m✖\u001b[39m \u001b[34mdplyr\u001b[39m::\u001b[32mrename()\u001b[39m     masks \u001b[34mS4Vectors\u001b[39m::rename()\n",
      "\u001b[31m✖\u001b[39m \u001b[34mdplyr\u001b[39m::\u001b[32mslice()\u001b[39m      masks \u001b[34mIRanges\u001b[39m::slice()\n",
      "\n"
     ]
    }
   ],
   "source": [
    "library(tidyverse)\n",
    "pairwise_comparison_combined_regions_top2000_3col = as.data.frame(pairwise_comparison_combined_regions_top2000_sorted) %>% \n",
    "   separate(pairwise_comparison_combined_regions_top2000_sorted, into = c(\"seq\", \"start\", \"end\"), sep=\"_\")\n"
   ]
  },
  {
   "cell_type": "code",
   "execution_count": 46,
   "id": "ed1a77bd-9537-4aab-b041-6d422335ddd3",
   "metadata": {},
   "outputs": [],
   "source": [
    "write.table(pairwise_comparison_combined_regions_top2000_3col, \"../../../data/Buenrostro2018_FACS_BM_scATAC/feasibility_study_synthetic_prototypes/03_get_differentially_accessible_regions/buenrostro2018_sc_aggregated_pseudobulk_pairwise_comparison_combined_regions_top2k_differential_cCREs_FDR0.05.bed\", sep = \"\\t\", col.names=FALSE,quote=FALSE, row.names = FALSE)\n"
   ]
  },
  {
   "cell_type": "raw",
   "id": "1ce076e8-545e-4638-8d29-9fae84ab75dc",
   "metadata": {},
   "source": [
    "# get the regions matching to ENCODE cCRE regions\n",
    "\n",
    "> cd ../../../data/Buenrostro2018_FACS_BM_scATAC/feasibility_study_synthetic_prototypes/03_get_differentially_accessible_regions\n",
    "\n",
    "\n",
    "> sort-bed buenrostro2018_sc_aggregated_pseudobulk_pairwise_comparison_combined_regions_top2k_differential_cCREs_FDR0.05.bed  > buenrostro2018_sc_aggregated_pseudobulk_pairwise_comparison_combined_regions_top2k_differential_cCREs_FDR0.05_sorted.bed \n",
    "\n",
    "> bedops --element-of 1 /project/scATAC_analysis/scATAcat_notebooks_for_paper/jan2024/data/ENCODE_cCREs/V2.hg38-cCREs-3col_sorted.bed  buenrostro2018_sc_aggregated_pseudobulk_pairwise_comparison_combined_regions_top2k_differential_cCREs_FDR0.05_sorted.bed > buenrostro2018_sc_aggregated_pseudobulk_pairwise_comparison_combined_regions_top2k_differential_cCREs_FDR0.05_sorted_exactCREs.bed"
   ]
  },
  {
   "cell_type": "code",
   "execution_count": 64,
   "id": "76e0c24c-dc31-4f6d-90a5-71c844cca819",
   "metadata": {},
   "outputs": [],
   "source": [
    "exact_match_pairwise_differential_cCREs_top2000= read.table(\"../../../data/Buenrostro2018_FACS_BM_scATAC/feasibility_study_synthetic_prototypes/03_get_differentially_accessible_regions/buenrostro2018_sc_aggregated_pseudobulk_pairwise_comparison_combined_regions_top2k_differential_cCREs_FDR0.05_sorted_exactCREs.bed\", header = FALSE, sep=\"\\t\")"
   ]
  },
  {
   "cell_type": "code",
   "execution_count": 65,
   "id": "55b4541c-e26b-4047-93d4-8097266746cb",
   "metadata": {
    "scrolled": true
   },
   "outputs": [
    {
     "data": {
      "text/html": [
       "<style>\n",
       ".list-inline {list-style: none; margin:0; padding: 0}\n",
       ".list-inline>li {display: inline-block}\n",
       ".list-inline>li:not(:last-child)::after {content: \"\\00b7\"; padding: 0 .5ex}\n",
       "</style>\n",
       "<ol class=list-inline><li>16992</li><li>3</li></ol>\n"
      ],
      "text/latex": [
       "\\begin{enumerate*}\n",
       "\\item 16992\n",
       "\\item 3\n",
       "\\end{enumerate*}\n"
      ],
      "text/markdown": [
       "1. 16992\n",
       "2. 3\n",
       "\n",
       "\n"
      ],
      "text/plain": [
       "[1] 16992     3"
      ]
     },
     "metadata": {},
     "output_type": "display_data"
    }
   ],
   "source": [
    "dim(exact_match_pairwise_differential_cCREs_top2000)"
   ]
  },
  {
   "cell_type": "code",
   "execution_count": 66,
   "id": "959d721d-714b-4a5a-a3f7-3d1b9aab3364",
   "metadata": {},
   "outputs": [],
   "source": [
    "exact_match_pairwise_differential_cCREs_top2000[\"region\"]=paste(exact_match_pairwise_differential_cCREs_top2000$V1, exact_match_pairwise_differential_cCREs_top2000$V2, exact_match_pairwise_differential_cCREs_top2000$V3, sep=\"_\")"
   ]
  },
  {
   "cell_type": "code",
   "execution_count": 67,
   "id": "fe78e6f8-2531-425c-8ff6-d2a0e822adc9",
   "metadata": {},
   "outputs": [
    {
     "data": {
      "text/html": [
       "<table class=\"dataframe\">\n",
       "<caption>A data.frame: 6 × 4</caption>\n",
       "<thead>\n",
       "\t<tr><th></th><th scope=col>V1</th><th scope=col>V2</th><th scope=col>V3</th><th scope=col>region</th></tr>\n",
       "\t<tr><th></th><th scope=col>&lt;chr&gt;</th><th scope=col>&lt;int&gt;</th><th scope=col>&lt;int&gt;</th><th scope=col>&lt;chr&gt;</th></tr>\n",
       "</thead>\n",
       "<tbody>\n",
       "\t<tr><th scope=row>1</th><td>chr1</td><td>1143719</td><td>1144060</td><td>chr1_1143719_1144060</td></tr>\n",
       "\t<tr><th scope=row>2</th><td>chr1</td><td>1144085</td><td>1144425</td><td>chr1_1144085_1144425</td></tr>\n",
       "\t<tr><th scope=row>3</th><td>chr1</td><td>1144468</td><td>1144736</td><td>chr1_1144468_1144736</td></tr>\n",
       "\t<tr><th scope=row>4</th><td>chr1</td><td>1144786</td><td>1145009</td><td>chr1_1144786_1145009</td></tr>\n",
       "\t<tr><th scope=row>5</th><td>chr1</td><td>1145090</td><td>1145439</td><td>chr1_1145090_1145439</td></tr>\n",
       "\t<tr><th scope=row>6</th><td>chr1</td><td>1370999</td><td>1371293</td><td>chr1_1370999_1371293</td></tr>\n",
       "</tbody>\n",
       "</table>\n"
      ],
      "text/latex": [
       "A data.frame: 6 × 4\n",
       "\\begin{tabular}{r|llll}\n",
       "  & V1 & V2 & V3 & region\\\\\n",
       "  & <chr> & <int> & <int> & <chr>\\\\\n",
       "\\hline\n",
       "\t1 & chr1 & 1143719 & 1144060 & chr1\\_1143719\\_1144060\\\\\n",
       "\t2 & chr1 & 1144085 & 1144425 & chr1\\_1144085\\_1144425\\\\\n",
       "\t3 & chr1 & 1144468 & 1144736 & chr1\\_1144468\\_1144736\\\\\n",
       "\t4 & chr1 & 1144786 & 1145009 & chr1\\_1144786\\_1145009\\\\\n",
       "\t5 & chr1 & 1145090 & 1145439 & chr1\\_1145090\\_1145439\\\\\n",
       "\t6 & chr1 & 1370999 & 1371293 & chr1\\_1370999\\_1371293\\\\\n",
       "\\end{tabular}\n"
      ],
      "text/markdown": [
       "\n",
       "A data.frame: 6 × 4\n",
       "\n",
       "| <!--/--> | V1 &lt;chr&gt; | V2 &lt;int&gt; | V3 &lt;int&gt; | region &lt;chr&gt; |\n",
       "|---|---|---|---|---|\n",
       "| 1 | chr1 | 1143719 | 1144060 | chr1_1143719_1144060 |\n",
       "| 2 | chr1 | 1144085 | 1144425 | chr1_1144085_1144425 |\n",
       "| 3 | chr1 | 1144468 | 1144736 | chr1_1144468_1144736 |\n",
       "| 4 | chr1 | 1144786 | 1145009 | chr1_1144786_1145009 |\n",
       "| 5 | chr1 | 1145090 | 1145439 | chr1_1145090_1145439 |\n",
       "| 6 | chr1 | 1370999 | 1371293 | chr1_1370999_1371293 |\n",
       "\n"
      ],
      "text/plain": [
       "  V1   V2      V3      region              \n",
       "1 chr1 1143719 1144060 chr1_1143719_1144060\n",
       "2 chr1 1144085 1144425 chr1_1144085_1144425\n",
       "3 chr1 1144468 1144736 chr1_1144468_1144736\n",
       "4 chr1 1144786 1145009 chr1_1144786_1145009\n",
       "5 chr1 1145090 1145439 chr1_1145090_1145439\n",
       "6 chr1 1370999 1371293 chr1_1370999_1371293"
      ]
     },
     "metadata": {},
     "output_type": "display_data"
    }
   ],
   "source": [
    "head(exact_match_pairwise_differential_cCREs_top2000)"
   ]
  },
  {
   "cell_type": "code",
   "execution_count": 68,
   "id": "a17a3286-2290-4075-8794-de3a0b374237",
   "metadata": {
    "tags": []
   },
   "outputs": [],
   "source": [
    "write.table(exact_match_pairwise_differential_cCREs_top2000[\"region\"], \"../../../data/Buenrostro2018_FACS_BM_scATAC/feasibility_study_synthetic_prototypes/03_get_differentially_accessible_regions/buenrostro2018_sc_aggregated_pseudobulk_pairwise_comparison_combined_regions_top2k_differential_cCREs_FDR0.05_sorted_exactCREs.csv\", sep = \",\", col.names=FALSE,quote=FALSE, row.names = FALSE)\n"
   ]
  },
  {
   "cell_type": "markdown",
   "id": "c31db296-9f5e-4bdf-a71b-8897cacc590e",
   "metadata": {},
   "source": [
    "# decrease the # of regions to consider per comparison to top 1k as most of the comparisons have less than 2k"
   ]
  },
  {
   "cell_type": "code",
   "execution_count": 26,
   "id": "0a9f516e-ab7a-4b7b-962c-3ada1063d7c9",
   "metadata": {},
   "outputs": [],
   "source": [
    "\n",
    "# SELECT THE FEATURES WITHOUT CONSIDERING THE TREE STRUCTURE\n",
    "# top 1000 regions\n",
    "\n",
    "# I exclude HSC_VS_MPP_df df because this has no differential reads and returns an empty df\n",
    "\n",
    "pairwise_comparison_combined_regions_top1000 =c()\n",
    "for (df_ in list(CMP_VS_HSC_df,CMP_VS_GMP_df,CMP_VS_MEP_df,CMP_VS_MPP_df,CMP_VS_CLP_df,CMP_VS_LMPP_df,HSC_VS_GMP_df,HSC_VS_MEP_df,HSC_VS_CLP_df,HSC_VS_LMPP_df,GMP_VS_MEP_df,GMP_VS_MPP_df,GMP_VS_CLP_df,GMP_VS_LMPP_df,MEP_VS_MPP_df,MEP_VS_CLP_df,MEP_VS_LMPP_df,MPP_VS_CLP_df,MPP_VS_LMPP_df,LMPP_VS_CLP_df)){\n",
    "    df_= df_[df_[[\"seqnames\"]] !=\"chrY\",]\n",
    "    if (NROW(df_) >1000){\n",
    "        top1000_regions = df_[sort(abs(df_[[\"Fold\"]]),decreasing=T,index.return=T)[[2]],][1:1000,][[\"region\"]]\n",
    "        top1000_merged_name = gsub(\":\", \"_\", gsub(\"-\", \"_\", top1000_regions, fixed = TRUE) , fixed = TRUE)\n",
    "        pairwise_comparison_combined_regions_top1000 =  c(pairwise_comparison_combined_regions_top1000,top1000_merged_name )\n",
    "    }else{ \n",
    "        all_regions = df_[sort(abs(df_[[\"Fold\"]]),decreasing=T,index.return=T)[[2]],][[\"region\"]]\n",
    "        all_regions_merged_name = gsub(\":\", \"_\", gsub(\"-\", \"_\", all_regions, fixed = TRUE) , fixed = TRUE)\n",
    "        pairwise_comparison_combined_regions_top1000 =  c(pairwise_comparison_combined_regions_top1000,all_regions_merged_name )\n",
    "    }\n",
    "}\n",
    "\n"
   ]
  },
  {
   "cell_type": "code",
   "execution_count": 28,
   "id": "25e87a71-1d87-41a9-855b-26070dd3b403",
   "metadata": {
    "tags": []
   },
   "outputs": [
    {
     "data": {
      "text/html": [
       "13709"
      ],
      "text/latex": [
       "13709"
      ],
      "text/markdown": [
       "13709"
      ],
      "text/plain": [
       "[1] 13709"
      ]
     },
     "metadata": {},
     "output_type": "display_data"
    }
   ],
   "source": [
    "length(pairwise_comparison_combined_regions_top1000)"
   ]
  },
  {
   "cell_type": "code",
   "execution_count": 22,
   "id": "71672a58-b32a-4915-9c9b-0f40b186bbad",
   "metadata": {
    "tags": []
   },
   "outputs": [
    {
     "data": {
      "text/html": [
       "20370"
      ],
      "text/latex": [
       "20370"
      ],
      "text/markdown": [
       "20370"
      ],
      "text/plain": [
       "[1] 20370"
      ]
     },
     "metadata": {},
     "output_type": "display_data"
    }
   ],
   "source": [
    "length(pairwise_comparison_combined_regions_top2000)"
   ]
  },
  {
   "cell_type": "code",
   "execution_count": 31,
   "id": "14bb1e45-9cba-43e4-ae0b-36bfbfd6d9b0",
   "metadata": {},
   "outputs": [],
   "source": [
    "pairwise_comparison_combined_regions_top1000_sorted = sort(pairwise_comparison_combined_regions_top1000)\n"
   ]
  },
  {
   "cell_type": "code",
   "execution_count": 32,
   "id": "cc9059fb-2380-42a9-b8da-1ed831328bc9",
   "metadata": {},
   "outputs": [],
   "source": [
    "pairwise_comparison_combined_regions_top1000_3col = as.data.frame(pairwise_comparison_combined_regions_top1000_sorted) %>% \n",
    "   separate(pairwise_comparison_combined_regions_top1000_sorted, into = c(\"seq\", \"start\", \"end\"), sep=\"_\")\n"
   ]
  },
  {
   "cell_type": "code",
   "execution_count": 45,
   "id": "56e0c2c0-e9a9-4977-b90d-074c18d9dd0a",
   "metadata": {},
   "outputs": [],
   "source": [
    "write.table(pairwise_comparison_combined_regions_top1000_3col, \"../../../data/Buenrostro2018_FACS_BM_scATAC/feasibility_study_synthetic_prototypes/03_get_differentially_accessible_regions/buenrostro2018_sc_aggregated_pseudobulk_pairwise_comparison_combined_regions_top1k_differential_cCREs_FDR0.05.bed\", sep = \"\\t\", col.names=FALSE,quote=FALSE, row.names = FALSE)\n"
   ]
  },
  {
   "cell_type": "raw",
   "id": "1903d307-5b48-49e2-a9fd-9276f50a1b1a",
   "metadata": {},
   "source": [
    "# get the regions matching to ENCODE cCRE regions\n",
    "\n",
    "> cd ../../../data/Buenrostro2018_FACS_BM_scATAC/feasibility_study_synthetic_prototypes/03_get_differentially_accessible_regions\n",
    "\n",
    "\n",
    "> sort-bed buenrostro2018_sc_aggregated_pseudobulk_pairwise_comparison_combined_regions_top1k_differential_cCREs_FDR0.05.bed  > buenrostro2018_sc_aggregated_pseudobulk_pairwise_comparison_combined_regions_top1k_differential_cCREs_FDR0.05_sorted.bed \n",
    "\n",
    "> bedops --element-of 1 /project/scATAC_analysis/scATAcat_notebooks_for_paper/jan2024/data/ENCODE_cCREs/V2.hg38-cCREs-3col_sorted.bed  buenrostro2018_sc_aggregated_pseudobulk_pairwise_comparison_combined_regions_top1k_differential_cCREs_FDR0.05_sorted.bed > buenrostro2018_sc_aggregated_pseudobulk_pairwise_comparison_combined_regions_top1k_differential_cCREs_FDR0.05_sorted_exactCREs.bed"
   ]
  },
  {
   "cell_type": "code",
   "execution_count": 59,
   "id": "5150c806-660b-4d9a-9196-68e08f46d83b",
   "metadata": {},
   "outputs": [],
   "source": [
    "exact_match_pairwise_differential_cCREs_top1000= read.table(\"../../../data/Buenrostro2018_FACS_BM_scATAC/feasibility_study_synthetic_prototypes/03_get_differentially_accessible_regions/buenrostro2018_sc_aggregated_pseudobulk_pairwise_comparison_combined_regions_top1k_differential_cCREs_FDR0.05_sorted_exactCREs.bed\", header = FALSE, sep=\"\\t\")"
   ]
  },
  {
   "cell_type": "code",
   "execution_count": 60,
   "id": "ddc43457-fe5b-4194-a787-d317eca12051",
   "metadata": {
    "scrolled": true
   },
   "outputs": [
    {
     "data": {
      "text/html": [
       "<style>\n",
       ".list-inline {list-style: none; margin:0; padding: 0}\n",
       ".list-inline>li {display: inline-block}\n",
       ".list-inline>li:not(:last-child)::after {content: \"\\00b7\"; padding: 0 .5ex}\n",
       "</style>\n",
       "<ol class=list-inline><li>12244</li><li>3</li></ol>\n"
      ],
      "text/latex": [
       "\\begin{enumerate*}\n",
       "\\item 12244\n",
       "\\item 3\n",
       "\\end{enumerate*}\n"
      ],
      "text/markdown": [
       "1. 12244\n",
       "2. 3\n",
       "\n",
       "\n"
      ],
      "text/plain": [
       "[1] 12244     3"
      ]
     },
     "metadata": {},
     "output_type": "display_data"
    }
   ],
   "source": [
    "dim(exact_match_pairwise_differential_cCREs_top1000)"
   ]
  },
  {
   "cell_type": "code",
   "execution_count": 61,
   "id": "c588e211-6406-48f9-947b-c8a047eccbfb",
   "metadata": {},
   "outputs": [],
   "source": [
    "exact_match_pairwise_differential_cCREs_top1000[\"region\"]=paste(exact_match_pairwise_differential_cCREs_top1000$V1, exact_match_pairwise_differential_cCREs_top1000$V2, exact_match_pairwise_differential_cCREs_top1000$V3, sep=\"_\")"
   ]
  },
  {
   "cell_type": "code",
   "execution_count": 62,
   "id": "5e3b2c7d-23c2-4125-95d0-0c1e48ae5813",
   "metadata": {},
   "outputs": [
    {
     "data": {
      "text/html": [
       "<table class=\"dataframe\">\n",
       "<caption>A data.frame: 6 × 4</caption>\n",
       "<thead>\n",
       "\t<tr><th></th><th scope=col>V1</th><th scope=col>V2</th><th scope=col>V3</th><th scope=col>region</th></tr>\n",
       "\t<tr><th></th><th scope=col>&lt;chr&gt;</th><th scope=col>&lt;int&gt;</th><th scope=col>&lt;int&gt;</th><th scope=col>&lt;chr&gt;</th></tr>\n",
       "</thead>\n",
       "<tbody>\n",
       "\t<tr><th scope=row>1</th><td>chr1</td><td>1143719</td><td>1144060</td><td>chr1_1143719_1144060</td></tr>\n",
       "\t<tr><th scope=row>2</th><td>chr1</td><td>1144085</td><td>1144425</td><td>chr1_1144085_1144425</td></tr>\n",
       "\t<tr><th scope=row>3</th><td>chr1</td><td>1144468</td><td>1144736</td><td>chr1_1144468_1144736</td></tr>\n",
       "\t<tr><th scope=row>4</th><td>chr1</td><td>1144786</td><td>1145009</td><td>chr1_1144786_1145009</td></tr>\n",
       "\t<tr><th scope=row>5</th><td>chr1</td><td>1145090</td><td>1145439</td><td>chr1_1145090_1145439</td></tr>\n",
       "\t<tr><th scope=row>6</th><td>chr1</td><td>1370999</td><td>1371293</td><td>chr1_1370999_1371293</td></tr>\n",
       "</tbody>\n",
       "</table>\n"
      ],
      "text/latex": [
       "A data.frame: 6 × 4\n",
       "\\begin{tabular}{r|llll}\n",
       "  & V1 & V2 & V3 & region\\\\\n",
       "  & <chr> & <int> & <int> & <chr>\\\\\n",
       "\\hline\n",
       "\t1 & chr1 & 1143719 & 1144060 & chr1\\_1143719\\_1144060\\\\\n",
       "\t2 & chr1 & 1144085 & 1144425 & chr1\\_1144085\\_1144425\\\\\n",
       "\t3 & chr1 & 1144468 & 1144736 & chr1\\_1144468\\_1144736\\\\\n",
       "\t4 & chr1 & 1144786 & 1145009 & chr1\\_1144786\\_1145009\\\\\n",
       "\t5 & chr1 & 1145090 & 1145439 & chr1\\_1145090\\_1145439\\\\\n",
       "\t6 & chr1 & 1370999 & 1371293 & chr1\\_1370999\\_1371293\\\\\n",
       "\\end{tabular}\n"
      ],
      "text/markdown": [
       "\n",
       "A data.frame: 6 × 4\n",
       "\n",
       "| <!--/--> | V1 &lt;chr&gt; | V2 &lt;int&gt; | V3 &lt;int&gt; | region &lt;chr&gt; |\n",
       "|---|---|---|---|---|\n",
       "| 1 | chr1 | 1143719 | 1144060 | chr1_1143719_1144060 |\n",
       "| 2 | chr1 | 1144085 | 1144425 | chr1_1144085_1144425 |\n",
       "| 3 | chr1 | 1144468 | 1144736 | chr1_1144468_1144736 |\n",
       "| 4 | chr1 | 1144786 | 1145009 | chr1_1144786_1145009 |\n",
       "| 5 | chr1 | 1145090 | 1145439 | chr1_1145090_1145439 |\n",
       "| 6 | chr1 | 1370999 | 1371293 | chr1_1370999_1371293 |\n",
       "\n"
      ],
      "text/plain": [
       "  V1   V2      V3      region              \n",
       "1 chr1 1143719 1144060 chr1_1143719_1144060\n",
       "2 chr1 1144085 1144425 chr1_1144085_1144425\n",
       "3 chr1 1144468 1144736 chr1_1144468_1144736\n",
       "4 chr1 1144786 1145009 chr1_1144786_1145009\n",
       "5 chr1 1145090 1145439 chr1_1145090_1145439\n",
       "6 chr1 1370999 1371293 chr1_1370999_1371293"
      ]
     },
     "metadata": {},
     "output_type": "display_data"
    }
   ],
   "source": [
    "head(exact_match_pairwise_differential_cCREs_top1000)"
   ]
  },
  {
   "cell_type": "code",
   "execution_count": 63,
   "id": "afe1b481-0838-4002-b77e-fd9474b0081c",
   "metadata": {
    "tags": []
   },
   "outputs": [],
   "source": [
    "write.table(exact_match_pairwise_differential_cCREs_top1000[\"region\"], \"../../../data/Buenrostro2018_FACS_BM_scATAC/feasibility_study_synthetic_prototypes/03_get_differentially_accessible_regions/buenrostro2018_sc_aggregated_pseudobulk_pairwise_comparison_combined_regions_top1k_differential_cCREs_FDR0.05_sorted_exactCREs.csv\", sep = \",\", col.names=FALSE,quote=FALSE, row.names = FALSE)\n"
   ]
  },
  {
   "cell_type": "markdown",
   "id": "3763def8-601f-45c2-8511-91b194889700",
   "metadata": {},
   "source": [
    "# increase the # of regions to consider per comparison to top 3k as to proove that it does not increase the information gain"
   ]
  },
  {
   "cell_type": "code",
   "execution_count": 35,
   "id": "df01fc36-e71a-4335-87c2-4c6e87b2d1c6",
   "metadata": {},
   "outputs": [],
   "source": [
    "\n",
    "# SELECT THE FEATURES WITHOUT CONSIDERING THE TREE STRUCTURE\n",
    "# top 3000 regions\n",
    "\n",
    "# I exclude HSC_VS_MPP_df df because this has no differential reads and returns an empty df\n",
    "\n",
    "pairwise_comparison_combined_regions_top3000 =c()\n",
    "for (df_ in list(CMP_VS_HSC_df,CMP_VS_GMP_df,CMP_VS_MEP_df,CMP_VS_MPP_df,CMP_VS_CLP_df,CMP_VS_LMPP_df,HSC_VS_GMP_df,HSC_VS_MEP_df,HSC_VS_CLP_df,HSC_VS_LMPP_df,GMP_VS_MEP_df,GMP_VS_MPP_df,GMP_VS_CLP_df,GMP_VS_LMPP_df,MEP_VS_MPP_df,MEP_VS_CLP_df,MEP_VS_LMPP_df,MPP_VS_CLP_df,MPP_VS_LMPP_df,LMPP_VS_CLP_df)){\n",
    "    df_= df_[df_[[\"seqnames\"]] !=\"chrY\",]\n",
    "    if (NROW(df_) >3000){\n",
    "        top3000_regions = df_[sort(abs(df_[[\"Fold\"]]),decreasing=T,index.return=T)[[2]],][1:3000,][[\"region\"]]\n",
    "        top3000_merged_name = gsub(\":\", \"_\", gsub(\"-\", \"_\", top3000_regions, fixed = TRUE) , fixed = TRUE)\n",
    "        pairwise_comparison_combined_regions_top3000 =  c(pairwise_comparison_combined_regions_top3000,top3000_merged_name )\n",
    "    }else{ \n",
    "        all_regions = df_[sort(abs(df_[[\"Fold\"]]),decreasing=T,index.return=T)[[2]],][[\"region\"]]\n",
    "        all_regions_merged_name = gsub(\":\", \"_\", gsub(\"-\", \"_\", all_regions, fixed = TRUE) , fixed = TRUE)\n",
    "        pairwise_comparison_combined_regions_top3000 =  c(pairwise_comparison_combined_regions_top3000,all_regions_merged_name )\n",
    "    }\n",
    "}\n",
    "\n"
   ]
  },
  {
   "cell_type": "code",
   "execution_count": 37,
   "id": "fc092554-3b92-4300-a7de-961798f1d33c",
   "metadata": {
    "tags": []
   },
   "outputs": [
    {
     "data": {
      "text/html": [
       "13709"
      ],
      "text/latex": [
       "13709"
      ],
      "text/markdown": [
       "13709"
      ],
      "text/plain": [
       "[1] 13709"
      ]
     },
     "metadata": {},
     "output_type": "display_data"
    }
   ],
   "source": [
    "length(pairwise_comparison_combined_regions_top1000)"
   ]
  },
  {
   "cell_type": "code",
   "execution_count": 38,
   "id": "6b24e9db-f0e9-45ee-b497-bc1351e6cda0",
   "metadata": {
    "tags": []
   },
   "outputs": [
    {
     "data": {
      "text/html": [
       "20370"
      ],
      "text/latex": [
       "20370"
      ],
      "text/markdown": [
       "20370"
      ],
      "text/plain": [
       "[1] 20370"
      ]
     },
     "metadata": {},
     "output_type": "display_data"
    }
   ],
   "source": [
    "length(pairwise_comparison_combined_regions_top2000)"
   ]
  },
  {
   "cell_type": "code",
   "execution_count": 40,
   "id": "7035aacd-e746-499a-98ea-a11a344f5a8b",
   "metadata": {
    "tags": []
   },
   "outputs": [
    {
     "data": {
      "text/html": [
       "25410"
      ],
      "text/latex": [
       "25410"
      ],
      "text/markdown": [
       "25410"
      ],
      "text/plain": [
       "[1] 25410"
      ]
     },
     "metadata": {},
     "output_type": "display_data"
    }
   ],
   "source": [
    "length(pairwise_comparison_combined_regions_top3000)"
   ]
  },
  {
   "cell_type": "code",
   "execution_count": 41,
   "id": "8f87b335-6de7-4aeb-a64b-2d22f6a6c45e",
   "metadata": {},
   "outputs": [],
   "source": [
    "pairwise_comparison_combined_regions_top3000_sorted = sort(pairwise_comparison_combined_regions_top3000)\n"
   ]
  },
  {
   "cell_type": "code",
   "execution_count": 42,
   "id": "3b49f47b-aff5-4257-97cd-f2abf1067885",
   "metadata": {},
   "outputs": [],
   "source": [
    "pairwise_comparison_combined_regions_top3000_3col = as.data.frame(pairwise_comparison_combined_regions_top3000_sorted) %>% \n",
    "   separate(pairwise_comparison_combined_regions_top3000_sorted, into = c(\"seq\", \"start\", \"end\"), sep=\"_\")\n"
   ]
  },
  {
   "cell_type": "code",
   "execution_count": 52,
   "id": "9ece9d57-213e-4673-ac31-5a65abea10b6",
   "metadata": {},
   "outputs": [],
   "source": [
    "write.table(pairwise_comparison_combined_regions_top3000_3col, \"../../../data/Buenrostro2018_FACS_BM_scATAC/feasibility_study_synthetic_prototypes/03_get_differentially_accessible_regions/buenrostro2018_sc_aggregated_pseudobulk_pairwise_comparison_combined_regions_top3k_differential_cCREs_FDR0.05.bed\", sep = \"\\t\", col.names=FALSE,quote=FALSE, row.names = FALSE)\n"
   ]
  },
  {
   "cell_type": "raw",
   "id": "0d91e90c-6fa8-477f-951a-a367f33d1d5c",
   "metadata": {},
   "source": [
    "# get the regions matching to ENCODE cCRE regions\n",
    "\n",
    "> cd ../../../data/Buenrostro2018_FACS_BM_scATAC/feasibility_study_synthetic_prototypes/03_get_differentially_accessible_regions\n",
    "\n",
    "\n",
    "> sort-bed buenrostro2018_sc_aggregated_pseudobulk_pairwise_comparison_combined_regions_top3k_differential_cCREs_FDR0.05.bed  > buenrostro2018_sc_aggregated_pseudobulk_pairwise_comparison_combined_regions_top3k_differential_cCREs_FDR0.05_sorted.bed \n",
    "\n",
    "> bedops --element-of 1 /project/scATAC_analysis/scATAcat_notebooks_for_paper/jan2024/data/ENCODE_cCREs/V2.hg38-cCREs-3col_sorted.bed  buenrostro2018_sc_aggregated_pseudobulk_pairwise_comparison_combined_regions_top3k_differential_cCREs_FDR0.05_sorted.bed > buenrostro2018_sc_aggregated_pseudobulk_pairwise_comparison_combined_regions_top3k_differential_cCREs_FDR0.05_sorted_exactCREs.bed"
   ]
  },
  {
   "cell_type": "code",
   "execution_count": 54,
   "id": "876ea4a9-92e5-4cb1-83df-3e144e4de212",
   "metadata": {},
   "outputs": [],
   "source": [
    "exact_match_pairwise_differential_cCREs_top3000= read.table(\"../../../data/Buenrostro2018_FACS_BM_scATAC/feasibility_study_synthetic_prototypes/03_get_differentially_accessible_regions/buenrostro2018_sc_aggregated_pseudobulk_pairwise_comparison_combined_regions_top3k_differential_cCREs_FDR0.05_sorted_exactCREs.bed\", header = FALSE, sep=\"\\t\")"
   ]
  },
  {
   "cell_type": "code",
   "execution_count": 55,
   "id": "09dc9010-384c-403e-9f72-edb45c919e8d",
   "metadata": {
    "scrolled": true
   },
   "outputs": [
    {
     "data": {
      "text/html": [
       "<style>\n",
       ".list-inline {list-style: none; margin:0; padding: 0}\n",
       ".list-inline>li {display: inline-block}\n",
       ".list-inline>li:not(:last-child)::after {content: \"\\00b7\"; padding: 0 .5ex}\n",
       "</style>\n",
       "<ol class=list-inline><li>21013</li><li>3</li></ol>\n"
      ],
      "text/latex": [
       "\\begin{enumerate*}\n",
       "\\item 21013\n",
       "\\item 3\n",
       "\\end{enumerate*}\n"
      ],
      "text/markdown": [
       "1. 21013\n",
       "2. 3\n",
       "\n",
       "\n"
      ],
      "text/plain": [
       "[1] 21013     3"
      ]
     },
     "metadata": {},
     "output_type": "display_data"
    }
   ],
   "source": [
    "dim(exact_match_pairwise_differential_cCREs_top3000)"
   ]
  },
  {
   "cell_type": "code",
   "execution_count": 56,
   "id": "aa537b37-c316-428b-8f9f-918e78e37114",
   "metadata": {},
   "outputs": [],
   "source": [
    "exact_match_pairwise_differential_cCREs_top3000[\"region\"]=paste(exact_match_pairwise_differential_cCREs_top3000$V1, exact_match_pairwise_differential_cCREs_top3000$V2, exact_match_pairwise_differential_cCREs_top3000$V3, sep=\"_\")"
   ]
  },
  {
   "cell_type": "code",
   "execution_count": 57,
   "id": "76e250d7-f202-497a-b9c8-ef33ce35dba8",
   "metadata": {},
   "outputs": [
    {
     "data": {
      "text/html": [
       "<table class=\"dataframe\">\n",
       "<caption>A data.frame: 6 × 4</caption>\n",
       "<thead>\n",
       "\t<tr><th></th><th scope=col>V1</th><th scope=col>V2</th><th scope=col>V3</th><th scope=col>region</th></tr>\n",
       "\t<tr><th></th><th scope=col>&lt;chr&gt;</th><th scope=col>&lt;int&gt;</th><th scope=col>&lt;int&gt;</th><th scope=col>&lt;chr&gt;</th></tr>\n",
       "</thead>\n",
       "<tbody>\n",
       "\t<tr><th scope=row>1</th><td>chr1</td><td>1143719</td><td>1144060</td><td>chr1_1143719_1144060</td></tr>\n",
       "\t<tr><th scope=row>2</th><td>chr1</td><td>1144085</td><td>1144425</td><td>chr1_1144085_1144425</td></tr>\n",
       "\t<tr><th scope=row>3</th><td>chr1</td><td>1144468</td><td>1144736</td><td>chr1_1144468_1144736</td></tr>\n",
       "\t<tr><th scope=row>4</th><td>chr1</td><td>1144786</td><td>1145009</td><td>chr1_1144786_1145009</td></tr>\n",
       "\t<tr><th scope=row>5</th><td>chr1</td><td>1145090</td><td>1145439</td><td>chr1_1145090_1145439</td></tr>\n",
       "\t<tr><th scope=row>6</th><td>chr1</td><td>1370999</td><td>1371293</td><td>chr1_1370999_1371293</td></tr>\n",
       "</tbody>\n",
       "</table>\n"
      ],
      "text/latex": [
       "A data.frame: 6 × 4\n",
       "\\begin{tabular}{r|llll}\n",
       "  & V1 & V2 & V3 & region\\\\\n",
       "  & <chr> & <int> & <int> & <chr>\\\\\n",
       "\\hline\n",
       "\t1 & chr1 & 1143719 & 1144060 & chr1\\_1143719\\_1144060\\\\\n",
       "\t2 & chr1 & 1144085 & 1144425 & chr1\\_1144085\\_1144425\\\\\n",
       "\t3 & chr1 & 1144468 & 1144736 & chr1\\_1144468\\_1144736\\\\\n",
       "\t4 & chr1 & 1144786 & 1145009 & chr1\\_1144786\\_1145009\\\\\n",
       "\t5 & chr1 & 1145090 & 1145439 & chr1\\_1145090\\_1145439\\\\\n",
       "\t6 & chr1 & 1370999 & 1371293 & chr1\\_1370999\\_1371293\\\\\n",
       "\\end{tabular}\n"
      ],
      "text/markdown": [
       "\n",
       "A data.frame: 6 × 4\n",
       "\n",
       "| <!--/--> | V1 &lt;chr&gt; | V2 &lt;int&gt; | V3 &lt;int&gt; | region &lt;chr&gt; |\n",
       "|---|---|---|---|---|\n",
       "| 1 | chr1 | 1143719 | 1144060 | chr1_1143719_1144060 |\n",
       "| 2 | chr1 | 1144085 | 1144425 | chr1_1144085_1144425 |\n",
       "| 3 | chr1 | 1144468 | 1144736 | chr1_1144468_1144736 |\n",
       "| 4 | chr1 | 1144786 | 1145009 | chr1_1144786_1145009 |\n",
       "| 5 | chr1 | 1145090 | 1145439 | chr1_1145090_1145439 |\n",
       "| 6 | chr1 | 1370999 | 1371293 | chr1_1370999_1371293 |\n",
       "\n"
      ],
      "text/plain": [
       "  V1   V2      V3      region              \n",
       "1 chr1 1143719 1144060 chr1_1143719_1144060\n",
       "2 chr1 1144085 1144425 chr1_1144085_1144425\n",
       "3 chr1 1144468 1144736 chr1_1144468_1144736\n",
       "4 chr1 1144786 1145009 chr1_1144786_1145009\n",
       "5 chr1 1145090 1145439 chr1_1145090_1145439\n",
       "6 chr1 1370999 1371293 chr1_1370999_1371293"
      ]
     },
     "metadata": {},
     "output_type": "display_data"
    }
   ],
   "source": [
    "head(exact_match_pairwise_differential_cCREs_top3000)"
   ]
  },
  {
   "cell_type": "code",
   "execution_count": 58,
   "id": "36b582f0-9878-4b21-8c6e-bc8c988ffad9",
   "metadata": {
    "tags": []
   },
   "outputs": [],
   "source": [
    "write.table(exact_match_pairwise_differential_cCREs_top3000[\"region\"], \"../../../data/Buenrostro2018_FACS_BM_scATAC/feasibility_study_synthetic_prototypes/03_get_differentially_accessible_regions/buenrostro2018_sc_aggregated_pseudobulk_pairwise_comparison_combined_regions_top3k_differential_cCREs_FDR0.05_sorted_exactCREs.csv\", sep = \",\", col.names=FALSE,quote=FALSE, row.names = FALSE)\n"
   ]
  },
  {
   "cell_type": "code",
   "execution_count": null,
   "id": "ce670e59-4d8c-4daa-b8f9-e77c81fc75ef",
   "metadata": {},
   "outputs": [],
   "source": []
  }
 ],
 "metadata": {
  "kernelspec": {
   "display_name": "R-4.0.5",
   "language": "R",
   "name": "ir-4.0.5"
  },
  "language_info": {
   "codemirror_mode": "r",
   "file_extension": ".r",
   "mimetype": "text/x-r-source",
   "name": "R",
   "pygments_lexer": "r",
   "version": "4.0.5"
  },
  "widgets": {
   "application/vnd.jupyter.widget-state+json": {
    "state": {},
    "version_major": 2,
    "version_minor": 0
   }
  }
 },
 "nbformat": 4,
 "nbformat_minor": 5
}
