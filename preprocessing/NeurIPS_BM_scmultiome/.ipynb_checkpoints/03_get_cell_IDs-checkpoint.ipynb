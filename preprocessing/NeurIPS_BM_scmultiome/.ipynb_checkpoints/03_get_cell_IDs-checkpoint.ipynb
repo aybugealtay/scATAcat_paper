{
 "cells": [
  {
   "cell_type": "code",
   "execution_count": 3,
   "id": "a1d12192-b8c3-4462-82c9-2e777612b501",
   "metadata": {},
   "outputs": [],
   "source": [
    "import scanpy as sc\n",
    "import pandas as pd\n",
    "import numpy as np"
   ]
  },
  {
   "cell_type": "code",
   "execution_count": 4,
   "id": "bd305bed-7375-4b9e-97e9-3d4445b9c3ba",
   "metadata": {},
   "outputs": [],
   "source": [
    "neurips_BM_atac = sc.read_h5ad(\"/project/scATAC_analysis/NeurIPS2021_BM_scmultiome/data/GSE194122_openproblems_neurips2021_multiome_BMMC_processed.h5ad\")"
   ]
  },
  {
   "cell_type": "code",
   "execution_count": 5,
   "id": "9c6ee847-e8df-4838-8112-2015afbcca92",
   "metadata": {},
   "outputs": [
    {
     "data": {
      "text/plain": [
       "AnnData object with n_obs × n_vars = 69249 × 129921\n",
       "    obs: 'GEX_pct_counts_mt', 'GEX_n_counts', 'GEX_n_genes', 'GEX_size_factors', 'GEX_phase', 'ATAC_nCount_peaks', 'ATAC_atac_fragments', 'ATAC_reads_in_peaks_frac', 'ATAC_blacklist_fraction', 'ATAC_nucleosome_signal', 'cell_type', 'batch', 'ATAC_pseudotime_order', 'GEX_pseudotime_order', 'Samplename', 'Site', 'DonorNumber', 'Modality', 'VendorLot', 'DonorID', 'DonorAge', 'DonorBMI', 'DonorBloodType', 'DonorRace', 'Ethnicity', 'DonorGender', 'QCMeds', 'DonorSmoker'\n",
       "    var: 'feature_types', 'gene_id'\n",
       "    uns: 'ATAC_gene_activity_var_names', 'dataset_id', 'genome', 'organism'\n",
       "    obsm: 'ATAC_gene_activity', 'ATAC_lsi_full', 'ATAC_lsi_red', 'ATAC_umap', 'GEX_X_pca', 'GEX_X_umap'\n",
       "    layers: 'counts'"
      ]
     },
     "execution_count": 5,
     "metadata": {},
     "output_type": "execute_result"
    }
   ],
   "source": [
    "neurips_BM_atac"
   ]
  },
  {
   "cell_type": "code",
   "execution_count": 241,
   "id": "b434a371-daeb-4093-b6ca-1cc6ea9b862e",
   "metadata": {},
   "outputs": [
    {
     "data": {
      "text/plain": [
       "{'ATAC_gene_activity_var_names': array(['OR4F5', 'OR4F29', 'OR4F16', ..., 'DAZ4', 'BPY2C', 'CDY1'],\n",
       "       dtype=object),\n",
       " 'dataset_id': 'openproblems_bmmc_multiome',\n",
       " 'genome': 'GRCh38',\n",
       " 'organism': 'human'}"
      ]
     },
     "execution_count": 241,
     "metadata": {},
     "output_type": "execute_result"
    }
   ],
   "source": [
    "neurips_BM_atac.uns"
   ]
  },
  {
   "cell_type": "code",
   "execution_count": 39,
   "id": "a652967a-b382-4624-b2c3-061bf4a15514",
   "metadata": {},
   "outputs": [
    {
     "data": {
      "text/plain": [
       "Index(['GEX_pct_counts_mt', 'GEX_n_counts', 'GEX_n_genes', 'GEX_size_factors',\n",
       "       'GEX_phase', 'ATAC_nCount_peaks', 'ATAC_atac_fragments',\n",
       "       'ATAC_reads_in_peaks_frac', 'ATAC_blacklist_fraction',\n",
       "       'ATAC_nucleosome_signal', 'cell_type', 'batch', 'ATAC_pseudotime_order',\n",
       "       'GEX_pseudotime_order', 'Samplename', 'Site', 'DonorNumber', 'Modality',\n",
       "       'VendorLot', 'DonorID', 'DonorAge', 'DonorBMI', 'DonorBloodType',\n",
       "       'DonorRace', 'Ethnicity', 'DonorGender', 'QCMeds', 'DonorSmoker'],\n",
       "      dtype='object')"
      ]
     },
     "execution_count": 39,
     "metadata": {},
     "output_type": "execute_result"
    }
   ],
   "source": [
    "neurips_BM_atac.obs.columns\n"
   ]
  },
  {
   "cell_type": "code",
   "execution_count": 41,
   "id": "75a24280-adc7-4013-9606-fed7cdf740ef",
   "metadata": {},
   "outputs": [
    {
     "data": {
      "text/html": [
       "<div>\n",
       "<style scoped>\n",
       "    .dataframe tbody tr th:only-of-type {\n",
       "        vertical-align: middle;\n",
       "    }\n",
       "\n",
       "    .dataframe tbody tr th {\n",
       "        vertical-align: top;\n",
       "    }\n",
       "\n",
       "    .dataframe thead th {\n",
       "        text-align: right;\n",
       "    }\n",
       "</style>\n",
       "<table border=\"1\" class=\"dataframe\">\n",
       "  <thead>\n",
       "    <tr style=\"text-align: right;\">\n",
       "      <th></th>\n",
       "      <th>DonorNumber</th>\n",
       "      <th>batch</th>\n",
       "      <th>Site</th>\n",
       "    </tr>\n",
       "  </thead>\n",
       "  <tbody>\n",
       "    <tr>\n",
       "      <th>TAGTTGTCACCCTCAC-1-s1d1</th>\n",
       "      <td>donor1</td>\n",
       "      <td>s1d1</td>\n",
       "      <td>site1</td>\n",
       "    </tr>\n",
       "    <tr>\n",
       "      <th>CTATGGCCATAACGGG-1-s1d1</th>\n",
       "      <td>donor1</td>\n",
       "      <td>s1d1</td>\n",
       "      <td>site1</td>\n",
       "    </tr>\n",
       "    <tr>\n",
       "      <th>CCGCACACAGGTTAAA-1-s1d1</th>\n",
       "      <td>donor1</td>\n",
       "      <td>s1d1</td>\n",
       "      <td>site1</td>\n",
       "    </tr>\n",
       "    <tr>\n",
       "      <th>TCATTTGGTAATGGAA-1-s1d1</th>\n",
       "      <td>donor1</td>\n",
       "      <td>s1d1</td>\n",
       "      <td>site1</td>\n",
       "    </tr>\n",
       "    <tr>\n",
       "      <th>ACCACATAGGTGTCCA-1-s1d1</th>\n",
       "      <td>donor1</td>\n",
       "      <td>s1d1</td>\n",
       "      <td>site1</td>\n",
       "    </tr>\n",
       "    <tr>\n",
       "      <th>...</th>\n",
       "      <td>...</td>\n",
       "      <td>...</td>\n",
       "      <td>...</td>\n",
       "    </tr>\n",
       "    <tr>\n",
       "      <th>AAACCGCGTTTGAGGC-12-s4d9</th>\n",
       "      <td>donor9</td>\n",
       "      <td>s4d9</td>\n",
       "      <td>site4</td>\n",
       "    </tr>\n",
       "    <tr>\n",
       "      <th>TGACTTAAGTTCCCGT-12-s4d9</th>\n",
       "      <td>donor9</td>\n",
       "      <td>s4d9</td>\n",
       "      <td>site4</td>\n",
       "    </tr>\n",
       "    <tr>\n",
       "      <th>GCTGTACCACCGTTCC-12-s4d9</th>\n",
       "      <td>donor9</td>\n",
       "      <td>s4d9</td>\n",
       "      <td>site4</td>\n",
       "    </tr>\n",
       "    <tr>\n",
       "      <th>ACACTTGCAACTAGAA-12-s4d9</th>\n",
       "      <td>donor9</td>\n",
       "      <td>s4d9</td>\n",
       "      <td>site4</td>\n",
       "    </tr>\n",
       "    <tr>\n",
       "      <th>CACTTAAAGTCTGGGC-12-s4d9</th>\n",
       "      <td>donor9</td>\n",
       "      <td>s4d9</td>\n",
       "      <td>site4</td>\n",
       "    </tr>\n",
       "  </tbody>\n",
       "</table>\n",
       "<p>69249 rows × 3 columns</p>\n",
       "</div>"
      ],
      "text/plain": [
       "                         DonorNumber batch   Site\n",
       "TAGTTGTCACCCTCAC-1-s1d1       donor1  s1d1  site1\n",
       "CTATGGCCATAACGGG-1-s1d1       donor1  s1d1  site1\n",
       "CCGCACACAGGTTAAA-1-s1d1       donor1  s1d1  site1\n",
       "TCATTTGGTAATGGAA-1-s1d1       donor1  s1d1  site1\n",
       "ACCACATAGGTGTCCA-1-s1d1       donor1  s1d1  site1\n",
       "...                              ...   ...    ...\n",
       "AAACCGCGTTTGAGGC-12-s4d9      donor9  s4d9  site4\n",
       "TGACTTAAGTTCCCGT-12-s4d9      donor9  s4d9  site4\n",
       "GCTGTACCACCGTTCC-12-s4d9      donor9  s4d9  site4\n",
       "ACACTTGCAACTAGAA-12-s4d9      donor9  s4d9  site4\n",
       "CACTTAAAGTCTGGGC-12-s4d9      donor9  s4d9  site4\n",
       "\n",
       "[69249 rows x 3 columns]"
      ]
     },
     "execution_count": 41,
     "metadata": {},
     "output_type": "execute_result"
    }
   ],
   "source": [
    "neurips_BM_atac.obs[[\"DonorNumber\", \"batch\",'Site']]"
   ]
  },
  {
   "cell_type": "code",
   "execution_count": 195,
   "id": "d6ec55ae-7f67-41f4-a572-3ee16c412079",
   "metadata": {},
   "outputs": [
    {
     "name": "stderr",
     "output_type": "stream",
     "text": [
      "/home/altay/miniconda3/envs/python_3.10.10_env/lib/python3.10/site-packages/anndata/_core/anndata.py:1113: FutureWarning: is_categorical_dtype is deprecated and will be removed in a future version. Use isinstance(dtype, CategoricalDtype) instead\n",
      "  if not is_categorical_dtype(df_full[k]):\n"
     ]
    }
   ],
   "source": [
    "neurips_BM_atac_s1d1 = neurips_BM_atac[neurips_BM_atac.obs.batch ==\"s1d1\"]"
   ]
  },
  {
   "cell_type": "code",
   "execution_count": 196,
   "id": "00ff7bec-68d1-4637-b704-464ed973b99a",
   "metadata": {},
   "outputs": [
    {
     "data": {
      "text/plain": [
       "View of AnnData object with n_obs × n_vars = 6224 × 129921\n",
       "    obs: 'GEX_pct_counts_mt', 'GEX_n_counts', 'GEX_n_genes', 'GEX_size_factors', 'GEX_phase', 'ATAC_nCount_peaks', 'ATAC_atac_fragments', 'ATAC_reads_in_peaks_frac', 'ATAC_blacklist_fraction', 'ATAC_nucleosome_signal', 'cell_type', 'batch', 'ATAC_pseudotime_order', 'GEX_pseudotime_order', 'Samplename', 'Site', 'DonorNumber', 'Modality', 'VendorLot', 'DonorID', 'DonorAge', 'DonorBMI', 'DonorBloodType', 'DonorRace', 'Ethnicity', 'DonorGender', 'QCMeds', 'DonorSmoker'\n",
       "    var: 'feature_types', 'gene_id'\n",
       "    uns: 'ATAC_gene_activity_var_names', 'dataset_id', 'genome', 'organism'\n",
       "    obsm: 'ATAC_gene_activity', 'ATAC_lsi_full', 'ATAC_lsi_red', 'ATAC_umap', 'GEX_X_pca', 'GEX_X_umap'\n",
       "    layers: 'counts'"
      ]
     },
     "execution_count": 196,
     "metadata": {},
     "output_type": "execute_result"
    }
   ],
   "source": [
    "neurips_BM_atac_s1d1"
   ]
  },
  {
   "cell_type": "code",
   "execution_count": 43,
   "id": "fa8fb5ee-a70c-4c40-b1d6-ac335a73f3e4",
   "metadata": {},
   "outputs": [
    {
     "data": {
      "text/plain": [
       "<6224x129921 sparse matrix of type '<class 'numpy.float32'>'\n",
       "\twith 29000285 stored elements in Compressed Sparse Row format>"
      ]
     },
     "execution_count": 43,
     "metadata": {},
     "output_type": "execute_result"
    }
   ],
   "source": [
    "neurips_BM_atac_s1d1.layers[\"counts\"]"
   ]
  },
  {
   "cell_type": "code",
   "execution_count": 10,
   "id": "5c6a87d3-7d9e-4489-b81d-304fd548b162",
   "metadata": {},
   "outputs": [
    {
     "name": "stderr",
     "output_type": "stream",
     "text": [
      "/home/altay/miniconda3/envs/python_3.10.10_env/lib/python3.10/site-packages/scanpy/plotting/_tools/scatterplots.py:1207: FutureWarning: is_categorical_dtype is deprecated and will be removed in a future version. Use isinstance(dtype, CategoricalDtype) instead\n",
      "  if not is_categorical_dtype(values):\n",
      "/home/altay/miniconda3/envs/python_3.10.10_env/lib/python3.10/site-packages/scanpy/plotting/_utils.py:429: ImplicitModificationWarning: Trying to modify attribute `._uns` of view, initializing view as actual.\n",
      "  adata.uns[value_to_plot + '_colors'] = colors_list\n",
      "/home/altay/miniconda3/envs/python_3.10.10_env/lib/python3.10/site-packages/scanpy/plotting/_tools/scatterplots.py:1216: FutureWarning: The default value of 'ignore' for the `na_action` parameter in pandas.Categorical.map is deprecated and will be changed to 'None' in a future version. Please set na_action to the desired value to avoid seeing this warning\n",
      "  color_vector = pd.Categorical(values.map(color_map))\n",
      "/home/altay/miniconda3/envs/python_3.10.10_env/lib/python3.10/site-packages/scanpy/plotting/_tools/scatterplots.py:391: UserWarning: No data for colormapping provided via 'c'. Parameters 'cmap' will be ignored\n",
      "  cax = scatter(\n"
     ]
    },
    {
     "data": {
      "image/png": "[encoded data removed]",
      "text/plain": [
       "<Figure size 640x480 with 1 Axes>"
      ]
     },
     "metadata": {},
     "output_type": "display_data"
    }
   ],
   "source": [
    "sc.pl.embedding(neurips_BM_atac_s1d1, basis='ATAC_umap', color=\"cell_type\")"
   ]
  },
  {
   "cell_type": "code",
   "execution_count": 11,
   "id": "73c88026-2e5c-40d2-96e8-7299c31b4d4c",
   "metadata": {},
   "outputs": [
    {
     "data": {
      "text/plain": [
       "<6224x129921 sparse matrix of type '<class 'numpy.float32'>'\n",
       "\twith 29000285 stored elements in Compressed Sparse Row format>"
      ]
     },
     "execution_count": 11,
     "metadata": {},
     "output_type": "execute_result"
    }
   ],
   "source": [
    "neurips_BM_atac_s1d1.layers['counts']"
   ]
  },
  {
   "cell_type": "code",
   "execution_count": 55,
   "id": "3b216ea5-a33a-45a9-b48f-d5dd9f33b5ef",
   "metadata": {},
   "outputs": [
    {
     "data": {
      "text/plain": [
       "AL627309.5                  GEX\n",
       "LINC01409                   GEX\n",
       "LINC01128                   GEX\n",
       "NOC2L                       GEX\n",
       "KLHL17                      GEX\n",
       "                           ... \n",
       "GL000219.1-90062-90937     ATAC\n",
       "GL000219.1-99257-100160    ATAC\n",
       "KI270726.1-27152-28034     ATAC\n",
       "KI270713.1-21434-22336     ATAC\n",
       "KI270713.1-29629-30491     ATAC\n",
       "Name: feature_types, Length: 129921, dtype: category\n",
       "Categories (2, object): ['ATAC', 'GEX']"
      ]
     },
     "execution_count": 55,
     "metadata": {},
     "output_type": "execute_result"
    }
   ],
   "source": [
    "neurips_BM_atac_s1d1.var[\"feature_types\"]"
   ]
  },
  {
   "cell_type": "code",
   "execution_count": 13,
   "id": "ffe54ab5-8733-412f-a254-41e6e68934fb",
   "metadata": {},
   "outputs": [
    {
     "data": {
      "text/html": [
       "<div>\n",
       "<style scoped>\n",
       "    .dataframe tbody tr th:only-of-type {\n",
       "        vertical-align: middle;\n",
       "    }\n",
       "\n",
       "    .dataframe tbody tr th {\n",
       "        vertical-align: top;\n",
       "    }\n",
       "\n",
       "    .dataframe thead th {\n",
       "        text-align: right;\n",
       "    }\n",
       "</style>\n",
       "<table border=\"1\" class=\"dataframe\">\n",
       "  <thead>\n",
       "    <tr style=\"text-align: right;\">\n",
       "      <th></th>\n",
       "      <th>feature_types</th>\n",
       "      <th>gene_id</th>\n",
       "    </tr>\n",
       "  </thead>\n",
       "  <tbody>\n",
       "    <tr>\n",
       "      <th>AL627309.5</th>\n",
       "      <td>GEX</td>\n",
       "      <td>ENSG00000241860</td>\n",
       "    </tr>\n",
       "    <tr>\n",
       "      <th>LINC01409</th>\n",
       "      <td>GEX</td>\n",
       "      <td>ENSG00000237491</td>\n",
       "    </tr>\n",
       "    <tr>\n",
       "      <th>LINC01128</th>\n",
       "      <td>GEX</td>\n",
       "      <td>ENSG00000228794</td>\n",
       "    </tr>\n",
       "    <tr>\n",
       "      <th>NOC2L</th>\n",
       "      <td>GEX</td>\n",
       "      <td>ENSG00000188976</td>\n",
       "    </tr>\n",
       "    <tr>\n",
       "      <th>KLHL17</th>\n",
       "      <td>GEX</td>\n",
       "      <td>ENSG00000187961</td>\n",
       "    </tr>\n",
       "    <tr>\n",
       "      <th>...</th>\n",
       "      <td>...</td>\n",
       "      <td>...</td>\n",
       "    </tr>\n",
       "    <tr>\n",
       "      <th>GL000219.1-90062-90937</th>\n",
       "      <td>ATAC</td>\n",
       "      <td>NaN</td>\n",
       "    </tr>\n",
       "    <tr>\n",
       "      <th>GL000219.1-99257-100160</th>\n",
       "      <td>ATAC</td>\n",
       "      <td>NaN</td>\n",
       "    </tr>\n",
       "    <tr>\n",
       "      <th>KI270726.1-27152-28034</th>\n",
       "      <td>ATAC</td>\n",
       "      <td>NaN</td>\n",
       "    </tr>\n",
       "    <tr>\n",
       "      <th>KI270713.1-21434-22336</th>\n",
       "      <td>ATAC</td>\n",
       "      <td>NaN</td>\n",
       "    </tr>\n",
       "    <tr>\n",
       "      <th>KI270713.1-29629-30491</th>\n",
       "      <td>ATAC</td>\n",
       "      <td>NaN</td>\n",
       "    </tr>\n",
       "  </tbody>\n",
       "</table>\n",
       "<p>129921 rows × 2 columns</p>\n",
       "</div>"
      ],
      "text/plain": [
       "                        feature_types          gene_id\n",
       "AL627309.5                        GEX  ENSG00000241860\n",
       "LINC01409                         GEX  ENSG00000237491\n",
       "LINC01128                         GEX  ENSG00000228794\n",
       "NOC2L                             GEX  ENSG00000188976\n",
       "KLHL17                            GEX  ENSG00000187961\n",
       "...                               ...              ...\n",
       "GL000219.1-90062-90937           ATAC              NaN\n",
       "GL000219.1-99257-100160          ATAC              NaN\n",
       "KI270726.1-27152-28034           ATAC              NaN\n",
       "KI270713.1-21434-22336           ATAC              NaN\n",
       "KI270713.1-29629-30491           ATAC              NaN\n",
       "\n",
       "[129921 rows x 2 columns]"
      ]
     },
     "execution_count": 13,
     "metadata": {},
     "output_type": "execute_result"
    }
   ],
   "source": [
    "neurips_BM_atac_s1d1.var"
   ]
  },
  {
   "cell_type": "code",
   "execution_count": 140,
   "id": "62f31b4a-148a-47e7-a05e-14f36b3b0d5f",
   "metadata": {},
   "outputs": [],
   "source": [
    "neurips_BM_atac_s1d1_only_atac_features = neurips_BM_atac_s1d1[:,neurips_BM_atac_s1d1.var.feature_types == \"ATAC\"]"
   ]
  },
  {
   "cell_type": "code",
   "execution_count": 141,
   "id": "d81284c4-d9c1-4d49-a576-5743bbd1ea83",
   "metadata": {},
   "outputs": [
    {
     "data": {
      "text/html": [
       "<div>\n",
       "<style scoped>\n",
       "    .dataframe tbody tr th:only-of-type {\n",
       "        vertical-align: middle;\n",
       "    }\n",
       "\n",
       "    .dataframe tbody tr th {\n",
       "        vertical-align: top;\n",
       "    }\n",
       "\n",
       "    .dataframe thead th {\n",
       "        text-align: right;\n",
       "    }\n",
       "</style>\n",
       "<table border=\"1\" class=\"dataframe\">\n",
       "  <thead>\n",
       "    <tr style=\"text-align: right;\">\n",
       "      <th></th>\n",
       "      <th>GEX_pct_counts_mt</th>\n",
       "      <th>GEX_n_counts</th>\n",
       "      <th>GEX_n_genes</th>\n",
       "      <th>GEX_size_factors</th>\n",
       "      <th>GEX_phase</th>\n",
       "      <th>ATAC_nCount_peaks</th>\n",
       "      <th>ATAC_atac_fragments</th>\n",
       "      <th>ATAC_reads_in_peaks_frac</th>\n",
       "      <th>ATAC_blacklist_fraction</th>\n",
       "      <th>ATAC_nucleosome_signal</th>\n",
       "      <th>...</th>\n",
       "      <th>VendorLot</th>\n",
       "      <th>DonorID</th>\n",
       "      <th>DonorAge</th>\n",
       "      <th>DonorBMI</th>\n",
       "      <th>DonorBloodType</th>\n",
       "      <th>DonorRace</th>\n",
       "      <th>Ethnicity</th>\n",
       "      <th>DonorGender</th>\n",
       "      <th>QCMeds</th>\n",
       "      <th>DonorSmoker</th>\n",
       "    </tr>\n",
       "  </thead>\n",
       "  <tbody>\n",
       "    <tr>\n",
       "      <th>TAGTTGTCACCCTCAC-1-s1d1</th>\n",
       "      <td>1.061008</td>\n",
       "      <td>1508.0</td>\n",
       "      <td>1022</td>\n",
       "      <td>0.453484</td>\n",
       "      <td>S</td>\n",
       "      <td>4031.0</td>\n",
       "      <td>5400</td>\n",
       "      <td>0.746481</td>\n",
       "      <td>0.003473</td>\n",
       "      <td>0.642468</td>\n",
       "      <td>...</td>\n",
       "      <td>3054455</td>\n",
       "      <td>15078</td>\n",
       "      <td>34</td>\n",
       "      <td>24.8</td>\n",
       "      <td>B-</td>\n",
       "      <td>White</td>\n",
       "      <td>HISPANIC OR LATINO</td>\n",
       "      <td>Male</td>\n",
       "      <td>False</td>\n",
       "      <td>Nonsmoker</td>\n",
       "    </tr>\n",
       "    <tr>\n",
       "      <th>CTATGGCCATAACGGG-1-s1d1</th>\n",
       "      <td>0.604230</td>\n",
       "      <td>1655.0</td>\n",
       "      <td>1081</td>\n",
       "      <td>0.455631</td>\n",
       "      <td>G2M</td>\n",
       "      <td>8636.0</td>\n",
       "      <td>19266</td>\n",
       "      <td>0.448251</td>\n",
       "      <td>0.003126</td>\n",
       "      <td>1.220679</td>\n",
       "      <td>...</td>\n",
       "      <td>3054455</td>\n",
       "      <td>15078</td>\n",
       "      <td>34</td>\n",
       "      <td>24.8</td>\n",
       "      <td>B-</td>\n",
       "      <td>White</td>\n",
       "      <td>HISPANIC OR LATINO</td>\n",
       "      <td>Male</td>\n",
       "      <td>False</td>\n",
       "      <td>Nonsmoker</td>\n",
       "    </tr>\n",
       "    <tr>\n",
       "      <th>CCGCACACAGGTTAAA-1-s1d1</th>\n",
       "      <td>0.650069</td>\n",
       "      <td>7230.0</td>\n",
       "      <td>3304</td>\n",
       "      <td>2.435348</td>\n",
       "      <td>G2M</td>\n",
       "      <td>4674.0</td>\n",
       "      <td>6177</td>\n",
       "      <td>0.756678</td>\n",
       "      <td>0.001284</td>\n",
       "      <td>0.692573</td>\n",
       "      <td>...</td>\n",
       "      <td>3054455</td>\n",
       "      <td>15078</td>\n",
       "      <td>34</td>\n",
       "      <td>24.8</td>\n",
       "      <td>B-</td>\n",
       "      <td>White</td>\n",
       "      <td>HISPANIC OR LATINO</td>\n",
       "      <td>Male</td>\n",
       "      <td>False</td>\n",
       "      <td>Nonsmoker</td>\n",
       "    </tr>\n",
       "    <tr>\n",
       "      <th>TCATTTGGTAATGGAA-1-s1d1</th>\n",
       "      <td>0.812274</td>\n",
       "      <td>1108.0</td>\n",
       "      <td>793</td>\n",
       "      <td>0.347226</td>\n",
       "      <td>G2M</td>\n",
       "      <td>2803.0</td>\n",
       "      <td>4019</td>\n",
       "      <td>0.697437</td>\n",
       "      <td>0.000714</td>\n",
       "      <td>0.633838</td>\n",
       "      <td>...</td>\n",
       "      <td>3054455</td>\n",
       "      <td>15078</td>\n",
       "      <td>34</td>\n",
       "      <td>24.8</td>\n",
       "      <td>B-</td>\n",
       "      <td>White</td>\n",
       "      <td>HISPANIC OR LATINO</td>\n",
       "      <td>Male</td>\n",
       "      <td>False</td>\n",
       "      <td>Nonsmoker</td>\n",
       "    </tr>\n",
       "    <tr>\n",
       "      <th>ACCACATAGGTGTCCA-1-s1d1</th>\n",
       "      <td>1.674770</td>\n",
       "      <td>1851.0</td>\n",
       "      <td>1219</td>\n",
       "      <td>0.534205</td>\n",
       "      <td>G2M</td>\n",
       "      <td>1790.0</td>\n",
       "      <td>2568</td>\n",
       "      <td>0.697040</td>\n",
       "      <td>0.003352</td>\n",
       "      <td>0.727660</td>\n",
       "      <td>...</td>\n",
       "      <td>3054455</td>\n",
       "      <td>15078</td>\n",
       "      <td>34</td>\n",
       "      <td>24.8</td>\n",
       "      <td>B-</td>\n",
       "      <td>White</td>\n",
       "      <td>HISPANIC OR LATINO</td>\n",
       "      <td>Male</td>\n",
       "      <td>False</td>\n",
       "      <td>Nonsmoker</td>\n",
       "    </tr>\n",
       "    <tr>\n",
       "      <th>...</th>\n",
       "      <td>...</td>\n",
       "      <td>...</td>\n",
       "      <td>...</td>\n",
       "      <td>...</td>\n",
       "      <td>...</td>\n",
       "      <td>...</td>\n",
       "      <td>...</td>\n",
       "      <td>...</td>\n",
       "      <td>...</td>\n",
       "      <td>...</td>\n",
       "      <td>...</td>\n",
       "      <td>...</td>\n",
       "      <td>...</td>\n",
       "      <td>...</td>\n",
       "      <td>...</td>\n",
       "      <td>...</td>\n",
       "      <td>...</td>\n",
       "      <td>...</td>\n",
       "      <td>...</td>\n",
       "      <td>...</td>\n",
       "      <td>...</td>\n",
       "    </tr>\n",
       "    <tr>\n",
       "      <th>AGACCCGGTTATCCTA-1-s1d1</th>\n",
       "      <td>0.387097</td>\n",
       "      <td>3100.0</td>\n",
       "      <td>1824</td>\n",
       "      <td>1.073692</td>\n",
       "      <td>G2M</td>\n",
       "      <td>13036.0</td>\n",
       "      <td>18936</td>\n",
       "      <td>0.688424</td>\n",
       "      <td>0.001534</td>\n",
       "      <td>0.832646</td>\n",
       "      <td>...</td>\n",
       "      <td>3054455</td>\n",
       "      <td>15078</td>\n",
       "      <td>34</td>\n",
       "      <td>24.8</td>\n",
       "      <td>B-</td>\n",
       "      <td>White</td>\n",
       "      <td>HISPANIC OR LATINO</td>\n",
       "      <td>Male</td>\n",
       "      <td>False</td>\n",
       "      <td>Nonsmoker</td>\n",
       "    </tr>\n",
       "    <tr>\n",
       "      <th>GACCTAAGTGCCTCAC-1-s1d1</th>\n",
       "      <td>1.292351</td>\n",
       "      <td>2863.0</td>\n",
       "      <td>1672</td>\n",
       "      <td>0.871723</td>\n",
       "      <td>G2M</td>\n",
       "      <td>4527.0</td>\n",
       "      <td>6628</td>\n",
       "      <td>0.683011</td>\n",
       "      <td>0.001325</td>\n",
       "      <td>0.688988</td>\n",
       "      <td>...</td>\n",
       "      <td>3054455</td>\n",
       "      <td>15078</td>\n",
       "      <td>34</td>\n",
       "      <td>24.8</td>\n",
       "      <td>B-</td>\n",
       "      <td>White</td>\n",
       "      <td>HISPANIC OR LATINO</td>\n",
       "      <td>Male</td>\n",
       "      <td>False</td>\n",
       "      <td>Nonsmoker</td>\n",
       "    </tr>\n",
       "    <tr>\n",
       "      <th>AGCTCATAGCTATATG-1-s1d1</th>\n",
       "      <td>0.607903</td>\n",
       "      <td>1974.0</td>\n",
       "      <td>1272</td>\n",
       "      <td>0.631238</td>\n",
       "      <td>G2M</td>\n",
       "      <td>5023.0</td>\n",
       "      <td>6772</td>\n",
       "      <td>0.741731</td>\n",
       "      <td>0.003584</td>\n",
       "      <td>0.757433</td>\n",
       "      <td>...</td>\n",
       "      <td>3054455</td>\n",
       "      <td>15078</td>\n",
       "      <td>34</td>\n",
       "      <td>24.8</td>\n",
       "      <td>B-</td>\n",
       "      <td>White</td>\n",
       "      <td>HISPANIC OR LATINO</td>\n",
       "      <td>Male</td>\n",
       "      <td>False</td>\n",
       "      <td>Nonsmoker</td>\n",
       "    </tr>\n",
       "    <tr>\n",
       "      <th>TACGTACAGGAAACTG-1-s1d1</th>\n",
       "      <td>1.628664</td>\n",
       "      <td>921.0</td>\n",
       "      <td>682</td>\n",
       "      <td>0.276327</td>\n",
       "      <td>G2M</td>\n",
       "      <td>3208.0</td>\n",
       "      <td>4279</td>\n",
       "      <td>0.749708</td>\n",
       "      <td>0.004364</td>\n",
       "      <td>0.668293</td>\n",
       "      <td>...</td>\n",
       "      <td>3054455</td>\n",
       "      <td>15078</td>\n",
       "      <td>34</td>\n",
       "      <td>24.8</td>\n",
       "      <td>B-</td>\n",
       "      <td>White</td>\n",
       "      <td>HISPANIC OR LATINO</td>\n",
       "      <td>Male</td>\n",
       "      <td>False</td>\n",
       "      <td>Nonsmoker</td>\n",
       "    </tr>\n",
       "    <tr>\n",
       "      <th>GGTTTCTGTTTATCTG-1-s1d1</th>\n",
       "      <td>0.826173</td>\n",
       "      <td>3026.0</td>\n",
       "      <td>1764</td>\n",
       "      <td>0.972777</td>\n",
       "      <td>S</td>\n",
       "      <td>8787.0</td>\n",
       "      <td>12591</td>\n",
       "      <td>0.697879</td>\n",
       "      <td>0.002276</td>\n",
       "      <td>0.763248</td>\n",
       "      <td>...</td>\n",
       "      <td>3054455</td>\n",
       "      <td>15078</td>\n",
       "      <td>34</td>\n",
       "      <td>24.8</td>\n",
       "      <td>B-</td>\n",
       "      <td>White</td>\n",
       "      <td>HISPANIC OR LATINO</td>\n",
       "      <td>Male</td>\n",
       "      <td>False</td>\n",
       "      <td>Nonsmoker</td>\n",
       "    </tr>\n",
       "  </tbody>\n",
       "</table>\n",
       "<p>6224 rows × 28 columns</p>\n",
       "</div>"
      ],
      "text/plain": [
       "                         GEX_pct_counts_mt  GEX_n_counts  GEX_n_genes  \\\n",
       "TAGTTGTCACCCTCAC-1-s1d1           1.061008        1508.0         1022   \n",
       "CTATGGCCATAACGGG-1-s1d1           0.604230        1655.0         1081   \n",
       "CCGCACACAGGTTAAA-1-s1d1           0.650069        7230.0         3304   \n",
       "TCATTTGGTAATGGAA-1-s1d1           0.812274        1108.0          793   \n",
       "ACCACATAGGTGTCCA-1-s1d1           1.674770        1851.0         1219   \n",
       "...                                    ...           ...          ...   \n",
       "AGACCCGGTTATCCTA-1-s1d1           0.387097        3100.0         1824   \n",
       "GACCTAAGTGCCTCAC-1-s1d1           1.292351        2863.0         1672   \n",
       "AGCTCATAGCTATATG-1-s1d1           0.607903        1974.0         1272   \n",
       "TACGTACAGGAAACTG-1-s1d1           1.628664         921.0          682   \n",
       "GGTTTCTGTTTATCTG-1-s1d1           0.826173        3026.0         1764   \n",
       "\n",
       "                         GEX_size_factors GEX_phase  ATAC_nCount_peaks  \\\n",
       "TAGTTGTCACCCTCAC-1-s1d1          0.453484         S             4031.0   \n",
       "CTATGGCCATAACGGG-1-s1d1          0.455631       G2M             8636.0   \n",
       "CCGCACACAGGTTAAA-1-s1d1          2.435348       G2M             4674.0   \n",
       "TCATTTGGTAATGGAA-1-s1d1          0.347226       G2M             2803.0   \n",
       "ACCACATAGGTGTCCA-1-s1d1          0.534205       G2M             1790.0   \n",
       "...                                   ...       ...                ...   \n",
       "AGACCCGGTTATCCTA-1-s1d1          1.073692       G2M            13036.0   \n",
       "GACCTAAGTGCCTCAC-1-s1d1          0.871723       G2M             4527.0   \n",
       "AGCTCATAGCTATATG-1-s1d1          0.631238       G2M             5023.0   \n",
       "TACGTACAGGAAACTG-1-s1d1          0.276327       G2M             3208.0   \n",
       "GGTTTCTGTTTATCTG-1-s1d1          0.972777         S             8787.0   \n",
       "\n",
       "                         ATAC_atac_fragments  ATAC_reads_in_peaks_frac  \\\n",
       "TAGTTGTCACCCTCAC-1-s1d1                 5400                  0.746481   \n",
       "CTATGGCCATAACGGG-1-s1d1                19266                  0.448251   \n",
       "CCGCACACAGGTTAAA-1-s1d1                 6177                  0.756678   \n",
       "TCATTTGGTAATGGAA-1-s1d1                 4019                  0.697437   \n",
       "ACCACATAGGTGTCCA-1-s1d1                 2568                  0.697040   \n",
       "...                                      ...                       ...   \n",
       "AGACCCGGTTATCCTA-1-s1d1                18936                  0.688424   \n",
       "GACCTAAGTGCCTCAC-1-s1d1                 6628                  0.683011   \n",
       "AGCTCATAGCTATATG-1-s1d1                 6772                  0.741731   \n",
       "TACGTACAGGAAACTG-1-s1d1                 4279                  0.749708   \n",
       "GGTTTCTGTTTATCTG-1-s1d1                12591                  0.697879   \n",
       "\n",
       "                         ATAC_blacklist_fraction  ATAC_nucleosome_signal  ...  \\\n",
       "TAGTTGTCACCCTCAC-1-s1d1                 0.003473                0.642468  ...   \n",
       "CTATGGCCATAACGGG-1-s1d1                 0.003126                1.220679  ...   \n",
       "CCGCACACAGGTTAAA-1-s1d1                 0.001284                0.692573  ...   \n",
       "TCATTTGGTAATGGAA-1-s1d1                 0.000714                0.633838  ...   \n",
       "ACCACATAGGTGTCCA-1-s1d1                 0.003352                0.727660  ...   \n",
       "...                                          ...                     ...  ...   \n",
       "AGACCCGGTTATCCTA-1-s1d1                 0.001534                0.832646  ...   \n",
       "GACCTAAGTGCCTCAC-1-s1d1                 0.001325                0.688988  ...   \n",
       "AGCTCATAGCTATATG-1-s1d1                 0.003584                0.757433  ...   \n",
       "TACGTACAGGAAACTG-1-s1d1                 0.004364                0.668293  ...   \n",
       "GGTTTCTGTTTATCTG-1-s1d1                 0.002276                0.763248  ...   \n",
       "\n",
       "                        VendorLot DonorID  DonorAge  DonorBMI DonorBloodType  \\\n",
       "TAGTTGTCACCCTCAC-1-s1d1   3054455   15078        34      24.8             B-   \n",
       "CTATGGCCATAACGGG-1-s1d1   3054455   15078        34      24.8             B-   \n",
       "CCGCACACAGGTTAAA-1-s1d1   3054455   15078        34      24.8             B-   \n",
       "TCATTTGGTAATGGAA-1-s1d1   3054455   15078        34      24.8             B-   \n",
       "ACCACATAGGTGTCCA-1-s1d1   3054455   15078        34      24.8             B-   \n",
       "...                           ...     ...       ...       ...            ...   \n",
       "AGACCCGGTTATCCTA-1-s1d1   3054455   15078        34      24.8             B-   \n",
       "GACCTAAGTGCCTCAC-1-s1d1   3054455   15078        34      24.8             B-   \n",
       "AGCTCATAGCTATATG-1-s1d1   3054455   15078        34      24.8             B-   \n",
       "TACGTACAGGAAACTG-1-s1d1   3054455   15078        34      24.8             B-   \n",
       "GGTTTCTGTTTATCTG-1-s1d1   3054455   15078        34      24.8             B-   \n",
       "\n",
       "                        DonorRace           Ethnicity DonorGender  QCMeds  \\\n",
       "TAGTTGTCACCCTCAC-1-s1d1     White  HISPANIC OR LATINO        Male   False   \n",
       "CTATGGCCATAACGGG-1-s1d1     White  HISPANIC OR LATINO        Male   False   \n",
       "CCGCACACAGGTTAAA-1-s1d1     White  HISPANIC OR LATINO        Male   False   \n",
       "TCATTTGGTAATGGAA-1-s1d1     White  HISPANIC OR LATINO        Male   False   \n",
       "ACCACATAGGTGTCCA-1-s1d1     White  HISPANIC OR LATINO        Male   False   \n",
       "...                           ...                 ...         ...     ...   \n",
       "AGACCCGGTTATCCTA-1-s1d1     White  HISPANIC OR LATINO        Male   False   \n",
       "GACCTAAGTGCCTCAC-1-s1d1     White  HISPANIC OR LATINO        Male   False   \n",
       "AGCTCATAGCTATATG-1-s1d1     White  HISPANIC OR LATINO        Male   False   \n",
       "TACGTACAGGAAACTG-1-s1d1     White  HISPANIC OR LATINO        Male   False   \n",
       "GGTTTCTGTTTATCTG-1-s1d1     White  HISPANIC OR LATINO        Male   False   \n",
       "\n",
       "                         DonorSmoker  \n",
       "TAGTTGTCACCCTCAC-1-s1d1    Nonsmoker  \n",
       "CTATGGCCATAACGGG-1-s1d1    Nonsmoker  \n",
       "CCGCACACAGGTTAAA-1-s1d1    Nonsmoker  \n",
       "TCATTTGGTAATGGAA-1-s1d1    Nonsmoker  \n",
       "ACCACATAGGTGTCCA-1-s1d1    Nonsmoker  \n",
       "...                              ...  \n",
       "AGACCCGGTTATCCTA-1-s1d1    Nonsmoker  \n",
       "GACCTAAGTGCCTCAC-1-s1d1    Nonsmoker  \n",
       "AGCTCATAGCTATATG-1-s1d1    Nonsmoker  \n",
       "TACGTACAGGAAACTG-1-s1d1    Nonsmoker  \n",
       "GGTTTCTGTTTATCTG-1-s1d1    Nonsmoker  \n",
       "\n",
       "[6224 rows x 28 columns]"
      ]
     },
     "execution_count": 141,
     "metadata": {},
     "output_type": "execute_result"
    }
   ],
   "source": [
    "neurips_BM_atac_s1d1_only_atac_features.obs"
   ]
  },
  {
   "cell_type": "code",
   "execution_count": 142,
   "id": "de1eea1c-ec50-46cf-b462-d5a7bfe4adea",
   "metadata": {},
   "outputs": [
    {
     "name": "stderr",
     "output_type": "stream",
     "text": [
      "/home/altay/miniconda3/envs/python_3.10.10_env/lib/python3.10/site-packages/anndata/_core/anndata.py:1113: FutureWarning: is_categorical_dtype is deprecated and will be removed in a future version. Use isinstance(dtype, CategoricalDtype) instead\n",
      "  if not is_categorical_dtype(df_full[k]):\n"
     ]
    },
    {
     "data": {
      "text/plain": [
       "View of AnnData object with n_obs × n_vars = 6224 × 116490\n",
       "    obs: 'GEX_pct_counts_mt', 'GEX_n_counts', 'GEX_n_genes', 'GEX_size_factors', 'GEX_phase', 'ATAC_nCount_peaks', 'ATAC_atac_fragments', 'ATAC_reads_in_peaks_frac', 'ATAC_blacklist_fraction', 'ATAC_nucleosome_signal', 'cell_type', 'batch', 'ATAC_pseudotime_order', 'GEX_pseudotime_order', 'Samplename', 'Site', 'DonorNumber', 'Modality', 'VendorLot', 'DonorID', 'DonorAge', 'DonorBMI', 'DonorBloodType', 'DonorRace', 'Ethnicity', 'DonorGender', 'QCMeds', 'DonorSmoker'\n",
       "    var: 'feature_types', 'gene_id'\n",
       "    uns: 'ATAC_gene_activity_var_names', 'dataset_id', 'genome', 'organism'\n",
       "    obsm: 'ATAC_gene_activity', 'ATAC_lsi_full', 'ATAC_lsi_red', 'ATAC_umap', 'GEX_X_pca', 'GEX_X_umap'\n",
       "    layers: 'counts'"
      ]
     },
     "execution_count": 142,
     "metadata": {},
     "output_type": "execute_result"
    }
   ],
   "source": [
    "neurips_BM_atac_s1d1[:,neurips_BM_atac_s1d1.var.feature_types == \"ATAC\"]"
   ]
  },
  {
   "cell_type": "code",
   "execution_count": null,
   "id": "f0344a81-6881-47d3-96db-fb2471a7f38b",
   "metadata": {},
   "outputs": [],
   "source": []
  },
  {
   "cell_type": "code",
   "execution_count": 143,
   "id": "d6e86ac0-b58c-4829-956b-fa922c7b8b50",
   "metadata": {},
   "outputs": [
    {
     "data": {
      "text/plain": [
       "<6224x116490 sparse matrix of type '<class 'numpy.float32'>'\n",
       "\twith 20453045 stored elements in Compressed Sparse Row format>"
      ]
     },
     "execution_count": 143,
     "metadata": {},
     "output_type": "execute_result"
    }
   ],
   "source": [
    "neurips_BM_atac_s1d1_only_atac_features.layers[\"counts\"]"
   ]
  },
  {
   "cell_type": "code",
   "execution_count": 20,
   "id": "8a068f9d-d53b-4c58-ae42-c67ff6084497",
   "metadata": {},
   "outputs": [],
   "source": [
    "neurips_BM_atac_s1d1_counts = neurips_BM_atac_s1d1_only_atac_features.layers[\"counts\"].todense()"
   ]
  },
  {
   "cell_type": "code",
   "execution_count": 46,
   "id": "9b312866-4a44-4c52-8d3c-c8ccd1a41766",
   "metadata": {},
   "outputs": [
    {
     "data": {
      "text/plain": [
       "matrix([[0., 0., 0., ..., 0., 0., 0.],\n",
       "        [0., 0., 0., ..., 0., 0., 0.],\n",
       "        [0., 0., 0., ..., 0., 0., 0.],\n",
       "        ...,\n",
       "        [0., 0., 0., ..., 0., 0., 0.],\n",
       "        [0., 0., 0., ..., 0., 0., 0.],\n",
       "        [0., 0., 0., ..., 0., 0., 0.]], dtype=float32)"
      ]
     },
     "execution_count": 46,
     "metadata": {},
     "output_type": "execute_result"
    }
   ],
   "source": [
    "neurips_BM_atac_s1d1_counts"
   ]
  },
  {
   "cell_type": "code",
   "execution_count": 54,
   "id": "8a2f00b6-e4a3-4199-9962-3f230b745d95",
   "metadata": {},
   "outputs": [
    {
     "data": {
      "text/plain": [
       "cell_type          \n",
       "CD14+ Mono             921\n",
       "CD4+ T activated       836\n",
       "Erythroblast           797\n",
       "CD8+ T                 725\n",
       "NK                     591\n",
       "CD4+ T naive           543\n",
       "Normoblast             387\n",
       "Naive CD20+ B          386\n",
       "B1 B                   201\n",
       "G/M prog               110\n",
       "ILC                    102\n",
       "pDC                     92\n",
       "Transitional B          83\n",
       "ID2-hi myeloid prog     67\n",
       "CD16+ Mono              66\n",
       "Proerythroblast         65\n",
       "MK/E prog               64\n",
       "Plasma cell             59\n",
       "Lymph prog              52\n",
       "HSC                     41\n",
       "cDC2                    36\n",
       "Name: count, dtype: int64"
      ]
     },
     "execution_count": 54,
     "metadata": {},
     "output_type": "execute_result"
    }
   ],
   "source": [
    "neurips_BM_atac_s1d1_only_atac_features.obs[['cell_type']].value_counts()"
   ]
  },
  {
   "cell_type": "code",
   "execution_count": 24,
   "id": "f423f006-ce37-409d-9308-3ed3808a791c",
   "metadata": {},
   "outputs": [],
   "source": [
    "neurips_BM_atac_s1d1_counts_df = pd.DataFrame(neurips_BM_atac_s1d1_counts)"
   ]
  },
  {
   "cell_type": "code",
   "execution_count": 25,
   "id": "f0d70056-3dc1-44f0-9373-08054736d3e5",
   "metadata": {},
   "outputs": [],
   "source": [
    "neurips_BM_atac_s1d1_counts_df.columns = neurips_BM_atac_s1d1_only_atac_features.var_names\n",
    "neurips_BM_atac_s1d1_counts_df.index = neurips_BM_atac_s1d1_only_atac_features.obs_names"
   ]
  },
  {
   "cell_type": "code",
   "execution_count": 26,
   "id": "6c4f3b81-6e50-468b-89b8-c31ab52b0608",
   "metadata": {},
   "outputs": [
    {
     "data": {
      "text/html": [
       "<div>\n",
       "<style scoped>\n",
       "    .dataframe tbody tr th:only-of-type {\n",
       "        vertical-align: middle;\n",
       "    }\n",
       "\n",
       "    .dataframe tbody tr th {\n",
       "        vertical-align: top;\n",
       "    }\n",
       "\n",
       "    .dataframe thead th {\n",
       "        text-align: right;\n",
       "    }\n",
       "</style>\n",
       "<table border=\"1\" class=\"dataframe\">\n",
       "  <thead>\n",
       "    <tr style=\"text-align: right;\">\n",
       "      <th></th>\n",
       "      <th>chr1-9776-10668</th>\n",
       "      <th>chr1-180726-181005</th>\n",
       "      <th>chr1-181117-181803</th>\n",
       "      <th>chr1-191133-192055</th>\n",
       "      <th>chr1-267562-268456</th>\n",
       "      <th>chr1-629497-630394</th>\n",
       "      <th>chr1-633515-634474</th>\n",
       "      <th>chr1-778276-779191</th>\n",
       "      <th>chr1-816868-817761</th>\n",
       "      <th>chr1-822804-823597</th>\n",
       "      <th>...</th>\n",
       "      <th>GL000195.1-137376-138301</th>\n",
       "      <th>GL000219.1-39933-40839</th>\n",
       "      <th>GL000219.1-42172-43054</th>\n",
       "      <th>GL000219.1-44703-45584</th>\n",
       "      <th>GL000219.1-45726-46450</th>\n",
       "      <th>GL000219.1-90062-90937</th>\n",
       "      <th>GL000219.1-99257-100160</th>\n",
       "      <th>KI270726.1-27152-28034</th>\n",
       "      <th>KI270713.1-21434-22336</th>\n",
       "      <th>KI270713.1-29629-30491</th>\n",
       "    </tr>\n",
       "  </thead>\n",
       "  <tbody>\n",
       "    <tr>\n",
       "      <th>TAGTTGTCACCCTCAC-1-s1d1</th>\n",
       "      <td>0.0</td>\n",
       "      <td>0.0</td>\n",
       "      <td>0.0</td>\n",
       "      <td>0.0</td>\n",
       "      <td>0.0</td>\n",
       "      <td>0.0</td>\n",
       "      <td>4.0</td>\n",
       "      <td>0.0</td>\n",
       "      <td>0.0</td>\n",
       "      <td>0.0</td>\n",
       "      <td>...</td>\n",
       "      <td>0.0</td>\n",
       "      <td>0.0</td>\n",
       "      <td>0.0</td>\n",
       "      <td>0.0</td>\n",
       "      <td>0.0</td>\n",
       "      <td>0.0</td>\n",
       "      <td>2.0</td>\n",
       "      <td>0.0</td>\n",
       "      <td>0.0</td>\n",
       "      <td>0.0</td>\n",
       "    </tr>\n",
       "    <tr>\n",
       "      <th>CTATGGCCATAACGGG-1-s1d1</th>\n",
       "      <td>0.0</td>\n",
       "      <td>0.0</td>\n",
       "      <td>0.0</td>\n",
       "      <td>0.0</td>\n",
       "      <td>0.0</td>\n",
       "      <td>2.0</td>\n",
       "      <td>4.0</td>\n",
       "      <td>0.0</td>\n",
       "      <td>0.0</td>\n",
       "      <td>0.0</td>\n",
       "      <td>...</td>\n",
       "      <td>0.0</td>\n",
       "      <td>0.0</td>\n",
       "      <td>0.0</td>\n",
       "      <td>0.0</td>\n",
       "      <td>0.0</td>\n",
       "      <td>0.0</td>\n",
       "      <td>0.0</td>\n",
       "      <td>0.0</td>\n",
       "      <td>0.0</td>\n",
       "      <td>0.0</td>\n",
       "    </tr>\n",
       "    <tr>\n",
       "      <th>CCGCACACAGGTTAAA-1-s1d1</th>\n",
       "      <td>0.0</td>\n",
       "      <td>0.0</td>\n",
       "      <td>0.0</td>\n",
       "      <td>0.0</td>\n",
       "      <td>0.0</td>\n",
       "      <td>0.0</td>\n",
       "      <td>2.0</td>\n",
       "      <td>0.0</td>\n",
       "      <td>0.0</td>\n",
       "      <td>0.0</td>\n",
       "      <td>...</td>\n",
       "      <td>0.0</td>\n",
       "      <td>0.0</td>\n",
       "      <td>0.0</td>\n",
       "      <td>0.0</td>\n",
       "      <td>0.0</td>\n",
       "      <td>0.0</td>\n",
       "      <td>0.0</td>\n",
       "      <td>0.0</td>\n",
       "      <td>0.0</td>\n",
       "      <td>0.0</td>\n",
       "    </tr>\n",
       "    <tr>\n",
       "      <th>TCATTTGGTAATGGAA-1-s1d1</th>\n",
       "      <td>0.0</td>\n",
       "      <td>0.0</td>\n",
       "      <td>0.0</td>\n",
       "      <td>0.0</td>\n",
       "      <td>0.0</td>\n",
       "      <td>0.0</td>\n",
       "      <td>0.0</td>\n",
       "      <td>0.0</td>\n",
       "      <td>0.0</td>\n",
       "      <td>0.0</td>\n",
       "      <td>...</td>\n",
       "      <td>0.0</td>\n",
       "      <td>0.0</td>\n",
       "      <td>0.0</td>\n",
       "      <td>0.0</td>\n",
       "      <td>0.0</td>\n",
       "      <td>0.0</td>\n",
       "      <td>0.0</td>\n",
       "      <td>0.0</td>\n",
       "      <td>0.0</td>\n",
       "      <td>0.0</td>\n",
       "    </tr>\n",
       "    <tr>\n",
       "      <th>ACCACATAGGTGTCCA-1-s1d1</th>\n",
       "      <td>0.0</td>\n",
       "      <td>0.0</td>\n",
       "      <td>0.0</td>\n",
       "      <td>0.0</td>\n",
       "      <td>0.0</td>\n",
       "      <td>0.0</td>\n",
       "      <td>2.0</td>\n",
       "      <td>0.0</td>\n",
       "      <td>0.0</td>\n",
       "      <td>0.0</td>\n",
       "      <td>...</td>\n",
       "      <td>0.0</td>\n",
       "      <td>0.0</td>\n",
       "      <td>0.0</td>\n",
       "      <td>0.0</td>\n",
       "      <td>0.0</td>\n",
       "      <td>0.0</td>\n",
       "      <td>0.0</td>\n",
       "      <td>0.0</td>\n",
       "      <td>0.0</td>\n",
       "      <td>0.0</td>\n",
       "    </tr>\n",
       "    <tr>\n",
       "      <th>...</th>\n",
       "      <td>...</td>\n",
       "      <td>...</td>\n",
       "      <td>...</td>\n",
       "      <td>...</td>\n",
       "      <td>...</td>\n",
       "      <td>...</td>\n",
       "      <td>...</td>\n",
       "      <td>...</td>\n",
       "      <td>...</td>\n",
       "      <td>...</td>\n",
       "      <td>...</td>\n",
       "      <td>...</td>\n",
       "      <td>...</td>\n",
       "      <td>...</td>\n",
       "      <td>...</td>\n",
       "      <td>...</td>\n",
       "      <td>...</td>\n",
       "      <td>...</td>\n",
       "      <td>...</td>\n",
       "      <td>...</td>\n",
       "      <td>...</td>\n",
       "    </tr>\n",
       "    <tr>\n",
       "      <th>AGACCCGGTTATCCTA-1-s1d1</th>\n",
       "      <td>0.0</td>\n",
       "      <td>0.0</td>\n",
       "      <td>0.0</td>\n",
       "      <td>0.0</td>\n",
       "      <td>0.0</td>\n",
       "      <td>2.0</td>\n",
       "      <td>2.0</td>\n",
       "      <td>0.0</td>\n",
       "      <td>0.0</td>\n",
       "      <td>0.0</td>\n",
       "      <td>...</td>\n",
       "      <td>0.0</td>\n",
       "      <td>0.0</td>\n",
       "      <td>0.0</td>\n",
       "      <td>1.0</td>\n",
       "      <td>0.0</td>\n",
       "      <td>0.0</td>\n",
       "      <td>2.0</td>\n",
       "      <td>0.0</td>\n",
       "      <td>0.0</td>\n",
       "      <td>0.0</td>\n",
       "    </tr>\n",
       "    <tr>\n",
       "      <th>GACCTAAGTGCCTCAC-1-s1d1</th>\n",
       "      <td>0.0</td>\n",
       "      <td>0.0</td>\n",
       "      <td>0.0</td>\n",
       "      <td>0.0</td>\n",
       "      <td>0.0</td>\n",
       "      <td>0.0</td>\n",
       "      <td>0.0</td>\n",
       "      <td>0.0</td>\n",
       "      <td>0.0</td>\n",
       "      <td>0.0</td>\n",
       "      <td>...</td>\n",
       "      <td>0.0</td>\n",
       "      <td>0.0</td>\n",
       "      <td>0.0</td>\n",
       "      <td>0.0</td>\n",
       "      <td>0.0</td>\n",
       "      <td>0.0</td>\n",
       "      <td>0.0</td>\n",
       "      <td>0.0</td>\n",
       "      <td>0.0</td>\n",
       "      <td>0.0</td>\n",
       "    </tr>\n",
       "    <tr>\n",
       "      <th>AGCTCATAGCTATATG-1-s1d1</th>\n",
       "      <td>0.0</td>\n",
       "      <td>0.0</td>\n",
       "      <td>0.0</td>\n",
       "      <td>0.0</td>\n",
       "      <td>0.0</td>\n",
       "      <td>0.0</td>\n",
       "      <td>0.0</td>\n",
       "      <td>0.0</td>\n",
       "      <td>0.0</td>\n",
       "      <td>0.0</td>\n",
       "      <td>...</td>\n",
       "      <td>0.0</td>\n",
       "      <td>0.0</td>\n",
       "      <td>0.0</td>\n",
       "      <td>0.0</td>\n",
       "      <td>0.0</td>\n",
       "      <td>0.0</td>\n",
       "      <td>2.0</td>\n",
       "      <td>0.0</td>\n",
       "      <td>0.0</td>\n",
       "      <td>0.0</td>\n",
       "    </tr>\n",
       "    <tr>\n",
       "      <th>TACGTACAGGAAACTG-1-s1d1</th>\n",
       "      <td>0.0</td>\n",
       "      <td>0.0</td>\n",
       "      <td>0.0</td>\n",
       "      <td>0.0</td>\n",
       "      <td>0.0</td>\n",
       "      <td>0.0</td>\n",
       "      <td>2.0</td>\n",
       "      <td>0.0</td>\n",
       "      <td>0.0</td>\n",
       "      <td>0.0</td>\n",
       "      <td>...</td>\n",
       "      <td>0.0</td>\n",
       "      <td>0.0</td>\n",
       "      <td>0.0</td>\n",
       "      <td>0.0</td>\n",
       "      <td>0.0</td>\n",
       "      <td>0.0</td>\n",
       "      <td>0.0</td>\n",
       "      <td>0.0</td>\n",
       "      <td>0.0</td>\n",
       "      <td>0.0</td>\n",
       "    </tr>\n",
       "    <tr>\n",
       "      <th>GGTTTCTGTTTATCTG-1-s1d1</th>\n",
       "      <td>0.0</td>\n",
       "      <td>0.0</td>\n",
       "      <td>0.0</td>\n",
       "      <td>0.0</td>\n",
       "      <td>0.0</td>\n",
       "      <td>0.0</td>\n",
       "      <td>4.0</td>\n",
       "      <td>0.0</td>\n",
       "      <td>0.0</td>\n",
       "      <td>0.0</td>\n",
       "      <td>...</td>\n",
       "      <td>0.0</td>\n",
       "      <td>0.0</td>\n",
       "      <td>0.0</td>\n",
       "      <td>0.0</td>\n",
       "      <td>0.0</td>\n",
       "      <td>0.0</td>\n",
       "      <td>0.0</td>\n",
       "      <td>0.0</td>\n",
       "      <td>0.0</td>\n",
       "      <td>0.0</td>\n",
       "    </tr>\n",
       "  </tbody>\n",
       "</table>\n",
       "<p>6224 rows × 116490 columns</p>\n",
       "</div>"
      ],
      "text/plain": [
       "                         chr1-9776-10668  chr1-180726-181005  \\\n",
       "TAGTTGTCACCCTCAC-1-s1d1              0.0                 0.0   \n",
       "CTATGGCCATAACGGG-1-s1d1              0.0                 0.0   \n",
       "CCGCACACAGGTTAAA-1-s1d1              0.0                 0.0   \n",
       "TCATTTGGTAATGGAA-1-s1d1              0.0                 0.0   \n",
       "ACCACATAGGTGTCCA-1-s1d1              0.0                 0.0   \n",
       "...                                  ...                 ...   \n",
       "AGACCCGGTTATCCTA-1-s1d1              0.0                 0.0   \n",
       "GACCTAAGTGCCTCAC-1-s1d1              0.0                 0.0   \n",
       "AGCTCATAGCTATATG-1-s1d1              0.0                 0.0   \n",
       "TACGTACAGGAAACTG-1-s1d1              0.0                 0.0   \n",
       "GGTTTCTGTTTATCTG-1-s1d1              0.0                 0.0   \n",
       "\n",
       "                         chr1-181117-181803  chr1-191133-192055  \\\n",
       "TAGTTGTCACCCTCAC-1-s1d1                 0.0                 0.0   \n",
       "CTATGGCCATAACGGG-1-s1d1                 0.0                 0.0   \n",
       "CCGCACACAGGTTAAA-1-s1d1                 0.0                 0.0   \n",
       "TCATTTGGTAATGGAA-1-s1d1                 0.0                 0.0   \n",
       "ACCACATAGGTGTCCA-1-s1d1                 0.0                 0.0   \n",
       "...                                     ...                 ...   \n",
       "AGACCCGGTTATCCTA-1-s1d1                 0.0                 0.0   \n",
       "GACCTAAGTGCCTCAC-1-s1d1                 0.0                 0.0   \n",
       "AGCTCATAGCTATATG-1-s1d1                 0.0                 0.0   \n",
       "TACGTACAGGAAACTG-1-s1d1                 0.0                 0.0   \n",
       "GGTTTCTGTTTATCTG-1-s1d1                 0.0                 0.0   \n",
       "\n",
       "                         chr1-267562-268456  chr1-629497-630394  \\\n",
       "TAGTTGTCACCCTCAC-1-s1d1                 0.0                 0.0   \n",
       "CTATGGCCATAACGGG-1-s1d1                 0.0                 2.0   \n",
       "CCGCACACAGGTTAAA-1-s1d1                 0.0                 0.0   \n",
       "TCATTTGGTAATGGAA-1-s1d1                 0.0                 0.0   \n",
       "ACCACATAGGTGTCCA-1-s1d1                 0.0                 0.0   \n",
       "...                                     ...                 ...   \n",
       "AGACCCGGTTATCCTA-1-s1d1                 0.0                 2.0   \n",
       "GACCTAAGTGCCTCAC-1-s1d1                 0.0                 0.0   \n",
       "AGCTCATAGCTATATG-1-s1d1                 0.0                 0.0   \n",
       "TACGTACAGGAAACTG-1-s1d1                 0.0                 0.0   \n",
       "GGTTTCTGTTTATCTG-1-s1d1                 0.0                 0.0   \n",
       "\n",
       "                         chr1-633515-634474  chr1-778276-779191  \\\n",
       "TAGTTGTCACCCTCAC-1-s1d1                 4.0                 0.0   \n",
       "CTATGGCCATAACGGG-1-s1d1                 4.0                 0.0   \n",
       "CCGCACACAGGTTAAA-1-s1d1                 2.0                 0.0   \n",
       "TCATTTGGTAATGGAA-1-s1d1                 0.0                 0.0   \n",
       "ACCACATAGGTGTCCA-1-s1d1                 2.0                 0.0   \n",
       "...                                     ...                 ...   \n",
       "AGACCCGGTTATCCTA-1-s1d1                 2.0                 0.0   \n",
       "GACCTAAGTGCCTCAC-1-s1d1                 0.0                 0.0   \n",
       "AGCTCATAGCTATATG-1-s1d1                 0.0                 0.0   \n",
       "TACGTACAGGAAACTG-1-s1d1                 2.0                 0.0   \n",
       "GGTTTCTGTTTATCTG-1-s1d1                 4.0                 0.0   \n",
       "\n",
       "                         chr1-816868-817761  chr1-822804-823597  ...  \\\n",
       "TAGTTGTCACCCTCAC-1-s1d1                 0.0                 0.0  ...   \n",
       "CTATGGCCATAACGGG-1-s1d1                 0.0                 0.0  ...   \n",
       "CCGCACACAGGTTAAA-1-s1d1                 0.0                 0.0  ...   \n",
       "TCATTTGGTAATGGAA-1-s1d1                 0.0                 0.0  ...   \n",
       "ACCACATAGGTGTCCA-1-s1d1                 0.0                 0.0  ...   \n",
       "...                                     ...                 ...  ...   \n",
       "AGACCCGGTTATCCTA-1-s1d1                 0.0                 0.0  ...   \n",
       "GACCTAAGTGCCTCAC-1-s1d1                 0.0                 0.0  ...   \n",
       "AGCTCATAGCTATATG-1-s1d1                 0.0                 0.0  ...   \n",
       "TACGTACAGGAAACTG-1-s1d1                 0.0                 0.0  ...   \n",
       "GGTTTCTGTTTATCTG-1-s1d1                 0.0                 0.0  ...   \n",
       "\n",
       "                         GL000195.1-137376-138301  GL000219.1-39933-40839  \\\n",
       "TAGTTGTCACCCTCAC-1-s1d1                       0.0                     0.0   \n",
       "CTATGGCCATAACGGG-1-s1d1                       0.0                     0.0   \n",
       "CCGCACACAGGTTAAA-1-s1d1                       0.0                     0.0   \n",
       "TCATTTGGTAATGGAA-1-s1d1                       0.0                     0.0   \n",
       "ACCACATAGGTGTCCA-1-s1d1                       0.0                     0.0   \n",
       "...                                           ...                     ...   \n",
       "AGACCCGGTTATCCTA-1-s1d1                       0.0                     0.0   \n",
       "GACCTAAGTGCCTCAC-1-s1d1                       0.0                     0.0   \n",
       "AGCTCATAGCTATATG-1-s1d1                       0.0                     0.0   \n",
       "TACGTACAGGAAACTG-1-s1d1                       0.0                     0.0   \n",
       "GGTTTCTGTTTATCTG-1-s1d1                       0.0                     0.0   \n",
       "\n",
       "                         GL000219.1-42172-43054  GL000219.1-44703-45584  \\\n",
       "TAGTTGTCACCCTCAC-1-s1d1                     0.0                     0.0   \n",
       "CTATGGCCATAACGGG-1-s1d1                     0.0                     0.0   \n",
       "CCGCACACAGGTTAAA-1-s1d1                     0.0                     0.0   \n",
       "TCATTTGGTAATGGAA-1-s1d1                     0.0                     0.0   \n",
       "ACCACATAGGTGTCCA-1-s1d1                     0.0                     0.0   \n",
       "...                                         ...                     ...   \n",
       "AGACCCGGTTATCCTA-1-s1d1                     0.0                     1.0   \n",
       "GACCTAAGTGCCTCAC-1-s1d1                     0.0                     0.0   \n",
       "AGCTCATAGCTATATG-1-s1d1                     0.0                     0.0   \n",
       "TACGTACAGGAAACTG-1-s1d1                     0.0                     0.0   \n",
       "GGTTTCTGTTTATCTG-1-s1d1                     0.0                     0.0   \n",
       "\n",
       "                         GL000219.1-45726-46450  GL000219.1-90062-90937  \\\n",
       "TAGTTGTCACCCTCAC-1-s1d1                     0.0                     0.0   \n",
       "CTATGGCCATAACGGG-1-s1d1                     0.0                     0.0   \n",
       "CCGCACACAGGTTAAA-1-s1d1                     0.0                     0.0   \n",
       "TCATTTGGTAATGGAA-1-s1d1                     0.0                     0.0   \n",
       "ACCACATAGGTGTCCA-1-s1d1                     0.0                     0.0   \n",
       "...                                         ...                     ...   \n",
       "AGACCCGGTTATCCTA-1-s1d1                     0.0                     0.0   \n",
       "GACCTAAGTGCCTCAC-1-s1d1                     0.0                     0.0   \n",
       "AGCTCATAGCTATATG-1-s1d1                     0.0                     0.0   \n",
       "TACGTACAGGAAACTG-1-s1d1                     0.0                     0.0   \n",
       "GGTTTCTGTTTATCTG-1-s1d1                     0.0                     0.0   \n",
       "\n",
       "                         GL000219.1-99257-100160  KI270726.1-27152-28034  \\\n",
       "TAGTTGTCACCCTCAC-1-s1d1                      2.0                     0.0   \n",
       "CTATGGCCATAACGGG-1-s1d1                      0.0                     0.0   \n",
       "CCGCACACAGGTTAAA-1-s1d1                      0.0                     0.0   \n",
       "TCATTTGGTAATGGAA-1-s1d1                      0.0                     0.0   \n",
       "ACCACATAGGTGTCCA-1-s1d1                      0.0                     0.0   \n",
       "...                                          ...                     ...   \n",
       "AGACCCGGTTATCCTA-1-s1d1                      2.0                     0.0   \n",
       "GACCTAAGTGCCTCAC-1-s1d1                      0.0                     0.0   \n",
       "AGCTCATAGCTATATG-1-s1d1                      2.0                     0.0   \n",
       "TACGTACAGGAAACTG-1-s1d1                      0.0                     0.0   \n",
       "GGTTTCTGTTTATCTG-1-s1d1                      0.0                     0.0   \n",
       "\n",
       "                         KI270713.1-21434-22336  KI270713.1-29629-30491  \n",
       "TAGTTGTCACCCTCAC-1-s1d1                     0.0                     0.0  \n",
       "CTATGGCCATAACGGG-1-s1d1                     0.0                     0.0  \n",
       "CCGCACACAGGTTAAA-1-s1d1                     0.0                     0.0  \n",
       "TCATTTGGTAATGGAA-1-s1d1                     0.0                     0.0  \n",
       "ACCACATAGGTGTCCA-1-s1d1                     0.0                     0.0  \n",
       "...                                         ...                     ...  \n",
       "AGACCCGGTTATCCTA-1-s1d1                     0.0                     0.0  \n",
       "GACCTAAGTGCCTCAC-1-s1d1                     0.0                     0.0  \n",
       "AGCTCATAGCTATATG-1-s1d1                     0.0                     0.0  \n",
       "TACGTACAGGAAACTG-1-s1d1                     0.0                     0.0  \n",
       "GGTTTCTGTTTATCTG-1-s1d1                     0.0                     0.0  \n",
       "\n",
       "[6224 rows x 116490 columns]"
      ]
     },
     "execution_count": 26,
     "metadata": {},
     "output_type": "execute_result"
    }
   ],
   "source": [
    "neurips_BM_atac_s1d1_counts_df"
   ]
  },
  {
   "cell_type": "code",
   "execution_count": 74,
   "id": "0b9ecd58-0ab0-48f1-a2a3-fa5b81f04521",
   "metadata": {},
   "outputs": [],
   "source": [
    "cell_IDs = pd.DataFrame(neurips_BM_atac_s1d1.obs.index.str.split(\"-\").str[:-1].str.join('-'))"
   ]
  },
  {
   "cell_type": "code",
   "execution_count": 78,
   "id": "2d0d581d-2cbd-4b2c-bf77-53e918e74da9",
   "metadata": {},
   "outputs": [
    {
     "data": {
      "text/html": [
       "<div>\n",
       "<style scoped>\n",
       "    .dataframe tbody tr th:only-of-type {\n",
       "        vertical-align: middle;\n",
       "    }\n",
       "\n",
       "    .dataframe tbody tr th {\n",
       "        vertical-align: top;\n",
       "    }\n",
       "\n",
       "    .dataframe thead th {\n",
       "        text-align: right;\n",
       "    }\n",
       "</style>\n",
       "<table border=\"1\" class=\"dataframe\">\n",
       "  <thead>\n",
       "    <tr style=\"text-align: right;\">\n",
       "      <th></th>\n",
       "      <th>barcode</th>\n",
       "    </tr>\n",
       "  </thead>\n",
       "  <tbody>\n",
       "    <tr>\n",
       "      <th>0</th>\n",
       "      <td>TAGTTGTCACCCTCAC-1</td>\n",
       "    </tr>\n",
       "    <tr>\n",
       "      <th>1</th>\n",
       "      <td>CTATGGCCATAACGGG-1</td>\n",
       "    </tr>\n",
       "    <tr>\n",
       "      <th>2</th>\n",
       "      <td>CCGCACACAGGTTAAA-1</td>\n",
       "    </tr>\n",
       "    <tr>\n",
       "      <th>3</th>\n",
       "      <td>TCATTTGGTAATGGAA-1</td>\n",
       "    </tr>\n",
       "    <tr>\n",
       "      <th>4</th>\n",
       "      <td>ACCACATAGGTGTCCA-1</td>\n",
       "    </tr>\n",
       "  </tbody>\n",
       "</table>\n",
       "</div>"
      ],
      "text/plain": [
       "              barcode\n",
       "0  TAGTTGTCACCCTCAC-1\n",
       "1  CTATGGCCATAACGGG-1\n",
       "2  CCGCACACAGGTTAAA-1\n",
       "3  TCATTTGGTAATGGAA-1\n",
       "4  ACCACATAGGTGTCCA-1"
      ]
     },
     "execution_count": 78,
     "metadata": {},
     "output_type": "execute_result"
    }
   ],
   "source": [
    "cell_IDs.columns = [\"barcode\"]\n",
    "cell_IDs.head()"
   ]
  },
  {
   "cell_type": "code",
   "execution_count": 79,
   "id": "4c685497-afd0-404d-b673-3164e693bee2",
   "metadata": {},
   "outputs": [],
   "source": [
    "cell_IDs.to_csv(\"/project/scATAC_analysis/NeurIPS2021_BM_scmultiome/analysis/01_get_cCRE_by_cell_matrix/outs/NeurIPS_BM_s1d1_cellIDs.csv\")"
   ]
  },
  {
   "cell_type": "code",
   "execution_count": 80,
   "id": "f0675ec4-bdbf-467a-8698-8d8b6f246511",
   "metadata": {},
   "outputs": [],
   "source": [
    "filtered_cell_list= pd.read_csv('/project/scATAC_analysis/NeurIPS2021_BM_scmultiome/analysis/01_get_cCRE_by_cell_matrix/outs/NeurIPS_BM_s1d1_cellIDs.csv',delimiter=\",\",header=0, index_col=0)\n",
    "filtered_cell_list.columns = [\"celIDs\"]"
   ]
  },
  {
   "cell_type": "code",
   "execution_count": 81,
   "id": "788768af-f2da-4374-a83f-a2a992c1156d",
   "metadata": {},
   "outputs": [
    {
     "data": {
      "text/html": [
       "<div>\n",
       "<style scoped>\n",
       "    .dataframe tbody tr th:only-of-type {\n",
       "        vertical-align: middle;\n",
       "    }\n",
       "\n",
       "    .dataframe tbody tr th {\n",
       "        vertical-align: top;\n",
       "    }\n",
       "\n",
       "    .dataframe thead th {\n",
       "        text-align: right;\n",
       "    }\n",
       "</style>\n",
       "<table border=\"1\" class=\"dataframe\">\n",
       "  <thead>\n",
       "    <tr style=\"text-align: right;\">\n",
       "      <th></th>\n",
       "      <th>celIDs</th>\n",
       "    </tr>\n",
       "  </thead>\n",
       "  <tbody>\n",
       "    <tr>\n",
       "      <th>0</th>\n",
       "      <td>TAGTTGTCACCCTCAC-1</td>\n",
       "    </tr>\n",
       "    <tr>\n",
       "      <th>1</th>\n",
       "      <td>CTATGGCCATAACGGG-1</td>\n",
       "    </tr>\n",
       "    <tr>\n",
       "      <th>2</th>\n",
       "      <td>CCGCACACAGGTTAAA-1</td>\n",
       "    </tr>\n",
       "    <tr>\n",
       "      <th>3</th>\n",
       "      <td>TCATTTGGTAATGGAA-1</td>\n",
       "    </tr>\n",
       "    <tr>\n",
       "      <th>4</th>\n",
       "      <td>ACCACATAGGTGTCCA-1</td>\n",
       "    </tr>\n",
       "    <tr>\n",
       "      <th>...</th>\n",
       "      <td>...</td>\n",
       "    </tr>\n",
       "    <tr>\n",
       "      <th>6219</th>\n",
       "      <td>AGACCCGGTTATCCTA-1</td>\n",
       "    </tr>\n",
       "    <tr>\n",
       "      <th>6220</th>\n",
       "      <td>GACCTAAGTGCCTCAC-1</td>\n",
       "    </tr>\n",
       "    <tr>\n",
       "      <th>6221</th>\n",
       "      <td>AGCTCATAGCTATATG-1</td>\n",
       "    </tr>\n",
       "    <tr>\n",
       "      <th>6222</th>\n",
       "      <td>TACGTACAGGAAACTG-1</td>\n",
       "    </tr>\n",
       "    <tr>\n",
       "      <th>6223</th>\n",
       "      <td>GGTTTCTGTTTATCTG-1</td>\n",
       "    </tr>\n",
       "  </tbody>\n",
       "</table>\n",
       "<p>6224 rows × 1 columns</p>\n",
       "</div>"
      ],
      "text/plain": [
       "                  celIDs\n",
       "0     TAGTTGTCACCCTCAC-1\n",
       "1     CTATGGCCATAACGGG-1\n",
       "2     CCGCACACAGGTTAAA-1\n",
       "3     TCATTTGGTAATGGAA-1\n",
       "4     ACCACATAGGTGTCCA-1\n",
       "...                  ...\n",
       "6219  AGACCCGGTTATCCTA-1\n",
       "6220  GACCTAAGTGCCTCAC-1\n",
       "6221  AGCTCATAGCTATATG-1\n",
       "6222  TACGTACAGGAAACTG-1\n",
       "6223  GGTTTCTGTTTATCTG-1\n",
       "\n",
       "[6224 rows x 1 columns]"
      ]
     },
     "execution_count": 81,
     "metadata": {},
     "output_type": "execute_result"
    }
   ],
   "source": [
    "filtered_cell_list"
   ]
  },
  {
   "cell_type": "code",
   "execution_count": 86,
   "id": "31e09086-444f-41d8-9396-13eb513f4ee1",
   "metadata": {},
   "outputs": [],
   "source": [
    "neurips_BM_atac_s1d1.obs.to_csv(\"/project/scATAC_analysis/NeurIPS2021_BM_scmultiome/analysis/01_get_cCRE_by_cell_matrix/outs/NeurIPS_BM_s1d1_metadata.csv\")"
   ]
  },
  {
   "cell_type": "markdown",
   "id": "c475ac38-56b5-4f13-98f9-b0d0cc0c9ab8",
   "metadata": {},
   "source": [
    "## -------------------------------------------------------------------------------------------------\n",
    "## ------------------------------------------------------------------------------------------------"
   ]
  },
  {
   "cell_type": "markdown",
   "id": "9be3d07b-ef83-400e-9bf4-46b22cb43aa4",
   "metadata": {},
   "source": [
    "## neurips_BM_atac_s1d1 has both GEX and atac matrix concetenated. subset this to only atac"
   ]
  },
  {
   "cell_type": "code",
   "execution_count": 214,
   "id": "52c29398-a9b4-46ef-b6c0-c0c1ab91ecfe",
   "metadata": {},
   "outputs": [],
   "source": [
    "neurips_BM_atac_s1d1_only_atac = neurips_BM_atac_s1d1[:,neurips_BM_atac_s1d1.var.feature_types == \"ATAC\"]"
   ]
  },
  {
   "cell_type": "code",
   "execution_count": 215,
   "id": "691da308-d79b-4a04-9fc5-64bc03a84d95",
   "metadata": {},
   "outputs": [
    {
     "data": {
      "text/plain": [
       "LayersView with keys: counts"
      ]
     },
     "execution_count": 215,
     "metadata": {},
     "output_type": "execute_result"
    }
   ],
   "source": [
    "neurips_BM_atac_s1d1_only_atac.layers"
   ]
  },
  {
   "cell_type": "code",
   "execution_count": 216,
   "id": "c1663079-9130-4de9-b841-1309b50bbfc4",
   "metadata": {},
   "outputs": [],
   "source": [
    "neurips_BM_atac_s1d1_only_atac.write_h5ad(\"/project/scATAC_analysis/NeurIPS2021_BM_scmultiome/analysis/01_get_cCRE_by_cell_matrix/export_Anndata/neurips_BM_atac_s1d1.h5ad\")"
   ]
  },
  {
   "cell_type": "code",
   "execution_count": null,
   "id": "06c5f644-fa23-4a9a-98d3-bdc6f5cd5ab8",
   "metadata": {},
   "outputs": [],
   "source": [
    "# HOW TO EXPORT \n",
    "neurips_BM_atac_s1d1_counts_df.to_csv(\"<PATH>\")"
   ]
  },
  {
   "cell_type": "code",
   "execution_count": 217,
   "id": "8697ac83-bfcc-44f0-bf15-d2fb3ad2f69c",
   "metadata": {},
   "outputs": [],
   "source": [
    "pd.DataFrame.from_dict(neurips_BM_atac_s1d1_only_atac.uns).to_csv(\"/project/scATAC_analysis/NeurIPS2021_BM_scmultiome/analysis/01_get_cCRE_by_cell_matrix/outs/NeurIPS_BM_s1d1_uns.csv\")\n"
   ]
  },
  {
   "cell_type": "code",
   "execution_count": 218,
   "id": "47079323-f982-4b7c-af19-ab51722af985",
   "metadata": {},
   "outputs": [],
   "source": [
    "neurips_BM_atac_s1d1_only_atac.var.to_csv(\"/project/scATAC_analysis/NeurIPS2021_BM_scmultiome/analysis/01_get_cCRE_by_cell_matrix/outs/NeurIPS_BM_s1d1_vars.csv\")"
   ]
  },
  {
   "cell_type": "code",
   "execution_count": 219,
   "id": "27b99abd-1eec-4bec-8d0a-627f8d4045c9",
   "metadata": {},
   "outputs": [
    {
     "data": {
      "text/plain": [
       "AxisArraysView with keys: ATAC_gene_activity, ATAC_lsi_full, ATAC_lsi_red, ATAC_umap, GEX_X_pca, GEX_X_umap"
      ]
     },
     "execution_count": 219,
     "metadata": {},
     "output_type": "execute_result"
    }
   ],
   "source": [
    "neurips_BM_atac_s1d1.obsm"
   ]
  },
  {
   "cell_type": "code",
   "execution_count": 174,
   "id": "a6d616c1-1ad4-4a35-ae76-761a305c0baa",
   "metadata": {},
   "outputs": [],
   "source": [
    "from scipy import sparse, io"
   ]
  },
  {
   "cell_type": "code",
   "execution_count": 220,
   "id": "4f0a0b75-d7ec-44b4-96d1-10906f9ef76d",
   "metadata": {},
   "outputs": [],
   "source": [
    "io.mmwrite(\"/project/scATAC_analysis/NeurIPS2021_BM_scmultiome/analysis/01_get_cCRE_by_cell_matrix/outs/NeurIPS_BM_s1d1_ATAC_lsi_full.mtx\", neurips_BM_atac_s1d1_only_atac.obsm[\"ATAC_lsi_full\"])"
   ]
  },
  {
   "cell_type": "code",
   "execution_count": 221,
   "id": "92afe17c-e461-4c34-a058-25040384d885",
   "metadata": {},
   "outputs": [],
   "source": [
    "np.savetxt(\"/project/scATAC_analysis/NeurIPS2021_BM_scmultiome/analysis/01_get_cCRE_by_cell_matrix/outs/NeurIPS_BM_s1d1_ATAC_lsi_full.txt\", neurips_BM_atac_s1d1_only_atac.obsm[\"ATAC_lsi_full\"], fmt='%d')"
   ]
  },
  {
   "cell_type": "code",
   "execution_count": 222,
   "id": "c3a1d082-e5c1-4394-ae9a-28239970cbfb",
   "metadata": {},
   "outputs": [],
   "source": [
    "np.savetxt(\"/project/scATAC_analysis/NeurIPS2021_BM_scmultiome/analysis/01_get_cCRE_by_cell_matrix/outs/NeurIPS_BM_s1d1_ATAC_umap.txt\", neurips_BM_atac_s1d1_only_atac.obsm[\"ATAC_umap\"], fmt='%d')"
   ]
  },
  {
   "cell_type": "code",
   "execution_count": 223,
   "id": "3e0fb0d0-8240-4c0e-bebf-8d19d7db36bd",
   "metadata": {},
   "outputs": [],
   "source": [
    "io.mmwrite(\"/project/scATAC_analysis/NeurIPS2021_BM_scmultiome/analysis/01_get_cCRE_by_cell_matrix/outs/NeurIPS_BM_s1d1_ATAC_lsi_red.mtx\", neurips_BM_atac_s1d1_only_atac.obsm[\"ATAC_lsi_red\"])"
   ]
  },
  {
   "cell_type": "code",
   "execution_count": 224,
   "id": "dc3fe816-c97a-4ba7-9923-04906fd3ddc1",
   "metadata": {},
   "outputs": [],
   "source": [
    "io.mmwrite(\"/project/scATAC_analysis/NeurIPS2021_BM_scmultiome/analysis/01_get_cCRE_by_cell_matrix/outs/NeurIPS_BM_s1d1_ATAC_umap.mtx\", neurips_BM_atac_s1d1_only_atac.obsm[\"ATAC_umap\"])"
   ]
  },
  {
   "cell_type": "code",
   "execution_count": 230,
   "id": "4bafc98c-48c4-43de-bb2e-9d70043ccfff",
   "metadata": {},
   "outputs": [],
   "source": [
    "io.mmwrite(\"/project/scATAC_analysis/NeurIPS2021_BM_scmultiome/analysis/01_get_cCRE_by_cell_matrix/outs/NeurIPS_BM_s1d1_ATAC_gene_activity.mtx\", neurips_BM_atac_s1d1_only_atac.obsm[\"ATAC_gene_activity\"])"
   ]
  },
  {
   "cell_type": "code",
   "execution_count": 226,
   "id": "ce10188e-3a36-4db4-910b-05ee07576ca3",
   "metadata": {},
   "outputs": [
    {
     "data": {
      "text/plain": [
       "<6224x116490 sparse matrix of type '<class 'numpy.float32'>'\n",
       "\twith 20453045 stored elements in Compressed Sparse Row format>"
      ]
     },
     "execution_count": 226,
     "metadata": {},
     "output_type": "execute_result"
    }
   ],
   "source": [
    "neurips_BM_atac_s1d1_only_atac.layers[\"counts\"]"
   ]
  },
  {
   "cell_type": "code",
   "execution_count": 227,
   "id": "9f4af430-3eb9-41ee-ae3d-be0368a65299",
   "metadata": {},
   "outputs": [],
   "source": [
    "io.mmwrite(\"/project/scATAC_analysis/NeurIPS2021_BM_scmultiome/analysis/01_get_cCRE_by_cell_matrix/outs/NeurIPS_BM_s1d1_ATAC_X.mtx\", neurips_BM_atac_s1d1_only_atac.X)"
   ]
  },
  {
   "cell_type": "code",
   "execution_count": 228,
   "id": "ac3e3556-06d1-4f4c-96d0-c45d77ef68c8",
   "metadata": {},
   "outputs": [],
   "source": [
    "io.mmwrite(\"/project/scATAC_analysis/NeurIPS2021_BM_scmultiome/analysis/01_get_cCRE_by_cell_matrix/outs/NeurIPS_BM_s1d1_ATAC_raw_counts.mtx\", neurips_BM_atac_s1d1_only_atac.layers[\"counts\"])"
   ]
  },
  {
   "cell_type": "code",
   "execution_count": 229,
   "id": "59f7b899-4d87-4bee-a984-70bbb8ef6759",
   "metadata": {},
   "outputs": [
    {
     "name": "stderr",
     "output_type": "stream",
     "text": [
      "/home/altay/miniconda3/envs/python_3.10.10_env/lib/python3.10/site-packages/anndata/_core/anndata.py:1113: FutureWarning: is_categorical_dtype is deprecated and will be removed in a future version. Use isinstance(dtype, CategoricalDtype) instead\n",
      "  if not is_categorical_dtype(df_full[k]):\n"
     ]
    },
    {
     "data": {
      "text/plain": [
       "View of AnnData object with n_obs × n_vars = 6224 × 116490\n",
       "    obs: 'GEX_pct_counts_mt', 'GEX_n_counts', 'GEX_n_genes', 'GEX_size_factors', 'GEX_phase', 'ATAC_nCount_peaks', 'ATAC_atac_fragments', 'ATAC_reads_in_peaks_frac', 'ATAC_blacklist_fraction', 'ATAC_nucleosome_signal', 'cell_type', 'batch', 'ATAC_pseudotime_order', 'GEX_pseudotime_order', 'Samplename', 'Site', 'DonorNumber', 'Modality', 'VendorLot', 'DonorID', 'DonorAge', 'DonorBMI', 'DonorBloodType', 'DonorRace', 'Ethnicity', 'DonorGender', 'QCMeds', 'DonorSmoker'\n",
       "    var: 'feature_types', 'gene_id'\n",
       "    uns: 'ATAC_gene_activity_var_names', 'dataset_id', 'genome', 'organism'\n",
       "    obsm: 'ATAC_gene_activity', 'ATAC_lsi_full', 'ATAC_lsi_red', 'ATAC_umap', 'GEX_X_pca', 'GEX_X_umap'\n",
       "    layers: 'counts'"
      ]
     },
     "execution_count": 229,
     "metadata": {},
     "output_type": "execute_result"
    }
   ],
   "source": [
    "neurips_BM_atac_s1d1[:,neurips_BM_atac_s1d1.var.feature_types == \"ATAC\"]"
   ]
  },
  {
   "cell_type": "code",
   "execution_count": 233,
   "id": "e1e46043-b59d-4f0e-af46-ac178ae6bd0d",
   "metadata": {},
   "outputs": [
    {
     "name": "stderr",
     "output_type": "stream",
     "text": [
      "/home/altay/miniconda3/envs/python_3.10.10_env/lib/python3.10/site-packages/scanpy/plotting/_tools/scatterplots.py:1207: FutureWarning: is_categorical_dtype is deprecated and will be removed in a future version. Use isinstance(dtype, CategoricalDtype) instead\n",
      "  if not is_categorical_dtype(values):\n",
      "/home/altay/miniconda3/envs/python_3.10.10_env/lib/python3.10/site-packages/scanpy/plotting/_utils.py:429: ImplicitModificationWarning: Trying to modify attribute `._uns` of view, initializing view as actual.\n",
      "  adata.uns[value_to_plot + '_colors'] = colors_list\n",
      "/home/altay/miniconda3/envs/python_3.10.10_env/lib/python3.10/site-packages/scanpy/plotting/_tools/scatterplots.py:1216: FutureWarning: The default value of 'ignore' for the `na_action` parameter in pandas.Categorical.map is deprecated and will be changed to 'None' in a future version. Please set na_action to the desired value to avoid seeing this warning\n",
      "  color_vector = pd.Categorical(values.map(color_map))\n",
      "/home/altay/miniconda3/envs/python_3.10.10_env/lib/python3.10/site-packages/scanpy/plotting/_tools/scatterplots.py:391: UserWarning: No data for colormapping provided via 'c'. Parameters 'cmap' will be ignored\n",
      "  cax = scatter(\n"
     ]
    },
    {
     "data": {
      "image/png": "[encoded data removed]",
      "text/plain": [
       "<Figure size 640x480 with 1 Axes>"
      ]
     },
     "metadata": {},
     "output_type": "display_data"
    }
   ],
   "source": [
    "sc.pl.embedding(neurips_BM_atac_s1d1_only_atac, basis='ATAC_umap', color=\"cell_type\")"
   ]
  },
  {
   "cell_type": "code",
   "execution_count": 239,
   "id": "6342297c-3719-475b-838f-84922432f23e",
   "metadata": {},
   "outputs": [
    {
     "data": {
      "text/plain": [
       "PairwiseArrays with keys: "
      ]
     },
     "execution_count": 239,
     "metadata": {},
     "output_type": "execute_result"
    }
   ],
   "source": [
    "neurips_BM_atac_s1d1_only_atac.obsp"
   ]
  },
  {
   "cell_type": "code",
   "execution_count": 235,
   "id": "6574e812-60bf-4f84-8821-0a1c4e5ecffb",
   "metadata": {},
   "outputs": [
    {
     "ename": "KeyError",
     "evalue": "\"Could not find 'pca' or 'X_pca' in .obsm\"",
     "output_type": "error",
     "traceback": [
      "\u001b[0;31m---------------------------------------------------------------------------\u001b[0m",
      "\u001b[0;31mKeyError\u001b[0m                                  Traceback (most recent call last)",
      "Cell \u001b[0;32mIn[235], line 1\u001b[0m\n\u001b[0;32m----> 1\u001b[0m \u001b[43msc\u001b[49m\u001b[38;5;241;43m.\u001b[39;49m\u001b[43mpl\u001b[49m\u001b[38;5;241;43m.\u001b[39;49m\u001b[43mpca\u001b[49m\u001b[43m(\u001b[49m\u001b[43mneurips_BM_atac_s1d1_only_atac\u001b[49m\u001b[43m)\u001b[49m\n",
      "File \u001b[0;32m~/miniconda3/envs/python_3.10.10_env/lib/python3.10/site-packages/scanpy/plotting/_tools/scatterplots.py:870\u001b[0m, in \u001b[0;36mpca\u001b[0;34m(adata, annotate_var_explained, show, return_fig, save, **kwargs)\u001b[0m\n\u001b[1;32m    822\u001b[0m \u001b[38;5;124;03m\"\"\"\\\u001b[39;00m\n\u001b[1;32m    823\u001b[0m \u001b[38;5;124;03mScatter plot in PCA coordinates.\u001b[39;00m\n\u001b[1;32m    824\u001b[0m \n\u001b[0;32m   (...)\u001b[0m\n\u001b[1;32m    867\u001b[0m \u001b[38;5;124;03mpp.pca\u001b[39;00m\n\u001b[1;32m    868\u001b[0m \u001b[38;5;124;03m\"\"\"\u001b[39;00m\n\u001b[1;32m    869\u001b[0m \u001b[38;5;28;01mif\u001b[39;00m \u001b[38;5;129;01mnot\u001b[39;00m annotate_var_explained:\n\u001b[0;32m--> 870\u001b[0m     \u001b[38;5;28;01mreturn\u001b[39;00m \u001b[43membedding\u001b[49m\u001b[43m(\u001b[49m\n\u001b[1;32m    871\u001b[0m \u001b[43m        \u001b[49m\u001b[43madata\u001b[49m\u001b[43m,\u001b[49m\u001b[43m \u001b[49m\u001b[38;5;124;43m'\u001b[39;49m\u001b[38;5;124;43mpca\u001b[39;49m\u001b[38;5;124;43m'\u001b[39;49m\u001b[43m,\u001b[49m\u001b[43m \u001b[49m\u001b[43mshow\u001b[49m\u001b[38;5;241;43m=\u001b[39;49m\u001b[43mshow\u001b[49m\u001b[43m,\u001b[49m\u001b[43m \u001b[49m\u001b[43mreturn_fig\u001b[49m\u001b[38;5;241;43m=\u001b[39;49m\u001b[43mreturn_fig\u001b[49m\u001b[43m,\u001b[49m\u001b[43m \u001b[49m\u001b[43msave\u001b[49m\u001b[38;5;241;43m=\u001b[39;49m\u001b[43msave\u001b[49m\u001b[43m,\u001b[49m\u001b[43m \u001b[49m\u001b[38;5;241;43m*\u001b[39;49m\u001b[38;5;241;43m*\u001b[39;49m\u001b[43mkwargs\u001b[49m\n\u001b[1;32m    872\u001b[0m \u001b[43m    \u001b[49m\u001b[43m)\u001b[49m\n\u001b[1;32m    873\u001b[0m \u001b[38;5;28;01melse\u001b[39;00m:\n\u001b[1;32m    875\u001b[0m     \u001b[38;5;28;01mif\u001b[39;00m \u001b[38;5;124m'\u001b[39m\u001b[38;5;124mpca\u001b[39m\u001b[38;5;124m'\u001b[39m \u001b[38;5;129;01mnot\u001b[39;00m \u001b[38;5;129;01min\u001b[39;00m adata\u001b[38;5;241m.\u001b[39mobsm\u001b[38;5;241m.\u001b[39mkeys() \u001b[38;5;129;01mand\u001b[39;00m \u001b[38;5;124m'\u001b[39m\u001b[38;5;124mX_pca\u001b[39m\u001b[38;5;124m'\u001b[39m \u001b[38;5;129;01mnot\u001b[39;00m \u001b[38;5;129;01min\u001b[39;00m adata\u001b[38;5;241m.\u001b[39mobsm\u001b[38;5;241m.\u001b[39mkeys():\n",
      "File \u001b[0;32m~/miniconda3/envs/python_3.10.10_env/lib/python3.10/site-packages/scanpy/plotting/_tools/scatterplots.py:132\u001b[0m, in \u001b[0;36membedding\u001b[0;34m(adata, basis, color, gene_symbols, use_raw, sort_order, edges, edges_width, edges_color, neighbors_key, arrows, arrows_kwds, groups, components, dimensions, layer, projection, scale_factor, color_map, cmap, palette, na_color, na_in_legend, size, frameon, legend_fontsize, legend_fontweight, legend_loc, legend_fontoutline, colorbar_loc, vmax, vmin, vcenter, norm, add_outline, outline_width, outline_color, ncols, hspace, wspace, title, show, save, ax, return_fig, **kwargs)\u001b[0m\n\u001b[1;32m    129\u001b[0m check_projection(projection)\n\u001b[1;32m    130\u001b[0m sanitize_anndata(adata)\n\u001b[0;32m--> 132\u001b[0m basis_values \u001b[38;5;241m=\u001b[39m \u001b[43m_get_basis\u001b[49m\u001b[43m(\u001b[49m\u001b[43madata\u001b[49m\u001b[43m,\u001b[49m\u001b[43m \u001b[49m\u001b[43mbasis\u001b[49m\u001b[43m)\u001b[49m\n\u001b[1;32m    133\u001b[0m dimensions \u001b[38;5;241m=\u001b[39m _components_to_dimensions(\n\u001b[1;32m    134\u001b[0m     components, dimensions, projection\u001b[38;5;241m=\u001b[39mprojection, total_dims\u001b[38;5;241m=\u001b[39mbasis_values\u001b[38;5;241m.\u001b[39mshape[\u001b[38;5;241m1\u001b[39m]\n\u001b[1;32m    135\u001b[0m )\n\u001b[1;32m    136\u001b[0m args_3d \u001b[38;5;241m=\u001b[39m \u001b[38;5;28mdict\u001b[39m(projection\u001b[38;5;241m=\u001b[39m\u001b[38;5;124m'\u001b[39m\u001b[38;5;124m3d\u001b[39m\u001b[38;5;124m'\u001b[39m) \u001b[38;5;28;01mif\u001b[39;00m projection \u001b[38;5;241m==\u001b[39m \u001b[38;5;124m'\u001b[39m\u001b[38;5;124m3d\u001b[39m\u001b[38;5;124m'\u001b[39m \u001b[38;5;28;01melse\u001b[39;00m {}\n",
      "File \u001b[0;32m~/miniconda3/envs/python_3.10.10_env/lib/python3.10/site-packages/scanpy/plotting/_tools/scatterplots.py:1141\u001b[0m, in \u001b[0;36m_get_basis\u001b[0;34m(adata, basis)\u001b[0m\n\u001b[1;32m   1139\u001b[0m     \u001b[38;5;28;01mreturn\u001b[39;00m adata\u001b[38;5;241m.\u001b[39mobsm[\u001b[38;5;124mf\u001b[39m\u001b[38;5;124m\"\u001b[39m\u001b[38;5;124mX_\u001b[39m\u001b[38;5;132;01m{\u001b[39;00mbasis\u001b[38;5;132;01m}\u001b[39;00m\u001b[38;5;124m\"\u001b[39m]\n\u001b[1;32m   1140\u001b[0m \u001b[38;5;28;01melse\u001b[39;00m:\n\u001b[0;32m-> 1141\u001b[0m     \u001b[38;5;28;01mraise\u001b[39;00m \u001b[38;5;167;01mKeyError\u001b[39;00m(\u001b[38;5;124mf\u001b[39m\u001b[38;5;124m\"\u001b[39m\u001b[38;5;124mCould not find \u001b[39m\u001b[38;5;124m'\u001b[39m\u001b[38;5;132;01m{\u001b[39;00mbasis\u001b[38;5;132;01m}\u001b[39;00m\u001b[38;5;124m'\u001b[39m\u001b[38;5;124m or \u001b[39m\u001b[38;5;124m'\u001b[39m\u001b[38;5;124mX_\u001b[39m\u001b[38;5;132;01m{\u001b[39;00mbasis\u001b[38;5;132;01m}\u001b[39;00m\u001b[38;5;124m'\u001b[39m\u001b[38;5;124m in .obsm\u001b[39m\u001b[38;5;124m\"\u001b[39m)\n",
      "\u001b[0;31mKeyError\u001b[0m: \"Could not find 'pca' or 'X_pca' in .obsm\""
     ]
    }
   ],
   "source": [
    "sc.pl.pca(neurips_BM_atac_s1d1_only_atac)"
   ]
  },
  {
   "cell_type": "code",
   "execution_count": 234,
   "id": "f1051d11-4c88-469a-9dec-ee2c5026c99a",
   "metadata": {},
   "outputs": [
    {
     "data": {
      "text/plain": [
       "AnnData object with n_obs × n_vars = 6224 × 116490\n",
       "    obs: 'GEX_pct_counts_mt', 'GEX_n_counts', 'GEX_n_genes', 'GEX_size_factors', 'GEX_phase', 'ATAC_nCount_peaks', 'ATAC_atac_fragments', 'ATAC_reads_in_peaks_frac', 'ATAC_blacklist_fraction', 'ATAC_nucleosome_signal', 'cell_type', 'batch', 'ATAC_pseudotime_order', 'GEX_pseudotime_order', 'Samplename', 'Site', 'DonorNumber', 'Modality', 'VendorLot', 'DonorID', 'DonorAge', 'DonorBMI', 'DonorBloodType', 'DonorRace', 'Ethnicity', 'DonorGender', 'QCMeds', 'DonorSmoker'\n",
       "    var: 'feature_types', 'gene_id'\n",
       "    uns: 'ATAC_gene_activity_var_names', 'dataset_id', 'genome', 'organism', 'cell_type_colors'\n",
       "    obsm: 'ATAC_gene_activity', 'ATAC_lsi_full', 'ATAC_lsi_red', 'ATAC_umap', 'GEX_X_pca', 'GEX_X_umap'\n",
       "    layers: 'counts'"
      ]
     },
     "execution_count": 234,
     "metadata": {},
     "output_type": "execute_result"
    }
   ],
   "source": [
    "neurips_BM_atac_s1d1_only_atac"
   ]
  },
  {
   "cell_type": "code",
   "execution_count": 202,
   "id": "1c64d32e-6008-4602-98c7-d35fc29806cd",
   "metadata": {},
   "outputs": [
    {
     "data": {
      "text/html": [
       "<div>\n",
       "<style scoped>\n",
       "    .dataframe tbody tr th:only-of-type {\n",
       "        vertical-align: middle;\n",
       "    }\n",
       "\n",
       "    .dataframe tbody tr th {\n",
       "        vertical-align: top;\n",
       "    }\n",
       "\n",
       "    .dataframe thead th {\n",
       "        text-align: right;\n",
       "    }\n",
       "</style>\n",
       "<table border=\"1\" class=\"dataframe\">\n",
       "  <thead>\n",
       "    <tr style=\"text-align: right;\">\n",
       "      <th></th>\n",
       "      <th>feature_types</th>\n",
       "      <th>gene_id</th>\n",
       "    </tr>\n",
       "  </thead>\n",
       "  <tbody>\n",
       "    <tr>\n",
       "      <th>AL627309.5</th>\n",
       "      <td>GEX</td>\n",
       "      <td>ENSG00000241860</td>\n",
       "    </tr>\n",
       "    <tr>\n",
       "      <th>LINC01409</th>\n",
       "      <td>GEX</td>\n",
       "      <td>ENSG00000237491</td>\n",
       "    </tr>\n",
       "    <tr>\n",
       "      <th>LINC01128</th>\n",
       "      <td>GEX</td>\n",
       "      <td>ENSG00000228794</td>\n",
       "    </tr>\n",
       "    <tr>\n",
       "      <th>NOC2L</th>\n",
       "      <td>GEX</td>\n",
       "      <td>ENSG00000188976</td>\n",
       "    </tr>\n",
       "    <tr>\n",
       "      <th>KLHL17</th>\n",
       "      <td>GEX</td>\n",
       "      <td>ENSG00000187961</td>\n",
       "    </tr>\n",
       "    <tr>\n",
       "      <th>...</th>\n",
       "      <td>...</td>\n",
       "      <td>...</td>\n",
       "    </tr>\n",
       "    <tr>\n",
       "      <th>GL000219.1-90062-90937</th>\n",
       "      <td>ATAC</td>\n",
       "      <td>NaN</td>\n",
       "    </tr>\n",
       "    <tr>\n",
       "      <th>GL000219.1-99257-100160</th>\n",
       "      <td>ATAC</td>\n",
       "      <td>NaN</td>\n",
       "    </tr>\n",
       "    <tr>\n",
       "      <th>KI270726.1-27152-28034</th>\n",
       "      <td>ATAC</td>\n",
       "      <td>NaN</td>\n",
       "    </tr>\n",
       "    <tr>\n",
       "      <th>KI270713.1-21434-22336</th>\n",
       "      <td>ATAC</td>\n",
       "      <td>NaN</td>\n",
       "    </tr>\n",
       "    <tr>\n",
       "      <th>KI270713.1-29629-30491</th>\n",
       "      <td>ATAC</td>\n",
       "      <td>NaN</td>\n",
       "    </tr>\n",
       "  </tbody>\n",
       "</table>\n",
       "<p>129921 rows × 2 columns</p>\n",
       "</div>"
      ],
      "text/plain": [
       "                        feature_types          gene_id\n",
       "AL627309.5                        GEX  ENSG00000241860\n",
       "LINC01409                         GEX  ENSG00000237491\n",
       "LINC01128                         GEX  ENSG00000228794\n",
       "NOC2L                             GEX  ENSG00000188976\n",
       "KLHL17                            GEX  ENSG00000187961\n",
       "...                               ...              ...\n",
       "GL000219.1-90062-90937           ATAC              NaN\n",
       "GL000219.1-99257-100160          ATAC              NaN\n",
       "KI270726.1-27152-28034           ATAC              NaN\n",
       "KI270713.1-21434-22336           ATAC              NaN\n",
       "KI270713.1-29629-30491           ATAC              NaN\n",
       "\n",
       "[129921 rows x 2 columns]"
      ]
     },
     "execution_count": 202,
     "metadata": {},
     "output_type": "execute_result"
    }
   ],
   "source": [
    "neurips_BM_atac_s1d1.var"
   ]
  },
  {
   "cell_type": "code",
   "execution_count": 150,
   "id": "a3f89d50-67fd-445c-81be-74ba1ac9f7a0",
   "metadata": {},
   "outputs": [],
   "source": [
    "neurips_BM_atac_s1d1_slim = neurips_BM_atac_s1d1.copy()"
   ]
  },
  {
   "cell_type": "markdown",
   "id": "e2b704c5-a178-43fb-bef6-e561c2925c4c",
   "metadata": {},
   "source": [
    "# --------------------------------------------------------------\n",
    "# --------------------------------------------------------------"
   ]
  },
  {
   "cell_type": "code",
   "execution_count": 151,
   "id": "8c0a9f55-e920-48be-9936-94b8b6f57fb9",
   "metadata": {},
   "outputs": [],
   "source": [
    "del neurips_BM_atac_s1d1_slim.layers"
   ]
  },
  {
   "cell_type": "raw",
   "id": "a3b6d6ed-6943-4ec3-83aa-bb9f18f71088",
   "metadata": {},
   "source": [
    "del neurips_BM_atac_s1d1_slim.var\n",
    "del neurips_BM_atac_s1d1_slim.obs\n",
    "del neurips_BM_atac_s1d1_slim.uns\n",
    "del neurips_BM_atac_s1d1_slim.obsm\n",
    "del neurips_BM_atac_s1d1_slim.layers"
   ]
  },
  {
   "cell_type": "code",
   "execution_count": 161,
   "id": "975ab5b0-83c2-4131-8cb9-dc958892d87c",
   "metadata": {},
   "outputs": [
    {
     "data": {
      "text/plain": [
       "<6224x19039 sparse matrix of type '<class 'numpy.float32'>'\n",
       "\twith 33079646 stored elements in Compressed Sparse Column format>"
      ]
     },
     "execution_count": 161,
     "metadata": {},
     "output_type": "execute_result"
    }
   ],
   "source": [
    "neurips_BM_atac_s1d1_slim.obsm[\"ATAC_gene_activity\"]"
   ]
  },
  {
   "cell_type": "code",
   "execution_count": 152,
   "id": "97572f3f-19ca-4893-910c-7dbeca06044d",
   "metadata": {},
   "outputs": [
    {
     "data": {
      "text/plain": [
       "AnnData object with n_obs × n_vars = 6224 × 129921\n",
       "    obs: 'GEX_pct_counts_mt', 'GEX_n_counts', 'GEX_n_genes', 'GEX_size_factors', 'GEX_phase', 'ATAC_nCount_peaks', 'ATAC_atac_fragments', 'ATAC_reads_in_peaks_frac', 'ATAC_blacklist_fraction', 'ATAC_nucleosome_signal', 'cell_type', 'batch', 'ATAC_pseudotime_order', 'GEX_pseudotime_order', 'Samplename', 'Site', 'DonorNumber', 'Modality', 'VendorLot', 'DonorID', 'DonorAge', 'DonorBMI', 'DonorBloodType', 'DonorRace', 'Ethnicity', 'DonorGender', 'QCMeds', 'DonorSmoker'\n",
       "    var: 'feature_types', 'gene_id'\n",
       "    uns: 'ATAC_gene_activity_var_names', 'dataset_id', 'genome', 'organism'\n",
       "    obsm: 'ATAC_gene_activity', 'ATAC_lsi_full', 'ATAC_lsi_red', 'ATAC_umap', 'GEX_X_pca', 'GEX_X_umap'"
      ]
     },
     "execution_count": 152,
     "metadata": {},
     "output_type": "execute_result"
    }
   ],
   "source": [
    "neurips_BM_atac_s1d1_slim\n"
   ]
  },
  {
   "cell_type": "code",
   "execution_count": 153,
   "id": "42de7d1c-4aca-46a7-a2a4-d05a2fe16b37",
   "metadata": {},
   "outputs": [],
   "source": [
    "del neurips_BM_atac_s1d1.layers\n"
   ]
  },
  {
   "cell_type": "code",
   "execution_count": 159,
   "id": "4c3ecd4a-72ef-4cc4-bcb5-bac55e0c412a",
   "metadata": {},
   "outputs": [
    {
     "data": {
      "text/plain": [
       "AnnData object with n_obs × n_vars = 6224 × 129921\n",
       "    obs: 'GEX_pct_counts_mt', 'GEX_n_counts', 'GEX_n_genes', 'GEX_size_factors', 'GEX_phase', 'ATAC_nCount_peaks', 'ATAC_atac_fragments', 'ATAC_reads_in_peaks_frac', 'ATAC_blacklist_fraction', 'ATAC_nucleosome_signal', 'cell_type', 'batch', 'ATAC_pseudotime_order', 'GEX_pseudotime_order', 'Samplename', 'Site', 'DonorNumber', 'Modality', 'VendorLot', 'DonorID', 'DonorAge', 'DonorBMI', 'DonorBloodType', 'DonorRace', 'Ethnicity', 'DonorGender', 'QCMeds', 'DonorSmoker'\n",
       "    var: 'feature_types', 'gene_id'\n",
       "    uns: 'ATAC_gene_activity_var_names', 'dataset_id', 'genome', 'organism'\n",
       "    obsm: 'ATAC_gene_activity', 'ATAC_lsi_full', 'ATAC_lsi_red', 'ATAC_umap', 'GEX_X_pca', 'GEX_X_umap'"
      ]
     },
     "execution_count": 159,
     "metadata": {},
     "output_type": "execute_result"
    }
   ],
   "source": [
    "neurips_BM_atac_s1d1_slim\n"
   ]
  },
  {
   "cell_type": "code",
   "execution_count": 156,
   "id": "1d51f69c-64a8-4c50-af4b-bb962e60e8b0",
   "metadata": {},
   "outputs": [],
   "source": [
    "import hdf5plugin\n",
    "neurips_BM_atac_s1d1_slim.write_h5ad(\n",
    "    \"/project/scATAC_analysis/NeurIPS2021_BM_scmultiome/analysis/01_get_cCRE_by_cell_matrix/export_Anndata/neurips_BM_atac_s1d1_slim2.h5ad\",\n",
    "    compression=hdf5plugin.FILTERS[\"zstd\"]\n",
    ")"
   ]
  },
  {
   "cell_type": "code",
   "execution_count": 112,
   "id": "6493ebff-6c16-43ba-9bde-ae549c6b15b2",
   "metadata": {},
   "outputs": [],
   "source": [
    "import hdf5plugin\n",
    "neurips_BM_atac_s1d1_slim.write_h5ad(\n",
    "    \"/project/scATAC_analysis/NeurIPS2021_BM_scmultiome/analysis/01_get_cCRE_by_cell_matrix/export_Anndata/neurips_BM_atac_s1d1_small.h5ad\"\n",
    ")"
   ]
  },
  {
   "cell_type": "code",
   "execution_count": 106,
   "id": "de53d615-a2df-4d99-bcca-e9d774871123",
   "metadata": {},
   "outputs": [],
   "source": [
    "import hdf5plugin\n",
    "neurips_BM_atac_s1d1.write_h5ad(\n",
    "    \"/project/scATAC_analysis/NeurIPS2021_BM_scmultiome/analysis/01_get_cCRE_by_cell_matrix/export_Anndata/neurips_BM_atac_s1d1_opt2.h5ad\"\n",
    ")slim"
   ]
  },
  {
   "cell_type": "code",
   "execution_count": null,
   "id": "5334e679-1546-417c-ba6c-0fbda8a904cf",
   "metadata": {},
   "outputs": [],
   "source": []
  },
  {
   "cell_type": "code",
   "execution_count": 29,
   "id": "3ae28407-d0e9-4303-8a39-59b5f5f840e0",
   "metadata": {},
   "outputs": [],
   "source": [
    "neurips_BM_atac_s1d1_counts_df_small = neurips_BM_atac_s1d1_counts_df.iloc[0:10, 0:10]"
   ]
  },
  {
   "cell_type": "code",
   "execution_count": 30,
   "id": "2a565cc9-3064-4b26-8e82-59f8aef62421",
   "metadata": {},
   "outputs": [
    {
     "data": {
      "text/html": [
       "<div>\n",
       "<style scoped>\n",
       "    .dataframe tbody tr th:only-of-type {\n",
       "        vertical-align: middle;\n",
       "    }\n",
       "\n",
       "    .dataframe tbody tr th {\n",
       "        vertical-align: top;\n",
       "    }\n",
       "\n",
       "    .dataframe thead th {\n",
       "        text-align: right;\n",
       "    }\n",
       "</style>\n",
       "<table border=\"1\" class=\"dataframe\">\n",
       "  <thead>\n",
       "    <tr style=\"text-align: right;\">\n",
       "      <th></th>\n",
       "      <th>chr1-9776-10668</th>\n",
       "      <th>chr1-180726-181005</th>\n",
       "      <th>chr1-181117-181803</th>\n",
       "      <th>chr1-191133-192055</th>\n",
       "      <th>chr1-267562-268456</th>\n",
       "      <th>chr1-629497-630394</th>\n",
       "      <th>chr1-633515-634474</th>\n",
       "      <th>chr1-778276-779191</th>\n",
       "      <th>chr1-816868-817761</th>\n",
       "      <th>chr1-822804-823597</th>\n",
       "    </tr>\n",
       "  </thead>\n",
       "  <tbody>\n",
       "    <tr>\n",
       "      <th>TAGTTGTCACCCTCAC-1-s1d1</th>\n",
       "      <td>0.0</td>\n",
       "      <td>0.0</td>\n",
       "      <td>0.0</td>\n",
       "      <td>0.0</td>\n",
       "      <td>0.0</td>\n",
       "      <td>0.0</td>\n",
       "      <td>4.0</td>\n",
       "      <td>0.0</td>\n",
       "      <td>0.0</td>\n",
       "      <td>0.0</td>\n",
       "    </tr>\n",
       "    <tr>\n",
       "      <th>CTATGGCCATAACGGG-1-s1d1</th>\n",
       "      <td>0.0</td>\n",
       "      <td>0.0</td>\n",
       "      <td>0.0</td>\n",
       "      <td>0.0</td>\n",
       "      <td>0.0</td>\n",
       "      <td>2.0</td>\n",
       "      <td>4.0</td>\n",
       "      <td>0.0</td>\n",
       "      <td>0.0</td>\n",
       "      <td>0.0</td>\n",
       "    </tr>\n",
       "    <tr>\n",
       "      <th>CCGCACACAGGTTAAA-1-s1d1</th>\n",
       "      <td>0.0</td>\n",
       "      <td>0.0</td>\n",
       "      <td>0.0</td>\n",
       "      <td>0.0</td>\n",
       "      <td>0.0</td>\n",
       "      <td>0.0</td>\n",
       "      <td>2.0</td>\n",
       "      <td>0.0</td>\n",
       "      <td>0.0</td>\n",
       "      <td>0.0</td>\n",
       "    </tr>\n",
       "    <tr>\n",
       "      <th>TCATTTGGTAATGGAA-1-s1d1</th>\n",
       "      <td>0.0</td>\n",
       "      <td>0.0</td>\n",
       "      <td>0.0</td>\n",
       "      <td>0.0</td>\n",
       "      <td>0.0</td>\n",
       "      <td>0.0</td>\n",
       "      <td>0.0</td>\n",
       "      <td>0.0</td>\n",
       "      <td>0.0</td>\n",
       "      <td>0.0</td>\n",
       "    </tr>\n",
       "    <tr>\n",
       "      <th>ACCACATAGGTGTCCA-1-s1d1</th>\n",
       "      <td>0.0</td>\n",
       "      <td>0.0</td>\n",
       "      <td>0.0</td>\n",
       "      <td>0.0</td>\n",
       "      <td>0.0</td>\n",
       "      <td>0.0</td>\n",
       "      <td>2.0</td>\n",
       "      <td>0.0</td>\n",
       "      <td>0.0</td>\n",
       "      <td>0.0</td>\n",
       "    </tr>\n",
       "    <tr>\n",
       "      <th>TGGATTGGTTTGCGAA-1-s1d1</th>\n",
       "      <td>0.0</td>\n",
       "      <td>0.0</td>\n",
       "      <td>0.0</td>\n",
       "      <td>0.0</td>\n",
       "      <td>0.0</td>\n",
       "      <td>0.0</td>\n",
       "      <td>0.0</td>\n",
       "      <td>0.0</td>\n",
       "      <td>0.0</td>\n",
       "      <td>0.0</td>\n",
       "    </tr>\n",
       "    <tr>\n",
       "      <th>GTGAGCGAGTAAAGGT-1-s1d1</th>\n",
       "      <td>0.0</td>\n",
       "      <td>0.0</td>\n",
       "      <td>0.0</td>\n",
       "      <td>0.0</td>\n",
       "      <td>0.0</td>\n",
       "      <td>0.0</td>\n",
       "      <td>2.0</td>\n",
       "      <td>0.0</td>\n",
       "      <td>0.0</td>\n",
       "      <td>0.0</td>\n",
       "    </tr>\n",
       "    <tr>\n",
       "      <th>GACTTAGGTTGCGCGA-1-s1d1</th>\n",
       "      <td>0.0</td>\n",
       "      <td>0.0</td>\n",
       "      <td>0.0</td>\n",
       "      <td>0.0</td>\n",
       "      <td>0.0</td>\n",
       "      <td>0.0</td>\n",
       "      <td>6.0</td>\n",
       "      <td>0.0</td>\n",
       "      <td>0.0</td>\n",
       "      <td>0.0</td>\n",
       "    </tr>\n",
       "    <tr>\n",
       "      <th>GCCTTACTCGTTACAA-1-s1d1</th>\n",
       "      <td>0.0</td>\n",
       "      <td>0.0</td>\n",
       "      <td>0.0</td>\n",
       "      <td>0.0</td>\n",
       "      <td>0.0</td>\n",
       "      <td>2.0</td>\n",
       "      <td>4.0</td>\n",
       "      <td>2.0</td>\n",
       "      <td>0.0</td>\n",
       "      <td>0.0</td>\n",
       "    </tr>\n",
       "    <tr>\n",
       "      <th>GTAAGGTCAATAACCT-1-s1d1</th>\n",
       "      <td>0.0</td>\n",
       "      <td>0.0</td>\n",
       "      <td>0.0</td>\n",
       "      <td>0.0</td>\n",
       "      <td>0.0</td>\n",
       "      <td>0.0</td>\n",
       "      <td>6.0</td>\n",
       "      <td>0.0</td>\n",
       "      <td>0.0</td>\n",
       "      <td>0.0</td>\n",
       "    </tr>\n",
       "  </tbody>\n",
       "</table>\n",
       "</div>"
      ],
      "text/plain": [
       "                         chr1-9776-10668  chr1-180726-181005  \\\n",
       "TAGTTGTCACCCTCAC-1-s1d1              0.0                 0.0   \n",
       "CTATGGCCATAACGGG-1-s1d1              0.0                 0.0   \n",
       "CCGCACACAGGTTAAA-1-s1d1              0.0                 0.0   \n",
       "TCATTTGGTAATGGAA-1-s1d1              0.0                 0.0   \n",
       "ACCACATAGGTGTCCA-1-s1d1              0.0                 0.0   \n",
       "TGGATTGGTTTGCGAA-1-s1d1              0.0                 0.0   \n",
       "GTGAGCGAGTAAAGGT-1-s1d1              0.0                 0.0   \n",
       "GACTTAGGTTGCGCGA-1-s1d1              0.0                 0.0   \n",
       "GCCTTACTCGTTACAA-1-s1d1              0.0                 0.0   \n",
       "GTAAGGTCAATAACCT-1-s1d1              0.0                 0.0   \n",
       "\n",
       "                         chr1-181117-181803  chr1-191133-192055  \\\n",
       "TAGTTGTCACCCTCAC-1-s1d1                 0.0                 0.0   \n",
       "CTATGGCCATAACGGG-1-s1d1                 0.0                 0.0   \n",
       "CCGCACACAGGTTAAA-1-s1d1                 0.0                 0.0   \n",
       "TCATTTGGTAATGGAA-1-s1d1                 0.0                 0.0   \n",
       "ACCACATAGGTGTCCA-1-s1d1                 0.0                 0.0   \n",
       "TGGATTGGTTTGCGAA-1-s1d1                 0.0                 0.0   \n",
       "GTGAGCGAGTAAAGGT-1-s1d1                 0.0                 0.0   \n",
       "GACTTAGGTTGCGCGA-1-s1d1                 0.0                 0.0   \n",
       "GCCTTACTCGTTACAA-1-s1d1                 0.0                 0.0   \n",
       "GTAAGGTCAATAACCT-1-s1d1                 0.0                 0.0   \n",
       "\n",
       "                         chr1-267562-268456  chr1-629497-630394  \\\n",
       "TAGTTGTCACCCTCAC-1-s1d1                 0.0                 0.0   \n",
       "CTATGGCCATAACGGG-1-s1d1                 0.0                 2.0   \n",
       "CCGCACACAGGTTAAA-1-s1d1                 0.0                 0.0   \n",
       "TCATTTGGTAATGGAA-1-s1d1                 0.0                 0.0   \n",
       "ACCACATAGGTGTCCA-1-s1d1                 0.0                 0.0   \n",
       "TGGATTGGTTTGCGAA-1-s1d1                 0.0                 0.0   \n",
       "GTGAGCGAGTAAAGGT-1-s1d1                 0.0                 0.0   \n",
       "GACTTAGGTTGCGCGA-1-s1d1                 0.0                 0.0   \n",
       "GCCTTACTCGTTACAA-1-s1d1                 0.0                 2.0   \n",
       "GTAAGGTCAATAACCT-1-s1d1                 0.0                 0.0   \n",
       "\n",
       "                         chr1-633515-634474  chr1-778276-779191  \\\n",
       "TAGTTGTCACCCTCAC-1-s1d1                 4.0                 0.0   \n",
       "CTATGGCCATAACGGG-1-s1d1                 4.0                 0.0   \n",
       "CCGCACACAGGTTAAA-1-s1d1                 2.0                 0.0   \n",
       "TCATTTGGTAATGGAA-1-s1d1                 0.0                 0.0   \n",
       "ACCACATAGGTGTCCA-1-s1d1                 2.0                 0.0   \n",
       "TGGATTGGTTTGCGAA-1-s1d1                 0.0                 0.0   \n",
       "GTGAGCGAGTAAAGGT-1-s1d1                 2.0                 0.0   \n",
       "GACTTAGGTTGCGCGA-1-s1d1                 6.0                 0.0   \n",
       "GCCTTACTCGTTACAA-1-s1d1                 4.0                 2.0   \n",
       "GTAAGGTCAATAACCT-1-s1d1                 6.0                 0.0   \n",
       "\n",
       "                         chr1-816868-817761  chr1-822804-823597  \n",
       "TAGTTGTCACCCTCAC-1-s1d1                 0.0                 0.0  \n",
       "CTATGGCCATAACGGG-1-s1d1                 0.0                 0.0  \n",
       "CCGCACACAGGTTAAA-1-s1d1                 0.0                 0.0  \n",
       "TCATTTGGTAATGGAA-1-s1d1                 0.0                 0.0  \n",
       "ACCACATAGGTGTCCA-1-s1d1                 0.0                 0.0  \n",
       "TGGATTGGTTTGCGAA-1-s1d1                 0.0                 0.0  \n",
       "GTGAGCGAGTAAAGGT-1-s1d1                 0.0                 0.0  \n",
       "GACTTAGGTTGCGCGA-1-s1d1                 0.0                 0.0  \n",
       "GCCTTACTCGTTACAA-1-s1d1                 0.0                 0.0  \n",
       "GTAAGGTCAATAACCT-1-s1d1                 0.0                 0.0  "
      ]
     },
     "execution_count": 30,
     "metadata": {},
     "output_type": "execute_result"
    }
   ],
   "source": [
    "neurips_BM_atac_s1d1_counts_df_small"
   ]
  },
  {
   "cell_type": "code",
   "execution_count": 36,
   "id": "d8f51c00-267b-4aa5-afd4-c9c23d9e9b00",
   "metadata": {},
   "outputs": [
    {
     "data": {
      "text/plain": [
       "TAGTTGTCACCCTCAC-1-s1d1    0.0\n",
       "CTATGGCCATAACGGG-1-s1d1    0.0\n",
       "CCGCACACAGGTTAAA-1-s1d1    0.0\n",
       "TCATTTGGTAATGGAA-1-s1d1    0.0\n",
       "ACCACATAGGTGTCCA-1-s1d1    0.0\n",
       "TGGATTGGTTTGCGAA-1-s1d1    0.0\n",
       "GTGAGCGAGTAAAGGT-1-s1d1    0.0\n",
       "GACTTAGGTTGCGCGA-1-s1d1    0.0\n",
       "GCCTTACTCGTTACAA-1-s1d1    0.0\n",
       "GTAAGGTCAATAACCT-1-s1d1    0.0\n",
       "Name: chr1-9776-10668, dtype: float32"
      ]
     },
     "execution_count": 36,
     "metadata": {},
     "output_type": "execute_result"
    }
   ],
   "source": [
    "neurips_BM_atac_s1d1_counts_df_small[\"chr1-9776-10668\"]"
   ]
  },
  {
   "cell_type": "code",
   "execution_count": 37,
   "id": "20501448-a493-4446-96a7-2744312ca524",
   "metadata": {},
   "outputs": [
    {
     "name": "stdout",
     "output_type": "stream",
     "text": [
      "['chr1', '9776', '10668']\n"
     ]
    },
    {
     "ename": "TypeError",
     "evalue": "Series.any() takes 1 positional argument but 2 were given",
     "output_type": "error",
     "traceback": [
      "\u001b[0;31m---------------------------------------------------------------------------\u001b[0m",
      "\u001b[0;31mTypeError\u001b[0m                                 Traceback (most recent call last)",
      "Cell \u001b[0;32mIn[37], line 3\u001b[0m\n\u001b[1;32m      1\u001b[0m \u001b[38;5;28;01mfor\u001b[39;00m i \u001b[38;5;129;01min\u001b[39;00m neurips_BM_atac_s1d1_counts_df_small\u001b[38;5;241m.\u001b[39mcolumns:\n\u001b[1;32m      2\u001b[0m     \u001b[38;5;28mprint\u001b[39m(i\u001b[38;5;241m.\u001b[39msplit(\u001b[38;5;124m\"\u001b[39m\u001b[38;5;124m-\u001b[39m\u001b[38;5;124m\"\u001b[39m))\n\u001b[0;32m----> 3\u001b[0m     non_Zero \u001b[38;5;241m=\u001b[39m neurips_BM_atac_s1d1_counts_df_small[\u001b[43m(\u001b[49m\u001b[43mneurips_BM_atac_s1d1_counts_df_small\u001b[49m\u001b[43m[\u001b[49m\u001b[43mi\u001b[49m\u001b[43m]\u001b[49m\u001b[43m \u001b[49m\u001b[38;5;241;43m>\u001b[39;49m\u001b[43m \u001b[49m\u001b[38;5;241;43m0\u001b[39;49m\u001b[43m)\u001b[49m\u001b[38;5;241;43m.\u001b[39;49m\u001b[43many\u001b[49m\u001b[43m(\u001b[49m\u001b[38;5;241;43m1\u001b[39;49m\u001b[43m)\u001b[49m]\n\u001b[1;32m      4\u001b[0m     \u001b[38;5;66;03m# get non-zero row\u001b[39;00m\n\u001b[1;32m      5\u001b[0m     \u001b[38;5;28mprint\u001b[39m(non_Zero)\n",
      "\u001b[0;31mTypeError\u001b[0m: Series.any() takes 1 positional argument but 2 were given"
     ]
    }
   ],
   "source": [
    "for i in neurips_BM_atac_s1d1_counts_df_small.columns:\n",
    "    print(i.split(\"-\"))\n",
    "    non_Zero = neurips_BM_atac_s1d1_counts_df_small[(neurips_BM_atac_s1d1_counts_df_small[i] > 0).any(1)]\n",
    "    # get non-zero row\n",
    "    print(non_Zero)"
   ]
  },
  {
   "cell_type": "code",
   "execution_count": null,
   "id": "6d0aba1c-e89b-46cf-b531-68527e1677c5",
   "metadata": {},
   "outputs": [],
   "source": []
  }
 ],
 "metadata": {
  "kernelspec": {
   "display_name": "python_3.10.10_env",
   "language": "python",
   "name": "python_3.10.10_env"
  },
  "language_info": {
   "codemirror_mode": {
    "name": "ipython",
    "version": 3
   },
   "file_extension": ".py",
   "mimetype": "text/x-python",
   "name": "python",
   "nbconvert_exporter": "python",
   "pygments_lexer": "ipython3",
   "version": "3.10.10"
  }
 },
 "nbformat": 4,
 "nbformat_minor": 5
}
