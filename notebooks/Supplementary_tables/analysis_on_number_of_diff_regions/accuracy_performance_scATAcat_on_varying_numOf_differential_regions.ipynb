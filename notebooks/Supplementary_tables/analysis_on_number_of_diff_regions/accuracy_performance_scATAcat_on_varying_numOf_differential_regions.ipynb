{
 "cells": [
  {
   "cell_type": "code",
   "execution_count": 24,
   "id": "e7e3fc1d-0530-48c9-aa29-4006df785d4f",
   "metadata": {},
   "outputs": [],
   "source": [
    "import pandas as pd\n",
    "import numpy as np\n",
    "import statistics\n",
    "import sklearn.metrics\n",
    "import warnings\n",
    "import random as rn\n",
    "warnings.filterwarnings(\"ignore\")"
   ]
  },
  {
   "cell_type": "code",
   "execution_count": 25,
   "id": "e3c7ae90-490c-477f-bafa-5e8b9ab71c73",
   "metadata": {},
   "outputs": [
    {
     "name": "stdout",
     "output_type": "stream",
     "text": [
      "env: PYTHONHASHSEED=0\n"
     ]
    }
   ],
   "source": [
    "# set the seed for reproducibility\n",
    "sd = 1234\n",
    "np.random.seed(sd)\n",
    "rn.seed(sd)\n",
    "%env PYTHONHASHSEED=0\n"
   ]
  },
  {
   "cell_type": "code",
   "execution_count": 26,
   "id": "5a56d03a-a78a-4ee9-80cc-fff413fed936",
   "metadata": {},
   "outputs": [],
   "source": [
    "def get_accuracy(annotation_df, correct_id_col='real_cellID', predicted_id_col='predicted_cellID'):\n",
    "    num_correct_ann= annotation_df[annotation_df[correct_id_col]==annotation_df[predicted_id_col]].shape[0]\n",
    "    acc=num_correct_ann/annotation_df.shape[0]\n",
    "    return acc"
   ]
  },
  {
   "cell_type": "code",
   "execution_count": 27,
   "id": "ac12e329-eff8-4e65-9c01-9cd1f230157c",
   "metadata": {},
   "outputs": [],
   "source": [
    "def get_balanced_accuracy_verbose(annotation_df, correct_id_col='real_cellID', predicted_id_col='predicted_cellID'):\n",
    "    ann=[]\n",
    "    for cell_type in sorted(set(annotation_df[correct_id_col])):\n",
    "        cell_type_sub = annotation_df[annotation_df[correct_id_col]==cell_type]\n",
    "        print(cell_type)\n",
    "        num_cells =cell_type_sub.shape[0]\n",
    "        print(\"predicted cell ID\")\n",
    "        num_correct_ann = cell_type_sub[cell_type_sub[predicted_id_col]==cell_type].shape[0]\n",
    "        #print(cell_type_sub.predicted_cellID.value_counts())\n",
    "        perc=(num_correct_ann/num_cells)\n",
    "        print(perc)\n",
    "        ann.append(perc)\n",
    "    balanced_accuracy= np.sum(ann)/len(ann)\n",
    "    print(\"balanced accuracy:\")\n",
    "    print(balanced_accuracy)\n",
    "    return balanced_accuracy"
   ]
  },
  {
   "cell_type": "code",
   "execution_count": 28,
   "id": "8d6db4ec-7b06-40fb-b8bd-db7e6906d349",
   "metadata": {},
   "outputs": [],
   "source": [
    "def get_balanced_accuracy(annotation_df, correct_id_col='real_cellID', predicted_id_col='predicted_cellID'):\n",
    "    ann=[]\n",
    "    for cell_type in sorted(set(annotation_df[correct_id_col])):\n",
    "        cell_type_sub = annotation_df[annotation_df[correct_id_col]==cell_type]\n",
    "        num_cells =cell_type_sub.shape[0]\n",
    "        num_correct_ann = cell_type_sub[cell_type_sub[predicted_id_col]==cell_type].shape[0]\n",
    "        #print(cell_type_sub.predicted_cellID.value_counts())\n",
    "        perc=(num_correct_ann/num_cells)\n",
    "        ann.append(perc)\n",
    "    balanced_accuracy= np.sum(ann)/len(ann)\n",
    "    return balanced_accuracy"
   ]
  },
  {
   "cell_type": "code",
   "execution_count": 29,
   "id": "f5ad16db-24ef-4829-a995-f20a2541fc60",
   "metadata": {},
   "outputs": [],
   "source": [
    "def get_cluster_accuracy(annotation_df, cluster_id_column ='clust',correct_id_col='real_cellID', predicted_id_col='predicted_cellID'):\n",
    "    correc_ann_counter=0\n",
    "    annotation_df = annotation_df.groupby(cluster_id_column).filter(lambda x: len(x) > 10)\n",
    "    cluster_ids =sorted(set(annotation_df[cluster_id_column]))\n",
    "    for cluster_id in cluster_ids:\n",
    "        cluster_sub = annotation_df[annotation_df[cluster_id_column]==cluster_id]   \n",
    "        clust_real_id_counts = cluster_sub[correct_id_col].value_counts()\n",
    "        # sort fist by number then by index, then get the cell type with the highest occurance. This takes care of ties\n",
    "        clust_real_id = clust_real_id_counts.iloc[np.lexsort((clust_real_id_counts.index, -clust_real_id_counts.values))].index[0]\n",
    "        clust_predicted_id_counts = cluster_sub[predicted_id_col].value_counts()\n",
    "        # sort fist by number then by index, then get the cell type with the highest occurance. This takes care of ties\n",
    "        clust_predicted_id = clust_predicted_id_counts.iloc[np.lexsort((clust_predicted_id_counts.index, -clust_predicted_id_counts.values))].index[0]\n",
    "        if clust_real_id == clust_predicted_id:\n",
    "            correc_ann_counter += 1\n",
    "        else:\n",
    "            continue\n",
    "    clust_accuracy= correc_ann_counter/len(cluster_ids)\n",
    "    return clust_accuracy"
   ]
  },
  {
   "cell_type": "code",
   "execution_count": 30,
   "id": "b2c9233e-1bb6-4029-a7f2-f917789ae9e0",
   "metadata": {},
   "outputs": [],
   "source": [
    "def get_cohens_kappa_score(annotation_df, correct_id_col='real_cellID', predicted_id_col='predicted_cellID'):\n",
    "    cohens_kappa_score= sklearn.metrics.cohen_kappa_score(annotation_df[correct_id_col],annotation_df[predicted_id_col])\n",
    "    return(cohens_kappa_score)"
   ]
  },
  {
   "cell_type": "code",
   "execution_count": 31,
   "id": "347cb20c-8f52-4c65-9f2e-00d603c161da",
   "metadata": {},
   "outputs": [],
   "source": [
    "def get_F1_score(annotation_df, correct_id_col='real_cellID', predicted_id_col='predicted_cellID'):\n",
    "    F1_list=[]\n",
    "    for cell_type in sorted(set(annotation_df[correct_id_col])):\n",
    "        # subset dataframe to the cell-type of interest \n",
    "        # then convert df labels to binary classification tasks\n",
    "        cell_type_sub = annotation_df[(annotation_df[correct_id_col]==cell_type) | (annotation_df[predicted_id_col]==cell_type)]\n",
    "        #cell_type_sub = cell_type_sub[[correct_id_col, predicted_id_col]]\n",
    "        cell_type_sub[correct_id_col] = cell_type_sub[correct_id_col].where(cell_type_sub[correct_id_col].isin([cell_type]), 'other')\n",
    "        cell_type_sub[predicted_id_col] = cell_type_sub[predicted_id_col].where(cell_type_sub[predicted_id_col].isin([cell_type]), 'other')\n",
    "        F1_cell_type = sklearn.metrics.f1_score(cell_type_sub[correct_id_col], cell_type_sub[predicted_id_col], pos_label = cell_type)\n",
    "        F1_list.append(F1_cell_type)\n",
    "    return(F1_list)"
   ]
  },
  {
   "cell_type": "code",
   "execution_count": 32,
   "id": "42dcd960-dfca-42e5-bf02-898414b90cb6",
   "metadata": {},
   "outputs": [],
   "source": [
    "def get_macroF1_score(annotation_df, correct_id_col='real_cellID', predicted_id_col='predicted_cellID', label_list=None):\n",
    "    if label_list ==None:\n",
    "        label_list  = annotation_df[correct_id_col].value_counts().index   \n",
    "    macroF1_score = sklearn.metrics.f1_score(annotation_df[correct_id_col], annotation_df[predicted_id_col],average='macro', labels=label_list)\n",
    "    return(macroF1_score)\n"
   ]
  },
  {
   "cell_type": "code",
   "execution_count": 33,
   "id": "e53094c6-2351-4828-82b9-865a94436842",
   "metadata": {},
   "outputs": [],
   "source": [
    "def get_medianF1_score(annotation_df, correct_id_col='real_cellID', predicted_id_col='predicted_cellID'):\n",
    "    F1_scores = get_F1_score(annotation_df, correct_id_col=correct_id_col, predicted_id_col=predicted_id_col)\n",
    "    medianF1_score = statistics.median(F1_scores)\n",
    "    return(medianF1_score)"
   ]
  },
  {
   "cell_type": "code",
   "execution_count": 34,
   "id": "14d122a3-89af-4f7c-8f15-402c624a3bc7",
   "metadata": {},
   "outputs": [],
   "source": [
    "def get_precision_score(annotation_df, correct_id_col='real_cellID', predicted_id_col='predicted_cellID'):\n",
    "    precision_list=[]\n",
    "    for cell_type in sorted(set(annotation_df[correct_id_col])):\n",
    "        # subset dataframe to the cell-type of interest\n",
    "        cell_type_sub = annotation_df[(annotation_df[correct_id_col]==cell_type) | (annotation_df[predicted_id_col]==cell_type)]\n",
    "        cell_type_sub[correct_id_col] = cell_type_sub[correct_id_col].where(cell_type_sub[correct_id_col].isin([cell_type]), 'other')\n",
    "        cell_type_sub[predicted_id_col] = cell_type_sub[predicted_id_col].where(cell_type_sub[predicted_id_col].isin([cell_type]), 'other')\n",
    "        precision_cell_type = sklearn.metrics.precision_score(cell_type_sub[correct_id_col], cell_type_sub[predicted_id_col], pos_label = cell_type)\n",
    "        precision_list.append(precision_cell_type)\n",
    "    return(precision_list)"
   ]
  },
  {
   "cell_type": "code",
   "execution_count": 35,
   "id": "04403521-fe25-4566-a927-3081d4ade5d6",
   "metadata": {},
   "outputs": [],
   "source": [
    "def get_medianPrecision_score(annotation_df, correct_id_col='real_cellID', predicted_id_col='predicted_cellID'):\n",
    "    precision_scores = get_precision_score(annotation_df, correct_id_col=correct_id_col, predicted_id_col=predicted_id_col)\n",
    "    medianPrecision_score = statistics.median(precision_scores)\n",
    "    return(medianPrecision_score)"
   ]
  },
  {
   "cell_type": "code",
   "execution_count": 36,
   "id": "2e869031-d814-4325-8edc-f897d590e43a",
   "metadata": {},
   "outputs": [],
   "source": [
    "def get_recall_score(annotation_df, correct_id_col='real_cellID', predicted_id_col='predicted_cellID'):\n",
    "    recall_list=[]\n",
    "    for cell_type in sorted(set(annotation_df[correct_id_col])):\n",
    "        # subset dataframe to the cell-type of interest\n",
    "        cell_type_sub = annotation_df[(annotation_df[correct_id_col]==cell_type) | (annotation_df[predicted_id_col]==cell_type)]\n",
    "        cell_type_sub[correct_id_col] = cell_type_sub[correct_id_col].where(cell_type_sub[correct_id_col].isin([cell_type]), 'other')\n",
    "        cell_type_sub[predicted_id_col] = cell_type_sub[predicted_id_col].where(cell_type_sub[predicted_id_col].isin([cell_type]), 'other')\n",
    "        recall_cell_type = sklearn.metrics.recall_score(cell_type_sub[correct_id_col], cell_type_sub[predicted_id_col], pos_label = cell_type)\n",
    "        recall_list.append(recall_cell_type)\n",
    "    return(recall_list)"
   ]
  },
  {
   "cell_type": "code",
   "execution_count": 37,
   "id": "aa4191f5-6bf2-4355-a9f4-87b2cd79a84e",
   "metadata": {},
   "outputs": [],
   "source": [
    "def get_medianRecall_score(annotation_df, correct_id_col='real_cellID', predicted_id_col='predicted_cellID'):\n",
    "    recall_scores = get_recall_score(annotation_df, correct_id_col=correct_id_col, predicted_id_col=predicted_id_col)\n",
    "    medianPrecision_score = statistics.median(recall_scores)\n",
    "    return(medianPrecision_score)"
   ]
  },
  {
   "cell_type": "code",
   "execution_count": 38,
   "id": "11445c6b-23a7-41a4-bfe4-6051fd145a1a",
   "metadata": {},
   "outputs": [],
   "source": [
    "def get_adjusted_rand_score(annotation_df, correct_id_col='real_cellID', predicted_id_col='predicted_cellID'):\n",
    "    adjusted_rand_score= sklearn.metrics.adjusted_rand_score(annotation_df[correct_id_col],annotation_df[predicted_id_col])\n",
    "    return(adjusted_rand_score)"
   ]
  },
  {
   "cell_type": "code",
   "execution_count": 39,
   "id": "6474a54a-adf1-4cbb-96f2-97f6af6c7825",
   "metadata": {},
   "outputs": [],
   "source": [
    "def get_mathews_corr_coef_score(annotation_df, correct_id_col='real_cellID', predicted_id_col='predicted_cellID'):\n",
    "    matthews_corrcoef_score= sklearn.metrics.matthews_corrcoef(annotation_df[correct_id_col],annotation_df[predicted_id_col])\n",
    "    return(matthews_corrcoef_score)"
   ]
  },
  {
   "cell_type": "code",
   "execution_count": 40,
   "id": "bbb45050-156f-492e-be05-34c9fa6a0605",
   "metadata": {},
   "outputs": [],
   "source": [
    "def get_common_cells(*dataframes):\n",
    "    df_cell_list = [v.index for v in dataframes]\n",
    "    common_cells= list(set.intersection(*map(set,df_cell_list)))\n",
    "    return(common_cells)"
   ]
  },
  {
   "cell_type": "code",
   "execution_count": 41,
   "id": "1080f9fd-3a69-47a4-8bdb-15a06827ff0d",
   "metadata": {},
   "outputs": [],
   "source": [
    "def get_combined_annotations_df_for_common_cells(*frames, common_cells, cell_ID_column = \"cell_IDs\"):\n",
    "    if not frames:\n",
    "        return None\n",
    "    if len(frames) == 1:\n",
    "        return frames[0]\n",
    "    out = frames[0]\n",
    "    out = out.loc[common_cells,]\n",
    "    for df in frames[1:]:\n",
    "        out = out.merge(df.loc[common_cells,], on=cell_ID_column)\n",
    "    return out"
   ]
  },
  {
   "cell_type": "code",
   "execution_count": 42,
   "id": "eceb645c-e1cd-439e-8902-82b7b44cae50",
   "metadata": {},
   "outputs": [],
   "source": [
    "\n",
    "common_cells_across_methods = pd.read_csv(\"../../../results/Fig1_Fig2_Fig3_SFig1-FACS_BM_scATAC/compare_annotation_performances/commonCells.csv\", index_col=False)"
   ]
  },
  {
   "cell_type": "code",
   "execution_count": 43,
   "id": "4583e087-8f84-4cfe-bfb2-e1a41caf4c49",
   "metadata": {},
   "outputs": [
    {
     "data": {
      "text/html": [
       "<div>\n",
       "<style scoped>\n",
       "    .dataframe tbody tr th:only-of-type {\n",
       "        vertical-align: middle;\n",
       "    }\n",
       "\n",
       "    .dataframe tbody tr th {\n",
       "        vertical-align: top;\n",
       "    }\n",
       "\n",
       "    .dataframe thead th {\n",
       "        text-align: right;\n",
       "    }\n",
       "</style>\n",
       "<table border=\"1\" class=\"dataframe\">\n",
       "  <thead>\n",
       "    <tr style=\"text-align: right;\">\n",
       "      <th></th>\n",
       "      <th>0</th>\n",
       "    </tr>\n",
       "  </thead>\n",
       "  <tbody>\n",
       "    <tr>\n",
       "      <th>0</th>\n",
       "      <td>MPP_99</td>\n",
       "    </tr>\n",
       "    <tr>\n",
       "      <th>1</th>\n",
       "      <td>MEP_214</td>\n",
       "    </tr>\n",
       "    <tr>\n",
       "      <th>2</th>\n",
       "      <td>MPP_53</td>\n",
       "    </tr>\n",
       "    <tr>\n",
       "      <th>3</th>\n",
       "      <td>HSC_248</td>\n",
       "    </tr>\n",
       "    <tr>\n",
       "      <th>4</th>\n",
       "      <td>CLP_103</td>\n",
       "    </tr>\n",
       "    <tr>\n",
       "      <th>...</th>\n",
       "      <td>...</td>\n",
       "    </tr>\n",
       "    <tr>\n",
       "      <th>1866</th>\n",
       "      <td>HSC_364</td>\n",
       "    </tr>\n",
       "    <tr>\n",
       "      <th>1867</th>\n",
       "      <td>MPP_176</td>\n",
       "    </tr>\n",
       "    <tr>\n",
       "      <th>1868</th>\n",
       "      <td>CLP_150</td>\n",
       "    </tr>\n",
       "    <tr>\n",
       "      <th>1869</th>\n",
       "      <td>CMP_48</td>\n",
       "    </tr>\n",
       "    <tr>\n",
       "      <th>1870</th>\n",
       "      <td>HSC_456</td>\n",
       "    </tr>\n",
       "  </tbody>\n",
       "</table>\n",
       "<p>1871 rows × 1 columns</p>\n",
       "</div>"
      ],
      "text/plain": [
       "            0\n",
       "0      MPP_99\n",
       "1     MEP_214\n",
       "2      MPP_53\n",
       "3     HSC_248\n",
       "4     CLP_103\n",
       "...       ...\n",
       "1866  HSC_364\n",
       "1867  MPP_176\n",
       "1868  CLP_150\n",
       "1869   CMP_48\n",
       "1870  HSC_456\n",
       "\n",
       "[1871 rows x 1 columns]"
      ]
     },
     "execution_count": 43,
     "metadata": {},
     "output_type": "execute_result"
    }
   ],
   "source": [
    "common_cells_across_methods"
   ]
  },
  {
   "cell_type": "code",
   "execution_count": null,
   "id": "cd357d9f-6a24-43f3-8011-26eca04661ba",
   "metadata": {},
   "outputs": [],
   "source": []
  },
  {
   "cell_type": "code",
   "execution_count": 44,
   "id": "b019e225-e4de-4608-b69a-b00f3e151d95",
   "metadata": {},
   "outputs": [],
   "source": [
    "num_diffReg = ['1k', '2k', '3k']"
   ]
  },
  {
   "cell_type": "code",
   "execution_count": 45,
   "id": "cc2588b9-e151-436d-9844-e70301d74f25",
   "metadata": {},
   "outputs": [],
   "source": [
    "# prepare results dataframe\n",
    "\n",
    "scores_df = pd.DataFrame( index=['top' + i +'_diffReg' for i in num_diffReg])"
   ]
  },
  {
   "cell_type": "code",
   "execution_count": 46,
   "id": "3acc7b72-befa-4d8e-856a-24c4f5cdc057",
   "metadata": {},
   "outputs": [],
   "source": [
    "for i in num_diffReg:\n",
    "    result_path = \"../../../results/Supplementary_tables/analysis_on_number_of_diff_regions/top\" + i +\"_diffReg/outputs/scATAcat_annotations.csv\"\n",
    "    scATAcat_annotations = pd.read_csv(result_path, index_col=0)\n",
    "    scATAcat_annotations.columns = ['leiden_0.6', 'scATAcat_annotation' ,'ground_truth_annotations']\n",
    "    scATAcat_annotations['cell_IDs'] = scATAcat_annotations.index\n",
    "    cluster_id_column ='leiden_0.6'\n",
    "    scATAcat_annotations.index.name = None\n",
    "    # change HSC and MPP to HSC/MPP\n",
    "    scATAcat_annotations = scATAcat_annotations.replace('HSC', 'HSC/MPP')\n",
    "    scATAcat_annotations = scATAcat_annotations.replace('MPP', 'HSC/MPP')\n",
    "    common_cells = list(common_cells_across_methods['0'])\n",
    "    #common_cells = list(scATAcat_annotations.index)\n",
    "    all_methods_for_commonCells= get_combined_annotations_df_for_common_cells(scATAcat_annotations, common_cells=common_cells, cell_ID_column = \"cell_IDs\")\n",
    "    common_annotations = list(set(all_methods_for_commonCells.scATAcat_annotation))\n",
    "    all_methods_for_commonCells_commonAnnotations = all_methods_for_commonCells[all_methods_for_commonCells.ground_truth_annotations.isin(common_annotations)]\n",
    "    annotation_df = all_methods_for_commonCells_commonAnnotations\n",
    "    correct_id_col = 'ground_truth_annotations'\n",
    "    predicted_id_col = \"scATAcat_annotation\"\n",
    "    scores_df.loc['top' + i +'_diffReg', \"accuracy\"] = get_accuracy(annotation_df = annotation_df,correct_id_col=correct_id_col,predicted_id_col=predicted_id_col)\n",
    "    scores_df.loc['top' + i +'_diffReg', \"balanced_accuracy\"] = get_balanced_accuracy(annotation_df = annotation_df,correct_id_col=correct_id_col,predicted_id_col=predicted_id_col)\n",
    "    scores_df.loc['top' + i +'_diffReg', \"cluster_accuracy\"] =  get_cluster_accuracy(annotation_df = annotation_df, cluster_id_column =cluster_id_column,correct_id_col=correct_id_col, predicted_id_col=predicted_id_col)\n",
    "    scores_df.loc['top' + i +'_diffReg', \"macroF1_score\"] = get_macroF1_score(annotation_df = annotation_df, correct_id_col=correct_id_col, predicted_id_col=predicted_id_col, label_list=None)\n",
    "    scores_df.loc['top' + i +'_diffReg', \"medianF1_score\"] = get_medianF1_score(annotation_df = annotation_df,correct_id_col=correct_id_col,predicted_id_col=predicted_id_col)\n",
    "    scores_df.loc['top' + i +'_diffReg', \"medianPrecision_score\"] = get_medianPrecision_score(annotation_df = annotation_df,correct_id_col=correct_id_col,predicted_id_col=predicted_id_col)\n",
    "    scores_df.loc['top' + i +'_diffReg', \"medianRecall_score\"] =  get_medianRecall_score(annotation_df = annotation_df,correct_id_col=correct_id_col,predicted_id_col=predicted_id_col)\n",
    "    scores_df.loc['top' + i +'_diffReg', \"mathews_corr_coef_score\"] = get_mathews_corr_coef_score(annotation_df = annotation_df,correct_id_col=correct_id_col,predicted_id_col=predicted_id_col)\n",
    "    scores_df.loc['top' + i +'_diffReg', \"adjusted_rand_score\"] = get_adjusted_rand_score(annotation_df = annotation_df,correct_id_col=correct_id_col,predicted_id_col=predicted_id_col)\n",
    "    scores_df.loc['top' + i +'_diffReg', \"cohens_kappa_score\"] =  get_cohens_kappa_score(annotation_df = annotation_df,correct_id_col=correct_id_col,predicted_id_col=predicted_id_col)\n",
    "\n"
   ]
  },
  {
   "cell_type": "code",
   "execution_count": 47,
   "id": "60b9526b-125a-45ed-96c1-c629e4af87a1",
   "metadata": {},
   "outputs": [
    {
     "data": {
      "text/html": [
       "<div>\n",
       "<style scoped>\n",
       "    .dataframe tbody tr th:only-of-type {\n",
       "        vertical-align: middle;\n",
       "    }\n",
       "\n",
       "    .dataframe tbody tr th {\n",
       "        vertical-align: top;\n",
       "    }\n",
       "\n",
       "    .dataframe thead th {\n",
       "        text-align: right;\n",
       "    }\n",
       "</style>\n",
       "<table border=\"1\" class=\"dataframe\">\n",
       "  <thead>\n",
       "    <tr style=\"text-align: right;\">\n",
       "      <th></th>\n",
       "      <th>accuracy</th>\n",
       "      <th>balanced_accuracy</th>\n",
       "      <th>cluster_accuracy</th>\n",
       "      <th>macroF1_score</th>\n",
       "      <th>medianF1_score</th>\n",
       "      <th>medianPrecision_score</th>\n",
       "      <th>medianRecall_score</th>\n",
       "      <th>mathews_corr_coef_score</th>\n",
       "      <th>adjusted_rand_score</th>\n",
       "      <th>cohens_kappa_score</th>\n",
       "    </tr>\n",
       "  </thead>\n",
       "  <tbody>\n",
       "    <tr>\n",
       "      <th>top1k_diffReg</th>\n",
       "      <td>0.829060</td>\n",
       "      <td>0.875957</td>\n",
       "      <td>0.900000</td>\n",
       "      <td>0.848528</td>\n",
       "      <td>0.838262</td>\n",
       "      <td>0.836536</td>\n",
       "      <td>0.900417</td>\n",
       "      <td>0.780009</td>\n",
       "      <td>0.591275</td>\n",
       "      <td>0.774990</td>\n",
       "    </tr>\n",
       "    <tr>\n",
       "      <th>top2k_diffReg</th>\n",
       "      <td>0.817308</td>\n",
       "      <td>0.872335</td>\n",
       "      <td>0.900000</td>\n",
       "      <td>0.843811</td>\n",
       "      <td>0.830727</td>\n",
       "      <td>0.846028</td>\n",
       "      <td>0.909172</td>\n",
       "      <td>0.767624</td>\n",
       "      <td>0.565811</td>\n",
       "      <td>0.759627</td>\n",
       "    </tr>\n",
       "    <tr>\n",
       "      <th>top3k_diffReg</th>\n",
       "      <td>0.826389</td>\n",
       "      <td>0.877584</td>\n",
       "      <td>0.909091</td>\n",
       "      <td>0.849202</td>\n",
       "      <td>0.833950</td>\n",
       "      <td>0.849273</td>\n",
       "      <td>0.908313</td>\n",
       "      <td>0.777806</td>\n",
       "      <td>0.583994</td>\n",
       "      <td>0.771449</td>\n",
       "    </tr>\n",
       "  </tbody>\n",
       "</table>\n",
       "</div>"
      ],
      "text/plain": [
       "               accuracy  balanced_accuracy  cluster_accuracy  macroF1_score  \\\n",
       "top1k_diffReg  0.829060           0.875957          0.900000       0.848528   \n",
       "top2k_diffReg  0.817308           0.872335          0.900000       0.843811   \n",
       "top3k_diffReg  0.826389           0.877584          0.909091       0.849202   \n",
       "\n",
       "               medianF1_score  medianPrecision_score  medianRecall_score  \\\n",
       "top1k_diffReg        0.838262               0.836536            0.900417   \n",
       "top2k_diffReg        0.830727               0.846028            0.909172   \n",
       "top3k_diffReg        0.833950               0.849273            0.908313   \n",
       "\n",
       "               mathews_corr_coef_score  adjusted_rand_score  \\\n",
       "top1k_diffReg                 0.780009             0.591275   \n",
       "top2k_diffReg                 0.767624             0.565811   \n",
       "top3k_diffReg                 0.777806             0.583994   \n",
       "\n",
       "               cohens_kappa_score  \n",
       "top1k_diffReg            0.774990  \n",
       "top2k_diffReg            0.759627  \n",
       "top3k_diffReg            0.771449  "
      ]
     },
     "execution_count": 47,
     "metadata": {},
     "output_type": "execute_result"
    }
   ],
   "source": [
    "scores_df"
   ]
  },
  {
   "cell_type": "code",
   "execution_count": 48,
   "id": "4078f201-69ab-438f-a0d9-3f58540d8844",
   "metadata": {},
   "outputs": [],
   "source": [
    "\n",
    "scores_df.to_csv('../../../results/Supplementary_tables/analysis_on_number_of_diff_regions/FACS_BM_scATAC_performance_acros_number_of_diff_regions.csv')"
   ]
  },
  {
   "cell_type": "code",
   "execution_count": 49,
   "id": "105cc7f1-fec8-4356-903a-3357b51189d1",
   "metadata": {},
   "outputs": [],
   "source": [
    "import numpy as np\n",
    "import matplotlib.pyplot as plt\n",
    "from matplotlib.colors import LinearSegmentedColormap\n",
    "\n",
    "# Adjust the color list to ensure the last colors are not too light\n",
    "# Removed the lightest color and adjusted the gradient to end with a color that's clearly visible\n",
    "# colors = [\"#00429d\", \"#4771b2\", \"#73a2c6\", \"#a5d5d8\", \"#cae1e9\", \"#e8fc03\"]  # Dark to less light\n",
    "# colors = ['#004E72', '#004CB6', '#004E72', '#007CB6','#007CB6']\n",
    "n_bins = 25  # Adjusted for 25 bars\n",
    "custom_colormap = LinearSegmentedColormap.from_list(\"custom_sequential\", ['#07748C', \"#C9E2F2\"])\n"
   ]
  },
  {
   "cell_type": "code",
   "execution_count": 50,
   "id": "f7dacd40-3c85-451b-a7a5-273b5fb3c67c",
   "metadata": {},
   "outputs": [],
   "source": [
    "figures_dir = \"../../../results/Supplementary_tables/analysis_on_number_of_diff_regions/figures/\""
   ]
  },
  {
   "cell_type": "code",
   "execution_count": 51,
   "id": "ffc3b063-9a4a-49f3-9640-3c2bdfe35de1",
   "metadata": {},
   "outputs": [],
   "source": [
    "import os\n",
    "os.makedirs(figures_dir,exist_ok=True)"
   ]
  },
  {
   "cell_type": "code",
   "execution_count": 53,
   "id": "5656645b-5cf6-4064-83e4-27bc1f353599",
   "metadata": {},
   "outputs": [
    {
     "data": {
      "image/png": "[encoded data removed]",
      "text/plain": [
       "<Figure size 1500x1000 with 1 Axes>"
      ]
     },
     "metadata": {},
     "output_type": "display_data"
    }
   ],
   "source": [
    "import matplotlib as mpl\n",
    "mpl.rcParams['pdf.fonttype'] = 42\n",
    "mpl.rcParams['ps.fonttype'] = 42\n",
    "import matplotlib.pyplot as plt\n",
    "scores_df.columns = ['accuracy', 'balanced \\naccuracy','cluster \\naccuracy', 'macro \\nF1', 'median \\nF1',\n",
    "                      'median \\nprecision', 'median \\nrecall','MCC', 'ARI', \"Cohen's \\nkappa\"]\n",
    "scores_df.index = ['per comparison top 1000 regions \\n total of 11649',\n",
    "                   'per comparison top 2000 regions \\n total of 21034',\n",
    "                   'per comparison top 3000 regions \\n total of 29548']\n",
    "ax = scores_df.T.plot(kind='bar', figsize=(15, 10), legend=True, fontsize=12,colormap=custom_colormap)\n",
    "#ax.set_xlabel(\"evaluation metrics\", fontsize=12)\n",
    "ax.set_ylim(ymin=0.0)\n",
    "ax.legend(loc = 'upper center', bbox_to_anchor=(0.5, -0.2), ncol=5, fontsize=12, frameon=False)\n",
    "#plt.title(\"evaluation scores for common cells and common annotations without EpiAnno\", fontsize=15)\n",
    "plt.xticks(rotation=30)\n",
    "plt.tick_params(axis='both', which='major', labelsize=14)\n",
    "#plt.show()\n",
    "plt.savefig(figures_dir + \"analysis_on_number_of_diff_regions.pdf\", bbox_inches='tight', transparent=True)\n",
    "plt.savefig(figures_dir + \"analysis_on_number_of_diff_regions.png\", bbox_inches='tight', transparent=True)\n"
   ]
  },
  {
   "cell_type": "code",
   "execution_count": null,
   "id": "e805002a-8705-4525-9fee-9acf9a1d8fd5",
   "metadata": {},
   "outputs": [],
   "source": []
  }
 ],
 "metadata": {
  "kernelspec": {
   "display_name": "scATAcat_reproducibility_env",
   "language": "python",
   "name": "scatacat_reproducibility_env"
  },
  "language_info": {
   "codemirror_mode": {
    "name": "ipython",
    "version": 3
   },
   "file_extension": ".py",
   "mimetype": "text/x-python",
   "name": "python",
   "nbconvert_exporter": "python",
   "pygments_lexer": "ipython3",
   "version": "3.10.10"
  },
  "widgets": {
   "application/vnd.jupyter.widget-state+json": {
    "state": {},
    "version_major": 2,
    "version_minor": 0
   }
  }
 },
 "nbformat": 4,
 "nbformat_minor": 5
}
