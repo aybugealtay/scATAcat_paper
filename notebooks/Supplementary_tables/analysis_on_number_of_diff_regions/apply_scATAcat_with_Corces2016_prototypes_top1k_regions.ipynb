{
 "cells": [
  {
   "cell_type": "code",
   "execution_count": 1,
   "id": "99efc0ce-e888-4116-b469-1b9428396728",
   "metadata": {
    "tags": []
   },
   "outputs": [],
   "source": [
    "import pickle\n",
    "import pandas as pd\n",
    "import sklearn\n",
    "import numpy as np\n",
    "import scanpy as sc\n",
    "import scipy.sparse\n",
    "import anndata\n",
    "import matplotlib.pylab as plt\n",
    "from sklearn.decomposition import PCA\n",
    "import copy\n",
    "import logging as logg\n",
    "from sklearn import preprocessing\n",
    "import os \n",
    "import warnings\n",
    "import scATAcat\n",
    "import seaborn as sns\n",
    "import random as rn \n",
    "\n",
    "warnings.filterwarnings('ignore')"
   ]
  },
  {
   "cell_type": "code",
   "execution_count": 2,
   "id": "83141a78-a499-46f4-8f0e-585a55ed9746",
   "metadata": {},
   "outputs": [
    {
     "name": "stdout",
     "output_type": "stream",
     "text": [
      "env: PYTHONHASHSEED=0\n"
     ]
    }
   ],
   "source": [
    "# set the seed for reproducibility\n",
    "sd = 1234\n",
    "np.random.seed(sd)\n",
    "rn.seed(sd)\n",
    "%env PYTHONHASHSEED=0\n"
   ]
  },
  {
   "cell_type": "markdown",
   "id": "9a827798-9358-44f3-a330-e905ed8ffc3b",
   "metadata": {},
   "source": [
    "#### define necessary parameters"
   ]
  },
  {
   "cell_type": "code",
   "execution_count": 3,
   "id": "8318906a-c14f-4d86-89eb-cc6dc4d3c2d1",
   "metadata": {},
   "outputs": [],
   "source": [
    "num_diff_reg = '1k'"
   ]
  },
  {
   "cell_type": "code",
   "execution_count": 4,
   "id": "115ef742-3d07-4ebf-9608-2cd11b074dc9",
   "metadata": {},
   "outputs": [],
   "source": [
    "results_dir = \"../../../results/Supplementary_tables/analysis_on_number_of_diff_regions/top1k_diffReg\"\n",
    "output_dir = results_dir + \"/outputs/\"\n",
    "figures_dir = results_dir + \"/figures/\"\n",
    "data_dir = \"../../../../scATAcat_notebooks_for_paper/jan2024/data/\"\n",
    "\n",
    "for dir in [figures_dir, output_dir]:\n",
    "    if not os.path.exists(dir):\n",
    "        os.makedirs(dir)"
   ]
  },
  {
   "cell_type": "markdown",
   "id": "03097334-2d76-4087-83d1-23973a6e7a8d",
   "metadata": {
    "tags": []
   },
   "source": [
    "### 0 - Load scATAC-seq data"
   ]
  },
  {
   "cell_type": "code",
   "execution_count": 5,
   "id": "bf0e4e05-7888-4f03-9517-c257d892bfdf",
   "metadata": {
    "tags": []
   },
   "outputs": [],
   "source": [
    "ENCODE_coverage_per_cell_df= pickle.load(open(data_dir + 'Buenrostro2018_FACS_BM_scATAC/scATACseq/02_ENCODE_coverage_by_cell_matrix/scATAC_BM_Corces2018_ENCODE_coverage_per_cell_matrix_complete_sparse.pkl','rb'))\n"
   ]
  },
  {
   "cell_type": "code",
   "execution_count": 6,
   "id": "662ec9ce-4475-4911-a2d8-be7b49b8f014",
   "metadata": {},
   "outputs": [
    {
     "data": {
      "text/html": [
       "<div>\n",
       "<style scoped>\n",
       "    .dataframe tbody tr th:only-of-type {\n",
       "        vertical-align: middle;\n",
       "    }\n",
       "\n",
       "    .dataframe tbody tr th {\n",
       "        vertical-align: top;\n",
       "    }\n",
       "\n",
       "    .dataframe thead th {\n",
       "        text-align: right;\n",
       "    }\n",
       "</style>\n",
       "<table border=\"1\" class=\"dataframe\">\n",
       "  <thead>\n",
       "    <tr style=\"text-align: right;\">\n",
       "      <th></th>\n",
       "      <th>cCREs.1</th>\n",
       "    </tr>\n",
       "    <tr>\n",
       "      <th>cCREs</th>\n",
       "      <th></th>\n",
       "    </tr>\n",
       "  </thead>\n",
       "  <tbody>\n",
       "    <tr>\n",
       "      <th>chr1_181251_181601</th>\n",
       "      <td>chr1_181251_181601</td>\n",
       "    </tr>\n",
       "    <tr>\n",
       "      <th>chr1_190865_191071</th>\n",
       "      <td>chr1_190865_191071</td>\n",
       "    </tr>\n",
       "    <tr>\n",
       "      <th>chr1_778562_778912</th>\n",
       "      <td>chr1_778562_778912</td>\n",
       "    </tr>\n",
       "    <tr>\n",
       "      <th>chr1_779086_779355</th>\n",
       "      <td>chr1_779086_779355</td>\n",
       "    </tr>\n",
       "    <tr>\n",
       "      <th>chr1_779727_780060</th>\n",
       "      <td>chr1_779727_780060</td>\n",
       "    </tr>\n",
       "    <tr>\n",
       "      <th>...</th>\n",
       "      <td>...</td>\n",
       "    </tr>\n",
       "    <tr>\n",
       "      <th>chrY_56842374_56842545</th>\n",
       "      <td>chrY_56842374_56842545</td>\n",
       "    </tr>\n",
       "    <tr>\n",
       "      <th>chrY_56844431_56844674</th>\n",
       "      <td>chrY_56844431_56844674</td>\n",
       "    </tr>\n",
       "    <tr>\n",
       "      <th>chrY_56857410_56857680</th>\n",
       "      <td>chrY_56857410_56857680</td>\n",
       "    </tr>\n",
       "    <tr>\n",
       "      <th>chrY_56857917_56858119</th>\n",
       "      <td>chrY_56857917_56858119</td>\n",
       "    </tr>\n",
       "    <tr>\n",
       "      <th>chrY_56868183_56868435</th>\n",
       "      <td>chrY_56868183_56868435</td>\n",
       "    </tr>\n",
       "  </tbody>\n",
       "</table>\n",
       "<p>926535 rows × 1 columns</p>\n",
       "</div>"
      ],
      "text/plain": [
       "                                       cCREs.1\n",
       "cCREs                                         \n",
       "chr1_181251_181601          chr1_181251_181601\n",
       "chr1_190865_191071          chr1_190865_191071\n",
       "chr1_778562_778912          chr1_778562_778912\n",
       "chr1_779086_779355          chr1_779086_779355\n",
       "chr1_779727_780060          chr1_779727_780060\n",
       "...                                        ...\n",
       "chrY_56842374_56842545  chrY_56842374_56842545\n",
       "chrY_56844431_56844674  chrY_56844431_56844674\n",
       "chrY_56857410_56857680  chrY_56857410_56857680\n",
       "chrY_56857917_56858119  chrY_56857917_56858119\n",
       "chrY_56868183_56868435  chrY_56868183_56868435\n",
       "\n",
       "[926535 rows x 1 columns]"
      ]
     },
     "execution_count": 6,
     "metadata": {},
     "output_type": "execute_result"
    }
   ],
   "source": [
    "pd.read_csv(data_dir +\"Buenrostro2018_FACS_BM_scATAC/scATACseq/02_ENCODE_coverage_by_cell_matrix/scATAC_BM_Corces2018_ENCODE_coverage_per_cell_matrix_complete_features.csv\", index_col=0)"
   ]
  },
  {
   "cell_type": "code",
   "execution_count": 7,
   "id": "605cdb5f-82f3-4aa5-a97a-4f0cb7dd772d",
   "metadata": {
    "tags": []
   },
   "outputs": [
    {
     "data": {
      "text/html": [
       "<div>\n",
       "<style scoped>\n",
       "    .dataframe tbody tr th:only-of-type {\n",
       "        vertical-align: middle;\n",
       "    }\n",
       "\n",
       "    .dataframe tbody tr th {\n",
       "        vertical-align: top;\n",
       "    }\n",
       "\n",
       "    .dataframe thead th {\n",
       "        text-align: right;\n",
       "    }\n",
       "</style>\n",
       "<table border=\"1\" class=\"dataframe\">\n",
       "  <thead>\n",
       "    <tr style=\"text-align: right;\">\n",
       "      <th></th>\n",
       "      <th>cCREs</th>\n",
       "    </tr>\n",
       "  </thead>\n",
       "  <tbody>\n",
       "    <tr>\n",
       "      <th>chr1_181251_181601</th>\n",
       "      <td>chr1_181251_181601</td>\n",
       "    </tr>\n",
       "    <tr>\n",
       "      <th>chr1_190865_191071</th>\n",
       "      <td>chr1_190865_191071</td>\n",
       "    </tr>\n",
       "    <tr>\n",
       "      <th>chr1_778562_778912</th>\n",
       "      <td>chr1_778562_778912</td>\n",
       "    </tr>\n",
       "    <tr>\n",
       "      <th>chr1_779086_779355</th>\n",
       "      <td>chr1_779086_779355</td>\n",
       "    </tr>\n",
       "    <tr>\n",
       "      <th>chr1_779727_780060</th>\n",
       "      <td>chr1_779727_780060</td>\n",
       "    </tr>\n",
       "  </tbody>\n",
       "</table>\n",
       "</div>"
      ],
      "text/plain": [
       "                                 cCREs\n",
       "chr1_181251_181601  chr1_181251_181601\n",
       "chr1_190865_191071  chr1_190865_191071\n",
       "chr1_778562_778912  chr1_778562_778912\n",
       "chr1_779086_779355  chr1_779086_779355\n",
       "chr1_779727_780060  chr1_779727_780060"
      ]
     },
     "execution_count": 7,
     "metadata": {},
     "output_type": "execute_result"
    }
   ],
   "source": [
    "ENCODE_cCREs = pd.read_csv(data_dir +\"Buenrostro2018_FACS_BM_scATAC/scATACseq/02_ENCODE_coverage_by_cell_matrix/scATAC_BM_Corces2018_ENCODE_coverage_per_cell_matrix_complete_features.csv\", index_col=0)\n",
    "ENCODE_cCREs.index.name = None\n",
    "ENCODE_cCREs.columns = ['cCREs']\n",
    "ENCODE_cCREs.head()"
   ]
  },
  {
   "cell_type": "code",
   "execution_count": 8,
   "id": "030bab41-af53-4d54-ab51-4daa6dac0032",
   "metadata": {
    "tags": []
   },
   "outputs": [
    {
     "data": {
      "text/html": [
       "<div>\n",
       "<style scoped>\n",
       "    .dataframe tbody tr th:only-of-type {\n",
       "        vertical-align: middle;\n",
       "    }\n",
       "\n",
       "    .dataframe tbody tr th {\n",
       "        vertical-align: top;\n",
       "    }\n",
       "\n",
       "    .dataframe thead th {\n",
       "        text-align: right;\n",
       "    }\n",
       "</style>\n",
       "<table border=\"1\" class=\"dataframe\">\n",
       "  <thead>\n",
       "    <tr style=\"text-align: right;\">\n",
       "      <th></th>\n",
       "      <th>cell_IDs</th>\n",
       "    </tr>\n",
       "  </thead>\n",
       "  <tbody>\n",
       "    <tr>\n",
       "      <th>CLP_0</th>\n",
       "      <td>CLP_0</td>\n",
       "    </tr>\n",
       "    <tr>\n",
       "      <th>CLP_1</th>\n",
       "      <td>CLP_1</td>\n",
       "    </tr>\n",
       "    <tr>\n",
       "      <th>CMP_0</th>\n",
       "      <td>CMP_0</td>\n",
       "    </tr>\n",
       "    <tr>\n",
       "      <th>CMP_1</th>\n",
       "      <td>CMP_1</td>\n",
       "    </tr>\n",
       "    <tr>\n",
       "      <th>CMP_2</th>\n",
       "      <td>CMP_2</td>\n",
       "    </tr>\n",
       "  </tbody>\n",
       "</table>\n",
       "</div>"
      ],
      "text/plain": [
       "      cell_IDs\n",
       "CLP_0    CLP_0\n",
       "CLP_1    CLP_1\n",
       "CMP_0    CMP_0\n",
       "CMP_1    CMP_1\n",
       "CMP_2    CMP_2"
      ]
     },
     "execution_count": 8,
     "metadata": {},
     "output_type": "execute_result"
    }
   ],
   "source": [
    "cell_IDs = pd.read_csv(data_dir +\"Buenrostro2018_FACS_BM_scATAC/scATACseq/02_ENCODE_coverage_by_cell_matrix/scATAC_BM_Corces2018_ENCODE_coverage_per_cell_matrix_complete_cell_IDs.csv\", index_col=0)\n",
    "cell_IDs.index.name = None\n",
    "cell_IDs.columns = ['cell_IDs']\n",
    "cell_IDs.head()"
   ]
  },
  {
   "cell_type": "markdown",
   "id": "7e132862-aa7d-4a9e-a013-07a5e2b4e9ad",
   "metadata": {},
   "source": [
    "### 1 - initialize the AnnData object"
   ]
  },
  {
   "cell_type": "code",
   "execution_count": 9,
   "id": "72765e0d-8ab9-4515-ac0f-2b98bb023477",
   "metadata": {
    "tags": []
   },
   "outputs": [],
   "source": [
    "sc_completeFeatures_adata = anndata.AnnData(ENCODE_coverage_per_cell_df.transpose().tocsr(), var=ENCODE_cCREs, obs=cell_IDs)\n"
   ]
  },
  {
   "cell_type": "code",
   "execution_count": 10,
   "id": "4bdaa2c5-3fc1-4964-8186-dfcb85395313",
   "metadata": {
    "tags": []
   },
   "outputs": [
    {
     "data": {
      "text/plain": [
       "AnnData object with n_obs × n_vars = 2210 × 926535\n",
       "    obs: 'cell_IDs'\n",
       "    var: 'cCREs'"
      ]
     },
     "execution_count": 10,
     "metadata": {},
     "output_type": "execute_result"
    }
   ],
   "source": [
    "sc_completeFeatures_adata"
   ]
  },
  {
   "cell_type": "markdown",
   "id": "0046d148-e570-425a-8823-196cb4f5b1e7",
   "metadata": {},
   "source": [
    "### 2 - add binary layer to AnnData"
   ]
  },
  {
   "cell_type": "code",
   "execution_count": 11,
   "id": "3c74028c-354f-4767-9e6e-b236c8f23d47",
   "metadata": {
    "tags": []
   },
   "outputs": [
    {
     "data": {
      "text/plain": [
       "AnnData object with n_obs × n_vars = 2210 × 926535\n",
       "    obs: 'cell_IDs'\n",
       "    var: 'cCREs'\n",
       "    layers: 'binary'"
      ]
     },
     "execution_count": 11,
     "metadata": {},
     "output_type": "execute_result"
    }
   ],
   "source": [
    "scATAcat.add_binary_layer(sc_completeFeatures_adata, binary_layer_key=\"binary\")"
   ]
  },
  {
   "cell_type": "markdown",
   "id": "27bf0fd3-b3d7-4b02-8492-b7c8c875405a",
   "metadata": {},
   "source": [
    "## 3- calculate & plot cell and feature statistics"
   ]
  },
  {
   "cell_type": "code",
   "execution_count": 12,
   "id": "8b09e8ee-260c-466b-80f6-4778d22efbce",
   "metadata": {
    "tags": []
   },
   "outputs": [
    {
     "data": {
      "text/plain": [
       "AnnData object with n_obs × n_vars = 2210 × 926535\n",
       "    obs: 'cell_IDs'\n",
       "    var: 'cCREs'\n",
       "    obsm: 'num_feature_per_cell'\n",
       "    varm: 'num_cell_per_feature'\n",
       "    layers: 'binary'"
      ]
     },
     "execution_count": 12,
     "metadata": {},
     "output_type": "execute_result"
    }
   ],
   "source": [
    "scATAcat.cell_feature_statistics(sc_completeFeatures_adata, binary_layer_key ='binary')"
   ]
  },
  {
   "cell_type": "code",
   "execution_count": 13,
   "id": "4a2d9d9f-bf05-428b-b90d-2ee4940c7920",
   "metadata": {
    "tags": []
   },
   "outputs": [
    {
     "data": {
      "text/plain": [
       "AnnData object with n_obs × n_vars = 2210 × 926535\n",
       "    obs: 'cell_IDs'\n",
       "    var: 'cCREs'\n",
       "    obsm: 'num_feature_per_cell'\n",
       "    varm: 'num_cell_per_feature'\n",
       "    layers: 'binary'"
      ]
     },
     "execution_count": 13,
     "metadata": {},
     "output_type": "execute_result"
    },
    {
     "data": {
      "image/png": "[encoded data removed]",
      "text/plain": [
       "<Figure size 640x480 with 1 Axes>"
      ]
     },
     "metadata": {},
     "output_type": "display_data"
    }
   ],
   "source": [
    "scATAcat.plot_feature_statistics(sc_completeFeatures_adata, threshold=3, bins=50, color=\"lightgrey\", save=True, save_dir = figures_dir +\"/feature_statistics_plot.png\")"
   ]
  },
  {
   "cell_type": "code",
   "execution_count": 14,
   "id": "4ad8de8a-a5c0-4d9c-8eac-3d548c8d8625",
   "metadata": {
    "tags": []
   },
   "outputs": [
    {
     "data": {
      "text/plain": [
       "AnnData object with n_obs × n_vars = 2210 × 926535\n",
       "    obs: 'cell_IDs'\n",
       "    var: 'cCREs'\n",
       "    obsm: 'num_feature_per_cell'\n",
       "    varm: 'num_cell_per_feature'\n",
       "    layers: 'binary'"
      ]
     },
     "execution_count": 14,
     "metadata": {},
     "output_type": "execute_result"
    },
    {
     "data": {
      "image/png": "[encoded data removed]",
      "text/plain": [
       "<Figure size 640x480 with 1 Axes>"
      ]
     },
     "metadata": {},
     "output_type": "display_data"
    }
   ],
   "source": [
    "scATAcat.plot_cell_statistics(sc_completeFeatures_adata, threshold=1000, bins=50, color=\"lightgrey\", save=True, save_dir = figures_dir + \"/cell_statistics_plot.png\")"
   ]
  },
  {
   "cell_type": "markdown",
   "id": "65e885b1-0bc5-4c95-a485-8d875876c33a",
   "metadata": {},
   "source": [
    "## 4- filter the cells and features"
   ]
  },
  {
   "cell_type": "code",
   "execution_count": 15,
   "id": "5ac6f88a-da8d-4af8-941d-a7a7f7af5764",
   "metadata": {
    "tags": []
   },
   "outputs": [
    {
     "data": {
      "text/plain": [
       "AnnData object with n_obs × n_vars = 2210 × 926535\n",
       "    obs: 'cell_IDs'\n",
       "    var: 'cCREs'\n",
       "    obsm: 'num_feature_per_cell'\n",
       "    varm: 'num_cell_per_feature'\n",
       "    layers: 'binary'"
      ]
     },
     "execution_count": 15,
     "metadata": {},
     "output_type": "execute_result"
    }
   ],
   "source": [
    "sc_completeFeatures_adata"
   ]
  },
  {
   "cell_type": "code",
   "execution_count": 16,
   "id": "5f97f115-1b5a-4557-a81f-2df7812ae319",
   "metadata": {
    "tags": []
   },
   "outputs": [],
   "source": [
    "sc_filteredFeatures_adata = scATAcat.preproces_sc_matrix(sc_completeFeatures_adata,cell_cutoff=1000,cell_cutoff_max=80000, feature_cutoff=3, remove_chrY = True, var_key = 'cCREs', copy=True)"
   ]
  },
  {
   "cell_type": "code",
   "execution_count": 17,
   "id": "d0477a78-a6dd-4708-99d8-01d86930a397",
   "metadata": {},
   "outputs": [
    {
     "data": {
      "text/plain": [
       "View of AnnData object with n_obs × n_vars = 1872 × 501699\n",
       "    obs: 'cell_IDs'\n",
       "    var: 'cCREs'\n",
       "    obsm: 'num_feature_per_cell'\n",
       "    varm: 'num_cell_per_feature'\n",
       "    layers: 'binary'"
      ]
     },
     "execution_count": 17,
     "metadata": {},
     "output_type": "execute_result"
    }
   ],
   "source": [
    "sc_filteredFeatures_adata"
   ]
  },
  {
   "cell_type": "markdown",
   "id": "6844aeee-6317-4b4c-ad8a-25069e61c43b",
   "metadata": {},
   "source": [
    "#### note that here we filtered almost half of the features!"
   ]
  },
  {
   "cell_type": "markdown",
   "id": "2b336d1c-c827-4b25-99ff-83c08839bd63",
   "metadata": {},
   "source": [
    "### 5- load & preprocess the bulk data"
   ]
  },
  {
   "cell_type": "code",
   "execution_count": 18,
   "id": "926535ce-0cdf-4da5-bbda-c01aa09bd617",
   "metadata": {},
   "outputs": [],
   "source": [
    "bulk_by_ENCODE_peaks_df_annotated =  pickle.load(open(data_dir + \"Corces2016_bulk_ATAC/02_ENCODE_coverage_by_prototypes_matrix/Corces2016bulkATAC_ENCODE_cCRE_overlappingPeaks_annotated.pkl\", 'rb'))\n",
    "bulk_by_ENCODE_peaks_df_annotated = bulk_by_ENCODE_peaks_df_annotated.reindex(sorted(bulk_by_ENCODE_peaks_df_annotated.columns), axis=1)"
   ]
  },
  {
   "cell_type": "code",
   "execution_count": 19,
   "id": "21973013-ae25-4b12-8755-8e8431b7ec58",
   "metadata": {},
   "outputs": [
    {
     "data": {
      "text/plain": [
       "Index(['Bcell_1', 'Bcell_2', 'Bcell_3', 'Bcell_4', 'CD34_Bone_Marrow_1',\n",
       "       'CD34_Bone_Marrow_2', 'CD34_Cord_Blood_1', 'CD4Tcell_1', 'CD4Tcell_2',\n",
       "       'CD4Tcell_3', 'CD4Tcell_4', 'CD4Tcell_5', 'CD8Tcell_1', 'CD8Tcell_2',\n",
       "       'CD8Tcell_3', 'CD8Tcell_4', 'CD8Tcell_5', 'CLP_1', 'CLP_2', 'CLP_3',\n",
       "       'CLP_4', 'CLP_5', 'CMP_1', 'CMP_2', 'CMP_3', 'CMP_4', 'CMP_5', 'CMP_6',\n",
       "       'CMP_7', 'CMP_8', 'Ery_1', 'Ery_2', 'Ery_3', 'Ery_4', 'Ery_5', 'Ery_6',\n",
       "       'Ery_7', 'Ery_8', 'GMP_1', 'GMP_2', 'GMP_3', 'GMP_4', 'GMP_5', 'GMP_6',\n",
       "       'GMP_7', 'HSC_1', 'HSC_2', 'HSC_3', 'HSC_4', 'HSC_5', 'HSC_6', 'HSC_7',\n",
       "       'LMPP_1', 'LMPP_2', 'LMPP_3', 'MEP_1', 'MEP_2', 'MEP_3', 'MEP_4',\n",
       "       'MEP_5', 'MEP_6', 'MEP_7', 'MPP_1', 'MPP_2', 'MPP_3', 'MPP_4', 'MPP_5',\n",
       "       'MPP_6', 'Mono_1', 'Mono_2', 'Mono_3', 'Mono_4', 'Mono_5', 'Mono_6',\n",
       "       'NKcell_1', 'NKcell_2', 'NKcell_3', 'NKcell_4', 'NKcell_5', 'NKcell_6'],\n",
       "      dtype='object')"
      ]
     },
     "execution_count": 19,
     "metadata": {},
     "output_type": "execute_result"
    }
   ],
   "source": [
    "bulk_by_ENCODE_peaks_df_annotated.columns"
   ]
  },
  {
   "cell_type": "code",
   "execution_count": 20,
   "id": "232b0641-581a-4498-8b29-c72c96058f42",
   "metadata": {},
   "outputs": [],
   "source": [
    "# subset to progenitors:\n",
    "bulk_by_ENCODE_peaks_df_annotated = bulk_by_ENCODE_peaks_df_annotated[['CLP_1', 'CLP_2', 'CLP_3',\n",
    "       'CLP_4', 'CLP_5', 'CMP_1', 'CMP_2', 'CMP_3', 'CMP_4', 'CMP_5', 'CMP_6',\n",
    "       'CMP_7', 'CMP_8', 'GMP_1', 'GMP_2', 'GMP_3', 'GMP_4', 'GMP_5', 'GMP_6',\n",
    "       'GMP_7', 'HSC_1', 'HSC_2', 'HSC_3', 'HSC_4', 'HSC_5', 'HSC_6', 'HSC_7',\n",
    "       'LMPP_1', 'LMPP_2', 'LMPP_3', 'MEP_1', 'MEP_2', 'MEP_3', 'MEP_4',\n",
    "       'MEP_5', 'MEP_6', 'MEP_7', 'MPP_1', 'MPP_2', 'MPP_3', 'MPP_4', 'MPP_5',\n",
    "       'MPP_6']]"
   ]
  },
  {
   "cell_type": "code",
   "execution_count": 21,
   "id": "f3294f51-9324-4526-8a8b-b0f877d51d34",
   "metadata": {},
   "outputs": [
    {
     "data": {
      "text/html": [
       "<div>\n",
       "<style scoped>\n",
       "    .dataframe tbody tr th:only-of-type {\n",
       "        vertical-align: middle;\n",
       "    }\n",
       "\n",
       "    .dataframe tbody tr th {\n",
       "        vertical-align: top;\n",
       "    }\n",
       "\n",
       "    .dataframe thead th {\n",
       "        text-align: right;\n",
       "    }\n",
       "</style>\n",
       "<table border=\"1\" class=\"dataframe\">\n",
       "  <thead>\n",
       "    <tr style=\"text-align: right;\">\n",
       "      <th></th>\n",
       "      <th>CLP_1</th>\n",
       "      <th>CLP_2</th>\n",
       "      <th>CLP_3</th>\n",
       "      <th>CLP_4</th>\n",
       "      <th>CLP_5</th>\n",
       "      <th>CMP_1</th>\n",
       "      <th>CMP_2</th>\n",
       "      <th>CMP_3</th>\n",
       "      <th>CMP_4</th>\n",
       "      <th>CMP_5</th>\n",
       "      <th>...</th>\n",
       "      <th>MEP_4</th>\n",
       "      <th>MEP_5</th>\n",
       "      <th>MEP_6</th>\n",
       "      <th>MEP_7</th>\n",
       "      <th>MPP_1</th>\n",
       "      <th>MPP_2</th>\n",
       "      <th>MPP_3</th>\n",
       "      <th>MPP_4</th>\n",
       "      <th>MPP_5</th>\n",
       "      <th>MPP_6</th>\n",
       "    </tr>\n",
       "  </thead>\n",
       "  <tbody>\n",
       "    <tr>\n",
       "      <th>chr1_181251_181601</th>\n",
       "      <td>0</td>\n",
       "      <td>5</td>\n",
       "      <td>0</td>\n",
       "      <td>0</td>\n",
       "      <td>0</td>\n",
       "      <td>0</td>\n",
       "      <td>1</td>\n",
       "      <td>9</td>\n",
       "      <td>7</td>\n",
       "      <td>3</td>\n",
       "      <td>...</td>\n",
       "      <td>3</td>\n",
       "      <td>4</td>\n",
       "      <td>7</td>\n",
       "      <td>10</td>\n",
       "      <td>0</td>\n",
       "      <td>4</td>\n",
       "      <td>1</td>\n",
       "      <td>2</td>\n",
       "      <td>5</td>\n",
       "      <td>10</td>\n",
       "    </tr>\n",
       "    <tr>\n",
       "      <th>chr1_190865_191071</th>\n",
       "      <td>0</td>\n",
       "      <td>0</td>\n",
       "      <td>0</td>\n",
       "      <td>0</td>\n",
       "      <td>0</td>\n",
       "      <td>0</td>\n",
       "      <td>0</td>\n",
       "      <td>0</td>\n",
       "      <td>0</td>\n",
       "      <td>0</td>\n",
       "      <td>...</td>\n",
       "      <td>0</td>\n",
       "      <td>1</td>\n",
       "      <td>0</td>\n",
       "      <td>0</td>\n",
       "      <td>0</td>\n",
       "      <td>0</td>\n",
       "      <td>0</td>\n",
       "      <td>0</td>\n",
       "      <td>0</td>\n",
       "      <td>0</td>\n",
       "    </tr>\n",
       "    <tr>\n",
       "      <th>chr1_778562_778912</th>\n",
       "      <td>72</td>\n",
       "      <td>94</td>\n",
       "      <td>78</td>\n",
       "      <td>64</td>\n",
       "      <td>23</td>\n",
       "      <td>96</td>\n",
       "      <td>83</td>\n",
       "      <td>192</td>\n",
       "      <td>115</td>\n",
       "      <td>84</td>\n",
       "      <td>...</td>\n",
       "      <td>58</td>\n",
       "      <td>84</td>\n",
       "      <td>291</td>\n",
       "      <td>252</td>\n",
       "      <td>96</td>\n",
       "      <td>193</td>\n",
       "      <td>131</td>\n",
       "      <td>52</td>\n",
       "      <td>268</td>\n",
       "      <td>420</td>\n",
       "    </tr>\n",
       "    <tr>\n",
       "      <th>chr1_779086_779355</th>\n",
       "      <td>11</td>\n",
       "      <td>10</td>\n",
       "      <td>10</td>\n",
       "      <td>9</td>\n",
       "      <td>0</td>\n",
       "      <td>12</td>\n",
       "      <td>15</td>\n",
       "      <td>16</td>\n",
       "      <td>19</td>\n",
       "      <td>8</td>\n",
       "      <td>...</td>\n",
       "      <td>8</td>\n",
       "      <td>11</td>\n",
       "      <td>34</td>\n",
       "      <td>33</td>\n",
       "      <td>13</td>\n",
       "      <td>20</td>\n",
       "      <td>9</td>\n",
       "      <td>7</td>\n",
       "      <td>43</td>\n",
       "      <td>72</td>\n",
       "    </tr>\n",
       "    <tr>\n",
       "      <th>chr1_779727_780060</th>\n",
       "      <td>4</td>\n",
       "      <td>4</td>\n",
       "      <td>2</td>\n",
       "      <td>0</td>\n",
       "      <td>0</td>\n",
       "      <td>0</td>\n",
       "      <td>1</td>\n",
       "      <td>3</td>\n",
       "      <td>0</td>\n",
       "      <td>0</td>\n",
       "      <td>...</td>\n",
       "      <td>2</td>\n",
       "      <td>5</td>\n",
       "      <td>7</td>\n",
       "      <td>4</td>\n",
       "      <td>0</td>\n",
       "      <td>1</td>\n",
       "      <td>2</td>\n",
       "      <td>0</td>\n",
       "      <td>5</td>\n",
       "      <td>8</td>\n",
       "    </tr>\n",
       "    <tr>\n",
       "      <th>...</th>\n",
       "      <td>...</td>\n",
       "      <td>...</td>\n",
       "      <td>...</td>\n",
       "      <td>...</td>\n",
       "      <td>...</td>\n",
       "      <td>...</td>\n",
       "      <td>...</td>\n",
       "      <td>...</td>\n",
       "      <td>...</td>\n",
       "      <td>...</td>\n",
       "      <td>...</td>\n",
       "      <td>...</td>\n",
       "      <td>...</td>\n",
       "      <td>...</td>\n",
       "      <td>...</td>\n",
       "      <td>...</td>\n",
       "      <td>...</td>\n",
       "      <td>...</td>\n",
       "      <td>...</td>\n",
       "      <td>...</td>\n",
       "      <td>...</td>\n",
       "    </tr>\n",
       "    <tr>\n",
       "      <th>chrY_56842374_56842545</th>\n",
       "      <td>5</td>\n",
       "      <td>12</td>\n",
       "      <td>4</td>\n",
       "      <td>1</td>\n",
       "      <td>0</td>\n",
       "      <td>0</td>\n",
       "      <td>1</td>\n",
       "      <td>0</td>\n",
       "      <td>1</td>\n",
       "      <td>4</td>\n",
       "      <td>...</td>\n",
       "      <td>3</td>\n",
       "      <td>1</td>\n",
       "      <td>10</td>\n",
       "      <td>3</td>\n",
       "      <td>1</td>\n",
       "      <td>1</td>\n",
       "      <td>8</td>\n",
       "      <td>3</td>\n",
       "      <td>2</td>\n",
       "      <td>6</td>\n",
       "    </tr>\n",
       "    <tr>\n",
       "      <th>chrY_56844431_56844674</th>\n",
       "      <td>10</td>\n",
       "      <td>13</td>\n",
       "      <td>2</td>\n",
       "      <td>0</td>\n",
       "      <td>0</td>\n",
       "      <td>0</td>\n",
       "      <td>0</td>\n",
       "      <td>0</td>\n",
       "      <td>1</td>\n",
       "      <td>5</td>\n",
       "      <td>...</td>\n",
       "      <td>2</td>\n",
       "      <td>3</td>\n",
       "      <td>3</td>\n",
       "      <td>1</td>\n",
       "      <td>1</td>\n",
       "      <td>1</td>\n",
       "      <td>7</td>\n",
       "      <td>5</td>\n",
       "      <td>2</td>\n",
       "      <td>0</td>\n",
       "    </tr>\n",
       "    <tr>\n",
       "      <th>chrY_56857410_56857680</th>\n",
       "      <td>4</td>\n",
       "      <td>9</td>\n",
       "      <td>0</td>\n",
       "      <td>0</td>\n",
       "      <td>0</td>\n",
       "      <td>0</td>\n",
       "      <td>0</td>\n",
       "      <td>3</td>\n",
       "      <td>1</td>\n",
       "      <td>0</td>\n",
       "      <td>...</td>\n",
       "      <td>2</td>\n",
       "      <td>5</td>\n",
       "      <td>2</td>\n",
       "      <td>4</td>\n",
       "      <td>1</td>\n",
       "      <td>0</td>\n",
       "      <td>2</td>\n",
       "      <td>5</td>\n",
       "      <td>0</td>\n",
       "      <td>1</td>\n",
       "    </tr>\n",
       "    <tr>\n",
       "      <th>chrY_56857917_56858119</th>\n",
       "      <td>6</td>\n",
       "      <td>9</td>\n",
       "      <td>5</td>\n",
       "      <td>0</td>\n",
       "      <td>0</td>\n",
       "      <td>0</td>\n",
       "      <td>0</td>\n",
       "      <td>0</td>\n",
       "      <td>1</td>\n",
       "      <td>0</td>\n",
       "      <td>...</td>\n",
       "      <td>6</td>\n",
       "      <td>1</td>\n",
       "      <td>0</td>\n",
       "      <td>4</td>\n",
       "      <td>4</td>\n",
       "      <td>0</td>\n",
       "      <td>2</td>\n",
       "      <td>6</td>\n",
       "      <td>4</td>\n",
       "      <td>0</td>\n",
       "    </tr>\n",
       "    <tr>\n",
       "      <th>chrY_56868183_56868435</th>\n",
       "      <td>2</td>\n",
       "      <td>4</td>\n",
       "      <td>1</td>\n",
       "      <td>0</td>\n",
       "      <td>0</td>\n",
       "      <td>2</td>\n",
       "      <td>0</td>\n",
       "      <td>0</td>\n",
       "      <td>0</td>\n",
       "      <td>2</td>\n",
       "      <td>...</td>\n",
       "      <td>1</td>\n",
       "      <td>0</td>\n",
       "      <td>1</td>\n",
       "      <td>0</td>\n",
       "      <td>0</td>\n",
       "      <td>0</td>\n",
       "      <td>3</td>\n",
       "      <td>2</td>\n",
       "      <td>1</td>\n",
       "      <td>1</td>\n",
       "    </tr>\n",
       "  </tbody>\n",
       "</table>\n",
       "<p>926535 rows × 43 columns</p>\n",
       "</div>"
      ],
      "text/plain": [
       "                        CLP_1  CLP_2  CLP_3  CLP_4  CLP_5  CMP_1  CMP_2  \\\n",
       "chr1_181251_181601          0      5      0      0      0      0      1   \n",
       "chr1_190865_191071          0      0      0      0      0      0      0   \n",
       "chr1_778562_778912         72     94     78     64     23     96     83   \n",
       "chr1_779086_779355         11     10     10      9      0     12     15   \n",
       "chr1_779727_780060          4      4      2      0      0      0      1   \n",
       "...                       ...    ...    ...    ...    ...    ...    ...   \n",
       "chrY_56842374_56842545      5     12      4      1      0      0      1   \n",
       "chrY_56844431_56844674     10     13      2      0      0      0      0   \n",
       "chrY_56857410_56857680      4      9      0      0      0      0      0   \n",
       "chrY_56857917_56858119      6      9      5      0      0      0      0   \n",
       "chrY_56868183_56868435      2      4      1      0      0      2      0   \n",
       "\n",
       "                        CMP_3  CMP_4  CMP_5  ...  MEP_4  MEP_5  MEP_6  MEP_7  \\\n",
       "chr1_181251_181601          9      7      3  ...      3      4      7     10   \n",
       "chr1_190865_191071          0      0      0  ...      0      1      0      0   \n",
       "chr1_778562_778912        192    115     84  ...     58     84    291    252   \n",
       "chr1_779086_779355         16     19      8  ...      8     11     34     33   \n",
       "chr1_779727_780060          3      0      0  ...      2      5      7      4   \n",
       "...                       ...    ...    ...  ...    ...    ...    ...    ...   \n",
       "chrY_56842374_56842545      0      1      4  ...      3      1     10      3   \n",
       "chrY_56844431_56844674      0      1      5  ...      2      3      3      1   \n",
       "chrY_56857410_56857680      3      1      0  ...      2      5      2      4   \n",
       "chrY_56857917_56858119      0      1      0  ...      6      1      0      4   \n",
       "chrY_56868183_56868435      0      0      2  ...      1      0      1      0   \n",
       "\n",
       "                        MPP_1  MPP_2  MPP_3  MPP_4  MPP_5  MPP_6  \n",
       "chr1_181251_181601          0      4      1      2      5     10  \n",
       "chr1_190865_191071          0      0      0      0      0      0  \n",
       "chr1_778562_778912         96    193    131     52    268    420  \n",
       "chr1_779086_779355         13     20      9      7     43     72  \n",
       "chr1_779727_780060          0      1      2      0      5      8  \n",
       "...                       ...    ...    ...    ...    ...    ...  \n",
       "chrY_56842374_56842545      1      1      8      3      2      6  \n",
       "chrY_56844431_56844674      1      1      7      5      2      0  \n",
       "chrY_56857410_56857680      1      0      2      5      0      1  \n",
       "chrY_56857917_56858119      4      0      2      6      4      0  \n",
       "chrY_56868183_56868435      0      0      3      2      1      1  \n",
       "\n",
       "[926535 rows x 43 columns]"
      ]
     },
     "execution_count": 21,
     "metadata": {},
     "output_type": "execute_result"
    }
   ],
   "source": [
    "bulk_by_ENCODE_peaks_df_annotated"
   ]
  },
  {
   "cell_type": "code",
   "execution_count": 22,
   "id": "282d10a6-3001-49c9-a5d6-b55aa52c6ea8",
   "metadata": {
    "tags": []
   },
   "outputs": [],
   "source": [
    "bulk_completeFeatures_adata = scATAcat.generate_bulk_sparse_AnnData(bulk_by_ENCODE_peaks_df_annotated)"
   ]
  },
  {
   "cell_type": "code",
   "execution_count": 23,
   "id": "624f193f-4b83-4680-8a24-a1ea1eccc696",
   "metadata": {
    "tags": []
   },
   "outputs": [
    {
     "data": {
      "text/plain": [
       "AnnData object with n_obs × n_vars = 43 × 926535\n",
       "    obs: 'cell_types'\n",
       "    var: 'cCREs'"
      ]
     },
     "execution_count": 23,
     "metadata": {},
     "output_type": "execute_result"
    }
   ],
   "source": [
    "bulk_completeFeatures_adata"
   ]
  },
  {
   "cell_type": "code",
   "execution_count": 24,
   "id": "ba735f1d-e711-4882-9e27-6c47ba799e5a",
   "metadata": {
    "tags": []
   },
   "outputs": [],
   "source": [
    "bulk_completeFeatures_adata = scATAcat.preprocess_bulk_adata(bulk_completeFeatures_adata, remove_chrY=True, var_key = 'cCREs', copy=False)"
   ]
  },
  {
   "cell_type": "markdown",
   "id": "5f1b63ac-4573-47c4-bc1c-c5f500bf69a9",
   "metadata": {},
   "source": [
    "### 6 - Overlap bulk and sc features\n",
    "\n",
    "- before we proceed with sc analysis, we need to overlap the features:\n",
    "    - we don't want the feature that does not have any counts in bulk data to influence clustering\n",
    "    - similarly, we want the projection to be defined only with the same feature set"
   ]
  },
  {
   "cell_type": "code",
   "execution_count": 25,
   "id": "4e51b449-1a96-4c28-a476-45ba385e7278",
   "metadata": {
    "tags": []
   },
   "outputs": [],
   "source": [
    "sc_bulk_common_vars = scATAcat.overlap_vars(sc_filteredFeatures_adata, bulk_completeFeatures_adata)"
   ]
  },
  {
   "cell_type": "code",
   "execution_count": 26,
   "id": "b5985f69-0860-4896-8db8-3e76d96594b7",
   "metadata": {
    "tags": []
   },
   "outputs": [
    {
     "data": {
      "text/plain": [
       "501699"
      ]
     },
     "execution_count": 26,
     "metadata": {},
     "output_type": "execute_result"
    }
   ],
   "source": [
    "len(sc_bulk_common_vars)"
   ]
  },
  {
   "cell_type": "code",
   "execution_count": 27,
   "id": "b9b0022b-73b4-420e-be25-bbbfd2b3b4de",
   "metadata": {
    "tags": []
   },
   "outputs": [],
   "source": [
    "sc_commonFeatures_adata = scATAcat.subset_adata_vars(sc_filteredFeatures_adata, vars_list=sc_bulk_common_vars, copy_=True)\n"
   ]
  },
  {
   "cell_type": "code",
   "execution_count": 28,
   "id": "170dc28e-f5fa-4462-9abe-ab3a5f3e29d0",
   "metadata": {
    "tags": []
   },
   "outputs": [],
   "source": [
    "bulk_commonFeatures_adata = scATAcat.subset_adata_vars(bulk_completeFeatures_adata, vars_list=sc_bulk_common_vars, copy_=True)\n"
   ]
  },
  {
   "cell_type": "markdown",
   "id": "1935de39-8880-49e5-96b4-64683f17b081",
   "metadata": {},
   "source": [
    "### 7- doublet removal. As the data is genetated with sorted single cells, we did not perform doublet removal"
   ]
  },
  {
   "cell_type": "markdown",
   "id": "77e54c87-17c7-46e9-a9af-b4c69c2e82e6",
   "metadata": {},
   "source": [
    "### 8- apply TF-IDF"
   ]
  },
  {
   "cell_type": "code",
   "execution_count": 29,
   "id": "6a71e4f3-e3ec-493d-bbe7-a5f74f584c31",
   "metadata": {
    "tags": []
   },
   "outputs": [
    {
     "data": {
      "text/plain": [
       "AnnData object with n_obs × n_vars = 1872 × 501699\n",
       "    obs: 'cell_IDs'\n",
       "    var: 'cCREs'\n",
       "    obsm: 'num_feature_per_cell'\n",
       "    varm: 'num_cell_per_feature'\n",
       "    layers: 'binary', 'TF_logIDF'"
      ]
     },
     "execution_count": 29,
     "metadata": {},
     "output_type": "execute_result"
    }
   ],
   "source": [
    "scATAcat.apply_TFIDF_sparse(sc_commonFeatures_adata, binary_layer_key='binary', TFIDF_key='TF_logIDF' )"
   ]
  },
  {
   "cell_type": "markdown",
   "id": "05a33bf4-b025-4ed2-a599-0788ae138d51",
   "metadata": {},
   "source": [
    "### 9 - subset matrices to differential cCREs"
   ]
  },
  {
   "cell_type": "code",
   "execution_count": 30,
   "id": "c4676cc9-3192-49dc-8256-5a0ccac3ebb5",
   "metadata": {},
   "outputs": [
    {
     "ename": "FileNotFoundError",
     "evalue": "[Errno 2] No such file or directory: '../../../data/Corces2016_bulk_ATAC/03_get_differentially_accessible_regions/only_progenitors-for_FACS_BM_scATAC/Corces2016_pairwise_differential_cCREs_FDR0.05_top21000_sorted_exactCREs.csv'",
     "output_type": "error",
     "traceback": [
      "\u001b[0;31m---------------------------------------------------------------------------\u001b[0m",
      "\u001b[0;31mFileNotFoundError\u001b[0m                         Traceback (most recent call last)",
      "Cell \u001b[0;32mIn[30], line 1\u001b[0m\n\u001b[0;32m----> 1\u001b[0m pairwise_top1k_cCREs \u001b[38;5;241m=\u001b[39m \u001b[43mpd\u001b[49m\u001b[38;5;241;43m.\u001b[39;49m\u001b[43mread_table\u001b[49m\u001b[43m(\u001b[49m\u001b[38;5;124;43m'\u001b[39;49m\u001b[38;5;124;43m../../../data/Corces2016_bulk_ATAC/03_get_differentially_accessible_regions/only_progenitors-for_FACS_BM_scATAC/Corces2016_pairwise_differential_cCREs_FDR0.05_top21000_sorted_exactCREs.csv\u001b[39;49m\u001b[38;5;124;43m'\u001b[39;49m\u001b[43m,\u001b[49m\u001b[43mdelimiter\u001b[49m\u001b[38;5;241;43m=\u001b[39;49m\u001b[38;5;124;43m\"\u001b[39;49m\u001b[38;5;130;43;01m\\t\u001b[39;49;00m\u001b[38;5;124;43m\"\u001b[39;49m\u001b[43m,\u001b[49m\u001b[43mheader\u001b[49m\u001b[38;5;241;43m=\u001b[39;49m\u001b[38;5;28;43;01mNone\u001b[39;49;00m\u001b[43m)\u001b[49m\n\u001b[1;32m      3\u001b[0m pairwise_top1k_cCREs\u001b[38;5;241m.\u001b[39mhead()\n",
      "File \u001b[0;32m~/miniconda3/envs/scATAcat_reproducibility_env/lib/python3.10/site-packages/pandas/io/parsers/readers.py:1282\u001b[0m, in \u001b[0;36mread_table\u001b[0;34m(filepath_or_buffer, sep, delimiter, header, names, index_col, usecols, dtype, engine, converters, true_values, false_values, skipinitialspace, skiprows, skipfooter, nrows, na_values, keep_default_na, na_filter, verbose, skip_blank_lines, parse_dates, infer_datetime_format, keep_date_col, date_parser, date_format, dayfirst, cache_dates, iterator, chunksize, compression, thousands, decimal, lineterminator, quotechar, quoting, doublequote, escapechar, comment, encoding, encoding_errors, dialect, on_bad_lines, delim_whitespace, low_memory, memory_map, float_precision, storage_options, dtype_backend)\u001b[0m\n\u001b[1;32m   1269\u001b[0m kwds_defaults \u001b[38;5;241m=\u001b[39m _refine_defaults_read(\n\u001b[1;32m   1270\u001b[0m     dialect,\n\u001b[1;32m   1271\u001b[0m     delimiter,\n\u001b[0;32m   (...)\u001b[0m\n\u001b[1;32m   1278\u001b[0m     dtype_backend\u001b[38;5;241m=\u001b[39mdtype_backend,\n\u001b[1;32m   1279\u001b[0m )\n\u001b[1;32m   1280\u001b[0m kwds\u001b[38;5;241m.\u001b[39mupdate(kwds_defaults)\n\u001b[0;32m-> 1282\u001b[0m \u001b[38;5;28;01mreturn\u001b[39;00m \u001b[43m_read\u001b[49m\u001b[43m(\u001b[49m\u001b[43mfilepath_or_buffer\u001b[49m\u001b[43m,\u001b[49m\u001b[43m \u001b[49m\u001b[43mkwds\u001b[49m\u001b[43m)\u001b[49m\n",
      "File \u001b[0;32m~/miniconda3/envs/scATAcat_reproducibility_env/lib/python3.10/site-packages/pandas/io/parsers/readers.py:611\u001b[0m, in \u001b[0;36m_read\u001b[0;34m(filepath_or_buffer, kwds)\u001b[0m\n\u001b[1;32m    608\u001b[0m _validate_names(kwds\u001b[38;5;241m.\u001b[39mget(\u001b[38;5;124m\"\u001b[39m\u001b[38;5;124mnames\u001b[39m\u001b[38;5;124m\"\u001b[39m, \u001b[38;5;28;01mNone\u001b[39;00m))\n\u001b[1;32m    610\u001b[0m \u001b[38;5;66;03m# Create the parser.\u001b[39;00m\n\u001b[0;32m--> 611\u001b[0m parser \u001b[38;5;241m=\u001b[39m \u001b[43mTextFileReader\u001b[49m\u001b[43m(\u001b[49m\u001b[43mfilepath_or_buffer\u001b[49m\u001b[43m,\u001b[49m\u001b[43m \u001b[49m\u001b[38;5;241;43m*\u001b[39;49m\u001b[38;5;241;43m*\u001b[39;49m\u001b[43mkwds\u001b[49m\u001b[43m)\u001b[49m\n\u001b[1;32m    613\u001b[0m \u001b[38;5;28;01mif\u001b[39;00m chunksize \u001b[38;5;129;01mor\u001b[39;00m iterator:\n\u001b[1;32m    614\u001b[0m     \u001b[38;5;28;01mreturn\u001b[39;00m parser\n",
      "File \u001b[0;32m~/miniconda3/envs/scATAcat_reproducibility_env/lib/python3.10/site-packages/pandas/io/parsers/readers.py:1448\u001b[0m, in \u001b[0;36mTextFileReader.__init__\u001b[0;34m(self, f, engine, **kwds)\u001b[0m\n\u001b[1;32m   1445\u001b[0m     \u001b[38;5;28mself\u001b[39m\u001b[38;5;241m.\u001b[39moptions[\u001b[38;5;124m\"\u001b[39m\u001b[38;5;124mhas_index_names\u001b[39m\u001b[38;5;124m\"\u001b[39m] \u001b[38;5;241m=\u001b[39m kwds[\u001b[38;5;124m\"\u001b[39m\u001b[38;5;124mhas_index_names\u001b[39m\u001b[38;5;124m\"\u001b[39m]\n\u001b[1;32m   1447\u001b[0m \u001b[38;5;28mself\u001b[39m\u001b[38;5;241m.\u001b[39mhandles: IOHandles \u001b[38;5;241m|\u001b[39m \u001b[38;5;28;01mNone\u001b[39;00m \u001b[38;5;241m=\u001b[39m \u001b[38;5;28;01mNone\u001b[39;00m\n\u001b[0;32m-> 1448\u001b[0m \u001b[38;5;28mself\u001b[39m\u001b[38;5;241m.\u001b[39m_engine \u001b[38;5;241m=\u001b[39m \u001b[38;5;28;43mself\u001b[39;49m\u001b[38;5;241;43m.\u001b[39;49m\u001b[43m_make_engine\u001b[49m\u001b[43m(\u001b[49m\u001b[43mf\u001b[49m\u001b[43m,\u001b[49m\u001b[43m \u001b[49m\u001b[38;5;28;43mself\u001b[39;49m\u001b[38;5;241;43m.\u001b[39;49m\u001b[43mengine\u001b[49m\u001b[43m)\u001b[49m\n",
      "File \u001b[0;32m~/miniconda3/envs/scATAcat_reproducibility_env/lib/python3.10/site-packages/pandas/io/parsers/readers.py:1705\u001b[0m, in \u001b[0;36mTextFileReader._make_engine\u001b[0;34m(self, f, engine)\u001b[0m\n\u001b[1;32m   1703\u001b[0m     \u001b[38;5;28;01mif\u001b[39;00m \u001b[38;5;124m\"\u001b[39m\u001b[38;5;124mb\u001b[39m\u001b[38;5;124m\"\u001b[39m \u001b[38;5;129;01mnot\u001b[39;00m \u001b[38;5;129;01min\u001b[39;00m mode:\n\u001b[1;32m   1704\u001b[0m         mode \u001b[38;5;241m+\u001b[39m\u001b[38;5;241m=\u001b[39m \u001b[38;5;124m\"\u001b[39m\u001b[38;5;124mb\u001b[39m\u001b[38;5;124m\"\u001b[39m\n\u001b[0;32m-> 1705\u001b[0m \u001b[38;5;28mself\u001b[39m\u001b[38;5;241m.\u001b[39mhandles \u001b[38;5;241m=\u001b[39m \u001b[43mget_handle\u001b[49m\u001b[43m(\u001b[49m\n\u001b[1;32m   1706\u001b[0m \u001b[43m    \u001b[49m\u001b[43mf\u001b[49m\u001b[43m,\u001b[49m\n\u001b[1;32m   1707\u001b[0m \u001b[43m    \u001b[49m\u001b[43mmode\u001b[49m\u001b[43m,\u001b[49m\n\u001b[1;32m   1708\u001b[0m \u001b[43m    \u001b[49m\u001b[43mencoding\u001b[49m\u001b[38;5;241;43m=\u001b[39;49m\u001b[38;5;28;43mself\u001b[39;49m\u001b[38;5;241;43m.\u001b[39;49m\u001b[43moptions\u001b[49m\u001b[38;5;241;43m.\u001b[39;49m\u001b[43mget\u001b[49m\u001b[43m(\u001b[49m\u001b[38;5;124;43m\"\u001b[39;49m\u001b[38;5;124;43mencoding\u001b[39;49m\u001b[38;5;124;43m\"\u001b[39;49m\u001b[43m,\u001b[49m\u001b[43m \u001b[49m\u001b[38;5;28;43;01mNone\u001b[39;49;00m\u001b[43m)\u001b[49m\u001b[43m,\u001b[49m\n\u001b[1;32m   1709\u001b[0m \u001b[43m    \u001b[49m\u001b[43mcompression\u001b[49m\u001b[38;5;241;43m=\u001b[39;49m\u001b[38;5;28;43mself\u001b[39;49m\u001b[38;5;241;43m.\u001b[39;49m\u001b[43moptions\u001b[49m\u001b[38;5;241;43m.\u001b[39;49m\u001b[43mget\u001b[49m\u001b[43m(\u001b[49m\u001b[38;5;124;43m\"\u001b[39;49m\u001b[38;5;124;43mcompression\u001b[39;49m\u001b[38;5;124;43m\"\u001b[39;49m\u001b[43m,\u001b[49m\u001b[43m \u001b[49m\u001b[38;5;28;43;01mNone\u001b[39;49;00m\u001b[43m)\u001b[49m\u001b[43m,\u001b[49m\n\u001b[1;32m   1710\u001b[0m \u001b[43m    \u001b[49m\u001b[43mmemory_map\u001b[49m\u001b[38;5;241;43m=\u001b[39;49m\u001b[38;5;28;43mself\u001b[39;49m\u001b[38;5;241;43m.\u001b[39;49m\u001b[43moptions\u001b[49m\u001b[38;5;241;43m.\u001b[39;49m\u001b[43mget\u001b[49m\u001b[43m(\u001b[49m\u001b[38;5;124;43m\"\u001b[39;49m\u001b[38;5;124;43mmemory_map\u001b[39;49m\u001b[38;5;124;43m\"\u001b[39;49m\u001b[43m,\u001b[49m\u001b[43m \u001b[49m\u001b[38;5;28;43;01mFalse\u001b[39;49;00m\u001b[43m)\u001b[49m\u001b[43m,\u001b[49m\n\u001b[1;32m   1711\u001b[0m \u001b[43m    \u001b[49m\u001b[43mis_text\u001b[49m\u001b[38;5;241;43m=\u001b[39;49m\u001b[43mis_text\u001b[49m\u001b[43m,\u001b[49m\n\u001b[1;32m   1712\u001b[0m \u001b[43m    \u001b[49m\u001b[43merrors\u001b[49m\u001b[38;5;241;43m=\u001b[39;49m\u001b[38;5;28;43mself\u001b[39;49m\u001b[38;5;241;43m.\u001b[39;49m\u001b[43moptions\u001b[49m\u001b[38;5;241;43m.\u001b[39;49m\u001b[43mget\u001b[49m\u001b[43m(\u001b[49m\u001b[38;5;124;43m\"\u001b[39;49m\u001b[38;5;124;43mencoding_errors\u001b[39;49m\u001b[38;5;124;43m\"\u001b[39;49m\u001b[43m,\u001b[49m\u001b[43m \u001b[49m\u001b[38;5;124;43m\"\u001b[39;49m\u001b[38;5;124;43mstrict\u001b[39;49m\u001b[38;5;124;43m\"\u001b[39;49m\u001b[43m)\u001b[49m\u001b[43m,\u001b[49m\n\u001b[1;32m   1713\u001b[0m \u001b[43m    \u001b[49m\u001b[43mstorage_options\u001b[49m\u001b[38;5;241;43m=\u001b[39;49m\u001b[38;5;28;43mself\u001b[39;49m\u001b[38;5;241;43m.\u001b[39;49m\u001b[43moptions\u001b[49m\u001b[38;5;241;43m.\u001b[39;49m\u001b[43mget\u001b[49m\u001b[43m(\u001b[49m\u001b[38;5;124;43m\"\u001b[39;49m\u001b[38;5;124;43mstorage_options\u001b[39;49m\u001b[38;5;124;43m\"\u001b[39;49m\u001b[43m,\u001b[49m\u001b[43m \u001b[49m\u001b[38;5;28;43;01mNone\u001b[39;49;00m\u001b[43m)\u001b[49m\u001b[43m,\u001b[49m\n\u001b[1;32m   1714\u001b[0m \u001b[43m\u001b[49m\u001b[43m)\u001b[49m\n\u001b[1;32m   1715\u001b[0m \u001b[38;5;28;01massert\u001b[39;00m \u001b[38;5;28mself\u001b[39m\u001b[38;5;241m.\u001b[39mhandles \u001b[38;5;129;01mis\u001b[39;00m \u001b[38;5;129;01mnot\u001b[39;00m \u001b[38;5;28;01mNone\u001b[39;00m\n\u001b[1;32m   1716\u001b[0m f \u001b[38;5;241m=\u001b[39m \u001b[38;5;28mself\u001b[39m\u001b[38;5;241m.\u001b[39mhandles\u001b[38;5;241m.\u001b[39mhandle\n",
      "File \u001b[0;32m~/miniconda3/envs/scATAcat_reproducibility_env/lib/python3.10/site-packages/pandas/io/common.py:863\u001b[0m, in \u001b[0;36mget_handle\u001b[0;34m(path_or_buf, mode, encoding, compression, memory_map, is_text, errors, storage_options)\u001b[0m\n\u001b[1;32m    858\u001b[0m \u001b[38;5;28;01melif\u001b[39;00m \u001b[38;5;28misinstance\u001b[39m(handle, \u001b[38;5;28mstr\u001b[39m):\n\u001b[1;32m    859\u001b[0m     \u001b[38;5;66;03m# Check whether the filename is to be opened in binary mode.\u001b[39;00m\n\u001b[1;32m    860\u001b[0m     \u001b[38;5;66;03m# Binary mode does not support 'encoding' and 'newline'.\u001b[39;00m\n\u001b[1;32m    861\u001b[0m     \u001b[38;5;28;01mif\u001b[39;00m ioargs\u001b[38;5;241m.\u001b[39mencoding \u001b[38;5;129;01mand\u001b[39;00m \u001b[38;5;124m\"\u001b[39m\u001b[38;5;124mb\u001b[39m\u001b[38;5;124m\"\u001b[39m \u001b[38;5;129;01mnot\u001b[39;00m \u001b[38;5;129;01min\u001b[39;00m ioargs\u001b[38;5;241m.\u001b[39mmode:\n\u001b[1;32m    862\u001b[0m         \u001b[38;5;66;03m# Encoding\u001b[39;00m\n\u001b[0;32m--> 863\u001b[0m         handle \u001b[38;5;241m=\u001b[39m \u001b[38;5;28;43mopen\u001b[39;49m\u001b[43m(\u001b[49m\n\u001b[1;32m    864\u001b[0m \u001b[43m            \u001b[49m\u001b[43mhandle\u001b[49m\u001b[43m,\u001b[49m\n\u001b[1;32m    865\u001b[0m \u001b[43m            \u001b[49m\u001b[43mioargs\u001b[49m\u001b[38;5;241;43m.\u001b[39;49m\u001b[43mmode\u001b[49m\u001b[43m,\u001b[49m\n\u001b[1;32m    866\u001b[0m \u001b[43m            \u001b[49m\u001b[43mencoding\u001b[49m\u001b[38;5;241;43m=\u001b[39;49m\u001b[43mioargs\u001b[49m\u001b[38;5;241;43m.\u001b[39;49m\u001b[43mencoding\u001b[49m\u001b[43m,\u001b[49m\n\u001b[1;32m    867\u001b[0m \u001b[43m            \u001b[49m\u001b[43merrors\u001b[49m\u001b[38;5;241;43m=\u001b[39;49m\u001b[43merrors\u001b[49m\u001b[43m,\u001b[49m\n\u001b[1;32m    868\u001b[0m \u001b[43m            \u001b[49m\u001b[43mnewline\u001b[49m\u001b[38;5;241;43m=\u001b[39;49m\u001b[38;5;124;43m\"\u001b[39;49m\u001b[38;5;124;43m\"\u001b[39;49m\u001b[43m,\u001b[49m\n\u001b[1;32m    869\u001b[0m \u001b[43m        \u001b[49m\u001b[43m)\u001b[49m\n\u001b[1;32m    870\u001b[0m     \u001b[38;5;28;01melse\u001b[39;00m:\n\u001b[1;32m    871\u001b[0m         \u001b[38;5;66;03m# Binary mode\u001b[39;00m\n\u001b[1;32m    872\u001b[0m         handle \u001b[38;5;241m=\u001b[39m \u001b[38;5;28mopen\u001b[39m(handle, ioargs\u001b[38;5;241m.\u001b[39mmode)\n",
      "\u001b[0;31mFileNotFoundError\u001b[0m: [Errno 2] No such file or directory: '../../../data/Corces2016_bulk_ATAC/03_get_differentially_accessible_regions/only_progenitors-for_FACS_BM_scATAC/Corces2016_pairwise_differential_cCREs_FDR0.05_top21000_sorted_exactCREs.csv'"
     ]
    }
   ],
   "source": [
    "pairwise_top1k_cCREs = pd.read_table('../../../data/Corces2016_bulk_ATAC/03_get_differentially_accessible_regions/only_progenitors-for_FACS_BM_scATAC/Corces2016_pairwise_differential_cCREs_FDR0.05_top21000_sorted_exactCREs.csv',delimiter=\"\\t\",header=None)\n",
    "\n",
    "pairwise_top1k_cCREs.head()"
   ]
  },
  {
   "cell_type": "code",
   "execution_count": null,
   "id": "785bc5e8-6a56-40b1-8bb9-8655a4428318",
   "metadata": {},
   "outputs": [],
   "source": [
    "len(pairwise_top1k_cCREs)"
   ]
  },
  {
   "cell_type": "code",
   "execution_count": null,
   "id": "0f0b75a1-fa76-4ec1-a63f-0c74e11c1cfc",
   "metadata": {
    "tags": []
   },
   "outputs": [],
   "source": [
    "common_differential_vars = list(set(list(sc_bulk_common_vars)) & set(list(pairwise_top1k_cCREs[0].tolist())))\n",
    "\n",
    "len(common_differential_vars)"
   ]
  },
  {
   "cell_type": "code",
   "execution_count": null,
   "id": "dbf130e6-7ad2-44e7-9598-38641ec4e6e8",
   "metadata": {
    "tags": []
   },
   "outputs": [],
   "source": [
    "bulk_commonDiffFeatures_adata = scATAcat.subset_adata_vars(bulk_commonFeatures_adata,\n",
    "                                                 vars_list=common_differential_vars,\n",
    "                                                 copy_=True)"
   ]
  },
  {
   "cell_type": "code",
   "execution_count": null,
   "id": "874f7122-dcb7-4656-9ca4-bc66ffe25488",
   "metadata": {
    "tags": []
   },
   "outputs": [],
   "source": [
    "sc_commonDiffFeatures_adata = scATAcat.subset_adata_vars(sc_commonFeatures_adata,\n",
    "                                                 vars_list=common_differential_vars,\n",
    "                                                 copy_=True)"
   ]
  },
  {
   "cell_type": "markdown",
   "id": "356b3830-8af4-41d7-9b9d-880d4df04841",
   "metadata": {
    "tags": []
   },
   "source": [
    "### 10- dimention reduction and clustering "
   ]
  },
  {
   "cell_type": "code",
   "execution_count": null,
   "id": "0bd97b8e-42ab-4a6a-b2d9-01d376ae05e8",
   "metadata": {
    "tags": []
   },
   "outputs": [],
   "source": [
    "sc_commonDiffFeatures_adata"
   ]
  },
  {
   "cell_type": "code",
   "execution_count": null,
   "id": "2455cfb2-207b-43bc-8e67-4703a61a8bac",
   "metadata": {
    "tags": []
   },
   "outputs": [],
   "source": [
    "scATAcat.apply_PCA(sc_commonDiffFeatures_adata, layer_key ='TF_logIDF', svd_solver='arpack', random_state=0)\n"
   ]
  },
  {
   "cell_type": "code",
   "execution_count": null,
   "id": "d3f4751f-e2de-4d29-9293-c4400143badc",
   "metadata": {},
   "outputs": [],
   "source": [
    "with plt.rc_context():\n",
    "    sc.pl.pca_variance_ratio(sc_commonDiffFeatures_adata, n_pcs=50, log=True, show=False)\n",
    "    plt.savefig(figures_dir + \"/pca_variance_ratio.pdf\", bbox_inches=\"tight\")"
   ]
  },
  {
   "cell_type": "code",
   "execution_count": null,
   "id": "33dc80a4-af8d-4ed8-bfc8-d46bc769fe3e",
   "metadata": {
    "tags": []
   },
   "outputs": [],
   "source": [
    "sc.pp.neighbors(sc_commonDiffFeatures_adata, n_pcs = 50, n_neighbors = 30, random_state=0)\n"
   ]
  },
  {
   "cell_type": "code",
   "execution_count": null,
   "id": "8ea5f58d-65e7-4a54-8fc2-032c860ab157",
   "metadata": {
    "tags": []
   },
   "outputs": [],
   "source": [
    "seqDepth_PC1_plot = sns.jointplot(\n",
    "    x=sc_commonDiffFeatures_adata.obsm['X_pca'][:,0],\n",
    "    y=np.sqrt(sc_commonDiffFeatures_adata.obsm['num_feature_per_cell']),\n",
    "    kind=\"kde\",fill=True\n",
    ")"
   ]
  },
  {
   "cell_type": "code",
   "execution_count": null,
   "id": "89c2fbb0-b633-41c0-95ea-ec4fd1a0452c",
   "metadata": {
    "tags": []
   },
   "outputs": [],
   "source": [
    "## correlation\n",
    "np.corrcoef(sc_commonDiffFeatures_adata.obsm['X_pca'][:,0],\n",
    "    np.sqrt(sc_commonDiffFeatures_adata.obsm['num_feature_per_cell']))\n",
    "plt.xlabel(\"1st PC\")\n",
    "plt.ylabel(\"num_feature_per_cell\")"
   ]
  },
  {
   "cell_type": "markdown",
   "id": "938057da-0b49-44b6-aa1b-386286a497c1",
   "metadata": {},
   "source": [
    "### 11 -  apply UMAP & leiden clustering"
   ]
  },
  {
   "cell_type": "code",
   "execution_count": null,
   "id": "a1b35688-bdff-4d8f-b0bf-b7870be8f7d5",
   "metadata": {},
   "outputs": [],
   "source": [
    "leiden_resolution=0.6\n",
    "leiden_key=\"leiden_\"+ str(leiden_resolution)"
   ]
  },
  {
   "cell_type": "code",
   "execution_count": null,
   "id": "f703199d-8ef2-4da5-815a-1ecd273db95f",
   "metadata": {
    "tags": []
   },
   "outputs": [],
   "source": [
    "sc.tl.umap(sc_commonDiffFeatures_adata, random_state=0)"
   ]
  },
  {
   "cell_type": "code",
   "execution_count": null,
   "id": "d93cbfeb-afb3-4f6b-ab84-54aadc4208b3",
   "metadata": {
    "tags": []
   },
   "outputs": [],
   "source": [
    "sc.tl.leiden(sc_commonDiffFeatures_adata, resolution=leiden_resolution,key_added=leiden_key, random_state=0)"
   ]
  },
  {
   "cell_type": "code",
   "execution_count": null,
   "id": "b7e957ab-96f2-48e5-94c1-253b5e78637b",
   "metadata": {},
   "outputs": [],
   "source": [
    "# specifiy the colors implicity for paper\n",
    "sc_commonDiffFeatures_adata.uns[leiden_key +'_colors'] = ['#1f77b4',\n",
    "'#ff7f0e',\n",
    "'#d62728',\n",
    "'#8c564b',\n",
    "'#e377c2',\n",
    "'#bcbd22',\n",
    "'#17becf',\n",
    "'#2ca02c']"
   ]
  },
  {
   "cell_type": "code",
   "execution_count": null,
   "id": "8ea5f3c8-125a-4119-b9a4-fe6020c44907",
   "metadata": {
    "tags": []
   },
   "outputs": [],
   "source": [
    "with plt.rc_context():\n",
    "    sc.pl.umap(sc_commonDiffFeatures_adata, color=leiden_key, show=False,size=35 , add_outline=False, frameon=False, title=\"\")\n",
    "    plt.savefig(figures_dir + \"/\"+ leiden_key+ \".pdf\", bbox_inches=\"tight\")"
   ]
  },
  {
   "cell_type": "code",
   "execution_count": null,
   "id": "7e11f9c0-e56e-4c2a-b323-2c6cdaa5d29f",
   "metadata": {
    "tags": []
   },
   "outputs": [],
   "source": [
    "# add cell types as obs\n",
    "sc_commonDiffFeatures_adata.obs[\"cell_type\"] = [r.split('_')[0] for r in sc_commonDiffFeatures_adata.obs.cell_IDs]\n",
    "sc_commonDiffFeatures_adata.obs"
   ]
  },
  {
   "cell_type": "code",
   "execution_count": null,
   "id": "9b0d56ad-80d9-4aa9-8a9b-458d2de5b217",
   "metadata": {},
   "outputs": [],
   "source": [
    "# manually set new colors # E4E858\n",
    "sc_commonDiffFeatures_adata.uns['cell_type_colors'] =['#82018F',  \"#BDB0D9\", \"#92929C\",\"#BAE33A\", \"#7ED9B7\", \"#008F8C\", \"#275974\"]"
   ]
  },
  {
   "cell_type": "code",
   "execution_count": null,
   "id": "a389930d-e6a2-4350-a9f5-583c60f921db",
   "metadata": {
    "tags": []
   },
   "outputs": [],
   "source": [
    "with plt.rc_context(): \n",
    "    sc.pl.umap(sc_commonDiffFeatures_adata, color='cell_type', add_outline=False, frameon=False,title =\"\", show=False, size=35 )\n",
    "    plt.savefig(figures_dir + \"/cell_types_umap_matching_colors.pdf\", bbox_inches=\"tight\")"
   ]
  },
  {
   "cell_type": "markdown",
   "id": "c609831c-7619-4b20-a0c9-91e3c87e659b",
   "metadata": {},
   "source": [
    "#### loook at sequencing depth"
   ]
  },
  {
   "cell_type": "code",
   "execution_count": null,
   "id": "59669b78-b406-4c9b-b6bf-73c527358cc4",
   "metadata": {
    "tags": []
   },
   "outputs": [],
   "source": [
    "sc_commonDiffFeatures_adata.obs['num_feature_per_cell_'] = sc_commonDiffFeatures_adata.obsm['num_feature_per_cell']"
   ]
  },
  {
   "cell_type": "code",
   "execution_count": null,
   "id": "555d7ccc-873d-4172-b1b7-da5ce0f8286c",
   "metadata": {
    "tags": []
   },
   "outputs": [],
   "source": [
    "\n",
    "with plt.rc_context():  \n",
    "    sc.pl.umap(sc_commonDiffFeatures_adata, color='num_feature_per_cell_', add_outline=False, frameon=False,title =\"\", save=False, size=25 )\n",
    "    plt.savefig(figures_dir + \"/seq_depth_umap.pdf\", bbox_inches=\"tight\")"
   ]
  },
  {
   "cell_type": "markdown",
   "id": "538f228a-1916-467b-8dc6-8f0e8e859b0b",
   "metadata": {
    "tags": []
   },
   "source": [
    "### 12 - from pseudobulks according to the cluster assignments\n"
   ]
  },
  {
   "cell_type": "code",
   "execution_count": null,
   "id": "b798dfec-bc5f-42b7-8f72-d5d20f652b8c",
   "metadata": {
    "tags": []
   },
   "outputs": [],
   "source": [
    "cell_cluster_assignments = pd.DataFrame(sc_commonDiffFeatures_adata.obs[leiden_key].copy())\n",
    "cell_cluster_assignments\n"
   ]
  },
  {
   "cell_type": "code",
   "execution_count": null,
   "id": "81c9a896-f3de-448b-b391-3bcd4c77010d",
   "metadata": {
    "tags": []
   },
   "outputs": [],
   "source": [
    "cell_cluster_sizes = pd.DataFrame(cell_cluster_assignments[leiden_key].value_counts())\n",
    "cell_cluster_sizes['leiden_clusters'] = cell_cluster_sizes.index\n",
    "cell_cluster_sizes.head()"
   ]
  },
  {
   "cell_type": "code",
   "execution_count": null,
   "id": "fc67b67b-9aa5-4bf9-9207-d5afba6a4634",
   "metadata": {
    "tags": []
   },
   "outputs": [],
   "source": [
    "for clust_id in set(sc_commonDiffFeatures_adata.obs[leiden_key].values):\n",
    "    clust_df= sc_commonDiffFeatures_adata[sc_commonDiffFeatures_adata.obs[leiden_key]==clust_id]"
   ]
  },
  {
   "cell_type": "code",
   "execution_count": null,
   "id": "b8918b30-3737-402f-aff0-b35c7e7f36ac",
   "metadata": {
    "tags": []
   },
   "outputs": [],
   "source": [
    "cell_types = ([(r.split('_')[0]) for r in clust_df.obs[leiden_key].index])"
   ]
  },
  {
   "cell_type": "code",
   "execution_count": null,
   "id": "1accec6c-75f7-475e-a1d9-bee4430e4a9b",
   "metadata": {
    "tags": []
   },
   "outputs": [],
   "source": [
    "# plot a bar chart\n",
    "sns.set_style(\"whitegrid\")\n",
    "ax= sns.barplot(\n",
    "    y=\"count\", \n",
    "    x=\"leiden_clusters\", \n",
    "    data=cell_cluster_sizes, \n",
    "    color='lightgrey');\n",
    "ax.yaxis.grid(True,color=\"lightgrey\")\n",
    "ax.axes.set_xlabel(\"Leiden cluster ID\")\n",
    "ax.axes.set_ylabel(\"cluster size\")\n",
    "#atickt(yticks=(list(range(0,1500,100))))\n",
    "plt.savefig(figures_dir + \"/cluster_sizes_\"+leiden_key+\".pdf\", dpi=250)"
   ]
  },
  {
   "cell_type": "code",
   "execution_count": null,
   "id": "b690c931-d67d-4ecd-8e21-a6eab3be1120",
   "metadata": {
    "tags": []
   },
   "outputs": [],
   "source": [
    "pseudobulk_commonFeatures_adata = scATAcat.generate_bulk_sparse_AnnData(scATAcat.get_pseudobulk_matrix_ext(adata_to_subset=sc_commonFeatures_adata, adata_to_get_clusters=sc_commonDiffFeatures_adata, cluster_key=leiden_key  ,method = 'sum'))"
   ]
  },
  {
   "cell_type": "code",
   "execution_count": null,
   "id": "88cd85c3-1e60-4bcb-af4f-a902df5a7188",
   "metadata": {
    "tags": []
   },
   "outputs": [],
   "source": [
    "scATAcat.preprocessing_libsize_norm_log2(pseudobulk_commonFeatures_adata)"
   ]
  },
  {
   "cell_type": "code",
   "execution_count": null,
   "id": "ad78dda2-2313-43d4-a02c-872f1bff94f5",
   "metadata": {
    "tags": []
   },
   "outputs": [],
   "source": [
    "scATAcat.preprocessing_libsize_norm_log2(bulk_commonFeatures_adata)"
   ]
  },
  {
   "cell_type": "markdown",
   "id": "6781b2a3-8ec8-46ef-8d87-ee4b913bf75e",
   "metadata": {
    "tags": []
   },
   "source": [
    "### 13 - Projection\n"
   ]
  },
  {
   "cell_type": "markdown",
   "id": "8c1fe790-d56c-45d9-b14b-005c804a0c38",
   "metadata": {},
   "source": [
    "#### processing "
   ]
  },
  {
   "cell_type": "code",
   "execution_count": null,
   "id": "130f412a-7bc3-42df-84de-7abb0ede240d",
   "metadata": {
    "tags": []
   },
   "outputs": [],
   "source": [
    "bulk_commonDiffFeatures_adata = scATAcat.subset_adata_vars(bulk_commonFeatures_adata,\n",
    "                                                 vars_list=common_differential_vars,\n",
    "                                                 copy_=True)"
   ]
  },
  {
   "cell_type": "code",
   "execution_count": null,
   "id": "c53d7db8-f09b-4d83-ba3c-ce6397faadfd",
   "metadata": {
    "tags": []
   },
   "outputs": [],
   "source": [
    "bulk_commonDiffFeatures_adata"
   ]
  },
  {
   "cell_type": "code",
   "execution_count": null,
   "id": "bd8796c6-f55d-4687-a59e-a760a4467655",
   "metadata": {
    "tags": []
   },
   "outputs": [],
   "source": [
    "pseudobulk_commonDiffFeatures_adata = scATAcat.subset_adata_vars(pseudobulk_commonFeatures_adata,\n",
    "                                                 vars_list=common_differential_vars,\n",
    "                                                 copy_=True)"
   ]
  },
  {
   "cell_type": "code",
   "execution_count": null,
   "id": "01526fec-653d-4117-a44b-3f5224763c98",
   "metadata": {
    "tags": []
   },
   "outputs": [],
   "source": [
    "scATAcat.preprocessing_standardization(bulk_commonDiffFeatures_adata, input_layer_key=\"libsize_norm_log2\", zero_center=True)"
   ]
  },
  {
   "cell_type": "code",
   "execution_count": null,
   "id": "65e9bae3-e868-43f0-b490-bfd132390ce7",
   "metadata": {
    "tags": []
   },
   "outputs": [],
   "source": [
    "bulk_commonDiffFeatures_adata"
   ]
  },
  {
   "cell_type": "code",
   "execution_count": null,
   "id": "bc74a067-8295-41aa-9b68-7fe98a12d797",
   "metadata": {
    "tags": []
   },
   "outputs": [],
   "source": [
    "scATAcat.preprocessing_standardization(pseudobulk_commonDiffFeatures_adata, input_layer_key=\"libsize_norm_log2\", zero_center=False,\n",
    "                              output_layer_key= \"libsize_norm_log2_bulk_scaled_diff\",\n",
    "                              std_key= None,  mean_key=None,\n",
    "                              std_ = bulk_commonDiffFeatures_adata.var[\"feature_std\"],\n",
    "                              mean_= bulk_commonDiffFeatures_adata.var[\"feature_mean\"])"
   ]
  },
  {
   "cell_type": "code",
   "execution_count": null,
   "id": "3694407b-91ae-4754-a25f-f0bd82f0ba8a",
   "metadata": {},
   "outputs": [],
   "source": [
    "## as an option, I can add the color codes from the clustering/ sc adata as a paramater for the pseudobulk matrix \n",
    "leiden_color_key = leiden_key+\"_colors\"\n",
    "pseudobulk_commonDiffFeatures_adata.uns[leiden_color_key] = sc_commonDiffFeatures_adata.uns[leiden_color_key]"
   ]
  },
  {
   "cell_type": "code",
   "execution_count": null,
   "id": "5eb4d1f8-a02d-46cd-9cbe-14bf6c166c00",
   "metadata": {},
   "outputs": [],
   "source": [
    "result= scATAcat.projection(prototype_adata=bulk_commonDiffFeatures_adata, pseudobulk_adata=pseudobulk_commonDiffFeatures_adata, prototype_layer_key = \"libsize_norm_log2_std\", pseudobulk_layer_key=\"libsize_norm_log2_bulk_scaled_diff\", color_key=leiden_color_key, pseudobulk_label_font_size =13, prototype_label_font_size = 0,\n",
    "prototype_colors = ['#38184C',  \"#BDB0D9\", \"#92929C\",\"#BAE33A\", \"#7ED9B7\", \"#008F8C\", \"#275974\"], pseudobulk_colors =  None, pseudobulk_point_size=250, prototype_point_size=250, pseudobulk_point_alpha=0.8, prototype_point_alpha=0.7, cmap='twilight_shifted', prototype_legend = True, pseudobulk_legend = True, save_path = figures_dir + \"projection.png\")"
   ]
  },
  {
   "cell_type": "code",
   "execution_count": null,
   "id": "13eae3e9-5b8f-48aa-bc2e-e395b4471074",
   "metadata": {},
   "outputs": [],
   "source": [
    "result_noLabel = scATAcat.projection(prototype_adata=bulk_commonDiffFeatures_adata, pseudobulk_adata=pseudobulk_commonDiffFeatures_adata, prototype_layer_key = \"libsize_norm_log2_std\", pseudobulk_layer_key=\"libsize_norm_log2_bulk_scaled_diff\", color_key=leiden_color_key, pseudobulk_label_font_size =0, prototype_label_font_size =0, \n",
    "                            prototype_colors = ['#38184C',  \"#BDB0D9\", \"#92929C\",\"#BAE33A\", \"#7ED9B7\", \"#008F8C\", \"#275974\"], pseudobulk_colors =  None, pseudobulk_point_size=250, prototype_point_size=250, pseudobulk_point_alpha=0.8, prototype_point_alpha=0.7, cmap='twilight_shifted', prototype_legend = True, pseudobulk_legend = True, save_path = figures_dir + \"projection_noLabel.png\")"
   ]
  },
  {
   "cell_type": "code",
   "execution_count": null,
   "id": "4579c6cf-3cf4-4a66-8b3a-4cf734f88150",
   "metadata": {},
   "outputs": [],
   "source": [
    "result_noLabel_noLegend = scATAcat.projection(prototype_adata=bulk_commonDiffFeatures_adata, pseudobulk_adata=pseudobulk_commonDiffFeatures_adata, prototype_layer_key = \"libsize_norm_log2_std\", pseudobulk_layer_key=\"libsize_norm_log2_bulk_scaled_diff\", color_key=leiden_color_key, pseudobulk_label_font_size =0, prototype_label_font_size =0, \n",
    "                            prototype_colors = ['#38184C',  \"#BDB0D9\", \"#92929C\",\"#BAE33A\", \"#7ED9B7\", \"#008F8C\", \"#275974\"], pseudobulk_colors =  None, pseudobulk_point_size=250, prototype_point_size=250, pseudobulk_point_alpha=0.8, prototype_point_alpha=0.7, cmap='twilight_shifted', prototype_legend = False, pseudobulk_legend = False, save_path = figures_dir + \"projection_noLabel_noLegend.png\", fig_size_inches=(15,15))\n"
   ]
  },
  {
   "cell_type": "markdown",
   "id": "9c71f877-19d0-4ad0-b52f-2c6c57f1f33c",
   "metadata": {
    "tags": []
   },
   "source": [
    "### 14 - Assign annotatiosn to clusters\n"
   ]
  },
  {
   "cell_type": "code",
   "execution_count": null,
   "id": "fe42da02-bc56-446e-8a9d-ce8964cfdc78",
   "metadata": {
    "tags": []
   },
   "outputs": [],
   "source": [
    "heatmap = scATAcat.plot_pca_dist_heatmap(result[1],result[2])"
   ]
  },
  {
   "cell_type": "code",
   "execution_count": null,
   "id": "112c554f-de68-4186-b51c-50f51ec4b984",
   "metadata": {
    "tags": []
   },
   "outputs": [],
   "source": [
    "centroid_heatmap =  scATAcat.plot_pca_dist_cent_heatmap(result[1],result[2])\n"
   ]
  },
  {
   "cell_type": "code",
   "execution_count": null,
   "id": "9883f3fd-05de-4fc4-81d0-e8627ee817c0",
   "metadata": {
    "tags": []
   },
   "outputs": [],
   "source": [
    "heatmap[0].savefig(figures_dir +\"/heatmap.png\") \n",
    "centroid_heatmap[0].savefig(figures_dir +\"/centroid_heatmap.png\") \n"
   ]
  },
  {
   "cell_type": "code",
   "execution_count": null,
   "id": "4b38e5b0-c0f8-417b-b2e7-ea4226e0b54d",
   "metadata": {
    "tags": []
   },
   "outputs": [],
   "source": [
    "scATAcat.get_closest_prototype_to_pseudobulk(centroid_heatmap[1])"
   ]
  },
  {
   "cell_type": "code",
   "execution_count": null,
   "id": "f363aa5d-ffcf-46ff-a3a3-667dc21e4daa",
   "metadata": {
    "tags": []
   },
   "outputs": [],
   "source": [
    "clusterID_prediction_dict = scATAcat.get_closest_prototype_to_pseudobulk(centroid_heatmap[1])\n",
    "clusterID_prediction_dict"
   ]
  },
  {
   "cell_type": "code",
   "execution_count": null,
   "id": "1ea0b1e5-eab0-4e12-8db1-561c7923336e",
   "metadata": {},
   "outputs": [],
   "source": [
    "cluster_to_pseudobulk_heatmap_plot = sns.clustermap(scATAcat.get_pseudobulk_to_prototype_distance(centroid_heatmap[1], pbulk_to_prototype=True).T,yticklabels=True,xticklabels=True, cmap=\"Blues\")"
   ]
  },
  {
   "cell_type": "code",
   "execution_count": null,
   "id": "5aeae796-cc22-4b70-b310-68434a8eea82",
   "metadata": {},
   "outputs": [],
   "source": [
    "cluster_to_pseudobulk_heatmap_plot.savefig(figures_dir+\"/cluster_to_pseudobulk_heatmap_plot.png\") \n"
   ]
  },
  {
   "cell_type": "code",
   "execution_count": null,
   "id": "22d34bc7-353a-4c08-9665-f9e632a5f8a2",
   "metadata": {},
   "outputs": [],
   "source": [
    "cluster_to_pseudobulk_heatmap_plot.savefig(figures_dir+\"/cluster_to_pseudobulk_heatmap_plot.svg\") \n"
   ]
  },
  {
   "cell_type": "markdown",
   "id": "4dad86ed-6379-45b1-b87f-a62e46100a19",
   "metadata": {},
   "source": [
    "### 15- Post hoc analysis"
   ]
  },
  {
   "cell_type": "code",
   "execution_count": null,
   "id": "02fbef0c-a280-49bc-8274-08774c97c593",
   "metadata": {
    "tags": []
   },
   "outputs": [],
   "source": [
    "cell_cluster_assignments_with_predictions = copy.deepcopy(cell_cluster_assignments)"
   ]
  },
  {
   "cell_type": "markdown",
   "id": "1b20db87-c2e6-4d4b-a572-e8e35814603c",
   "metadata": {},
   "source": [
    "#### match the clusterID with predicted cell type"
   ]
  },
  {
   "cell_type": "code",
   "execution_count": null,
   "id": "3de037be-3610-4b0d-ad4c-aa4eea9a2134",
   "metadata": {
    "tags": []
   },
   "outputs": [],
   "source": [
    "# convert the cell id column to character \n",
    "cell_cluster_assignments_with_predictions[leiden_key] = cell_cluster_assignments_with_predictions[leiden_key].astype(str)"
   ]
  },
  {
   "cell_type": "code",
   "execution_count": null,
   "id": "e788ca6b-73bb-441a-bb92-b8124cb02119",
   "metadata": {
    "tags": []
   },
   "outputs": [],
   "source": [
    "cell_cluster_assignments_with_predictions.head()"
   ]
  },
  {
   "cell_type": "code",
   "execution_count": null,
   "id": "68232f71-5df1-4f7a-93f5-0778a0683196",
   "metadata": {
    "tags": []
   },
   "outputs": [],
   "source": [
    "# refortmat the dict suct that it mactes the clust ID col\n",
    "clusterID_prediction_dict_edited = dict((''.join(filter(str.isdigit, key)), value) for (key, value) in clusterID_prediction_dict.items())\n",
    "clusterID_prediction_dict_edited"
   ]
  },
  {
   "cell_type": "code",
   "execution_count": null,
   "id": "d2d7532e-7272-444d-b4c1-d7ded74795f6",
   "metadata": {
    "tags": []
   },
   "outputs": [],
   "source": [
    "cell_cluster_assignments_with_predictions['scATAcat_annotation'] = cell_cluster_assignments_with_predictions[leiden_key].map(clusterID_prediction_dict_edited)"
   ]
  },
  {
   "cell_type": "code",
   "execution_count": null,
   "id": "a4a277fe-4249-4533-a867-c8da31d08e9f",
   "metadata": {
    "tags": []
   },
   "outputs": [],
   "source": [
    "cell_cluster_assignments_with_predictions[\"ground_truth_annotation\"] = [i.split(\"_\")[0] for i in cell_cluster_assignments_with_predictions.index]\n",
    "cell_cluster_assignments_with_predictions"
   ]
  },
  {
   "cell_type": "code",
   "execution_count": null,
   "id": "555c528a-ae94-4b63-a251-a23064e3ded8",
   "metadata": {},
   "outputs": [],
   "source": [
    "cell_cluster_assignments_with_predictions.to_csv(output_dir +\"/scATAcat_annotations.csv\")"
   ]
  },
  {
   "cell_type": "markdown",
   "id": "5a5f5173-6147-4b10-b915-671e8608eeb6",
   "metadata": {},
   "source": [
    "### 15- Post hoc analysis"
   ]
  },
  {
   "cell_type": "code",
   "execution_count": null,
   "id": "3604ffd3-0376-429d-b7fe-d4a4b8c604b5",
   "metadata": {
    "tags": []
   },
   "outputs": [],
   "source": [
    "cell_cluster_assignments_with_predictions = copy.deepcopy(cell_cluster_assignments)"
   ]
  },
  {
   "cell_type": "markdown",
   "id": "607d8be9-a5e0-425b-a75e-e864b9fac9c4",
   "metadata": {},
   "source": [
    "#### match the clusterID with predicted cell type"
   ]
  },
  {
   "cell_type": "code",
   "execution_count": null,
   "id": "3eb61f3d-87cf-434d-8f35-b82e0e68298a",
   "metadata": {
    "tags": []
   },
   "outputs": [],
   "source": [
    "# convert the cell id column to character \n",
    "cell_cluster_assignments_with_predictions[leiden_key] = cell_cluster_assignments_with_predictions[leiden_key].astype(str)"
   ]
  },
  {
   "cell_type": "code",
   "execution_count": null,
   "id": "8c6c7ffd-8600-4a5c-b737-26ba2e8c3f58",
   "metadata": {
    "tags": []
   },
   "outputs": [],
   "source": [
    "cell_cluster_assignments_with_predictions.head()"
   ]
  },
  {
   "cell_type": "code",
   "execution_count": null,
   "id": "ac6b4406-02be-4962-ae7e-037c6508df2e",
   "metadata": {
    "tags": []
   },
   "outputs": [],
   "source": [
    "# refortmat the dict suct that it mactes the clust ID col\n",
    "clusterID_prediction_dict_edited = dict((''.join(filter(str.isdigit, key)), value) for (key, value) in clusterID_prediction_dict.items())\n",
    "clusterID_prediction_dict_edited"
   ]
  },
  {
   "cell_type": "code",
   "execution_count": null,
   "id": "a5c3afb8-0b45-4e6b-8910-44349e03ab95",
   "metadata": {
    "tags": []
   },
   "outputs": [],
   "source": [
    "cell_cluster_assignments_with_predictions['scATAcat_annotation'] = cell_cluster_assignments_with_predictions[leiden_key].map(clusterID_prediction_dict_edited)"
   ]
  },
  {
   "cell_type": "code",
   "execution_count": null,
   "id": "d0e94c35-1938-4f19-90e7-ed280e714577",
   "metadata": {
    "tags": []
   },
   "outputs": [],
   "source": [
    "cell_cluster_assignments_with_predictions[\"ground_truth_annotation\"] = [i.split(\"_\")[0] for i in cell_cluster_assignments_with_predictions.index]\n",
    "cell_cluster_assignments_with_predictions"
   ]
  },
  {
   "cell_type": "code",
   "execution_count": null,
   "id": "82b97df4-3aac-4863-a58d-27dc415eb156",
   "metadata": {},
   "outputs": [],
   "source": [
    "cell_cluster_assignments_with_predictions[cell_cluster_assignments_with_predictions.scATAcat_annotation == cell_cluster_assignments_with_predictions.ground_truth_annotation]"
   ]
  },
  {
   "cell_type": "code",
   "execution_count": null,
   "id": "d304476f-7a2a-44fc-b6a6-d7c13695dda9",
   "metadata": {},
   "outputs": [],
   "source": [
    "cell_cluster_assignments_with_predictions.to_csv(output_dir +\"/scATAcat_annotations.csv\")"
   ]
  },
  {
   "cell_type": "markdown",
   "id": "c11234e7-0964-4528-b1bb-67ba5b9a332f",
   "metadata": {},
   "source": [
    "## export AnnData object"
   ]
  },
  {
   "cell_type": "code",
   "execution_count": null,
   "id": "cdd7f66c-d4c7-4154-ab37-7aa7b8a623c6",
   "metadata": {},
   "outputs": [],
   "source": [
    "\n",
    "with open(output_dir +'/sc_commonDiffFeatures_adata.pkl', 'wb') as f:\n",
    "    pickle.dump(sc_commonDiffFeatures_adata, f)"
   ]
  },
  {
   "cell_type": "code",
   "execution_count": null,
   "id": "b4844912-cef8-40ca-b868-1c7877b23bf9",
   "metadata": {},
   "outputs": [],
   "source": [
    "cell_cluster_assignments.to_csv(output_dir +\"cell_cluster_assignments.csv\")"
   ]
  },
  {
   "cell_type": "code",
   "execution_count": null,
   "id": "3e94da10-c0ac-4bfc-86cf-b6e10778b3ec",
   "metadata": {},
   "outputs": [],
   "source": []
  }
 ],
 "metadata": {
  "kernelspec": {
   "display_name": "scATAcat_reproducibility_env",
   "language": "python",
   "name": "scatacat_reproducibility_env"
  },
  "language_info": {
   "codemirror_mode": {
    "name": "ipython",
    "version": 3
   },
   "file_extension": ".py",
   "mimetype": "text/x-python",
   "name": "python",
   "nbconvert_exporter": "python",
   "pygments_lexer": "ipython3",
   "version": "3.10.10"
  },
  "widgets": {
   "application/vnd.jupyter.widget-state+json": {
    "state": {},
    "version_major": 2,
    "version_minor": 0
   }
  }
 },
 "nbformat": 4,
 "nbformat_minor": 5
}
