{
 "cells": [
  {
   "cell_type": "code",
   "execution_count": 1,
   "id": "63b9b9a0-bb29-402a-8fec-ce3815b0df51",
   "metadata": {
    "tags": []
   },
   "outputs": [],
   "source": [
    "import pickle\n",
    "import pandas as pd\n",
    "import sklearn\n",
    "import numpy as np\n",
    "import scanpy as sc\n",
    "import scipy.sparse\n",
    "import anndata\n",
    "import matplotlib.pylab as plt\n",
    "from sklearn.decomposition import PCA\n",
    "import copy\n",
    "import logging as logg\n",
    "from sklearn import preprocessing\n",
    "import os \n",
    "import warnings\n",
    "import scATAcat\n",
    "import seaborn as sns\n",
    "import random as rn \n",
    "\n",
    "warnings.filterwarnings('ignore')"
   ]
  },
  {
   "cell_type": "code",
   "execution_count": 2,
   "id": "0db1bd28-c61b-4b69-98e5-e9cf26fd3853",
   "metadata": {},
   "outputs": [
    {
     "name": "stdout",
     "output_type": "stream",
     "text": [
      "env: PYTHONHASHSEED=0\n"
     ]
    }
   ],
   "source": [
    "# set the seed for reproducibility\n",
    "sd = 1234\n",
    "np.random.seed(sd)\n",
    "rn.seed(sd)\n",
    "%env PYTHONHASHSEED=0\n"
   ]
  },
  {
   "cell_type": "markdown",
   "id": "805659af-7acb-4c39-a585-c053031626a6",
   "metadata": {},
   "source": [
    "#### define necessary parameters"
   ]
  },
  {
   "cell_type": "code",
   "execution_count": 3,
   "id": "5794a9b0-a06e-46fa-a4e2-cd6ef5f5716c",
   "metadata": {},
   "outputs": [],
   "source": [
    "results_dir = \"../../../../results/Supplementary_tables/analysis_on_clustering_parameter/10X_PBMC_scmultiome_accuracy_acros_clustering_res/\"\n",
    "output_dir = results_dir+\"res0.1/outputs/\"\n",
    "figures_dir = results_dir+\"res0.1/figures/\"\n",
    "data_dir = \"../../../../../scATAcat_notebooks_for_paper/jan2024/data/\"\n",
    "\n",
    "for dir in [figures_dir, output_dir]:\n",
    "    if not os.path.exists(dir):\n",
    "        os.makedirs(dir)\n"
   ]
  },
  {
   "cell_type": "code",
   "execution_count": 4,
   "id": "370e6b62-8f8c-4f18-a3df-e0f31381426c",
   "metadata": {},
   "outputs": [],
   "source": [
    "leiden_resolution=0.1\n",
    "leiden_key=\"leiden_\"+ str(leiden_resolution)"
   ]
  },
  {
   "cell_type": "markdown",
   "id": "f929b88d-1129-4917-9f6e-cdc764211383",
   "metadata": {
    "tags": []
   },
   "source": [
    "### 0 - Load scATAC-seq data"
   ]
  },
  {
   "cell_type": "code",
   "execution_count": 5,
   "id": "3d719bff-bd31-4ab8-982c-46ad5a6bc1fa",
   "metadata": {
    "tags": []
   },
   "outputs": [],
   "source": [
    "ENCODE_coverage_per_cell_df= pickle.load(open(data_dir + '10X_PBMC_scmultiome/02_ENCODE_coverage_by_cell_matrix/PBMC_ENCODE_coverage_per_cell_matrix_sparse.pkl','rb'))\n"
   ]
  },
  {
   "cell_type": "code",
   "execution_count": 6,
   "id": "7c47b6ff-d395-4732-890f-3d56a78184ea",
   "metadata": {},
   "outputs": [
    {
     "data": {
      "text/plain": [
       "<926535x10411 sparse matrix of type '<class 'numpy.float32'>'\n",
       "\twith 123604223 stored elements in Compressed Sparse Row format>"
      ]
     },
     "execution_count": 6,
     "metadata": {},
     "output_type": "execute_result"
    }
   ],
   "source": [
    "ENCODE_coverage_per_cell_df"
   ]
  },
  {
   "cell_type": "code",
   "execution_count": 7,
   "id": "361dbf82-b622-4665-933d-be3ce4a08f61",
   "metadata": {
    "tags": []
   },
   "outputs": [
    {
     "data": {
      "text/html": [
       "<div>\n",
       "<style scoped>\n",
       "    .dataframe tbody tr th:only-of-type {\n",
       "        vertical-align: middle;\n",
       "    }\n",
       "\n",
       "    .dataframe tbody tr th {\n",
       "        vertical-align: top;\n",
       "    }\n",
       "\n",
       "    .dataframe thead th {\n",
       "        text-align: right;\n",
       "    }\n",
       "</style>\n",
       "<table border=\"1\" class=\"dataframe\">\n",
       "  <thead>\n",
       "    <tr style=\"text-align: right;\">\n",
       "      <th></th>\n",
       "      <th>cCREs</th>\n",
       "    </tr>\n",
       "    <tr>\n",
       "      <th>cCREs</th>\n",
       "      <th></th>\n",
       "    </tr>\n",
       "  </thead>\n",
       "  <tbody>\n",
       "    <tr>\n",
       "      <th>chr1_181251_181601</th>\n",
       "      <td>chr1_181251_181601</td>\n",
       "    </tr>\n",
       "    <tr>\n",
       "      <th>chr1_190865_191071</th>\n",
       "      <td>chr1_190865_191071</td>\n",
       "    </tr>\n",
       "    <tr>\n",
       "      <th>chr1_778562_778912</th>\n",
       "      <td>chr1_778562_778912</td>\n",
       "    </tr>\n",
       "    <tr>\n",
       "      <th>chr1_779086_779355</th>\n",
       "      <td>chr1_779086_779355</td>\n",
       "    </tr>\n",
       "    <tr>\n",
       "      <th>chr1_779727_780060</th>\n",
       "      <td>chr1_779727_780060</td>\n",
       "    </tr>\n",
       "  </tbody>\n",
       "</table>\n",
       "</div>"
      ],
      "text/plain": [
       "                                 cCREs\n",
       "cCREs                                 \n",
       "chr1_181251_181601  chr1_181251_181601\n",
       "chr1_190865_191071  chr1_190865_191071\n",
       "chr1_778562_778912  chr1_778562_778912\n",
       "chr1_779086_779355  chr1_779086_779355\n",
       "chr1_779727_780060  chr1_779727_780060"
      ]
     },
     "execution_count": 7,
     "metadata": {},
     "output_type": "execute_result"
    }
   ],
   "source": [
    "ENCODE_cCREs = pd.read_csv(data_dir +\"10X_PBMC_scmultiome/02_ENCODE_coverage_by_cell_matrix/ENCODE_coverage_per_cell_ENCODE_cCREs.csv\", index_col=0)\n",
    "ENCODE_cCREs.columns = [\"cCREs\"]\n",
    "ENCODE_cCREs.index = ENCODE_cCREs['cCREs']\n",
    "ENCODE_cCREs.head()"
   ]
  },
  {
   "cell_type": "code",
   "execution_count": 8,
   "id": "1fef1084-df71-4ded-a40a-3c52dddb111d",
   "metadata": {
    "tags": []
   },
   "outputs": [
    {
     "data": {
      "text/html": [
       "<div>\n",
       "<style scoped>\n",
       "    .dataframe tbody tr th:only-of-type {\n",
       "        vertical-align: middle;\n",
       "    }\n",
       "\n",
       "    .dataframe tbody tr th {\n",
       "        vertical-align: top;\n",
       "    }\n",
       "\n",
       "    .dataframe thead th {\n",
       "        text-align: right;\n",
       "    }\n",
       "</style>\n",
       "<table border=\"1\" class=\"dataframe\">\n",
       "  <thead>\n",
       "    <tr style=\"text-align: right;\">\n",
       "      <th></th>\n",
       "      <th>cell_IDs</th>\n",
       "    </tr>\n",
       "    <tr>\n",
       "      <th>cell_IDs</th>\n",
       "      <th></th>\n",
       "    </tr>\n",
       "  </thead>\n",
       "  <tbody>\n",
       "    <tr>\n",
       "      <th>AAACAGCCAATCCCTT-1</th>\n",
       "      <td>AAACAGCCAATCCCTT-1</td>\n",
       "    </tr>\n",
       "    <tr>\n",
       "      <th>AAACAGCCAATGCGCT-1</th>\n",
       "      <td>AAACAGCCAATGCGCT-1</td>\n",
       "    </tr>\n",
       "    <tr>\n",
       "      <th>AAACAGCCACCAACCG-1</th>\n",
       "      <td>AAACAGCCACCAACCG-1</td>\n",
       "    </tr>\n",
       "    <tr>\n",
       "      <th>AAACAGCCAGGATAAC-1</th>\n",
       "      <td>AAACAGCCAGGATAAC-1</td>\n",
       "    </tr>\n",
       "    <tr>\n",
       "      <th>AAACAGCCAGTAGGTG-1</th>\n",
       "      <td>AAACAGCCAGTAGGTG-1</td>\n",
       "    </tr>\n",
       "  </tbody>\n",
       "</table>\n",
       "</div>"
      ],
      "text/plain": [
       "                              cell_IDs\n",
       "cell_IDs                              \n",
       "AAACAGCCAATCCCTT-1  AAACAGCCAATCCCTT-1\n",
       "AAACAGCCAATGCGCT-1  AAACAGCCAATGCGCT-1\n",
       "AAACAGCCACCAACCG-1  AAACAGCCACCAACCG-1\n",
       "AAACAGCCAGGATAAC-1  AAACAGCCAGGATAAC-1\n",
       "AAACAGCCAGTAGGTG-1  AAACAGCCAGTAGGTG-1"
      ]
     },
     "execution_count": 8,
     "metadata": {},
     "output_type": "execute_result"
    }
   ],
   "source": [
    "cell_IDs = pd.read_csv(data_dir +\"10X_PBMC_scmultiome/02_ENCODE_coverage_by_cell_matrix/ENCODE_coverage_per_cell_cell_IDs.csv\", index_col=0)\n",
    "cell_IDs.columns = [\"cell_IDs\"]\n",
    "cell_IDs.index = cell_IDs[\"cell_IDs\"]\n",
    "cell_IDs.head()"
   ]
  },
  {
   "cell_type": "markdown",
   "id": "f0a229fa-3210-4d7e-b8ca-9bfa61f942e6",
   "metadata": {},
   "source": [
    "### 1 - initialize the AnnData object"
   ]
  },
  {
   "cell_type": "code",
   "execution_count": 9,
   "id": "800b4862-ec2a-4264-9d79-e489186901c0",
   "metadata": {
    "tags": []
   },
   "outputs": [],
   "source": [
    "sc_completeFeatures_adata = anndata.AnnData(ENCODE_coverage_per_cell_df.transpose(), var=ENCODE_cCREs, obs=cell_IDs)\n"
   ]
  },
  {
   "cell_type": "code",
   "execution_count": 10,
   "id": "eb23a0ac-340b-4357-a818-da68b3240ba9",
   "metadata": {
    "tags": []
   },
   "outputs": [
    {
     "data": {
      "text/plain": [
       "AnnData object with n_obs × n_vars = 10411 × 926535\n",
       "    obs: 'cell_IDs'\n",
       "    var: 'cCREs'"
      ]
     },
     "execution_count": 10,
     "metadata": {},
     "output_type": "execute_result"
    }
   ],
   "source": [
    "sc_completeFeatures_adata"
   ]
  },
  {
   "cell_type": "markdown",
   "id": "87f2d081-c92b-4e4d-b292-67b4c14bcf8e",
   "metadata": {},
   "source": [
    "### 2 - add binary layer to AnnData"
   ]
  },
  {
   "cell_type": "code",
   "execution_count": 11,
   "id": "bced6c46-e8d0-422f-93fe-f3778687d5c8",
   "metadata": {
    "tags": []
   },
   "outputs": [
    {
     "data": {
      "text/plain": [
       "AnnData object with n_obs × n_vars = 10411 × 926535\n",
       "    obs: 'cell_IDs'\n",
       "    var: 'cCREs'\n",
       "    layers: 'binary'"
      ]
     },
     "execution_count": 11,
     "metadata": {},
     "output_type": "execute_result"
    }
   ],
   "source": [
    "scATAcat.add_binary_layer(sc_completeFeatures_adata, binary_layer_key=\"binary\")"
   ]
  },
  {
   "cell_type": "markdown",
   "id": "b6588986-6cab-466a-a9d1-6d8d743e6bdc",
   "metadata": {},
   "source": [
    "## 3- calculate & plot cell and feature statistics"
   ]
  },
  {
   "cell_type": "code",
   "execution_count": 12,
   "id": "dbf31b93-c454-49d1-9597-4b37c2c07a9c",
   "metadata": {
    "tags": []
   },
   "outputs": [
    {
     "data": {
      "text/plain": [
       "AnnData object with n_obs × n_vars = 10411 × 926535\n",
       "    obs: 'cell_IDs'\n",
       "    var: 'cCREs'\n",
       "    obsm: 'num_feature_per_cell'\n",
       "    varm: 'num_cell_per_feature'\n",
       "    layers: 'binary'"
      ]
     },
     "execution_count": 12,
     "metadata": {},
     "output_type": "execute_result"
    }
   ],
   "source": [
    "scATAcat.cell_feature_statistics(sc_completeFeatures_adata, binary_layer_key ='binary')"
   ]
  },
  {
   "cell_type": "code",
   "execution_count": 13,
   "id": "c1db9533-f1c0-4090-9435-1ae2c0b96f07",
   "metadata": {
    "tags": []
   },
   "outputs": [
    {
     "data": {
      "text/plain": [
       "AnnData object with n_obs × n_vars = 10411 × 926535\n",
       "    obs: 'cell_IDs'\n",
       "    var: 'cCREs'\n",
       "    obsm: 'num_feature_per_cell'\n",
       "    varm: 'num_cell_per_feature'\n",
       "    layers: 'binary'"
      ]
     },
     "execution_count": 13,
     "metadata": {},
     "output_type": "execute_result"
    },
    {
     "data": {
      "image/png": "[encoded data removed]",
      "text/plain": [
       "<Figure size 640x480 with 1 Axes>"
      ]
     },
     "metadata": {},
     "output_type": "display_data"
    }
   ],
   "source": [
    "scATAcat.plot_feature_statistics(sc_completeFeatures_adata, threshold=3, bins=50, color=\"lightgrey\", save=True, save_dir = figures_dir +\"/feature_statistics_plot.png\")"
   ]
  },
  {
   "cell_type": "code",
   "execution_count": 14,
   "id": "2d971c45-3a5f-484b-9240-f085c4581f02",
   "metadata": {
    "tags": []
   },
   "outputs": [
    {
     "data": {
      "text/plain": [
       "AnnData object with n_obs × n_vars = 10411 × 926535\n",
       "    obs: 'cell_IDs'\n",
       "    var: 'cCREs'\n",
       "    obsm: 'num_feature_per_cell'\n",
       "    varm: 'num_cell_per_feature'\n",
       "    layers: 'binary'"
      ]
     },
     "execution_count": 14,
     "metadata": {},
     "output_type": "execute_result"
    },
    {
     "data": {
      "image/png": "[encoded data removed]",
      "text/plain": [
       "<Figure size 640x480 with 1 Axes>"
      ]
     },
     "metadata": {},
     "output_type": "display_data"
    }
   ],
   "source": [
    "scATAcat.plot_cell_statistics(sc_completeFeatures_adata, threshold=1000, bins=50, color=\"lightgrey\", save=True, save_dir = figures_dir + \"/cell_statistics_plot.png\")"
   ]
  },
  {
   "cell_type": "markdown",
   "id": "d765937d-235e-4bf5-bc7a-61ebe5dfc331",
   "metadata": {},
   "source": [
    "## 4- filter the cells and features"
   ]
  },
  {
   "cell_type": "code",
   "execution_count": 15,
   "id": "5b3518b5-eddd-495e-97be-7073dc400650",
   "metadata": {
    "tags": []
   },
   "outputs": [
    {
     "data": {
      "text/plain": [
       "AnnData object with n_obs × n_vars = 10411 × 926535\n",
       "    obs: 'cell_IDs'\n",
       "    var: 'cCREs'\n",
       "    obsm: 'num_feature_per_cell'\n",
       "    varm: 'num_cell_per_feature'\n",
       "    layers: 'binary'"
      ]
     },
     "execution_count": 15,
     "metadata": {},
     "output_type": "execute_result"
    }
   ],
   "source": [
    "sc_completeFeatures_adata"
   ]
  },
  {
   "cell_type": "code",
   "execution_count": 16,
   "id": "cf20f095-a1a8-474a-870f-73ce73b5d9c2",
   "metadata": {
    "tags": []
   },
   "outputs": [],
   "source": [
    "sc_filteredFeatures_adata = scATAcat.preproces_sc_matrix(sc_completeFeatures_adata,cell_cutoff=1000,cell_cutoff_max=80000, feature_cutoff=3, remove_chrY = True, var_key = 'cCREs', copy=True)"
   ]
  },
  {
   "cell_type": "code",
   "execution_count": 17,
   "id": "99fceb20-4902-458c-92b5-982a25d6191e",
   "metadata": {},
   "outputs": [
    {
     "data": {
      "text/plain": [
       "View of AnnData object with n_obs × n_vars = 10411 × 742148\n",
       "    obs: 'cell_IDs'\n",
       "    var: 'cCREs'\n",
       "    obsm: 'num_feature_per_cell'\n",
       "    varm: 'num_cell_per_feature'\n",
       "    layers: 'binary'"
      ]
     },
     "execution_count": 17,
     "metadata": {},
     "output_type": "execute_result"
    }
   ],
   "source": [
    "sc_filteredFeatures_adata"
   ]
  },
  {
   "cell_type": "markdown",
   "id": "4db3736b-ba5b-4a94-b44c-32e067081eee",
   "metadata": {},
   "source": [
    "#### note that here we filtered almost half of the features!"
   ]
  },
  {
   "cell_type": "markdown",
   "id": "a3c2e809-84d3-46d6-aa15-d11c591e1a12",
   "metadata": {},
   "source": [
    "### 5- load & preprocess the bulk data"
   ]
  },
  {
   "cell_type": "code",
   "execution_count": 18,
   "id": "b60a4f1a-f286-4e61-865f-c627aa8ee6b0",
   "metadata": {},
   "outputs": [],
   "source": [
    "bulk_by_ENCODE_peaks_df_annotated =  pickle.load(open(data_dir + \"Corces2016_bulk_ATAC/02_ENCODE_coverage_by_prototypes_matrix/Corces2016bulkATAC_ENCODE_cCRE_overlappingPeaks_annotated.pkl\", 'rb'))\n",
    "bulk_by_ENCODE_peaks_df_annotated = bulk_by_ENCODE_peaks_df_annotated.reindex(sorted(bulk_by_ENCODE_peaks_df_annotated.columns), axis=1)"
   ]
  },
  {
   "cell_type": "code",
   "execution_count": 19,
   "id": "6e7b98b8-e3ca-44e3-9c79-347c85867978",
   "metadata": {},
   "outputs": [
    {
     "data": {
      "text/plain": [
       "Index(['Bcell_1', 'Bcell_2', 'Bcell_3', 'Bcell_4', 'CD34_Bone_Marrow_1',\n",
       "       'CD34_Bone_Marrow_2', 'CD34_Cord_Blood_1', 'CD4Tcell_1', 'CD4Tcell_2',\n",
       "       'CD4Tcell_3', 'CD4Tcell_4', 'CD4Tcell_5', 'CD8Tcell_1', 'CD8Tcell_2',\n",
       "       'CD8Tcell_3', 'CD8Tcell_4', 'CD8Tcell_5', 'CLP_1', 'CLP_2', 'CLP_3',\n",
       "       'CLP_4', 'CLP_5', 'CMP_1', 'CMP_2', 'CMP_3', 'CMP_4', 'CMP_5', 'CMP_6',\n",
       "       'CMP_7', 'CMP_8', 'Ery_1', 'Ery_2', 'Ery_3', 'Ery_4', 'Ery_5', 'Ery_6',\n",
       "       'Ery_7', 'Ery_8', 'GMP_1', 'GMP_2', 'GMP_3', 'GMP_4', 'GMP_5', 'GMP_6',\n",
       "       'GMP_7', 'HSC_1', 'HSC_2', 'HSC_3', 'HSC_4', 'HSC_5', 'HSC_6', 'HSC_7',\n",
       "       'LMPP_1', 'LMPP_2', 'LMPP_3', 'MEP_1', 'MEP_2', 'MEP_3', 'MEP_4',\n",
       "       'MEP_5', 'MEP_6', 'MEP_7', 'MPP_1', 'MPP_2', 'MPP_3', 'MPP_4', 'MPP_5',\n",
       "       'MPP_6', 'Mono_1', 'Mono_2', 'Mono_3', 'Mono_4', 'Mono_5', 'Mono_6',\n",
       "       'NKcell_1', 'NKcell_2', 'NKcell_3', 'NKcell_4', 'NKcell_5', 'NKcell_6'],\n",
       "      dtype='object')"
      ]
     },
     "execution_count": 19,
     "metadata": {},
     "output_type": "execute_result"
    }
   ],
   "source": [
    "bulk_by_ENCODE_peaks_df_annotated.columns"
   ]
  },
  {
   "cell_type": "code",
   "execution_count": 20,
   "id": "77615a80-abc9-4a9b-8cc6-dc9e01ddbd95",
   "metadata": {},
   "outputs": [],
   "source": [
    "#subset for terminal cell states\n",
    "bulk_by_ENCODE_peaks_df_annotated\n",
    "bulk_by_ENCODE_peaks_df_annotated= bulk_by_ENCODE_peaks_df_annotated[['Bcell_1', 'Bcell_2', 'Bcell_3', 'Bcell_4', 'CD4Tcell_1',\n",
    "       'CD4Tcell_2', 'CD4Tcell_3', 'CD4Tcell_4', 'CD4Tcell_5',\n",
    "       'CD8Tcell_1', 'CD8Tcell_2', 'CD8Tcell_3', 'CD8Tcell_4',\n",
    "       'CD8Tcell_5', 'Mono_1', 'Mono_2', 'Mono_3', 'Mono_4', 'Mono_5',\n",
    "       'Mono_6', 'NKcell_1', 'NKcell_2', 'NKcell_3', 'NKcell_4',\n",
    "       'NKcell_5', 'NKcell_6']]"
   ]
  },
  {
   "cell_type": "code",
   "execution_count": 21,
   "id": "13096a5d-8915-496c-b0ce-7f4df3c41d95",
   "metadata": {},
   "outputs": [
    {
     "data": {
      "text/html": [
       "<div>\n",
       "<style scoped>\n",
       "    .dataframe tbody tr th:only-of-type {\n",
       "        vertical-align: middle;\n",
       "    }\n",
       "\n",
       "    .dataframe tbody tr th {\n",
       "        vertical-align: top;\n",
       "    }\n",
       "\n",
       "    .dataframe thead th {\n",
       "        text-align: right;\n",
       "    }\n",
       "</style>\n",
       "<table border=\"1\" class=\"dataframe\">\n",
       "  <thead>\n",
       "    <tr style=\"text-align: right;\">\n",
       "      <th></th>\n",
       "      <th>pDC_1</th>\n",
       "      <th>pDC_2</th>\n",
       "      <th>pDC_3</th>\n",
       "    </tr>\n",
       "  </thead>\n",
       "  <tbody>\n",
       "    <tr>\n",
       "      <th>chr1_181251_181601</th>\n",
       "      <td>4</td>\n",
       "      <td>15</td>\n",
       "      <td>26</td>\n",
       "    </tr>\n",
       "    <tr>\n",
       "      <th>chr1_190865_191071</th>\n",
       "      <td>0</td>\n",
       "      <td>0</td>\n",
       "      <td>0</td>\n",
       "    </tr>\n",
       "    <tr>\n",
       "      <th>chr1_778562_778912</th>\n",
       "      <td>91</td>\n",
       "      <td>373</td>\n",
       "      <td>165</td>\n",
       "    </tr>\n",
       "    <tr>\n",
       "      <th>chr1_779086_779355</th>\n",
       "      <td>17</td>\n",
       "      <td>37</td>\n",
       "      <td>28</td>\n",
       "    </tr>\n",
       "    <tr>\n",
       "      <th>chr1_779727_780060</th>\n",
       "      <td>6</td>\n",
       "      <td>7</td>\n",
       "      <td>11</td>\n",
       "    </tr>\n",
       "  </tbody>\n",
       "</table>\n",
       "</div>"
      ],
      "text/plain": [
       "                    pDC_1  pDC_2  pDC_3\n",
       "chr1_181251_181601      4     15     26\n",
       "chr1_190865_191071      0      0      0\n",
       "chr1_778562_778912     91    373    165\n",
       "chr1_779086_779355     17     37     28\n",
       "chr1_779727_780060      6      7     11"
      ]
     },
     "execution_count": 21,
     "metadata": {},
     "output_type": "execute_result"
    }
   ],
   "source": [
    "# include pDCs\n",
    "pDCs = pickle.load(open(data_dir + 'Corces2016_bulk_ATAC/02_ENCODE_coverage_by_prototypes_matrix/Calderon2019_pDC_ENCODE_cCRE_overlappingPeaks_annotated.pkl', 'rb'))\n",
    "pDCs.head()"
   ]
  },
  {
   "cell_type": "code",
   "execution_count": 22,
   "id": "713f74ee-db77-4bfa-861a-09d3cdeb855d",
   "metadata": {},
   "outputs": [],
   "source": [
    "bulk_by_ENCODE_peaks_df_annotated = pd.concat([bulk_by_ENCODE_peaks_df_annotated, pDCs.loc[bulk_by_ENCODE_peaks_df_annotated.index,:]], axis=1 )"
   ]
  },
  {
   "cell_type": "code",
   "execution_count": 23,
   "id": "90805e4c-a5af-4684-82f9-0f05468729e2",
   "metadata": {},
   "outputs": [
    {
     "data": {
      "text/html": [
       "<div>\n",
       "<style scoped>\n",
       "    .dataframe tbody tr th:only-of-type {\n",
       "        vertical-align: middle;\n",
       "    }\n",
       "\n",
       "    .dataframe tbody tr th {\n",
       "        vertical-align: top;\n",
       "    }\n",
       "\n",
       "    .dataframe thead th {\n",
       "        text-align: right;\n",
       "    }\n",
       "</style>\n",
       "<table border=\"1\" class=\"dataframe\">\n",
       "  <thead>\n",
       "    <tr style=\"text-align: right;\">\n",
       "      <th></th>\n",
       "      <th>Bcell_1</th>\n",
       "      <th>Bcell_2</th>\n",
       "      <th>Bcell_3</th>\n",
       "      <th>Bcell_4</th>\n",
       "      <th>CD4Tcell_1</th>\n",
       "      <th>CD4Tcell_2</th>\n",
       "      <th>CD4Tcell_3</th>\n",
       "      <th>CD4Tcell_4</th>\n",
       "      <th>CD4Tcell_5</th>\n",
       "      <th>CD8Tcell_1</th>\n",
       "      <th>...</th>\n",
       "      <th>Mono_6</th>\n",
       "      <th>NKcell_1</th>\n",
       "      <th>NKcell_2</th>\n",
       "      <th>NKcell_3</th>\n",
       "      <th>NKcell_4</th>\n",
       "      <th>NKcell_5</th>\n",
       "      <th>NKcell_6</th>\n",
       "      <th>pDC_1</th>\n",
       "      <th>pDC_2</th>\n",
       "      <th>pDC_3</th>\n",
       "    </tr>\n",
       "  </thead>\n",
       "  <tbody>\n",
       "    <tr>\n",
       "      <th>chr1_181251_181601</th>\n",
       "      <td>6</td>\n",
       "      <td>9</td>\n",
       "      <td>9</td>\n",
       "      <td>0</td>\n",
       "      <td>4</td>\n",
       "      <td>6</td>\n",
       "      <td>6</td>\n",
       "      <td>6</td>\n",
       "      <td>5</td>\n",
       "      <td>2</td>\n",
       "      <td>...</td>\n",
       "      <td>8</td>\n",
       "      <td>3</td>\n",
       "      <td>3</td>\n",
       "      <td>4</td>\n",
       "      <td>17</td>\n",
       "      <td>2</td>\n",
       "      <td>6</td>\n",
       "      <td>4</td>\n",
       "      <td>15</td>\n",
       "      <td>26</td>\n",
       "    </tr>\n",
       "    <tr>\n",
       "      <th>chr1_190865_191071</th>\n",
       "      <td>0</td>\n",
       "      <td>0</td>\n",
       "      <td>0</td>\n",
       "      <td>0</td>\n",
       "      <td>0</td>\n",
       "      <td>0</td>\n",
       "      <td>0</td>\n",
       "      <td>0</td>\n",
       "      <td>0</td>\n",
       "      <td>0</td>\n",
       "      <td>...</td>\n",
       "      <td>0</td>\n",
       "      <td>0</td>\n",
       "      <td>0</td>\n",
       "      <td>0</td>\n",
       "      <td>2</td>\n",
       "      <td>0</td>\n",
       "      <td>0</td>\n",
       "      <td>0</td>\n",
       "      <td>0</td>\n",
       "      <td>0</td>\n",
       "    </tr>\n",
       "    <tr>\n",
       "      <th>chr1_778562_778912</th>\n",
       "      <td>59</td>\n",
       "      <td>319</td>\n",
       "      <td>518</td>\n",
       "      <td>183</td>\n",
       "      <td>210</td>\n",
       "      <td>271</td>\n",
       "      <td>242</td>\n",
       "      <td>458</td>\n",
       "      <td>349</td>\n",
       "      <td>84</td>\n",
       "      <td>...</td>\n",
       "      <td>155</td>\n",
       "      <td>163</td>\n",
       "      <td>146</td>\n",
       "      <td>115</td>\n",
       "      <td>529</td>\n",
       "      <td>262</td>\n",
       "      <td>322</td>\n",
       "      <td>91</td>\n",
       "      <td>373</td>\n",
       "      <td>165</td>\n",
       "    </tr>\n",
       "    <tr>\n",
       "      <th>chr1_779086_779355</th>\n",
       "      <td>21</td>\n",
       "      <td>40</td>\n",
       "      <td>85</td>\n",
       "      <td>35</td>\n",
       "      <td>33</td>\n",
       "      <td>42</td>\n",
       "      <td>42</td>\n",
       "      <td>80</td>\n",
       "      <td>35</td>\n",
       "      <td>13</td>\n",
       "      <td>...</td>\n",
       "      <td>25</td>\n",
       "      <td>40</td>\n",
       "      <td>22</td>\n",
       "      <td>21</td>\n",
       "      <td>95</td>\n",
       "      <td>34</td>\n",
       "      <td>36</td>\n",
       "      <td>17</td>\n",
       "      <td>37</td>\n",
       "      <td>28</td>\n",
       "    </tr>\n",
       "    <tr>\n",
       "      <th>chr1_779727_780060</th>\n",
       "      <td>2</td>\n",
       "      <td>13</td>\n",
       "      <td>8</td>\n",
       "      <td>2</td>\n",
       "      <td>1</td>\n",
       "      <td>9</td>\n",
       "      <td>6</td>\n",
       "      <td>2</td>\n",
       "      <td>2</td>\n",
       "      <td>0</td>\n",
       "      <td>...</td>\n",
       "      <td>1</td>\n",
       "      <td>5</td>\n",
       "      <td>2</td>\n",
       "      <td>3</td>\n",
       "      <td>8</td>\n",
       "      <td>5</td>\n",
       "      <td>0</td>\n",
       "      <td>6</td>\n",
       "      <td>7</td>\n",
       "      <td>11</td>\n",
       "    </tr>\n",
       "  </tbody>\n",
       "</table>\n",
       "<p>5 rows × 29 columns</p>\n",
       "</div>"
      ],
      "text/plain": [
       "                    Bcell_1  Bcell_2  Bcell_3  Bcell_4  CD4Tcell_1  \\\n",
       "chr1_181251_181601        6        9        9        0           4   \n",
       "chr1_190865_191071        0        0        0        0           0   \n",
       "chr1_778562_778912       59      319      518      183         210   \n",
       "chr1_779086_779355       21       40       85       35          33   \n",
       "chr1_779727_780060        2       13        8        2           1   \n",
       "\n",
       "                    CD4Tcell_2  CD4Tcell_3  CD4Tcell_4  CD4Tcell_5  \\\n",
       "chr1_181251_181601           6           6           6           5   \n",
       "chr1_190865_191071           0           0           0           0   \n",
       "chr1_778562_778912         271         242         458         349   \n",
       "chr1_779086_779355          42          42          80          35   \n",
       "chr1_779727_780060           9           6           2           2   \n",
       "\n",
       "                    CD8Tcell_1  ...  Mono_6  NKcell_1  NKcell_2  NKcell_3  \\\n",
       "chr1_181251_181601           2  ...       8         3         3         4   \n",
       "chr1_190865_191071           0  ...       0         0         0         0   \n",
       "chr1_778562_778912          84  ...     155       163       146       115   \n",
       "chr1_779086_779355          13  ...      25        40        22        21   \n",
       "chr1_779727_780060           0  ...       1         5         2         3   \n",
       "\n",
       "                    NKcell_4  NKcell_5  NKcell_6  pDC_1  pDC_2  pDC_3  \n",
       "chr1_181251_181601        17         2         6      4     15     26  \n",
       "chr1_190865_191071         2         0         0      0      0      0  \n",
       "chr1_778562_778912       529       262       322     91    373    165  \n",
       "chr1_779086_779355        95        34        36     17     37     28  \n",
       "chr1_779727_780060         8         5         0      6      7     11  \n",
       "\n",
       "[5 rows x 29 columns]"
      ]
     },
     "execution_count": 23,
     "metadata": {},
     "output_type": "execute_result"
    }
   ],
   "source": [
    "bulk_by_ENCODE_peaks_df_annotated.head()"
   ]
  },
  {
   "cell_type": "code",
   "execution_count": 24,
   "id": "89392610-2f84-45c5-a7ff-9b227dac3921",
   "metadata": {
    "tags": []
   },
   "outputs": [],
   "source": [
    "bulk_completeFeatures_adata = scATAcat.generate_bulk_sparse_AnnData(bulk_by_ENCODE_peaks_df_annotated)"
   ]
  },
  {
   "cell_type": "code",
   "execution_count": 25,
   "id": "07aaba88-b12a-4633-9f42-f69fe27c12aa",
   "metadata": {
    "tags": []
   },
   "outputs": [
    {
     "data": {
      "text/plain": [
       "AnnData object with n_obs × n_vars = 29 × 926535\n",
       "    obs: 'cell_types'\n",
       "    var: 'cCREs'"
      ]
     },
     "execution_count": 25,
     "metadata": {},
     "output_type": "execute_result"
    }
   ],
   "source": [
    "bulk_completeFeatures_adata"
   ]
  },
  {
   "cell_type": "code",
   "execution_count": 26,
   "id": "da549820-e7f6-4b85-844f-aa9fef639e78",
   "metadata": {
    "tags": []
   },
   "outputs": [],
   "source": [
    "bulk_completeFeatures_adata = scATAcat.preprocess_bulk_adata(bulk_completeFeatures_adata, remove_chrY=True, var_key = 'cCREs', copy=False)"
   ]
  },
  {
   "cell_type": "markdown",
   "id": "af81be81-17bc-4d86-a135-5e4f73a3852e",
   "metadata": {},
   "source": [
    "### 6 - Overlap bulk and sc features\n",
    "\n",
    "- before we proceed with sc analysis, we need to overlap the features:\n",
    "    - we don't want the feature that does not have any counts in bulk data to influence clustering\n",
    "    - similarly, we want the projection to be defined only with the same feature set"
   ]
  },
  {
   "cell_type": "code",
   "execution_count": 27,
   "id": "97d08939-1de1-472f-a5f6-5857a19e4e9c",
   "metadata": {
    "tags": []
   },
   "outputs": [],
   "source": [
    "sc_bulk_common_vars = scATAcat.overlap_vars(sc_filteredFeatures_adata, bulk_completeFeatures_adata)"
   ]
  },
  {
   "cell_type": "code",
   "execution_count": 28,
   "id": "00dffe10-709e-437c-9f7e-6c1c17dd8928",
   "metadata": {
    "tags": []
   },
   "outputs": [
    {
     "data": {
      "text/plain": [
       "742116"
      ]
     },
     "execution_count": 28,
     "metadata": {},
     "output_type": "execute_result"
    }
   ],
   "source": [
    "len(sc_bulk_common_vars)"
   ]
  },
  {
   "cell_type": "code",
   "execution_count": 29,
   "id": "15984536-dc71-4bf8-9b85-d0fc891d164d",
   "metadata": {
    "tags": []
   },
   "outputs": [],
   "source": [
    "sc_commonFeatures_adata = scATAcat.subset_adata_vars(sc_filteredFeatures_adata, vars_list=sc_bulk_common_vars, copy_=True)\n"
   ]
  },
  {
   "cell_type": "code",
   "execution_count": 30,
   "id": "6705d5a6-df45-492a-beed-d1729f90d742",
   "metadata": {
    "tags": []
   },
   "outputs": [],
   "source": [
    "bulk_commonFeatures_adata = scATAcat.subset_adata_vars(bulk_completeFeatures_adata, vars_list=sc_bulk_common_vars, copy_=True)\n"
   ]
  },
  {
   "cell_type": "markdown",
   "id": "695e456d-3f91-461a-bb08-993a9b686c39",
   "metadata": {},
   "source": [
    "### 7- doublet removal"
   ]
  },
  {
   "cell_type": "code",
   "execution_count": 31,
   "id": "45244759-922f-4f49-934e-793f790b8882",
   "metadata": {},
   "outputs": [],
   "source": [
    "#results from AMLUET: these are the cells inferred to be doublets:\n",
    "    \n",
    "multiplet_cells = pd.read_csv(data_dir + '10X_PBMC_scmultiome/03_doublet_detection/MultipletCellIds_01.txt', header=None)    \n"
   ]
  },
  {
   "cell_type": "code",
   "execution_count": 32,
   "id": "e0cb1115-2801-4f25-88ff-03a49cfec72a",
   "metadata": {},
   "outputs": [],
   "source": [
    "non_multiplet_cells = sorted(list(set(sc_commonFeatures_adata.obs['cell_IDs']) - set(multiplet_cells[0])))"
   ]
  },
  {
   "cell_type": "code",
   "execution_count": 33,
   "id": "c5f8a095-1ef5-44c5-b820-518a08782d87",
   "metadata": {},
   "outputs": [],
   "source": [
    "sc_commonFeatures_adata = scATAcat.subset_adata_obs(sc_commonFeatures_adata, obs_list= non_multiplet_cells, copy_=False)"
   ]
  },
  {
   "cell_type": "code",
   "execution_count": 34,
   "id": "854cf861-f192-4e4a-96c1-80cb3254cb6b",
   "metadata": {},
   "outputs": [
    {
     "data": {
      "text/plain": [
       "View of AnnData object with n_obs × n_vars = 9668 × 742116\n",
       "    obs: 'cell_IDs'\n",
       "    var: 'cCREs'\n",
       "    obsm: 'num_feature_per_cell'\n",
       "    varm: 'num_cell_per_feature'\n",
       "    layers: 'binary'"
      ]
     },
     "execution_count": 34,
     "metadata": {},
     "output_type": "execute_result"
    }
   ],
   "source": [
    "sc_commonFeatures_adata"
   ]
  },
  {
   "cell_type": "markdown",
   "id": "324fae83-a1b2-4e3a-9e09-be9cecd3b83e",
   "metadata": {},
   "source": [
    "### 8- apply TF-IDF"
   ]
  },
  {
   "cell_type": "code",
   "execution_count": 35,
   "id": "8c6cc6b8-ee81-42d8-bb24-62fd589ba24a",
   "metadata": {
    "tags": []
   },
   "outputs": [
    {
     "data": {
      "text/plain": [
       "AnnData object with n_obs × n_vars = 9668 × 742116\n",
       "    obs: 'cell_IDs'\n",
       "    var: 'cCREs'\n",
       "    obsm: 'num_feature_per_cell'\n",
       "    varm: 'num_cell_per_feature'\n",
       "    layers: 'binary', 'TF_logIDF'"
      ]
     },
     "execution_count": 35,
     "metadata": {},
     "output_type": "execute_result"
    }
   ],
   "source": [
    "scATAcat.apply_TFIDF_sparse(sc_commonFeatures_adata, binary_layer_key='binary', TFIDF_key='TF_logIDF' )"
   ]
  },
  {
   "cell_type": "markdown",
   "id": "2dfbbda8-41d5-4d13-9e71-a762fa9ac7c7",
   "metadata": {},
   "source": [
    "### 9 - subset matrices to differential cCREs"
   ]
  },
  {
   "cell_type": "code",
   "execution_count": 36,
   "id": "696c405a-848b-48d3-a354-75682fe85734",
   "metadata": {
    "tags": []
   },
   "outputs": [
    {
     "data": {
      "text/html": [
       "<div>\n",
       "<style scoped>\n",
       "    .dataframe tbody tr th:only-of-type {\n",
       "        vertical-align: middle;\n",
       "    }\n",
       "\n",
       "    .dataframe tbody tr th {\n",
       "        vertical-align: top;\n",
       "    }\n",
       "\n",
       "    .dataframe thead th {\n",
       "        text-align: right;\n",
       "    }\n",
       "</style>\n",
       "<table border=\"1\" class=\"dataframe\">\n",
       "  <thead>\n",
       "    <tr style=\"text-align: right;\">\n",
       "      <th></th>\n",
       "      <th>0</th>\n",
       "    </tr>\n",
       "  </thead>\n",
       "  <tbody>\n",
       "    <tr>\n",
       "      <th>0</th>\n",
       "      <td>chr1_1216791_1217011</td>\n",
       "    </tr>\n",
       "    <tr>\n",
       "      <th>1</th>\n",
       "      <td>chr1_1217013_1217334</td>\n",
       "    </tr>\n",
       "    <tr>\n",
       "      <th>2</th>\n",
       "      <td>chr1_1607107_1607413</td>\n",
       "    </tr>\n",
       "    <tr>\n",
       "      <th>3</th>\n",
       "      <td>chr1_1629532_1629772</td>\n",
       "    </tr>\n",
       "    <tr>\n",
       "      <th>4</th>\n",
       "      <td>chr1_1629775_1630119</td>\n",
       "    </tr>\n",
       "  </tbody>\n",
       "</table>\n",
       "</div>"
      ],
      "text/plain": [
       "                      0\n",
       "0  chr1_1216791_1217011\n",
       "1  chr1_1217013_1217334\n",
       "2  chr1_1607107_1607413\n",
       "3  chr1_1629532_1629772\n",
       "4  chr1_1629775_1630119"
      ]
     },
     "execution_count": 36,
     "metadata": {},
     "output_type": "execute_result"
    }
   ],
   "source": [
    "tree_guided_top2000_cCREs = pd.read_table(data_dir +\"Corces2016_bulk_ATAC/03_get_differentially_accessible_regions/terminal_cell_states-for_PBMC_scmultiome/Corces2016_pairwise_differential_cCREs_FDR0.05_top2000_of_each_pair_sorted_exactCREs.csv\",delimiter=\"\\t\",header=None)\n",
    "\n",
    "tree_guided_top2000_cCREs.head()"
   ]
  },
  {
   "cell_type": "code",
   "execution_count": 37,
   "id": "f91eab77-f8d7-42cc-a3ba-173d4fe80196",
   "metadata": {},
   "outputs": [
    {
     "data": {
      "text/plain": [
       "19481"
      ]
     },
     "execution_count": 37,
     "metadata": {},
     "output_type": "execute_result"
    }
   ],
   "source": [
    "len(tree_guided_top2000_cCREs)"
   ]
  },
  {
   "cell_type": "code",
   "execution_count": 38,
   "id": "e3ff2c6c-cdaa-4b22-9934-4c53b34f5f39",
   "metadata": {
    "tags": []
   },
   "outputs": [
    {
     "data": {
      "text/plain": [
       "19447"
      ]
     },
     "execution_count": 38,
     "metadata": {},
     "output_type": "execute_result"
    }
   ],
   "source": [
    "common_differential_vars = list(set(list(sc_bulk_common_vars)) & set(list(tree_guided_top2000_cCREs[0].tolist())))\n",
    "\n",
    "len(common_differential_vars)"
   ]
  },
  {
   "cell_type": "code",
   "execution_count": 39,
   "id": "16f34861-0570-4648-b875-6e681382a45a",
   "metadata": {
    "tags": []
   },
   "outputs": [],
   "source": [
    "bulk_commonDiffFeatures_adata = scATAcat.subset_adata_vars(bulk_commonFeatures_adata,\n",
    "                                                 vars_list=common_differential_vars,\n",
    "                                                 copy_=True)"
   ]
  },
  {
   "cell_type": "code",
   "execution_count": 40,
   "id": "6fb4e2c7-3806-4820-9f60-93383b6908b1",
   "metadata": {
    "tags": []
   },
   "outputs": [],
   "source": [
    "sc_commonDiffFeatures_adata = scATAcat.subset_adata_vars(sc_commonFeatures_adata,\n",
    "                                                 vars_list=common_differential_vars,\n",
    "                                                 copy_=True)"
   ]
  },
  {
   "cell_type": "markdown",
   "id": "69119e3b-97b6-4d39-8c25-f119546adeed",
   "metadata": {
    "tags": []
   },
   "source": [
    "### 10- dimention reduction and clustering "
   ]
  },
  {
   "cell_type": "code",
   "execution_count": 41,
   "id": "9bebfd20-dfa8-4d6f-a9dc-8830ffc79db4",
   "metadata": {
    "tags": []
   },
   "outputs": [
    {
     "data": {
      "text/plain": [
       "AnnData object with n_obs × n_vars = 9668 × 19447\n",
       "    obs: 'cell_IDs'\n",
       "    var: 'cCREs'\n",
       "    obsm: 'num_feature_per_cell'\n",
       "    varm: 'num_cell_per_feature'\n",
       "    layers: 'binary', 'TF_logIDF'"
      ]
     },
     "execution_count": 41,
     "metadata": {},
     "output_type": "execute_result"
    }
   ],
   "source": [
    "sc_commonDiffFeatures_adata"
   ]
  },
  {
   "cell_type": "code",
   "execution_count": 42,
   "id": "6537ae0f-2df0-4d1e-866a-72043a361d14",
   "metadata": {
    "tags": []
   },
   "outputs": [
    {
     "data": {
      "text/plain": [
       "AnnData object with n_obs × n_vars = 9668 × 19447\n",
       "    obs: 'cell_IDs'\n",
       "    var: 'cCREs'\n",
       "    uns: 'pca'\n",
       "    obsm: 'num_feature_per_cell', 'X_pca'\n",
       "    varm: 'num_cell_per_feature', 'PCs'\n",
       "    layers: 'binary', 'TF_logIDF'"
      ]
     },
     "execution_count": 42,
     "metadata": {},
     "output_type": "execute_result"
    }
   ],
   "source": [
    "scATAcat.apply_PCA(sc_commonDiffFeatures_adata, layer_key ='TF_logIDF', svd_solver='arpack', random_state=0)\n"
   ]
  },
  {
   "cell_type": "code",
   "execution_count": 43,
   "id": "47cce9cc-4263-4b4d-89c8-c31036d173ef",
   "metadata": {},
   "outputs": [
    {
     "data": {
      "image/png": "[encoded data removed]",
      "text/plain": [
       "<Figure size 640x480 with 1 Axes>"
      ]
     },
     "metadata": {},
     "output_type": "display_data"
    }
   ],
   "source": [
    "with plt.rc_context():\n",
    "    sc.pl.pca_variance_ratio(sc_commonDiffFeatures_adata, n_pcs=50, log=True, show=False)\n",
    "    plt.savefig(figures_dir + \"/pca_variance_ratio.pdf\", bbox_inches=\"tight\")"
   ]
  },
  {
   "cell_type": "code",
   "execution_count": 44,
   "id": "f536d49e-da96-4d52-94a7-29d16aca27eb",
   "metadata": {
    "tags": []
   },
   "outputs": [],
   "source": [
    "sc.pp.neighbors(sc_commonDiffFeatures_adata, n_pcs = 50, n_neighbors = 30, random_state=0)\n"
   ]
  },
  {
   "cell_type": "code",
   "execution_count": 45,
   "id": "948ba13f-9e41-4f4f-878f-61dce2b4ccd4",
   "metadata": {
    "tags": []
   },
   "outputs": [
    {
     "data": {
      "text/plain": [
       "Text(34.875, 0.5, 'num_feature_per_cell')"
      ]
     },
     "execution_count": 45,
     "metadata": {},
     "output_type": "execute_result"
    },
    {
     "data": {
      "image/png": "[encoded data removed]",
      "text/plain": [
       "<Figure size 600x600 with 3 Axes>"
      ]
     },
     "metadata": {},
     "output_type": "display_data"
    }
   ],
   "source": [
    "seqDepth_PC1_plot = sns.jointplot(\n",
    "    x=sc_commonDiffFeatures_adata.obsm['X_pca'][:,0],\n",
    "    y=np.sqrt(sc_commonDiffFeatures_adata.obsm['num_feature_per_cell']),\n",
    "    kind=\"kde\",fill=True, \n",
    ")\n",
    "plt.xlabel(\"1st PC\")\n",
    "plt.ylabel(\"num_feature_per_cell\")\n"
   ]
  },
  {
   "cell_type": "code",
   "execution_count": 46,
   "id": "5e666f5f-b8b3-46d0-aee4-bec08ab4042c",
   "metadata": {
    "tags": []
   },
   "outputs": [
    {
     "data": {
      "text/plain": [
       "array([[1.        , 0.19563098],\n",
       "       [0.19563098, 1.        ]])"
      ]
     },
     "execution_count": 46,
     "metadata": {},
     "output_type": "execute_result"
    }
   ],
   "source": [
    "## correlation\n",
    "np.corrcoef(sc_commonDiffFeatures_adata.obsm['X_pca'][:,0],\n",
    "    np.sqrt(sc_commonDiffFeatures_adata.obsm['num_feature_per_cell']))"
   ]
  },
  {
   "cell_type": "markdown",
   "id": "d032144a-f4b8-4185-91f8-77d809d410af",
   "metadata": {},
   "source": [
    "### 11 -  apply UMAP & leiden clustering"
   ]
  },
  {
   "cell_type": "code",
   "execution_count": null,
   "id": "b61ba3f8-f2fb-459e-85ea-6101f893eef3",
   "metadata": {
    "tags": []
   },
   "outputs": [],
   "source": [
    "sc.tl.umap(sc_commonDiffFeatures_adata, random_state=0)"
   ]
  },
  {
   "cell_type": "code",
   "execution_count": null,
   "id": "fb422b97-85cd-473b-ba5c-4b70860543c9",
   "metadata": {
    "tags": []
   },
   "outputs": [],
   "source": [
    "sc.tl.leiden(sc_commonDiffFeatures_adata, resolution=leiden_resolution,key_added=leiden_key, random_state=0)"
   ]
  },
  {
   "cell_type": "code",
   "execution_count": null,
   "id": "37b12eba-c074-4db9-8a94-ab884d1010e7",
   "metadata": {
    "tags": []
   },
   "outputs": [],
   "source": [
    "with plt.rc_context():\n",
    "    sc.pl.umap(sc_commonDiffFeatures_adata, color=leiden_key, show=False,size=25 , add_outline=False, frameon=False, title=\"\",palette=\"tab20\")\n",
    "    plt.savefig(figures_dir + \"/\"+ leiden_key+ \".pdf\", bbox_inches=\"tight\")"
   ]
  },
  {
   "cell_type": "markdown",
   "id": "3f0ace4b-f0db-46b7-aaaa-b5da5f88b054",
   "metadata": {},
   "source": [
    "#### loook at sequencing depth"
   ]
  },
  {
   "cell_type": "code",
   "execution_count": null,
   "id": "b8e3b8aa-bc61-41e8-9654-208a78178674",
   "metadata": {
    "tags": []
   },
   "outputs": [],
   "source": [
    "sc_commonDiffFeatures_adata.obs['num_feature_per_cell_'] = sc_commonDiffFeatures_adata.obsm['num_feature_per_cell']"
   ]
  },
  {
   "cell_type": "code",
   "execution_count": null,
   "id": "9940b928-0b03-4805-8bbe-178618159369",
   "metadata": {
    "tags": []
   },
   "outputs": [],
   "source": [
    "with plt.rc_context():  \n",
    "    sc.pl.umap(sc_commonDiffFeatures_adata, color='num_feature_per_cell_', add_outline=False, frameon=False,title =\"\", save=False, size=25 )\n",
    "    plt.savefig(figures_dir + \"/seq_depth_umap.pdf\", bbox_inches=\"tight\")"
   ]
  },
  {
   "cell_type": "markdown",
   "id": "6bf82436-61cb-4027-95ac-21777a93805b",
   "metadata": {
    "tags": []
   },
   "source": [
    "### 12 - from pseudobulks according to the cluster assignments\n"
   ]
  },
  {
   "cell_type": "code",
   "execution_count": null,
   "id": "dae0a96d-c0f8-45c5-94ed-3d83cbb5217c",
   "metadata": {
    "tags": []
   },
   "outputs": [],
   "source": [
    "cell_cluster_assignments = pd.DataFrame(sc_commonDiffFeatures_adata.obs[leiden_key].copy())\n",
    "cell_cluster_assignments\n"
   ]
  },
  {
   "cell_type": "code",
   "execution_count": null,
   "id": "2c967805-44d5-4a56-8c1d-6f46b17ecb8e",
   "metadata": {
    "tags": []
   },
   "outputs": [],
   "source": [
    "cell_cluster_sizes = pd.DataFrame(cell_cluster_assignments[leiden_key].value_counts())\n",
    "cell_cluster_sizes['leiden_clusters'] = cell_cluster_sizes.index\n",
    "cell_cluster_sizes.head()"
   ]
  },
  {
   "cell_type": "code",
   "execution_count": null,
   "id": "b6912cac-1fe4-4d19-a28a-71c5fd8bcefa",
   "metadata": {
    "tags": []
   },
   "outputs": [],
   "source": [
    "for clust_id in set(sc_commonDiffFeatures_adata.obs[leiden_key].values):\n",
    "    clust_df= sc_commonDiffFeatures_adata[sc_commonDiffFeatures_adata.obs[leiden_key]==clust_id]"
   ]
  },
  {
   "cell_type": "code",
   "execution_count": null,
   "id": "0373bd47-decd-45f4-94df-58bc186e071b",
   "metadata": {
    "tags": []
   },
   "outputs": [],
   "source": [
    "cell_types = ([(r.split('_')[0]) for r in clust_df.obs[leiden_key].index])"
   ]
  },
  {
   "cell_type": "code",
   "execution_count": null,
   "id": "6f92e8ba-2582-4fdf-9c03-54d5d35041ea",
   "metadata": {
    "tags": []
   },
   "outputs": [],
   "source": [
    "# plot a bar chart\n",
    "sns.set_style(\"whitegrid\")\n",
    "ax= sns.barplot(\n",
    "    y=\"count\", \n",
    "    x=\"leiden_clusters\", \n",
    "    data=cell_cluster_sizes, \n",
    "    color='lightgrey');\n",
    "ax.yaxis.grid(True,color=\"lightgrey\")\n",
    "ax.axes.set_xlabel(\"Leiden cluster ID\")\n",
    "ax.axes.set_ylabel(\"cluster size\")\n",
    "#atickt(yticks=(list(range(0,1500,100))))\n",
    "plt.savefig(figures_dir + \"/cluster_sizes_\"+leiden_key+\".pdf\", dpi=250)"
   ]
  },
  {
   "cell_type": "code",
   "execution_count": null,
   "id": "a90aed15-8c97-4fa8-80a9-58c76fc86cf1",
   "metadata": {
    "tags": []
   },
   "outputs": [],
   "source": [
    "pseudobulk_commonFeatures_adata = scATAcat.generate_bulk_sparse_AnnData(scATAcat.get_pseudobulk_matrix_ext(adata_to_subset=sc_commonFeatures_adata, adata_to_get_clusters=sc_commonDiffFeatures_adata, cluster_key=leiden_key  ,method = 'sum'))"
   ]
  },
  {
   "cell_type": "code",
   "execution_count": null,
   "id": "86053994-05be-4df6-8b63-1210443c694c",
   "metadata": {
    "tags": []
   },
   "outputs": [],
   "source": [
    "scATAcat.preprocessing_libsize_norm_log2(pseudobulk_commonFeatures_adata)"
   ]
  },
  {
   "cell_type": "code",
   "execution_count": null,
   "id": "06c53482-97e8-4412-88a7-11cf3f85d3cc",
   "metadata": {
    "tags": []
   },
   "outputs": [],
   "source": [
    "scATAcat.preprocessing_libsize_norm_log2(bulk_commonFeatures_adata)"
   ]
  },
  {
   "cell_type": "markdown",
   "id": "4bc56d9a-d24d-4043-a4a1-0316fc519d62",
   "metadata": {
    "tags": []
   },
   "source": [
    "### 13 - Projection\n"
   ]
  },
  {
   "cell_type": "markdown",
   "id": "27f44002-a4f6-4773-b0f1-66ef3f3c1461",
   "metadata": {},
   "source": [
    "#### processing "
   ]
  },
  {
   "cell_type": "code",
   "execution_count": null,
   "id": "821fa1fb-659d-4109-881f-17a2e56875ee",
   "metadata": {
    "tags": []
   },
   "outputs": [],
   "source": [
    "bulk_commonDiffFeatures_adata = scATAcat.subset_adata_vars(bulk_commonFeatures_adata,\n",
    "                                                 vars_list=common_differential_vars,\n",
    "                                                 copy_=True)"
   ]
  },
  {
   "cell_type": "code",
   "execution_count": null,
   "id": "559c1499-9641-4b6a-80c4-b3f96695e7ca",
   "metadata": {
    "tags": []
   },
   "outputs": [],
   "source": [
    "bulk_commonDiffFeatures_adata"
   ]
  },
  {
   "cell_type": "code",
   "execution_count": null,
   "id": "8c03c0b8-2b4b-434a-a632-7ffe596fe135",
   "metadata": {
    "tags": []
   },
   "outputs": [],
   "source": [
    "pseudobulk_commonDiffFeatures_adata = scATAcat.subset_adata_vars(pseudobulk_commonFeatures_adata,\n",
    "                                                 vars_list=common_differential_vars,\n",
    "                                                 copy_=True)"
   ]
  },
  {
   "cell_type": "code",
   "execution_count": null,
   "id": "e102813d-0ec5-4691-b20d-b1ed35ab2a20",
   "metadata": {
    "tags": []
   },
   "outputs": [],
   "source": [
    "scATAcat.preprocessing_standardization(bulk_commonDiffFeatures_adata, input_layer_key=\"libsize_norm_log2\", zero_center=True)"
   ]
  },
  {
   "cell_type": "code",
   "execution_count": null,
   "id": "c9ff879d-92c3-458a-80ff-c14d9ff4d29c",
   "metadata": {
    "tags": []
   },
   "outputs": [],
   "source": [
    "bulk_commonDiffFeatures_adata"
   ]
  },
  {
   "cell_type": "code",
   "execution_count": null,
   "id": "cc110035-5d02-4e59-a25b-f5968d4ad5cd",
   "metadata": {
    "tags": []
   },
   "outputs": [],
   "source": [
    "scATAcat.preprocessing_standardization(pseudobulk_commonDiffFeatures_adata, input_layer_key=\"libsize_norm_log2\", zero_center=False,\n",
    "                              output_layer_key= \"libsize_norm_log2_bulk_scaled_diff\",\n",
    "                              std_key= None,  mean_key=None,\n",
    "                              std_ = bulk_commonDiffFeatures_adata.var[\"feature_std\"],\n",
    "                              mean_= bulk_commonDiffFeatures_adata.var[\"feature_mean\"])"
   ]
  },
  {
   "cell_type": "code",
   "execution_count": null,
   "id": "8f09457c-3217-47aa-aa40-34d7d0139e0b",
   "metadata": {},
   "outputs": [],
   "source": [
    "## as an option, I can add the color codes from the clustering/ sc adata as a paramater for the pseudobulk matrix \n",
    "leiden_color_key = leiden_key+\"_colors\"\n",
    "pseudobulk_commonDiffFeatures_adata.uns[leiden_color_key] = sc_commonDiffFeatures_adata.uns[leiden_color_key]"
   ]
  },
  {
   "cell_type": "code",
   "execution_count": null,
   "id": "12b4e874-12ad-43d9-be89-d3d140f07c30",
   "metadata": {},
   "outputs": [],
   "source": [
    "result= scATAcat.projection(prototype_adata=bulk_commonDiffFeatures_adata, pseudobulk_adata=pseudobulk_commonDiffFeatures_adata, prototype_layer_key = \"libsize_norm_log2_std\", pseudobulk_layer_key=\"libsize_norm_log2_bulk_scaled_diff\", color_key=leiden_color_key, pseudobulk_label_font_size =13, prototype_label_font_size = 0, \n",
    "                            prototype_colors = ['#38184C', \"#008F8C\", \"#82018F\",  \"#7ED9B7\", \"#275974\", \"#D46A00\"], pseudobulk_colors =  None, pseudobulk_point_size=200, prototype_point_size=180, pseudobulk_point_alpha=0.8, prototype_point_alpha=0.7, cmap='twilight_shifted', prototype_legend = True, pseudobulk_legend = True, save_path = figures_dir + \"projection.png\")\n"
   ]
  },
  {
   "cell_type": "code",
   "execution_count": null,
   "id": "af157902-2684-45bb-90c9-964204d7f09d",
   "metadata": {},
   "outputs": [],
   "source": [
    "result_noLabel = scATAcat.projection(prototype_adata=bulk_commonDiffFeatures_adata, pseudobulk_adata=pseudobulk_commonDiffFeatures_adata, prototype_layer_key = \"libsize_norm_log2_std\", pseudobulk_layer_key=\"libsize_norm_log2_bulk_scaled_diff\", color_key=leiden_color_key, pseudobulk_label_font_size =0, prototype_label_font_size =0, \n",
    "                            prototype_colors = ['#38184C', \"#008F8C\", \"#82018F\",  \"#7ED9B7\", \"#275974\", \"#D46A00\"], pseudobulk_colors =  None, pseudobulk_point_size=250, prototype_point_size=250, pseudobulk_point_alpha=0.8, prototype_point_alpha=0.7, cmap='twilight_shifted', prototype_legend = True, pseudobulk_legend = True, save_path = figures_dir + \"projection_noLabel.png\")\n"
   ]
  },
  {
   "cell_type": "code",
   "execution_count": null,
   "id": "77c6199b-b1b5-4ca3-bf80-b92a1fa23ed5",
   "metadata": {},
   "outputs": [],
   "source": [
    "result_noLabel_noLegend = scATAcat.projection(prototype_adata=bulk_commonDiffFeatures_adata, pseudobulk_adata=pseudobulk_commonDiffFeatures_adata, prototype_layer_key = \"libsize_norm_log2_std\", pseudobulk_layer_key=\"libsize_norm_log2_bulk_scaled_diff\", color_key=leiden_color_key, pseudobulk_label_font_size =0, prototype_label_font_size =0, \n",
    "                            prototype_colors = ['#38184C', \"#008F8C\", \"#82018F\",  \"#7ED9B7\", \"#275974\", \"#D46A00\"], pseudobulk_colors =  None, pseudobulk_point_size=250, prototype_point_size=250, pseudobulk_point_alpha=0.8, prototype_point_alpha=0.7, cmap='twilight_shifted', prototype_legend = False, pseudobulk_legend = False, save_path = figures_dir + \"projection_noLabel_noLegend.png\")\n"
   ]
  },
  {
   "cell_type": "markdown",
   "id": "fe5042d4-ee1c-4feb-9f1a-1831930b011b",
   "metadata": {
    "tags": []
   },
   "source": [
    "### 14 - Assign annotations to clusters\n"
   ]
  },
  {
   "cell_type": "code",
   "execution_count": null,
   "id": "76ac6428-8542-437b-9890-f053dd59af01",
   "metadata": {
    "tags": []
   },
   "outputs": [],
   "source": [
    "heatmap = scATAcat.plot_pca_dist_heatmap(result[1],result[2])"
   ]
  },
  {
   "cell_type": "code",
   "execution_count": null,
   "id": "52d82166-176d-426a-9fa3-26699937a007",
   "metadata": {
    "tags": []
   },
   "outputs": [],
   "source": [
    "centroid_heatmap =  scATAcat.plot_pca_dist_cent_heatmap(result[1],result[2])\n"
   ]
  },
  {
   "cell_type": "code",
   "execution_count": null,
   "id": "3853b51e-686d-4d38-bce8-ea99e9a46135",
   "metadata": {
    "tags": []
   },
   "outputs": [],
   "source": [
    "heatmap[0].savefig(figures_dir +\"/heatmap.png\") \n",
    "centroid_heatmap[0].savefig(figures_dir +\"/centroid_heatmap.png\") \n"
   ]
  },
  {
   "cell_type": "code",
   "execution_count": null,
   "id": "45847d79-4cb3-43d0-8fd8-9034b7e6c41b",
   "metadata": {
    "tags": []
   },
   "outputs": [],
   "source": [
    "scATAcat.get_closest_prototype_to_pseudobulk(centroid_heatmap[1])"
   ]
  },
  {
   "cell_type": "code",
   "execution_count": null,
   "id": "e35b3d71-51df-4c42-a173-66ec41fbfc8d",
   "metadata": {
    "tags": []
   },
   "outputs": [],
   "source": [
    "clusterID_prediction_dict = scATAcat.get_closest_prototype_to_pseudobulk(centroid_heatmap[1])\n",
    "clusterID_prediction_dict"
   ]
  },
  {
   "cell_type": "code",
   "execution_count": null,
   "id": "37157a81-cb64-4918-898c-5e697ed4951a",
   "metadata": {},
   "outputs": [],
   "source": [
    "cluster_to_pseudobulk_heatmap_plot = sns.clustermap(scATAcat.get_pseudobulk_to_prototype_distance(centroid_heatmap[1], pbulk_to_prototype=True).T,yticklabels=True,xticklabels=True, cmap=\"Blues\")"
   ]
  },
  {
   "cell_type": "code",
   "execution_count": null,
   "id": "c41c8724-ce20-420c-8e4b-8033fe12dc17",
   "metadata": {},
   "outputs": [],
   "source": [
    "cluster_to_pseudobulk_heatmap_plot.savefig(figures_dir+\"/cluster_to_pseudobulk_heatmap_plot.png\") \n"
   ]
  },
  {
   "cell_type": "code",
   "execution_count": null,
   "id": "09c3dfd0-9692-47a3-8092-da9e36b36a9f",
   "metadata": {},
   "outputs": [],
   "source": [
    "cluster_to_pseudobulk_heatmap_plot.savefig(figures_dir+\"/cluster_to_pseudobulk_heatmap_plot.svg\") \n"
   ]
  },
  {
   "cell_type": "markdown",
   "id": "9e6125b6-5624-47a9-8f28-956ca0509f10",
   "metadata": {},
   "source": [
    "### 15- Post hoc analysis"
   ]
  },
  {
   "cell_type": "code",
   "execution_count": null,
   "id": "4f0ca77c-8d19-46b9-8ef1-87e144656afb",
   "metadata": {
    "tags": []
   },
   "outputs": [],
   "source": [
    "cell_cluster_assignments_with_predictions = copy.deepcopy(cell_cluster_assignments)"
   ]
  },
  {
   "cell_type": "markdown",
   "id": "d31c1f5e-1b45-4ba1-931e-23f12fed81cc",
   "metadata": {},
   "source": [
    "#### match the clusterID with predicted cell type"
   ]
  },
  {
   "cell_type": "code",
   "execution_count": null,
   "id": "6be9ee3f-e5d0-4c57-9c7d-22276c0a3d62",
   "metadata": {
    "tags": []
   },
   "outputs": [],
   "source": [
    "# convert the cell id column to character \n",
    "cell_cluster_assignments_with_predictions[leiden_key] = cell_cluster_assignments_with_predictions[leiden_key].astype(str)"
   ]
  },
  {
   "cell_type": "code",
   "execution_count": null,
   "id": "27cf180d-be7f-40be-acb1-73461fb27f38",
   "metadata": {
    "tags": []
   },
   "outputs": [],
   "source": [
    "cell_cluster_assignments_with_predictions.head()"
   ]
  },
  {
   "cell_type": "code",
   "execution_count": null,
   "id": "75ee3db7-e871-4d2d-992c-9dc450af96fd",
   "metadata": {
    "tags": []
   },
   "outputs": [],
   "source": [
    "# refortmat the dict suct that it mactes the clust ID col\n",
    "clusterID_prediction_dict_edited = dict((''.join(filter(str.isdigit, key)), value) for (key, value) in clusterID_prediction_dict.items())\n",
    "clusterID_prediction_dict_edited"
   ]
  },
  {
   "cell_type": "code",
   "execution_count": null,
   "id": "2936c06d-dc23-45df-b163-3d48e70c843f",
   "metadata": {},
   "outputs": [],
   "source": [
    "cell_cluster_assignments_with_predictions"
   ]
  },
  {
   "cell_type": "code",
   "execution_count": null,
   "id": "b53c8ac1-c4d6-4304-9e63-93779ce7f195",
   "metadata": {
    "tags": []
   },
   "outputs": [],
   "source": [
    "cell_cluster_assignments_with_predictions['scATAcat_annotation'] = cell_cluster_assignments_with_predictions[leiden_key].map(clusterID_prediction_dict_edited)"
   ]
  },
  {
   "cell_type": "code",
   "execution_count": null,
   "id": "ab3de135-d66e-4235-b548-f08a784b4768",
   "metadata": {
    "tags": []
   },
   "outputs": [],
   "source": [
    "cell_cluster_assignments_with_predictions['cell_IDs'] = cell_cluster_assignments_with_predictions.index"
   ]
  },
  {
   "cell_type": "code",
   "execution_count": null,
   "id": "59bdb0b9-63ed-4b25-896e-9f6a7704671f",
   "metadata": {},
   "outputs": [],
   "source": [
    "cell_cluster_assignments_with_predictions.to_csv(output_dir +\"/scATAcat_annotations_\" +leiden_key+ \".csv\")"
   ]
  },
  {
   "cell_type": "markdown",
   "id": "8d124ccf-5bae-4204-8c61-cf130e4b0b10",
   "metadata": {},
   "source": [
    "## export AnnData object"
   ]
  },
  {
   "cell_type": "code",
   "execution_count": null,
   "id": "fd514755-4587-460b-975a-9a26ef860127",
   "metadata": {},
   "outputs": [],
   "source": [
    "\n",
    "with open(output_dir +'/sc_commonDiffFeatures_adata_' +leiden_key+ '.pkl', 'wb') as f:\n",
    "    pickle.dump(sc_commonDiffFeatures_adata, f)"
   ]
  },
  {
   "cell_type": "code",
   "execution_count": null,
   "id": "7815650a-d9aa-4d5f-8b2d-b4b339d007ed",
   "metadata": {},
   "outputs": [],
   "source": [
    "cell_cluster_assignments.to_csv(output_dir +'cell_cluster_assignments_' +leiden_key+ '.csv')"
   ]
  }
 ],
 "metadata": {
  "kernelspec": {
   "display_name": "scATAcat_reproducibility_env",
   "language": "python",
   "name": "scatacat_reproducibility_env"
  },
  "language_info": {
   "codemirror_mode": {
    "name": "ipython",
    "version": 3
   },
   "file_extension": ".py",
   "mimetype": "text/x-python",
   "name": "python",
   "nbconvert_exporter": "python",
   "pygments_lexer": "ipython3",
   "version": "3.10.10"
  },
  "widgets": {
   "application/vnd.jupyter.widget-state+json": {
    "state": {},
    "version_major": 2,
    "version_minor": 0
   }
  }
 },
 "nbformat": 4,
 "nbformat_minor": 5
}
