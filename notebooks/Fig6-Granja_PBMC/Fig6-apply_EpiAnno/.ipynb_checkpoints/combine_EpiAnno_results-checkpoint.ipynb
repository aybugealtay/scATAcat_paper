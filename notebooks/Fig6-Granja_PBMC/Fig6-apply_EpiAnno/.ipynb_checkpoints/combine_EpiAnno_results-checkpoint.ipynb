{
 "cells": [
  {
   "cell_type": "code",
   "execution_count": 1,
   "id": "4d075b05-2753-4f99-b2d0-f8cc064ce416",
   "metadata": {},
   "outputs": [],
   "source": [
    "import numpy as np\n",
    "import pandas as pd\n",
    "import os"
   ]
  },
  {
   "cell_type": "code",
   "execution_count": 3,
   "id": "791215e3-8f47-4da3-b488-1da639fe360f",
   "metadata": {},
   "outputs": [],
   "source": [
    "def get_cell_ID_label_mapping(EpiAnnoResult_path, peakByCellMatrix_path):\n",
    "    result_df = pd.DataFrame(np.load(EpiAnnoResult_path, allow_pickle=True)[()]['pred_label'],columns=[\"predicted_labels\"])\n",
    "    peak_by_cell_df = pd.read_csv(peakByCellMatrix_path, index_col=0)\n",
    "    cell_IDs  = pd.DataFrame(peak_by_cell_df.columns, columns=[\"dummy\"])\n",
    "    cell_IDs[['ignone', 'cell_IDs']] = cell_IDs['dummy'].str.split('#', n=1, expand=True)\n",
    "    cell_IDs =cell_IDs['cell_IDs']\n",
    "    del peak_by_cell_df\n",
    "    result_df = pd.concat([ cell_IDs,result_df], axis=1)\n",
    "    result_path = os.path.dirname(EpiAnnoResult_path)\n",
    "    result_filename = result_path+\"/predicted_labels.csv\"\n",
    "    result_df.to_csv(result_filename)\n",
    "    return(result_df)"
   ]
  },
  {
   "cell_type": "code",
   "execution_count": 4,
   "id": "07f581bc-c2be-4706-8889-d8ace115a7b7",
   "metadata": {},
   "outputs": [],
   "source": [
    "SatpathyBM_with_Buenrostro2018_FACS_BM = get_cell_ID_label_mapping(EpiAnnoResult_path=\"/project/scATAC_analysis/scATAcat_review/results/Review_EpiAnno/SatpathyBM_with_Buenrostro2018_FACS_BM_peaks/result_peak_rate_0.030_latent_10.npy\",\n",
    "                                                                    peakByCellMatrix_path=\"/project/scATAC_analysis/scATAcat_review/data/Buenrostro2018_FACS_BM_scATAC/scATAC/03_input_for_EpiAnno/PeakMatrix_dense.csv\")"
   ]
  },
  {
   "cell_type": "code",
   "execution_count": 5,
   "id": "55598a6a-c986-49ed-a343-d475dde4acfb",
   "metadata": {},
   "outputs": [
    {
     "data": {
      "text/plain": [
       "predicted_labels\n",
       "HSC/MPP    1816\n",
       "EM-CDT8      46\n",
       "CMP/BMP      13\n",
       "Name: count, dtype: int64"
      ]
     },
     "execution_count": 5,
     "metadata": {},
     "output_type": "execute_result"
    }
   ],
   "source": [
    "SatpathyBM_with_Buenrostro2018_FACS_BM.predicted_labels.value_counts()"
   ]
  },
  {
   "cell_type": "code",
   "execution_count": 10,
   "id": "0c39d19d-6b30-49e2-a373-1eb0539202aa",
   "metadata": {},
   "outputs": [],
   "source": [
    "SatpathyBM_with_NeurIPS_BM = get_cell_ID_label_mapping(EpiAnnoResult_path=\"/project/scATAC_analysis/scATAcat_review/results/Review_EpiAnno/SatpathyBM_with_NeurIPS_BM_peaks/result_peak_rate_0.030_latent_10.npy\",\n",
    "                                                                    peakByCellMatrix_path=\"/project/scATAC_analysis/scATAcat_review/data/NeurIPS_BM_scmultiome/05_input_for_EpiAnno/PeakMatrix_dense.csv\")"
   ]
  },
  {
   "cell_type": "code",
   "execution_count": 11,
   "id": "ef4a334f-cd94-46ec-a61d-2ba94cd8911e",
   "metadata": {},
   "outputs": [
    {
     "data": {
      "text/html": [
       "<div>\n",
       "<style scoped>\n",
       "    .dataframe tbody tr th:only-of-type {\n",
       "        vertical-align: middle;\n",
       "    }\n",
       "\n",
       "    .dataframe tbody tr th {\n",
       "        vertical-align: top;\n",
       "    }\n",
       "\n",
       "    .dataframe thead th {\n",
       "        text-align: right;\n",
       "    }\n",
       "</style>\n",
       "<table border=\"1\" class=\"dataframe\">\n",
       "  <thead>\n",
       "    <tr style=\"text-align: right;\">\n",
       "      <th></th>\n",
       "      <th>cell_IDs</th>\n",
       "      <th>predicted_labels</th>\n",
       "    </tr>\n",
       "  </thead>\n",
       "  <tbody>\n",
       "    <tr>\n",
       "      <th>0</th>\n",
       "      <td>TACGTAATCATGCCTC-1</td>\n",
       "      <td>HSC/MPP</td>\n",
       "    </tr>\n",
       "    <tr>\n",
       "      <th>1</th>\n",
       "      <td>GGAACCTGTACAATGT-1</td>\n",
       "      <td>CMP/BMP</td>\n",
       "    </tr>\n",
       "    <tr>\n",
       "      <th>2</th>\n",
       "      <td>ATTTGTGAGTAGCGGG-1</td>\n",
       "      <td>HSC/MPP</td>\n",
       "    </tr>\n",
       "    <tr>\n",
       "      <th>3</th>\n",
       "      <td>GACGCAACAAGCCAGA-1</td>\n",
       "      <td>HSC/MPP</td>\n",
       "    </tr>\n",
       "    <tr>\n",
       "      <th>4</th>\n",
       "      <td>TTGGCTTGTAGGTGTC-1</td>\n",
       "      <td>HSC/MPP</td>\n",
       "    </tr>\n",
       "    <tr>\n",
       "      <th>...</th>\n",
       "      <td>...</td>\n",
       "      <td>...</td>\n",
       "    </tr>\n",
       "    <tr>\n",
       "      <th>8317</th>\n",
       "      <td>GATTTGCAGTTTGGTA-1</td>\n",
       "      <td>CMP/BMP</td>\n",
       "    </tr>\n",
       "    <tr>\n",
       "      <th>8318</th>\n",
       "      <td>AGGCAATCACTAAATC-1</td>\n",
       "      <td>CMP/BMP</td>\n",
       "    </tr>\n",
       "    <tr>\n",
       "      <th>8319</th>\n",
       "      <td>GGTACAAAGAGAGGCT-1</td>\n",
       "      <td>CMP/BMP</td>\n",
       "    </tr>\n",
       "    <tr>\n",
       "      <th>8320</th>\n",
       "      <td>GGTCAAGCAGCCTTGG-1</td>\n",
       "      <td>HSC/MPP</td>\n",
       "    </tr>\n",
       "    <tr>\n",
       "      <th>8321</th>\n",
       "      <td>GTTGCGGGTGTTGTAG-1</td>\n",
       "      <td>CMP/BMP</td>\n",
       "    </tr>\n",
       "  </tbody>\n",
       "</table>\n",
       "<p>8322 rows × 2 columns</p>\n",
       "</div>"
      ],
      "text/plain": [
       "                cell_IDs predicted_labels\n",
       "0     TACGTAATCATGCCTC-1          HSC/MPP\n",
       "1     GGAACCTGTACAATGT-1          CMP/BMP\n",
       "2     ATTTGTGAGTAGCGGG-1          HSC/MPP\n",
       "3     GACGCAACAAGCCAGA-1          HSC/MPP\n",
       "4     TTGGCTTGTAGGTGTC-1          HSC/MPP\n",
       "...                  ...              ...\n",
       "8317  GATTTGCAGTTTGGTA-1          CMP/BMP\n",
       "8318  AGGCAATCACTAAATC-1          CMP/BMP\n",
       "8319  GGTACAAAGAGAGGCT-1          CMP/BMP\n",
       "8320  GGTCAAGCAGCCTTGG-1          HSC/MPP\n",
       "8321  GTTGCGGGTGTTGTAG-1          CMP/BMP\n",
       "\n",
       "[8322 rows x 2 columns]"
      ]
     },
     "execution_count": 11,
     "metadata": {},
     "output_type": "execute_result"
    }
   ],
   "source": [
    "SatpathyBM_with_NeurIPS_BM\n"
   ]
  },
  {
   "cell_type": "code",
   "execution_count": 8,
   "id": "9a53f10c-32fc-433d-b1ba-0fed19dd3abc",
   "metadata": {},
   "outputs": [],
   "source": [
    "SatpathyPBMC_with_10XPBMC = get_cell_ID_label_mapping(EpiAnnoResult_path=\"/project/scATAC_analysis/scATAcat_review/results/Review_EpiAnno/SatpathyPBMC_with_10XPBMC_via_peaks/result_peak_rate_0.050_latent_10.npy\",\n",
    "                                                    peakByCellMatrix_path=\"/project/scATAC_analysis/scATAcat_review/data/10X_PBMC_scmultiome/04_input_for_EpiAnno/PeakMatrix_PBMC_10X_dense.csv\")"
   ]
  },
  {
   "cell_type": "code",
   "execution_count": 9,
   "id": "f44e9e9b-0ae3-4ef6-9d3e-9705b1020857",
   "metadata": {},
   "outputs": [],
   "source": [
    "SatpathyProgenitors_Rep1_scATAC_with_Buenrostro_FACS_BM = get_cell_ID_label_mapping(EpiAnnoResult_path=\"/project/scATAC_analysis/scATAcat_review/results/Review_EpiAnno/SatpathyProgenitors_Rep1_scATAC_with_Buenrostro_FACS_BM_peaks/result_peak_rate_0.050_latent_10.npy\",\n",
    "                                                                                   peakByCellMatrix_path=\"/project/scATAC_analysis/scATAcat_review/data/Buenrostro2018_FACS_BM_scATAC/scATAC/03_input_for_EpiAnno/PeakMatrix_dense.csv\")"
   ]
  },
  {
   "cell_type": "code",
   "execution_count": null,
   "id": "8ba9df53-5ed1-4c08-8f5c-edd1e7273d29",
   "metadata": {},
   "outputs": [],
   "source": []
  }
 ],
 "metadata": {
  "kernelspec": {
   "display_name": "scATAcat_reproducibility_env",
   "language": "python",
   "name": "scatacat_reproducibility_env"
  },
  "language_info": {
   "codemirror_mode": {
    "name": "ipython",
    "version": 3
   },
   "file_extension": ".py",
   "mimetype": "text/x-python",
   "name": "python",
   "nbconvert_exporter": "python",
   "pygments_lexer": "ipython3",
   "version": "3.10.10"
  },
  "widgets": {
   "application/vnd.jupyter.widget-state+json": {
    "state": {},
    "version_major": 2,
    "version_minor": 0
   }
  }
 },
 "nbformat": 4,
 "nbformat_minor": 5
}
