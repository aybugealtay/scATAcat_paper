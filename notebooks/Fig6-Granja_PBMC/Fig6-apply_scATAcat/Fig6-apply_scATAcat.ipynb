{
 "cells": [
  {
   "cell_type": "code",
   "execution_count": 1,
   "id": "63b9b9a0-bb29-402a-8fec-ce3815b0df51",
   "metadata": {
    "tags": []
   },
   "outputs": [],
   "source": [
    "import pickle\n",
    "import pandas as pd\n",
    "import sklearn\n",
    "import numpy as np\n",
    "import scanpy as sc\n",
    "import scipy.sparse\n",
    "import anndata\n",
    "import matplotlib.pylab as plt\n",
    "from sklearn.decomposition import PCA\n",
    "import copy\n",
    "import logging as logg\n",
    "from sklearn import preprocessing\n",
    "import os \n",
    "import warnings\n",
    "import scATAcat\n",
    "import seaborn as sns\n",
    "import random as rn \n",
    "\n",
    "warnings.filterwarnings('ignore')"
   ]
  },
  {
   "cell_type": "code",
   "execution_count": 2,
   "id": "0db1bd28-c61b-4b69-98e5-e9cf26fd3853",
   "metadata": {},
   "outputs": [
    {
     "name": "stdout",
     "output_type": "stream",
     "text": [
      "env: PYTHONHASHSEED=0\n"
     ]
    }
   ],
   "source": [
    "# set the seed for reproducibility\n",
    "sd = 1234\n",
    "np.random.seed(sd)\n",
    "rn.seed(sd)\n",
    "%env PYTHONHASHSEED=0\n"
   ]
  },
  {
   "cell_type": "markdown",
   "id": "805659af-7acb-4c39-a585-c053031626a6",
   "metadata": {},
   "source": [
    "#### define necessary parameters"
   ]
  },
  {
   "cell_type": "code",
   "execution_count": 4,
   "id": "5794a9b0-a06e-46fa-a4e2-cd6ef5f5716c",
   "metadata": {},
   "outputs": [],
   "source": [
    "results_dir = \"../../../results/Fig6-Granja_PBMC_scATAC/Fig6-apply_scATAcat\"\n",
    "output_dir = results_dir+\"/outputs/\"\n",
    "figures_dir = results_dir+\"/figures/\"\n",
    "data_dir = \"../../../data/Granja2019/PBMC_D10T1/\"\n",
    "\n",
    "for dir in [figures_dir, output_dir]:\n",
    "    if not os.path.exists(dir):\n",
    "        os.makedirs(dir)\n"
   ]
  },
  {
   "cell_type": "markdown",
   "id": "f929b88d-1129-4917-9f6e-cdc764211383",
   "metadata": {
    "tags": []
   },
   "source": [
    "### 0 - Load scATAC-seq data"
   ]
  },
  {
   "cell_type": "code",
   "execution_count": 5,
   "id": "3d719bff-bd31-4ab8-982c-46ad5a6bc1fa",
   "metadata": {
    "tags": []
   },
   "outputs": [],
   "source": [
    "ENCODE_coverage_per_cell_df= pickle.load(open(data_dir + '04_ENCODE_coverage_by_cell_matrix/GSM4138893_scATAC_PBMC_D10T1_per_cell_encode_cCRE_matrix_sparse.pkl','rb'))\n"
   ]
  },
  {
   "cell_type": "code",
   "execution_count": 6,
   "id": "7c47b6ff-d395-4732-890f-3d56a78184ea",
   "metadata": {},
   "outputs": [
    {
     "data": {
      "text/plain": [
       "<926535x2891 sparse matrix of type '<class 'numpy.float32'>'\n",
       "\twith 25063385 stored elements in Compressed Sparse Row format>"
      ]
     },
     "execution_count": 6,
     "metadata": {},
     "output_type": "execute_result"
    }
   ],
   "source": [
    "ENCODE_coverage_per_cell_df"
   ]
  },
  {
   "cell_type": "code",
   "execution_count": 7,
   "id": "361dbf82-b622-4665-933d-be3ce4a08f61",
   "metadata": {
    "tags": []
   },
   "outputs": [
    {
     "data": {
      "text/html": [
       "<div>\n",
       "<style scoped>\n",
       "    .dataframe tbody tr th:only-of-type {\n",
       "        vertical-align: middle;\n",
       "    }\n",
       "\n",
       "    .dataframe tbody tr th {\n",
       "        vertical-align: top;\n",
       "    }\n",
       "\n",
       "    .dataframe thead th {\n",
       "        text-align: right;\n",
       "    }\n",
       "</style>\n",
       "<table border=\"1\" class=\"dataframe\">\n",
       "  <thead>\n",
       "    <tr style=\"text-align: right;\">\n",
       "      <th></th>\n",
       "      <th>cCREs</th>\n",
       "    </tr>\n",
       "    <tr>\n",
       "      <th>cCREs</th>\n",
       "      <th></th>\n",
       "    </tr>\n",
       "  </thead>\n",
       "  <tbody>\n",
       "    <tr>\n",
       "      <th>chr1_181251_181601</th>\n",
       "      <td>chr1_181251_181601</td>\n",
       "    </tr>\n",
       "    <tr>\n",
       "      <th>chr1_190865_191071</th>\n",
       "      <td>chr1_190865_191071</td>\n",
       "    </tr>\n",
       "    <tr>\n",
       "      <th>chr1_778562_778912</th>\n",
       "      <td>chr1_778562_778912</td>\n",
       "    </tr>\n",
       "    <tr>\n",
       "      <th>chr1_779086_779355</th>\n",
       "      <td>chr1_779086_779355</td>\n",
       "    </tr>\n",
       "    <tr>\n",
       "      <th>chr1_779727_780060</th>\n",
       "      <td>chr1_779727_780060</td>\n",
       "    </tr>\n",
       "  </tbody>\n",
       "</table>\n",
       "</div>"
      ],
      "text/plain": [
       "                                 cCREs\n",
       "cCREs                                 \n",
       "chr1_181251_181601  chr1_181251_181601\n",
       "chr1_190865_191071  chr1_190865_191071\n",
       "chr1_778562_778912  chr1_778562_778912\n",
       "chr1_779086_779355  chr1_779086_779355\n",
       "chr1_779727_780060  chr1_779727_780060"
      ]
     },
     "execution_count": 7,
     "metadata": {},
     "output_type": "execute_result"
    }
   ],
   "source": [
    "ENCODE_cCREs = pd.read_csv(data_dir +\"02_ENCODE_cCRE_coverage/GSM4138893_scATAC_PBMC_D10T1_ENCODE_cCREs.csv\", index_col=0)\n",
    "ENCODE_cCREs.columns = [\"cCREs\"]\n",
    "ENCODE_cCREs.index = ENCODE_cCREs['cCREs']\n",
    "ENCODE_cCREs.head()"
   ]
  },
  {
   "cell_type": "code",
   "execution_count": 9,
   "id": "1fef1084-df71-4ded-a40a-3c52dddb111d",
   "metadata": {
    "tags": []
   },
   "outputs": [
    {
     "data": {
      "text/html": [
       "<div>\n",
       "<style scoped>\n",
       "    .dataframe tbody tr th:only-of-type {\n",
       "        vertical-align: middle;\n",
       "    }\n",
       "\n",
       "    .dataframe tbody tr th {\n",
       "        vertical-align: top;\n",
       "    }\n",
       "\n",
       "    .dataframe thead th {\n",
       "        text-align: right;\n",
       "    }\n",
       "</style>\n",
       "<table border=\"1\" class=\"dataframe\">\n",
       "  <thead>\n",
       "    <tr style=\"text-align: right;\">\n",
       "      <th></th>\n",
       "      <th>cell_IDs</th>\n",
       "    </tr>\n",
       "    <tr>\n",
       "      <th>cell_IDs</th>\n",
       "      <th></th>\n",
       "    </tr>\n",
       "  </thead>\n",
       "  <tbody>\n",
       "    <tr>\n",
       "      <th>TCAGGGCAGGGCATTG-1</th>\n",
       "      <td>TCAGGGCAGGGCATTG-1</td>\n",
       "    </tr>\n",
       "    <tr>\n",
       "      <th>GTTCAAGCAGTTACAC-1</th>\n",
       "      <td>GTTCAAGCAGTTACAC-1</td>\n",
       "    </tr>\n",
       "    <tr>\n",
       "      <th>CATTCCGGTGATAACA-1</th>\n",
       "      <td>CATTCCGGTGATAACA-1</td>\n",
       "    </tr>\n",
       "    <tr>\n",
       "      <th>GCGTTGGTCCAGTTAG-1</th>\n",
       "      <td>GCGTTGGTCCAGTTAG-1</td>\n",
       "    </tr>\n",
       "    <tr>\n",
       "      <th>TCAAAGCCAAGCACTT-1</th>\n",
       "      <td>TCAAAGCCAAGCACTT-1</td>\n",
       "    </tr>\n",
       "  </tbody>\n",
       "</table>\n",
       "</div>"
      ],
      "text/plain": [
       "                              cell_IDs\n",
       "cell_IDs                              \n",
       "TCAGGGCAGGGCATTG-1  TCAGGGCAGGGCATTG-1\n",
       "GTTCAAGCAGTTACAC-1  GTTCAAGCAGTTACAC-1\n",
       "CATTCCGGTGATAACA-1  CATTCCGGTGATAACA-1\n",
       "GCGTTGGTCCAGTTAG-1  GCGTTGGTCCAGTTAG-1\n",
       "TCAAAGCCAAGCACTT-1  TCAAAGCCAAGCACTT-1"
      ]
     },
     "execution_count": 9,
     "metadata": {},
     "output_type": "execute_result"
    }
   ],
   "source": [
    "cell_IDs = pd.read_csv(data_dir +\"03_cellIDs_and_annotations/cell_IDs.csv\")\n",
    "cell_IDs.columns = [\"cell_IDs\"]\n",
    "cell_IDs.index = cell_IDs[\"cell_IDs\"]\n",
    "cell_IDs.head()"
   ]
  },
  {
   "cell_type": "markdown",
   "id": "f0a229fa-3210-4d7e-b8ca-9bfa61f942e6",
   "metadata": {},
   "source": [
    "### 1 - initialize the AnnData object"
   ]
  },
  {
   "cell_type": "code",
   "execution_count": 10,
   "id": "800b4862-ec2a-4264-9d79-e489186901c0",
   "metadata": {
    "tags": []
   },
   "outputs": [],
   "source": [
    "sc_completeFeatures_adata = anndata.AnnData(ENCODE_coverage_per_cell_df.transpose(), var=ENCODE_cCREs, obs=cell_IDs)\n"
   ]
  },
  {
   "cell_type": "code",
   "execution_count": 11,
   "id": "eb23a0ac-340b-4357-a818-da68b3240ba9",
   "metadata": {
    "tags": []
   },
   "outputs": [
    {
     "data": {
      "text/plain": [
       "AnnData object with n_obs × n_vars = 2891 × 926535\n",
       "    obs: 'cell_IDs'\n",
       "    var: 'cCREs'"
      ]
     },
     "execution_count": 11,
     "metadata": {},
     "output_type": "execute_result"
    }
   ],
   "source": [
    "sc_completeFeatures_adata"
   ]
  },
  {
   "cell_type": "markdown",
   "id": "87f2d081-c92b-4e4d-b292-67b4c14bcf8e",
   "metadata": {},
   "source": [
    "### 2 - add binary layer to AnnData"
   ]
  },
  {
   "cell_type": "code",
   "execution_count": 12,
   "id": "bced6c46-e8d0-422f-93fe-f3778687d5c8",
   "metadata": {
    "tags": []
   },
   "outputs": [
    {
     "name": "stderr",
     "output_type": "stream",
     "text": [
      "\n",
      "KeyboardInterrupt\n",
      "\n"
     ]
    }
   ],
   "source": [
    "scATAcat.add_binary_layer(sc_completeFeatures_adata, binary_layer_key=\"binary\")"
   ]
  },
  {
   "cell_type": "markdown",
   "id": "b6588986-6cab-466a-a9d1-6d8d743e6bdc",
   "metadata": {},
   "source": [
    "## 3- calculate & plot cell and feature statistics"
   ]
  },
  {
   "cell_type": "code",
   "execution_count": null,
   "id": "dbf31b93-c454-49d1-9597-4b37c2c07a9c",
   "metadata": {
    "tags": []
   },
   "outputs": [],
   "source": [
    "scATAcat.cell_feature_statistics(sc_completeFeatures_adata, binary_layer_key ='binary')"
   ]
  },
  {
   "cell_type": "code",
   "execution_count": null,
   "id": "c1db9533-f1c0-4090-9435-1ae2c0b96f07",
   "metadata": {
    "tags": []
   },
   "outputs": [],
   "source": [
    "scATAcat.plot_feature_statistics(sc_completeFeatures_adata, threshold=3, bins=50, color=\"lightgrey\", save=True, save_dir = figures_dir +\"/feature_statistics_plot.png\")"
   ]
  },
  {
   "cell_type": "code",
   "execution_count": null,
   "id": "2d971c45-3a5f-484b-9240-f085c4581f02",
   "metadata": {
    "tags": []
   },
   "outputs": [],
   "source": [
    "scATAcat.plot_cell_statistics(sc_completeFeatures_adata, threshold=1000, bins=50, color=\"lightgrey\", save=True, save_dir = figures_dir + \"/cell_statistics_plot.png\")"
   ]
  },
  {
   "cell_type": "markdown",
   "id": "d765937d-235e-4bf5-bc7a-61ebe5dfc331",
   "metadata": {},
   "source": [
    "## 4- filter the cells and features"
   ]
  },
  {
   "cell_type": "code",
   "execution_count": null,
   "id": "5b3518b5-eddd-495e-97be-7073dc400650",
   "metadata": {
    "tags": []
   },
   "outputs": [],
   "source": [
    "sc_completeFeatures_adata"
   ]
  },
  {
   "cell_type": "code",
   "execution_count": null,
   "id": "cf20f095-a1a8-474a-870f-73ce73b5d9c2",
   "metadata": {
    "tags": []
   },
   "outputs": [],
   "source": [
    "sc_filteredFeatures_adata = scATAcat.preproces_sc_matrix(sc_completeFeatures_adata,cell_cutoff=1000,cell_cutoff_max=80000, feature_cutoff=3, remove_chrY = True, var_key = 'cCREs', copy=True)"
   ]
  },
  {
   "cell_type": "code",
   "execution_count": null,
   "id": "99fceb20-4902-458c-92b5-982a25d6191e",
   "metadata": {},
   "outputs": [],
   "source": [
    "sc_filteredFeatures_adata"
   ]
  },
  {
   "cell_type": "markdown",
   "id": "a3c2e809-84d3-46d6-aa15-d11c591e1a12",
   "metadata": {},
   "source": [
    "### 5- load & preprocess the bulk data"
   ]
  },
  {
   "cell_type": "code",
   "execution_count": null,
   "id": "b60a4f1a-f286-4e61-865f-c627aa8ee6b0",
   "metadata": {},
   "outputs": [],
   "source": [
    "bulk_by_ENCODE_peaks_df_annotated =  pickle.load(open( \"../../../../scATAcat_notebooks_for_paper/jan2024/data/Corces2016_bulk_ATAC/02_ENCODE_coverage_by_prototypes_matrix/Corces2016bulkATAC_ENCODE_cCRE_overlappingPeaks_annotated.pkl\", 'rb'))\n",
    "bulk_by_ENCODE_peaks_df_annotated = bulk_by_ENCODE_peaks_df_annotated.reindex(sorted(bulk_by_ENCODE_peaks_df_annotated.columns), axis=1)"
   ]
  },
  {
   "cell_type": "code",
   "execution_count": null,
   "id": "6e7b98b8-e3ca-44e3-9c79-347c85867978",
   "metadata": {},
   "outputs": [],
   "source": [
    "bulk_by_ENCODE_peaks_df_annotated.columns"
   ]
  },
  {
   "cell_type": "code",
   "execution_count": null,
   "id": "77615a80-abc9-4a9b-8cc6-dc9e01ddbd95",
   "metadata": {},
   "outputs": [],
   "source": [
    "#subset for terminal cell states\n",
    "bulk_by_ENCODE_peaks_df_annotated\n",
    "bulk_by_ENCODE_peaks_df_annotated= bulk_by_ENCODE_peaks_df_annotated[['Bcell_1', 'Bcell_2', 'Bcell_3', 'Bcell_4', 'CD4Tcell_1',\n",
    "       'CD4Tcell_2', 'CD4Tcell_3', 'CD4Tcell_4', 'CD4Tcell_5',\n",
    "       'CD8Tcell_1', 'CD8Tcell_2', 'CD8Tcell_3', 'CD8Tcell_4',\n",
    "       'CD8Tcell_5', 'Mono_1', 'Mono_2', 'Mono_3', 'Mono_4', 'Mono_5',\n",
    "       'Mono_6', 'NKcell_1', 'NKcell_2', 'NKcell_3', 'NKcell_4',\n",
    "       'NKcell_5', 'NKcell_6']]"
   ]
  },
  {
   "cell_type": "code",
   "execution_count": null,
   "id": "13096a5d-8915-496c-b0ce-7f4df3c41d95",
   "metadata": {},
   "outputs": [],
   "source": [
    "# include pDCs\n",
    "pDCs = pickle.load(open( '../../../../scATAcat_notebooks_for_paper/jan2024/data/Corces2016_bulk_ATAC/02_ENCODE_coverage_by_prototypes_matrix/Calderon2019_pDC_ENCODE_cCRE_overlappingPeaks_annotated.pkl', 'rb'))\n",
    "pDCs.head()"
   ]
  },
  {
   "cell_type": "code",
   "execution_count": null,
   "id": "713f74ee-db77-4bfa-861a-09d3cdeb855d",
   "metadata": {},
   "outputs": [],
   "source": [
    "bulk_by_ENCODE_peaks_df_annotated = pd.concat([bulk_by_ENCODE_peaks_df_annotated, pDCs.loc[bulk_by_ENCODE_peaks_df_annotated.index,:]], axis=1 )"
   ]
  },
  {
   "cell_type": "code",
   "execution_count": null,
   "id": "90805e4c-a5af-4684-82f9-0f05468729e2",
   "metadata": {},
   "outputs": [],
   "source": [
    "bulk_by_ENCODE_peaks_df_annotated.head()"
   ]
  },
  {
   "cell_type": "code",
   "execution_count": null,
   "id": "89392610-2f84-45c5-a7ff-9b227dac3921",
   "metadata": {
    "tags": []
   },
   "outputs": [],
   "source": [
    "bulk_completeFeatures_adata = scATAcat.generate_bulk_sparse_AnnData(bulk_by_ENCODE_peaks_df_annotated)"
   ]
  },
  {
   "cell_type": "code",
   "execution_count": null,
   "id": "07aaba88-b12a-4633-9f42-f69fe27c12aa",
   "metadata": {
    "tags": []
   },
   "outputs": [],
   "source": [
    "bulk_completeFeatures_adata"
   ]
  },
  {
   "cell_type": "code",
   "execution_count": null,
   "id": "da549820-e7f6-4b85-844f-aa9fef639e78",
   "metadata": {
    "tags": []
   },
   "outputs": [],
   "source": [
    "bulk_completeFeatures_adata = scATAcat.preprocess_bulk_adata(bulk_completeFeatures_adata, remove_chrY=True, var_key = 'cCREs', copy=False)"
   ]
  },
  {
   "cell_type": "markdown",
   "id": "af81be81-17bc-4d86-a135-5e4f73a3852e",
   "metadata": {},
   "source": [
    "### 6 - Overlap bulk and sc features\n",
    "\n",
    "- before we proceed with sc analysis, we need to overlap the features:\n",
    "    - we don't want the feature that does not have any counts in bulk data to influence clustering\n",
    "    - similarly, we want the projection to be defined only with the same feature set"
   ]
  },
  {
   "cell_type": "code",
   "execution_count": null,
   "id": "97d08939-1de1-472f-a5f6-5857a19e4e9c",
   "metadata": {
    "tags": []
   },
   "outputs": [],
   "source": [
    "sc_bulk_common_vars = scATAcat.overlap_vars(sc_filteredFeatures_adata, bulk_completeFeatures_adata)"
   ]
  },
  {
   "cell_type": "code",
   "execution_count": null,
   "id": "00dffe10-709e-437c-9f7e-6c1c17dd8928",
   "metadata": {
    "tags": []
   },
   "outputs": [],
   "source": [
    "len(sc_bulk_common_vars)"
   ]
  },
  {
   "cell_type": "code",
   "execution_count": null,
   "id": "15984536-dc71-4bf8-9b85-d0fc891d164d",
   "metadata": {
    "tags": []
   },
   "outputs": [],
   "source": [
    "sc_commonFeatures_adata = scATAcat.subset_adata_vars(sc_filteredFeatures_adata, vars_list=sc_bulk_common_vars, copy_=True)\n"
   ]
  },
  {
   "cell_type": "code",
   "execution_count": null,
   "id": "6705d5a6-df45-492a-beed-d1729f90d742",
   "metadata": {
    "tags": []
   },
   "outputs": [],
   "source": [
    "bulk_commonFeatures_adata = scATAcat.subset_adata_vars(bulk_completeFeatures_adata, vars_list=sc_bulk_common_vars, copy_=True)\n"
   ]
  },
  {
   "cell_type": "markdown",
   "id": "695e456d-3f91-461a-bb08-993a9b686c39",
   "metadata": {},
   "source": [
    "### 7- doublet removal"
   ]
  },
  {
   "cell_type": "code",
   "execution_count": null,
   "id": "84c38b50-fd6b-4806-9790-4dfb05f1ca1f",
   "metadata": {},
   "outputs": [],
   "source": [
    "#results from AMLUET: these are the cells inferred to be doublets:\n",
    "    \n",
    "multiplet_cells = pd.read_csv(data_dir + '06_doublet_detection/MultipletCellIds_01.txt', header=None)    \n"
   ]
  },
  {
   "cell_type": "code",
   "execution_count": null,
   "id": "880f66db-0cbd-44d3-8ae6-551a8a73f190",
   "metadata": {},
   "outputs": [],
   "source": [
    "multiplet_cells"
   ]
  },
  {
   "cell_type": "code",
   "execution_count": null,
   "id": "2154323c-7343-45c4-9531-6adcb2dcf773",
   "metadata": {},
   "outputs": [],
   "source": [
    "non_multiplet_cells = list(set(sc_commonFeatures_adata.obs['cell_IDs']) - set(multiplet_cells[0]))"
   ]
  },
  {
   "cell_type": "code",
   "execution_count": null,
   "id": "70a6fe9e-352e-4878-867d-f788fceaaa79",
   "metadata": {},
   "outputs": [],
   "source": [
    "sc_commonFeatures_adata = scATAcat.subset_adata_obs(sc_commonFeatures_adata, obs_list= non_multiplet_cells, copy_=False)"
   ]
  },
  {
   "cell_type": "code",
   "execution_count": null,
   "id": "6e9d539c-adca-47d6-8bb5-9313ef7cafb1",
   "metadata": {},
   "outputs": [],
   "source": [
    "sc_commonFeatures_adata"
   ]
  },
  {
   "cell_type": "markdown",
   "id": "324fae83-a1b2-4e3a-9e09-be9cecd3b83e",
   "metadata": {},
   "source": [
    "### 8- apply TF-IDF"
   ]
  },
  {
   "cell_type": "code",
   "execution_count": null,
   "id": "8c6cc6b8-ee81-42d8-bb24-62fd589ba24a",
   "metadata": {
    "tags": []
   },
   "outputs": [],
   "source": [
    "scATAcat.apply_TFIDF_sparse(sc_commonFeatures_adata, binary_layer_key='binary', TFIDF_key='TF_logIDF' )"
   ]
  },
  {
   "cell_type": "markdown",
   "id": "2dfbbda8-41d5-4d13-9e71-a762fa9ac7c7",
   "metadata": {},
   "source": [
    "### 9 - subset matrices to differential cCREs"
   ]
  },
  {
   "cell_type": "code",
   "execution_count": null,
   "id": "696c405a-848b-48d3-a354-75682fe85734",
   "metadata": {
    "tags": []
   },
   "outputs": [],
   "source": [
    "pairwise_top2000_cCREs = pd.read_table(\"../../../../scATAcat_notebooks_for_paper/jan2024/data/Corces2016_bulk_ATAC/03_get_differentially_accessible_regions/terminal_cell_states-for_PBMC_scmultiome/Corces2016_pairwise_differential_cCREs_FDR0.05_top2000_of_each_pair_sorted_exactCREs.csv\",delimiter=\"\\t\",header=None)\n",
    "\n",
    "pairwise_top2000_cCREs.head()"
   ]
  },
  {
   "cell_type": "code",
   "execution_count": null,
   "id": "f91eab77-f8d7-42cc-a3ba-173d4fe80196",
   "metadata": {},
   "outputs": [],
   "source": [
    "len(pairwise_top2000_cCREs)"
   ]
  },
  {
   "cell_type": "code",
   "execution_count": null,
   "id": "e3ff2c6c-cdaa-4b22-9934-4c53b34f5f39",
   "metadata": {
    "tags": []
   },
   "outputs": [],
   "source": [
    "common_differential_vars = list(set(list(sc_bulk_common_vars)) & set(list(pairwise_top2000_cCREs[0].tolist())))\n",
    "\n",
    "len(common_differential_vars)"
   ]
  },
  {
   "cell_type": "code",
   "execution_count": null,
   "id": "16f34861-0570-4648-b875-6e681382a45a",
   "metadata": {
    "tags": []
   },
   "outputs": [],
   "source": [
    "bulk_commonDiffFeatures_adata = scATAcat.subset_adata_vars(bulk_commonFeatures_adata,\n",
    "                                                 vars_list=common_differential_vars,\n",
    "                                                 copy_=True)"
   ]
  },
  {
   "cell_type": "code",
   "execution_count": null,
   "id": "6fb4e2c7-3806-4820-9f60-93383b6908b1",
   "metadata": {
    "tags": []
   },
   "outputs": [],
   "source": [
    "sc_commonDiffFeatures_adata = scATAcat.subset_adata_vars(sc_commonFeatures_adata,\n",
    "                                                 vars_list=common_differential_vars,\n",
    "                                                 copy_=True)"
   ]
  },
  {
   "cell_type": "markdown",
   "id": "69119e3b-97b6-4d39-8c25-f119546adeed",
   "metadata": {
    "tags": []
   },
   "source": [
    "### 10- dimention reduction and clustering "
   ]
  },
  {
   "cell_type": "code",
   "execution_count": null,
   "id": "9bebfd20-dfa8-4d6f-a9dc-8830ffc79db4",
   "metadata": {
    "tags": []
   },
   "outputs": [],
   "source": [
    "sc_commonDiffFeatures_adata"
   ]
  },
  {
   "cell_type": "code",
   "execution_count": null,
   "id": "6537ae0f-2df0-4d1e-866a-72043a361d14",
   "metadata": {
    "tags": []
   },
   "outputs": [],
   "source": [
    "scATAcat.apply_PCA(sc_commonDiffFeatures_adata, layer_key ='TF_logIDF', svd_solver='arpack', random_state=0)\n"
   ]
  },
  {
   "cell_type": "code",
   "execution_count": null,
   "id": "47cce9cc-4263-4b4d-89c8-c31036d173ef",
   "metadata": {},
   "outputs": [],
   "source": [
    "with plt.rc_context():\n",
    "    sc.pl.pca_variance_ratio(sc_commonDiffFeatures_adata, n_pcs=50, log=True, show=False)\n",
    "    plt.savefig(figures_dir + \"/pca_variance_ratio.pdf\", bbox_inches=\"tight\")"
   ]
  },
  {
   "cell_type": "code",
   "execution_count": null,
   "id": "f536d49e-da96-4d52-94a7-29d16aca27eb",
   "metadata": {
    "tags": []
   },
   "outputs": [],
   "source": [
    "sc.pp.neighbors(sc_commonDiffFeatures_adata, n_pcs = 50, n_neighbors = 30, random_state=0)\n"
   ]
  },
  {
   "cell_type": "code",
   "execution_count": null,
   "id": "948ba13f-9e41-4f4f-878f-61dce2b4ccd4",
   "metadata": {
    "tags": []
   },
   "outputs": [],
   "source": [
    "seqDepth_PC1_plot = sns.jointplot(\n",
    "    x=sc_commonDiffFeatures_adata.obsm['X_pca'][:,0],\n",
    "    y=np.sqrt(sc_commonDiffFeatures_adata.obsm['num_feature_per_cell']),\n",
    "    kind=\"kde\",fill=True, \n",
    ")\n",
    "plt.xlabel(\"1st PC\")\n",
    "plt.ylabel(\"num_feature_per_cell\")\n"
   ]
  },
  {
   "cell_type": "code",
   "execution_count": null,
   "id": "5e666f5f-b8b3-46d0-aee4-bec08ab4042c",
   "metadata": {
    "tags": []
   },
   "outputs": [],
   "source": [
    "## correlation\n",
    "np.corrcoef(sc_commonDiffFeatures_adata.obsm['X_pca'][:,0],\n",
    "    np.sqrt(sc_commonDiffFeatures_adata.obsm['num_feature_per_cell']))"
   ]
  },
  {
   "cell_type": "markdown",
   "id": "d032144a-f4b8-4185-91f8-77d809d410af",
   "metadata": {},
   "source": [
    "### 11 -  apply UMAP & leiden clustering"
   ]
  },
  {
   "cell_type": "code",
   "execution_count": null,
   "id": "0a23671e-6fec-4ee7-a27d-bc56a9284dd0",
   "metadata": {},
   "outputs": [],
   "source": [
    "leiden_resolution=1.0\n",
    "leiden_key=\"leiden_\"+ str(leiden_resolution)"
   ]
  },
  {
   "cell_type": "code",
   "execution_count": null,
   "id": "b61ba3f8-f2fb-459e-85ea-6101f893eef3",
   "metadata": {
    "tags": []
   },
   "outputs": [],
   "source": [
    "sc.tl.umap(sc_commonDiffFeatures_adata, random_state=0)"
   ]
  },
  {
   "cell_type": "code",
   "execution_count": null,
   "id": "fb422b97-85cd-473b-ba5c-4b70860543c9",
   "metadata": {
    "tags": []
   },
   "outputs": [],
   "source": [
    "sc.tl.leiden(sc_commonDiffFeatures_adata, resolution=leiden_resolution,key_added=leiden_key, random_state=0)"
   ]
  },
  {
   "cell_type": "code",
   "execution_count": null,
   "id": "37b12eba-c074-4db9-8a94-ab884d1010e7",
   "metadata": {
    "tags": []
   },
   "outputs": [],
   "source": [
    "with plt.rc_context():\n",
    "    sc.pl.umap(sc_commonDiffFeatures_adata, color=leiden_key, show=False,size=25 , add_outline=False, frameon=False, title=\"\",palette=\"tab20\")\n",
    "    plt.savefig(figures_dir + \"/\"+ leiden_key+ \".pdf\", bbox_inches=\"tight\")"
   ]
  },
  {
   "cell_type": "markdown",
   "id": "3f0ace4b-f0db-46b7-aaaa-b5da5f88b054",
   "metadata": {},
   "source": [
    "#### loook at sequencing depth"
   ]
  },
  {
   "cell_type": "code",
   "execution_count": null,
   "id": "b8e3b8aa-bc61-41e8-9654-208a78178674",
   "metadata": {
    "tags": []
   },
   "outputs": [],
   "source": [
    "sc_commonDiffFeatures_adata.obs['num_feature_per_cell_'] = sc_commonDiffFeatures_adata.obsm['num_feature_per_cell']"
   ]
  },
  {
   "cell_type": "code",
   "execution_count": null,
   "id": "9940b928-0b03-4805-8bbe-178618159369",
   "metadata": {
    "tags": []
   },
   "outputs": [],
   "source": [
    "with plt.rc_context():  \n",
    "    sc.pl.umap(sc_commonDiffFeatures_adata, color='num_feature_per_cell_', add_outline=False, frameon=False,title =\"\", save=False, size=25 )\n",
    "    plt.savefig(figures_dir + \"/seq_depth_umap.pdf\", bbox_inches=\"tight\")"
   ]
  },
  {
   "cell_type": "markdown",
   "id": "6bf82436-61cb-4027-95ac-21777a93805b",
   "metadata": {
    "tags": []
   },
   "source": [
    "### 12 - from pseudobulks according to the cluster assignments\n"
   ]
  },
  {
   "cell_type": "code",
   "execution_count": null,
   "id": "dae0a96d-c0f8-45c5-94ed-3d83cbb5217c",
   "metadata": {
    "tags": []
   },
   "outputs": [],
   "source": [
    "cell_cluster_assignments = pd.DataFrame(sc_commonDiffFeatures_adata.obs[leiden_key].copy())\n",
    "cell_cluster_assignments\n"
   ]
  },
  {
   "cell_type": "code",
   "execution_count": null,
   "id": "2c967805-44d5-4a56-8c1d-6f46b17ecb8e",
   "metadata": {
    "tags": []
   },
   "outputs": [],
   "source": [
    "cell_cluster_sizes = pd.DataFrame(cell_cluster_assignments[leiden_key].value_counts())\n",
    "cell_cluster_sizes['leiden_clusters'] = cell_cluster_sizes.index\n",
    "cell_cluster_sizes.head()"
   ]
  },
  {
   "cell_type": "code",
   "execution_count": null,
   "id": "b6912cac-1fe4-4d19-a28a-71c5fd8bcefa",
   "metadata": {
    "tags": []
   },
   "outputs": [],
   "source": [
    "for clust_id in set(sc_commonDiffFeatures_adata.obs[leiden_key].values):\n",
    "    clust_df= sc_commonDiffFeatures_adata[sc_commonDiffFeatures_adata.obs[leiden_key]==clust_id]"
   ]
  },
  {
   "cell_type": "code",
   "execution_count": null,
   "id": "0373bd47-decd-45f4-94df-58bc186e071b",
   "metadata": {
    "tags": []
   },
   "outputs": [],
   "source": [
    "cell_types = ([(r.split('_')[0]) for r in clust_df.obs[leiden_key].index])"
   ]
  },
  {
   "cell_type": "code",
   "execution_count": null,
   "id": "6f92e8ba-2582-4fdf-9c03-54d5d35041ea",
   "metadata": {
    "tags": []
   },
   "outputs": [],
   "source": [
    "# plot a bar chart\n",
    "sns.set_style(\"whitegrid\")\n",
    "ax= sns.barplot(\n",
    "    y=\"count\", \n",
    "    x=\"leiden_clusters\", \n",
    "    data=cell_cluster_sizes, \n",
    "    color='lightgrey');\n",
    "ax.yaxis.grid(True,color=\"lightgrey\")\n",
    "ax.axes.set_xlabel(\"Leiden cluster ID\")\n",
    "ax.axes.set_ylabel(\"cluster size\")\n",
    "\n",
    "plt.savefig(figures_dir + \"/cluster_sizes_\"+leiden_key+\".pdf\", dpi=250)"
   ]
  },
  {
   "cell_type": "code",
   "execution_count": null,
   "id": "a90aed15-8c97-4fa8-80a9-58c76fc86cf1",
   "metadata": {
    "tags": []
   },
   "outputs": [],
   "source": [
    "pseudobulk_commonFeatures_adata = scATAcat.generate_bulk_sparse_AnnData(scATAcat.get_pseudobulk_matrix_ext(adata_to_subset=sc_commonFeatures_adata, adata_to_get_clusters=sc_commonDiffFeatures_adata, cluster_key=leiden_key  ,method = 'sum'))"
   ]
  },
  {
   "cell_type": "code",
   "execution_count": null,
   "id": "86053994-05be-4df6-8b63-1210443c694c",
   "metadata": {
    "tags": []
   },
   "outputs": [],
   "source": [
    "scATAcat.preprocessing_libsize_norm_log2(pseudobulk_commonFeatures_adata)"
   ]
  },
  {
   "cell_type": "code",
   "execution_count": null,
   "id": "06c53482-97e8-4412-88a7-11cf3f85d3cc",
   "metadata": {
    "tags": []
   },
   "outputs": [],
   "source": [
    "scATAcat.preprocessing_libsize_norm_log2(bulk_commonFeatures_adata)"
   ]
  },
  {
   "cell_type": "markdown",
   "id": "4bc56d9a-d24d-4043-a4a1-0316fc519d62",
   "metadata": {
    "tags": []
   },
   "source": [
    "### 13 - Projection\n"
   ]
  },
  {
   "cell_type": "markdown",
   "id": "27f44002-a4f6-4773-b0f1-66ef3f3c1461",
   "metadata": {},
   "source": [
    "#### processing "
   ]
  },
  {
   "cell_type": "code",
   "execution_count": null,
   "id": "821fa1fb-659d-4109-881f-17a2e56875ee",
   "metadata": {
    "tags": []
   },
   "outputs": [],
   "source": [
    "bulk_commonDiffFeatures_adata = scATAcat.subset_adata_vars(bulk_commonFeatures_adata,\n",
    "                                                 vars_list=common_differential_vars,\n",
    "                                                 copy_=True)"
   ]
  },
  {
   "cell_type": "code",
   "execution_count": null,
   "id": "559c1499-9641-4b6a-80c4-b3f96695e7ca",
   "metadata": {
    "tags": []
   },
   "outputs": [],
   "source": [
    "bulk_commonDiffFeatures_adata"
   ]
  },
  {
   "cell_type": "code",
   "execution_count": null,
   "id": "8c03c0b8-2b4b-434a-a632-7ffe596fe135",
   "metadata": {
    "tags": []
   },
   "outputs": [],
   "source": [
    "pseudobulk_commonDiffFeatures_adata = scATAcat.subset_adata_vars(pseudobulk_commonFeatures_adata,\n",
    "                                                 vars_list=common_differential_vars,\n",
    "                                                 copy_=True)"
   ]
  },
  {
   "cell_type": "code",
   "execution_count": null,
   "id": "e102813d-0ec5-4691-b20d-b1ed35ab2a20",
   "metadata": {
    "tags": []
   },
   "outputs": [],
   "source": [
    "scATAcat.preprocessing_standardization(bulk_commonDiffFeatures_adata, input_layer_key=\"libsize_norm_log2\", zero_center=True)"
   ]
  },
  {
   "cell_type": "code",
   "execution_count": null,
   "id": "c9ff879d-92c3-458a-80ff-c14d9ff4d29c",
   "metadata": {
    "tags": []
   },
   "outputs": [],
   "source": [
    "bulk_commonDiffFeatures_adata"
   ]
  },
  {
   "cell_type": "code",
   "execution_count": null,
   "id": "cc110035-5d02-4e59-a25b-f5968d4ad5cd",
   "metadata": {
    "tags": []
   },
   "outputs": [],
   "source": [
    "scATAcat.preprocessing_standardization(pseudobulk_commonDiffFeatures_adata, input_layer_key=\"libsize_norm_log2\", zero_center=False,\n",
    "                              output_layer_key= \"libsize_norm_log2_bulk_scaled_diff\",\n",
    "                              std_key= None,  mean_key=None,\n",
    "                              std_ = bulk_commonDiffFeatures_adata.var[\"feature_std\"],\n",
    "                              mean_= bulk_commonDiffFeatures_adata.var[\"feature_mean\"])"
   ]
  },
  {
   "cell_type": "code",
   "execution_count": null,
   "id": "8f09457c-3217-47aa-aa40-34d7d0139e0b",
   "metadata": {},
   "outputs": [],
   "source": [
    "## as an option, I can add the color codes from the clustering/ sc adata as a paramater for the pseudobulk matrix \n",
    "leiden_color_key = leiden_key+\"_colors\"\n",
    "pseudobulk_commonDiffFeatures_adata.uns[leiden_color_key] = sc_commonDiffFeatures_adata.uns[leiden_color_key]"
   ]
  },
  {
   "cell_type": "code",
   "execution_count": null,
   "id": "12b4e874-12ad-43d9-be89-d3d140f07c30",
   "metadata": {},
   "outputs": [],
   "source": [
    "result= scATAcat.projection(prototype_adata=bulk_commonDiffFeatures_adata, pseudobulk_adata=pseudobulk_commonDiffFeatures_adata, prototype_layer_key = \"libsize_norm_log2_std\", pseudobulk_layer_key=\"libsize_norm_log2_bulk_scaled_diff\", color_key=leiden_color_key, pseudobulk_label_font_size =13, prototype_label_font_size = 0, \n",
    "                            prototype_colors = ['#38184C', \"#008F8C\", \"#82018F\",  \"#7ED9B7\", \"#275974\", \"#D46A00\"], pseudobulk_colors =  None, pseudobulk_point_size=200, prototype_point_size=180, pseudobulk_point_alpha=0.8, prototype_point_alpha=0.7, cmap='twilight_shifted', prototype_legend = True, pseudobulk_legend = True, save_path = figures_dir + \"projection.png\")\n"
   ]
  },
  {
   "cell_type": "code",
   "execution_count": null,
   "id": "af157902-2684-45bb-90c9-964204d7f09d",
   "metadata": {},
   "outputs": [],
   "source": [
    "result_noLabel = scATAcat.projection(prototype_adata=bulk_commonDiffFeatures_adata, pseudobulk_adata=pseudobulk_commonDiffFeatures_adata, prototype_layer_key = \"libsize_norm_log2_std\", pseudobulk_layer_key=\"libsize_norm_log2_bulk_scaled_diff\", color_key=leiden_color_key, pseudobulk_label_font_size =0, prototype_label_font_size =0, \n",
    "                            prototype_colors = ['#38184C', \"#008F8C\", \"#82018F\",  \"#7ED9B7\", \"#275974\", \"#D46A00\"], pseudobulk_colors =  None, pseudobulk_point_size=250, prototype_point_size=250, pseudobulk_point_alpha=0.8, prototype_point_alpha=0.7, cmap='twilight_shifted', prototype_legend = True, pseudobulk_legend = True, save_path = figures_dir + \"projection_noLabel.png\")\n"
   ]
  },
  {
   "cell_type": "code",
   "execution_count": null,
   "id": "77c6199b-b1b5-4ca3-bf80-b92a1fa23ed5",
   "metadata": {},
   "outputs": [],
   "source": [
    "result_noLabel_noLegend = scATAcat.projection(prototype_adata=bulk_commonDiffFeatures_adata, pseudobulk_adata=pseudobulk_commonDiffFeatures_adata, prototype_layer_key = \"libsize_norm_log2_std\", pseudobulk_layer_key=\"libsize_norm_log2_bulk_scaled_diff\", color_key=leiden_color_key, pseudobulk_label_font_size =0, prototype_label_font_size =0, \n",
    "                            prototype_colors = ['#38184C', \"#008F8C\", \"#82018F\",  \"#7ED9B7\", \"#275974\", \"#D46A00\"], pseudobulk_colors =  None, pseudobulk_point_size=250, prototype_point_size=250, pseudobulk_point_alpha=0.8, prototype_point_alpha=0.7, cmap='twilight_shifted', prototype_legend = False, pseudobulk_legend = False, save_path = figures_dir + \"projection_noLabel_noLegend.png\")\n"
   ]
  },
  {
   "cell_type": "markdown",
   "id": "fe5042d4-ee1c-4feb-9f1a-1831930b011b",
   "metadata": {
    "tags": []
   },
   "source": [
    "### 14 - Assign annotations to clusters\n"
   ]
  },
  {
   "cell_type": "code",
   "execution_count": null,
   "id": "76ac6428-8542-437b-9890-f053dd59af01",
   "metadata": {
    "tags": []
   },
   "outputs": [],
   "source": [
    "heatmap = scATAcat.plot_pca_dist_heatmap(result[1],result[2])"
   ]
  },
  {
   "cell_type": "code",
   "execution_count": null,
   "id": "52d82166-176d-426a-9fa3-26699937a007",
   "metadata": {
    "tags": []
   },
   "outputs": [],
   "source": [
    "centroid_heatmap =  scATAcat.plot_pca_dist_cent_heatmap(result[1],result[2])\n"
   ]
  },
  {
   "cell_type": "code",
   "execution_count": null,
   "id": "3853b51e-686d-4d38-bce8-ea99e9a46135",
   "metadata": {
    "tags": []
   },
   "outputs": [],
   "source": [
    "heatmap[0].savefig(figures_dir +\"/heatmap.png\") \n",
    "centroid_heatmap[0].savefig(figures_dir +\"/centroid_heatmap.png\") \n"
   ]
  },
  {
   "cell_type": "code",
   "execution_count": null,
   "id": "45847d79-4cb3-43d0-8fd8-9034b7e6c41b",
   "metadata": {
    "tags": []
   },
   "outputs": [],
   "source": [
    "scATAcat.get_closest_prototype_to_pseudobulk(centroid_heatmap[1])"
   ]
  },
  {
   "cell_type": "code",
   "execution_count": null,
   "id": "e35b3d71-51df-4c42-a173-66ec41fbfc8d",
   "metadata": {
    "tags": []
   },
   "outputs": [],
   "source": [
    "clusterID_prediction_dict = scATAcat.get_closest_prototype_to_pseudobulk(centroid_heatmap[1])\n",
    "clusterID_prediction_dict"
   ]
  },
  {
   "cell_type": "code",
   "execution_count": null,
   "id": "9615d6a9-b7a1-4254-9e53-b866f912692e",
   "metadata": {},
   "outputs": [],
   "source": [
    "perc_df"
   ]
  },
  {
   "cell_type": "code",
   "execution_count": null,
   "id": "fcb2106e-efaa-431f-9893-4144a22bf473",
   "metadata": {},
   "outputs": [],
   "source": [
    "perc_df = scATAcat.get_pseudobulk_to_prototype_distance(centroid_heatmap[1], pbulk_to_prototype=True)"
   ]
  },
  {
   "cell_type": "code",
   "execution_count": null,
   "id": "37157a81-cb64-4918-898c-5e697ed4951a",
   "metadata": {},
   "outputs": [],
   "source": [
    "cluster_to_pseudobulk_heatmap_plot = sns.clustermap(scATAcat.get_pseudobulk_to_prototype_distance(centroid_heatmap[1], pbulk_to_prototype=True).T,yticklabels=True,xticklabels=True, cmap=\"Blues\")"
   ]
  },
  {
   "cell_type": "code",
   "execution_count": null,
   "id": "c41c8724-ce20-420c-8e4b-8033fe12dc17",
   "metadata": {},
   "outputs": [],
   "source": [
    "cluster_to_pseudobulk_heatmap_plot.savefig(figures_dir+\"/cluster_to_pseudobulk_heatmap_plot.png\") \n"
   ]
  },
  {
   "cell_type": "code",
   "execution_count": null,
   "id": "09c3dfd0-9692-47a3-8092-da9e36b36a9f",
   "metadata": {},
   "outputs": [],
   "source": [
    "cluster_to_pseudobulk_heatmap_plot.savefig(figures_dir+\"/cluster_to_pseudobulk_heatmap_plot.svg\") \n"
   ]
  },
  {
   "cell_type": "markdown",
   "id": "9e6125b6-5624-47a9-8f28-956ca0509f10",
   "metadata": {},
   "source": [
    "### 15- Post hoc analysis"
   ]
  },
  {
   "cell_type": "code",
   "execution_count": null,
   "id": "4f0ca77c-8d19-46b9-8ef1-87e144656afb",
   "metadata": {
    "tags": []
   },
   "outputs": [],
   "source": [
    "cell_cluster_assignments_with_predictions = copy.deepcopy(cell_cluster_assignments)"
   ]
  },
  {
   "cell_type": "markdown",
   "id": "d31c1f5e-1b45-4ba1-931e-23f12fed81cc",
   "metadata": {},
   "source": [
    "#### match the clusterID with predicted cell type"
   ]
  },
  {
   "cell_type": "code",
   "execution_count": null,
   "id": "6be9ee3f-e5d0-4c57-9c7d-22276c0a3d62",
   "metadata": {
    "tags": []
   },
   "outputs": [],
   "source": [
    "# convert the cell id column to character \n",
    "cell_cluster_assignments_with_predictions[leiden_key] = cell_cluster_assignments_with_predictions[leiden_key].astype(str)"
   ]
  },
  {
   "cell_type": "code",
   "execution_count": null,
   "id": "27cf180d-be7f-40be-acb1-73461fb27f38",
   "metadata": {
    "tags": []
   },
   "outputs": [],
   "source": [
    "cell_cluster_assignments_with_predictions.head()"
   ]
  },
  {
   "cell_type": "code",
   "execution_count": null,
   "id": "75ee3db7-e871-4d2d-992c-9dc450af96fd",
   "metadata": {
    "tags": []
   },
   "outputs": [],
   "source": [
    "# refortmat the dict suct that it mactes the clust ID col\n",
    "clusterID_prediction_dict_edited = dict((''.join(filter(str.isdigit, key)), value) for (key, value) in clusterID_prediction_dict.items())\n",
    "clusterID_prediction_dict_edited"
   ]
  },
  {
   "cell_type": "code",
   "execution_count": null,
   "id": "b53c8ac1-c4d6-4304-9e63-93779ce7f195",
   "metadata": {
    "tags": []
   },
   "outputs": [],
   "source": [
    "cell_cluster_assignments_with_predictions['scATAcat_annotation'] = cell_cluster_assignments_with_predictions[leiden_key].map(clusterID_prediction_dict_edited)"
   ]
  },
  {
   "cell_type": "code",
   "execution_count": null,
   "id": "ab3de135-d66e-4235-b548-f08a784b4768",
   "metadata": {
    "tags": []
   },
   "outputs": [],
   "source": [
    "cell_cluster_assignments_with_predictions['cell_IDs'] = cell_cluster_assignments_with_predictions.index"
   ]
  },
  {
   "cell_type": "code",
   "execution_count": null,
   "id": "e4de3b6d-49cb-4d4c-b9d7-c86687525b38",
   "metadata": {},
   "outputs": [],
   "source": [
    "cell_cluster_assignments_with_predictions.to_csv(output_dir +\"/scATAcat_annotations.csv\")"
   ]
  },
  {
   "cell_type": "markdown",
   "id": "69043937-7d87-48ec-8793-852fab102cd6",
   "metadata": {},
   "source": [
    "## export AnnData object"
   ]
  },
  {
   "cell_type": "code",
   "execution_count": null,
   "id": "ed1bc5d5-9a57-4171-b4e5-ca18cdee0f94",
   "metadata": {},
   "outputs": [],
   "source": [
    "\n",
    "with open(output_dir +'/sc_commonDiffFeatures_adata.pkl', 'wb') as f:\n",
    "    pickle.dump(sc_commonDiffFeatures_adata, f)"
   ]
  },
  {
   "cell_type": "code",
   "execution_count": null,
   "id": "8d8db88e-5951-4441-abcb-dc51be662d1d",
   "metadata": {},
   "outputs": [],
   "source": [
    "cell_cluster_assignments.to_csv(output_dir +\"cell_cluster_assignments.csv\")"
   ]
  }
 ],
 "metadata": {
  "kernelspec": {
   "display_name": "scATAcat_reproducibility_env",
   "language": "python",
   "name": "scatacat_reproducibility_env"
  },
  "language_info": {
   "codemirror_mode": {
    "name": "ipython",
    "version": 3
   },
   "file_extension": ".py",
   "mimetype": "text/x-python",
   "name": "python",
   "nbconvert_exporter": "python",
   "pygments_lexer": "ipython3",
   "version": "3.10.10"
  },
  "widgets": {
   "application/vnd.jupyter.widget-state+json": {
    "state": {},
    "version_major": 2,
    "version_minor": 0
   }
  }
 },
 "nbformat": 4,
 "nbformat_minor": 5
}
