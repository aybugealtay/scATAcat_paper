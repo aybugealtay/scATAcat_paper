{
 "cells": [
  {
   "cell_type": "code",
   "execution_count": 1,
   "id": "b25136b5-8524-4ad3-a6ab-66d51ff3f4f8",
   "metadata": {},
   "outputs": [],
   "source": [
    "import pandas as pd\n",
    "import numpy as np\n",
    "import statistics\n",
    "import sklearn.metrics\n",
    "import warnings\n",
    "import matplotlib\n",
    "import matplotlib.pyplot as plt\n",
    "from matplotlib.colors import LinearSegmentedColormap\n",
    "import os\n",
    "import random as rn\n",
    "warnings.filterwarnings(\"ignore\")"
   ]
  },
  {
   "cell_type": "code",
   "execution_count": 2,
   "id": "8eb1e4be-e029-49cd-9e74-7537dd02b102",
   "metadata": {},
   "outputs": [],
   "source": [
    "def get_accuracy(annotation_df, correct_id_col='real_cellID', predicted_id_col='predicted_cellID'):\n",
    "    num_correct_ann= annotation_df[annotation_df[correct_id_col]==annotation_df[predicted_id_col]].shape[0]\n",
    "    acc=num_correct_ann/annotation_df.shape[0]\n",
    "    return acc"
   ]
  },
  {
   "cell_type": "code",
   "execution_count": 3,
   "id": "302509f9-5e7b-43c1-b896-71c0d1c78a62",
   "metadata": {},
   "outputs": [],
   "source": [
    "def get_balanced_accuracy_verbose(annotation_df, correct_id_col='real_cellID', predicted_id_col='predicted_cellID'):\n",
    "    ann=[]\n",
    "    for cell_type in sorted(set(annotation_df[correct_id_col])):\n",
    "        cell_type_sub = annotation_df[annotation_df[correct_id_col]==cell_type]\n",
    "        print(cell_type)\n",
    "        num_cells =cell_type_sub.shape[0]\n",
    "        print(\"predicted cell ID\")\n",
    "        num_correct_ann = cell_type_sub[cell_type_sub[predicted_id_col]==cell_type].shape[0]\n",
    "        #print(cell_type_sub.predicted_cellID.value_counts())\n",
    "        perc=(num_correct_ann/num_cells)\n",
    "        print(perc)\n",
    "        ann.append(perc)\n",
    "    balanced_accuracy= np.sum(ann)/len(ann)\n",
    "    print(\"balanced accuracy:\")\n",
    "    print(balanced_accuracy)\n",
    "    return balanced_accuracy"
   ]
  },
  {
   "cell_type": "code",
   "execution_count": 4,
   "id": "b3c39aec-94cd-4148-908a-dbe94a0e7fe2",
   "metadata": {},
   "outputs": [],
   "source": [
    "def get_balanced_accuracy(annotation_df, correct_id_col='real_cellID', predicted_id_col='predicted_cellID'):\n",
    "    ann=[]\n",
    "    for cell_type in sorted(set(annotation_df[correct_id_col])):\n",
    "        cell_type_sub = annotation_df[annotation_df[correct_id_col]==cell_type]\n",
    "        num_cells =cell_type_sub.shape[0]\n",
    "        num_correct_ann = cell_type_sub[cell_type_sub[predicted_id_col]==cell_type].shape[0]\n",
    "        #print(cell_type_sub.predicted_cellID.value_counts())\n",
    "        perc=(num_correct_ann/num_cells)\n",
    "        ann.append(perc)\n",
    "    balanced_accuracy= np.sum(ann)/len(ann)\n",
    "    return balanced_accuracy"
   ]
  },
  {
   "cell_type": "code",
   "execution_count": 5,
   "id": "070c2dc2-8343-4ca3-bf30-89e4b6da9e65",
   "metadata": {},
   "outputs": [],
   "source": [
    "def get_cluster_accuracy(annotation_df, cluster_id_column ='clust',correct_id_col='real_cellID', predicted_id_col='predicted_cellID'):\n",
    "    correc_ann_counter=0\n",
    "    annotation_df = annotation_df.groupby(cluster_id_column).filter(lambda x: len(x) > 10)\n",
    "    cluster_ids =sorted(set(annotation_df[cluster_id_column]))\n",
    "    for cluster_id in cluster_ids:\n",
    "        cluster_sub = annotation_df[annotation_df[cluster_id_column]==cluster_id]   \n",
    "        clust_real_id_counts = cluster_sub[correct_id_col].value_counts()\n",
    "        # sort fist by number then by index, then get the cell type with the highest occurance. This takes care of ties\n",
    "        clust_real_id = clust_real_id_counts.iloc[np.lexsort((clust_real_id_counts.index, -clust_real_id_counts.values))].index[0]\n",
    "        clust_predicted_id_counts = cluster_sub[predicted_id_col].value_counts()\n",
    "        # sort fist by number then by index, then get the cell type with the highest occurance. This takes care of ties\n",
    "        clust_predicted_id = clust_predicted_id_counts.iloc[np.lexsort((clust_predicted_id_counts.index, -clust_predicted_id_counts.values))].index[0]\n",
    "        if clust_real_id == clust_predicted_id:\n",
    "            correc_ann_counter += 1\n",
    "        else:\n",
    "            continue\n",
    "    clust_accuracy= correc_ann_counter/len(cluster_ids)\n",
    "    return clust_accuracy"
   ]
  },
  {
   "cell_type": "code",
   "execution_count": 6,
   "id": "bbe2cebd-25e6-4229-98f1-fbb567481b50",
   "metadata": {},
   "outputs": [],
   "source": [
    "def get_cohens_kappa_score(annotation_df, correct_id_col='real_cellID', predicted_id_col='predicted_cellID'):\n",
    "    cohens_kappa_score= sklearn.metrics.cohen_kappa_score(annotation_df[correct_id_col],annotation_df[predicted_id_col])\n",
    "    return(cohens_kappa_score)"
   ]
  },
  {
   "cell_type": "code",
   "execution_count": 7,
   "id": "3a39c70f-46b2-4a4f-95fe-777c166244dd",
   "metadata": {},
   "outputs": [],
   "source": [
    "def get_F1_score(annotation_df, correct_id_col='real_cellID', predicted_id_col='predicted_cellID'):\n",
    "    F1_list=[]\n",
    "    for cell_type in sorted(set(annotation_df[correct_id_col])):\n",
    "        # subset dataframe to the cell-type of interest \n",
    "        # then convert df labels to binary classification tasks\n",
    "        cell_type_sub = annotation_df[(annotation_df[correct_id_col]==cell_type) | (annotation_df[predicted_id_col]==cell_type)]\n",
    "        #cell_type_sub = cell_type_sub[[correct_id_col, predicted_id_col]]\n",
    "        cell_type_sub[correct_id_col] = cell_type_sub[correct_id_col].where(cell_type_sub[correct_id_col].isin([cell_type]), 'other')\n",
    "        cell_type_sub[predicted_id_col] = cell_type_sub[predicted_id_col].where(cell_type_sub[predicted_id_col].isin([cell_type]), 'other')\n",
    "        F1_cell_type = sklearn.metrics.f1_score(cell_type_sub[correct_id_col], cell_type_sub[predicted_id_col], pos_label = cell_type)\n",
    "        F1_list.append(F1_cell_type)\n",
    "    return(F1_list)"
   ]
  },
  {
   "cell_type": "code",
   "execution_count": 8,
   "id": "01efb650-ab57-4c68-bd42-4b4d20574d21",
   "metadata": {},
   "outputs": [],
   "source": [
    "def get_macroF1_score(annotation_df, correct_id_col='real_cellID', predicted_id_col='predicted_cellID', label_list=None):\n",
    "    if label_list ==None:\n",
    "        label_list  = annotation_df[correct_id_col].value_counts().index   \n",
    "    macroF1_score = sklearn.metrics.f1_score(annotation_df[correct_id_col], annotation_df[predicted_id_col],average='macro', labels=label_list)\n",
    "    return(macroF1_score)\n"
   ]
  },
  {
   "cell_type": "code",
   "execution_count": 9,
   "id": "5bc5cca4-0b02-47ad-a3c7-6966e5cec224",
   "metadata": {},
   "outputs": [],
   "source": [
    "def get_medianF1_score(annotation_df, correct_id_col='real_cellID', predicted_id_col='predicted_cellID'):\n",
    "    F1_scores = get_F1_score(annotation_df, correct_id_col=correct_id_col, predicted_id_col=predicted_id_col)\n",
    "    medianF1_score = statistics.median(F1_scores)\n",
    "    return(medianF1_score)"
   ]
  },
  {
   "cell_type": "code",
   "execution_count": 10,
   "id": "e16eb27e-2658-456d-88bd-6eebc289f3ab",
   "metadata": {},
   "outputs": [],
   "source": [
    "def get_precision_score(annotation_df, correct_id_col='real_cellID', predicted_id_col='predicted_cellID'):\n",
    "    precision_list=[]\n",
    "    for cell_type in sorted(set(annotation_df[correct_id_col])):\n",
    "        # subset dataframe to the cell-type of interest\n",
    "        cell_type_sub = annotation_df[(annotation_df[correct_id_col]==cell_type) | (annotation_df[predicted_id_col]==cell_type)]\n",
    "        cell_type_sub[correct_id_col] = cell_type_sub[correct_id_col].where(cell_type_sub[correct_id_col].isin([cell_type]), 'other')\n",
    "        cell_type_sub[predicted_id_col] = cell_type_sub[predicted_id_col].where(cell_type_sub[predicted_id_col].isin([cell_type]), 'other')\n",
    "        precision_cell_type = sklearn.metrics.precision_score(cell_type_sub[correct_id_col], cell_type_sub[predicted_id_col], pos_label = cell_type)\n",
    "        precision_list.append(precision_cell_type)\n",
    "    return(precision_list)"
   ]
  },
  {
   "cell_type": "code",
   "execution_count": 11,
   "id": "110d53f3-23d1-42e4-9ff4-155cd106be11",
   "metadata": {},
   "outputs": [],
   "source": [
    "def get_medianPrecision_score(annotation_df, correct_id_col='real_cellID', predicted_id_col='predicted_cellID'):\n",
    "    precision_scores = get_precision_score(annotation_df, correct_id_col=correct_id_col, predicted_id_col=predicted_id_col)\n",
    "    medianPrecision_score = statistics.median(precision_scores)\n",
    "    return(medianPrecision_score)"
   ]
  },
  {
   "cell_type": "code",
   "execution_count": 12,
   "id": "74fdac95-4ef3-4ccf-9700-342c4b4dc9ca",
   "metadata": {},
   "outputs": [],
   "source": [
    "def get_recall_score(annotation_df, correct_id_col='real_cellID', predicted_id_col='predicted_cellID'):\n",
    "    recall_list=[]\n",
    "    for cell_type in sorted(set(annotation_df[correct_id_col])):\n",
    "        # subset dataframe to the cell-type of interest\n",
    "        cell_type_sub = annotation_df[(annotation_df[correct_id_col]==cell_type) | (annotation_df[predicted_id_col]==cell_type)]\n",
    "        cell_type_sub[correct_id_col] = cell_type_sub[correct_id_col].where(cell_type_sub[correct_id_col].isin([cell_type]), 'other')\n",
    "        cell_type_sub[predicted_id_col] = cell_type_sub[predicted_id_col].where(cell_type_sub[predicted_id_col].isin([cell_type]), 'other')\n",
    "        recall_cell_type = sklearn.metrics.recall_score(cell_type_sub[correct_id_col], cell_type_sub[predicted_id_col], pos_label = cell_type)\n",
    "        recall_list.append(recall_cell_type)\n",
    "    return(recall_list)"
   ]
  },
  {
   "cell_type": "code",
   "execution_count": 13,
   "id": "a7b25836-d1e7-4703-ba76-5ebd7648ad92",
   "metadata": {},
   "outputs": [],
   "source": [
    "def get_medianRecall_score(annotation_df, correct_id_col='real_cellID', predicted_id_col='predicted_cellID'):\n",
    "    recall_scores = get_recall_score(annotation_df, correct_id_col=correct_id_col, predicted_id_col=predicted_id_col)\n",
    "    medianPrecision_score = statistics.median(recall_scores)\n",
    "    return(medianPrecision_score)"
   ]
  },
  {
   "cell_type": "code",
   "execution_count": 14,
   "id": "053a0c25-5a97-48e1-923e-ab93fd3907c9",
   "metadata": {},
   "outputs": [],
   "source": [
    "def get_adjusted_rand_score(annotation_df, correct_id_col='real_cellID', predicted_id_col='predicted_cellID'):\n",
    "    adjusted_rand_score= sklearn.metrics.adjusted_rand_score(annotation_df[correct_id_col],annotation_df[predicted_id_col])\n",
    "    return(adjusted_rand_score)"
   ]
  },
  {
   "cell_type": "code",
   "execution_count": 15,
   "id": "56edfc68-738a-4639-920f-fe857a41bba6",
   "metadata": {},
   "outputs": [],
   "source": [
    "def get_mathews_corr_coef_score(annotation_df, correct_id_col='real_cellID', predicted_id_col='predicted_cellID'):\n",
    "    matthews_corrcoef_score= sklearn.metrics.matthews_corrcoef(annotation_df[correct_id_col],annotation_df[predicted_id_col])\n",
    "    return(matthews_corrcoef_score)"
   ]
  },
  {
   "cell_type": "code",
   "execution_count": 16,
   "id": "a15e48b0-eb1d-48cc-89d7-be4ffd7228f8",
   "metadata": {},
   "outputs": [],
   "source": [
    "def get_common_cells(*dataframes):\n",
    "    df_cell_list = [v.index for v in dataframes]\n",
    "    common_cells= list(set.intersection(*map(set,df_cell_list)))\n",
    "    return(common_cells)"
   ]
  },
  {
   "cell_type": "code",
   "execution_count": 17,
   "id": "d416de1f-f9da-4935-8b51-0a315b38fbf0",
   "metadata": {},
   "outputs": [],
   "source": [
    "def get_combined_annotations_df_for_common_cells(*frames, common_cells, cell_ID_column = \"cell_IDs\"):\n",
    "    if not frames:\n",
    "        return None\n",
    "    if len(frames) == 1:\n",
    "        return frames[0]\n",
    "    out = frames[0]\n",
    "    out = out.loc[common_cells,]\n",
    "    for df in frames[1:]:\n",
    "        out = out.merge(df.loc[common_cells,], on=cell_ID_column)\n",
    "    return out"
   ]
  },
  {
   "cell_type": "code",
   "execution_count": 18,
   "id": "2639b9ed-a2ff-414e-bcb9-5d1ffff8b675",
   "metadata": {},
   "outputs": [],
   "source": [
    "def plot_performance_metrics(df , colors=None, labels = None, y_min = 0.0, frame_color = 'gray', frame_width = 0.5, x_label_rotation = 45, tick_size = 14,legend_fontsize = 12,\n",
    "                            legend_labels = None, legend_loc = 'upper center', legend_bbox_to_anchor=(0.5, -0.2), legend_ncol=4, save=False, save_path=None):\n",
    "\n",
    "    # Default values\n",
    "    default_colors = ['#5E0B8A', '#00A7E1', '#BDDA57', '#FF8C00']\n",
    "    default_labels = ['accuracy', 'balanced \\naccuracy','cluster \\naccuracy', 'macro \\nF1', 'median \\nF1',\n",
    "                      'median \\nprecision', 'median \\nrecall','MCC', 'ARI', \"Cohen's \\nkappa\"]\n",
    "    default_legend_labels =['scATAcat', 'Seurat label transfer', 'Cellcano', 'EpiAnno']\n",
    "\n",
    "    # Use default if None is passed\n",
    "    colors = default_colors if colors is None else colors\n",
    "    labels = default_labels if labels is None else labels\n",
    "    legend_labels = default_legend_labels if legend_labels is None else legend_labels\n",
    "  \n",
    "    df.columns = labels\n",
    "    df.index = legend_labels\n",
    "    \n",
    "    matplotlib.rcParams['pdf.fonttype'] = 42\n",
    "    matplotlib.rcParams['ps.fonttype'] = 42\n",
    "\n",
    "    n_bins = 100  # Increase this number for a smoother gradient\n",
    "    cmap = LinearSegmentedColormap.from_list('custom_cmap', colors, N=n_bins)\n",
    "    ax = df.T.plot(kind='bar', figsize=(15, 10), legend=True, fontsize=12, colormap=cmap)\n",
    "    ax.set_ylim(ymin=y_min)\n",
    "    # Change plot frame to gray and adjust linewidth\n",
    "    spine_color = 'gray'\n",
    "    linewidth = frame_width # Adjust the linewidth as needed\n",
    "    for spine in ax.spines.values():\n",
    "        spine.set_color(spine_color)\n",
    "        spine.set_linewidth(linewidth)\n",
    "    ax.legend(legend_labels,fontsize=legend_fontsize, loc=legend_loc, bbox_to_anchor=legend_bbox_to_anchor,\n",
    "          fancybox=False, shadow=False, ncol=legend_ncol, frameon=False)\n",
    "    plt.xticks(rotation=x_label_rotation)\n",
    "    plt.tick_params(axis='both', which='major', labelsize=tick_size)\n",
    "\n",
    "    if save == False:\n",
    "        plt.show()\n",
    "    else:\n",
    "        if save_path == None:\n",
    "            print(\"specify the save_path directory\")\n",
    "        else:\n",
    "            plt.savefig(save_path, bbox_inches='tight', transparent=True)"
   ]
  },
  {
   "cell_type": "code",
   "execution_count": 19,
   "id": "f937ff76-5885-4d09-87fd-a31a39bd70f2",
   "metadata": {},
   "outputs": [],
   "source": [
    "paper_metadata = pd.read_csv(\"../../../data/Morabito2021_brainCortex_snATAC/05_cell_annotations/cell_type_annotations.csv\", index_col=0,)"
   ]
  },
  {
   "cell_type": "code",
   "execution_count": 20,
   "id": "c63e3f40-774c-4407-bd2c-fcc500daac78",
   "metadata": {},
   "outputs": [],
   "source": [
    "paper_metadata.index=paper_metadata['Barcode']\n",
    "paper_metadata = paper_metadata[[\"Barcode\", \"Cell.Type\"]]\n",
    "paper_metadata.index.name = None\n",
    "paper_metadata.columns = [\"cell_IDs\", \"cell_type\"]"
   ]
  },
  {
   "cell_type": "code",
   "execution_count": 21,
   "id": "41a866cc-2f23-4c8d-b727-899a247cf651",
   "metadata": {},
   "outputs": [
    {
     "data": {
      "text/html": [
       "<div>\n",
       "<style scoped>\n",
       "    .dataframe tbody tr th:only-of-type {\n",
       "        vertical-align: middle;\n",
       "    }\n",
       "\n",
       "    .dataframe tbody tr th {\n",
       "        vertical-align: top;\n",
       "    }\n",
       "\n",
       "    .dataframe thead th {\n",
       "        text-align: right;\n",
       "    }\n",
       "</style>\n",
       "<table border=\"1\" class=\"dataframe\">\n",
       "  <thead>\n",
       "    <tr style=\"text-align: right;\">\n",
       "      <th></th>\n",
       "      <th>cell_IDs</th>\n",
       "      <th>cell_type</th>\n",
       "    </tr>\n",
       "  </thead>\n",
       "  <tbody>\n",
       "    <tr>\n",
       "      <th>AAACGAAAGACGACTG-1</th>\n",
       "      <td>AAACGAAAGACGACTG-1</td>\n",
       "      <td>ODC</td>\n",
       "    </tr>\n",
       "    <tr>\n",
       "      <th>AAACGAAAGAGACTCG-1</th>\n",
       "      <td>AAACGAAAGAGACTCG-1</td>\n",
       "      <td>EX</td>\n",
       "    </tr>\n",
       "    <tr>\n",
       "      <th>AAACGAAAGATCACCT-1</th>\n",
       "      <td>AAACGAAAGATCACCT-1</td>\n",
       "      <td>ODC</td>\n",
       "    </tr>\n",
       "    <tr>\n",
       "      <th>AAACGAAAGGGAAATG-1</th>\n",
       "      <td>AAACGAAAGGGAAATG-1</td>\n",
       "      <td>ODC</td>\n",
       "    </tr>\n",
       "    <tr>\n",
       "      <th>AAACGAAAGGTCGGTA-1</th>\n",
       "      <td>AAACGAAAGGTCGGTA-1</td>\n",
       "      <td>ODC</td>\n",
       "    </tr>\n",
       "    <tr>\n",
       "      <th>...</th>\n",
       "      <td>...</td>\n",
       "      <td>...</td>\n",
       "    </tr>\n",
       "    <tr>\n",
       "      <th>TTTGTGTGTGGATTTC-1</th>\n",
       "      <td>TTTGTGTGTGGATTTC-1</td>\n",
       "      <td>ODC</td>\n",
       "    </tr>\n",
       "    <tr>\n",
       "      <th>TTTGTGTTCACGTGTA-1</th>\n",
       "      <td>TTTGTGTTCACGTGTA-1</td>\n",
       "      <td>MG</td>\n",
       "    </tr>\n",
       "    <tr>\n",
       "      <th>TTTGTGTTCGTGGAAG-1</th>\n",
       "      <td>TTTGTGTTCGTGGAAG-1</td>\n",
       "      <td>ODC</td>\n",
       "    </tr>\n",
       "    <tr>\n",
       "      <th>TTTGTGTTCTAGCAGT-1</th>\n",
       "      <td>TTTGTGTTCTAGCAGT-1</td>\n",
       "      <td>ASC</td>\n",
       "    </tr>\n",
       "    <tr>\n",
       "      <th>TTTGTGTTCTTATCAC-1</th>\n",
       "      <td>TTTGTGTTCTTATCAC-1</td>\n",
       "      <td>ODC</td>\n",
       "    </tr>\n",
       "  </tbody>\n",
       "</table>\n",
       "<p>5932 rows × 2 columns</p>\n",
       "</div>"
      ],
      "text/plain": [
       "                              cell_IDs cell_type\n",
       "AAACGAAAGACGACTG-1  AAACGAAAGACGACTG-1       ODC\n",
       "AAACGAAAGAGACTCG-1  AAACGAAAGAGACTCG-1        EX\n",
       "AAACGAAAGATCACCT-1  AAACGAAAGATCACCT-1       ODC\n",
       "AAACGAAAGGGAAATG-1  AAACGAAAGGGAAATG-1       ODC\n",
       "AAACGAAAGGTCGGTA-1  AAACGAAAGGTCGGTA-1       ODC\n",
       "...                                ...       ...\n",
       "TTTGTGTGTGGATTTC-1  TTTGTGTGTGGATTTC-1       ODC\n",
       "TTTGTGTTCACGTGTA-1  TTTGTGTTCACGTGTA-1        MG\n",
       "TTTGTGTTCGTGGAAG-1  TTTGTGTTCGTGGAAG-1       ODC\n",
       "TTTGTGTTCTAGCAGT-1  TTTGTGTTCTAGCAGT-1       ASC\n",
       "TTTGTGTTCTTATCAC-1  TTTGTGTTCTTATCAC-1       ODC\n",
       "\n",
       "[5932 rows x 2 columns]"
      ]
     },
     "execution_count": 21,
     "metadata": {},
     "output_type": "execute_result"
    }
   ],
   "source": [
    "paper_metadata"
   ]
  },
  {
   "cell_type": "code",
   "execution_count": 22,
   "id": "64bd0e18-43cc-426e-829f-ba17fe6c80df",
   "metadata": {},
   "outputs": [
    {
     "data": {
      "text/plain": [
       "array(['ODC', 'EX', 'MG', 'ASC', 'PER.END', 'INH', 'OPC'], dtype=object)"
      ]
     },
     "execution_count": 22,
     "metadata": {},
     "output_type": "execute_result"
    }
   ],
   "source": [
    "paper_metadata['cell_type'].unique()"
   ]
  },
  {
   "cell_type": "markdown",
   "id": "1b2a64f7-f2dd-42a6-9c6a-2b4b73360508",
   "metadata": {},
   "source": [
    "from paper: \n",
    "ASC, astrocytes; EX, excitatory neurons; INH, inhibitory neurons; MG, microglia; ODC, oligodendrocytes; OPC, oligodendrocyte progenitor cells; PER/END, pericytes/endothelial cells"
   ]
  },
  {
   "cell_type": "code",
   "execution_count": 23,
   "id": "63d7c73f-4a5d-4dd7-b99b-4d6b4fae0d8d",
   "metadata": {},
   "outputs": [],
   "source": [
    "paper_metadata_rename_dict = {\"ODC\":\"OLIG\",\n",
    "                              \"INH\":\"GABA\",\n",
    "                              \"EX\":\"GLU\",\n",
    "                              \"ASC\":\"MGAS\",\n",
    "                              \"OPC\":\"OLIG\",\n",
    "                              \"MG\":\"MGAS\",  \n",
    "                              \"PER.END\":\"PER/END\"}"
   ]
  },
  {
   "cell_type": "code",
   "execution_count": 24,
   "id": "6f359aa0-ff38-4962-b388-e87d3d2ba335",
   "metadata": {},
   "outputs": [
    {
     "data": {
      "text/plain": [
       "{'ODC': 'OLIG',\n",
       " 'INH': 'GABA',\n",
       " 'EX': 'GLU',\n",
       " 'ASC': 'MGAS',\n",
       " 'OPC': 'OLIG',\n",
       " 'MG': 'MGAS',\n",
       " 'PER.END': 'PER/END'}"
      ]
     },
     "execution_count": 24,
     "metadata": {},
     "output_type": "execute_result"
    }
   ],
   "source": [
    "paper_metadata_rename_dict\n"
   ]
  },
  {
   "cell_type": "code",
   "execution_count": 25,
   "id": "ca901edf-07eb-4e13-ada2-13f9c9f193dc",
   "metadata": {},
   "outputs": [
    {
     "data": {
      "text/html": [
       "<div>\n",
       "<style scoped>\n",
       "    .dataframe tbody tr th:only-of-type {\n",
       "        vertical-align: middle;\n",
       "    }\n",
       "\n",
       "    .dataframe tbody tr th {\n",
       "        vertical-align: top;\n",
       "    }\n",
       "\n",
       "    .dataframe thead th {\n",
       "        text-align: right;\n",
       "    }\n",
       "</style>\n",
       "<table border=\"1\" class=\"dataframe\">\n",
       "  <thead>\n",
       "    <tr style=\"text-align: right;\">\n",
       "      <th></th>\n",
       "      <th>cell_IDs</th>\n",
       "      <th>ground_truth_annotations</th>\n",
       "      <th>ground_truth_annotations_simplified</th>\n",
       "    </tr>\n",
       "  </thead>\n",
       "  <tbody>\n",
       "    <tr>\n",
       "      <th>AAACGAAAGACGACTG-1</th>\n",
       "      <td>AAACGAAAGACGACTG-1</td>\n",
       "      <td>ODC</td>\n",
       "      <td>OLIG</td>\n",
       "    </tr>\n",
       "    <tr>\n",
       "      <th>AAACGAAAGAGACTCG-1</th>\n",
       "      <td>AAACGAAAGAGACTCG-1</td>\n",
       "      <td>EX</td>\n",
       "      <td>GLU</td>\n",
       "    </tr>\n",
       "    <tr>\n",
       "      <th>AAACGAAAGATCACCT-1</th>\n",
       "      <td>AAACGAAAGATCACCT-1</td>\n",
       "      <td>ODC</td>\n",
       "      <td>OLIG</td>\n",
       "    </tr>\n",
       "    <tr>\n",
       "      <th>AAACGAAAGGGAAATG-1</th>\n",
       "      <td>AAACGAAAGGGAAATG-1</td>\n",
       "      <td>ODC</td>\n",
       "      <td>OLIG</td>\n",
       "    </tr>\n",
       "    <tr>\n",
       "      <th>AAACGAAAGGTCGGTA-1</th>\n",
       "      <td>AAACGAAAGGTCGGTA-1</td>\n",
       "      <td>ODC</td>\n",
       "      <td>OLIG</td>\n",
       "    </tr>\n",
       "    <tr>\n",
       "      <th>...</th>\n",
       "      <td>...</td>\n",
       "      <td>...</td>\n",
       "      <td>...</td>\n",
       "    </tr>\n",
       "    <tr>\n",
       "      <th>TTTGTGTGTGGATTTC-1</th>\n",
       "      <td>TTTGTGTGTGGATTTC-1</td>\n",
       "      <td>ODC</td>\n",
       "      <td>OLIG</td>\n",
       "    </tr>\n",
       "    <tr>\n",
       "      <th>TTTGTGTTCACGTGTA-1</th>\n",
       "      <td>TTTGTGTTCACGTGTA-1</td>\n",
       "      <td>MG</td>\n",
       "      <td>MGAS</td>\n",
       "    </tr>\n",
       "    <tr>\n",
       "      <th>TTTGTGTTCGTGGAAG-1</th>\n",
       "      <td>TTTGTGTTCGTGGAAG-1</td>\n",
       "      <td>ODC</td>\n",
       "      <td>OLIG</td>\n",
       "    </tr>\n",
       "    <tr>\n",
       "      <th>TTTGTGTTCTAGCAGT-1</th>\n",
       "      <td>TTTGTGTTCTAGCAGT-1</td>\n",
       "      <td>ASC</td>\n",
       "      <td>MGAS</td>\n",
       "    </tr>\n",
       "    <tr>\n",
       "      <th>TTTGTGTTCTTATCAC-1</th>\n",
       "      <td>TTTGTGTTCTTATCAC-1</td>\n",
       "      <td>ODC</td>\n",
       "      <td>OLIG</td>\n",
       "    </tr>\n",
       "  </tbody>\n",
       "</table>\n",
       "<p>5932 rows × 3 columns</p>\n",
       "</div>"
      ],
      "text/plain": [
       "                              cell_IDs ground_truth_annotations  \\\n",
       "AAACGAAAGACGACTG-1  AAACGAAAGACGACTG-1                      ODC   \n",
       "AAACGAAAGAGACTCG-1  AAACGAAAGAGACTCG-1                       EX   \n",
       "AAACGAAAGATCACCT-1  AAACGAAAGATCACCT-1                      ODC   \n",
       "AAACGAAAGGGAAATG-1  AAACGAAAGGGAAATG-1                      ODC   \n",
       "AAACGAAAGGTCGGTA-1  AAACGAAAGGTCGGTA-1                      ODC   \n",
       "...                                ...                      ...   \n",
       "TTTGTGTGTGGATTTC-1  TTTGTGTGTGGATTTC-1                      ODC   \n",
       "TTTGTGTTCACGTGTA-1  TTTGTGTTCACGTGTA-1                       MG   \n",
       "TTTGTGTTCGTGGAAG-1  TTTGTGTTCGTGGAAG-1                      ODC   \n",
       "TTTGTGTTCTAGCAGT-1  TTTGTGTTCTAGCAGT-1                      ASC   \n",
       "TTTGTGTTCTTATCAC-1  TTTGTGTTCTTATCAC-1                      ODC   \n",
       "\n",
       "                   ground_truth_annotations_simplified  \n",
       "AAACGAAAGACGACTG-1                                OLIG  \n",
       "AAACGAAAGAGACTCG-1                                 GLU  \n",
       "AAACGAAAGATCACCT-1                                OLIG  \n",
       "AAACGAAAGGGAAATG-1                                OLIG  \n",
       "AAACGAAAGGTCGGTA-1                                OLIG  \n",
       "...                                                ...  \n",
       "TTTGTGTGTGGATTTC-1                                OLIG  \n",
       "TTTGTGTTCACGTGTA-1                                MGAS  \n",
       "TTTGTGTTCGTGGAAG-1                                OLIG  \n",
       "TTTGTGTTCTAGCAGT-1                                MGAS  \n",
       "TTTGTGTTCTTATCAC-1                                OLIG  \n",
       "\n",
       "[5932 rows x 3 columns]"
      ]
     },
     "execution_count": 25,
     "metadata": {},
     "output_type": "execute_result"
    }
   ],
   "source": [
    "paper_metadata['ground_truth_annotations_simplified'] = paper_metadata[\"cell_type\"].replace(paper_metadata_rename_dict)\n",
    "paper_metadata.index.name = None\n",
    "paper_metadata.columns=[\"cell_IDs\", \"ground_truth_annotations\",\"ground_truth_annotations_simplified\" ]\n",
    "paper_metadata"
   ]
  },
  {
   "cell_type": "markdown",
   "id": "d47d5e0b-628e-4dab-8ed3-1d3e30bbe6ae",
   "metadata": {},
   "source": [
    "### seurat annotations"
   ]
  },
  {
   "cell_type": "code",
   "execution_count": 26,
   "id": "602a3cf1-8842-496e-9c0c-d113cd6d934c",
   "metadata": {},
   "outputs": [
    {
     "data": {
      "text/html": [
       "<div>\n",
       "<style scoped>\n",
       "    .dataframe tbody tr th:only-of-type {\n",
       "        vertical-align: middle;\n",
       "    }\n",
       "\n",
       "    .dataframe tbody tr th {\n",
       "        vertical-align: top;\n",
       "    }\n",
       "\n",
       "    .dataframe thead th {\n",
       "        text-align: right;\n",
       "    }\n",
       "</style>\n",
       "<table border=\"1\" class=\"dataframe\">\n",
       "  <thead>\n",
       "    <tr style=\"text-align: right;\">\n",
       "      <th></th>\n",
       "      <th>predicted_cell_type</th>\n",
       "      <th>cell_IDs</th>\n",
       "    </tr>\n",
       "  </thead>\n",
       "  <tbody>\n",
       "    <tr>\n",
       "      <th>AAACGAAAGCAGAGCT-1</th>\n",
       "      <td>Inh</td>\n",
       "      <td>AAACGAAAGCAGAGCT-1</td>\n",
       "    </tr>\n",
       "    <tr>\n",
       "      <th>AAACGAAAGGACCGAT-1</th>\n",
       "      <td>Exc</td>\n",
       "      <td>AAACGAAAGGACCGAT-1</td>\n",
       "    </tr>\n",
       "    <tr>\n",
       "      <th>AAACGAAAGTCGTATC-1</th>\n",
       "      <td>Inh</td>\n",
       "      <td>AAACGAAAGTCGTATC-1</td>\n",
       "    </tr>\n",
       "    <tr>\n",
       "      <th>AAACGAAAGTCTCGAT-1</th>\n",
       "      <td>Inh</td>\n",
       "      <td>AAACGAAAGTCTCGAT-1</td>\n",
       "    </tr>\n",
       "    <tr>\n",
       "      <th>AAACGAAAGTCTGGGA-1</th>\n",
       "      <td>Oligo</td>\n",
       "      <td>AAACGAAAGTCTGGGA-1</td>\n",
       "    </tr>\n",
       "  </tbody>\n",
       "</table>\n",
       "</div>"
      ],
      "text/plain": [
       "                   predicted_cell_type            cell_IDs\n",
       "AAACGAAAGCAGAGCT-1                 Inh  AAACGAAAGCAGAGCT-1\n",
       "AAACGAAAGGACCGAT-1                 Exc  AAACGAAAGGACCGAT-1\n",
       "AAACGAAAGTCGTATC-1                 Inh  AAACGAAAGTCGTATC-1\n",
       "AAACGAAAGTCTCGAT-1                 Inh  AAACGAAAGTCTCGAT-1\n",
       "AAACGAAAGTCTGGGA-1               Oligo  AAACGAAAGTCTGGGA-1"
      ]
     },
     "execution_count": 26,
     "metadata": {},
     "output_type": "execute_result"
    }
   ],
   "source": [
    "seurat_labelTransfer_annotations = pd.read_csv(\"../../../results/Fig8-Corces2020_brain_scATAC/Fig8-apply_seurat_label_transfer/Corces2020_seurat_label_transfer_annotations.csv\", index_col = 0)\n",
    "seurat_labelTransfer_annotations[\"cell_IDs\"] = seurat_labelTransfer_annotations.index\n",
    "seurat_labelTransfer_annotations.head()"
   ]
  },
  {
   "cell_type": "code",
   "execution_count": 27,
   "id": "9b04a5d4-f01b-4470-8c8f-bb39c24f2b00",
   "metadata": {},
   "outputs": [
    {
     "data": {
      "text/plain": [
       "predicted_cell_type\n",
       "Exc      7365\n",
       "Oligo    1888\n",
       "Inh       519\n",
       "Astro     510\n",
       "OPC       490\n",
       "Name: count, dtype: int64"
      ]
     },
     "execution_count": 27,
     "metadata": {},
     "output_type": "execute_result"
    }
   ],
   "source": [
    "seurat_labelTransfer_annotations.predicted_cell_type.value_counts()"
   ]
  },
  {
   "cell_type": "code",
   "execution_count": 28,
   "id": "0e916dda-edb8-433c-9004-5bb7c54bbb31",
   "metadata": {},
   "outputs": [],
   "source": [
    "seurat_annotations_and_simplified_dict = {\"Oligo\":\"OLIG\",\n",
    "                              \"Inh\":\"GABA\",\n",
    "                              \"Microglia\":\"MGAS\",\n",
    "                              \"OPC\":\"OLIG\",\n",
    "                              \"Astro\":\"MGAS\",\n",
    "                              \"Exc\":\"GLU\"}"
   ]
  },
  {
   "cell_type": "code",
   "execution_count": 29,
   "id": "549c03fc-95ea-4e1d-b90f-56f8bb9e5c1b",
   "metadata": {},
   "outputs": [],
   "source": [
    "seurat_labelTransfer_annotations['seurat_annotations_simp'] =list(seurat_labelTransfer_annotations[\"predicted_cell_type\"].map(seurat_annotations_and_simplified_dict))\n",
    "seurat_labelTransfer_annotations.columns=[\"label_transfer_annotations\", \"cell_IDs\", \"label_transfer_annotations_simplified\"]"
   ]
  },
  {
   "cell_type": "code",
   "execution_count": 30,
   "id": "8ee943a4-2597-40cf-8bfd-3a0af63fd3f5",
   "metadata": {},
   "outputs": [
    {
     "data": {
      "text/html": [
       "<div>\n",
       "<style scoped>\n",
       "    .dataframe tbody tr th:only-of-type {\n",
       "        vertical-align: middle;\n",
       "    }\n",
       "\n",
       "    .dataframe tbody tr th {\n",
       "        vertical-align: top;\n",
       "    }\n",
       "\n",
       "    .dataframe thead th {\n",
       "        text-align: right;\n",
       "    }\n",
       "</style>\n",
       "<table border=\"1\" class=\"dataframe\">\n",
       "  <thead>\n",
       "    <tr style=\"text-align: right;\">\n",
       "      <th></th>\n",
       "      <th>label_transfer_annotations</th>\n",
       "      <th>cell_IDs</th>\n",
       "      <th>label_transfer_annotations_simplified</th>\n",
       "    </tr>\n",
       "  </thead>\n",
       "  <tbody>\n",
       "    <tr>\n",
       "      <th>AAACGAAAGCAGAGCT-1</th>\n",
       "      <td>Inh</td>\n",
       "      <td>AAACGAAAGCAGAGCT-1</td>\n",
       "      <td>GABA</td>\n",
       "    </tr>\n",
       "    <tr>\n",
       "      <th>AAACGAAAGGACCGAT-1</th>\n",
       "      <td>Exc</td>\n",
       "      <td>AAACGAAAGGACCGAT-1</td>\n",
       "      <td>GLU</td>\n",
       "    </tr>\n",
       "    <tr>\n",
       "      <th>AAACGAAAGTCGTATC-1</th>\n",
       "      <td>Inh</td>\n",
       "      <td>AAACGAAAGTCGTATC-1</td>\n",
       "      <td>GABA</td>\n",
       "    </tr>\n",
       "    <tr>\n",
       "      <th>AAACGAAAGTCTCGAT-1</th>\n",
       "      <td>Inh</td>\n",
       "      <td>AAACGAAAGTCTCGAT-1</td>\n",
       "      <td>GABA</td>\n",
       "    </tr>\n",
       "    <tr>\n",
       "      <th>AAACGAAAGTCTGGGA-1</th>\n",
       "      <td>Oligo</td>\n",
       "      <td>AAACGAAAGTCTGGGA-1</td>\n",
       "      <td>OLIG</td>\n",
       "    </tr>\n",
       "    <tr>\n",
       "      <th>...</th>\n",
       "      <td>...</td>\n",
       "      <td>...</td>\n",
       "      <td>...</td>\n",
       "    </tr>\n",
       "    <tr>\n",
       "      <th>TTTGTGTTCCTCATTA-1</th>\n",
       "      <td>Oligo</td>\n",
       "      <td>TTTGTGTTCCTCATTA-1</td>\n",
       "      <td>OLIG</td>\n",
       "    </tr>\n",
       "    <tr>\n",
       "      <th>TTTGTGTTCGGTCGAC-1</th>\n",
       "      <td>Exc</td>\n",
       "      <td>TTTGTGTTCGGTCGAC-1</td>\n",
       "      <td>GLU</td>\n",
       "    </tr>\n",
       "    <tr>\n",
       "      <th>TTTGTGTTCTCCCTTT-1</th>\n",
       "      <td>Exc</td>\n",
       "      <td>TTTGTGTTCTCCCTTT-1</td>\n",
       "      <td>GLU</td>\n",
       "    </tr>\n",
       "    <tr>\n",
       "      <th>TTTGTGTTCTGCTACC-1</th>\n",
       "      <td>Exc</td>\n",
       "      <td>TTTGTGTTCTGCTACC-1</td>\n",
       "      <td>GLU</td>\n",
       "    </tr>\n",
       "    <tr>\n",
       "      <th>TTTGTGTTCTGGGCGT-1</th>\n",
       "      <td>Exc</td>\n",
       "      <td>TTTGTGTTCTGGGCGT-1</td>\n",
       "      <td>GLU</td>\n",
       "    </tr>\n",
       "  </tbody>\n",
       "</table>\n",
       "<p>10772 rows × 3 columns</p>\n",
       "</div>"
      ],
      "text/plain": [
       "                   label_transfer_annotations            cell_IDs  \\\n",
       "AAACGAAAGCAGAGCT-1                        Inh  AAACGAAAGCAGAGCT-1   \n",
       "AAACGAAAGGACCGAT-1                        Exc  AAACGAAAGGACCGAT-1   \n",
       "AAACGAAAGTCGTATC-1                        Inh  AAACGAAAGTCGTATC-1   \n",
       "AAACGAAAGTCTCGAT-1                        Inh  AAACGAAAGTCTCGAT-1   \n",
       "AAACGAAAGTCTGGGA-1                      Oligo  AAACGAAAGTCTGGGA-1   \n",
       "...                                       ...                 ...   \n",
       "TTTGTGTTCCTCATTA-1                      Oligo  TTTGTGTTCCTCATTA-1   \n",
       "TTTGTGTTCGGTCGAC-1                        Exc  TTTGTGTTCGGTCGAC-1   \n",
       "TTTGTGTTCTCCCTTT-1                        Exc  TTTGTGTTCTCCCTTT-1   \n",
       "TTTGTGTTCTGCTACC-1                        Exc  TTTGTGTTCTGCTACC-1   \n",
       "TTTGTGTTCTGGGCGT-1                        Exc  TTTGTGTTCTGGGCGT-1   \n",
       "\n",
       "                   label_transfer_annotations_simplified  \n",
       "AAACGAAAGCAGAGCT-1                                  GABA  \n",
       "AAACGAAAGGACCGAT-1                                   GLU  \n",
       "AAACGAAAGTCGTATC-1                                  GABA  \n",
       "AAACGAAAGTCTCGAT-1                                  GABA  \n",
       "AAACGAAAGTCTGGGA-1                                  OLIG  \n",
       "...                                                  ...  \n",
       "TTTGTGTTCCTCATTA-1                                  OLIG  \n",
       "TTTGTGTTCGGTCGAC-1                                   GLU  \n",
       "TTTGTGTTCTCCCTTT-1                                   GLU  \n",
       "TTTGTGTTCTGCTACC-1                                   GLU  \n",
       "TTTGTGTTCTGGGCGT-1                                   GLU  \n",
       "\n",
       "[10772 rows x 3 columns]"
      ]
     },
     "execution_count": 30,
     "metadata": {},
     "output_type": "execute_result"
    }
   ],
   "source": [
    "seurat_labelTransfer_annotations"
   ]
  },
  {
   "cell_type": "markdown",
   "id": "dac94d47-14cc-4df4-8892-9ab27b40ee4a",
   "metadata": {},
   "source": [
    "### scATAcat annotations"
   ]
  },
  {
   "cell_type": "code",
   "execution_count": 31,
   "id": "e30e4d21-aea0-4824-b6ba-a7987e74ef8c",
   "metadata": {},
   "outputs": [
    {
     "data": {
      "text/html": [
       "<div>\n",
       "<style scoped>\n",
       "    .dataframe tbody tr th:only-of-type {\n",
       "        vertical-align: middle;\n",
       "    }\n",
       "\n",
       "    .dataframe tbody tr th {\n",
       "        vertical-align: top;\n",
       "    }\n",
       "\n",
       "    .dataframe thead th {\n",
       "        text-align: right;\n",
       "    }\n",
       "</style>\n",
       "<table border=\"1\" class=\"dataframe\">\n",
       "  <thead>\n",
       "    <tr style=\"text-align: right;\">\n",
       "      <th></th>\n",
       "      <th>leiden_1.0</th>\n",
       "      <th>scATAcat_annotation</th>\n",
       "      <th>cell_IDs</th>\n",
       "    </tr>\n",
       "  </thead>\n",
       "  <tbody>\n",
       "    <tr>\n",
       "      <th>AAACGAAAGACGACTG-1</th>\n",
       "      <td>1</td>\n",
       "      <td>OLIG</td>\n",
       "      <td>AAACGAAAGACGACTG-1</td>\n",
       "    </tr>\n",
       "    <tr>\n",
       "      <th>AAACGAAAGAGACTCG-1</th>\n",
       "      <td>0</td>\n",
       "      <td>GLU</td>\n",
       "      <td>AAACGAAAGAGACTCG-1</td>\n",
       "    </tr>\n",
       "    <tr>\n",
       "      <th>AAACGAAAGATCACCT-1</th>\n",
       "      <td>1</td>\n",
       "      <td>OLIG</td>\n",
       "      <td>AAACGAAAGATCACCT-1</td>\n",
       "    </tr>\n",
       "    <tr>\n",
       "      <th>AAACGAAAGGGAAATG-1</th>\n",
       "      <td>1</td>\n",
       "      <td>OLIG</td>\n",
       "      <td>AAACGAAAGGGAAATG-1</td>\n",
       "    </tr>\n",
       "    <tr>\n",
       "      <th>AAACGAAAGGTCGGTA-1</th>\n",
       "      <td>3</td>\n",
       "      <td>OLIG</td>\n",
       "      <td>AAACGAAAGGTCGGTA-1</td>\n",
       "    </tr>\n",
       "    <tr>\n",
       "      <th>...</th>\n",
       "      <td>...</td>\n",
       "      <td>...</td>\n",
       "      <td>...</td>\n",
       "    </tr>\n",
       "    <tr>\n",
       "      <th>TTTGTGTTCATCGCCT-1</th>\n",
       "      <td>6</td>\n",
       "      <td>MGAS</td>\n",
       "      <td>TTTGTGTTCATCGCCT-1</td>\n",
       "    </tr>\n",
       "    <tr>\n",
       "      <th>TTTGTGTTCGAGGCTC-1</th>\n",
       "      <td>0</td>\n",
       "      <td>GLU</td>\n",
       "      <td>TTTGTGTTCGAGGCTC-1</td>\n",
       "    </tr>\n",
       "    <tr>\n",
       "      <th>TTTGTGTTCGTGGAAG-1</th>\n",
       "      <td>1</td>\n",
       "      <td>OLIG</td>\n",
       "      <td>TTTGTGTTCGTGGAAG-1</td>\n",
       "    </tr>\n",
       "    <tr>\n",
       "      <th>TTTGTGTTCTAGCAGT-1</th>\n",
       "      <td>5</td>\n",
       "      <td>MGAS</td>\n",
       "      <td>TTTGTGTTCTAGCAGT-1</td>\n",
       "    </tr>\n",
       "    <tr>\n",
       "      <th>TTTGTGTTCTGATCCC-1</th>\n",
       "      <td>0</td>\n",
       "      <td>GLU</td>\n",
       "      <td>TTTGTGTTCTGATCCC-1</td>\n",
       "    </tr>\n",
       "  </tbody>\n",
       "</table>\n",
       "<p>8384 rows × 3 columns</p>\n",
       "</div>"
      ],
      "text/plain": [
       "                    leiden_1.0 scATAcat_annotation            cell_IDs\n",
       "AAACGAAAGACGACTG-1           1                OLIG  AAACGAAAGACGACTG-1\n",
       "AAACGAAAGAGACTCG-1           0                 GLU  AAACGAAAGAGACTCG-1\n",
       "AAACGAAAGATCACCT-1           1                OLIG  AAACGAAAGATCACCT-1\n",
       "AAACGAAAGGGAAATG-1           1                OLIG  AAACGAAAGGGAAATG-1\n",
       "AAACGAAAGGTCGGTA-1           3                OLIG  AAACGAAAGGTCGGTA-1\n",
       "...                        ...                 ...                 ...\n",
       "TTTGTGTTCATCGCCT-1           6                MGAS  TTTGTGTTCATCGCCT-1\n",
       "TTTGTGTTCGAGGCTC-1           0                 GLU  TTTGTGTTCGAGGCTC-1\n",
       "TTTGTGTTCGTGGAAG-1           1                OLIG  TTTGTGTTCGTGGAAG-1\n",
       "TTTGTGTTCTAGCAGT-1           5                MGAS  TTTGTGTTCTAGCAGT-1\n",
       "TTTGTGTTCTGATCCC-1           0                 GLU  TTTGTGTTCTGATCCC-1\n",
       "\n",
       "[8384 rows x 3 columns]"
      ]
     },
     "execution_count": 31,
     "metadata": {},
     "output_type": "execute_result"
    }
   ],
   "source": [
    "scATAcat_annotations = pd.read_csv(\"../../../results/Fig8-Morabito2021_brainCortex_snATAC/Fig8-apply_scATAcat/outputs/scATAcat_annotations.csv\", index_col=0 )\n",
    "scATAcat_annotations.index.name = None\n",
    "scATAcat_annotations.columns = ['leiden_1.0', 'scATAcat_annotation','cell_IDs']\n",
    "scATAcat_annotations"
   ]
  },
  {
   "cell_type": "markdown",
   "id": "83383d3b-0d90-4552-a669-5e31d91e19a6",
   "metadata": {},
   "source": [
    "### Cellcano annotations"
   ]
  },
  {
   "cell_type": "code",
   "execution_count": 32,
   "id": "80b8f8c6-7151-476d-9dea-b15af884eba8",
   "metadata": {},
   "outputs": [],
   "source": [
    "Cellcano_annotations = pd.read_csv(\"/project/scATAC_analysis/scATAcat_review/results/Fig8-Morabito2021_brainCortex_snATAC/Fig8-apply_Cellcano/Celcano_predict_orabito2021_brainCortex_snATACcelltypes.csv\")"
   ]
  },
  {
   "cell_type": "code",
   "execution_count": 33,
   "id": "da5688d9-db1c-490f-9529-7a5a7338d7d7",
   "metadata": {},
   "outputs": [
    {
     "data": {
      "text/html": [
       "<div>\n",
       "<style scoped>\n",
       "    .dataframe tbody tr th:only-of-type {\n",
       "        vertical-align: middle;\n",
       "    }\n",
       "\n",
       "    .dataframe tbody tr th {\n",
       "        vertical-align: top;\n",
       "    }\n",
       "\n",
       "    .dataframe thead th {\n",
       "        text-align: right;\n",
       "    }\n",
       "</style>\n",
       "<table border=\"1\" class=\"dataframe\">\n",
       "  <thead>\n",
       "    <tr style=\"text-align: right;\">\n",
       "      <th></th>\n",
       "      <th>Unnamed: 0</th>\n",
       "      <th>pred_celltype</th>\n",
       "      <th>firstround_pred_celltype</th>\n",
       "      <th>entropy</th>\n",
       "    </tr>\n",
       "  </thead>\n",
       "  <tbody>\n",
       "    <tr>\n",
       "      <th>0</th>\n",
       "      <td>brainCortex_s90#AAATGAGAGTCGCCTG-1</td>\n",
       "      <td>Astrocytes</td>\n",
       "      <td>Astrocytes</td>\n",
       "      <td>0.475620</td>\n",
       "    </tr>\n",
       "    <tr>\n",
       "      <th>1</th>\n",
       "      <td>brainCortex_s90#TAACGGTAGGCAGTAC-1</td>\n",
       "      <td>Astrocytes</td>\n",
       "      <td>Astrocytes</td>\n",
       "      <td>1.180492</td>\n",
       "    </tr>\n",
       "    <tr>\n",
       "      <th>2</th>\n",
       "      <td>brainCortex_s90#TAGCCCTTCCAGGGAA-1</td>\n",
       "      <td>Astrocytes</td>\n",
       "      <td>Astrocytes</td>\n",
       "      <td>0.429700</td>\n",
       "    </tr>\n",
       "    <tr>\n",
       "      <th>3</th>\n",
       "      <td>brainCortex_s90#TATCTGTTCTTGCGCT-1</td>\n",
       "      <td>EN</td>\n",
       "      <td>Astrocytes</td>\n",
       "      <td>2.120715</td>\n",
       "    </tr>\n",
       "    <tr>\n",
       "      <th>4</th>\n",
       "      <td>brainCortex_s90#CTTGCCAAGGCACCTC-1</td>\n",
       "      <td>Astrocytes</td>\n",
       "      <td>Astrocytes</td>\n",
       "      <td>0.444300</td>\n",
       "    </tr>\n",
       "  </tbody>\n",
       "</table>\n",
       "</div>"
      ],
      "text/plain": [
       "                           Unnamed: 0 pred_celltype firstround_pred_celltype  \\\n",
       "0  brainCortex_s90#AAATGAGAGTCGCCTG-1    Astrocytes               Astrocytes   \n",
       "1  brainCortex_s90#TAACGGTAGGCAGTAC-1    Astrocytes               Astrocytes   \n",
       "2  brainCortex_s90#TAGCCCTTCCAGGGAA-1    Astrocytes               Astrocytes   \n",
       "3  brainCortex_s90#TATCTGTTCTTGCGCT-1            EN               Astrocytes   \n",
       "4  brainCortex_s90#CTTGCCAAGGCACCTC-1    Astrocytes               Astrocytes   \n",
       "\n",
       "    entropy  \n",
       "0  0.475620  \n",
       "1  1.180492  \n",
       "2  0.429700  \n",
       "3  2.120715  \n",
       "4  0.444300  "
      ]
     },
     "execution_count": 33,
     "metadata": {},
     "output_type": "execute_result"
    }
   ],
   "source": [
    "Cellcano_annotations.head()"
   ]
  },
  {
   "cell_type": "code",
   "execution_count": 34,
   "id": "53327362-0fea-4689-b209-fcdc6abbb812",
   "metadata": {},
   "outputs": [
    {
     "data": {
      "text/html": [
       "<div>\n",
       "<style scoped>\n",
       "    .dataframe tbody tr th:only-of-type {\n",
       "        vertical-align: middle;\n",
       "    }\n",
       "\n",
       "    .dataframe tbody tr th {\n",
       "        vertical-align: top;\n",
       "    }\n",
       "\n",
       "    .dataframe thead th {\n",
       "        text-align: right;\n",
       "    }\n",
       "</style>\n",
       "<table border=\"1\" class=\"dataframe\">\n",
       "  <thead>\n",
       "    <tr style=\"text-align: right;\">\n",
       "      <th></th>\n",
       "      <th>cell_IDs</th>\n",
       "      <th>Cellcano_annotations</th>\n",
       "    </tr>\n",
       "  </thead>\n",
       "  <tbody>\n",
       "    <tr>\n",
       "      <th>AAATGAGAGTCGCCTG-1</th>\n",
       "      <td>AAATGAGAGTCGCCTG-1</td>\n",
       "      <td>Astrocytes</td>\n",
       "    </tr>\n",
       "    <tr>\n",
       "      <th>TAACGGTAGGCAGTAC-1</th>\n",
       "      <td>TAACGGTAGGCAGTAC-1</td>\n",
       "      <td>Astrocytes</td>\n",
       "    </tr>\n",
       "    <tr>\n",
       "      <th>TAGCCCTTCCAGGGAA-1</th>\n",
       "      <td>TAGCCCTTCCAGGGAA-1</td>\n",
       "      <td>Astrocytes</td>\n",
       "    </tr>\n",
       "    <tr>\n",
       "      <th>TATCTGTTCTTGCGCT-1</th>\n",
       "      <td>TATCTGTTCTTGCGCT-1</td>\n",
       "      <td>EN</td>\n",
       "    </tr>\n",
       "    <tr>\n",
       "      <th>CTTGCCAAGGCACCTC-1</th>\n",
       "      <td>CTTGCCAAGGCACCTC-1</td>\n",
       "      <td>Astrocytes</td>\n",
       "    </tr>\n",
       "  </tbody>\n",
       "</table>\n",
       "</div>"
      ],
      "text/plain": [
       "                              cell_IDs Cellcano_annotations\n",
       "AAATGAGAGTCGCCTG-1  AAATGAGAGTCGCCTG-1           Astrocytes\n",
       "TAACGGTAGGCAGTAC-1  TAACGGTAGGCAGTAC-1           Astrocytes\n",
       "TAGCCCTTCCAGGGAA-1  TAGCCCTTCCAGGGAA-1           Astrocytes\n",
       "TATCTGTTCTTGCGCT-1  TATCTGTTCTTGCGCT-1                   EN\n",
       "CTTGCCAAGGCACCTC-1  CTTGCCAAGGCACCTC-1           Astrocytes"
      ]
     },
     "execution_count": 34,
     "metadata": {},
     "output_type": "execute_result"
    }
   ],
   "source": [
    "Cellcano_annotations[['prefix', 'cell_IDs']] = Cellcano_annotations.iloc[:,0].str.split(\"#\", n=1, expand=True)\n",
    "Cellcano_annotations = Cellcano_annotations[[\"cell_IDs\", \"pred_celltype\"]]\n",
    "Cellcano_annotations.columns = [\"cell_IDs\", \"Cellcano_annotations\"]\n",
    "Cellcano_annotations.index =Cellcano_annotations[\"cell_IDs\"]\n",
    "Cellcano_annotations.index.name = None\n",
    "Cellcano_annotations.head()"
   ]
  },
  {
   "cell_type": "code",
   "execution_count": 35,
   "id": "50503fe9-d822-4751-8352-d59539fdc491",
   "metadata": {},
   "outputs": [
    {
     "data": {
      "text/plain": [
       "Index(['Oligodendrocytes', 'Astrocytes', 'OPC', 'EN', 'IN-MGE', 'Pericytes',\n",
       "       'IN-CGE'],\n",
       "      dtype='object', name='Cellcano_annotations')"
      ]
     },
     "execution_count": 35,
     "metadata": {},
     "output_type": "execute_result"
    }
   ],
   "source": [
    "Cellcano_annotations.Cellcano_annotations.value_counts().index"
   ]
  },
  {
   "cell_type": "code",
   "execution_count": 36,
   "id": "3662b986-51f8-4541-9938-7394bde3c57a",
   "metadata": {},
   "outputs": [],
   "source": [
    "Cellcano_annotations_dict = {'Oligodendrocytes':'OLIG',\n",
    "                             'Astrocytes':'MGAS',\n",
    "                             'OPC':'OLIG',\n",
    "                             'EN':'GLU',\n",
    "                             'IN-MGE':'GABA',\n",
    "                             'Pericytes':'PER/END',\n",
    "                             'IN-CGE':'GABA'}"
   ]
  },
  {
   "cell_type": "code",
   "execution_count": 37,
   "id": "b2a6c688-60ad-4758-b604-2870e20523a5",
   "metadata": {},
   "outputs": [],
   "source": [
    "\n",
    "Cellcano_annotations['Cellcano_annotations_simplified'] =list(Cellcano_annotations[\"Cellcano_annotations\"].map(Cellcano_annotations_dict))\n",
    "Cellcano_annotations.columns=[\"cell_IDs\", \"Cellcano_annotations\",\"Cellcano_annotations_simplified\"]\n"
   ]
  },
  {
   "cell_type": "markdown",
   "id": "6bd83efd-81fb-4b2f-bf20-6f8fc357e4ff",
   "metadata": {},
   "source": [
    "### EpiAnno annotations"
   ]
  },
  {
   "cell_type": "code",
   "execution_count": 38,
   "id": "3869110c-f0d4-4d17-a808-57478c37c5b5",
   "metadata": {},
   "outputs": [],
   "source": [
    "EpiAnno_annotations = pd.read_csv(\"../../..//results/Fig8-Morabito2021_brainCortex_snATAC/Fig8-apply_EpiAnno/predicted_labels.csv\", index_col=0)\n",
    "EpiAnno_annotations.columns = [\"cell_IDs\", \"EpiAnno_annotations\"]\n",
    "EpiAnno_annotations.index =EpiAnno_annotations[\"cell_IDs\"]\n",
    "EpiAnno_annotations.index.name = None\n"
   ]
  },
  {
   "cell_type": "code",
   "execution_count": 39,
   "id": "4489d671-ad5f-4e97-a820-2d2135270f86",
   "metadata": {},
   "outputs": [
    {
     "data": {
      "text/plain": [
       "Index(['Oligodendrocytes', 'Astrocytes', 'OPC'], dtype='object', name='EpiAnno_annotations')"
      ]
     },
     "execution_count": 39,
     "metadata": {},
     "output_type": "execute_result"
    }
   ],
   "source": [
    "EpiAnno_annotations.EpiAnno_annotations.value_counts().index"
   ]
  },
  {
   "cell_type": "code",
   "execution_count": 40,
   "id": "d934b90e-588e-445b-b344-9ebae9ccf351",
   "metadata": {},
   "outputs": [],
   "source": [
    "\n",
    "EpiAnno_annotations['EpiAnno_annotations_simplified'] =list(EpiAnno_annotations[\"EpiAnno_annotations\"].map(Cellcano_annotations_dict))\n",
    "EpiAnno_annotations.columns=[\"cell_IDs\", \"EpiAnno_annotations\",\"EpiAnno_annotations_simplified\"]\n"
   ]
  },
  {
   "cell_type": "markdown",
   "id": "5ce9fee5-62c4-4eaa-8bc5-a21425329213",
   "metadata": {},
   "source": [
    "## combine the annotations for the common cells:\n",
    "\n"
   ]
  },
  {
   "cell_type": "code",
   "execution_count": 41,
   "id": "18c51522-7764-450e-9ada-23baa65ff0e9",
   "metadata": {},
   "outputs": [],
   "source": [
    "common_cells = get_common_cells(scATAcat_annotations, seurat_labelTransfer_annotations,Cellcano_annotations,  paper_metadata,EpiAnno_annotations)"
   ]
  },
  {
   "cell_type": "code",
   "execution_count": 42,
   "id": "6824c59e-241a-4319-8258-673c5dd61d20",
   "metadata": {},
   "outputs": [
    {
     "data": {
      "text/html": [
       "<div>\n",
       "<style scoped>\n",
       "    .dataframe tbody tr th:only-of-type {\n",
       "        vertical-align: middle;\n",
       "    }\n",
       "\n",
       "    .dataframe tbody tr th {\n",
       "        vertical-align: top;\n",
       "    }\n",
       "\n",
       "    .dataframe thead th {\n",
       "        text-align: right;\n",
       "    }\n",
       "</style>\n",
       "<table border=\"1\" class=\"dataframe\">\n",
       "  <thead>\n",
       "    <tr style=\"text-align: right;\">\n",
       "      <th></th>\n",
       "      <th>0</th>\n",
       "    </tr>\n",
       "  </thead>\n",
       "  <tbody>\n",
       "    <tr>\n",
       "      <th>0</th>\n",
       "      <td>CTCTCAGGTCTGATTG-1</td>\n",
       "    </tr>\n",
       "    <tr>\n",
       "      <th>1</th>\n",
       "      <td>GTGCTGGCATCAGAAA-1</td>\n",
       "    </tr>\n",
       "    <tr>\n",
       "      <th>2</th>\n",
       "      <td>GGAATCTAGAGTTTGA-1</td>\n",
       "    </tr>\n",
       "    <tr>\n",
       "      <th>3</th>\n",
       "      <td>GTTATTCCACAGTTCA-1</td>\n",
       "    </tr>\n",
       "    <tr>\n",
       "      <th>4</th>\n",
       "      <td>GGGAACATCCCACTAC-1</td>\n",
       "    </tr>\n",
       "    <tr>\n",
       "      <th>...</th>\n",
       "      <td>...</td>\n",
       "    </tr>\n",
       "    <tr>\n",
       "      <th>68</th>\n",
       "      <td>TCAAGCAGTTTAGACC-1</td>\n",
       "    </tr>\n",
       "    <tr>\n",
       "      <th>69</th>\n",
       "      <td>TGACTCCTCGTCGCAG-1</td>\n",
       "    </tr>\n",
       "    <tr>\n",
       "      <th>70</th>\n",
       "      <td>TTCTGTAAGACCAATA-1</td>\n",
       "    </tr>\n",
       "    <tr>\n",
       "      <th>71</th>\n",
       "      <td>CTAGGATAGTTCGCGC-1</td>\n",
       "    </tr>\n",
       "    <tr>\n",
       "      <th>72</th>\n",
       "      <td>TACTGCCTCACTGGTA-1</td>\n",
       "    </tr>\n",
       "  </tbody>\n",
       "</table>\n",
       "<p>73 rows × 1 columns</p>\n",
       "</div>"
      ],
      "text/plain": [
       "                     0\n",
       "0   CTCTCAGGTCTGATTG-1\n",
       "1   GTGCTGGCATCAGAAA-1\n",
       "2   GGAATCTAGAGTTTGA-1\n",
       "3   GTTATTCCACAGTTCA-1\n",
       "4   GGGAACATCCCACTAC-1\n",
       "..                 ...\n",
       "68  TCAAGCAGTTTAGACC-1\n",
       "69  TGACTCCTCGTCGCAG-1\n",
       "70  TTCTGTAAGACCAATA-1\n",
       "71  CTAGGATAGTTCGCGC-1\n",
       "72  TACTGCCTCACTGGTA-1\n",
       "\n",
       "[73 rows x 1 columns]"
      ]
     },
     "execution_count": 42,
     "metadata": {},
     "output_type": "execute_result"
    }
   ],
   "source": [
    "pd.DataFrame(common_cells)"
   ]
  },
  {
   "cell_type": "code",
   "execution_count": 43,
   "id": "f2b53df1-67b5-4806-9cf8-13919dcf63bf",
   "metadata": {},
   "outputs": [],
   "source": [
    "pd.DataFrame(common_cells).to_csv(\"../../../results/Fig8-Morabito2021_brainCortex_snATAC/compare_annotation_performances/commonCells.csv\", index=False)"
   ]
  },
  {
   "cell_type": "code",
   "execution_count": 44,
   "id": "48cf9d54-1ef5-4db3-8d70-d943c0914c81",
   "metadata": {},
   "outputs": [],
   "source": [
    "all_methods_for_commonCells = get_combined_annotations_df_for_common_cells(scATAcat_annotations, seurat_labelTransfer_annotations,Cellcano_annotations,paper_metadata,EpiAnno_annotations, common_cells=common_cells, cell_ID_column = \"cell_IDs\")"
   ]
  },
  {
   "cell_type": "code",
   "execution_count": 45,
   "id": "e63ef466-2ca4-4c9b-9648-2b3f6cea0c4c",
   "metadata": {},
   "outputs": [
    {
     "data": {
      "text/plain": [
       "Index(['leiden_1.0', 'scATAcat_annotation', 'cell_IDs',\n",
       "       'label_transfer_annotations', 'label_transfer_annotations_simplified',\n",
       "       'Cellcano_annotations', 'Cellcano_annotations_simplified',\n",
       "       'ground_truth_annotations', 'ground_truth_annotations_simplified',\n",
       "       'EpiAnno_annotations', 'EpiAnno_annotations_simplified'],\n",
       "      dtype='object')"
      ]
     },
     "execution_count": 45,
     "metadata": {},
     "output_type": "execute_result"
    }
   ],
   "source": [
    "all_methods_for_commonCells.columns"
   ]
  },
  {
   "cell_type": "markdown",
   "id": "a4de6e73-62be-4636-b95a-68f920258456",
   "metadata": {},
   "source": [
    "## subset the ground truth to common annotations\n"
   ]
  },
  {
   "cell_type": "code",
   "execution_count": 46,
   "id": "d6f05d48-934d-4c8f-99d1-0f8886bfc777",
   "metadata": {},
   "outputs": [
    {
     "data": {
      "text/plain": [
       "['OLIG', 'MGAS']"
      ]
     },
     "execution_count": 46,
     "metadata": {},
     "output_type": "execute_result"
    }
   ],
   "source": [
    "common_annotations = list(set(all_methods_for_commonCells.scATAcat_annotation)\n",
    "                          &set(all_methods_for_commonCells.ground_truth_annotations_simplified)\n",
    "                          &set(all_methods_for_commonCells.label_transfer_annotations_simplified)\n",
    "                          &set(all_methods_for_commonCells.Cellcano_annotations_simplified)\n",
    "                         &set(all_methods_for_commonCells.EpiAnno_annotations_simplified))\n",
    "common_annotations"
   ]
  },
  {
   "cell_type": "markdown",
   "id": "a4dfc0bd-261f-4722-ba3c-96181bdcbfd8",
   "metadata": {},
   "source": [
    "## scores only for common cells and common annottaions"
   ]
  },
  {
   "cell_type": "code",
   "execution_count": 47,
   "id": "15d5d771-6df6-41f7-89bc-141d19cc0ff4",
   "metadata": {},
   "outputs": [],
   "source": [
    "scores_df = pd.DataFrame(index=[\"scATAcat\", \"Seurat_label_transfer\", \"Cellcano\", \"EpiAnno\"],\n",
    "                        columns=[\"accuracy\",\"balanced_accuracy\",\"cluster_accuracy\",\"macroF1_score\",\"medianF1_score\",\"medianPrecision_score\",\"medianRecall_score\",\"mathews_corr_coef_score\",\"adjusted_rand_score\",\"cohens_kappa_score\"])\n",
    "common_cells = get_common_cells(scATAcat_annotations, seurat_labelTransfer_annotations,paper_metadata,Cellcano_annotations, EpiAnno_annotations)\n",
    "all_methods_for_commonCells = get_combined_annotations_df_for_common_cells(scATAcat_annotations, seurat_labelTransfer_annotations,paper_metadata,Cellcano_annotations, EpiAnno_annotations, common_cells=common_cells, cell_ID_column = \"cell_IDs\")\n",
    "\n",
    "common_annotations = list(set(all_methods_for_commonCells.scATAcat_annotation)\n",
    "                          &set(all_methods_for_commonCells.ground_truth_annotations_simplified)\n",
    "                          &set(all_methods_for_commonCells.label_transfer_annotations_simplified)\n",
    "                          &set(all_methods_for_commonCells.Cellcano_annotations_simplified)\n",
    "                         &set(all_methods_for_commonCells.EpiAnno_annotations_simplified))\n",
    "all_methods_for_commonCells_commonAnnotations = all_methods_for_commonCells[all_methods_for_commonCells.ground_truth_annotations_simplified.isin(common_annotations)]\n",
    "annotation_df = all_methods_for_commonCells_commonAnnotations\n",
    "correct_id_col = 'ground_truth_annotations_simplified'\n",
    "cluster_id_column ='leiden_1.0'\n",
    "for method in scores_df.index:\n",
    "    if method == \"scATAcat\":\n",
    "        predicted_id_col = \"scATAcat_annotation\"\n",
    "        scores_df.loc[\"scATAcat\", \"accuracy\"] = get_accuracy(annotation_df = annotation_df,correct_id_col=correct_id_col,predicted_id_col=predicted_id_col)\n",
    "        scores_df.loc[\"scATAcat\", \"balanced_accuracy\"] = get_balanced_accuracy(annotation_df = annotation_df,correct_id_col=correct_id_col,predicted_id_col=predicted_id_col)\n",
    "        scores_df.loc[\"scATAcat\", \"cluster_accuracy\"] =  get_cluster_accuracy(annotation_df = annotation_df, cluster_id_column =cluster_id_column,correct_id_col=correct_id_col, predicted_id_col=predicted_id_col)\n",
    "        scores_df.loc[\"scATAcat\", \"macroF1_score\"] = get_macroF1_score(annotation_df = annotation_df, correct_id_col=correct_id_col, predicted_id_col=predicted_id_col, label_list=None)\n",
    "        scores_df.loc[\"scATAcat\", \"medianF1_score\"] = get_medianF1_score(annotation_df = annotation_df,correct_id_col=correct_id_col,predicted_id_col=predicted_id_col)\n",
    "        scores_df.loc[\"scATAcat\", \"medianPrecision_score\"] = get_medianPrecision_score(annotation_df = annotation_df,correct_id_col=correct_id_col,predicted_id_col=predicted_id_col)\n",
    "        scores_df.loc[\"scATAcat\", \"medianRecall_score\"] =  get_medianRecall_score(annotation_df = annotation_df,correct_id_col=correct_id_col,predicted_id_col=predicted_id_col)\n",
    "        scores_df.loc[\"scATAcat\", \"mathews_corr_coef_score\"] = get_mathews_corr_coef_score(annotation_df = annotation_df,correct_id_col=correct_id_col,predicted_id_col=predicted_id_col)\n",
    "        scores_df.loc[\"scATAcat\", \"adjusted_rand_score\"] = get_adjusted_rand_score(annotation_df = annotation_df,correct_id_col=correct_id_col,predicted_id_col=predicted_id_col)\n",
    "        scores_df.loc[\"scATAcat\", \"cohens_kappa_score\"] =  get_cohens_kappa_score(annotation_df = annotation_df,correct_id_col=correct_id_col,predicted_id_col=predicted_id_col)\n",
    "    if method == \"Seurat_label_transfer\":\n",
    "        predicted_id_col = \"label_transfer_annotations_simplified\"\n",
    "        scores_df.loc[\"Seurat_label_transfer\", \"accuracy\"] = get_accuracy(annotation_df = annotation_df,correct_id_col=correct_id_col,predicted_id_col=predicted_id_col)\n",
    "        scores_df.loc[\"Seurat_label_transfer\", \"balanced_accuracy\"] = get_balanced_accuracy(annotation_df = annotation_df,correct_id_col=correct_id_col,predicted_id_col=predicted_id_col)\n",
    "        scores_df.loc[\"Seurat_label_transfer\", \"cluster_accuracy\"] =  get_cluster_accuracy(annotation_df = annotation_df, cluster_id_column =cluster_id_column,correct_id_col=correct_id_col, predicted_id_col=predicted_id_col)\n",
    "        scores_df.loc[\"Seurat_label_transfer\", \"macroF1_score\"] = get_macroF1_score(annotation_df = annotation_df, correct_id_col=correct_id_col, predicted_id_col=predicted_id_col, label_list=None)\n",
    "        scores_df.loc[\"Seurat_label_transfer\", \"medianF1_score\"] = get_medianF1_score(annotation_df = annotation_df,correct_id_col=correct_id_col,predicted_id_col=predicted_id_col)\n",
    "        scores_df.loc[\"Seurat_label_transfer\", \"medianPrecision_score\"] = get_medianPrecision_score(annotation_df = annotation_df,correct_id_col=correct_id_col,predicted_id_col=predicted_id_col)\n",
    "        scores_df.loc[\"Seurat_label_transfer\", \"medianRecall_score\"] =  get_medianRecall_score(annotation_df = annotation_df,correct_id_col=correct_id_col,predicted_id_col=predicted_id_col)\n",
    "        scores_df.loc[\"Seurat_label_transfer\", \"mathews_corr_coef_score\"] = get_mathews_corr_coef_score(annotation_df = annotation_df,correct_id_col=correct_id_col,predicted_id_col=predicted_id_col)\n",
    "        scores_df.loc[\"Seurat_label_transfer\", \"adjusted_rand_score\"] = get_adjusted_rand_score(annotation_df = annotation_df,correct_id_col=correct_id_col,predicted_id_col=predicted_id_col)\n",
    "        scores_df.loc[\"Seurat_label_transfer\", \"cohens_kappa_score\"] =  get_cohens_kappa_score(annotation_df = annotation_df,correct_id_col=correct_id_col,predicted_id_col=predicted_id_col)\n",
    "    if method == \"Cellcano\":\n",
    "        predicted_id_col = \"Cellcano_annotations_simplified\"\n",
    "        scores_df.loc[\"Cellcano\", \"accuracy\"] = get_accuracy(annotation_df = annotation_df,correct_id_col=correct_id_col,predicted_id_col=predicted_id_col)\n",
    "        scores_df.loc[\"Cellcano\", \"balanced_accuracy\"] = get_balanced_accuracy(annotation_df = annotation_df,correct_id_col=correct_id_col,predicted_id_col=predicted_id_col)\n",
    "        scores_df.loc[\"Cellcano\", \"cluster_accuracy\"] =  get_cluster_accuracy(annotation_df = annotation_df, cluster_id_column =cluster_id_column,correct_id_col=correct_id_col, predicted_id_col=predicted_id_col)\n",
    "        scores_df.loc[\"Cellcano\", \"macroF1_score\"] = get_macroF1_score(annotation_df = annotation_df, correct_id_col=correct_id_col, predicted_id_col=predicted_id_col, label_list=None)\n",
    "        scores_df.loc[\"Cellcano\", \"medianF1_score\"] = get_medianF1_score(annotation_df = annotation_df,correct_id_col=correct_id_col,predicted_id_col=predicted_id_col)\n",
    "        scores_df.loc[\"Cellcano\", \"medianPrecision_score\"] = get_medianPrecision_score(annotation_df = annotation_df,correct_id_col=correct_id_col,predicted_id_col=predicted_id_col)\n",
    "        scores_df.loc[\"Cellcano\", \"medianRecall_score\"] =  get_medianRecall_score(annotation_df = annotation_df,correct_id_col=correct_id_col,predicted_id_col=predicted_id_col)\n",
    "        scores_df.loc[\"Cellcano\", \"mathews_corr_coef_score\"] = get_mathews_corr_coef_score(annotation_df = annotation_df,correct_id_col=correct_id_col,predicted_id_col=predicted_id_col)\n",
    "        scores_df.loc[\"Cellcano\", \"adjusted_rand_score\"] = get_adjusted_rand_score(annotation_df = annotation_df,correct_id_col=correct_id_col,predicted_id_col=predicted_id_col)\n",
    "        scores_df.loc[\"Cellcano\", \"cohens_kappa_score\"] =  get_cohens_kappa_score(annotation_df = annotation_df,correct_id_col=correct_id_col,predicted_id_col=predicted_id_col)\n",
    "    if method == \"EpiAnno\":\n",
    "        predicted_id_col = \"EpiAnno_annotations_simplified\"\n",
    "        scores_df.loc[\"EpiAnno\", \"accuracy\"] = get_accuracy(annotation_df = annotation_df,correct_id_col=correct_id_col,predicted_id_col=predicted_id_col)\n",
    "        scores_df.loc[\"EpiAnno\", \"balanced_accuracy\"] = get_balanced_accuracy(annotation_df = annotation_df,correct_id_col=correct_id_col,predicted_id_col=predicted_id_col)\n",
    "        scores_df.loc[\"EpiAnno\", \"cluster_accuracy\"] =  get_cluster_accuracy(annotation_df = annotation_df, cluster_id_column =cluster_id_column,correct_id_col=correct_id_col, predicted_id_col=predicted_id_col)\n",
    "        scores_df.loc[\"EpiAnno\", \"macroF1_score\"] = get_macroF1_score(annotation_df = annotation_df, correct_id_col=correct_id_col, predicted_id_col=predicted_id_col, label_list=None)\n",
    "        scores_df.loc[\"EpiAnno\", \"medianF1_score\"] = get_medianF1_score(annotation_df = annotation_df,correct_id_col=correct_id_col,predicted_id_col=predicted_id_col)\n",
    "        scores_df.loc[\"EpiAnno\", \"medianPrecision_score\"] = get_medianPrecision_score(annotation_df = annotation_df,correct_id_col=correct_id_col,predicted_id_col=predicted_id_col)\n",
    "        scores_df.loc[\"EpiAnno\", \"medianRecall_score\"] =  get_medianRecall_score(annotation_df = annotation_df,correct_id_col=correct_id_col,predicted_id_col=predicted_id_col)\n",
    "        scores_df.loc[\"EpiAnno\", \"mathews_corr_coef_score\"] = get_mathews_corr_coef_score(annotation_df = annotation_df,correct_id_col=correct_id_col,predicted_id_col=predicted_id_col)\n",
    "        scores_df.loc[\"EpiAnno\", \"adjusted_rand_score\"] = get_adjusted_rand_score(annotation_df = annotation_df,correct_id_col=correct_id_col,predicted_id_col=predicted_id_col)\n",
    "        scores_df.loc[\"EpiAnno\", \"cohens_kappa_score\"] =  get_cohens_kappa_score(annotation_df = annotation_df,correct_id_col=correct_id_col,predicted_id_col=predicted_id_col)\n"
   ]
  },
  {
   "cell_type": "code",
   "execution_count": 48,
   "id": "9c070808-0170-43b9-b614-ddb8cc280846",
   "metadata": {
    "scrolled": true
   },
   "outputs": [
    {
     "data": {
      "text/html": [
       "<div>\n",
       "<style scoped>\n",
       "    .dataframe tbody tr th:only-of-type {\n",
       "        vertical-align: middle;\n",
       "    }\n",
       "\n",
       "    .dataframe tbody tr th {\n",
       "        vertical-align: top;\n",
       "    }\n",
       "\n",
       "    .dataframe thead th {\n",
       "        text-align: right;\n",
       "    }\n",
       "</style>\n",
       "<table border=\"1\" class=\"dataframe\">\n",
       "  <thead>\n",
       "    <tr style=\"text-align: right;\">\n",
       "      <th></th>\n",
       "      <th>accuracy</th>\n",
       "      <th>balanced_accuracy</th>\n",
       "      <th>cluster_accuracy</th>\n",
       "      <th>macroF1_score</th>\n",
       "      <th>medianF1_score</th>\n",
       "      <th>medianPrecision_score</th>\n",
       "      <th>medianRecall_score</th>\n",
       "      <th>mathews_corr_coef_score</th>\n",
       "      <th>adjusted_rand_score</th>\n",
       "      <th>cohens_kappa_score</th>\n",
       "    </tr>\n",
       "  </thead>\n",
       "  <tbody>\n",
       "    <tr>\n",
       "      <th>scATAcat</th>\n",
       "      <td>0.940299</td>\n",
       "      <td>0.955556</td>\n",
       "      <td>1.0</td>\n",
       "      <td>0.944829</td>\n",
       "      <td>0.944829</td>\n",
       "      <td>0.94</td>\n",
       "      <td>0.955556</td>\n",
       "      <td>0.878498</td>\n",
       "      <td>0.788946</td>\n",
       "      <td>0.872015</td>\n",
       "    </tr>\n",
       "    <tr>\n",
       "      <th>Seurat_label_transfer</th>\n",
       "      <td>0.19403</td>\n",
       "      <td>0.167677</td>\n",
       "      <td>0.0</td>\n",
       "      <td>0.263333</td>\n",
       "      <td>0.263333</td>\n",
       "      <td>0.7</td>\n",
       "      <td>0.167677</td>\n",
       "      <td>0.06209</td>\n",
       "      <td>-0.00845</td>\n",
       "      <td>0.034685</td>\n",
       "    </tr>\n",
       "    <tr>\n",
       "      <th>Cellcano</th>\n",
       "      <td>0.940299</td>\n",
       "      <td>0.920707</td>\n",
       "      <td>1.0</td>\n",
       "      <td>0.930642</td>\n",
       "      <td>0.930642</td>\n",
       "      <td>0.943085</td>\n",
       "      <td>0.920707</td>\n",
       "      <td>0.863502</td>\n",
       "      <td>0.768427</td>\n",
       "      <td>0.861427</td>\n",
       "    </tr>\n",
       "    <tr>\n",
       "      <th>EpiAnno</th>\n",
       "      <td>0.910448</td>\n",
       "      <td>0.863636</td>\n",
       "      <td>1.0</td>\n",
       "      <td>0.889803</td>\n",
       "      <td>0.889803</td>\n",
       "      <td>0.941176</td>\n",
       "      <td>0.863636</td>\n",
       "      <td>0.801069</td>\n",
       "      <td>0.659615</td>\n",
       "      <td>0.781759</td>\n",
       "    </tr>\n",
       "  </tbody>\n",
       "</table>\n",
       "</div>"
      ],
      "text/plain": [
       "                       accuracy balanced_accuracy cluster_accuracy  \\\n",
       "scATAcat               0.940299          0.955556              1.0   \n",
       "Seurat_label_transfer   0.19403          0.167677              0.0   \n",
       "Cellcano               0.940299          0.920707              1.0   \n",
       "EpiAnno                0.910448          0.863636              1.0   \n",
       "\n",
       "                      macroF1_score medianF1_score medianPrecision_score  \\\n",
       "scATAcat                   0.944829       0.944829                  0.94   \n",
       "Seurat_label_transfer      0.263333       0.263333                   0.7   \n",
       "Cellcano                   0.930642       0.930642              0.943085   \n",
       "EpiAnno                    0.889803       0.889803              0.941176   \n",
       "\n",
       "                      medianRecall_score mathews_corr_coef_score  \\\n",
       "scATAcat                        0.955556                0.878498   \n",
       "Seurat_label_transfer           0.167677                 0.06209   \n",
       "Cellcano                        0.920707                0.863502   \n",
       "EpiAnno                         0.863636                0.801069   \n",
       "\n",
       "                      adjusted_rand_score cohens_kappa_score  \n",
       "scATAcat                         0.788946           0.872015  \n",
       "Seurat_label_transfer            -0.00845           0.034685  \n",
       "Cellcano                         0.768427           0.861427  \n",
       "EpiAnno                          0.659615           0.781759  "
      ]
     },
     "execution_count": 48,
     "metadata": {},
     "output_type": "execute_result"
    }
   ],
   "source": [
    "scores_df"
   ]
  },
  {
   "cell_type": "code",
   "execution_count": 49,
   "id": "70a1fa8e-1e62-4cc7-ae20-381848996af8",
   "metadata": {},
   "outputs": [],
   "source": [
    "figures_dir = \"../../../results/Fig8-Morabito2021_brainCortex_snATAC/compare_annotation_performances/figures/\""
   ]
  },
  {
   "cell_type": "code",
   "execution_count": 50,
   "id": "1fb1b353-6786-4b6c-9179-b12055384708",
   "metadata": {},
   "outputs": [],
   "source": [
    "os.makedirs(figures_dir,exist_ok=True)"
   ]
  },
  {
   "cell_type": "code",
   "execution_count": 51,
   "id": "4b5dd211-5bf5-4ecb-a57e-7d724f703dda",
   "metadata": {},
   "outputs": [
    {
     "data": {
      "image/png": "[encoded data removed]",
      "text/plain": [
       "<Figure size 1500x1000 with 1 Axes>"
      ]
     },
     "metadata": {},
     "output_type": "display_data"
    }
   ],
   "source": [
    "plot_performance_metrics(df = scores_df, save=True, tick_size=16, legend_fontsize=12, save_path=figures_dir+ '/common_cells_common_annotations.png',x_label_rotation=30)"
   ]
  },
  {
   "cell_type": "markdown",
   "id": "faa6fa28-37ec-4e93-b43f-5dee488186e9",
   "metadata": {},
   "source": [
    "## scores for common cells & pairwise common annotations\n"
   ]
  },
  {
   "cell_type": "code",
   "execution_count": 52,
   "id": "081d6878-b683-4593-89d0-39202519d378",
   "metadata": {
    "scrolled": true
   },
   "outputs": [],
   "source": [
    "scores_df = pd.DataFrame(index=[\"scATAcat\", \"Seurat_label_transfer\", \"Cellcano\", \"EpiAnno\"],\n",
    "                        columns=[\"accuracy\",\"balanced_accuracy\",\"macroF1_score\",\"medianF1_score\",\"medianPrecision_score\",\"medianRecall_score\",\"mathews_corr_coef_score\",\"adjusted_rand_score\",\"cohens_kappa_score\"])\n",
    "common_cells = get_common_cells(scATAcat_annotations, seurat_labelTransfer_annotations,paper_metadata,Cellcano_annotations, EpiAnno_annotations)\n",
    "all_methods_for_commonCells = get_combined_annotations_df_for_common_cells(scATAcat_annotations, seurat_labelTransfer_annotations,paper_metadata,Cellcano_annotations, EpiAnno_annotations, common_cells=common_cells, cell_ID_column = \"cell_IDs\")\n",
    "\n",
    "common_annotations = list(set(all_methods_for_commonCells.scATAcat_annotation)\n",
    "                          &set(all_methods_for_commonCells.ground_truth_annotations_simplified)\n",
    "                          &set(all_methods_for_commonCells.label_transfer_annotations_simplified)\n",
    "                          &set(all_methods_for_commonCells.Cellcano_annotations_simplified)\n",
    "                         &set(all_methods_for_commonCells.EpiAnno_annotations_simplified))\n",
    "all_methods_for_commonCells_commonAnnotations = all_methods_for_commonCells[all_methods_for_commonCells.ground_truth_annotations_simplified.isin(common_annotations)]\n",
    "\n",
    "correct_id_col = 'ground_truth_annotations_simplified'\n",
    "cluster_id_column ='leiden_1.0'\n",
    "for method in scores_df.index:\n",
    "    if method == \"scATAcat\":\n",
    "        common_annotations = list(set(all_methods_for_commonCells.scATAcat_annotation)\n",
    "                                  &set(all_methods_for_commonCells.ground_truth_annotations_simplified))\n",
    "        all_methods_for_commonCells_commonAnnotations = all_methods_for_commonCells[all_methods_for_commonCells.ground_truth_annotations_simplified.isin(common_annotations)]\n",
    "        annotation_df = all_methods_for_commonCells_commonAnnotations\n",
    "        predicted_id_col = \"scATAcat_annotation\"\n",
    "        scores_df.loc[\"scATAcat\", \"accuracy\"] = get_accuracy(annotation_df = annotation_df,correct_id_col=correct_id_col,predicted_id_col=predicted_id_col)\n",
    "        scores_df.loc[\"scATAcat\", \"balanced_accuracy\"] = get_balanced_accuracy(annotation_df = annotation_df,correct_id_col=correct_id_col,predicted_id_col=predicted_id_col)\n",
    "        scores_df.loc[\"scATAcat\", \"cluster_accuracy\"] =  get_cluster_accuracy(annotation_df = annotation_df, cluster_id_column =cluster_id_column,correct_id_col=correct_id_col, predicted_id_col=predicted_id_col)\n",
    "        scores_df.loc[\"scATAcat\", \"macroF1_score\"] = get_macroF1_score(annotation_df = annotation_df, correct_id_col=correct_id_col, predicted_id_col=predicted_id_col, label_list=None)\n",
    "        scores_df.loc[\"scATAcat\", \"medianF1_score\"] = get_medianF1_score(annotation_df = annotation_df,correct_id_col=correct_id_col,predicted_id_col=predicted_id_col)\n",
    "        scores_df.loc[\"scATAcat\", \"medianPrecision_score\"] = get_medianPrecision_score(annotation_df = annotation_df,correct_id_col=correct_id_col,predicted_id_col=predicted_id_col)\n",
    "        scores_df.loc[\"scATAcat\", \"medianRecall_score\"] =  get_medianRecall_score(annotation_df = annotation_df,correct_id_col=correct_id_col,predicted_id_col=predicted_id_col)\n",
    "        scores_df.loc[\"scATAcat\", \"mathews_corr_coef_score\"] = get_mathews_corr_coef_score(annotation_df = annotation_df,correct_id_col=correct_id_col,predicted_id_col=predicted_id_col)\n",
    "        scores_df.loc[\"scATAcat\", \"adjusted_rand_score\"] = get_adjusted_rand_score(annotation_df = annotation_df,correct_id_col=correct_id_col,predicted_id_col=predicted_id_col)\n",
    "        scores_df.loc[\"scATAcat\", \"cohens_kappa_score\"] =  get_cohens_kappa_score(annotation_df = annotation_df,correct_id_col=correct_id_col,predicted_id_col=predicted_id_col)\n",
    "    if method == \"Seurat_label_transfer\":\n",
    "        common_annotations = list(set(all_methods_for_commonCells.label_transfer_annotations_simplified)\n",
    "                                  &set(all_methods_for_commonCells.ground_truth_annotations_simplified))\n",
    "        all_methods_for_commonCells_commonAnnotations = all_methods_for_commonCells[all_methods_for_commonCells.ground_truth_annotations_simplified.isin(common_annotations)]\n",
    "        annotation_df = all_methods_for_commonCells_commonAnnotations        \n",
    "        predicted_id_col = \"label_transfer_annotations_simplified\"\n",
    "        scores_df.loc[\"Seurat_label_transfer\", \"accuracy\"] = get_accuracy(annotation_df = annotation_df,correct_id_col=correct_id_col,predicted_id_col=predicted_id_col)\n",
    "        scores_df.loc[\"Seurat_label_transfer\", \"balanced_accuracy\"] = get_balanced_accuracy(annotation_df = annotation_df,correct_id_col=correct_id_col,predicted_id_col=predicted_id_col)\n",
    "        scores_df.loc[\"Seurat_label_transfer\", \"cluster_accuracy\"] =  get_cluster_accuracy(annotation_df = annotation_df, cluster_id_column =cluster_id_column,correct_id_col=correct_id_col, predicted_id_col=predicted_id_col)\n",
    "        scores_df.loc[\"Seurat_label_transfer\", \"macroF1_score\"] = get_macroF1_score(annotation_df = annotation_df, correct_id_col=correct_id_col, predicted_id_col=predicted_id_col, label_list=None)\n",
    "        scores_df.loc[\"Seurat_label_transfer\", \"medianF1_score\"] = get_medianF1_score(annotation_df = annotation_df,correct_id_col=correct_id_col,predicted_id_col=predicted_id_col)\n",
    "        scores_df.loc[\"Seurat_label_transfer\", \"medianPrecision_score\"] = get_medianPrecision_score(annotation_df = annotation_df,correct_id_col=correct_id_col,predicted_id_col=predicted_id_col)\n",
    "        scores_df.loc[\"Seurat_label_transfer\", \"medianRecall_score\"] =  get_medianRecall_score(annotation_df = annotation_df,correct_id_col=correct_id_col,predicted_id_col=predicted_id_col)\n",
    "        scores_df.loc[\"Seurat_label_transfer\", \"mathews_corr_coef_score\"] = get_mathews_corr_coef_score(annotation_df = annotation_df,correct_id_col=correct_id_col,predicted_id_col=predicted_id_col)\n",
    "        scores_df.loc[\"Seurat_label_transfer\", \"adjusted_rand_score\"] = get_adjusted_rand_score(annotation_df = annotation_df,correct_id_col=correct_id_col,predicted_id_col=predicted_id_col)\n",
    "        scores_df.loc[\"Seurat_label_transfer\", \"cohens_kappa_score\"] =  get_cohens_kappa_score(annotation_df = annotation_df,correct_id_col=correct_id_col,predicted_id_col=predicted_id_col)\n",
    "    if method == \"Cellcano\":\n",
    "        common_annotations = list(set(all_methods_for_commonCells.Cellcano_annotations_simplified)\n",
    "                                  &set(all_methods_for_commonCells.ground_truth_annotations_simplified))\n",
    "        all_methods_for_commonCells_commonAnnotations = all_methods_for_commonCells[all_methods_for_commonCells.ground_truth_annotations_simplified.isin(common_annotations)]\n",
    "        annotation_df = all_methods_for_commonCells_commonAnnotations\n",
    "        predicted_id_col = \"Cellcano_annotations_simplified\"\n",
    "        scores_df.loc[\"Cellcano\", \"accuracy\"] = get_accuracy(annotation_df = annotation_df,correct_id_col=correct_id_col,predicted_id_col=predicted_id_col)\n",
    "        scores_df.loc[\"Cellcano\", \"balanced_accuracy\"] = get_balanced_accuracy(annotation_df = annotation_df,correct_id_col=correct_id_col,predicted_id_col=predicted_id_col)\n",
    "        scores_df.loc[\"Cellcano\", \"cluster_accuracy\"] =  get_cluster_accuracy(annotation_df = annotation_df, cluster_id_column =cluster_id_column,correct_id_col=correct_id_col, predicted_id_col=predicted_id_col)\n",
    "        scores_df.loc[\"Cellcano\", \"macroF1_score\"] = get_macroF1_score(annotation_df = annotation_df, correct_id_col=correct_id_col, predicted_id_col=predicted_id_col, label_list=None)\n",
    "        scores_df.loc[\"Cellcano\", \"medianF1_score\"] = get_medianF1_score(annotation_df = annotation_df,correct_id_col=correct_id_col,predicted_id_col=predicted_id_col)\n",
    "        scores_df.loc[\"Cellcano\", \"medianPrecision_score\"] = get_medianPrecision_score(annotation_df = annotation_df,correct_id_col=correct_id_col,predicted_id_col=predicted_id_col)\n",
    "        scores_df.loc[\"Cellcano\", \"medianRecall_score\"] =  get_medianRecall_score(annotation_df = annotation_df,correct_id_col=correct_id_col,predicted_id_col=predicted_id_col)\n",
    "        scores_df.loc[\"Cellcano\", \"mathews_corr_coef_score\"] = get_mathews_corr_coef_score(annotation_df = annotation_df,correct_id_col=correct_id_col,predicted_id_col=predicted_id_col)\n",
    "        scores_df.loc[\"Cellcano\", \"adjusted_rand_score\"] = get_adjusted_rand_score(annotation_df = annotation_df,correct_id_col=correct_id_col,predicted_id_col=predicted_id_col)\n",
    "        scores_df.loc[\"Cellcano\", \"cohens_kappa_score\"] =  get_cohens_kappa_score(annotation_df = annotation_df,correct_id_col=correct_id_col,predicted_id_col=predicted_id_col)\n",
    "    if method == \"EpiAnno\":\n",
    "        common_annotations = list(set(all_methods_for_commonCells.EpiAnno_annotations_simplified)\n",
    "                                  &set(all_methods_for_commonCells.ground_truth_annotations_simplified))\n",
    "        all_methods_for_commonCells_commonAnnotations = all_methods_for_commonCells[all_methods_for_commonCells.ground_truth_annotations_simplified.isin(common_annotations)]\n",
    "        annotation_df = all_methods_for_commonCells_commonAnnotations\n",
    "        predicted_id_col = \"EpiAnno_annotations_simplified\"\n",
    "        scores_df.loc[\"EpiAnno\", \"accuracy\"] = get_accuracy(annotation_df = annotation_df,correct_id_col=correct_id_col,predicted_id_col=predicted_id_col)\n",
    "        scores_df.loc[\"EpiAnno\", \"balanced_accuracy\"] = get_balanced_accuracy(annotation_df = annotation_df,correct_id_col=correct_id_col,predicted_id_col=predicted_id_col)\n",
    "        scores_df.loc[\"EpiAnno\", \"cluster_accuracy\"] =  get_cluster_accuracy(annotation_df = annotation_df, cluster_id_column =cluster_id_column,correct_id_col=correct_id_col, predicted_id_col=predicted_id_col)\n",
    "        scores_df.loc[\"EpiAnno\", \"macroF1_score\"] = get_macroF1_score(annotation_df = annotation_df, correct_id_col=correct_id_col, predicted_id_col=predicted_id_col, label_list=None)\n",
    "        scores_df.loc[\"EpiAnno\", \"medianF1_score\"] = get_medianF1_score(annotation_df = annotation_df,correct_id_col=correct_id_col,predicted_id_col=predicted_id_col)\n",
    "        scores_df.loc[\"EpiAnno\", \"medianPrecision_score\"] = get_medianPrecision_score(annotation_df = annotation_df,correct_id_col=correct_id_col,predicted_id_col=predicted_id_col)\n",
    "        scores_df.loc[\"EpiAnno\", \"medianRecall_score\"] =  get_medianRecall_score(annotation_df = annotation_df,correct_id_col=correct_id_col,predicted_id_col=predicted_id_col)\n",
    "        scores_df.loc[\"EpiAnno\", \"mathews_corr_coef_score\"] = get_mathews_corr_coef_score(annotation_df = annotation_df,correct_id_col=correct_id_col,predicted_id_col=predicted_id_col)\n",
    "        scores_df.loc[\"EpiAnno\", \"adjusted_rand_score\"] = get_adjusted_rand_score(annotation_df = annotation_df,correct_id_col=correct_id_col,predicted_id_col=predicted_id_col)\n",
    "        scores_df.loc[\"EpiAnno\", \"cohens_kappa_score\"] =  get_cohens_kappa_score(annotation_df = annotation_df,correct_id_col=correct_id_col,predicted_id_col=predicted_id_col)\n"
   ]
  },
  {
   "cell_type": "code",
   "execution_count": 53,
   "id": "d4b139f0-4b31-4a03-9f89-64ee6f218313",
   "metadata": {},
   "outputs": [
    {
     "data": {
      "text/html": [
       "<div>\n",
       "<style scoped>\n",
       "    .dataframe tbody tr th:only-of-type {\n",
       "        vertical-align: middle;\n",
       "    }\n",
       "\n",
       "    .dataframe tbody tr th {\n",
       "        vertical-align: top;\n",
       "    }\n",
       "\n",
       "    .dataframe thead th {\n",
       "        text-align: right;\n",
       "    }\n",
       "</style>\n",
       "<table border=\"1\" class=\"dataframe\">\n",
       "  <thead>\n",
       "    <tr style=\"text-align: right;\">\n",
       "      <th></th>\n",
       "      <th>accuracy</th>\n",
       "      <th>balanced_accuracy</th>\n",
       "      <th>macroF1_score</th>\n",
       "      <th>medianF1_score</th>\n",
       "      <th>medianPrecision_score</th>\n",
       "      <th>medianRecall_score</th>\n",
       "      <th>mathews_corr_coef_score</th>\n",
       "      <th>adjusted_rand_score</th>\n",
       "      <th>cohens_kappa_score</th>\n",
       "      <th>cluster_accuracy</th>\n",
       "    </tr>\n",
       "  </thead>\n",
       "  <tbody>\n",
       "    <tr>\n",
       "      <th>scATAcat</th>\n",
       "      <td>0.943662</td>\n",
       "      <td>0.97037</td>\n",
       "      <td>0.926182</td>\n",
       "      <td>0.93617</td>\n",
       "      <td>0.88</td>\n",
       "      <td>1.0</td>\n",
       "      <td>0.896906</td>\n",
       "      <td>0.80904</td>\n",
       "      <td>0.891851</td>\n",
       "      <td>1.0</td>\n",
       "    </tr>\n",
       "    <tr>\n",
       "      <th>Seurat_label_transfer</th>\n",
       "      <td>0.219178</td>\n",
       "      <td>0.271338</td>\n",
       "      <td>0.159444</td>\n",
       "      <td>0.135556</td>\n",
       "      <td>0.363333</td>\n",
       "      <td>0.167677</td>\n",
       "      <td>0.080894</td>\n",
       "      <td>-0.028195</td>\n",
       "      <td>0.049566</td>\n",
       "      <td>0.0</td>\n",
       "    </tr>\n",
       "    <tr>\n",
       "      <th>Cellcano</th>\n",
       "      <td>0.929577</td>\n",
       "      <td>0.863805</td>\n",
       "      <td>0.902714</td>\n",
       "      <td>0.904762</td>\n",
       "      <td>0.95</td>\n",
       "      <td>0.863636</td>\n",
       "      <td>0.856963</td>\n",
       "      <td>0.757133</td>\n",
       "      <td>0.853849</td>\n",
       "      <td>1.0</td>\n",
       "    </tr>\n",
       "    <tr>\n",
       "      <th>EpiAnno</th>\n",
       "      <td>0.910448</td>\n",
       "      <td>0.863636</td>\n",
       "      <td>0.889803</td>\n",
       "      <td>0.889803</td>\n",
       "      <td>0.941176</td>\n",
       "      <td>0.863636</td>\n",
       "      <td>0.801069</td>\n",
       "      <td>0.659615</td>\n",
       "      <td>0.781759</td>\n",
       "      <td>1.0</td>\n",
       "    </tr>\n",
       "  </tbody>\n",
       "</table>\n",
       "</div>"
      ],
      "text/plain": [
       "                       accuracy balanced_accuracy macroF1_score  \\\n",
       "scATAcat               0.943662           0.97037      0.926182   \n",
       "Seurat_label_transfer  0.219178          0.271338      0.159444   \n",
       "Cellcano               0.929577          0.863805      0.902714   \n",
       "EpiAnno                0.910448          0.863636      0.889803   \n",
       "\n",
       "                      medianF1_score medianPrecision_score medianRecall_score  \\\n",
       "scATAcat                     0.93617                  0.88                1.0   \n",
       "Seurat_label_transfer       0.135556              0.363333           0.167677   \n",
       "Cellcano                    0.904762                  0.95           0.863636   \n",
       "EpiAnno                     0.889803              0.941176           0.863636   \n",
       "\n",
       "                      mathews_corr_coef_score adjusted_rand_score  \\\n",
       "scATAcat                             0.896906             0.80904   \n",
       "Seurat_label_transfer                0.080894           -0.028195   \n",
       "Cellcano                             0.856963            0.757133   \n",
       "EpiAnno                              0.801069            0.659615   \n",
       "\n",
       "                      cohens_kappa_score  cluster_accuracy  \n",
       "scATAcat                        0.891851               1.0  \n",
       "Seurat_label_transfer           0.049566               0.0  \n",
       "Cellcano                        0.853849               1.0  \n",
       "EpiAnno                         0.781759               1.0  "
      ]
     },
     "execution_count": 53,
     "metadata": {},
     "output_type": "execute_result"
    }
   ],
   "source": [
    "scores_df"
   ]
  },
  {
   "cell_type": "code",
   "execution_count": 54,
   "id": "63d7506e-9c3e-4c61-b748-eb9e76ce77dc",
   "metadata": {},
   "outputs": [
    {
     "data": {
      "image/png": "[encoded data removed]",
      "text/plain": [
       "<Figure size 1500x1000 with 1 Axes>"
      ]
     },
     "metadata": {},
     "output_type": "display_data"
    }
   ],
   "source": [
    "plot_performance_metrics(df = scores_df, save=True, tick_size=16, legend_fontsize=12, save_path=figures_dir+ '/common_cells_pairwise_common_annotations.png',x_label_rotation=30)"
   ]
  }
 ],
 "metadata": {
  "kernelspec": {
   "display_name": "scATAcat_reproducibility_env",
   "language": "python",
   "name": "scatacat_reproducibility_env"
  },
  "language_info": {
   "codemirror_mode": {
    "name": "ipython",
    "version": 3
   },
   "file_extension": ".py",
   "mimetype": "text/x-python",
   "name": "python",
   "nbconvert_exporter": "python",
   "pygments_lexer": "ipython3",
   "version": "3.10.10"
  },
  "widgets": {
   "application/vnd.jupyter.widget-state+json": {
    "state": {},
    "version_major": 2,
    "version_minor": 0
   }
  }
 },
 "nbformat": 4,
 "nbformat_minor": 5
}
