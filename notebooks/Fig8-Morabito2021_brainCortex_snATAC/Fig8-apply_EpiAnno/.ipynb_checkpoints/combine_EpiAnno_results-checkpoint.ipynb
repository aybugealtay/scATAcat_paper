{
 "cells": [
  {
   "cell_type": "code",
   "execution_count": 1,
   "id": "4d075b05-2753-4f99-b2d0-f8cc064ce416",
   "metadata": {},
   "outputs": [],
   "source": [
    "import numpy as np\n",
    "import pandas as pd\n",
    "import os"
   ]
  },
  {
   "cell_type": "code",
   "execution_count": 2,
   "id": "791215e3-8f47-4da3-b488-1da639fe360f",
   "metadata": {},
   "outputs": [],
   "source": [
    "def get_cell_ID_label_mapping(EpiAnnoResult_path, peakByCellMatrix_path):\n",
    "    result_df = pd.DataFrame(np.load(EpiAnnoResult_path, allow_pickle=True)[()]['pred_label'],columns=[\"predicted_labels\"])\n",
    "    peak_by_cell_df = pd.read_csv(peakByCellMatrix_path, index_col=0)\n",
    "    cell_IDs  = pd.DataFrame(peak_by_cell_df.columns, columns=[\"dummy\"])\n",
    "    cell_IDs[['ignone', 'cell_IDs']] = cell_IDs['dummy'].str.split('#', n=1, expand=True)\n",
    "    cell_IDs =cell_IDs['cell_IDs']\n",
    "    del peak_by_cell_df\n",
    "    result_df = pd.concat([ cell_IDs,result_df], axis=1)\n",
    "    result_path = os.path.dirname(EpiAnnoResult_path)\n",
    "    result_filename = result_path+\"/predicted_labels.csv\"\n",
    "    result_df.to_csv(result_filename)\n",
    "    return(result_df)"
   ]
  },
  {
   "cell_type": "code",
   "execution_count": 3,
   "id": "07f581bc-c2be-4706-8889-d8ace115a7b7",
   "metadata": {},
   "outputs": [],
   "source": [
    "mapping = get_cell_ID_label_mapping(EpiAnnoResult_path=\"/project/scATAC_analysis/scATAcat_review/results/Fig8-Morabito2021_brainCortex_snATAC/Fig8-apply_EpiAnno/result_peak_rate_0.030_latent_10.npy\",\n",
    "                                                                    peakByCellMatrix_path=\"/project/scATAC_analysis/scATAcat_review/data/Morabito2021_brainCortex_snATAC/04_peaks_and_genesScore_matrix_ArchR/input_for_EpiAnno/PeakMatrix_dense.csv\")"
   ]
  },
  {
   "cell_type": "code",
   "execution_count": 4,
   "id": "53f14391-263a-403c-a93c-d0db599ec26e",
   "metadata": {},
   "outputs": [
    {
     "data": {
      "text/html": [
       "<div>\n",
       "<style scoped>\n",
       "    .dataframe tbody tr th:only-of-type {\n",
       "        vertical-align: middle;\n",
       "    }\n",
       "\n",
       "    .dataframe tbody tr th {\n",
       "        vertical-align: top;\n",
       "    }\n",
       "\n",
       "    .dataframe thead th {\n",
       "        text-align: right;\n",
       "    }\n",
       "</style>\n",
       "<table border=\"1\" class=\"dataframe\">\n",
       "  <thead>\n",
       "    <tr style=\"text-align: right;\">\n",
       "      <th></th>\n",
       "      <th>cell_IDs</th>\n",
       "      <th>predicted_labels</th>\n",
       "    </tr>\n",
       "  </thead>\n",
       "  <tbody>\n",
       "    <tr>\n",
       "      <th>0</th>\n",
       "      <td>AAATGAGAGTCGCCTG-1</td>\n",
       "      <td>Astrocytes</td>\n",
       "    </tr>\n",
       "    <tr>\n",
       "      <th>1</th>\n",
       "      <td>TAACGGTAGGCAGTAC-1</td>\n",
       "      <td>Astrocytes</td>\n",
       "    </tr>\n",
       "    <tr>\n",
       "      <th>2</th>\n",
       "      <td>TAGCCCTTCCAGGGAA-1</td>\n",
       "      <td>Astrocytes</td>\n",
       "    </tr>\n",
       "    <tr>\n",
       "      <th>3</th>\n",
       "      <td>TATCTGTTCTTGCGCT-1</td>\n",
       "      <td>Oligodendrocytes</td>\n",
       "    </tr>\n",
       "    <tr>\n",
       "      <th>4</th>\n",
       "      <td>CTTGCCAAGGCACCTC-1</td>\n",
       "      <td>Oligodendrocytes</td>\n",
       "    </tr>\n",
       "    <tr>\n",
       "      <th>...</th>\n",
       "      <td>...</td>\n",
       "      <td>...</td>\n",
       "    </tr>\n",
       "    <tr>\n",
       "      <th>5213</th>\n",
       "      <td>TGAGCCGGTTAGAGAT-1</td>\n",
       "      <td>Oligodendrocytes</td>\n",
       "    </tr>\n",
       "    <tr>\n",
       "      <th>5214</th>\n",
       "      <td>GCCAGCAAGTTCCCGG-1</td>\n",
       "      <td>Oligodendrocytes</td>\n",
       "    </tr>\n",
       "    <tr>\n",
       "      <th>5215</th>\n",
       "      <td>TATGTTCGTATTCTGG-1</td>\n",
       "      <td>Oligodendrocytes</td>\n",
       "    </tr>\n",
       "    <tr>\n",
       "      <th>5216</th>\n",
       "      <td>TTCGTTATCTTCTTCC-1</td>\n",
       "      <td>Oligodendrocytes</td>\n",
       "    </tr>\n",
       "    <tr>\n",
       "      <th>5217</th>\n",
       "      <td>TTGAGCAGTAAGGTCG-1</td>\n",
       "      <td>Oligodendrocytes</td>\n",
       "    </tr>\n",
       "  </tbody>\n",
       "</table>\n",
       "<p>5218 rows × 2 columns</p>\n",
       "</div>"
      ],
      "text/plain": [
       "                cell_IDs  predicted_labels\n",
       "0     AAATGAGAGTCGCCTG-1        Astrocytes\n",
       "1     TAACGGTAGGCAGTAC-1        Astrocytes\n",
       "2     TAGCCCTTCCAGGGAA-1        Astrocytes\n",
       "3     TATCTGTTCTTGCGCT-1  Oligodendrocytes\n",
       "4     CTTGCCAAGGCACCTC-1  Oligodendrocytes\n",
       "...                  ...               ...\n",
       "5213  TGAGCCGGTTAGAGAT-1  Oligodendrocytes\n",
       "5214  GCCAGCAAGTTCCCGG-1  Oligodendrocytes\n",
       "5215  TATGTTCGTATTCTGG-1  Oligodendrocytes\n",
       "5216  TTCGTTATCTTCTTCC-1  Oligodendrocytes\n",
       "5217  TTGAGCAGTAAGGTCG-1  Oligodendrocytes\n",
       "\n",
       "[5218 rows x 2 columns]"
      ]
     },
     "execution_count": 4,
     "metadata": {},
     "output_type": "execute_result"
    }
   ],
   "source": [
    "mapping"
   ]
  },
  {
   "cell_type": "code",
   "execution_count": 5,
   "id": "55598a6a-c986-49ed-a343-d475dde4acfb",
   "metadata": {},
   "outputs": [
    {
     "data": {
      "text/plain": [
       "predicted_labels\n",
       "Oligodendrocytes    4046\n",
       "Astrocytes          1001\n",
       "OPC                  171\n",
       "Name: count, dtype: int64"
      ]
     },
     "execution_count": 5,
     "metadata": {},
     "output_type": "execute_result"
    }
   ],
   "source": [
    "mapping.predicted_labels.value_counts()"
   ]
  },
  {
   "cell_type": "code",
   "execution_count": null,
   "id": "8ba9df53-5ed1-4c08-8f5c-edd1e7273d29",
   "metadata": {},
   "outputs": [],
   "source": []
  }
 ],
 "metadata": {
  "kernelspec": {
   "display_name": "scATAcat_reproducibility_env",
   "language": "python",
   "name": "scatacat_reproducibility_env"
  },
  "language_info": {
   "codemirror_mode": {
    "name": "ipython",
    "version": 3
   },
   "file_extension": ".py",
   "mimetype": "text/x-python",
   "name": "python",
   "nbconvert_exporter": "python",
   "pygments_lexer": "ipython3",
   "version": "3.10.10"
  },
  "widgets": {
   "application/vnd.jupyter.widget-state+json": {
    "state": {},
    "version_major": 2,
    "version_minor": 0
   }
  }
 },
 "nbformat": 4,
 "nbformat_minor": 5
}
