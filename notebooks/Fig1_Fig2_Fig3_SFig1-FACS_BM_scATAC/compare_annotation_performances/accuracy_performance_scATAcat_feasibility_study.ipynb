{
 "cells": [
  {
   "cell_type": "code",
   "execution_count": 27,
   "id": "9da02c3f-ed67-4383-adaa-79b10e38a4e4",
   "metadata": {},
   "outputs": [],
   "source": [
    "import pandas as pd\n",
    "import numpy as np"
   ]
  },
  {
   "cell_type": "code",
   "execution_count": 28,
   "id": "2ab03585-8083-45ec-b62e-11ec06c47b47",
   "metadata": {},
   "outputs": [],
   "source": [
    "def get_accuracy(annotation_df, correct_id_col='real_cellID', predicted_id_col='predicted_cellID'):\n",
    "    num_correct_ann= annotation_df[annotation_df[correct_id_col]==annotation_df[predicted_id_col]].shape[0]\n",
    "    acc=num_correct_ann/annotation_df.shape[0]\n",
    "    print(\"accuracy:\")\n",
    "    return acc"
   ]
  },
  {
   "cell_type": "code",
   "execution_count": 29,
   "id": "a8d3f735-dd92-465a-a7aa-c90422032e86",
   "metadata": {},
   "outputs": [],
   "source": [
    "def get_balanced_accuracy(annotation_df, correct_id_col='real_cellID', predicted_id_col='predicted_cellID'):\n",
    "    ann=[]\n",
    "    for cell_type in sorted(set(annotation_df[correct_id_col])):\n",
    "        cell_type_sub = annotation_df[annotation_df[correct_id_col]==cell_type]\n",
    "        print(cell_type)\n",
    "        num_cells =cell_type_sub.shape[0]\n",
    "        print(\"predicted cell ID\")\n",
    "        num_correct_ann = cell_type_sub[cell_type_sub[predicted_id_col]==cell_type].shape[0]\n",
    "        #print(cell_type_sub.predicted_cellID.value_counts())\n",
    "        perc=(num_correct_ann/num_cells)\n",
    "        print(perc)\n",
    "        ann.append(perc)\n",
    "    balanced_accuracy= np.sum(ann)/len(ann)\n",
    "    print(\"balanced accuracy:\")\n",
    "    print(balanced_accuracy)\n",
    "    return balanced_accuracy"
   ]
  },
  {
   "cell_type": "code",
   "execution_count": 30,
   "id": "0ce647ce-14dd-45e0-b106-b92cbb74a253",
   "metadata": {},
   "outputs": [],
   "source": [
    "def get_cluster_accuracy(annotation_df, cluster_id_column ='clust',correct_id_col='real_cellID', predicted_id_col='predicted_cellID'):\n",
    "    correc_ann_counter=0\n",
    "    annotation_df = annotation_df.groupby(cluster_id_column).filter(lambda x: len(x) > 10)\n",
    "    cluster_ids =sorted(set(annotation_df[cluster_id_column]))\n",
    "    for cluster_id in cluster_ids:\n",
    "        cluster_sub = annotation_df[annotation_df[cluster_id_column]==cluster_id]   \n",
    "        clust_real_id_counts = cluster_sub[correct_id_col].value_counts()\n",
    "        # sort fist by number then by index, then get the cell type with the highest occurance. This takes care of ties\n",
    "        clust_real_id = clust_real_id_counts.iloc[np.lexsort((clust_real_id_counts.index, -clust_real_id_counts.values))].index[0]\n",
    "        clust_predicted_id_counts = cluster_sub[predicted_id_col].value_counts()\n",
    "        # sort fist by number then by index, then get the cell type with the highest occurance. This takes care of ties\n",
    "        clust_predicted_id = clust_predicted_id_counts.iloc[np.lexsort((clust_predicted_id_counts.index, -clust_predicted_id_counts.values))].index[0]\n",
    "        if clust_real_id == clust_predicted_id:\n",
    "            correc_ann_counter += 1\n",
    "        else:\n",
    "            continue\n",
    "    clust_accuracy= correc_ann_counter/len(cluster_ids)\n",
    "    print(\"cluster accuracy:\")\n",
    "    return clust_accuracy"
   ]
  },
  {
   "cell_type": "code",
   "execution_count": 31,
   "id": "350f8a18-a4db-45dc-9199-82a6c107e41d",
   "metadata": {},
   "outputs": [],
   "source": [
    "data_dir = \"../../../results/Fig1_Fig2_Fig3_SFig1-FACS_BM_scATAC/\"\n",
    "\n",
    "leiden_key = 'leiden_0.65'"
   ]
  },
  {
   "cell_type": "code",
   "execution_count": 32,
   "id": "779f5553-1756-43b0-bb0b-829572355b6c",
   "metadata": {},
   "outputs": [
    {
     "data": {
      "text/html": [
       "<div>\n",
       "<style scoped>\n",
       "    .dataframe tbody tr th:only-of-type {\n",
       "        vertical-align: middle;\n",
       "    }\n",
       "\n",
       "    .dataframe tbody tr th {\n",
       "        vertical-align: top;\n",
       "    }\n",
       "\n",
       "    .dataframe thead th {\n",
       "        text-align: right;\n",
       "    }\n",
       "</style>\n",
       "<table border=\"1\" class=\"dataframe\">\n",
       "  <thead>\n",
       "    <tr style=\"text-align: right;\">\n",
       "      <th></th>\n",
       "      <th>cell_IDs</th>\n",
       "      <th>leiden_0.65</th>\n",
       "      <th>scATAcat_annotation</th>\n",
       "      <th>ground_truth_annotations</th>\n",
       "    </tr>\n",
       "  </thead>\n",
       "  <tbody>\n",
       "    <tr>\n",
       "      <th>CLP_1</th>\n",
       "      <td>CLP_1</td>\n",
       "      <td>6</td>\n",
       "      <td>CLP</td>\n",
       "      <td>CLP</td>\n",
       "    </tr>\n",
       "    <tr>\n",
       "      <th>CMP_0</th>\n",
       "      <td>CMP_0</td>\n",
       "      <td>1</td>\n",
       "      <td>CMP</td>\n",
       "      <td>CMP</td>\n",
       "    </tr>\n",
       "    <tr>\n",
       "      <th>CMP_1</th>\n",
       "      <td>CMP_1</td>\n",
       "      <td>1</td>\n",
       "      <td>CMP</td>\n",
       "      <td>CMP</td>\n",
       "    </tr>\n",
       "    <tr>\n",
       "      <th>CMP_2</th>\n",
       "      <td>CMP_2</td>\n",
       "      <td>2</td>\n",
       "      <td>CMP</td>\n",
       "      <td>CMP</td>\n",
       "    </tr>\n",
       "    <tr>\n",
       "      <th>CMP_3</th>\n",
       "      <td>CMP_3</td>\n",
       "      <td>4</td>\n",
       "      <td>MEP</td>\n",
       "      <td>CMP</td>\n",
       "    </tr>\n",
       "  </tbody>\n",
       "</table>\n",
       "</div>"
      ],
      "text/plain": [
       "      cell_IDs  leiden_0.65 scATAcat_annotation ground_truth_annotations\n",
       "CLP_1    CLP_1            6                 CLP                      CLP\n",
       "CMP_0    CMP_0            1                 CMP                      CMP\n",
       "CMP_1    CMP_1            1                 CMP                      CMP\n",
       "CMP_2    CMP_2            2                 CMP                      CMP\n",
       "CMP_3    CMP_3            4                 MEP                      CMP"
      ]
     },
     "execution_count": 32,
     "metadata": {},
     "output_type": "execute_result"
    }
   ],
   "source": [
    "scATAcat_annotations = pd.read_csv(data_dir +\"/Fig1_SFig1-apply_scATAcat/apply_scATAcat_feasibility_study/outputs/scATAcat_annotations.csv\")\n",
    "scATAcat_annotations.columns = ['cell_IDs',leiden_key, 'scATAcat_annotation' ,'ground_truth_annotations']\n",
    "scATAcat_annotations.index = scATAcat_annotations.cell_IDs\n",
    "scATAcat_annotations.index.name = None\n",
    "scATAcat_annotations.head()"
   ]
  },
  {
   "cell_type": "code",
   "execution_count": 33,
   "id": "fb88f342-238d-4eeb-afdb-2b8f95c9d9f2",
   "metadata": {},
   "outputs": [
    {
     "data": {
      "text/plain": [
       "(1872, 4)"
      ]
     },
     "execution_count": 33,
     "metadata": {},
     "output_type": "execute_result"
    }
   ],
   "source": [
    "scATAcat_annotations.shape"
   ]
  },
  {
   "cell_type": "markdown",
   "id": "de57502a-c94c-4205-97fd-41d742bcbd0c",
   "metadata": {},
   "source": [
    "## accuracy metrics for scATAcat:"
   ]
  },
  {
   "cell_type": "code",
   "execution_count": 34,
   "id": "1c46779a-07d0-4d06-b4fd-504094a4078d",
   "metadata": {},
   "outputs": [
    {
     "name": "stdout",
     "output_type": "stream",
     "text": [
      "accuracy:\n"
     ]
    },
    {
     "data": {
      "text/plain": [
       "0.811965811965812"
      ]
     },
     "execution_count": 34,
     "metadata": {},
     "output_type": "execute_result"
    }
   ],
   "source": [
    "get_accuracy(scATAcat_annotations, correct_id_col='ground_truth_annotations', predicted_id_col='scATAcat_annotation')"
   ]
  },
  {
   "cell_type": "code",
   "execution_count": 35,
   "id": "109b67f7-460d-45f2-a640-dc60fd4ee2f4",
   "metadata": {},
   "outputs": [
    {
     "name": "stdout",
     "output_type": "stream",
     "text": [
      "CLP\n",
      "predicted cell ID\n",
      "0.9629629629629629\n",
      "CMP\n",
      "predicted cell ID\n",
      "0.8697674418604651\n",
      "GMP\n",
      "predicted cell ID\n",
      "0.8181818181818182\n",
      "HSC\n",
      "predicted cell ID\n",
      "0.9215686274509803\n",
      "LMPP\n",
      "predicted cell ID\n",
      "0.925531914893617\n",
      "MEP\n",
      "predicted cell ID\n",
      "0.9736842105263158\n",
      "MPP\n",
      "predicted cell ID\n",
      "0.0\n",
      "balanced accuracy:\n",
      "0.7816709965537371\n"
     ]
    },
    {
     "data": {
      "text/plain": [
       "0.7816709965537371"
      ]
     },
     "execution_count": 35,
     "metadata": {},
     "output_type": "execute_result"
    }
   ],
   "source": [
    "get_balanced_accuracy(scATAcat_annotations, correct_id_col='ground_truth_annotations', predicted_id_col='scATAcat_annotation')"
   ]
  },
  {
   "cell_type": "code",
   "execution_count": 36,
   "id": "a741483d-338c-4b5f-a16f-9c1bfee77757",
   "metadata": {},
   "outputs": [
    {
     "name": "stdout",
     "output_type": "stream",
     "text": [
      "cluster accuracy:\n"
     ]
    },
    {
     "data": {
      "text/plain": [
       "1.0"
      ]
     },
     "execution_count": 36,
     "metadata": {},
     "output_type": "execute_result"
    }
   ],
   "source": [
    "get_cluster_accuracy(scATAcat_annotations,cluster_id_column =leiden_key, correct_id_col='ground_truth_annotations', predicted_id_col='scATAcat_annotation')"
   ]
  }
 ],
 "metadata": {
  "kernelspec": {
   "display_name": "python_3.10.10_env",
   "language": "python",
   "name": "python_3.10.10_env"
  },
  "language_info": {
   "codemirror_mode": {
    "name": "ipython",
    "version": 3
   },
   "file_extension": ".py",
   "mimetype": "text/x-python",
   "name": "python",
   "nbconvert_exporter": "python",
   "pygments_lexer": "ipython3",
   "version": "3.10.10"
  }
 },
 "nbformat": 4,
 "nbformat_minor": 5
}
