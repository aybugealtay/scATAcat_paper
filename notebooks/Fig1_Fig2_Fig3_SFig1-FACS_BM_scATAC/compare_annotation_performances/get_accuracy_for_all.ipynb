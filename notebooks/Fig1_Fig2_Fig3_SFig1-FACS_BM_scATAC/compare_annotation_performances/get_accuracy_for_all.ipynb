{
 "cells": [
  {
   "cell_type": "code",
   "execution_count": 1,
   "id": "b25136b5-8524-4ad3-a6ab-66d51ff3f4f8",
   "metadata": {},
   "outputs": [],
   "source": [
    "import pandas as pd\n",
    "import numpy as np\n",
    "import statistics\n",
    "import sklearn.metrics\n",
    "import warnings\n",
    "import matplotlib\n",
    "import matplotlib.pyplot as plt\n",
    "from matplotlib.colors import LinearSegmentedColormap\n",
    "warnings.filterwarnings(\"ignore\")"
   ]
  },
  {
   "cell_type": "code",
   "execution_count": 2,
   "id": "8eb1e4be-e029-49cd-9e74-7537dd02b102",
   "metadata": {},
   "outputs": [],
   "source": [
    "def get_accuracy(annotation_df, correct_id_col='real_cellID', predicted_id_col='predicted_cellID'):\n",
    "    num_correct_ann= annotation_df[annotation_df[correct_id_col]==annotation_df[predicted_id_col]].shape[0]\n",
    "    acc=num_correct_ann/annotation_df.shape[0]\n",
    "    return acc"
   ]
  },
  {
   "cell_type": "code",
   "execution_count": 3,
   "id": "302509f9-5e7b-43c1-b896-71c0d1c78a62",
   "metadata": {},
   "outputs": [],
   "source": [
    "def get_balanced_accuracy_verbose(annotation_df, correct_id_col='real_cellID', predicted_id_col='predicted_cellID'):\n",
    "    ann=[]\n",
    "    for cell_type in sorted(set(annotation_df[correct_id_col])):\n",
    "        cell_type_sub = annotation_df[annotation_df[correct_id_col]==cell_type]\n",
    "        print(cell_type)\n",
    "        num_cells =cell_type_sub.shape[0]\n",
    "        print(\"predicted cell ID\")\n",
    "        num_correct_ann = cell_type_sub[cell_type_sub[predicted_id_col]==cell_type].shape[0]\n",
    "        #print(cell_type_sub.predicted_cellID.value_counts())\n",
    "        perc=(num_correct_ann/num_cells)\n",
    "        print(perc)\n",
    "        ann.append(perc)\n",
    "    balanced_accuracy= np.sum(ann)/len(ann)\n",
    "    print(\"balanced accuracy:\")\n",
    "    print(balanced_accuracy)\n",
    "    return balanced_accuracy"
   ]
  },
  {
   "cell_type": "code",
   "execution_count": 4,
   "id": "b3c39aec-94cd-4148-908a-dbe94a0e7fe2",
   "metadata": {},
   "outputs": [],
   "source": [
    "def get_balanced_accuracy(annotation_df, correct_id_col='real_cellID', predicted_id_col='predicted_cellID'):\n",
    "    ann=[]\n",
    "    for cell_type in sorted(set(annotation_df[correct_id_col])):\n",
    "        cell_type_sub = annotation_df[annotation_df[correct_id_col]==cell_type]\n",
    "        num_cells =cell_type_sub.shape[0]\n",
    "        num_correct_ann = cell_type_sub[cell_type_sub[predicted_id_col]==cell_type].shape[0]\n",
    "        #print(cell_type_sub.predicted_cellID.value_counts())\n",
    "        perc=(num_correct_ann/num_cells)\n",
    "        ann.append(perc)\n",
    "    balanced_accuracy= np.sum(ann)/len(ann)\n",
    "    return balanced_accuracy"
   ]
  },
  {
   "cell_type": "code",
   "execution_count": 5,
   "id": "070c2dc2-8343-4ca3-bf30-89e4b6da9e65",
   "metadata": {},
   "outputs": [],
   "source": [
    "def get_cluster_accuracy(annotation_df, cluster_id_column ='clust',correct_id_col='real_cellID', predicted_id_col='predicted_cellID'):\n",
    "    correc_ann_counter=0\n",
    "    annotation_df = annotation_df.groupby(cluster_id_column).filter(lambda x: len(x) > 10)\n",
    "    cluster_ids =sorted(set(annotation_df[cluster_id_column]))\n",
    "    for cluster_id in cluster_ids:\n",
    "        cluster_sub = annotation_df[annotation_df[cluster_id_column]==cluster_id]   \n",
    "        clust_real_id_counts = cluster_sub[correct_id_col].value_counts()\n",
    "        # sort fist by number then by index, then get the cell type with the highest occurance. This takes care of ties\n",
    "        clust_real_id = clust_real_id_counts.iloc[np.lexsort((clust_real_id_counts.index, -clust_real_id_counts.values))].index[0]\n",
    "        clust_predicted_id_counts = cluster_sub[predicted_id_col].value_counts()\n",
    "        # sort fist by number then by index, then get the cell type with the highest occurance. This takes care of ties\n",
    "        clust_predicted_id = clust_predicted_id_counts.iloc[np.lexsort((clust_predicted_id_counts.index, -clust_predicted_id_counts.values))].index[0]\n",
    "        if clust_real_id == clust_predicted_id:\n",
    "            correc_ann_counter += 1\n",
    "        else:\n",
    "            continue\n",
    "    clust_accuracy= correc_ann_counter/len(cluster_ids)\n",
    "    return clust_accuracy"
   ]
  },
  {
   "cell_type": "code",
   "execution_count": 6,
   "id": "bbe2cebd-25e6-4229-98f1-fbb567481b50",
   "metadata": {},
   "outputs": [],
   "source": [
    "def get_cohens_kappa_score(annotation_df, correct_id_col='real_cellID', predicted_id_col='predicted_cellID'):\n",
    "    cohens_kappa_score= sklearn.metrics.cohen_kappa_score(annotation_df[correct_id_col],annotation_df[predicted_id_col])\n",
    "    return(cohens_kappa_score)"
   ]
  },
  {
   "cell_type": "code",
   "execution_count": 7,
   "id": "3a39c70f-46b2-4a4f-95fe-777c166244dd",
   "metadata": {},
   "outputs": [],
   "source": [
    "def get_F1_score(annotation_df, correct_id_col='real_cellID', predicted_id_col='predicted_cellID'):\n",
    "    F1_list=[]\n",
    "    for cell_type in sorted(set(annotation_df[correct_id_col])):\n",
    "        # subset dataframe to the cell-type of interest \n",
    "        # then convert df labels to binary classification tasks\n",
    "        cell_type_sub = annotation_df[(annotation_df[correct_id_col]==cell_type) | (annotation_df[predicted_id_col]==cell_type)]\n",
    "        #cell_type_sub = cell_type_sub[[correct_id_col, predicted_id_col]]\n",
    "        cell_type_sub[correct_id_col] = cell_type_sub[correct_id_col].where(cell_type_sub[correct_id_col].isin([cell_type]), 'other')\n",
    "        cell_type_sub[predicted_id_col] = cell_type_sub[predicted_id_col].where(cell_type_sub[predicted_id_col].isin([cell_type]), 'other')\n",
    "        F1_cell_type = sklearn.metrics.f1_score(cell_type_sub[correct_id_col], cell_type_sub[predicted_id_col], pos_label = cell_type)\n",
    "        F1_list.append(F1_cell_type)\n",
    "    return(F1_list)"
   ]
  },
  {
   "cell_type": "code",
   "execution_count": 8,
   "id": "01efb650-ab57-4c68-bd42-4b4d20574d21",
   "metadata": {},
   "outputs": [],
   "source": [
    "def get_macroF1_score(annotation_df, correct_id_col='real_cellID', predicted_id_col='predicted_cellID', label_list=None):\n",
    "    if label_list ==None:\n",
    "        label_list  = annotation_df[correct_id_col].value_counts().index   \n",
    "    macroF1_score = sklearn.metrics.f1_score(annotation_df[correct_id_col], annotation_df[predicted_id_col],average='macro', labels=label_list)\n",
    "    return(macroF1_score)\n"
   ]
  },
  {
   "cell_type": "code",
   "execution_count": 9,
   "id": "5bc5cca4-0b02-47ad-a3c7-6966e5cec224",
   "metadata": {},
   "outputs": [],
   "source": [
    "def get_medianF1_score(annotation_df, correct_id_col='real_cellID', predicted_id_col='predicted_cellID'):\n",
    "    F1_scores = get_F1_score(annotation_df, correct_id_col=correct_id_col, predicted_id_col=predicted_id_col)\n",
    "    medianF1_score = statistics.median(F1_scores)\n",
    "    return(medianF1_score)"
   ]
  },
  {
   "cell_type": "code",
   "execution_count": 10,
   "id": "e16eb27e-2658-456d-88bd-6eebc289f3ab",
   "metadata": {},
   "outputs": [],
   "source": [
    "def get_precision_score(annotation_df, correct_id_col='real_cellID', predicted_id_col='predicted_cellID'):\n",
    "    precision_list=[]\n",
    "    for cell_type in sorted(set(annotation_df[correct_id_col])):\n",
    "        # subset dataframe to the cell-type of interest\n",
    "        cell_type_sub = annotation_df[(annotation_df[correct_id_col]==cell_type) | (annotation_df[predicted_id_col]==cell_type)]\n",
    "        cell_type_sub[correct_id_col] = cell_type_sub[correct_id_col].where(cell_type_sub[correct_id_col].isin([cell_type]), 'other')\n",
    "        cell_type_sub[predicted_id_col] = cell_type_sub[predicted_id_col].where(cell_type_sub[predicted_id_col].isin([cell_type]), 'other')\n",
    "        precision_cell_type = sklearn.metrics.precision_score(cell_type_sub[correct_id_col], cell_type_sub[predicted_id_col], pos_label = cell_type)\n",
    "        precision_list.append(precision_cell_type)\n",
    "    return(precision_list)"
   ]
  },
  {
   "cell_type": "code",
   "execution_count": 11,
   "id": "110d53f3-23d1-42e4-9ff4-155cd106be11",
   "metadata": {},
   "outputs": [],
   "source": [
    "def get_medianPrecision_score(annotation_df, correct_id_col='real_cellID', predicted_id_col='predicted_cellID'):\n",
    "    precision_scores = get_precision_score(annotation_df, correct_id_col=correct_id_col, predicted_id_col=predicted_id_col)\n",
    "    medianPrecision_score = statistics.median(precision_scores)\n",
    "    return(medianPrecision_score)"
   ]
  },
  {
   "cell_type": "code",
   "execution_count": 12,
   "id": "74fdac95-4ef3-4ccf-9700-342c4b4dc9ca",
   "metadata": {},
   "outputs": [],
   "source": [
    "def get_recall_score(annotation_df, correct_id_col='real_cellID', predicted_id_col='predicted_cellID'):\n",
    "    recall_list=[]\n",
    "    for cell_type in sorted(set(annotation_df[correct_id_col])):\n",
    "        # subset dataframe to the cell-type of interest\n",
    "        cell_type_sub = annotation_df[(annotation_df[correct_id_col]==cell_type) | (annotation_df[predicted_id_col]==cell_type)]\n",
    "        cell_type_sub[correct_id_col] = cell_type_sub[correct_id_col].where(cell_type_sub[correct_id_col].isin([cell_type]), 'other')\n",
    "        cell_type_sub[predicted_id_col] = cell_type_sub[predicted_id_col].where(cell_type_sub[predicted_id_col].isin([cell_type]), 'other')\n",
    "        recall_cell_type = sklearn.metrics.recall_score(cell_type_sub[correct_id_col], cell_type_sub[predicted_id_col], pos_label = cell_type)\n",
    "        recall_list.append(recall_cell_type)\n",
    "    return(recall_list)"
   ]
  },
  {
   "cell_type": "code",
   "execution_count": 13,
   "id": "a7b25836-d1e7-4703-ba76-5ebd7648ad92",
   "metadata": {},
   "outputs": [],
   "source": [
    "def get_medianRecall_score(annotation_df, correct_id_col='real_cellID', predicted_id_col='predicted_cellID'):\n",
    "    recall_scores = get_recall_score(annotation_df, correct_id_col=correct_id_col, predicted_id_col=predicted_id_col)\n",
    "    medianPrecision_score = statistics.median(recall_scores)\n",
    "    return(medianPrecision_score)"
   ]
  },
  {
   "cell_type": "code",
   "execution_count": 14,
   "id": "053a0c25-5a97-48e1-923e-ab93fd3907c9",
   "metadata": {},
   "outputs": [],
   "source": [
    "def get_adjusted_rand_score(annotation_df, correct_id_col='real_cellID', predicted_id_col='predicted_cellID'):\n",
    "    adjusted_rand_score= sklearn.metrics.adjusted_rand_score(annotation_df[correct_id_col],annotation_df[predicted_id_col])\n",
    "    return(adjusted_rand_score)"
   ]
  },
  {
   "cell_type": "code",
   "execution_count": 15,
   "id": "56edfc68-738a-4639-920f-fe857a41bba6",
   "metadata": {},
   "outputs": [],
   "source": [
    "def get_mathews_corr_coef_score(annotation_df, correct_id_col='real_cellID', predicted_id_col='predicted_cellID'):\n",
    "    matthews_corrcoef_score= sklearn.metrics.matthews_corrcoef(annotation_df[correct_id_col],annotation_df[predicted_id_col])\n",
    "    return(matthews_corrcoef_score)"
   ]
  },
  {
   "cell_type": "code",
   "execution_count": 16,
   "id": "a15e48b0-eb1d-48cc-89d7-be4ffd7228f8",
   "metadata": {},
   "outputs": [],
   "source": [
    "def get_common_cells(*dataframes):\n",
    "    df_cell_list = [v.index for v in dataframes]\n",
    "    common_cells= list(set.intersection(*map(set,df_cell_list)))\n",
    "    return(common_cells)"
   ]
  },
  {
   "cell_type": "code",
   "execution_count": 17,
   "id": "d416de1f-f9da-4935-8b51-0a315b38fbf0",
   "metadata": {},
   "outputs": [],
   "source": [
    "def get_combined_annotations_df_for_common_cells(*frames, common_cells, cell_ID_column = \"cell_IDs\"):\n",
    "    if not frames:\n",
    "        return None\n",
    "    if len(frames) == 1:\n",
    "        return frames[0]\n",
    "    out = frames[0]\n",
    "    out = out.loc[common_cells,]\n",
    "    for df in frames[1:]:\n",
    "        out = out.merge(df.loc[common_cells,], on=cell_ID_column)\n",
    "    return out"
   ]
  },
  {
   "cell_type": "code",
   "execution_count": 18,
   "id": "cdadaf72-8298-4d25-b7b2-b015d26786ce",
   "metadata": {},
   "outputs": [],
   "source": [
    "def plot_performance_metrics(df , colors=None, labels = None, y_min = 0.0, frame_color = 'gray', frame_width = 0.5, x_label_rotation = 45, tick_size = 14,legend_fontsize = 12,\n",
    "                            legend_labels = None, legend_loc = 'upper center', legend_bbox_to_anchor=(0.5, -0.2), legend_ncol=4, save=False, save_path=None):\n",
    "\n",
    "    # Default values\n",
    "    default_colors = ['#5E0B8A', '#00A7E1', '#BDDA57', '#FF8C00']\n",
    "    default_labels = ['accuracy', 'balanced accuracy','cluster accuracy', 'macro F1', 'median F1',\n",
    "                      'median precision', 'median recall','MCC', 'ARI', \"Cohen's kappa\"]\n",
    "    default_legend_labels =['scATAcat', 'Seurat label transfer', 'Cellcano', 'EpiAnno']\n",
    "\n",
    "    # Use default if None is passed\n",
    "    colors = default_colors if colors is None else colors\n",
    "    labels = default_labels if labels is None else labels\n",
    "    legend_labels = default_legend_labels if legend_labels is None else legend_labels\n",
    "  \n",
    "    df.columns = labels\n",
    "    df.index = legend_labels\n",
    "    \n",
    "    matplotlib.rcParams['pdf.fonttype'] = 42\n",
    "    matplotlib.rcParams['ps.fonttype'] = 42\n",
    "\n",
    "    n_bins = 100  # Increase this number for a smoother gradient\n",
    "    cmap = LinearSegmentedColormap.from_list('custom_cmap', colors, N=n_bins)\n",
    "    ax = df.T.plot(kind='bar', figsize=(15, 10), legend=True, fontsize=12, colormap=cmap)\n",
    "    ax.set_ylim(ymin=y_min)\n",
    "    # Change plot frame to gray and adjust linewidth\n",
    "    spine_color = 'gray'\n",
    "    linewidth = frame_width # Adjust the linewidth as needed\n",
    "    for spine in ax.spines.values():\n",
    "        spine.set_color(spine_color)\n",
    "        spine.set_linewidth(linewidth)\n",
    "    ax.legend(legend_labels,fontsize=legend_fontsize, loc=legend_loc, bbox_to_anchor=legend_bbox_to_anchor,\n",
    "          fancybox=False, shadow=False, ncol=legend_ncol, frameon=False)\n",
    "    plt.xticks(rotation=45)\n",
    "    plt.tick_params(axis='both', which='major', labelsize=tick_size)\n",
    "\n",
    "    if save == False:\n",
    "        plt.show()\n",
    "    else:\n",
    "        if save_path == None:\n",
    "            print(\"specify the save_path directory\")\n",
    "        else:\n",
    "            plt.savefig(save_path, bbox_inches='tight', transparent=True)"
   ]
  },
  {
   "cell_type": "markdown",
   "id": "147a6041-afe9-4612-b0bf-99ce4d62dd7b",
   "metadata": {},
   "source": [
    "### seurat annotations"
   ]
  },
  {
   "cell_type": "code",
   "execution_count": 19,
   "id": "83a77a47-e789-4381-9786-f565acfb6c20",
   "metadata": {},
   "outputs": [],
   "source": [
    "data_dir = \"../../../../scATAcat_notebooks_for_paper/jan2024/results/Fig1_Fig2_Fig3_SFig1-FACS_BM_scATAC/\"\n",
    "\n",
    "leiden_key = 'leiden_0.4'"
   ]
  },
  {
   "cell_type": "code",
   "execution_count": null,
   "id": "8f2166ef-dd34-4f35-837c-8f9fc9532f49",
   "metadata": {},
   "outputs": [],
   "source": []
  },
  {
   "cell_type": "code",
   "execution_count": 20,
   "id": "d674bb6b-9293-4f44-ab9c-83aa8d51bf2d",
   "metadata": {},
   "outputs": [
    {
     "data": {
      "text/html": [
       "<div>\n",
       "<style scoped>\n",
       "    .dataframe tbody tr th:only-of-type {\n",
       "        vertical-align: middle;\n",
       "    }\n",
       "\n",
       "    .dataframe tbody tr th {\n",
       "        vertical-align: top;\n",
       "    }\n",
       "\n",
       "    .dataframe thead th {\n",
       "        text-align: right;\n",
       "    }\n",
       "</style>\n",
       "<table border=\"1\" class=\"dataframe\">\n",
       "  <thead>\n",
       "    <tr style=\"text-align: right;\">\n",
       "      <th></th>\n",
       "      <th>cell_IDs</th>\n",
       "      <th>orig.ident</th>\n",
       "      <th>predicted.celltype.l2</th>\n",
       "    </tr>\n",
       "  </thead>\n",
       "  <tbody>\n",
       "    <tr>\n",
       "      <th>CLP_0</th>\n",
       "      <td>CLP_0</td>\n",
       "      <td>CLP</td>\n",
       "      <td>GMP</td>\n",
       "    </tr>\n",
       "    <tr>\n",
       "      <th>CLP_1</th>\n",
       "      <td>CLP_1</td>\n",
       "      <td>CLP</td>\n",
       "      <td>Prog_B 1</td>\n",
       "    </tr>\n",
       "    <tr>\n",
       "      <th>CMP_0</th>\n",
       "      <td>CMP_0</td>\n",
       "      <td>CMP</td>\n",
       "      <td>GMP</td>\n",
       "    </tr>\n",
       "    <tr>\n",
       "      <th>CMP_1</th>\n",
       "      <td>CMP_1</td>\n",
       "      <td>CMP</td>\n",
       "      <td>GMP</td>\n",
       "    </tr>\n",
       "    <tr>\n",
       "      <th>CMP_2</th>\n",
       "      <td>CMP_2</td>\n",
       "      <td>CMP</td>\n",
       "      <td>GMP</td>\n",
       "    </tr>\n",
       "  </tbody>\n",
       "</table>\n",
       "</div>"
      ],
      "text/plain": [
       "      cell_IDs orig.ident predicted.celltype.l2\n",
       "CLP_0    CLP_0        CLP                   GMP\n",
       "CLP_1    CLP_1        CLP              Prog_B 1\n",
       "CMP_0    CMP_0        CMP                   GMP\n",
       "CMP_1    CMP_1        CMP                   GMP\n",
       "CMP_2    CMP_2        CMP                   GMP"
      ]
     },
     "execution_count": 20,
     "metadata": {},
     "output_type": "execute_result"
    }
   ],
   "source": [
    "#labelTransfer_annotations = pd.read_csv(data_dir+\"Fig3-apply_seurat_label_transfer/buenrostro2018_Seurat4_labeltransfer_metadata.csv\", header=0)\n",
    "labelTransfer_annotations = pd.read_csv(\"/project/scATAC_analysis/scATAcat_review/results/Fig1_Fig2_Fig3_SFig1-FACS_BM_scATAC/Fig3-apply_seurat_label_transfer/buenrostro2018_Seurat4_labeltransfer_bm_ref_ony_progenitor_metadata.csv\", header=0)\n",
    "labelTransfer_annotations = labelTransfer_annotations[['Unnamed: 0','orig.ident', 'predicted.celltype.l2']]\n",
    "labelTransfer_annotations.columns = ['cell_IDs','orig.ident', 'predicted.celltype.l2']\n",
    "labelTransfer_annotations.index = labelTransfer_annotations.cell_IDs\n",
    "labelTransfer_annotations.index.name = None\n",
    "labelTransfer_annotations.head()"
   ]
  },
  {
   "cell_type": "code",
   "execution_count": 21,
   "id": "f807a819-5a98-4804-99cd-e3fc9c66daa8",
   "metadata": {},
   "outputs": [
    {
     "data": {
      "text/plain": [
       "predicted.celltype.l2\n",
       "Prog_RBC    666\n",
       "GMP         646\n",
       "Prog_DC     259\n",
       "Prog_B 1    129\n",
       "HSC         106\n",
       "LMPP        101\n",
       "Prog_B 2     88\n",
       "Prog_Mk      22\n",
       "Name: count, dtype: int64"
      ]
     },
     "execution_count": 21,
     "metadata": {},
     "output_type": "execute_result"
    }
   ],
   "source": [
    "labelTransfer_annotations['predicted.celltype.l2'].value_counts()"
   ]
  },
  {
   "cell_type": "code",
   "execution_count": 22,
   "id": "25a29d9f-03b9-4e3b-ba45-0acd059d316c",
   "metadata": {},
   "outputs": [
    {
     "name": "stdout",
     "output_type": "stream",
     "text": [
      "{'CD4 Naive': 'CD4Tcell', 'Prog_B 1': 'CLP', 'CD4 Memory': 'CD4Tcell', 'Prog_RBC': 'MEP', 'CD8 Memory_2': 'CD8Tcell', 'Memory B': 'Bcell', 'NK': 'NKcell', 'CD14 Mono': 'Mono', 'CD8 Naive': 'CD8Tcell', 'CD8 Effector_2': 'CD8Tcell', 'Naive B': 'Bcell', 'HSC': 'HSC/MPP', 'MAIT': 'MAIT', 'pDC': 'pDC', 'GMP': 'GMP', 'CD16 Mono': 'Mono', 'gdT': 'gdT', 'Prog_B 2': 'CLP', 'LMPP': 'LMPP', 'CD8 Effector_1': 'CD8Tcell', 'Prog_DC': 'GMP', 'Plasmablast': 'Plasmablast', 'cDC2': 'cDC2', 'Prog_Mk': 'MEP', 'CD56 bright NK': 'NKcell', 'CD8 Memory_1': 'CD8Tcell'}\n"
     ]
    }
   ],
   "source": [
    "seurat_l2_annotations = ['CD4 Naive','Prog_B 1','CD4 Memory','Prog_RBC','CD8 Memory_2','Memory B','NK','CD14 Mono','CD8 Naive','CD8 Effector_2','Naive B','HSC','MAIT','pDC','GMP','CD16 Mono','gdT','Prog_B 2','LMPP','CD8 Effector_1','Prog_DC','Plasmablast','cDC2','Prog_Mk','CD56 bright NK','CD8 Memory_1']\n",
    "\n",
    "seurat_l2_annotations_simplified  =['CD4Tcell' , \"CLP\", 'CD4Tcell', \"MEP\", \"CD8Tcell\", \"Bcell\", \"NKcell\", \"Mono\", \"CD8Tcell\", \"CD8Tcell\", \"Bcell\", 'HSC/MPP', 'MAIT','pDC','GMP', \"Mono\", 'gdT', 'CLP', 'LMPP', 'CD8Tcell', \"GMP\", 'Plasmablast', 'cDC2', \"MEP\", \"NKcell\", 'CD8Tcell']\n",
    "\n",
    "seurat_l2_annotations_to_simplified_dict = dict(zip(seurat_l2_annotations, seurat_l2_annotations_simplified))\n",
    "\n",
    "print(seurat_l2_annotations_to_simplified_dict)\n",
    "\n"
   ]
  },
  {
   "cell_type": "code",
   "execution_count": 23,
   "id": "84fc6de7-bd28-4e2c-a52d-a253d8827caa",
   "metadata": {},
   "outputs": [],
   "source": [
    "labelTransfer_annotations = labelTransfer_annotations.assign(labelTransfer_predicted_celltype_l2_simplified=list(labelTransfer_annotations['predicted.celltype.l2'].map(seurat_l2_annotations_to_simplified_dict)))"
   ]
  },
  {
   "cell_type": "code",
   "execution_count": 24,
   "id": "73985a8d-b277-4730-9152-facfbc481bf1",
   "metadata": {},
   "outputs": [
    {
     "data": {
      "text/html": [
       "<div>\n",
       "<style scoped>\n",
       "    .dataframe tbody tr th:only-of-type {\n",
       "        vertical-align: middle;\n",
       "    }\n",
       "\n",
       "    .dataframe tbody tr th {\n",
       "        vertical-align: top;\n",
       "    }\n",
       "\n",
       "    .dataframe thead th {\n",
       "        text-align: right;\n",
       "    }\n",
       "</style>\n",
       "<table border=\"1\" class=\"dataframe\">\n",
       "  <thead>\n",
       "    <tr style=\"text-align: right;\">\n",
       "      <th></th>\n",
       "      <th>cell_IDs</th>\n",
       "      <th>orig.ident</th>\n",
       "      <th>predicted.celltype.l2</th>\n",
       "      <th>labelTransfer_predicted_celltype_l2_simplified</th>\n",
       "    </tr>\n",
       "  </thead>\n",
       "  <tbody>\n",
       "    <tr>\n",
       "      <th>CLP_0</th>\n",
       "      <td>CLP_0</td>\n",
       "      <td>CLP</td>\n",
       "      <td>GMP</td>\n",
       "      <td>GMP</td>\n",
       "    </tr>\n",
       "    <tr>\n",
       "      <th>CLP_1</th>\n",
       "      <td>CLP_1</td>\n",
       "      <td>CLP</td>\n",
       "      <td>Prog_B 1</td>\n",
       "      <td>CLP</td>\n",
       "    </tr>\n",
       "    <tr>\n",
       "      <th>CMP_0</th>\n",
       "      <td>CMP_0</td>\n",
       "      <td>CMP</td>\n",
       "      <td>GMP</td>\n",
       "      <td>GMP</td>\n",
       "    </tr>\n",
       "    <tr>\n",
       "      <th>CMP_1</th>\n",
       "      <td>CMP_1</td>\n",
       "      <td>CMP</td>\n",
       "      <td>GMP</td>\n",
       "      <td>GMP</td>\n",
       "    </tr>\n",
       "    <tr>\n",
       "      <th>CMP_2</th>\n",
       "      <td>CMP_2</td>\n",
       "      <td>CMP</td>\n",
       "      <td>GMP</td>\n",
       "      <td>GMP</td>\n",
       "    </tr>\n",
       "    <tr>\n",
       "      <th>...</th>\n",
       "      <td>...</td>\n",
       "      <td>...</td>\n",
       "      <td>...</td>\n",
       "      <td>...</td>\n",
       "    </tr>\n",
       "    <tr>\n",
       "      <th>LMPP_91</th>\n",
       "      <td>LMPP_91</td>\n",
       "      <td>LMPP</td>\n",
       "      <td>Prog_DC</td>\n",
       "      <td>GMP</td>\n",
       "    </tr>\n",
       "    <tr>\n",
       "      <th>LMPP_92</th>\n",
       "      <td>LMPP_92</td>\n",
       "      <td>LMPP</td>\n",
       "      <td>Prog_RBC</td>\n",
       "      <td>MEP</td>\n",
       "    </tr>\n",
       "    <tr>\n",
       "      <th>LMPP_93</th>\n",
       "      <td>LMPP_93</td>\n",
       "      <td>LMPP</td>\n",
       "      <td>GMP</td>\n",
       "      <td>GMP</td>\n",
       "    </tr>\n",
       "    <tr>\n",
       "      <th>LMPP_94</th>\n",
       "      <td>LMPP_94</td>\n",
       "      <td>LMPP</td>\n",
       "      <td>Prog_DC</td>\n",
       "      <td>GMP</td>\n",
       "    </tr>\n",
       "    <tr>\n",
       "      <th>LMPP_95</th>\n",
       "      <td>LMPP_95</td>\n",
       "      <td>LMPP</td>\n",
       "      <td>GMP</td>\n",
       "      <td>GMP</td>\n",
       "    </tr>\n",
       "  </tbody>\n",
       "</table>\n",
       "<p>2017 rows × 4 columns</p>\n",
       "</div>"
      ],
      "text/plain": [
       "        cell_IDs orig.ident predicted.celltype.l2  \\\n",
       "CLP_0      CLP_0        CLP                   GMP   \n",
       "CLP_1      CLP_1        CLP              Prog_B 1   \n",
       "CMP_0      CMP_0        CMP                   GMP   \n",
       "CMP_1      CMP_1        CMP                   GMP   \n",
       "CMP_2      CMP_2        CMP                   GMP   \n",
       "...          ...        ...                   ...   \n",
       "LMPP_91  LMPP_91       LMPP               Prog_DC   \n",
       "LMPP_92  LMPP_92       LMPP              Prog_RBC   \n",
       "LMPP_93  LMPP_93       LMPP                   GMP   \n",
       "LMPP_94  LMPP_94       LMPP               Prog_DC   \n",
       "LMPP_95  LMPP_95       LMPP                   GMP   \n",
       "\n",
       "        labelTransfer_predicted_celltype_l2_simplified  \n",
       "CLP_0                                              GMP  \n",
       "CLP_1                                              CLP  \n",
       "CMP_0                                              GMP  \n",
       "CMP_1                                              GMP  \n",
       "CMP_2                                              GMP  \n",
       "...                                                ...  \n",
       "LMPP_91                                            GMP  \n",
       "LMPP_92                                            MEP  \n",
       "LMPP_93                                            GMP  \n",
       "LMPP_94                                            GMP  \n",
       "LMPP_95                                            GMP  \n",
       "\n",
       "[2017 rows x 4 columns]"
      ]
     },
     "execution_count": 24,
     "metadata": {},
     "output_type": "execute_result"
    }
   ],
   "source": [
    "labelTransfer_annotations"
   ]
  },
  {
   "cell_type": "code",
   "execution_count": 25,
   "id": "58098a0d-41c4-4d38-87fb-c402115faa95",
   "metadata": {},
   "outputs": [
    {
     "data": {
      "text/plain": [
       "predicted.celltype.l2\n",
       "Prog_RBC    666\n",
       "GMP         646\n",
       "Prog_DC     259\n",
       "Prog_B 1    129\n",
       "HSC         106\n",
       "LMPP        101\n",
       "Prog_B 2     88\n",
       "Prog_Mk      22\n",
       "Name: count, dtype: int64"
      ]
     },
     "execution_count": 25,
     "metadata": {},
     "output_type": "execute_result"
    }
   ],
   "source": [
    "labelTransfer_annotations['predicted.celltype.l2'].value_counts()"
   ]
  },
  {
   "cell_type": "code",
   "execution_count": 26,
   "id": "1b91e1d1-4a47-4794-9a3c-432cdca4be50",
   "metadata": {},
   "outputs": [
    {
     "data": {
      "text/html": [
       "<div>\n",
       "<style scoped>\n",
       "    .dataframe tbody tr th:only-of-type {\n",
       "        vertical-align: middle;\n",
       "    }\n",
       "\n",
       "    .dataframe tbody tr th {\n",
       "        vertical-align: top;\n",
       "    }\n",
       "\n",
       "    .dataframe thead th {\n",
       "        text-align: right;\n",
       "    }\n",
       "</style>\n",
       "<table border=\"1\" class=\"dataframe\">\n",
       "  <thead>\n",
       "    <tr style=\"text-align: right;\">\n",
       "      <th></th>\n",
       "      <th>cell_IDs</th>\n",
       "      <th>ground_truth</th>\n",
       "      <th>labelTransfer_predicted</th>\n",
       "      <th>labelTransfer_predicted_simplified</th>\n",
       "    </tr>\n",
       "  </thead>\n",
       "  <tbody>\n",
       "    <tr>\n",
       "      <th>CLP_0</th>\n",
       "      <td>CLP_0</td>\n",
       "      <td>CLP</td>\n",
       "      <td>GMP</td>\n",
       "      <td>GMP</td>\n",
       "    </tr>\n",
       "    <tr>\n",
       "      <th>CLP_1</th>\n",
       "      <td>CLP_1</td>\n",
       "      <td>CLP</td>\n",
       "      <td>Prog_B 1</td>\n",
       "      <td>CLP</td>\n",
       "    </tr>\n",
       "    <tr>\n",
       "      <th>CMP_0</th>\n",
       "      <td>CMP_0</td>\n",
       "      <td>CMP</td>\n",
       "      <td>GMP</td>\n",
       "      <td>GMP</td>\n",
       "    </tr>\n",
       "    <tr>\n",
       "      <th>CMP_1</th>\n",
       "      <td>CMP_1</td>\n",
       "      <td>CMP</td>\n",
       "      <td>GMP</td>\n",
       "      <td>GMP</td>\n",
       "    </tr>\n",
       "    <tr>\n",
       "      <th>CMP_2</th>\n",
       "      <td>CMP_2</td>\n",
       "      <td>CMP</td>\n",
       "      <td>GMP</td>\n",
       "      <td>GMP</td>\n",
       "    </tr>\n",
       "  </tbody>\n",
       "</table>\n",
       "</div>"
      ],
      "text/plain": [
       "      cell_IDs ground_truth labelTransfer_predicted  \\\n",
       "CLP_0    CLP_0          CLP                     GMP   \n",
       "CLP_1    CLP_1          CLP                Prog_B 1   \n",
       "CMP_0    CMP_0          CMP                     GMP   \n",
       "CMP_1    CMP_1          CMP                     GMP   \n",
       "CMP_2    CMP_2          CMP                     GMP   \n",
       "\n",
       "      labelTransfer_predicted_simplified  \n",
       "CLP_0                                GMP  \n",
       "CLP_1                                CLP  \n",
       "CMP_0                                GMP  \n",
       "CMP_1                                GMP  \n",
       "CMP_2                                GMP  "
      ]
     },
     "execution_count": 26,
     "metadata": {},
     "output_type": "execute_result"
    }
   ],
   "source": [
    "labelTransfer_annotations.columns=[\"cell_IDs\",\"ground_truth\", \"labelTransfer_predicted\", \"labelTransfer_predicted_simplified\"]\n",
    "labelTransfer_annotations.head()"
   ]
  },
  {
   "cell_type": "code",
   "execution_count": 27,
   "id": "c4fa4375-4053-4277-80e0-362d14893ac2",
   "metadata": {},
   "outputs": [
    {
     "data": {
      "text/plain": [
       "ground_truth\n",
       "CMP     661\n",
       "HSC     448\n",
       "GMP     274\n",
       "MEP     208\n",
       "MPP     184\n",
       "CLP     146\n",
       "LMPP     96\n",
       "Name: count, dtype: int64"
      ]
     },
     "execution_count": 27,
     "metadata": {},
     "output_type": "execute_result"
    }
   ],
   "source": [
    "labelTransfer_annotations.ground_truth.value_counts()"
   ]
  },
  {
   "cell_type": "code",
   "execution_count": 28,
   "id": "cfa3e68b-f685-4f80-8e99-1ed046a87639",
   "metadata": {},
   "outputs": [],
   "source": [
    "seurat_integration_annotations = labelTransfer_annotations"
   ]
  },
  {
   "cell_type": "markdown",
   "id": "c3a65bf3-af6d-4025-be46-cff8af9a8bce",
   "metadata": {},
   "source": [
    "### scATAcat annotations"
   ]
  },
  {
   "cell_type": "code",
   "execution_count": 29,
   "id": "470e0bdc-be88-4b15-bea9-62c540ee1622",
   "metadata": {},
   "outputs": [
    {
     "data": {
      "text/html": [
       "<div>\n",
       "<style scoped>\n",
       "    .dataframe tbody tr th:only-of-type {\n",
       "        vertical-align: middle;\n",
       "    }\n",
       "\n",
       "    .dataframe tbody tr th {\n",
       "        vertical-align: top;\n",
       "    }\n",
       "\n",
       "    .dataframe thead th {\n",
       "        text-align: right;\n",
       "    }\n",
       "</style>\n",
       "<table border=\"1\" class=\"dataframe\">\n",
       "  <thead>\n",
       "    <tr style=\"text-align: right;\">\n",
       "      <th></th>\n",
       "      <th>cell_IDs</th>\n",
       "      <th>leiden_0.4</th>\n",
       "      <th>scATAcat_annotation</th>\n",
       "      <th>ground_truth_annotations</th>\n",
       "    </tr>\n",
       "  </thead>\n",
       "  <tbody>\n",
       "    <tr>\n",
       "      <th>CLP_1</th>\n",
       "      <td>CLP_1</td>\n",
       "      <td>6</td>\n",
       "      <td>CLP</td>\n",
       "      <td>CLP</td>\n",
       "    </tr>\n",
       "    <tr>\n",
       "      <th>CMP_0</th>\n",
       "      <td>CMP_0</td>\n",
       "      <td>0</td>\n",
       "      <td>CMP</td>\n",
       "      <td>CMP</td>\n",
       "    </tr>\n",
       "    <tr>\n",
       "      <th>CMP_1</th>\n",
       "      <td>CMP_1</td>\n",
       "      <td>0</td>\n",
       "      <td>CMP</td>\n",
       "      <td>CMP</td>\n",
       "    </tr>\n",
       "    <tr>\n",
       "      <th>CMP_2</th>\n",
       "      <td>CMP_2</td>\n",
       "      <td>0</td>\n",
       "      <td>CMP</td>\n",
       "      <td>CMP</td>\n",
       "    </tr>\n",
       "    <tr>\n",
       "      <th>CMP_3</th>\n",
       "      <td>CMP_3</td>\n",
       "      <td>3</td>\n",
       "      <td>MEP</td>\n",
       "      <td>CMP</td>\n",
       "    </tr>\n",
       "  </tbody>\n",
       "</table>\n",
       "</div>"
      ],
      "text/plain": [
       "      cell_IDs  leiden_0.4 scATAcat_annotation ground_truth_annotations\n",
       "CLP_1    CLP_1           6                 CLP                      CLP\n",
       "CMP_0    CMP_0           0                 CMP                      CMP\n",
       "CMP_1    CMP_1           0                 CMP                      CMP\n",
       "CMP_2    CMP_2           0                 CMP                      CMP\n",
       "CMP_3    CMP_3           3                 MEP                      CMP"
      ]
     },
     "execution_count": 29,
     "metadata": {},
     "output_type": "execute_result"
    }
   ],
   "source": [
    "#scATAcat_annotations = pd.read_csv(\"../../../results/Fig1_Fig2_Fig3_SFig1-FACS_BM_scATAC//Fig1_SFig1-apply_scATAcat/apply_scATAcat_with_Corces2016_prototypes/outputs/scATAcat_annotations.csv\")\n",
    "scATAcat_annotations = pd.read_csv(\"/project/scATAC_analysis/scATAcat_review/results/Fig1_Fig2_Fig3_SFig1-FACS_BM_scATAC/Fig1_SFig1-apply_scATAcat/apply_scATAcat_with_Corces2016_prototypes/outputs/scATAcat_annotations.csv\")\n",
    "scATAcat_annotations.columns = ['cell_IDs',leiden_key, 'scATAcat_annotation' ,'ground_truth_annotations']\n",
    "scATAcat_annotations.index = scATAcat_annotations.cell_IDs\n",
    "scATAcat_annotations.index.name = None\n",
    "scATAcat_annotations.head()"
   ]
  },
  {
   "cell_type": "code",
   "execution_count": 30,
   "id": "17387b60-8558-4c43-9a48-9b17758954a0",
   "metadata": {},
   "outputs": [],
   "source": [
    "# change HSC and MPP to HSC/MPP\n",
    "scATAcat_annotations = scATAcat_annotations.replace('HSC', 'HSC/MPP')\n",
    "scATAcat_annotations = scATAcat_annotations.replace('MPP', 'HSC/MPP')\n",
    "#scATAcat_annotations['scATAcat_annotation'] = scATAcat_annotations['scATAcat_annotation'].map({'HSC': 'HSC/MPP', '<PP': 'HSC/MPP'})\n",
    "#scATAcat_annotations['ground_truth_annotations'] = scATAcat_annotations['ground_truth_annotations'].map({'HSC': 'HSC/MPP', '<PP': 'HSC/MPP'})\n"
   ]
  },
  {
   "cell_type": "code",
   "execution_count": 31,
   "id": "de82963c-d211-4f6c-b387-16807cc2bb40",
   "metadata": {},
   "outputs": [
    {
     "data": {
      "text/html": [
       "<div>\n",
       "<style scoped>\n",
       "    .dataframe tbody tr th:only-of-type {\n",
       "        vertical-align: middle;\n",
       "    }\n",
       "\n",
       "    .dataframe tbody tr th {\n",
       "        vertical-align: top;\n",
       "    }\n",
       "\n",
       "    .dataframe thead th {\n",
       "        text-align: right;\n",
       "    }\n",
       "</style>\n",
       "<table border=\"1\" class=\"dataframe\">\n",
       "  <thead>\n",
       "    <tr style=\"text-align: right;\">\n",
       "      <th></th>\n",
       "      <th>cell_IDs</th>\n",
       "      <th>leiden_0.4</th>\n",
       "      <th>scATAcat_annotation</th>\n",
       "      <th>ground_truth_annotations</th>\n",
       "    </tr>\n",
       "  </thead>\n",
       "  <tbody>\n",
       "    <tr>\n",
       "      <th>CLP_1</th>\n",
       "      <td>CLP_1</td>\n",
       "      <td>6</td>\n",
       "      <td>CLP</td>\n",
       "      <td>CLP</td>\n",
       "    </tr>\n",
       "    <tr>\n",
       "      <th>CMP_0</th>\n",
       "      <td>CMP_0</td>\n",
       "      <td>0</td>\n",
       "      <td>CMP</td>\n",
       "      <td>CMP</td>\n",
       "    </tr>\n",
       "    <tr>\n",
       "      <th>CMP_1</th>\n",
       "      <td>CMP_1</td>\n",
       "      <td>0</td>\n",
       "      <td>CMP</td>\n",
       "      <td>CMP</td>\n",
       "    </tr>\n",
       "    <tr>\n",
       "      <th>CMP_2</th>\n",
       "      <td>CMP_2</td>\n",
       "      <td>0</td>\n",
       "      <td>CMP</td>\n",
       "      <td>CMP</td>\n",
       "    </tr>\n",
       "    <tr>\n",
       "      <th>CMP_3</th>\n",
       "      <td>CMP_3</td>\n",
       "      <td>3</td>\n",
       "      <td>MEP</td>\n",
       "      <td>CMP</td>\n",
       "    </tr>\n",
       "    <tr>\n",
       "      <th>...</th>\n",
       "      <td>...</td>\n",
       "      <td>...</td>\n",
       "      <td>...</td>\n",
       "      <td>...</td>\n",
       "    </tr>\n",
       "    <tr>\n",
       "      <th>LMPP_90</th>\n",
       "      <td>LMPP_90</td>\n",
       "      <td>5</td>\n",
       "      <td>LMPP</td>\n",
       "      <td>LMPP</td>\n",
       "    </tr>\n",
       "    <tr>\n",
       "      <th>LMPP_91</th>\n",
       "      <td>LMPP_91</td>\n",
       "      <td>5</td>\n",
       "      <td>LMPP</td>\n",
       "      <td>LMPP</td>\n",
       "    </tr>\n",
       "    <tr>\n",
       "      <th>LMPP_93</th>\n",
       "      <td>LMPP_93</td>\n",
       "      <td>5</td>\n",
       "      <td>LMPP</td>\n",
       "      <td>LMPP</td>\n",
       "    </tr>\n",
       "    <tr>\n",
       "      <th>LMPP_94</th>\n",
       "      <td>LMPP_94</td>\n",
       "      <td>5</td>\n",
       "      <td>LMPP</td>\n",
       "      <td>LMPP</td>\n",
       "    </tr>\n",
       "    <tr>\n",
       "      <th>LMPP_95</th>\n",
       "      <td>LMPP_95</td>\n",
       "      <td>5</td>\n",
       "      <td>LMPP</td>\n",
       "      <td>LMPP</td>\n",
       "    </tr>\n",
       "  </tbody>\n",
       "</table>\n",
       "<p>1872 rows × 4 columns</p>\n",
       "</div>"
      ],
      "text/plain": [
       "        cell_IDs  leiden_0.4 scATAcat_annotation ground_truth_annotations\n",
       "CLP_1      CLP_1           6                 CLP                      CLP\n",
       "CMP_0      CMP_0           0                 CMP                      CMP\n",
       "CMP_1      CMP_1           0                 CMP                      CMP\n",
       "CMP_2      CMP_2           0                 CMP                      CMP\n",
       "CMP_3      CMP_3           3                 MEP                      CMP\n",
       "...          ...         ...                 ...                      ...\n",
       "LMPP_90  LMPP_90           5                LMPP                     LMPP\n",
       "LMPP_91  LMPP_91           5                LMPP                     LMPP\n",
       "LMPP_93  LMPP_93           5                LMPP                     LMPP\n",
       "LMPP_94  LMPP_94           5                LMPP                     LMPP\n",
       "LMPP_95  LMPP_95           5                LMPP                     LMPP\n",
       "\n",
       "[1872 rows x 4 columns]"
      ]
     },
     "execution_count": 31,
     "metadata": {},
     "output_type": "execute_result"
    }
   ],
   "source": [
    "scATAcat_annotations"
   ]
  },
  {
   "cell_type": "code",
   "execution_count": 32,
   "id": "ec57283d-4689-42d6-9c82-60dab8dbb72f",
   "metadata": {},
   "outputs": [
    {
     "data": {
      "text/plain": [
       "ground_truth_annotations\n",
       "CMP        645\n",
       "HSC/MPP    582\n",
       "GMP        253\n",
       "MEP        190\n",
       "CLP        108\n",
       "LMPP        94\n",
       "Name: count, dtype: int64"
      ]
     },
     "execution_count": 32,
     "metadata": {},
     "output_type": "execute_result"
    }
   ],
   "source": [
    "scATAcat_annotations['ground_truth_annotations'].value_counts()"
   ]
  },
  {
   "cell_type": "markdown",
   "id": "ea305837-219e-49b0-b96a-4a6317375875",
   "metadata": {},
   "source": [
    "### Cellcano annotations"
   ]
  },
  {
   "cell_type": "code",
   "execution_count": 33,
   "id": "05b6fc86-4e62-4145-9514-0d0f1ef45694",
   "metadata": {},
   "outputs": [],
   "source": [
    "#Cellcano_annotations = pd.read_csv(\"/project/scATAC_analysis/scATAcat_review/benchmarking/Cellcano/apply_BM/output_Buenrostro2018_FACS_BM/predict_Buenrostro2018_FACS_BMcelltypes.csv\")"
   ]
  },
  {
   "cell_type": "code",
   "execution_count": 34,
   "id": "199d3d84-df8c-432d-8dd7-d332475aa6ac",
   "metadata": {},
   "outputs": [],
   "source": [
    "Cellcano_annotations = pd.read_csv(\"/project/scATAC_analysis/scATAcat_review/benchmarking/Cellcano/apply_CD34cells/output_Buenrostro2018_FACS_BM/predict_Buenrostro2018_FACS_BMcelltypes.csv\")"
   ]
  },
  {
   "cell_type": "code",
   "execution_count": 35,
   "id": "9e7cf943-fb74-40cc-9ae2-30717f889242",
   "metadata": {},
   "outputs": [
    {
     "data": {
      "text/html": [
       "<div>\n",
       "<style scoped>\n",
       "    .dataframe tbody tr th:only-of-type {\n",
       "        vertical-align: middle;\n",
       "    }\n",
       "\n",
       "    .dataframe tbody tr th {\n",
       "        vertical-align: top;\n",
       "    }\n",
       "\n",
       "    .dataframe thead th {\n",
       "        text-align: right;\n",
       "    }\n",
       "</style>\n",
       "<table border=\"1\" class=\"dataframe\">\n",
       "  <thead>\n",
       "    <tr style=\"text-align: right;\">\n",
       "      <th></th>\n",
       "      <th>Unnamed: 0</th>\n",
       "      <th>pred_celltype</th>\n",
       "      <th>firstround_pred_celltype</th>\n",
       "      <th>entropy</th>\n",
       "    </tr>\n",
       "  </thead>\n",
       "  <tbody>\n",
       "    <tr>\n",
       "      <th>0</th>\n",
       "      <td>Corces2018_BM_FACS_scATAC_fragments_reorganize...</td>\n",
       "      <td>MDP</td>\n",
       "      <td>MDP</td>\n",
       "      <td>0.895430</td>\n",
       "    </tr>\n",
       "    <tr>\n",
       "      <th>1</th>\n",
       "      <td>Corces2018_BM_FACS_scATAC_fragments_reorganize...</td>\n",
       "      <td>MDP</td>\n",
       "      <td>MDP</td>\n",
       "      <td>0.469363</td>\n",
       "    </tr>\n",
       "    <tr>\n",
       "      <th>2</th>\n",
       "      <td>Corces2018_BM_FACS_scATAC_fragments_reorganize...</td>\n",
       "      <td>CLP</td>\n",
       "      <td>CLP</td>\n",
       "      <td>0.756266</td>\n",
       "    </tr>\n",
       "    <tr>\n",
       "      <th>3</th>\n",
       "      <td>Corces2018_BM_FACS_scATAC_fragments_reorganize...</td>\n",
       "      <td>MDP</td>\n",
       "      <td>MDP</td>\n",
       "      <td>0.117884</td>\n",
       "    </tr>\n",
       "    <tr>\n",
       "      <th>4</th>\n",
       "      <td>Corces2018_BM_FACS_scATAC_fragments_reorganize...</td>\n",
       "      <td>MDP</td>\n",
       "      <td>MDP</td>\n",
       "      <td>1.073732</td>\n",
       "    </tr>\n",
       "  </tbody>\n",
       "</table>\n",
       "</div>"
      ],
      "text/plain": [
       "                                          Unnamed: 0 pred_celltype  \\\n",
       "0  Corces2018_BM_FACS_scATAC_fragments_reorganize...           MDP   \n",
       "1  Corces2018_BM_FACS_scATAC_fragments_reorganize...           MDP   \n",
       "2  Corces2018_BM_FACS_scATAC_fragments_reorganize...           CLP   \n",
       "3  Corces2018_BM_FACS_scATAC_fragments_reorganize...           MDP   \n",
       "4  Corces2018_BM_FACS_scATAC_fragments_reorganize...           MDP   \n",
       "\n",
       "  firstround_pred_celltype   entropy  \n",
       "0                      MDP  0.895430  \n",
       "1                      MDP  0.469363  \n",
       "2                      CLP  0.756266  \n",
       "3                      MDP  0.117884  \n",
       "4                      MDP  1.073732  "
      ]
     },
     "execution_count": 35,
     "metadata": {},
     "output_type": "execute_result"
    }
   ],
   "source": [
    "Cellcano_annotations.head()"
   ]
  },
  {
   "cell_type": "code",
   "execution_count": 36,
   "id": "e48e5a56-24ff-4ef8-9560-e0567a4a37fe",
   "metadata": {},
   "outputs": [
    {
     "data": {
      "text/html": [
       "<div>\n",
       "<style scoped>\n",
       "    .dataframe tbody tr th:only-of-type {\n",
       "        vertical-align: middle;\n",
       "    }\n",
       "\n",
       "    .dataframe tbody tr th {\n",
       "        vertical-align: top;\n",
       "    }\n",
       "\n",
       "    .dataframe thead th {\n",
       "        text-align: right;\n",
       "    }\n",
       "</style>\n",
       "<table border=\"1\" class=\"dataframe\">\n",
       "  <thead>\n",
       "    <tr style=\"text-align: right;\">\n",
       "      <th></th>\n",
       "      <th>cell_IDs</th>\n",
       "      <th>Cellcano_annotations</th>\n",
       "    </tr>\n",
       "  </thead>\n",
       "  <tbody>\n",
       "    <tr>\n",
       "      <th>MEP_150</th>\n",
       "      <td>MEP_150</td>\n",
       "      <td>MDP</td>\n",
       "    </tr>\n",
       "    <tr>\n",
       "      <th>CMP_239</th>\n",
       "      <td>CMP_239</td>\n",
       "      <td>MDP</td>\n",
       "    </tr>\n",
       "    <tr>\n",
       "      <th>HSC_284</th>\n",
       "      <td>HSC_284</td>\n",
       "      <td>CLP</td>\n",
       "    </tr>\n",
       "    <tr>\n",
       "      <th>GMP_285</th>\n",
       "      <td>GMP_285</td>\n",
       "      <td>MDP</td>\n",
       "    </tr>\n",
       "    <tr>\n",
       "      <th>CMP_164</th>\n",
       "      <td>CMP_164</td>\n",
       "      <td>MDP</td>\n",
       "    </tr>\n",
       "  </tbody>\n",
       "</table>\n",
       "</div>"
      ],
      "text/plain": [
       "        cell_IDs Cellcano_annotations\n",
       "MEP_150  MEP_150                  MDP\n",
       "CMP_239  CMP_239                  MDP\n",
       "HSC_284  HSC_284                  CLP\n",
       "GMP_285  GMP_285                  MDP\n",
       "CMP_164  CMP_164                  MDP"
      ]
     },
     "execution_count": 36,
     "metadata": {},
     "output_type": "execute_result"
    }
   ],
   "source": [
    "Cellcano_annotations[['prefix', 'cell_IDs']] = Cellcano_annotations.iloc[:,0].str.split(\"#\", n=1, expand=True)\n",
    "Cellcano_annotations = Cellcano_annotations[[\"cell_IDs\", \"pred_celltype\"]]\n",
    "Cellcano_annotations.columns = [\"cell_IDs\", \"Cellcano_annotations\"]\n",
    "Cellcano_annotations.index =Cellcano_annotations[\"cell_IDs\"]\n",
    "Cellcano_annotations.index.name = None\n",
    "Cellcano_annotations.head()"
   ]
  },
  {
   "cell_type": "code",
   "execution_count": 37,
   "id": "d133d1ab-9583-4c2f-a6cc-dd7d0d16a433",
   "metadata": {},
   "outputs": [
    {
     "data": {
      "text/plain": [
       "Cellcano_annotations\n",
       "LMPP       538\n",
       "HSC/MPP    448\n",
       "MEP        235\n",
       "MDP        224\n",
       "GMP        154\n",
       "CMP/BMP    100\n",
       "Pro-B       99\n",
       "CLP         65\n",
       "pDC         11\n",
       "Pre-B        1\n",
       "Name: count, dtype: int64"
      ]
     },
     "execution_count": 37,
     "metadata": {},
     "output_type": "execute_result"
    }
   ],
   "source": [
    "Cellcano_annotations.Cellcano_annotations.value_counts()"
   ]
  },
  {
   "cell_type": "code",
   "execution_count": 38,
   "id": "4a2115f3-8df8-4d7b-9399-937d82b0cb8f",
   "metadata": {},
   "outputs": [
    {
     "name": "stdout",
     "output_type": "stream",
     "text": [
      "{'HSC/MPP': 'HSC/MPP', 'MEP': 'MEP', 'CMP/BMP': 'CMP', 'LMPP': 'LMPP', 'CLP': 'CLP', 'Pro-B': 'CLP', 'Pre-B': 'CLP', 'GMP': 'GMP', 'MDP': 'GMP', 'pDC': 'pDC', 'cDC': 'cDC', 'Mono1': 'Mono', 'Mono2': 'Mono', 'Naive-B': 'Bcell', 'Memory-B': 'Bcell', 'Plasma-B': 'Bcell', 'Basofil': 'Basofil', 'Imm-NK': 'NKcell', 'Mat-NK1': 'NKcell', 'Mat-NK2': 'NKcell', 'N-CD4T1': 'CD4Tcell', 'N-CD4T2': 'CD4Tcell', 'N-Treg': 'Treg', 'M-CD4T': 'CD4Tcell', 'Treg': 'Treg', 'N-CD8T1': 'CD8Tcell', 'N-CD8T2': 'CD8Tcell', 'N-CD8T3': 'CD8Tcell', 'CM-CD8T': 'CD8Tcell', 'EM-CDT8': 'CD8Tcell', 'GDelta-T': 'gdT'}\n"
     ]
    }
   ],
   "source": [
    "Cellcano_annotations_ = ['HSC/MPP','MEP','CMP/BMP','LMPP','CLP','Pro-B','Pre-B','GMP','MDP','pDC','cDC','Mono1','Mono2','Naive-B','Memory-B','Plasma-B','Basofil','Imm-NK','Mat-NK1','Mat-NK2','N-CD4T1','N-CD4T2','N-Treg','M-CD4T','Treg','N-CD8T1','N-CD8T2','N-CD8T3','CM-CD8T','EM-CDT8','GDelta-T']\n",
    "Cellcano_annotations_simplified  = [ \"HSC/MPP\",\"MEP\",\"CMP\",\"LMPP\",\"CLP\",\"CLP\",\"CLP\",\"GMP\",\"GMP\",\"pDC\",\"cDC\",\"Mono\",\"Mono\",\"Bcell\",\"Bcell\",\"Bcell\",\"Basofil\",\"NKcell\",\"NKcell\",\"NKcell\",\"CD4Tcell\",\"CD4Tcell\",\"Treg\",\"CD4Tcell\",\"Treg\",\"CD8Tcell\",\"CD8Tcell\",\"CD8Tcell\",\"CD8Tcell\",\"CD8Tcell\",\"gdT\"]\n",
    "Cellcano_annotations_simplified_dict = dict(zip(Cellcano_annotations_, Cellcano_annotations_simplified))\n",
    "\n",
    "print(Cellcano_annotations_simplified_dict)"
   ]
  },
  {
   "cell_type": "code",
   "execution_count": 39,
   "id": "ed64364f-dfb8-4300-a36a-61447bab2e5b",
   "metadata": {},
   "outputs": [
    {
     "data": {
      "text/html": [
       "<div>\n",
       "<style scoped>\n",
       "    .dataframe tbody tr th:only-of-type {\n",
       "        vertical-align: middle;\n",
       "    }\n",
       "\n",
       "    .dataframe tbody tr th {\n",
       "        vertical-align: top;\n",
       "    }\n",
       "\n",
       "    .dataframe thead th {\n",
       "        text-align: right;\n",
       "    }\n",
       "</style>\n",
       "<table border=\"1\" class=\"dataframe\">\n",
       "  <thead>\n",
       "    <tr style=\"text-align: right;\">\n",
       "      <th></th>\n",
       "      <th>cell_IDs</th>\n",
       "      <th>Cellcano_annotations</th>\n",
       "      <th>Cellcano_annotations_simplified</th>\n",
       "    </tr>\n",
       "  </thead>\n",
       "  <tbody>\n",
       "    <tr>\n",
       "      <th>MEP_150</th>\n",
       "      <td>MEP_150</td>\n",
       "      <td>MDP</td>\n",
       "      <td>GMP</td>\n",
       "    </tr>\n",
       "    <tr>\n",
       "      <th>CMP_239</th>\n",
       "      <td>CMP_239</td>\n",
       "      <td>MDP</td>\n",
       "      <td>GMP</td>\n",
       "    </tr>\n",
       "    <tr>\n",
       "      <th>HSC_284</th>\n",
       "      <td>HSC_284</td>\n",
       "      <td>CLP</td>\n",
       "      <td>CLP</td>\n",
       "    </tr>\n",
       "    <tr>\n",
       "      <th>GMP_285</th>\n",
       "      <td>GMP_285</td>\n",
       "      <td>MDP</td>\n",
       "      <td>GMP</td>\n",
       "    </tr>\n",
       "    <tr>\n",
       "      <th>CMP_164</th>\n",
       "      <td>CMP_164</td>\n",
       "      <td>MDP</td>\n",
       "      <td>GMP</td>\n",
       "    </tr>\n",
       "  </tbody>\n",
       "</table>\n",
       "</div>"
      ],
      "text/plain": [
       "        cell_IDs Cellcano_annotations Cellcano_annotations_simplified\n",
       "MEP_150  MEP_150                  MDP                             GMP\n",
       "CMP_239  CMP_239                  MDP                             GMP\n",
       "HSC_284  HSC_284                  CLP                             CLP\n",
       "GMP_285  GMP_285                  MDP                             GMP\n",
       "CMP_164  CMP_164                  MDP                             GMP"
      ]
     },
     "execution_count": 39,
     "metadata": {},
     "output_type": "execute_result"
    }
   ],
   "source": [
    "\n",
    "Cellcano_annotations= Cellcano_annotations.assign(Cellcano_annotations_simplified=list(Cellcano_annotations['Cellcano_annotations'].map(Cellcano_annotations_simplified_dict)))\n",
    "Cellcano_annotations.head()"
   ]
  },
  {
   "cell_type": "markdown",
   "id": "6bd83efd-81fb-4b2f-bf20-6f8fc357e4ff",
   "metadata": {},
   "source": [
    "### EpiAnno annotations"
   ]
  },
  {
   "cell_type": "raw",
   "id": "626af019-cb32-4dd0-bf50-5291b3ae26c5",
   "metadata": {},
   "source": [
    "EpiAnno_annotations = pd.read_csv(\"../../../results/Review_EpiAnno/SatpathyBM_with_Buenrostro2018_FACS_BM_peaks/predicted_labels.csv\", index_col=0)\n",
    "EpiAnno_annotations.columns = [\"cell_IDs\", \"EpiAnno_annotations\"]\n",
    "EpiAnno_annotations.index =EpiAnno_annotations[\"cell_IDs\"]\n",
    "EpiAnno_annotations.index.name = None\n"
   ]
  },
  {
   "cell_type": "code",
   "execution_count": 40,
   "id": "5a691ba6-e70f-40f8-bc6e-7b0d5465526b",
   "metadata": {},
   "outputs": [],
   "source": [
    "EpiAnno_annotations = pd.read_csv(\"../../../results/Review_EpiAnno/SatpathyProgenitors_Rep1_scATAC_with_Buenrostro_FACS_BM_peaks/predicted_labels.csv\", index_col=0)\n",
    "EpiAnno_annotations.columns = [\"cell_IDs\", \"EpiAnno_annotations\"]\n",
    "EpiAnno_annotations.index =EpiAnno_annotations[\"cell_IDs\"]\n",
    "EpiAnno_annotations.index.name = None\n"
   ]
  },
  {
   "cell_type": "code",
   "execution_count": 41,
   "id": "4489d671-ad5f-4e97-a820-2d2135270f86",
   "metadata": {},
   "outputs": [
    {
     "data": {
      "text/html": [
       "<div>\n",
       "<style scoped>\n",
       "    .dataframe tbody tr th:only-of-type {\n",
       "        vertical-align: middle;\n",
       "    }\n",
       "\n",
       "    .dataframe tbody tr th {\n",
       "        vertical-align: top;\n",
       "    }\n",
       "\n",
       "    .dataframe thead th {\n",
       "        text-align: right;\n",
       "    }\n",
       "</style>\n",
       "<table border=\"1\" class=\"dataframe\">\n",
       "  <thead>\n",
       "    <tr style=\"text-align: right;\">\n",
       "      <th></th>\n",
       "      <th>cell_IDs</th>\n",
       "      <th>EpiAnno_annotations</th>\n",
       "    </tr>\n",
       "  </thead>\n",
       "  <tbody>\n",
       "    <tr>\n",
       "      <th>MEP_150</th>\n",
       "      <td>MEP_150</td>\n",
       "      <td>MEP</td>\n",
       "    </tr>\n",
       "    <tr>\n",
       "      <th>CMP_239</th>\n",
       "      <td>CMP_239</td>\n",
       "      <td>GMP</td>\n",
       "    </tr>\n",
       "    <tr>\n",
       "      <th>HSC_284</th>\n",
       "      <td>HSC_284</td>\n",
       "      <td>CLP</td>\n",
       "    </tr>\n",
       "    <tr>\n",
       "      <th>GMP_285</th>\n",
       "      <td>GMP_285</td>\n",
       "      <td>MDP</td>\n",
       "    </tr>\n",
       "    <tr>\n",
       "      <th>CMP_164</th>\n",
       "      <td>CMP_164</td>\n",
       "      <td>MEP</td>\n",
       "    </tr>\n",
       "  </tbody>\n",
       "</table>\n",
       "</div>"
      ],
      "text/plain": [
       "        cell_IDs EpiAnno_annotations\n",
       "MEP_150  MEP_150                 MEP\n",
       "CMP_239  CMP_239                 GMP\n",
       "HSC_284  HSC_284                 CLP\n",
       "GMP_285  GMP_285                 MDP\n",
       "CMP_164  CMP_164                 MEP"
      ]
     },
     "execution_count": 41,
     "metadata": {},
     "output_type": "execute_result"
    }
   ],
   "source": [
    "EpiAnno_annotations.head()"
   ]
  },
  {
   "cell_type": "code",
   "execution_count": 42,
   "id": "9e4d3550-77c0-40b7-8d50-1903a2f45a32",
   "metadata": {},
   "outputs": [
    {
     "name": "stdout",
     "output_type": "stream",
     "text": [
      "{'HSC/MPP': 'HSC/MPP', 'MEP': 'MEP', 'CMP/BMP': 'CMP', 'LMPP': 'LMPP', 'CLP': 'CLP', 'Pro-B': 'CLP', 'Pre-B': 'CLP', 'GMP': 'GMP', 'MDP': 'GMP', 'pDC': 'pDC', 'cDC': 'cDC', 'Mono1': 'Mono', 'Mono2': 'Mono', 'Naive-B': 'Bcell', 'Memory-B': 'Bcell', 'Plasma-B': 'Bcell', 'Basofil': 'Basofil', 'Imm-NK': 'NKcell', 'Mat-NK1': 'NKcell', 'Mat-NK2': 'NKcell', 'N-CD4T1': 'CD4Tcell', 'N-CD4T2': 'CD4Tcell', 'N-Treg': 'Treg', 'M-CD4T': 'CD4Tcell', 'Treg': 'Treg', 'N-CD8T1': 'CD8Tcell', 'N-CD8T2': 'CD8Tcell', 'N-CD8T3': 'CD8Tcell', 'CM-CD8T': 'CD8Tcell', 'EM-CDT8': 'CD8Tcell', 'GDelta-T': 'gdT'}\n"
     ]
    }
   ],
   "source": [
    "EpiAnno_annotations_ = ['HSC/MPP','MEP','CMP/BMP','LMPP','CLP','Pro-B','Pre-B','GMP','MDP','pDC','cDC','Mono1','Mono2','Naive-B','Memory-B','Plasma-B','Basofil','Imm-NK','Mat-NK1','Mat-NK2','N-CD4T1','N-CD4T2','N-Treg','M-CD4T','Treg','N-CD8T1','N-CD8T2','N-CD8T3','CM-CD8T','EM-CDT8','GDelta-T']\n",
    "EpiAnno_annotations_simplified  =[ \"HSC/MPP\",\"MEP\",\"CMP\",\"LMPP\",\"CLP\",\"CLP\",\"CLP\",\"GMP\",\"GMP\",\"pDC\",\"cDC\",\"Mono\",\"Mono\",\"Bcell\",\"Bcell\",\"Bcell\",\"Basofil\",\"NKcell\",\"NKcell\",\"NKcell\",\"CD4Tcell\",\"CD4Tcell\",\"Treg\",\"CD4Tcell\",\"Treg\",\"CD8Tcell\",\"CD8Tcell\",\"CD8Tcell\",\"CD8Tcell\",\"CD8Tcell\",\"gdT\"]\n",
    "EpiAnno_annotations_simplified_dict = dict(zip(EpiAnno_annotations_, EpiAnno_annotations_simplified))\n",
    "\n",
    "print(EpiAnno_annotations_simplified_dict)"
   ]
  },
  {
   "cell_type": "code",
   "execution_count": 43,
   "id": "17e1ebe2-2c8a-41a4-a403-12aab1644988",
   "metadata": {},
   "outputs": [
    {
     "data": {
      "text/html": [
       "<div>\n",
       "<style scoped>\n",
       "    .dataframe tbody tr th:only-of-type {\n",
       "        vertical-align: middle;\n",
       "    }\n",
       "\n",
       "    .dataframe tbody tr th {\n",
       "        vertical-align: top;\n",
       "    }\n",
       "\n",
       "    .dataframe thead th {\n",
       "        text-align: right;\n",
       "    }\n",
       "</style>\n",
       "<table border=\"1\" class=\"dataframe\">\n",
       "  <thead>\n",
       "    <tr style=\"text-align: right;\">\n",
       "      <th></th>\n",
       "      <th>cell_IDs</th>\n",
       "      <th>EpiAnno_annotations</th>\n",
       "      <th>EpiAnno_annotations_simplified</th>\n",
       "    </tr>\n",
       "  </thead>\n",
       "  <tbody>\n",
       "    <tr>\n",
       "      <th>MEP_150</th>\n",
       "      <td>MEP_150</td>\n",
       "      <td>MEP</td>\n",
       "      <td>MEP</td>\n",
       "    </tr>\n",
       "    <tr>\n",
       "      <th>CMP_239</th>\n",
       "      <td>CMP_239</td>\n",
       "      <td>GMP</td>\n",
       "      <td>GMP</td>\n",
       "    </tr>\n",
       "    <tr>\n",
       "      <th>HSC_284</th>\n",
       "      <td>HSC_284</td>\n",
       "      <td>CLP</td>\n",
       "      <td>CLP</td>\n",
       "    </tr>\n",
       "    <tr>\n",
       "      <th>GMP_285</th>\n",
       "      <td>GMP_285</td>\n",
       "      <td>MDP</td>\n",
       "      <td>GMP</td>\n",
       "    </tr>\n",
       "    <tr>\n",
       "      <th>CMP_164</th>\n",
       "      <td>CMP_164</td>\n",
       "      <td>MEP</td>\n",
       "      <td>MEP</td>\n",
       "    </tr>\n",
       "  </tbody>\n",
       "</table>\n",
       "</div>"
      ],
      "text/plain": [
       "        cell_IDs EpiAnno_annotations EpiAnno_annotations_simplified\n",
       "MEP_150  MEP_150                 MEP                            MEP\n",
       "CMP_239  CMP_239                 GMP                            GMP\n",
       "HSC_284  HSC_284                 CLP                            CLP\n",
       "GMP_285  GMP_285                 MDP                            GMP\n",
       "CMP_164  CMP_164                 MEP                            MEP"
      ]
     },
     "execution_count": 43,
     "metadata": {},
     "output_type": "execute_result"
    }
   ],
   "source": [
    "\n",
    "EpiAnno_annotations= EpiAnno_annotations.assign(EpiAnno_annotations_simplified=list(EpiAnno_annotations['EpiAnno_annotations'].map(EpiAnno_annotations_simplified_dict)))\n",
    "EpiAnno_annotations.head()"
   ]
  },
  {
   "cell_type": "markdown",
   "id": "5ce9fee5-62c4-4eaa-8bc5-a21425329213",
   "metadata": {},
   "source": [
    "## combine the annotations for the common cells:\n",
    "\n"
   ]
  },
  {
   "cell_type": "code",
   "execution_count": 44,
   "id": "651d7daf-ed59-4bc4-a67f-4897c855a439",
   "metadata": {},
   "outputs": [
    {
     "data": {
      "text/html": [
       "<div>\n",
       "<style scoped>\n",
       "    .dataframe tbody tr th:only-of-type {\n",
       "        vertical-align: middle;\n",
       "    }\n",
       "\n",
       "    .dataframe tbody tr th {\n",
       "        vertical-align: top;\n",
       "    }\n",
       "\n",
       "    .dataframe thead th {\n",
       "        text-align: right;\n",
       "    }\n",
       "</style>\n",
       "<table border=\"1\" class=\"dataframe\">\n",
       "  <thead>\n",
       "    <tr style=\"text-align: right;\">\n",
       "      <th></th>\n",
       "      <th>cell_IDs</th>\n",
       "      <th>EpiAnno_annotations</th>\n",
       "      <th>EpiAnno_annotations_simplified</th>\n",
       "    </tr>\n",
       "  </thead>\n",
       "  <tbody>\n",
       "    <tr>\n",
       "      <th>MEP_150</th>\n",
       "      <td>MEP_150</td>\n",
       "      <td>MEP</td>\n",
       "      <td>MEP</td>\n",
       "    </tr>\n",
       "    <tr>\n",
       "      <th>CMP_239</th>\n",
       "      <td>CMP_239</td>\n",
       "      <td>GMP</td>\n",
       "      <td>GMP</td>\n",
       "    </tr>\n",
       "    <tr>\n",
       "      <th>HSC_284</th>\n",
       "      <td>HSC_284</td>\n",
       "      <td>CLP</td>\n",
       "      <td>CLP</td>\n",
       "    </tr>\n",
       "    <tr>\n",
       "      <th>GMP_285</th>\n",
       "      <td>GMP_285</td>\n",
       "      <td>MDP</td>\n",
       "      <td>GMP</td>\n",
       "    </tr>\n",
       "    <tr>\n",
       "      <th>CMP_164</th>\n",
       "      <td>CMP_164</td>\n",
       "      <td>MEP</td>\n",
       "      <td>MEP</td>\n",
       "    </tr>\n",
       "    <tr>\n",
       "      <th>...</th>\n",
       "      <td>...</td>\n",
       "      <td>...</td>\n",
       "      <td>...</td>\n",
       "    </tr>\n",
       "    <tr>\n",
       "      <th>CMP_653</th>\n",
       "      <td>CMP_653</td>\n",
       "      <td>CMP/BMP</td>\n",
       "      <td>CMP</td>\n",
       "    </tr>\n",
       "    <tr>\n",
       "      <th>HSC_34</th>\n",
       "      <td>HSC_34</td>\n",
       "      <td>HSC/MPP</td>\n",
       "      <td>HSC/MPP</td>\n",
       "    </tr>\n",
       "    <tr>\n",
       "      <th>GMP_133</th>\n",
       "      <td>GMP_133</td>\n",
       "      <td>Pro-B</td>\n",
       "      <td>CLP</td>\n",
       "    </tr>\n",
       "    <tr>\n",
       "      <th>MEP_221</th>\n",
       "      <td>MEP_221</td>\n",
       "      <td>MEP</td>\n",
       "      <td>MEP</td>\n",
       "    </tr>\n",
       "    <tr>\n",
       "      <th>CMP_570</th>\n",
       "      <td>CMP_570</td>\n",
       "      <td>CMP/BMP</td>\n",
       "      <td>CMP</td>\n",
       "    </tr>\n",
       "  </tbody>\n",
       "</table>\n",
       "<p>1875 rows × 3 columns</p>\n",
       "</div>"
      ],
      "text/plain": [
       "        cell_IDs EpiAnno_annotations EpiAnno_annotations_simplified\n",
       "MEP_150  MEP_150                 MEP                            MEP\n",
       "CMP_239  CMP_239                 GMP                            GMP\n",
       "HSC_284  HSC_284                 CLP                            CLP\n",
       "GMP_285  GMP_285                 MDP                            GMP\n",
       "CMP_164  CMP_164                 MEP                            MEP\n",
       "...          ...                 ...                            ...\n",
       "CMP_653  CMP_653             CMP/BMP                            CMP\n",
       "HSC_34    HSC_34             HSC/MPP                        HSC/MPP\n",
       "GMP_133  GMP_133               Pro-B                            CLP\n",
       "MEP_221  MEP_221                 MEP                            MEP\n",
       "CMP_570  CMP_570             CMP/BMP                            CMP\n",
       "\n",
       "[1875 rows x 3 columns]"
      ]
     },
     "execution_count": 44,
     "metadata": {},
     "output_type": "execute_result"
    }
   ],
   "source": [
    "EpiAnno_annotations"
   ]
  },
  {
   "cell_type": "code",
   "execution_count": 45,
   "id": "62c21d00-8672-4e5a-97b1-ffe207ced186",
   "metadata": {},
   "outputs": [
    {
     "data": {
      "text/plain": [
       "EpiAnno_annotations_simplified\n",
       "MEP        583\n",
       "HSC/MPP    506\n",
       "GMP        209\n",
       "LMPP       178\n",
       "CLP        169\n",
       "CMP        154\n",
       "Mono        34\n",
       "Bcell       27\n",
       "pDC         15\n",
       "Name: count, dtype: int64"
      ]
     },
     "execution_count": 45,
     "metadata": {},
     "output_type": "execute_result"
    }
   ],
   "source": [
    "EpiAnno_annotations.EpiAnno_annotations_simplified.value_counts()"
   ]
  },
  {
   "cell_type": "code",
   "execution_count": 46,
   "id": "18c51522-7764-450e-9ada-23baa65ff0e9",
   "metadata": {},
   "outputs": [],
   "source": [
    "common_cells = get_common_cells(scATAcat_annotations, seurat_integration_annotations,Cellcano_annotations, EpiAnno_annotations)"
   ]
  },
  {
   "cell_type": "code",
   "execution_count": 47,
   "id": "75750e01-3575-4e7d-b4bd-d66b3b08ab46",
   "metadata": {
    "scrolled": true
   },
   "outputs": [],
   "source": [
    "pd.DataFrame(common_cells).to_csv(\"../../../results/Fig1_Fig2_Fig3_SFig1-FACS_BM_scATAC/compare_annotation_performances/commonCells.csv\",index=False)"
   ]
  },
  {
   "cell_type": "code",
   "execution_count": 48,
   "id": "48cf9d54-1ef5-4db3-8d70-d943c0914c81",
   "metadata": {},
   "outputs": [],
   "source": [
    "all_methods_for_commonCells = get_combined_annotations_df_for_common_cells(scATAcat_annotations, seurat_integration_annotations,Cellcano_annotations, EpiAnno_annotations, common_cells=common_cells, cell_ID_column = \"cell_IDs\")"
   ]
  },
  {
   "cell_type": "code",
   "execution_count": 49,
   "id": "30e0cb5f-9588-401c-be0e-072c9f1bd190",
   "metadata": {},
   "outputs": [
    {
     "data": {
      "text/plain": [
       "EpiAnno_annotations_simplified\n",
       "MEP        582\n",
       "HSC/MPP    506\n",
       "GMP        207\n",
       "LMPP       178\n",
       "CLP        168\n",
       "CMP        154\n",
       "Mono        34\n",
       "Bcell       27\n",
       "pDC         15\n",
       "Name: count, dtype: int64"
      ]
     },
     "execution_count": 49,
     "metadata": {},
     "output_type": "execute_result"
    }
   ],
   "source": [
    "all_methods_for_commonCells.EpiAnno_annotations_simplified.value_counts()"
   ]
  },
  {
   "cell_type": "markdown",
   "id": "a4de6e73-62be-4636-b95a-68f920258456",
   "metadata": {},
   "source": [
    "## subset the ground truth to common annotations\n"
   ]
  },
  {
   "cell_type": "code",
   "execution_count": 50,
   "id": "d6f05d48-934d-4c8f-99d1-0f8886bfc777",
   "metadata": {},
   "outputs": [
    {
     "data": {
      "text/plain": [
       "['MEP', 'LMPP', 'CLP', 'HSC/MPP', 'GMP']"
      ]
     },
     "execution_count": 50,
     "metadata": {},
     "output_type": "execute_result"
    }
   ],
   "source": [
    "common_annotations = list(set(all_methods_for_commonCells.scATAcat_annotation)\n",
    "                          &set(all_methods_for_commonCells.ground_truth_annotations)\n",
    "                          &set(all_methods_for_commonCells.labelTransfer_predicted_simplified)\n",
    "                          &set(all_methods_for_commonCells.Cellcano_annotations_simplified)\n",
    "                          &set(all_methods_for_commonCells.EpiAnno_annotations_simplified))\n",
    "common_annotations"
   ]
  },
  {
   "cell_type": "code",
   "execution_count": 51,
   "id": "a9a775f7-c55f-494c-ac02-10c17578a8d1",
   "metadata": {},
   "outputs": [
    {
     "data": {
      "text/plain": [
       "['MEP', 'LMPP', 'CLP', 'HSC/MPP', 'GMP']"
      ]
     },
     "execution_count": 51,
     "metadata": {},
     "output_type": "execute_result"
    }
   ],
   "source": [
    "common_annotations_witho_EpiAnno = list(set(all_methods_for_commonCells.scATAcat_annotation)\n",
    "                          &set(all_methods_for_commonCells.ground_truth_annotations)\n",
    "                          &set(all_methods_for_commonCells.labelTransfer_predicted_simplified))\n",
    "common_annotations_witho_EpiAnno"
   ]
  },
  {
   "cell_type": "code",
   "execution_count": 52,
   "id": "5449f381-3223-48f4-856b-0c8e175c7908",
   "metadata": {},
   "outputs": [
    {
     "data": {
      "text/plain": [
       "['MEP', 'LMPP', 'CLP', 'HSC/MPP', 'GMP']"
      ]
     },
     "execution_count": 52,
     "metadata": {},
     "output_type": "execute_result"
    }
   ],
   "source": [
    "list(set(all_methods_for_commonCells.scATAcat_annotation)\n",
    "                          &set(all_methods_for_commonCells.ground_truth_annotations)\n",
    "                          &set(all_methods_for_commonCells.labelTransfer_predicted_simplified)\n",
    "                          &set(all_methods_for_commonCells.Cellcano_annotations_simplified))"
   ]
  },
  {
   "cell_type": "code",
   "execution_count": 53,
   "id": "167e9cb5-df84-4735-95cc-7097fdb3d0d0",
   "metadata": {},
   "outputs": [],
   "source": [
    "all_methods_for_commonCells_commonAnnotations = all_methods_for_commonCells[all_methods_for_commonCells.ground_truth_annotations.isin(common_annotations)]"
   ]
  },
  {
   "cell_type": "code",
   "execution_count": 54,
   "id": "e0e5bd66-3d99-42cf-8a16-7e8816b483f7",
   "metadata": {},
   "outputs": [
    {
     "data": {
      "text/plain": [
       "{'CLP', 'CMP', 'GMP', 'HSC/MPP', 'LMPP', 'MEP', 'pDC'}"
      ]
     },
     "execution_count": 54,
     "metadata": {},
     "output_type": "execute_result"
    }
   ],
   "source": [
    "\n",
    "set(all_methods_for_commonCells.Cellcano_annotations_simplified)"
   ]
  },
  {
   "cell_type": "code",
   "execution_count": 55,
   "id": "ef07e844-a551-486e-8eeb-70848b4a5df1",
   "metadata": {},
   "outputs": [
    {
     "data": {
      "text/html": [
       "<div>\n",
       "<style scoped>\n",
       "    .dataframe tbody tr th:only-of-type {\n",
       "        vertical-align: middle;\n",
       "    }\n",
       "\n",
       "    .dataframe tbody tr th {\n",
       "        vertical-align: top;\n",
       "    }\n",
       "\n",
       "    .dataframe thead th {\n",
       "        text-align: right;\n",
       "    }\n",
       "</style>\n",
       "<table border=\"1\" class=\"dataframe\">\n",
       "  <thead>\n",
       "    <tr style=\"text-align: right;\">\n",
       "      <th></th>\n",
       "      <th>cell_IDs</th>\n",
       "      <th>leiden_0.4</th>\n",
       "      <th>scATAcat_annotation</th>\n",
       "      <th>ground_truth_annotations</th>\n",
       "      <th>ground_truth</th>\n",
       "      <th>labelTransfer_predicted</th>\n",
       "      <th>labelTransfer_predicted_simplified</th>\n",
       "      <th>Cellcano_annotations</th>\n",
       "      <th>Cellcano_annotations_simplified</th>\n",
       "      <th>EpiAnno_annotations</th>\n",
       "      <th>EpiAnno_annotations_simplified</th>\n",
       "    </tr>\n",
       "  </thead>\n",
       "  <tbody>\n",
       "    <tr>\n",
       "      <th>1</th>\n",
       "      <td>MPP_161</td>\n",
       "      <td>4</td>\n",
       "      <td>HSC/MPP</td>\n",
       "      <td>HSC/MPP</td>\n",
       "      <td>MPP</td>\n",
       "      <td>Prog_DC</td>\n",
       "      <td>GMP</td>\n",
       "      <td>HSC/MPP</td>\n",
       "      <td>HSC/MPP</td>\n",
       "      <td>MEP</td>\n",
       "      <td>MEP</td>\n",
       "    </tr>\n",
       "    <tr>\n",
       "      <th>4</th>\n",
       "      <td>HSC_104</td>\n",
       "      <td>1</td>\n",
       "      <td>HSC/MPP</td>\n",
       "      <td>HSC/MPP</td>\n",
       "      <td>HSC</td>\n",
       "      <td>GMP</td>\n",
       "      <td>GMP</td>\n",
       "      <td>LMPP</td>\n",
       "      <td>LMPP</td>\n",
       "      <td>HSC/MPP</td>\n",
       "      <td>HSC/MPP</td>\n",
       "    </tr>\n",
       "    <tr>\n",
       "      <th>6</th>\n",
       "      <td>MEP_209</td>\n",
       "      <td>3</td>\n",
       "      <td>MEP</td>\n",
       "      <td>MEP</td>\n",
       "      <td>MEP</td>\n",
       "      <td>Prog_RBC</td>\n",
       "      <td>MEP</td>\n",
       "      <td>MEP</td>\n",
       "      <td>MEP</td>\n",
       "      <td>MEP</td>\n",
       "      <td>MEP</td>\n",
       "    </tr>\n",
       "    <tr>\n",
       "      <th>7</th>\n",
       "      <td>HSC_434</td>\n",
       "      <td>4</td>\n",
       "      <td>HSC/MPP</td>\n",
       "      <td>HSC/MPP</td>\n",
       "      <td>HSC</td>\n",
       "      <td>Prog_DC</td>\n",
       "      <td>GMP</td>\n",
       "      <td>LMPP</td>\n",
       "      <td>LMPP</td>\n",
       "      <td>HSC/MPP</td>\n",
       "      <td>HSC/MPP</td>\n",
       "    </tr>\n",
       "    <tr>\n",
       "      <th>9</th>\n",
       "      <td>HSC_163</td>\n",
       "      <td>1</td>\n",
       "      <td>HSC/MPP</td>\n",
       "      <td>HSC/MPP</td>\n",
       "      <td>HSC</td>\n",
       "      <td>GMP</td>\n",
       "      <td>GMP</td>\n",
       "      <td>LMPP</td>\n",
       "      <td>LMPP</td>\n",
       "      <td>MEP</td>\n",
       "      <td>MEP</td>\n",
       "    </tr>\n",
       "    <tr>\n",
       "      <th>...</th>\n",
       "      <td>...</td>\n",
       "      <td>...</td>\n",
       "      <td>...</td>\n",
       "      <td>...</td>\n",
       "      <td>...</td>\n",
       "      <td>...</td>\n",
       "      <td>...</td>\n",
       "      <td>...</td>\n",
       "      <td>...</td>\n",
       "      <td>...</td>\n",
       "      <td>...</td>\n",
       "    </tr>\n",
       "    <tr>\n",
       "      <th>1864</th>\n",
       "      <td>LMPP_23</td>\n",
       "      <td>5</td>\n",
       "      <td>LMPP</td>\n",
       "      <td>LMPP</td>\n",
       "      <td>LMPP</td>\n",
       "      <td>LMPP</td>\n",
       "      <td>LMPP</td>\n",
       "      <td>LMPP</td>\n",
       "      <td>LMPP</td>\n",
       "      <td>CLP</td>\n",
       "      <td>CLP</td>\n",
       "    </tr>\n",
       "    <tr>\n",
       "      <th>1865</th>\n",
       "      <td>MEP_276</td>\n",
       "      <td>3</td>\n",
       "      <td>MEP</td>\n",
       "      <td>MEP</td>\n",
       "      <td>MEP</td>\n",
       "      <td>Prog_RBC</td>\n",
       "      <td>MEP</td>\n",
       "      <td>MEP</td>\n",
       "      <td>MEP</td>\n",
       "      <td>MEP</td>\n",
       "      <td>MEP</td>\n",
       "    </tr>\n",
       "    <tr>\n",
       "      <th>1867</th>\n",
       "      <td>MEP_106</td>\n",
       "      <td>3</td>\n",
       "      <td>MEP</td>\n",
       "      <td>MEP</td>\n",
       "      <td>MEP</td>\n",
       "      <td>Prog_RBC</td>\n",
       "      <td>MEP</td>\n",
       "      <td>MDP</td>\n",
       "      <td>GMP</td>\n",
       "      <td>MEP</td>\n",
       "      <td>MEP</td>\n",
       "    </tr>\n",
       "    <tr>\n",
       "      <th>1868</th>\n",
       "      <td>GMP_13</td>\n",
       "      <td>2</td>\n",
       "      <td>GMP</td>\n",
       "      <td>GMP</td>\n",
       "      <td>GMP</td>\n",
       "      <td>Prog_RBC</td>\n",
       "      <td>MEP</td>\n",
       "      <td>LMPP</td>\n",
       "      <td>LMPP</td>\n",
       "      <td>LMPP</td>\n",
       "      <td>LMPP</td>\n",
       "    </tr>\n",
       "    <tr>\n",
       "      <th>1869</th>\n",
       "      <td>MPP_185</td>\n",
       "      <td>4</td>\n",
       "      <td>HSC/MPP</td>\n",
       "      <td>HSC/MPP</td>\n",
       "      <td>MPP</td>\n",
       "      <td>HSC</td>\n",
       "      <td>HSC/MPP</td>\n",
       "      <td>HSC/MPP</td>\n",
       "      <td>HSC/MPP</td>\n",
       "      <td>MEP</td>\n",
       "      <td>MEP</td>\n",
       "    </tr>\n",
       "  </tbody>\n",
       "</table>\n",
       "<p>1226 rows × 11 columns</p>\n",
       "</div>"
      ],
      "text/plain": [
       "     cell_IDs  leiden_0.4 scATAcat_annotation ground_truth_annotations  \\\n",
       "1     MPP_161           4             HSC/MPP                  HSC/MPP   \n",
       "4     HSC_104           1             HSC/MPP                  HSC/MPP   \n",
       "6     MEP_209           3                 MEP                      MEP   \n",
       "7     HSC_434           4             HSC/MPP                  HSC/MPP   \n",
       "9     HSC_163           1             HSC/MPP                  HSC/MPP   \n",
       "...       ...         ...                 ...                      ...   \n",
       "1864  LMPP_23           5                LMPP                     LMPP   \n",
       "1865  MEP_276           3                 MEP                      MEP   \n",
       "1867  MEP_106           3                 MEP                      MEP   \n",
       "1868   GMP_13           2                 GMP                      GMP   \n",
       "1869  MPP_185           4             HSC/MPP                  HSC/MPP   \n",
       "\n",
       "     ground_truth labelTransfer_predicted labelTransfer_predicted_simplified  \\\n",
       "1             MPP                 Prog_DC                                GMP   \n",
       "4             HSC                     GMP                                GMP   \n",
       "6             MEP                Prog_RBC                                MEP   \n",
       "7             HSC                 Prog_DC                                GMP   \n",
       "9             HSC                     GMP                                GMP   \n",
       "...           ...                     ...                                ...   \n",
       "1864         LMPP                    LMPP                               LMPP   \n",
       "1865          MEP                Prog_RBC                                MEP   \n",
       "1867          MEP                Prog_RBC                                MEP   \n",
       "1868          GMP                Prog_RBC                                MEP   \n",
       "1869          MPP                     HSC                            HSC/MPP   \n",
       "\n",
       "     Cellcano_annotations Cellcano_annotations_simplified EpiAnno_annotations  \\\n",
       "1                 HSC/MPP                         HSC/MPP                 MEP   \n",
       "4                    LMPP                            LMPP             HSC/MPP   \n",
       "6                     MEP                             MEP                 MEP   \n",
       "7                    LMPP                            LMPP             HSC/MPP   \n",
       "9                    LMPP                            LMPP                 MEP   \n",
       "...                   ...                             ...                 ...   \n",
       "1864                 LMPP                            LMPP                 CLP   \n",
       "1865                  MEP                             MEP                 MEP   \n",
       "1867                  MDP                             GMP                 MEP   \n",
       "1868                 LMPP                            LMPP                LMPP   \n",
       "1869              HSC/MPP                         HSC/MPP                 MEP   \n",
       "\n",
       "     EpiAnno_annotations_simplified  \n",
       "1                               MEP  \n",
       "4                           HSC/MPP  \n",
       "6                               MEP  \n",
       "7                           HSC/MPP  \n",
       "9                               MEP  \n",
       "...                             ...  \n",
       "1864                            CLP  \n",
       "1865                            MEP  \n",
       "1867                            MEP  \n",
       "1868                           LMPP  \n",
       "1869                            MEP  \n",
       "\n",
       "[1226 rows x 11 columns]"
      ]
     },
     "execution_count": 55,
     "metadata": {},
     "output_type": "execute_result"
    }
   ],
   "source": [
    "all_methods_for_commonCells_commonAnnotations"
   ]
  },
  {
   "cell_type": "code",
   "execution_count": 56,
   "id": "9916e16e-0bc0-451b-a2e1-d89fe9d989ef",
   "metadata": {},
   "outputs": [],
   "source": [
    "scores_df = pd.DataFrame(index=[\"scATAcat\", \"Seurat_label_transfer\", \"Cellcano\", \"EpiAnno\"])\n"
   ]
  },
  {
   "cell_type": "code",
   "execution_count": 57,
   "id": "73a24d0a-1d6d-4363-8212-9a2efdd86513",
   "metadata": {},
   "outputs": [
    {
     "data": {
      "text/plain": [
       "ground_truth_annotations\n",
       "HSC/MPP    581\n",
       "GMP        253\n",
       "MEP        190\n",
       "CLP        108\n",
       "LMPP        94\n",
       "Name: count, dtype: int64"
      ]
     },
     "execution_count": 57,
     "metadata": {},
     "output_type": "execute_result"
    }
   ],
   "source": [
    "all_methods_for_commonCells_commonAnnotations.ground_truth_annotations.value_counts()"
   ]
  },
  {
   "cell_type": "markdown",
   "id": "4eebde7e-24d9-40b5-9fd7-bf1c7ee99088",
   "metadata": {},
   "source": [
    "## scores only for common cells and common annotation: ['CLP', 'HSC/MPP', 'MEP', 'GMP', 'LMPP'] cells "
   ]
  },
  {
   "cell_type": "code",
   "execution_count": 58,
   "id": "15d5d771-6df6-41f7-89bc-141d19cc0ff4",
   "metadata": {
    "scrolled": true
   },
   "outputs": [],
   "source": [
    "scores_df = pd.DataFrame(index=[\"scATAcat\", \"Seurat_label_transfer\", \"Cellcano\", \"EpiAnno\"],\n",
    "                        columns=[\"accuracy\",\"balanced_accuracy\",\"cluster_accuracy\",\"macroF1_score\",\"medianF1_score\",\"medianPrecision_score\",\"medianRecall_score\",\"mathews_corr_coef_score\",\"adjusted_rand_score\",\"cohens_kappa_score\"])\n",
    "common_cells = get_common_cells(scATAcat_annotations, seurat_integration_annotations,Cellcano_annotations, EpiAnno_annotations)\n",
    "all_methods_for_commonCells = get_combined_annotations_df_for_common_cells(scATAcat_annotations, seurat_integration_annotations,Cellcano_annotations, EpiAnno_annotations, common_cells=common_cells, cell_ID_column = \"cell_IDs\")\n",
    "common_annotations = list(set(all_methods_for_commonCells.scATAcat_annotation)\n",
    "                          &set(all_methods_for_commonCells.ground_truth_annotations)\n",
    "                          &set(all_methods_for_commonCells.labelTransfer_predicted_simplified)\n",
    "                          &set(all_methods_for_commonCells.Cellcano_annotations_simplified)\n",
    "                          &set(all_methods_for_commonCells.EpiAnno_annotations_simplified))\n",
    "all_methods_for_commonCells_commonAnnotations = all_methods_for_commonCells[all_methods_for_commonCells.ground_truth_annotations.isin(common_annotations)]\n",
    "annotation_df = all_methods_for_commonCells_commonAnnotations\n",
    "correct_id_col = 'ground_truth_annotations'\n",
    "cluster_id_column ='leiden_0.4'\n",
    "for method in scores_df.index:\n",
    "    if method == \"scATAcat\":\n",
    "        predicted_id_col = \"scATAcat_annotation\"\n",
    "        scores_df.loc[\"scATAcat\", \"accuracy\"] = get_accuracy(annotation_df = annotation_df,correct_id_col=correct_id_col,predicted_id_col=predicted_id_col)\n",
    "        scores_df.loc[\"scATAcat\", \"balanced_accuracy\"] = get_balanced_accuracy(annotation_df = annotation_df,correct_id_col=correct_id_col,predicted_id_col=predicted_id_col)\n",
    "        scores_df.loc[\"scATAcat\", \"cluster_accuracy\"] =  get_cluster_accuracy(annotation_df = annotation_df, cluster_id_column =cluster_id_column,correct_id_col=correct_id_col, predicted_id_col=predicted_id_col)\n",
    "        scores_df.loc[\"scATAcat\", \"macroF1_score\"] = get_macroF1_score(annotation_df = annotation_df, correct_id_col=correct_id_col, predicted_id_col=predicted_id_col, label_list=None)\n",
    "        scores_df.loc[\"scATAcat\", \"medianF1_score\"] = get_medianF1_score(annotation_df = annotation_df,correct_id_col=correct_id_col,predicted_id_col=predicted_id_col)\n",
    "        scores_df.loc[\"scATAcat\", \"medianPrecision_score\"] = get_medianPrecision_score(annotation_df = annotation_df,correct_id_col=correct_id_col,predicted_id_col=predicted_id_col)\n",
    "        scores_df.loc[\"scATAcat\", \"medianRecall_score\"] =  get_medianRecall_score(annotation_df = annotation_df,correct_id_col=correct_id_col,predicted_id_col=predicted_id_col)\n",
    "        scores_df.loc[\"scATAcat\", \"mathews_corr_coef_score\"] = get_mathews_corr_coef_score(annotation_df = annotation_df,correct_id_col=correct_id_col,predicted_id_col=predicted_id_col)\n",
    "        scores_df.loc[\"scATAcat\", \"adjusted_rand_score\"] = get_adjusted_rand_score(annotation_df = annotation_df,correct_id_col=correct_id_col,predicted_id_col=predicted_id_col)\n",
    "        scores_df.loc[\"scATAcat\", \"cohens_kappa_score\"] =  get_cohens_kappa_score(annotation_df = annotation_df,correct_id_col=correct_id_col,predicted_id_col=predicted_id_col)\n",
    "    if method == \"Seurat_label_transfer\":\n",
    "        predicted_id_col = \"labelTransfer_predicted_simplified\"\n",
    "        scores_df.loc[\"Seurat_label_transfer\", \"accuracy\"] = get_accuracy(annotation_df = annotation_df,correct_id_col=correct_id_col,predicted_id_col=predicted_id_col)\n",
    "        scores_df.loc[\"Seurat_label_transfer\", \"balanced_accuracy\"] = get_balanced_accuracy(annotation_df = annotation_df,correct_id_col=correct_id_col,predicted_id_col=predicted_id_col)\n",
    "        scores_df.loc[\"Seurat_label_transfer\", \"cluster_accuracy\"] =  get_cluster_accuracy(annotation_df = annotation_df, cluster_id_column =cluster_id_column,correct_id_col=correct_id_col, predicted_id_col=predicted_id_col)\n",
    "        scores_df.loc[\"Seurat_label_transfer\", \"macroF1_score\"] = get_macroF1_score(annotation_df = annotation_df, correct_id_col=correct_id_col, predicted_id_col=predicted_id_col, label_list=None)\n",
    "        scores_df.loc[\"Seurat_label_transfer\", \"medianF1_score\"] = get_medianF1_score(annotation_df = annotation_df,correct_id_col=correct_id_col,predicted_id_col=predicted_id_col)\n",
    "        scores_df.loc[\"Seurat_label_transfer\", \"medianPrecision_score\"] = get_medianPrecision_score(annotation_df = annotation_df,correct_id_col=correct_id_col,predicted_id_col=predicted_id_col)\n",
    "        scores_df.loc[\"Seurat_label_transfer\", \"medianRecall_score\"] =  get_medianRecall_score(annotation_df = annotation_df,correct_id_col=correct_id_col,predicted_id_col=predicted_id_col)\n",
    "        scores_df.loc[\"Seurat_label_transfer\", \"mathews_corr_coef_score\"] = get_mathews_corr_coef_score(annotation_df = annotation_df,correct_id_col=correct_id_col,predicted_id_col=predicted_id_col)\n",
    "        scores_df.loc[\"Seurat_label_transfer\", \"adjusted_rand_score\"] = get_adjusted_rand_score(annotation_df = annotation_df,correct_id_col=correct_id_col,predicted_id_col=predicted_id_col)\n",
    "        scores_df.loc[\"Seurat_label_transfer\", \"cohens_kappa_score\"] =  get_cohens_kappa_score(annotation_df = annotation_df,correct_id_col=correct_id_col,predicted_id_col=predicted_id_col)\n",
    "    if method == \"Cellcano\":\n",
    "        predicted_id_col = \"Cellcano_annotations_simplified\"\n",
    "        scores_df.loc[\"Cellcano\", \"accuracy\"] = get_accuracy(annotation_df = annotation_df,correct_id_col=correct_id_col,predicted_id_col=predicted_id_col)\n",
    "        scores_df.loc[\"Cellcano\", \"balanced_accuracy\"] = get_balanced_accuracy(annotation_df = annotation_df,correct_id_col=correct_id_col,predicted_id_col=predicted_id_col)\n",
    "        scores_df.loc[\"Cellcano\", \"cluster_accuracy\"] =  get_cluster_accuracy(annotation_df = annotation_df, cluster_id_column =cluster_id_column,correct_id_col=correct_id_col, predicted_id_col=predicted_id_col)\n",
    "        scores_df.loc[\"Cellcano\", \"macroF1_score\"] = get_macroF1_score(annotation_df = annotation_df, correct_id_col=correct_id_col, predicted_id_col=predicted_id_col, label_list=None)\n",
    "        scores_df.loc[\"Cellcano\", \"medianF1_score\"] = get_medianF1_score(annotation_df = annotation_df,correct_id_col=correct_id_col,predicted_id_col=predicted_id_col)\n",
    "        scores_df.loc[\"Cellcano\", \"medianPrecision_score\"] = get_medianPrecision_score(annotation_df = annotation_df,correct_id_col=correct_id_col,predicted_id_col=predicted_id_col)\n",
    "        scores_df.loc[\"Cellcano\", \"medianRecall_score\"] =  get_medianRecall_score(annotation_df = annotation_df,correct_id_col=correct_id_col,predicted_id_col=predicted_id_col)\n",
    "        scores_df.loc[\"Cellcano\", \"mathews_corr_coef_score\"] = get_mathews_corr_coef_score(annotation_df = annotation_df,correct_id_col=correct_id_col,predicted_id_col=predicted_id_col)\n",
    "        scores_df.loc[\"Cellcano\", \"adjusted_rand_score\"] = get_adjusted_rand_score(annotation_df = annotation_df,correct_id_col=correct_id_col,predicted_id_col=predicted_id_col)\n",
    "        scores_df.loc[\"Cellcano\", \"cohens_kappa_score\"] =  get_cohens_kappa_score(annotation_df = annotation_df,correct_id_col=correct_id_col,predicted_id_col=predicted_id_col)\n",
    "    if method == \"EpiAnno\":\n",
    "        predicted_id_col = \"EpiAnno_annotations_simplified\"\n",
    "        scores_df.loc[\"EpiAnno\", \"accuracy\"] = get_accuracy(annotation_df = annotation_df,correct_id_col=correct_id_col,predicted_id_col=predicted_id_col)\n",
    "        scores_df.loc[\"EpiAnno\", \"balanced_accuracy\"] = get_balanced_accuracy(annotation_df = annotation_df,correct_id_col=correct_id_col,predicted_id_col=predicted_id_col)\n",
    "        scores_df.loc[\"EpiAnno\", \"cluster_accuracy\"] =  get_cluster_accuracy(annotation_df = annotation_df, cluster_id_column =cluster_id_column,correct_id_col=correct_id_col, predicted_id_col=predicted_id_col)\n",
    "        scores_df.loc[\"EpiAnno\", \"macroF1_score\"] = get_macroF1_score(annotation_df = annotation_df, correct_id_col=correct_id_col, predicted_id_col=predicted_id_col, label_list=None)\n",
    "        scores_df.loc[\"EpiAnno\", \"medianF1_score\"] = get_medianF1_score(annotation_df = annotation_df,correct_id_col=correct_id_col,predicted_id_col=predicted_id_col)\n",
    "        scores_df.loc[\"EpiAnno\", \"medianPrecision_score\"] = get_medianPrecision_score(annotation_df = annotation_df,correct_id_col=correct_id_col,predicted_id_col=predicted_id_col)\n",
    "        scores_df.loc[\"EpiAnno\", \"medianRecall_score\"] =  get_medianRecall_score(annotation_df = annotation_df,correct_id_col=correct_id_col,predicted_id_col=predicted_id_col)\n",
    "        scores_df.loc[\"EpiAnno\", \"mathews_corr_coef_score\"] = get_mathews_corr_coef_score(annotation_df = annotation_df,correct_id_col=correct_id_col,predicted_id_col=predicted_id_col)\n",
    "        scores_df.loc[\"EpiAnno\", \"adjusted_rand_score\"] = get_adjusted_rand_score(annotation_df = annotation_df,correct_id_col=correct_id_col,predicted_id_col=predicted_id_col)\n",
    "        scores_df.loc[\"EpiAnno\", \"cohens_kappa_score\"] =  get_cohens_kappa_score(annotation_df = annotation_df,correct_id_col=correct_id_col,predicted_id_col=predicted_id_col)\n"
   ]
  },
  {
   "cell_type": "code",
   "execution_count": 59,
   "id": "29afbdcf-72d6-4725-ab6b-a6554763b314",
   "metadata": {},
   "outputs": [
    {
     "data": {
      "text/plain": [
       "Index(['accuracy', 'balanced_accuracy', 'cluster_accuracy', 'macroF1_score',\n",
       "       'medianF1_score', 'medianPrecision_score', 'medianRecall_score',\n",
       "       'mathews_corr_coef_score', 'adjusted_rand_score', 'cohens_kappa_score'],\n",
       "      dtype='object')"
      ]
     },
     "execution_count": 59,
     "metadata": {},
     "output_type": "execute_result"
    }
   ],
   "source": [
    "scores_df.columns"
   ]
  },
  {
   "cell_type": "code",
   "execution_count": 60,
   "id": "cba9b55e-be72-4b02-b0ce-94583c9b23e0",
   "metadata": {},
   "outputs": [
    {
     "data": {
      "text/html": [
       "<div>\n",
       "<style scoped>\n",
       "    .dataframe tbody tr th:only-of-type {\n",
       "        vertical-align: middle;\n",
       "    }\n",
       "\n",
       "    .dataframe tbody tr th {\n",
       "        vertical-align: top;\n",
       "    }\n",
       "\n",
       "    .dataframe thead th {\n",
       "        text-align: right;\n",
       "    }\n",
       "</style>\n",
       "<table border=\"1\" class=\"dataframe\">\n",
       "  <thead>\n",
       "    <tr style=\"text-align: right;\">\n",
       "      <th></th>\n",
       "      <th>accuracy</th>\n",
       "      <th>balanced_accuracy</th>\n",
       "      <th>cluster_accuracy</th>\n",
       "      <th>macroF1_score</th>\n",
       "      <th>medianF1_score</th>\n",
       "      <th>medianPrecision_score</th>\n",
       "      <th>medianRecall_score</th>\n",
       "      <th>mathews_corr_coef_score</th>\n",
       "      <th>adjusted_rand_score</th>\n",
       "      <th>cohens_kappa_score</th>\n",
       "    </tr>\n",
       "  </thead>\n",
       "  <tbody>\n",
       "    <tr>\n",
       "      <th>scATAcat</th>\n",
       "      <td>0.889886</td>\n",
       "      <td>0.910207</td>\n",
       "      <td>0.857143</td>\n",
       "      <td>0.90996</td>\n",
       "      <td>0.93053</td>\n",
       "      <td>0.958763</td>\n",
       "      <td>0.904255</td>\n",
       "      <td>0.853984</td>\n",
       "      <td>0.805013</td>\n",
       "      <td>0.848353</td>\n",
       "    </tr>\n",
       "    <tr>\n",
       "      <th>Seurat_label_transfer</th>\n",
       "      <td>0.43801</td>\n",
       "      <td>0.537538</td>\n",
       "      <td>0.428571</td>\n",
       "      <td>0.421871</td>\n",
       "      <td>0.498084</td>\n",
       "      <td>0.428191</td>\n",
       "      <td>0.770751</td>\n",
       "      <td>0.3619</td>\n",
       "      <td>0.117479</td>\n",
       "      <td>0.308946</td>\n",
       "    </tr>\n",
       "    <tr>\n",
       "      <th>Cellcano</th>\n",
       "      <td>0.621533</td>\n",
       "      <td>0.691186</td>\n",
       "      <td>0.857143</td>\n",
       "      <td>0.651222</td>\n",
       "      <td>0.712018</td>\n",
       "      <td>0.835106</td>\n",
       "      <td>0.638298</td>\n",
       "      <td>0.554986</td>\n",
       "      <td>0.415775</td>\n",
       "      <td>0.520956</td>\n",
       "    </tr>\n",
       "    <tr>\n",
       "      <th>EpiAnno</th>\n",
       "      <td>0.779772</td>\n",
       "      <td>0.774714</td>\n",
       "      <td>0.857143</td>\n",
       "      <td>0.738445</td>\n",
       "      <td>0.772059</td>\n",
       "      <td>0.68231</td>\n",
       "      <td>0.795181</td>\n",
       "      <td>0.715174</td>\n",
       "      <td>0.634758</td>\n",
       "      <td>0.702959</td>\n",
       "    </tr>\n",
       "  </tbody>\n",
       "</table>\n",
       "</div>"
      ],
      "text/plain": [
       "                       accuracy balanced_accuracy cluster_accuracy  \\\n",
       "scATAcat               0.889886          0.910207         0.857143   \n",
       "Seurat_label_transfer   0.43801          0.537538         0.428571   \n",
       "Cellcano               0.621533          0.691186         0.857143   \n",
       "EpiAnno                0.779772          0.774714         0.857143   \n",
       "\n",
       "                      macroF1_score medianF1_score medianPrecision_score  \\\n",
       "scATAcat                    0.90996        0.93053              0.958763   \n",
       "Seurat_label_transfer      0.421871       0.498084              0.428191   \n",
       "Cellcano                   0.651222       0.712018              0.835106   \n",
       "EpiAnno                    0.738445       0.772059               0.68231   \n",
       "\n",
       "                      medianRecall_score mathews_corr_coef_score  \\\n",
       "scATAcat                        0.904255                0.853984   \n",
       "Seurat_label_transfer           0.770751                  0.3619   \n",
       "Cellcano                        0.638298                0.554986   \n",
       "EpiAnno                         0.795181                0.715174   \n",
       "\n",
       "                      adjusted_rand_score cohens_kappa_score  \n",
       "scATAcat                         0.805013           0.848353  \n",
       "Seurat_label_transfer            0.117479           0.308946  \n",
       "Cellcano                         0.415775           0.520956  \n",
       "EpiAnno                          0.634758           0.702959  "
      ]
     },
     "execution_count": 60,
     "metadata": {},
     "output_type": "execute_result"
    }
   ],
   "source": [
    "scores_df"
   ]
  },
  {
   "cell_type": "code",
   "execution_count": 61,
   "id": "cf07d561-fed2-4e25-8406-0709b4c80977",
   "metadata": {},
   "outputs": [],
   "source": [
    "figures_dir = \"../../../results/Fig1_Fig2_Fig3_SFig1-FACS_BM_scATAC/compare_annotation_performances/figures/\""
   ]
  },
  {
   "cell_type": "code",
   "execution_count": 62,
   "id": "f628b0d5-7588-44f6-9dc8-1c214d385b09",
   "metadata": {},
   "outputs": [],
   "source": [
    "import os\n",
    "os.makedirs(figures_dir,exist_ok=True)"
   ]
  },
  {
   "cell_type": "code",
   "execution_count": 63,
   "id": "05339c79-c140-4ebc-be57-d769dd0ba46a",
   "metadata": {},
   "outputs": [
    {
     "data": {
      "image/png": "[encoded data removed]",
      "text/plain": [
       "<Figure size 1500x1000 with 1 Axes>"
      ]
     },
     "metadata": {},
     "output_type": "display_data"
    }
   ],
   "source": [
    "plot_performance_metrics(df = scores_df, save=True, tick_size=16, legend_fontsize=12, save_path=figures_dir+ '/common_cells_common_annotations.png')\n"
   ]
  },
  {
   "cell_type": "markdown",
   "id": "19b90761-b970-45d7-8652-c72738390bf4",
   "metadata": {},
   "source": [
    "## scores for common cells & pairwise common for annotations"
   ]
  },
  {
   "cell_type": "code",
   "execution_count": 64,
   "id": "f880413c-02d6-4589-a4f3-da0a177decfe",
   "metadata": {},
   "outputs": [
    {
     "name": "stdout",
     "output_type": "stream",
     "text": [
      "(1871, 11)\n",
      "['MEP', 'CMP', 'LMPP', 'CLP', 'HSC/MPP', 'GMP']\n",
      "(1226, 11)\n",
      "['MEP', 'LMPP', 'CLP', 'HSC/MPP', 'GMP']\n",
      "(1871, 11)\n",
      "['MEP', 'CMP', 'CLP', 'LMPP', 'HSC/MPP', 'GMP']\n",
      "(1871, 11)\n",
      "['MEP', 'CMP', 'CLP', 'LMPP', 'HSC/MPP', 'GMP']\n"
     ]
    }
   ],
   "source": [
    "scores_df = pd.DataFrame(index=[\"scATAcat\", \"Seurat_label_transfer\", \"Cellcano\", \"EpiAnno\"],\n",
    "                        columns=[\"accuracy\" ,\"balanced_accuracy\",\"cluster_accuracy\",\"macroF1_score\",\"medianF1_score\",\"medianPrecision_score\",\"medianRecall_score\",\"mathews_corr_coef_score\",\"adjusted_rand_score\",\"cohens_kappa_score\"])\n",
    "common_cells = get_common_cells(scATAcat_annotations, seurat_integration_annotations,Cellcano_annotations, EpiAnno_annotations)\n",
    "#all_methods_for_commonCells = get_combined_annotations_df_for_common_cells(scATAcat_annotations, seurat_integration_annotations,Cellcano_annotations, EpiAnno_annotations, common_cells=common_cells, cell_ID_column = \"cell_IDs\")\n",
    "correct_id_col = 'ground_truth_annotations'\n",
    "cluster_id_column ='leiden_0.4'\n",
    "for method in scores_df.index:\n",
    "    if method == \"scATAcat\":\n",
    "        common_annotations = list(set(all_methods_for_commonCells.scATAcat_annotation))\n",
    "        all_methods_for_commonCells_commonAnnotations = all_methods_for_commonCells[all_methods_for_commonCells.ground_truth_annotations.isin(common_annotations)]\n",
    "        annotation_df = all_methods_for_commonCells_commonAnnotations\n",
    "        print(annotation_df.shape)\n",
    "        print(common_annotations)\n",
    "        predicted_id_col = \"scATAcat_annotation\"\n",
    "        scores_df.loc[\"scATAcat\", \"accuracy\"] = get_accuracy(annotation_df = annotation_df,correct_id_col=correct_id_col,predicted_id_col=predicted_id_col)\n",
    "        scores_df.loc[\"scATAcat\", \"balanced_accuracy\"] = get_balanced_accuracy(annotation_df = annotation_df,correct_id_col=correct_id_col,predicted_id_col=predicted_id_col)\n",
    "        scores_df.loc[\"scATAcat\", \"cluster_accuracy\"] =  get_cluster_accuracy(annotation_df = annotation_df, cluster_id_column =cluster_id_column,correct_id_col=correct_id_col, predicted_id_col=predicted_id_col)\n",
    "        scores_df.loc[\"scATAcat\", \"macroF1_score\"] = get_macroF1_score(annotation_df = annotation_df, correct_id_col=correct_id_col, predicted_id_col=predicted_id_col, label_list=None)\n",
    "        scores_df.loc[\"scATAcat\", \"medianF1_score\"] = get_medianF1_score(annotation_df = annotation_df,correct_id_col=correct_id_col,predicted_id_col=predicted_id_col)\n",
    "        scores_df.loc[\"scATAcat\", \"medianPrecision_score\"] = get_medianPrecision_score(annotation_df = annotation_df,correct_id_col=correct_id_col,predicted_id_col=predicted_id_col)\n",
    "        scores_df.loc[\"scATAcat\", \"medianRecall_score\"] =  get_medianRecall_score(annotation_df = annotation_df,correct_id_col=correct_id_col,predicted_id_col=predicted_id_col)\n",
    "        scores_df.loc[\"scATAcat\", \"mathews_corr_coef_score\"] = get_mathews_corr_coef_score(annotation_df = annotation_df,correct_id_col=correct_id_col,predicted_id_col=predicted_id_col)\n",
    "        scores_df.loc[\"scATAcat\", \"adjusted_rand_score\"] = get_adjusted_rand_score(annotation_df = annotation_df,correct_id_col=correct_id_col,predicted_id_col=predicted_id_col)\n",
    "        scores_df.loc[\"scATAcat\", \"cohens_kappa_score\"] =  get_cohens_kappa_score(annotation_df = annotation_df,correct_id_col=correct_id_col,predicted_id_col=predicted_id_col)\n",
    "    if method == \"Seurat_label_transfer\":\n",
    "        # common_cells = get_common_cells(seurat_integration_annotations,ground_truth_annotations_)\n",
    "        # all_methods_for_commonCells = get_combined_annotations_df_for_common_cells(seurat_integration_annotations,ground_truth_annotations_, common_cells=common_cells, cell_ID_column = \"cell_IDs\")\n",
    "        common_annotations = list(set(all_methods_for_commonCells.ground_truth_annotations)\n",
    "                                  &set(all_methods_for_commonCells.labelTransfer_predicted_simplified))\n",
    "        all_methods_for_commonCells_commonAnnotations = all_methods_for_commonCells[all_methods_for_commonCells.ground_truth_annotations.isin(common_annotations)]\n",
    "        annotation_df = all_methods_for_commonCells_commonAnnotations \n",
    "        print(annotation_df.shape)\n",
    "        print(common_annotations)\n",
    "        predicted_id_col = \"labelTransfer_predicted_simplified\"\n",
    "        scores_df.loc[\"Seurat_label_transfer\", \"accuracy\"] = get_accuracy(annotation_df = annotation_df,correct_id_col=correct_id_col,predicted_id_col=predicted_id_col)\n",
    "        scores_df.loc[\"Seurat_label_transfer\", \"balanced_accuracy\"] = get_balanced_accuracy(annotation_df = annotation_df,correct_id_col=correct_id_col,predicted_id_col=predicted_id_col)\n",
    "        scores_df.loc[\"Seurat_label_transfer\", \"cluster_accuracy\"] =  get_cluster_accuracy(annotation_df = annotation_df, cluster_id_column =cluster_id_column,correct_id_col=correct_id_col, predicted_id_col=predicted_id_col)\n",
    "        scores_df.loc[\"Seurat_label_transfer\", \"macroF1_score\"] = get_macroF1_score(annotation_df = annotation_df, correct_id_col=correct_id_col, predicted_id_col=predicted_id_col, label_list=None)\n",
    "        scores_df.loc[\"Seurat_label_transfer\", \"medianF1_score\"] = get_medianF1_score(annotation_df = annotation_df,correct_id_col=correct_id_col,predicted_id_col=predicted_id_col)\n",
    "        scores_df.loc[\"Seurat_label_transfer\", \"medianPrecision_score\"] = get_medianPrecision_score(annotation_df = annotation_df,correct_id_col=correct_id_col,predicted_id_col=predicted_id_col)\n",
    "        scores_df.loc[\"Seurat_label_transfer\", \"medianRecall_score\"] =  get_medianRecall_score(annotation_df = annotation_df,correct_id_col=correct_id_col,predicted_id_col=predicted_id_col)\n",
    "        scores_df.loc[\"Seurat_label_transfer\", \"mathews_corr_coef_score\"] = get_mathews_corr_coef_score(annotation_df = annotation_df,correct_id_col=correct_id_col,predicted_id_col=predicted_id_col)\n",
    "        scores_df.loc[\"Seurat_label_transfer\", \"adjusted_rand_score\"] = get_adjusted_rand_score(annotation_df = annotation_df,correct_id_col=correct_id_col,predicted_id_col=predicted_id_col)\n",
    "        scores_df.loc[\"Seurat_label_transfer\", \"cohens_kappa_score\"] =  get_cohens_kappa_score(annotation_df = annotation_df,correct_id_col=correct_id_col,predicted_id_col=predicted_id_col)\n",
    "    if method == \"Cellcano\":\n",
    "        # common_cells = get_common_cells(Cellcano_annotations,ground_truth_annotations_)\n",
    "        # all_methods_for_commonCells = get_combined_annotations_df_for_common_cells(Cellcano_annotations,ground_truth_annotations_, common_cells=common_cells, cell_ID_column = \"cell_IDs\")\n",
    "        common_annotations = list(set(all_methods_for_commonCells.ground_truth_annotations)\n",
    "                                  &set(all_methods_for_commonCells.Cellcano_annotations_simplified))\n",
    "        all_methods_for_commonCells_commonAnnotations = all_methods_for_commonCells[all_methods_for_commonCells.ground_truth_annotations.isin(common_annotations)]\n",
    "        annotation_df = all_methods_for_commonCells_commonAnnotations  \n",
    "        print(annotation_df.shape)\n",
    "        print(common_annotations)\n",
    "        predicted_id_col = \"Cellcano_annotations_simplified\"\n",
    "        scores_df.loc[\"Cellcano\", \"accuracy\"] = get_accuracy(annotation_df = annotation_df,correct_id_col=correct_id_col,predicted_id_col=predicted_id_col)\n",
    "        scores_df.loc[\"Cellcano\", \"balanced_accuracy\"] = get_balanced_accuracy(annotation_df = annotation_df,correct_id_col=correct_id_col,predicted_id_col=predicted_id_col)\n",
    "        scores_df.loc[\"Cellcano\", \"cluster_accuracy\"] =  get_cluster_accuracy(annotation_df = annotation_df, cluster_id_column =cluster_id_column,correct_id_col=correct_id_col, predicted_id_col=predicted_id_col)\n",
    "        scores_df.loc[\"Cellcano\", \"macroF1_score\"] = get_macroF1_score(annotation_df = annotation_df, correct_id_col=correct_id_col, predicted_id_col=predicted_id_col, label_list=None)\n",
    "        scores_df.loc[\"Cellcano\", \"medianF1_score\"] = get_medianF1_score(annotation_df = annotation_df,correct_id_col=correct_id_col,predicted_id_col=predicted_id_col)\n",
    "        scores_df.loc[\"Cellcano\", \"medianPrecision_score\"] = get_medianPrecision_score(annotation_df = annotation_df,correct_id_col=correct_id_col,predicted_id_col=predicted_id_col)\n",
    "        scores_df.loc[\"Cellcano\", \"medianRecall_score\"] =  get_medianRecall_score(annotation_df = annotation_df,correct_id_col=correct_id_col,predicted_id_col=predicted_id_col)\n",
    "        scores_df.loc[\"Cellcano\", \"mathews_corr_coef_score\"] = get_mathews_corr_coef_score(annotation_df = annotation_df,correct_id_col=correct_id_col,predicted_id_col=predicted_id_col)\n",
    "        scores_df.loc[\"Cellcano\", \"adjusted_rand_score\"] = get_adjusted_rand_score(annotation_df = annotation_df,correct_id_col=correct_id_col,predicted_id_col=predicted_id_col)\n",
    "        scores_df.loc[\"Cellcano\", \"cohens_kappa_score\"] =  get_cohens_kappa_score(annotation_df = annotation_df,correct_id_col=correct_id_col,predicted_id_col=predicted_id_col)\n",
    "    if method == \"EpiAnno\":\n",
    "        # common_cells = get_common_cells(EpiAnno_annotations,ground_truth_annotations_)\n",
    "        # all_methods_for_commonCells = get_combined_annotations_df_for_common_cells(EpiAnno_annotations,ground_truth_annotations_, common_cells=common_cells, cell_ID_column = \"cell_IDs\")\n",
    "        common_annotations = list(set(all_methods_for_commonCells.ground_truth_annotations)\n",
    "                                  &set(all_methods_for_commonCells.EpiAnno_annotations_simplified))\n",
    "        all_methods_for_commonCells_commonAnnotations = all_methods_for_commonCells[all_methods_for_commonCells.ground_truth_annotations.isin(common_annotations)]\n",
    "        annotation_df = all_methods_for_commonCells_commonAnnotations\n",
    "        print(annotation_df.shape)\n",
    "        print(common_annotations)\n",
    "        predicted_id_col = \"EpiAnno_annotations_simplified\"\n",
    "        scores_df.loc[\"EpiAnno\", \"accuracy\"] = get_accuracy(annotation_df = annotation_df,correct_id_col=correct_id_col,predicted_id_col=predicted_id_col)\n",
    "        scores_df.loc[\"EpiAnno\", \"balanced_accuracy\"] = get_balanced_accuracy(annotation_df = annotation_df,correct_id_col=correct_id_col,predicted_id_col=predicted_id_col)\n",
    "        scores_df.loc[\"EpiAnno\", \"cluster_accuracy\"] =  get_cluster_accuracy(annotation_df = annotation_df, cluster_id_column =cluster_id_column,correct_id_col=correct_id_col, predicted_id_col=predicted_id_col)\n",
    "        scores_df.loc[\"EpiAnno\", \"macroF1_score\"] = get_macroF1_score(annotation_df = annotation_df, correct_id_col=correct_id_col, predicted_id_col=predicted_id_col, label_list=None)\n",
    "        scores_df.loc[\"EpiAnno\", \"medianF1_score\"] = get_medianF1_score(annotation_df = annotation_df,correct_id_col=correct_id_col,predicted_id_col=predicted_id_col)\n",
    "        scores_df.loc[\"EpiAnno\", \"medianPrecision_score\"] = get_medianPrecision_score(annotation_df = annotation_df,correct_id_col=correct_id_col,predicted_id_col=predicted_id_col)\n",
    "        scores_df.loc[\"EpiAnno\", \"medianRecall_score\"] =  get_medianRecall_score(annotation_df = annotation_df,correct_id_col=correct_id_col,predicted_id_col=predicted_id_col)\n",
    "        scores_df.loc[\"EpiAnno\", \"mathews_corr_coef_score\"] = get_mathews_corr_coef_score(annotation_df = annotation_df,correct_id_col=correct_id_col,predicted_id_col=predicted_id_col)\n",
    "        scores_df.loc[\"EpiAnno\", \"adjusted_rand_score\"] = get_adjusted_rand_score(annotation_df = annotation_df,correct_id_col=correct_id_col,predicted_id_col=predicted_id_col)\n",
    "        scores_df.loc[\"EpiAnno\", \"cohens_kappa_score\"] =  get_cohens_kappa_score(annotation_df = annotation_df,correct_id_col=correct_id_col,predicted_id_col=predicted_id_col)\n"
   ]
  },
  {
   "cell_type": "code",
   "execution_count": 65,
   "id": "aef497e0-69cd-4e7b-b243-3c27f0beea35",
   "metadata": {},
   "outputs": [
    {
     "data": {
      "text/html": [
       "<div>\n",
       "<style scoped>\n",
       "    .dataframe tbody tr th:only-of-type {\n",
       "        vertical-align: middle;\n",
       "    }\n",
       "\n",
       "    .dataframe tbody tr th {\n",
       "        vertical-align: top;\n",
       "    }\n",
       "\n",
       "    .dataframe thead th {\n",
       "        text-align: right;\n",
       "    }\n",
       "</style>\n",
       "<table border=\"1\" class=\"dataframe\">\n",
       "  <thead>\n",
       "    <tr style=\"text-align: right;\">\n",
       "      <th></th>\n",
       "      <th>accuracy</th>\n",
       "      <th>balanced_accuracy</th>\n",
       "      <th>cluster_accuracy</th>\n",
       "      <th>macroF1_score</th>\n",
       "      <th>medianF1_score</th>\n",
       "      <th>medianPrecision_score</th>\n",
       "      <th>medianRecall_score</th>\n",
       "      <th>mathews_corr_coef_score</th>\n",
       "      <th>adjusted_rand_score</th>\n",
       "      <th>cohens_kappa_score</th>\n",
       "    </tr>\n",
       "  </thead>\n",
       "  <tbody>\n",
       "    <tr>\n",
       "      <th>scATAcat</th>\n",
       "      <td>0.869054</td>\n",
       "      <td>0.896749</td>\n",
       "      <td>1.0</td>\n",
       "      <td>0.87338</td>\n",
       "      <td>0.867887</td>\n",
       "      <td>0.876293</td>\n",
       "      <td>0.890166</td>\n",
       "      <td>0.827552</td>\n",
       "      <td>0.685149</td>\n",
       "      <td>0.826987</td>\n",
       "    </tr>\n",
       "    <tr>\n",
       "      <th>Seurat_label_transfer</th>\n",
       "      <td>0.43801</td>\n",
       "      <td>0.537538</td>\n",
       "      <td>0.428571</td>\n",
       "      <td>0.421871</td>\n",
       "      <td>0.498084</td>\n",
       "      <td>0.428191</td>\n",
       "      <td>0.770751</td>\n",
       "      <td>0.3619</td>\n",
       "      <td>0.117479</td>\n",
       "      <td>0.308946</td>\n",
       "    </tr>\n",
       "    <tr>\n",
       "      <th>Cellcano</th>\n",
       "      <td>0.433993</td>\n",
       "      <td>0.588908</td>\n",
       "      <td>0.714286</td>\n",
       "      <td>0.469329</td>\n",
       "      <td>0.54932</td>\n",
       "      <td>0.530851</td>\n",
       "      <td>0.629426</td>\n",
       "      <td>0.365295</td>\n",
       "      <td>0.210395</td>\n",
       "      <td>0.332426</td>\n",
       "    </tr>\n",
       "    <tr>\n",
       "      <th>EpiAnno</th>\n",
       "      <td>0.591662</td>\n",
       "      <td>0.684613</td>\n",
       "      <td>0.857143</td>\n",
       "      <td>0.582056</td>\n",
       "      <td>0.575253</td>\n",
       "      <td>0.67965</td>\n",
       "      <td>0.697986</td>\n",
       "      <td>0.548002</td>\n",
       "      <td>0.392151</td>\n",
       "      <td>0.508697</td>\n",
       "    </tr>\n",
       "  </tbody>\n",
       "</table>\n",
       "</div>"
      ],
      "text/plain": [
       "                       accuracy balanced_accuracy cluster_accuracy  \\\n",
       "scATAcat               0.869054          0.896749              1.0   \n",
       "Seurat_label_transfer   0.43801          0.537538         0.428571   \n",
       "Cellcano               0.433993          0.588908         0.714286   \n",
       "EpiAnno                0.591662          0.684613         0.857143   \n",
       "\n",
       "                      macroF1_score medianF1_score medianPrecision_score  \\\n",
       "scATAcat                    0.87338       0.867887              0.876293   \n",
       "Seurat_label_transfer      0.421871       0.498084              0.428191   \n",
       "Cellcano                   0.469329        0.54932              0.530851   \n",
       "EpiAnno                    0.582056       0.575253               0.67965   \n",
       "\n",
       "                      medianRecall_score mathews_corr_coef_score  \\\n",
       "scATAcat                        0.890166                0.827552   \n",
       "Seurat_label_transfer           0.770751                  0.3619   \n",
       "Cellcano                        0.629426                0.365295   \n",
       "EpiAnno                         0.697986                0.548002   \n",
       "\n",
       "                      adjusted_rand_score cohens_kappa_score  \n",
       "scATAcat                         0.685149           0.826987  \n",
       "Seurat_label_transfer            0.117479           0.308946  \n",
       "Cellcano                         0.210395           0.332426  \n",
       "EpiAnno                          0.392151           0.508697  "
      ]
     },
     "execution_count": 65,
     "metadata": {},
     "output_type": "execute_result"
    }
   ],
   "source": [
    "scores_df"
   ]
  },
  {
   "cell_type": "code",
   "execution_count": 66,
   "id": "a09b16fc-4fe9-4a25-bb38-1ed720325adf",
   "metadata": {},
   "outputs": [
    {
     "data": {
      "image/png": "[encoded data removed]",
      "text/plain": [
       "<Figure size 1500x1000 with 1 Axes>"
      ]
     },
     "metadata": {},
     "output_type": "display_data"
    }
   ],
   "source": [
    "plot_performance_metrics(df = scores_df, save=True, tick_size=16, legend_fontsize=12, save_path=figures_dir+ '/common_cells_pairwise_common_annotations.png',\n",
    "                         labels = ['accuracy', 'balanced accuracy', 'cluster accuracy','macro F1', 'median F1','median precision', 'median recall','MCC', 'ARI', \"Cohen's kappa\"] )"
   ]
  },
  {
   "cell_type": "raw",
   "id": "1d4dda39-1fc4-47da-91c4-708b18e7af84",
   "metadata": {},
   "source": [
    "\n",
    "ax = scores_df.T.plot(kind='bar', figsize=(15, 10), legend=True, fontsize=12)\n",
    "ax.set_xlabel(\"evaluation metrics\", fontsize=12)\n",
    "ax.set_ylim(ymin=0)\n",
    "plt.title(\"evaluation scores for common cells and pairwise common annotations\", fontsize=15)\n",
    "plt.xticks(rotation=45)\n",
    "#plt.show()\n",
    "plt.savefig(figures_dir+ '/common_cells_pairwise_common_annotations.png', bbox_inches='tight')"
   ]
  },
  {
   "cell_type": "markdown",
   "id": "00f92eea-b077-455f-b016-deca30fff098",
   "metadata": {},
   "source": [
    "## scores for common cells - no filter for annotation"
   ]
  },
  {
   "cell_type": "code",
   "execution_count": 67,
   "id": "44d37606-07f2-424b-8434-cd7a98e8f233",
   "metadata": {
    "scrolled": true
   },
   "outputs": [],
   "source": [
    "scores_df = pd.DataFrame(index=[\"scATAcat\", \"Seurat_label_transfer\", \"Cellcano\", \"EpiAnno\"],\n",
    "                        columns=[\"accuracy\",\"balanced_accuracy\",\"cluster_accuracy\",\"macroF1_score\",\"medianF1_score\",\"medianPrecision_score\",\"medianRecall_score\",\"mathews_corr_coef_score\",\"adjusted_rand_score\",\"cohens_kappa_score\"])\n",
    "annotation_df = all_methods_for_commonCells\n",
    "correct_id_col = 'ground_truth_annotations'\n",
    "cluster_id_column = leiden_key\n",
    "for method in scores_df.index:\n",
    "    if method == \"scATAcat\":\n",
    "        predicted_id_col = \"scATAcat_annotation\"\n",
    "        scores_df.loc[\"scATAcat\", \"accuracy\"] = get_accuracy(annotation_df = annotation_df,correct_id_col=correct_id_col,predicted_id_col=predicted_id_col)\n",
    "        scores_df.loc[\"scATAcat\", \"balanced_accuracy\"] = get_balanced_accuracy(annotation_df = annotation_df,correct_id_col=correct_id_col,predicted_id_col=predicted_id_col)\n",
    "        scores_df.loc[\"scATAcat\", \"cluster_accuracy\"] =  get_cluster_accuracy(annotation_df = annotation_df, cluster_id_column =cluster_id_column,correct_id_col=correct_id_col, predicted_id_col=predicted_id_col)\n",
    "        scores_df.loc[\"scATAcat\", \"macroF1_score\"] = get_macroF1_score(annotation_df = annotation_df, correct_id_col=correct_id_col, predicted_id_col=predicted_id_col, label_list=None)\n",
    "        scores_df.loc[\"scATAcat\", \"medianF1_score\"] = get_medianF1_score(annotation_df = annotation_df,correct_id_col=correct_id_col,predicted_id_col=predicted_id_col)\n",
    "        scores_df.loc[\"scATAcat\", \"medianPrecision_score\"] = get_medianPrecision_score(annotation_df = annotation_df,correct_id_col=correct_id_col,predicted_id_col=predicted_id_col)\n",
    "        scores_df.loc[\"scATAcat\", \"medianRecall_score\"] =  get_medianRecall_score(annotation_df = annotation_df,correct_id_col=correct_id_col,predicted_id_col=predicted_id_col)\n",
    "        scores_df.loc[\"scATAcat\", \"mathews_corr_coef_score\"] = get_mathews_corr_coef_score(annotation_df = annotation_df,correct_id_col=correct_id_col,predicted_id_col=predicted_id_col)\n",
    "        scores_df.loc[\"scATAcat\", \"adjusted_rand_score\"] = get_adjusted_rand_score(annotation_df = annotation_df,correct_id_col=correct_id_col,predicted_id_col=predicted_id_col)\n",
    "        scores_df.loc[\"scATAcat\", \"cohens_kappa_score\"] =  get_cohens_kappa_score(annotation_df = annotation_df,correct_id_col=correct_id_col,predicted_id_col=predicted_id_col)\n",
    "    if method == \"Seurat_label_transfer\":\n",
    "        predicted_id_col = \"labelTransfer_predicted_simplified\"\n",
    "        scores_df.loc[\"Seurat_label_transfer\", \"accuracy\"] = get_accuracy(annotation_df = annotation_df,correct_id_col=correct_id_col,predicted_id_col=predicted_id_col)\n",
    "        scores_df.loc[\"Seurat_label_transfer\", \"balanced_accuracy\"] = get_balanced_accuracy(annotation_df = annotation_df,correct_id_col=correct_id_col,predicted_id_col=predicted_id_col)\n",
    "        scores_df.loc[\"Seurat_label_transfer\", \"cluster_accuracy\"] =  get_cluster_accuracy(annotation_df = annotation_df, cluster_id_column =cluster_id_column,correct_id_col=correct_id_col, predicted_id_col=predicted_id_col)\n",
    "        scores_df.loc[\"Seurat_label_transfer\", \"macroF1_score\"] = get_macroF1_score(annotation_df = annotation_df, correct_id_col=correct_id_col, predicted_id_col=predicted_id_col, label_list=None)\n",
    "        scores_df.loc[\"Seurat_label_transfer\", \"medianF1_score\"] = get_medianF1_score(annotation_df = annotation_df,correct_id_col=correct_id_col,predicted_id_col=predicted_id_col)\n",
    "        scores_df.loc[\"Seurat_label_transfer\", \"medianPrecision_score\"] = get_medianPrecision_score(annotation_df = annotation_df,correct_id_col=correct_id_col,predicted_id_col=predicted_id_col)\n",
    "        scores_df.loc[\"Seurat_label_transfer\", \"medianRecall_score\"] =  get_medianRecall_score(annotation_df = annotation_df,correct_id_col=correct_id_col,predicted_id_col=predicted_id_col)\n",
    "        scores_df.loc[\"Seurat_label_transfer\", \"mathews_corr_coef_score\"] = get_mathews_corr_coef_score(annotation_df = annotation_df,correct_id_col=correct_id_col,predicted_id_col=predicted_id_col)\n",
    "        scores_df.loc[\"Seurat_label_transfer\", \"adjusted_rand_score\"] = get_adjusted_rand_score(annotation_df = annotation_df,correct_id_col=correct_id_col,predicted_id_col=predicted_id_col)\n",
    "        scores_df.loc[\"Seurat_label_transfer\", \"cohens_kappa_score\"] =  get_cohens_kappa_score(annotation_df = annotation_df,correct_id_col=correct_id_col,predicted_id_col=predicted_id_col)\n",
    "    if method == \"Cellcano\":\n",
    "        predicted_id_col = \"Cellcano_annotations_simplified\"\n",
    "        scores_df.loc[\"Cellcano\", \"accuracy\"] = get_accuracy(annotation_df = annotation_df,correct_id_col=correct_id_col,predicted_id_col=predicted_id_col)\n",
    "        scores_df.loc[\"Cellcano\", \"balanced_accuracy\"] = get_balanced_accuracy(annotation_df = annotation_df,correct_id_col=correct_id_col,predicted_id_col=predicted_id_col)\n",
    "        scores_df.loc[\"Cellcano\", \"cluster_accuracy\"] =  get_cluster_accuracy(annotation_df = annotation_df, cluster_id_column =cluster_id_column,correct_id_col=correct_id_col, predicted_id_col=predicted_id_col)\n",
    "        scores_df.loc[\"Cellcano\", \"macroF1_score\"] = get_macroF1_score(annotation_df = annotation_df, correct_id_col=correct_id_col, predicted_id_col=predicted_id_col, label_list=None)\n",
    "        scores_df.loc[\"Cellcano\", \"medianF1_score\"] = get_medianF1_score(annotation_df = annotation_df,correct_id_col=correct_id_col,predicted_id_col=predicted_id_col)\n",
    "        scores_df.loc[\"Cellcano\", \"medianPrecision_score\"] = get_medianPrecision_score(annotation_df = annotation_df,correct_id_col=correct_id_col,predicted_id_col=predicted_id_col)\n",
    "        scores_df.loc[\"Cellcano\", \"medianRecall_score\"] =  get_medianRecall_score(annotation_df = annotation_df,correct_id_col=correct_id_col,predicted_id_col=predicted_id_col)\n",
    "        scores_df.loc[\"Cellcano\", \"mathews_corr_coef_score\"] = get_mathews_corr_coef_score(annotation_df = annotation_df,correct_id_col=correct_id_col,predicted_id_col=predicted_id_col)\n",
    "        scores_df.loc[\"Cellcano\", \"adjusted_rand_score\"] = get_adjusted_rand_score(annotation_df = annotation_df,correct_id_col=correct_id_col,predicted_id_col=predicted_id_col)\n",
    "        scores_df.loc[\"Cellcano\", \"cohens_kappa_score\"] =  get_cohens_kappa_score(annotation_df = annotation_df,correct_id_col=correct_id_col,predicted_id_col=predicted_id_col)\n",
    "    if method == \"EpiAnno\":\n",
    "        predicted_id_col = \"EpiAnno_annotations_simplified\"\n",
    "        scores_df.loc[\"EpiAnno\", \"accuracy\"] = get_accuracy(annotation_df = annotation_df,correct_id_col=correct_id_col,predicted_id_col=predicted_id_col)\n",
    "        scores_df.loc[\"EpiAnno\", \"balanced_accuracy\"] = get_balanced_accuracy(annotation_df = annotation_df,correct_id_col=correct_id_col,predicted_id_col=predicted_id_col)\n",
    "        scores_df.loc[\"EpiAnno\", \"cluster_accuracy\"] =  get_cluster_accuracy(annotation_df = annotation_df, cluster_id_column =cluster_id_column,correct_id_col=correct_id_col, predicted_id_col=predicted_id_col)\n",
    "        scores_df.loc[\"EpiAnno\", \"macroF1_score\"] = get_macroF1_score(annotation_df = annotation_df, correct_id_col=correct_id_col, predicted_id_col=predicted_id_col, label_list=None)\n",
    "        scores_df.loc[\"EpiAnno\", \"medianF1_score\"] = get_medianF1_score(annotation_df = annotation_df,correct_id_col=correct_id_col,predicted_id_col=predicted_id_col)\n",
    "        scores_df.loc[\"EpiAnno\", \"medianPrecision_score\"] = get_medianPrecision_score(annotation_df = annotation_df,correct_id_col=correct_id_col,predicted_id_col=predicted_id_col)\n",
    "        scores_df.loc[\"EpiAnno\", \"medianRecall_score\"] =  get_medianRecall_score(annotation_df = annotation_df,correct_id_col=correct_id_col,predicted_id_col=predicted_id_col)\n",
    "        scores_df.loc[\"EpiAnno\", \"mathews_corr_coef_score\"] = get_mathews_corr_coef_score(annotation_df = annotation_df,correct_id_col=correct_id_col,predicted_id_col=predicted_id_col)\n",
    "        scores_df.loc[\"EpiAnno\", \"adjusted_rand_score\"] = get_adjusted_rand_score(annotation_df = annotation_df,correct_id_col=correct_id_col,predicted_id_col=predicted_id_col)\n",
    "        scores_df.loc[\"EpiAnno\", \"cohens_kappa_score\"] =  get_cohens_kappa_score(annotation_df = annotation_df,correct_id_col=correct_id_col,predicted_id_col=predicted_id_col)\n"
   ]
  },
  {
   "cell_type": "code",
   "execution_count": null,
   "id": "321f7fb7-1a5f-4808-b6f9-8132ef510e27",
   "metadata": {},
   "outputs": [],
   "source": []
  },
  {
   "cell_type": "code",
   "execution_count": 68,
   "id": "7ea8e359-81ea-4cd2-aa66-6082e5fc4016",
   "metadata": {},
   "outputs": [
    {
     "data": {
      "image/png": "[encoded data removed]",
      "text/plain": [
       "<Figure size 1500x1000 with 1 Axes>"
      ]
     },
     "metadata": {},
     "output_type": "display_data"
    }
   ],
   "source": [
    "\n",
    "ax = scores_df.T.plot(kind='bar', figsize=(15, 10), legend=True, fontsize=12)\n",
    "ax.set_xlabel(\"evaluation metrics\", fontsize=12)\n",
    "ax.set_ylim(ymin=0.0)\n",
    "plt.title(\"evaluation scores for common cells and unfiltered annotations\", fontsize=15)\n",
    "plt.xticks(rotation=45)\n",
    "#plt.show()\n",
    "plt.savefig(figures_dir+ '/common_cells_unfiltered_annotations.png', bbox_inches='tight')"
   ]
  },
  {
   "cell_type": "markdown",
   "id": "c189b3eb-1fb6-49bb-b12a-daba5a279698",
   "metadata": {},
   "source": [
    "## scores for pairwise common cells & no filter on annotations\n"
   ]
  },
  {
   "cell_type": "code",
   "execution_count": 69,
   "id": "7df1514b-d558-4eb5-bb36-ab4c39503fca",
   "metadata": {},
   "outputs": [],
   "source": [
    "ground_truth_annotations_ = scATAcat_annotations[['ground_truth_annotations', 'cell_IDs']]"
   ]
  },
  {
   "cell_type": "code",
   "execution_count": 70,
   "id": "55783e4e-5c58-48d3-bf94-91061fc92613",
   "metadata": {},
   "outputs": [
    {
     "data": {
      "text/html": [
       "<div>\n",
       "<style scoped>\n",
       "    .dataframe tbody tr th:only-of-type {\n",
       "        vertical-align: middle;\n",
       "    }\n",
       "\n",
       "    .dataframe tbody tr th {\n",
       "        vertical-align: top;\n",
       "    }\n",
       "\n",
       "    .dataframe thead th {\n",
       "        text-align: right;\n",
       "    }\n",
       "</style>\n",
       "<table border=\"1\" class=\"dataframe\">\n",
       "  <thead>\n",
       "    <tr style=\"text-align: right;\">\n",
       "      <th></th>\n",
       "      <th>ground_truth_annotations</th>\n",
       "      <th>cell_IDs</th>\n",
       "    </tr>\n",
       "  </thead>\n",
       "  <tbody>\n",
       "    <tr>\n",
       "      <th>CLP_1</th>\n",
       "      <td>CLP</td>\n",
       "      <td>CLP_1</td>\n",
       "    </tr>\n",
       "    <tr>\n",
       "      <th>CMP_0</th>\n",
       "      <td>CMP</td>\n",
       "      <td>CMP_0</td>\n",
       "    </tr>\n",
       "    <tr>\n",
       "      <th>CMP_1</th>\n",
       "      <td>CMP</td>\n",
       "      <td>CMP_1</td>\n",
       "    </tr>\n",
       "    <tr>\n",
       "      <th>CMP_2</th>\n",
       "      <td>CMP</td>\n",
       "      <td>CMP_2</td>\n",
       "    </tr>\n",
       "    <tr>\n",
       "      <th>CMP_3</th>\n",
       "      <td>CMP</td>\n",
       "      <td>CMP_3</td>\n",
       "    </tr>\n",
       "  </tbody>\n",
       "</table>\n",
       "</div>"
      ],
      "text/plain": [
       "      ground_truth_annotations cell_IDs\n",
       "CLP_1                      CLP    CLP_1\n",
       "CMP_0                      CMP    CMP_0\n",
       "CMP_1                      CMP    CMP_1\n",
       "CMP_2                      CMP    CMP_2\n",
       "CMP_3                      CMP    CMP_3"
      ]
     },
     "execution_count": 70,
     "metadata": {},
     "output_type": "execute_result"
    }
   ],
   "source": [
    "ground_truth_annotations_.head()"
   ]
  },
  {
   "cell_type": "code",
   "execution_count": 71,
   "id": "d451fe9e-779b-4ab5-9b71-a672e6d95f35",
   "metadata": {
    "scrolled": true
   },
   "outputs": [],
   "source": [
    "scores_df = pd.DataFrame(index=[\"scATAcat\", \"Seurat_label_transfer\", \"Cellcano\", \"EpiAnno\"],\n",
    "                        columns=[\"accuracy\",\"balanced_accuracy\",\"macroF1_score\",\"medianF1_score\",\"medianPrecision_score\",\"medianRecall_score\",\"mathews_corr_coef_score\",\"adjusted_rand_score\",\"cohens_kappa_score\"])\n",
    "#annotation_df = all_methods_for_commonCells\n",
    "correct_id_col = 'ground_truth_annotations'\n",
    "#cluster_id_column ='leiden_1'\n",
    "for method in scores_df.index:\n",
    "    if method == \"scATAcat\":\n",
    "        common_cells = get_common_cells(scATAcat_annotations)\n",
    "        all_methods_for_commonCells = get_combined_annotations_df_for_common_cells(scATAcat_annotations, common_cells=common_cells, cell_ID_column = \"cell_IDs\")\n",
    "        annotation_df = all_methods_for_commonCells\n",
    "        predicted_id_col = \"scATAcat_annotation\"\n",
    "        scores_df.loc[\"scATAcat\", \"accuracy\"] = get_accuracy(annotation_df = annotation_df,correct_id_col=correct_id_col,predicted_id_col=predicted_id_col)\n",
    "        scores_df.loc[\"scATAcat\", \"balanced_accuracy\"] = get_balanced_accuracy(annotation_df = annotation_df,correct_id_col=correct_id_col,predicted_id_col=predicted_id_col)\n",
    "        #scores_df.loc[\"scATAcat\", \"cluster_accuracy\"] =  get_cluster_accuracy(annotation_df = annotation_df, cluster_id_column =cluster_id_column,correct_id_col=correct_id_col, predicted_id_col=predicted_id_col)\n",
    "        scores_df.loc[\"scATAcat\", \"macroF1_score\"] = get_macroF1_score(annotation_df = annotation_df, correct_id_col=correct_id_col, predicted_id_col=predicted_id_col, label_list=None)\n",
    "        scores_df.loc[\"scATAcat\", \"medianF1_score\"] = get_medianF1_score(annotation_df = annotation_df,correct_id_col=correct_id_col,predicted_id_col=predicted_id_col)\n",
    "        scores_df.loc[\"scATAcat\", \"medianPrecision_score\"] = get_medianPrecision_score(annotation_df = annotation_df,correct_id_col=correct_id_col,predicted_id_col=predicted_id_col)\n",
    "        scores_df.loc[\"scATAcat\", \"medianRecall_score\"] =  get_medianRecall_score(annotation_df = annotation_df,correct_id_col=correct_id_col,predicted_id_col=predicted_id_col)\n",
    "        scores_df.loc[\"scATAcat\", \"mathews_corr_coef_score\"] = get_mathews_corr_coef_score(annotation_df = annotation_df,correct_id_col=correct_id_col,predicted_id_col=predicted_id_col)\n",
    "        scores_df.loc[\"scATAcat\", \"adjusted_rand_score\"] = get_adjusted_rand_score(annotation_df = annotation_df,correct_id_col=correct_id_col,predicted_id_col=predicted_id_col)\n",
    "        scores_df.loc[\"scATAcat\", \"cohens_kappa_score\"] =  get_cohens_kappa_score(annotation_df = annotation_df,correct_id_col=correct_id_col,predicted_id_col=predicted_id_col)\n",
    "    if method == \"Seurat_label_transfer\":\n",
    "        common_cells = get_common_cells(seurat_integration_annotations,ground_truth_annotations_)\n",
    "        all_methods_for_commonCells = get_combined_annotations_df_for_common_cells(seurat_integration_annotations,ground_truth_annotations_, common_cells=common_cells, cell_ID_column = \"cell_IDs\")\n",
    "        annotation_df = all_methods_for_commonCells        \n",
    "        predicted_id_col = \"labelTransfer_predicted_simplified\"\n",
    "        scores_df.loc[\"Seurat_label_transfer\", \"accuracy\"] = get_accuracy(annotation_df = annotation_df,correct_id_col=correct_id_col,predicted_id_col=predicted_id_col)\n",
    "        scores_df.loc[\"Seurat_label_transfer\", \"balanced_accuracy\"] = get_balanced_accuracy(annotation_df = annotation_df,correct_id_col=correct_id_col,predicted_id_col=predicted_id_col)\n",
    "        #scores_df.loc[\"Seurat_label_transfer\", \"cluster_accuracy\"] =  get_cluster_accuracy(annotation_df = annotation_df, cluster_id_column =cluster_id_column,correct_id_col=correct_id_col, predicted_id_col=predicted_id_col)\n",
    "        scores_df.loc[\"Seurat_label_transfer\", \"macroF1_score\"] = get_macroF1_score(annotation_df = annotation_df, correct_id_col=correct_id_col, predicted_id_col=predicted_id_col, label_list=None)\n",
    "        scores_df.loc[\"Seurat_label_transfer\", \"medianF1_score\"] = get_medianF1_score(annotation_df = annotation_df,correct_id_col=correct_id_col,predicted_id_col=predicted_id_col)\n",
    "        scores_df.loc[\"Seurat_label_transfer\", \"medianPrecision_score\"] = get_medianPrecision_score(annotation_df = annotation_df,correct_id_col=correct_id_col,predicted_id_col=predicted_id_col)\n",
    "        scores_df.loc[\"Seurat_label_transfer\", \"medianRecall_score\"] =  get_medianRecall_score(annotation_df = annotation_df,correct_id_col=correct_id_col,predicted_id_col=predicted_id_col)\n",
    "        scores_df.loc[\"Seurat_label_transfer\", \"mathews_corr_coef_score\"] = get_mathews_corr_coef_score(annotation_df = annotation_df,correct_id_col=correct_id_col,predicted_id_col=predicted_id_col)\n",
    "        scores_df.loc[\"Seurat_label_transfer\", \"adjusted_rand_score\"] = get_adjusted_rand_score(annotation_df = annotation_df,correct_id_col=correct_id_col,predicted_id_col=predicted_id_col)\n",
    "        scores_df.loc[\"Seurat_label_transfer\", \"cohens_kappa_score\"] =  get_cohens_kappa_score(annotation_df = annotation_df,correct_id_col=correct_id_col,predicted_id_col=predicted_id_col)\n",
    "    if method == \"Cellcano\":\n",
    "        common_cells = get_common_cells(Cellcano_annotations,ground_truth_annotations_)\n",
    "        all_methods_for_commonCells = get_combined_annotations_df_for_common_cells(Cellcano_annotations,ground_truth_annotations_, common_cells=common_cells, cell_ID_column = \"cell_IDs\")\n",
    "        annotation_df = all_methods_for_commonCells\n",
    "        predicted_id_col = \"Cellcano_annotations_simplified\"\n",
    "        scores_df.loc[\"Cellcano\", \"accuracy\"] = get_accuracy(annotation_df = annotation_df,correct_id_col=correct_id_col,predicted_id_col=predicted_id_col)\n",
    "        scores_df.loc[\"Cellcano\", \"balanced_accuracy\"] = get_balanced_accuracy(annotation_df = annotation_df,correct_id_col=correct_id_col,predicted_id_col=predicted_id_col)\n",
    "        #scores_df.loc[\"Cellcano\", \"cluster_accuracy\"] =  get_cluster_accuracy(annotation_df = annotation_df, cluster_id_column =cluster_id_column,correct_id_col=correct_id_col, predicted_id_col=predicted_id_col)\n",
    "        scores_df.loc[\"Cellcano\", \"macroF1_score\"] = get_macroF1_score(annotation_df = annotation_df, correct_id_col=correct_id_col, predicted_id_col=predicted_id_col, label_list=None)\n",
    "        scores_df.loc[\"Cellcano\", \"medianF1_score\"] = get_medianF1_score(annotation_df = annotation_df,correct_id_col=correct_id_col,predicted_id_col=predicted_id_col)\n",
    "        scores_df.loc[\"Cellcano\", \"medianPrecision_score\"] = get_medianPrecision_score(annotation_df = annotation_df,correct_id_col=correct_id_col,predicted_id_col=predicted_id_col)\n",
    "        scores_df.loc[\"Cellcano\", \"medianRecall_score\"] =  get_medianRecall_score(annotation_df = annotation_df,correct_id_col=correct_id_col,predicted_id_col=predicted_id_col)\n",
    "        scores_df.loc[\"Cellcano\", \"mathews_corr_coef_score\"] = get_mathews_corr_coef_score(annotation_df = annotation_df,correct_id_col=correct_id_col,predicted_id_col=predicted_id_col)\n",
    "        scores_df.loc[\"Cellcano\", \"adjusted_rand_score\"] = get_adjusted_rand_score(annotation_df = annotation_df,correct_id_col=correct_id_col,predicted_id_col=predicted_id_col)\n",
    "        scores_df.loc[\"Cellcano\", \"cohens_kappa_score\"] =  get_cohens_kappa_score(annotation_df = annotation_df,correct_id_col=correct_id_col,predicted_id_col=predicted_id_col)\n",
    "    if method == \"EpiAnno\":\n",
    "        common_cells = get_common_cells(EpiAnno_annotations,ground_truth_annotations_)\n",
    "        all_methods_for_commonCells = get_combined_annotations_df_for_common_cells(EpiAnno_annotations,ground_truth_annotations_, common_cells=common_cells, cell_ID_column = \"cell_IDs\")\n",
    "        annotation_df = all_methods_for_commonCells\n",
    "        predicted_id_col = \"EpiAnno_annotations_simplified\"\n",
    "        scores_df.loc[\"EpiAnno\", \"accuracy\"] = get_accuracy(annotation_df = annotation_df,correct_id_col=correct_id_col,predicted_id_col=predicted_id_col)\n",
    "        scores_df.loc[\"EpiAnno\", \"balanced_accuracy\"] = get_balanced_accuracy(annotation_df = annotation_df,correct_id_col=correct_id_col,predicted_id_col=predicted_id_col)\n",
    "        #scores_df.loc[\"EpiAnno\", \"cluster_accuracy\"] =  get_cluster_accuracy(annotation_df = annotation_df, cluster_id_column =cluster_id_column,correct_id_col=correct_id_col, predicted_id_col=predicted_id_col)\n",
    "        scores_df.loc[\"EpiAnno\", \"macroF1_score\"] = get_macroF1_score(annotation_df = annotation_df, correct_id_col=correct_id_col, predicted_id_col=predicted_id_col, label_list=None)\n",
    "        scores_df.loc[\"EpiAnno\", \"medianF1_score\"] = get_medianF1_score(annotation_df = annotation_df,correct_id_col=correct_id_col,predicted_id_col=predicted_id_col)\n",
    "        scores_df.loc[\"EpiAnno\", \"medianPrecision_score\"] = get_medianPrecision_score(annotation_df = annotation_df,correct_id_col=correct_id_col,predicted_id_col=predicted_id_col)\n",
    "        scores_df.loc[\"EpiAnno\", \"medianRecall_score\"] =  get_medianRecall_score(annotation_df = annotation_df,correct_id_col=correct_id_col,predicted_id_col=predicted_id_col)\n",
    "        scores_df.loc[\"EpiAnno\", \"mathews_corr_coef_score\"] = get_mathews_corr_coef_score(annotation_df = annotation_df,correct_id_col=correct_id_col,predicted_id_col=predicted_id_col)\n",
    "        scores_df.loc[\"EpiAnno\", \"adjusted_rand_score\"] = get_adjusted_rand_score(annotation_df = annotation_df,correct_id_col=correct_id_col,predicted_id_col=predicted_id_col)\n",
    "        scores_df.loc[\"EpiAnno\", \"cohens_kappa_score\"] =  get_cohens_kappa_score(annotation_df = annotation_df,correct_id_col=correct_id_col,predicted_id_col=predicted_id_col)\n"
   ]
  },
  {
   "cell_type": "code",
   "execution_count": 72,
   "id": "b23243be-da0b-4a90-a7c8-53a311684186",
   "metadata": {},
   "outputs": [
    {
     "data": {
      "text/html": [
       "<div>\n",
       "<style scoped>\n",
       "    .dataframe tbody tr th:only-of-type {\n",
       "        vertical-align: middle;\n",
       "    }\n",
       "\n",
       "    .dataframe tbody tr th {\n",
       "        vertical-align: top;\n",
       "    }\n",
       "\n",
       "    .dataframe thead th {\n",
       "        text-align: right;\n",
       "    }\n",
       "</style>\n",
       "<table border=\"1\" class=\"dataframe\">\n",
       "  <thead>\n",
       "    <tr style=\"text-align: right;\">\n",
       "      <th></th>\n",
       "      <th>accuracy</th>\n",
       "      <th>balanced_accuracy</th>\n",
       "      <th>macroF1_score</th>\n",
       "      <th>medianF1_score</th>\n",
       "      <th>medianPrecision_score</th>\n",
       "      <th>medianRecall_score</th>\n",
       "      <th>mathews_corr_coef_score</th>\n",
       "      <th>adjusted_rand_score</th>\n",
       "      <th>cohens_kappa_score</th>\n",
       "    </tr>\n",
       "  </thead>\n",
       "  <tbody>\n",
       "    <tr>\n",
       "      <th>scATAcat</th>\n",
       "      <td>0.86859</td>\n",
       "      <td>0.896498</td>\n",
       "      <td>0.873139</td>\n",
       "      <td>0.867165</td>\n",
       "      <td>0.875582</td>\n",
       "      <td>0.889413</td>\n",
       "      <td>0.826911</td>\n",
       "      <td>0.6839</td>\n",
       "      <td>0.826354</td>\n",
       "    </tr>\n",
       "    <tr>\n",
       "      <th>Seurat_label_transfer</th>\n",
       "      <td>0.286859</td>\n",
       "      <td>0.447908</td>\n",
       "      <td>0.280877</td>\n",
       "      <td>0.301028</td>\n",
       "      <td>0.242948</td>\n",
       "      <td>0.459844</td>\n",
       "      <td>0.234134</td>\n",
       "      <td>0.069512</td>\n",
       "      <td>0.188742</td>\n",
       "    </tr>\n",
       "    <tr>\n",
       "      <th>Cellcano</th>\n",
       "      <td>0.433993</td>\n",
       "      <td>0.588908</td>\n",
       "      <td>0.469329</td>\n",
       "      <td>0.54932</td>\n",
       "      <td>0.530851</td>\n",
       "      <td>0.629426</td>\n",
       "      <td>0.365295</td>\n",
       "      <td>0.210395</td>\n",
       "      <td>0.332426</td>\n",
       "    </tr>\n",
       "    <tr>\n",
       "      <th>EpiAnno</th>\n",
       "      <td>0.591662</td>\n",
       "      <td>0.684613</td>\n",
       "      <td>0.582056</td>\n",
       "      <td>0.575253</td>\n",
       "      <td>0.67965</td>\n",
       "      <td>0.697986</td>\n",
       "      <td>0.548002</td>\n",
       "      <td>0.392151</td>\n",
       "      <td>0.508697</td>\n",
       "    </tr>\n",
       "  </tbody>\n",
       "</table>\n",
       "</div>"
      ],
      "text/plain": [
       "                       accuracy balanced_accuracy macroF1_score  \\\n",
       "scATAcat                0.86859          0.896498      0.873139   \n",
       "Seurat_label_transfer  0.286859          0.447908      0.280877   \n",
       "Cellcano               0.433993          0.588908      0.469329   \n",
       "EpiAnno                0.591662          0.684613      0.582056   \n",
       "\n",
       "                      medianF1_score medianPrecision_score medianRecall_score  \\\n",
       "scATAcat                    0.867165              0.875582           0.889413   \n",
       "Seurat_label_transfer       0.301028              0.242948           0.459844   \n",
       "Cellcano                     0.54932              0.530851           0.629426   \n",
       "EpiAnno                     0.575253               0.67965           0.697986   \n",
       "\n",
       "                      mathews_corr_coef_score adjusted_rand_score  \\\n",
       "scATAcat                             0.826911              0.6839   \n",
       "Seurat_label_transfer                0.234134            0.069512   \n",
       "Cellcano                             0.365295            0.210395   \n",
       "EpiAnno                              0.548002            0.392151   \n",
       "\n",
       "                      cohens_kappa_score  \n",
       "scATAcat                        0.826354  \n",
       "Seurat_label_transfer           0.188742  \n",
       "Cellcano                        0.332426  \n",
       "EpiAnno                         0.508697  "
      ]
     },
     "execution_count": 72,
     "metadata": {},
     "output_type": "execute_result"
    }
   ],
   "source": [
    "scores_df"
   ]
  },
  {
   "cell_type": "code",
   "execution_count": 73,
   "id": "2fd5563e-4d88-4eac-ade6-6ddb2dcbcf40",
   "metadata": {},
   "outputs": [
    {
     "data": {
      "image/png": "[encoded data removed]",
      "text/plain": [
       "<Figure size 1500x1000 with 1 Axes>"
      ]
     },
     "metadata": {},
     "output_type": "display_data"
    },
    {
     "data": {
      "text/plain": [
       "<Figure size 640x480 with 0 Axes>"
      ]
     },
     "metadata": {},
     "output_type": "display_data"
    }
   ],
   "source": [
    "ax = scores_df.T.plot(kind='bar', figsize=(15, 10), legend=True, fontsize=12)\n",
    "ax.set_xlabel(\"evaluation metrics\", fontsize=12)\n",
    "ax.set_ylim(ymin=0.0)\n",
    "plt.xticks(rotation=45)\n",
    "plt.title(\"evaluation scores for pairwise common cells and unfiltered annotations\", fontsize=15)\n",
    "\n",
    "plt.show()\n",
    "plt.savefig(figures_dir+ '/pairwise_common_cells_unfiltered_annotations.png', bbox_inches='tight')"
   ]
  },
  {
   "cell_type": "markdown",
   "id": "11bea771-278f-4cbc-bfae-3e0aa31b964b",
   "metadata": {},
   "source": [
    "## scores for pairwise common cells & pairwise common annotations\n"
   ]
  },
  {
   "cell_type": "code",
   "execution_count": 74,
   "id": "53ceb400-a35a-447d-9d5d-920f993323db",
   "metadata": {
    "scrolled": true
   },
   "outputs": [],
   "source": [
    "scores_df = pd.DataFrame(index=[\"scATAcat\", \"Seurat_label_transfer\", \"Cellcano\", \"EpiAnno\"],\n",
    "                        columns=[\"accuracy\",\"balanced_accuracy\",\"macroF1_score\",\"medianF1_score\",\"medianPrecision_score\",\"medianRecall_score\",\"mathews_corr_coef_score\",\"adjusted_rand_score\",\"cohens_kappa_score\"])\n",
    "#annotation_df = all_methods_for_commonCells\n",
    "correct_id_col = 'ground_truth_annotations'\n",
    "#cluster_id_column ='leiden_1'\n",
    "for method in scores_df.index:\n",
    "    if method == \"scATAcat\":\n",
    "        common_cells = get_common_cells(scATAcat_annotations)\n",
    "        all_methods_for_commonCells = get_combined_annotations_df_for_common_cells(scATAcat_annotations, common_cells=common_cells, cell_ID_column = \"cell_IDs\")\n",
    "        common_annotations = list(set(all_methods_for_commonCells.scATAcat_annotation))\n",
    "        all_methods_for_commonCells_commonAnnotations = all_methods_for_commonCells[all_methods_for_commonCells.ground_truth_annotations.isin(common_annotations)]\n",
    "        annotation_df = all_methods_for_commonCells_commonAnnotations\n",
    "        predicted_id_col = \"scATAcat_annotation\"\n",
    "        scores_df.loc[\"scATAcat\", \"accuracy\"] = get_accuracy(annotation_df = annotation_df,correct_id_col=correct_id_col,predicted_id_col=predicted_id_col)\n",
    "        scores_df.loc[\"scATAcat\", \"balanced_accuracy\"] = get_balanced_accuracy(annotation_df = annotation_df,correct_id_col=correct_id_col,predicted_id_col=predicted_id_col)\n",
    "        #scores_df.loc[\"scATAcat\", \"cluster_accuracy\"] =  get_cluster_accuracy(annotation_df = annotation_df, cluster_id_column =cluster_id_column,correct_id_col=correct_id_col, predicted_id_col=predicted_id_col)\n",
    "        scores_df.loc[\"scATAcat\", \"macroF1_score\"] = get_macroF1_score(annotation_df = annotation_df, correct_id_col=correct_id_col, predicted_id_col=predicted_id_col, label_list=None)\n",
    "        scores_df.loc[\"scATAcat\", \"medianF1_score\"] = get_medianF1_score(annotation_df = annotation_df,correct_id_col=correct_id_col,predicted_id_col=predicted_id_col)\n",
    "        scores_df.loc[\"scATAcat\", \"medianPrecision_score\"] = get_medianPrecision_score(annotation_df = annotation_df,correct_id_col=correct_id_col,predicted_id_col=predicted_id_col)\n",
    "        scores_df.loc[\"scATAcat\", \"medianRecall_score\"] =  get_medianRecall_score(annotation_df = annotation_df,correct_id_col=correct_id_col,predicted_id_col=predicted_id_col)\n",
    "        scores_df.loc[\"scATAcat\", \"mathews_corr_coef_score\"] = get_mathews_corr_coef_score(annotation_df = annotation_df,correct_id_col=correct_id_col,predicted_id_col=predicted_id_col)\n",
    "        scores_df.loc[\"scATAcat\", \"adjusted_rand_score\"] = get_adjusted_rand_score(annotation_df = annotation_df,correct_id_col=correct_id_col,predicted_id_col=predicted_id_col)\n",
    "        scores_df.loc[\"scATAcat\", \"cohens_kappa_score\"] =  get_cohens_kappa_score(annotation_df = annotation_df,correct_id_col=correct_id_col,predicted_id_col=predicted_id_col)\n",
    "    if method == \"Seurat_label_transfer\":\n",
    "        common_cells = get_common_cells(seurat_integration_annotations,ground_truth_annotations_)\n",
    "        all_methods_for_commonCells = get_combined_annotations_df_for_common_cells(seurat_integration_annotations,ground_truth_annotations_, common_cells=common_cells, cell_ID_column = \"cell_IDs\")\n",
    "        common_annotations = list(set(all_methods_for_commonCells.ground_truth_annotations)\n",
    "                                  &set(all_methods_for_commonCells.labelTransfer_predicted_simplified))\n",
    "        all_methods_for_commonCells_commonAnnotations = all_methods_for_commonCells[all_methods_for_commonCells.ground_truth_annotations.isin(common_annotations)]\n",
    "        annotation_df = all_methods_for_commonCells_commonAnnotations    \n",
    "        predicted_id_col = \"labelTransfer_predicted_simplified\"\n",
    "        scores_df.loc[\"Seurat_label_transfer\", \"accuracy\"] = get_accuracy(annotation_df = annotation_df,correct_id_col=correct_id_col,predicted_id_col=predicted_id_col)\n",
    "        scores_df.loc[\"Seurat_label_transfer\", \"balanced_accuracy\"] = get_balanced_accuracy(annotation_df = annotation_df,correct_id_col=correct_id_col,predicted_id_col=predicted_id_col)\n",
    "        #scores_df.loc[\"Seurat_label_transfer\", \"cluster_accuracy\"] =  get_cluster_accuracy(annotation_df = annotation_df, cluster_id_column =cluster_id_column,correct_id_col=correct_id_col, predicted_id_col=predicted_id_col)\n",
    "        scores_df.loc[\"Seurat_label_transfer\", \"macroF1_score\"] = get_macroF1_score(annotation_df = annotation_df, correct_id_col=correct_id_col, predicted_id_col=predicted_id_col, label_list=None)\n",
    "        scores_df.loc[\"Seurat_label_transfer\", \"medianF1_score\"] = get_medianF1_score(annotation_df = annotation_df,correct_id_col=correct_id_col,predicted_id_col=predicted_id_col)\n",
    "        scores_df.loc[\"Seurat_label_transfer\", \"medianPrecision_score\"] = get_medianPrecision_score(annotation_df = annotation_df,correct_id_col=correct_id_col,predicted_id_col=predicted_id_col)\n",
    "        scores_df.loc[\"Seurat_label_transfer\", \"medianRecall_score\"] =  get_medianRecall_score(annotation_df = annotation_df,correct_id_col=correct_id_col,predicted_id_col=predicted_id_col)\n",
    "        scores_df.loc[\"Seurat_label_transfer\", \"mathews_corr_coef_score\"] = get_mathews_corr_coef_score(annotation_df = annotation_df,correct_id_col=correct_id_col,predicted_id_col=predicted_id_col)\n",
    "        scores_df.loc[\"Seurat_label_transfer\", \"adjusted_rand_score\"] = get_adjusted_rand_score(annotation_df = annotation_df,correct_id_col=correct_id_col,predicted_id_col=predicted_id_col)\n",
    "        scores_df.loc[\"Seurat_label_transfer\", \"cohens_kappa_score\"] =  get_cohens_kappa_score(annotation_df = annotation_df,correct_id_col=correct_id_col,predicted_id_col=predicted_id_col)\n",
    "    if method == \"Cellcano\":\n",
    "        common_cells = get_common_cells(Cellcano_annotations,ground_truth_annotations_)\n",
    "        all_methods_for_commonCells = get_combined_annotations_df_for_common_cells(Cellcano_annotations,ground_truth_annotations_, common_cells=common_cells, cell_ID_column = \"cell_IDs\")\n",
    "        common_annotations = list(set(all_methods_for_commonCells.ground_truth_annotations)\n",
    "                                  &set(all_methods_for_commonCells.Cellcano_annotations_simplified))\n",
    "        all_methods_for_commonCells_commonAnnotations = all_methods_for_commonCells[all_methods_for_commonCells.ground_truth_annotations.isin(common_annotations)]\n",
    "        annotation_df = all_methods_for_commonCells_commonAnnotations  \n",
    "        predicted_id_col = \"Cellcano_annotations_simplified\"\n",
    "        scores_df.loc[\"Cellcano\", \"accuracy\"] = get_accuracy(annotation_df = annotation_df,correct_id_col=correct_id_col,predicted_id_col=predicted_id_col)\n",
    "        scores_df.loc[\"Cellcano\", \"balanced_accuracy\"] = get_balanced_accuracy(annotation_df = annotation_df,correct_id_col=correct_id_col,predicted_id_col=predicted_id_col)\n",
    "        #scores_df.loc[\"Cellcano\", \"cluster_accuracy\"] =  get_cluster_accuracy(annotation_df = annotation_df, cluster_id_column =cluster_id_column,correct_id_col=correct_id_col, predicted_id_col=predicted_id_col)\n",
    "        scores_df.loc[\"Cellcano\", \"macroF1_score\"] = get_macroF1_score(annotation_df = annotation_df, correct_id_col=correct_id_col, predicted_id_col=predicted_id_col, label_list=None)\n",
    "        scores_df.loc[\"Cellcano\", \"medianF1_score\"] = get_medianF1_score(annotation_df = annotation_df,correct_id_col=correct_id_col,predicted_id_col=predicted_id_col)\n",
    "        scores_df.loc[\"Cellcano\", \"medianPrecision_score\"] = get_medianPrecision_score(annotation_df = annotation_df,correct_id_col=correct_id_col,predicted_id_col=predicted_id_col)\n",
    "        scores_df.loc[\"Cellcano\", \"medianRecall_score\"] =  get_medianRecall_score(annotation_df = annotation_df,correct_id_col=correct_id_col,predicted_id_col=predicted_id_col)\n",
    "        scores_df.loc[\"Cellcano\", \"mathews_corr_coef_score\"] = get_mathews_corr_coef_score(annotation_df = annotation_df,correct_id_col=correct_id_col,predicted_id_col=predicted_id_col)\n",
    "        scores_df.loc[\"Cellcano\", \"adjusted_rand_score\"] = get_adjusted_rand_score(annotation_df = annotation_df,correct_id_col=correct_id_col,predicted_id_col=predicted_id_col)\n",
    "        scores_df.loc[\"Cellcano\", \"cohens_kappa_score\"] =  get_cohens_kappa_score(annotation_df = annotation_df,correct_id_col=correct_id_col,predicted_id_col=predicted_id_col)\n",
    "    if method == \"EpiAnno\":\n",
    "        common_cells = get_common_cells(EpiAnno_annotations,ground_truth_annotations_)\n",
    "        all_methods_for_commonCells = get_combined_annotations_df_for_common_cells(EpiAnno_annotations,ground_truth_annotations_, common_cells=common_cells, cell_ID_column = \"cell_IDs\")\n",
    "        common_annotations = list(set(all_methods_for_commonCells.ground_truth_annotations)\n",
    "                                  &set(all_methods_for_commonCells.EpiAnno_annotations_simplified))\n",
    "        all_methods_for_commonCells_commonAnnotations = all_methods_for_commonCells[all_methods_for_commonCells.ground_truth_annotations.isin(common_annotations)]\n",
    "        annotation_df = all_methods_for_commonCells_commonAnnotations\n",
    "        predicted_id_col = \"EpiAnno_annotations_simplified\"\n",
    "        scores_df.loc[\"EpiAnno\", \"accuracy\"] = get_accuracy(annotation_df = annotation_df,correct_id_col=correct_id_col,predicted_id_col=predicted_id_col)\n",
    "        scores_df.loc[\"EpiAnno\", \"balanced_accuracy\"] = get_balanced_accuracy(annotation_df = annotation_df,correct_id_col=correct_id_col,predicted_id_col=predicted_id_col)\n",
    "        #scores_df.loc[\"EpiAnno\", \"cluster_accuracy\"] =  get_cluster_accuracy(annotation_df = annotation_df, cluster_id_column =cluster_id_column,correct_id_col=correct_id_col, predicted_id_col=predicted_id_col)\n",
    "        scores_df.loc[\"EpiAnno\", \"macroF1_score\"] = get_macroF1_score(annotation_df = annotation_df, correct_id_col=correct_id_col, predicted_id_col=predicted_id_col, label_list=None)\n",
    "        scores_df.loc[\"EpiAnno\", \"medianF1_score\"] = get_medianF1_score(annotation_df = annotation_df,correct_id_col=correct_id_col,predicted_id_col=predicted_id_col)\n",
    "        scores_df.loc[\"EpiAnno\", \"medianPrecision_score\"] = get_medianPrecision_score(annotation_df = annotation_df,correct_id_col=correct_id_col,predicted_id_col=predicted_id_col)\n",
    "        scores_df.loc[\"EpiAnno\", \"medianRecall_score\"] =  get_medianRecall_score(annotation_df = annotation_df,correct_id_col=correct_id_col,predicted_id_col=predicted_id_col)\n",
    "        scores_df.loc[\"EpiAnno\", \"mathews_corr_coef_score\"] = get_mathews_corr_coef_score(annotation_df = annotation_df,correct_id_col=correct_id_col,predicted_id_col=predicted_id_col)\n",
    "        scores_df.loc[\"EpiAnno\", \"adjusted_rand_score\"] = get_adjusted_rand_score(annotation_df = annotation_df,correct_id_col=correct_id_col,predicted_id_col=predicted_id_col)\n",
    "        scores_df.loc[\"EpiAnno\", \"cohens_kappa_score\"] =  get_cohens_kappa_score(annotation_df = annotation_df,correct_id_col=correct_id_col,predicted_id_col=predicted_id_col)\n"
   ]
  },
  {
   "cell_type": "code",
   "execution_count": 75,
   "id": "f7b9c504-24a5-4d27-99d0-faebd3c0ac6b",
   "metadata": {},
   "outputs": [
    {
     "data": {
      "text/html": [
       "<div>\n",
       "<style scoped>\n",
       "    .dataframe tbody tr th:only-of-type {\n",
       "        vertical-align: middle;\n",
       "    }\n",
       "\n",
       "    .dataframe tbody tr th {\n",
       "        vertical-align: top;\n",
       "    }\n",
       "\n",
       "    .dataframe thead th {\n",
       "        text-align: right;\n",
       "    }\n",
       "</style>\n",
       "<table border=\"1\" class=\"dataframe\">\n",
       "  <thead>\n",
       "    <tr style=\"text-align: right;\">\n",
       "      <th></th>\n",
       "      <th>accuracy</th>\n",
       "      <th>balanced_accuracy</th>\n",
       "      <th>macroF1_score</th>\n",
       "      <th>medianF1_score</th>\n",
       "      <th>medianPrecision_score</th>\n",
       "      <th>medianRecall_score</th>\n",
       "      <th>mathews_corr_coef_score</th>\n",
       "      <th>adjusted_rand_score</th>\n",
       "      <th>cohens_kappa_score</th>\n",
       "    </tr>\n",
       "  </thead>\n",
       "  <tbody>\n",
       "    <tr>\n",
       "      <th>scATAcat</th>\n",
       "      <td>0.86859</td>\n",
       "      <td>0.896498</td>\n",
       "      <td>0.873139</td>\n",
       "      <td>0.867165</td>\n",
       "      <td>0.875582</td>\n",
       "      <td>0.889413</td>\n",
       "      <td>0.826911</td>\n",
       "      <td>0.6839</td>\n",
       "      <td>0.826354</td>\n",
       "    </tr>\n",
       "    <tr>\n",
       "      <th>Seurat_label_transfer</th>\n",
       "      <td>0.437653</td>\n",
       "      <td>0.537489</td>\n",
       "      <td>0.421669</td>\n",
       "      <td>0.497449</td>\n",
       "      <td>0.428191</td>\n",
       "      <td>0.770751</td>\n",
       "      <td>0.361623</td>\n",
       "      <td>0.117418</td>\n",
       "      <td>0.308573</td>\n",
       "    </tr>\n",
       "    <tr>\n",
       "      <th>Cellcano</th>\n",
       "      <td>0.433993</td>\n",
       "      <td>0.588908</td>\n",
       "      <td>0.469329</td>\n",
       "      <td>0.54932</td>\n",
       "      <td>0.530851</td>\n",
       "      <td>0.629426</td>\n",
       "      <td>0.365295</td>\n",
       "      <td>0.210395</td>\n",
       "      <td>0.332426</td>\n",
       "    </tr>\n",
       "    <tr>\n",
       "      <th>EpiAnno</th>\n",
       "      <td>0.591662</td>\n",
       "      <td>0.684613</td>\n",
       "      <td>0.582056</td>\n",
       "      <td>0.575253</td>\n",
       "      <td>0.67965</td>\n",
       "      <td>0.697986</td>\n",
       "      <td>0.548002</td>\n",
       "      <td>0.392151</td>\n",
       "      <td>0.508697</td>\n",
       "    </tr>\n",
       "  </tbody>\n",
       "</table>\n",
       "</div>"
      ],
      "text/plain": [
       "                       accuracy balanced_accuracy macroF1_score  \\\n",
       "scATAcat                0.86859          0.896498      0.873139   \n",
       "Seurat_label_transfer  0.437653          0.537489      0.421669   \n",
       "Cellcano               0.433993          0.588908      0.469329   \n",
       "EpiAnno                0.591662          0.684613      0.582056   \n",
       "\n",
       "                      medianF1_score medianPrecision_score medianRecall_score  \\\n",
       "scATAcat                    0.867165              0.875582           0.889413   \n",
       "Seurat_label_transfer       0.497449              0.428191           0.770751   \n",
       "Cellcano                     0.54932              0.530851           0.629426   \n",
       "EpiAnno                     0.575253               0.67965           0.697986   \n",
       "\n",
       "                      mathews_corr_coef_score adjusted_rand_score  \\\n",
       "scATAcat                             0.826911              0.6839   \n",
       "Seurat_label_transfer                0.361623            0.117418   \n",
       "Cellcano                             0.365295            0.210395   \n",
       "EpiAnno                              0.548002            0.392151   \n",
       "\n",
       "                      cohens_kappa_score  \n",
       "scATAcat                        0.826354  \n",
       "Seurat_label_transfer           0.308573  \n",
       "Cellcano                        0.332426  \n",
       "EpiAnno                         0.508697  "
      ]
     },
     "execution_count": 75,
     "metadata": {},
     "output_type": "execute_result"
    }
   ],
   "source": [
    "scores_df"
   ]
  },
  {
   "cell_type": "code",
   "execution_count": 76,
   "id": "f2fdcd21-83c6-42a8-baa3-28d46e4c6ceb",
   "metadata": {},
   "outputs": [
    {
     "data": {
      "image/png": "[encoded data removed]",
      "text/plain": [
       "<Figure size 1500x1000 with 1 Axes>"
      ]
     },
     "metadata": {},
     "output_type": "display_data"
    },
    {
     "data": {
      "text/plain": [
       "<Figure size 640x480 with 0 Axes>"
      ]
     },
     "metadata": {},
     "output_type": "display_data"
    }
   ],
   "source": [
    "ax = scores_df.T.plot(kind='bar', figsize=(15, 10), legend=True, fontsize=12)\n",
    "ax.set_xlabel(\"evaluation metrics\", fontsize=12)\n",
    "ax.set_ylim(ymin=0.0)\n",
    "plt.xticks(rotation=45)\n",
    "plt.title(\"evaluation scores for pairwise common cells and pairwise common annotations\", fontsize=15)\n",
    "\n",
    "plt.show()\n",
    "plt.savefig(figures_dir+ '/pairwise_common_cells_pairwise_common_annotations.png', bbox_inches='tight')"
   ]
  }
 ],
 "metadata": {
  "kernelspec": {
   "display_name": "scATAcat_reproducibility_env",
   "language": "python",
   "name": "scatacat_reproducibility_env"
  },
  "language_info": {
   "codemirror_mode": {
    "name": "ipython",
    "version": 3
   },
   "file_extension": ".py",
   "mimetype": "text/x-python",
   "name": "python",
   "nbconvert_exporter": "python",
   "pygments_lexer": "ipython3",
   "version": "3.10.10"
  },
  "widgets": {
   "application/vnd.jupyter.widget-state+json": {
    "state": {},
    "version_major": 2,
    "version_minor": 0
   }
  }
 },
 "nbformat": 4,
 "nbformat_minor": 5
}
