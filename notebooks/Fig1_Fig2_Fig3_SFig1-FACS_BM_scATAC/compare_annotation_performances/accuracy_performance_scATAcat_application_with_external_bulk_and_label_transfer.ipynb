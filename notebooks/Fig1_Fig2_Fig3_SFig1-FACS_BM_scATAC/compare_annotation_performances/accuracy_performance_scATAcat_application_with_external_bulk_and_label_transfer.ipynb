{
 "cells": [
  {
   "cell_type": "code",
   "execution_count": 1,
   "id": "9da02c3f-ed67-4383-adaa-79b10e38a4e4",
   "metadata": {},
   "outputs": [],
   "source": [
    "import pandas as pd\n",
    "import numpy as np"
   ]
  },
  {
   "cell_type": "code",
   "execution_count": 2,
   "id": "2ab03585-8083-45ec-b62e-11ec06c47b47",
   "metadata": {},
   "outputs": [],
   "source": [
    "def get_accuracy(annotation_df, correct_id_col='real_cellID', predicted_id_col='predicted_cellID'):\n",
    "    num_correct_ann= annotation_df[annotation_df[correct_id_col]==annotation_df[predicted_id_col]].shape[0]\n",
    "    acc=num_correct_ann/annotation_df.shape[0]\n",
    "    print(\"accuracy:\")\n",
    "    return acc"
   ]
  },
  {
   "cell_type": "code",
   "execution_count": 3,
   "id": "a8d3f735-dd92-465a-a7aa-c90422032e86",
   "metadata": {},
   "outputs": [],
   "source": [
    "def get_balanced_accuracy(annotation_df, correct_id_col='real_cellID', predicted_id_col='predicted_cellID'):\n",
    "    ann=[]\n",
    "    for cell_type in sorted(set(annotation_df[correct_id_col])):\n",
    "        cell_type_sub = annotation_df[annotation_df[correct_id_col]==cell_type]\n",
    "        print(cell_type)\n",
    "        num_cells =cell_type_sub.shape[0]\n",
    "        print(\"predicted cell ID\")\n",
    "        num_correct_ann = cell_type_sub[cell_type_sub[predicted_id_col]==cell_type].shape[0]\n",
    "        #print(cell_type_sub.predicted_cellID.value_counts())\n",
    "        perc=(num_correct_ann/num_cells)\n",
    "        print(perc)\n",
    "        ann.append(perc)\n",
    "    balanced_accuracy= np.sum(ann)/len(ann)\n",
    "    print(\"balanced accuracy:\")\n",
    "    print(balanced_accuracy)\n",
    "    return balanced_accuracy"
   ]
  },
  {
   "cell_type": "code",
   "execution_count": 4,
   "id": "480b8326-d639-470e-8b97-ae3e0e818a16",
   "metadata": {},
   "outputs": [],
   "source": [
    "def get_cluster_accuracy(annotation_df, cluster_id_column ='clust',correct_id_col='real_cellID', predicted_id_col='predicted_cellID'):\n",
    "    correc_ann_counter=0\n",
    "    annotation_df = annotation_df.groupby(cluster_id_column).filter(lambda x: len(x) > 10)\n",
    "    cluster_ids =sorted(set(annotation_df[cluster_id_column]))\n",
    "    for cluster_id in cluster_ids:\n",
    "        cluster_sub = annotation_df[annotation_df[cluster_id_column]==cluster_id]   \n",
    "        clust_real_id_counts = cluster_sub[correct_id_col].value_counts()\n",
    "        # sort fist by number then by index, then get the cell type with the highest occurance. This takes care of ties\n",
    "        clust_real_id = clust_real_id_counts.iloc[np.lexsort((clust_real_id_counts.index, -clust_real_id_counts.values))].index[0]\n",
    "        clust_predicted_id_counts = cluster_sub[predicted_id_col].value_counts()\n",
    "        # sort fist by number then by index, then get the cell type with the highest occurance. This takes care of ties\n",
    "        clust_predicted_id = clust_predicted_id_counts.iloc[np.lexsort((clust_predicted_id_counts.index, -clust_predicted_id_counts.values))].index[0]\n",
    "        if clust_real_id == clust_predicted_id:\n",
    "            correc_ann_counter += 1\n",
    "        else:\n",
    "            continue\n",
    "    clust_accuracy= correc_ann_counter/len(cluster_ids)\n",
    "    print(\"cluster accuracy:\")\n",
    "    return clust_accuracy"
   ]
  },
  {
   "cell_type": "code",
   "execution_count": 5,
   "id": "bcb84a5d-6f7f-401c-901a-47e5579ad0f5",
   "metadata": {},
   "outputs": [],
   "source": [
    "data_dir = \"../../../results/Fig1_Fig2_Fig3_SFig1-FACS_BM_scATAC/\"\n",
    "\n",
    "leiden_key = 'leiden_0.6'"
   ]
  },
  {
   "cell_type": "code",
   "execution_count": 6,
   "id": "cac9c4bb-e89c-46aa-bb79-c0b7f4b70479",
   "metadata": {},
   "outputs": [
    {
     "data": {
      "text/html": [
       "<div>\n",
       "<style scoped>\n",
       "    .dataframe tbody tr th:only-of-type {\n",
       "        vertical-align: middle;\n",
       "    }\n",
       "\n",
       "    .dataframe tbody tr th {\n",
       "        vertical-align: top;\n",
       "    }\n",
       "\n",
       "    .dataframe thead th {\n",
       "        text-align: right;\n",
       "    }\n",
       "</style>\n",
       "<table border=\"1\" class=\"dataframe\">\n",
       "  <thead>\n",
       "    <tr style=\"text-align: right;\">\n",
       "      <th></th>\n",
       "      <th>cell_IDs</th>\n",
       "      <th>orig.ident</th>\n",
       "      <th>predicted.celltype.l2</th>\n",
       "    </tr>\n",
       "  </thead>\n",
       "  <tbody>\n",
       "    <tr>\n",
       "      <th>CLP_0</th>\n",
       "      <td>CLP_0</td>\n",
       "      <td>CLP</td>\n",
       "      <td>gdT</td>\n",
       "    </tr>\n",
       "    <tr>\n",
       "      <th>CLP_1</th>\n",
       "      <td>CLP_1</td>\n",
       "      <td>CLP</td>\n",
       "      <td>Memory B</td>\n",
       "    </tr>\n",
       "    <tr>\n",
       "      <th>CMP_0</th>\n",
       "      <td>CMP_0</td>\n",
       "      <td>CMP</td>\n",
       "      <td>CD4 Naive</td>\n",
       "    </tr>\n",
       "    <tr>\n",
       "      <th>CMP_1</th>\n",
       "      <td>CMP_1</td>\n",
       "      <td>CMP</td>\n",
       "      <td>CD14 Mono</td>\n",
       "    </tr>\n",
       "    <tr>\n",
       "      <th>CMP_2</th>\n",
       "      <td>CMP_2</td>\n",
       "      <td>CMP</td>\n",
       "      <td>CD14 Mono</td>\n",
       "    </tr>\n",
       "  </tbody>\n",
       "</table>\n",
       "</div>"
      ],
      "text/plain": [
       "      cell_IDs orig.ident predicted.celltype.l2\n",
       "CLP_0    CLP_0        CLP                   gdT\n",
       "CLP_1    CLP_1        CLP              Memory B\n",
       "CMP_0    CMP_0        CMP             CD4 Naive\n",
       "CMP_1    CMP_1        CMP             CD14 Mono\n",
       "CMP_2    CMP_2        CMP             CD14 Mono"
      ]
     },
     "execution_count": 6,
     "metadata": {},
     "output_type": "execute_result"
    }
   ],
   "source": [
    "labelTransfer_annotations = pd.read_csv(data_dir+\"Fig3-apply_seurat_label_transfer/buenrostro2018_Seurat4_labeltransfer_metadata.csv\", header=0)\n",
    "labelTransfer_annotations = labelTransfer_annotations[['Unnamed: 0','orig.ident', 'predicted.celltype.l2']]\n",
    "labelTransfer_annotations.columns = ['cell_IDs','orig.ident', 'predicted.celltype.l2']\n",
    "labelTransfer_annotations.index = labelTransfer_annotations.cell_IDs\n",
    "labelTransfer_annotations.index.name = None\n",
    "labelTransfer_annotations.head()"
   ]
  },
  {
   "cell_type": "code",
   "execution_count": 7,
   "id": "f8a899f7-c485-46ba-b542-cd470321b7ea",
   "metadata": {},
   "outputs": [
    {
     "name": "stdout",
     "output_type": "stream",
     "text": [
      "{'CD4 Naive': 'CD4Tcell', 'Prog_B 1': 'CLP', 'CD4 Memory': 'CD4Tcell', 'Prog_RBC': 'MEP', 'CD8 Memory_2': 'CD8Tcell', 'Memory B': 'Bcell', 'NK': 'NKcell', 'CD14 Mono': 'Mono', 'CD8 Naive': 'CD8Tcell', 'CD8 Effector_2': 'CD8Tcell', 'Naive B': 'Bcell', 'HSC': 'HSC', 'MAIT': 'MAIT', 'pDC': 'pDC', 'GMP': 'GMP', 'CD16 Mono': 'Mono', 'gdT': 'gdT', 'Prog_B 2': 'CLP', 'LMPP': 'LMPP', 'CD8 Effector_1': 'CD8Tcell', 'Prog_DC': 'GMP', 'Plasmablast': 'Plasmablast', 'cDC2': 'cDC2', 'Prog_Mk': 'MEP', 'CD56 bright NK': 'NKcell', 'CD8 Memory_1': 'CD8Tcell'}\n"
     ]
    }
   ],
   "source": [
    "seurat_l2_annotations = ['CD4 Naive','Prog_B 1','CD4 Memory','Prog_RBC','CD8 Memory_2','Memory B','NK','CD14 Mono','CD8 Naive','CD8 Effector_2','Naive B','HSC','MAIT','pDC','GMP','CD16 Mono','gdT','Prog_B 2','LMPP','CD8 Effector_1','Prog_DC','Plasmablast','cDC2','Prog_Mk','CD56 bright NK','CD8 Memory_1']\n",
    "\n",
    "seurat_l2_annotations_simplified  =['CD4Tcell' , \"CLP\", 'CD4Tcell', \"MEP\", \"CD8Tcell\", \"Bcell\", \"NKcell\", \"Mono\", \"CD8Tcell\", \"CD8Tcell\", \"Bcell\", 'HSC', 'MAIT','pDC','GMP', \"Mono\", 'gdT', 'CLP', 'LMPP', 'CD8Tcell', \"GMP\", 'Plasmablast', 'cDC2', \"MEP\", \"NKcell\", 'CD8Tcell']\n",
    "\n",
    "seurat_l2_annotations_to_simplified_dict = dict(zip(seurat_l2_annotations, seurat_l2_annotations_simplified))\n",
    "\n",
    "print(seurat_l2_annotations_to_simplified_dict)\n",
    "\n"
   ]
  },
  {
   "cell_type": "code",
   "execution_count": 8,
   "id": "ff5d3442-7281-4b40-aa39-2a8bf2ff1bf2",
   "metadata": {},
   "outputs": [],
   "source": [
    "labelTransfer_annotations = labelTransfer_annotations.assign(labelTransfer_predicted_celltype_l2_simplified=list(labelTransfer_annotations['predicted.celltype.l2'].map(seurat_l2_annotations_to_simplified_dict)))"
   ]
  },
  {
   "cell_type": "code",
   "execution_count": 9,
   "id": "a44e5b62-e87e-4fd1-a0d8-c9c7019c5fdd",
   "metadata": {},
   "outputs": [
    {
     "data": {
      "text/html": [
       "<div>\n",
       "<style scoped>\n",
       "    .dataframe tbody tr th:only-of-type {\n",
       "        vertical-align: middle;\n",
       "    }\n",
       "\n",
       "    .dataframe tbody tr th {\n",
       "        vertical-align: top;\n",
       "    }\n",
       "\n",
       "    .dataframe thead th {\n",
       "        text-align: right;\n",
       "    }\n",
       "</style>\n",
       "<table border=\"1\" class=\"dataframe\">\n",
       "  <thead>\n",
       "    <tr style=\"text-align: right;\">\n",
       "      <th></th>\n",
       "      <th>cell_IDs</th>\n",
       "      <th>orig.ident</th>\n",
       "      <th>predicted.celltype.l2</th>\n",
       "      <th>labelTransfer_predicted_celltype_l2_simplified</th>\n",
       "    </tr>\n",
       "  </thead>\n",
       "  <tbody>\n",
       "    <tr>\n",
       "      <th>CLP_0</th>\n",
       "      <td>CLP_0</td>\n",
       "      <td>CLP</td>\n",
       "      <td>gdT</td>\n",
       "      <td>gdT</td>\n",
       "    </tr>\n",
       "    <tr>\n",
       "      <th>CLP_1</th>\n",
       "      <td>CLP_1</td>\n",
       "      <td>CLP</td>\n",
       "      <td>Memory B</td>\n",
       "      <td>Bcell</td>\n",
       "    </tr>\n",
       "    <tr>\n",
       "      <th>CMP_0</th>\n",
       "      <td>CMP_0</td>\n",
       "      <td>CMP</td>\n",
       "      <td>CD4 Naive</td>\n",
       "      <td>CD4Tcell</td>\n",
       "    </tr>\n",
       "    <tr>\n",
       "      <th>CMP_1</th>\n",
       "      <td>CMP_1</td>\n",
       "      <td>CMP</td>\n",
       "      <td>CD14 Mono</td>\n",
       "      <td>Mono</td>\n",
       "    </tr>\n",
       "    <tr>\n",
       "      <th>CMP_2</th>\n",
       "      <td>CMP_2</td>\n",
       "      <td>CMP</td>\n",
       "      <td>CD14 Mono</td>\n",
       "      <td>Mono</td>\n",
       "    </tr>\n",
       "    <tr>\n",
       "      <th>...</th>\n",
       "      <td>...</td>\n",
       "      <td>...</td>\n",
       "      <td>...</td>\n",
       "      <td>...</td>\n",
       "    </tr>\n",
       "    <tr>\n",
       "      <th>LMPP_91</th>\n",
       "      <td>LMPP_91</td>\n",
       "      <td>LMPP</td>\n",
       "      <td>CD8 Naive</td>\n",
       "      <td>CD8Tcell</td>\n",
       "    </tr>\n",
       "    <tr>\n",
       "      <th>LMPP_92</th>\n",
       "      <td>LMPP_92</td>\n",
       "      <td>LMPP</td>\n",
       "      <td>CD14 Mono</td>\n",
       "      <td>Mono</td>\n",
       "    </tr>\n",
       "    <tr>\n",
       "      <th>LMPP_93</th>\n",
       "      <td>LMPP_93</td>\n",
       "      <td>LMPP</td>\n",
       "      <td>Naive B</td>\n",
       "      <td>Bcell</td>\n",
       "    </tr>\n",
       "    <tr>\n",
       "      <th>LMPP_94</th>\n",
       "      <td>LMPP_94</td>\n",
       "      <td>LMPP</td>\n",
       "      <td>Memory B</td>\n",
       "      <td>Bcell</td>\n",
       "    </tr>\n",
       "    <tr>\n",
       "      <th>LMPP_95</th>\n",
       "      <td>LMPP_95</td>\n",
       "      <td>LMPP</td>\n",
       "      <td>CD14 Mono</td>\n",
       "      <td>Mono</td>\n",
       "    </tr>\n",
       "  </tbody>\n",
       "</table>\n",
       "<p>2017 rows × 4 columns</p>\n",
       "</div>"
      ],
      "text/plain": [
       "        cell_IDs orig.ident predicted.celltype.l2  \\\n",
       "CLP_0      CLP_0        CLP                   gdT   \n",
       "CLP_1      CLP_1        CLP              Memory B   \n",
       "CMP_0      CMP_0        CMP             CD4 Naive   \n",
       "CMP_1      CMP_1        CMP             CD14 Mono   \n",
       "CMP_2      CMP_2        CMP             CD14 Mono   \n",
       "...          ...        ...                   ...   \n",
       "LMPP_91  LMPP_91       LMPP             CD8 Naive   \n",
       "LMPP_92  LMPP_92       LMPP             CD14 Mono   \n",
       "LMPP_93  LMPP_93       LMPP               Naive B   \n",
       "LMPP_94  LMPP_94       LMPP              Memory B   \n",
       "LMPP_95  LMPP_95       LMPP             CD14 Mono   \n",
       "\n",
       "        labelTransfer_predicted_celltype_l2_simplified  \n",
       "CLP_0                                              gdT  \n",
       "CLP_1                                            Bcell  \n",
       "CMP_0                                         CD4Tcell  \n",
       "CMP_1                                             Mono  \n",
       "CMP_2                                             Mono  \n",
       "...                                                ...  \n",
       "LMPP_91                                       CD8Tcell  \n",
       "LMPP_92                                           Mono  \n",
       "LMPP_93                                          Bcell  \n",
       "LMPP_94                                          Bcell  \n",
       "LMPP_95                                           Mono  \n",
       "\n",
       "[2017 rows x 4 columns]"
      ]
     },
     "execution_count": 9,
     "metadata": {},
     "output_type": "execute_result"
    }
   ],
   "source": [
    "labelTransfer_annotations"
   ]
  },
  {
   "cell_type": "code",
   "execution_count": 10,
   "id": "f35b2680-0790-46c7-b695-11962c8d9a46",
   "metadata": {},
   "outputs": [
    {
     "data": {
      "text/html": [
       "<div>\n",
       "<style scoped>\n",
       "    .dataframe tbody tr th:only-of-type {\n",
       "        vertical-align: middle;\n",
       "    }\n",
       "\n",
       "    .dataframe tbody tr th {\n",
       "        vertical-align: top;\n",
       "    }\n",
       "\n",
       "    .dataframe thead th {\n",
       "        text-align: right;\n",
       "    }\n",
       "</style>\n",
       "<table border=\"1\" class=\"dataframe\">\n",
       "  <thead>\n",
       "    <tr style=\"text-align: right;\">\n",
       "      <th></th>\n",
       "      <th>cell_IDs</th>\n",
       "      <th>ground_truth</th>\n",
       "      <th>labelTransfer_predicted</th>\n",
       "      <th>labelTransfer_predicted_simplified</th>\n",
       "    </tr>\n",
       "  </thead>\n",
       "  <tbody>\n",
       "    <tr>\n",
       "      <th>CLP_0</th>\n",
       "      <td>CLP_0</td>\n",
       "      <td>CLP</td>\n",
       "      <td>gdT</td>\n",
       "      <td>gdT</td>\n",
       "    </tr>\n",
       "    <tr>\n",
       "      <th>CLP_1</th>\n",
       "      <td>CLP_1</td>\n",
       "      <td>CLP</td>\n",
       "      <td>Memory B</td>\n",
       "      <td>Bcell</td>\n",
       "    </tr>\n",
       "    <tr>\n",
       "      <th>CMP_0</th>\n",
       "      <td>CMP_0</td>\n",
       "      <td>CMP</td>\n",
       "      <td>CD4 Naive</td>\n",
       "      <td>CD4Tcell</td>\n",
       "    </tr>\n",
       "    <tr>\n",
       "      <th>CMP_1</th>\n",
       "      <td>CMP_1</td>\n",
       "      <td>CMP</td>\n",
       "      <td>CD14 Mono</td>\n",
       "      <td>Mono</td>\n",
       "    </tr>\n",
       "    <tr>\n",
       "      <th>CMP_2</th>\n",
       "      <td>CMP_2</td>\n",
       "      <td>CMP</td>\n",
       "      <td>CD14 Mono</td>\n",
       "      <td>Mono</td>\n",
       "    </tr>\n",
       "  </tbody>\n",
       "</table>\n",
       "</div>"
      ],
      "text/plain": [
       "      cell_IDs ground_truth labelTransfer_predicted  \\\n",
       "CLP_0    CLP_0          CLP                     gdT   \n",
       "CLP_1    CLP_1          CLP                Memory B   \n",
       "CMP_0    CMP_0          CMP               CD4 Naive   \n",
       "CMP_1    CMP_1          CMP               CD14 Mono   \n",
       "CMP_2    CMP_2          CMP               CD14 Mono   \n",
       "\n",
       "      labelTransfer_predicted_simplified  \n",
       "CLP_0                                gdT  \n",
       "CLP_1                              Bcell  \n",
       "CMP_0                           CD4Tcell  \n",
       "CMP_1                               Mono  \n",
       "CMP_2                               Mono  "
      ]
     },
     "execution_count": 10,
     "metadata": {},
     "output_type": "execute_result"
    }
   ],
   "source": [
    "labelTransfer_annotations.columns=[\"cell_IDs\",\"ground_truth\", \"labelTransfer_predicted\", \"labelTransfer_predicted_simplified\"]\n",
    "labelTransfer_annotations.head()"
   ]
  },
  {
   "cell_type": "code",
   "execution_count": 11,
   "id": "a6b48a40-eb95-400d-9f06-39e11ee7ea6d",
   "metadata": {},
   "outputs": [
    {
     "data": {
      "text/plain": [
       "ground_truth\n",
       "CMP     661\n",
       "HSC     448\n",
       "GMP     274\n",
       "MEP     208\n",
       "MPP     184\n",
       "CLP     146\n",
       "LMPP     96\n",
       "Name: count, dtype: int64"
      ]
     },
     "execution_count": 11,
     "metadata": {},
     "output_type": "execute_result"
    }
   ],
   "source": [
    "labelTransfer_annotations.ground_truth.value_counts()"
   ]
  },
  {
   "cell_type": "code",
   "execution_count": 12,
   "id": "f039a162-d533-483c-a40c-f3e22c53cf02",
   "metadata": {},
   "outputs": [
    {
     "data": {
      "text/html": [
       "<div>\n",
       "<style scoped>\n",
       "    .dataframe tbody tr th:only-of-type {\n",
       "        vertical-align: middle;\n",
       "    }\n",
       "\n",
       "    .dataframe tbody tr th {\n",
       "        vertical-align: top;\n",
       "    }\n",
       "\n",
       "    .dataframe thead th {\n",
       "        text-align: right;\n",
       "    }\n",
       "</style>\n",
       "<table border=\"1\" class=\"dataframe\">\n",
       "  <thead>\n",
       "    <tr style=\"text-align: right;\">\n",
       "      <th></th>\n",
       "      <th>cell_IDs</th>\n",
       "      <th>leiden_0.6</th>\n",
       "      <th>scATAcat_annotation</th>\n",
       "      <th>ground_truth_annotations</th>\n",
       "    </tr>\n",
       "  </thead>\n",
       "  <tbody>\n",
       "    <tr>\n",
       "      <th>CLP_1</th>\n",
       "      <td>CLP_1</td>\n",
       "      <td>6</td>\n",
       "      <td>CLP</td>\n",
       "      <td>CLP</td>\n",
       "    </tr>\n",
       "    <tr>\n",
       "      <th>CMP_0</th>\n",
       "      <td>CMP_0</td>\n",
       "      <td>5</td>\n",
       "      <td>CMP</td>\n",
       "      <td>CMP</td>\n",
       "    </tr>\n",
       "    <tr>\n",
       "      <th>CMP_1</th>\n",
       "      <td>CMP_1</td>\n",
       "      <td>5</td>\n",
       "      <td>CMP</td>\n",
       "      <td>CMP</td>\n",
       "    </tr>\n",
       "    <tr>\n",
       "      <th>CMP_2</th>\n",
       "      <td>CMP_2</td>\n",
       "      <td>0</td>\n",
       "      <td>CMP</td>\n",
       "      <td>CMP</td>\n",
       "    </tr>\n",
       "    <tr>\n",
       "      <th>CMP_3</th>\n",
       "      <td>CMP_3</td>\n",
       "      <td>3</td>\n",
       "      <td>MEP</td>\n",
       "      <td>CMP</td>\n",
       "    </tr>\n",
       "  </tbody>\n",
       "</table>\n",
       "</div>"
      ],
      "text/plain": [
       "      cell_IDs  leiden_0.6 scATAcat_annotation ground_truth_annotations\n",
       "CLP_1    CLP_1           6                 CLP                      CLP\n",
       "CMP_0    CMP_0           5                 CMP                      CMP\n",
       "CMP_1    CMP_1           5                 CMP                      CMP\n",
       "CMP_2    CMP_2           0                 CMP                      CMP\n",
       "CMP_3    CMP_3           3                 MEP                      CMP"
      ]
     },
     "execution_count": 12,
     "metadata": {},
     "output_type": "execute_result"
    }
   ],
   "source": [
    "scATAcat_annotations = pd.read_csv(data_dir +\"/Fig1_SFig1-apply_scATAcat/apply_scATAcat_with_Corces2016_prototypes/outputs/scATAcat_annotations.csv\")\n",
    "scATAcat_annotations.columns = ['cell_IDs',leiden_key, 'scATAcat_annotation' ,'ground_truth_annotations']\n",
    "scATAcat_annotations.index = scATAcat_annotations.cell_IDs\n",
    "scATAcat_annotations.index.name = None\n",
    "scATAcat_annotations.head()"
   ]
  },
  {
   "cell_type": "code",
   "execution_count": 13,
   "id": "3062e007-7bac-4ed8-a43c-7f25e8e4675a",
   "metadata": {},
   "outputs": [
    {
     "data": {
      "text/plain": [
       "(1872, 4)"
      ]
     },
     "execution_count": 13,
     "metadata": {},
     "output_type": "execute_result"
    }
   ],
   "source": [
    "scATAcat_annotations.shape"
   ]
  },
  {
   "cell_type": "markdown",
   "id": "817a31de-abde-4982-99bb-95a77d5aad7b",
   "metadata": {},
   "source": [
    "## combine the annotations for the common cells:\n"
   ]
  },
  {
   "cell_type": "code",
   "execution_count": 14,
   "id": "c7a98eb6-964c-4016-8b70-fd924d150ea8",
   "metadata": {},
   "outputs": [],
   "source": [
    "common_cells = list(set(scATAcat_annotations.index)&set(labelTransfer_annotations.index))"
   ]
  },
  {
   "cell_type": "code",
   "execution_count": 15,
   "id": "77fc6e3b-7269-4d00-9af7-dc5dfc8c1119",
   "metadata": {},
   "outputs": [],
   "source": [
    "scATAcat_labelTransfer_groundTruth_commonCells= pd.merge(scATAcat_annotations.loc[common_cells,], labelTransfer_annotations.loc[common_cells,], on=\"cell_IDs\")\n"
   ]
  },
  {
   "cell_type": "code",
   "execution_count": 16,
   "id": "8d3f556c-2078-4082-8b2c-64abd88db773",
   "metadata": {},
   "outputs": [
    {
     "data": {
      "text/html": [
       "<div>\n",
       "<style scoped>\n",
       "    .dataframe tbody tr th:only-of-type {\n",
       "        vertical-align: middle;\n",
       "    }\n",
       "\n",
       "    .dataframe tbody tr th {\n",
       "        vertical-align: top;\n",
       "    }\n",
       "\n",
       "    .dataframe thead th {\n",
       "        text-align: right;\n",
       "    }\n",
       "</style>\n",
       "<table border=\"1\" class=\"dataframe\">\n",
       "  <thead>\n",
       "    <tr style=\"text-align: right;\">\n",
       "      <th></th>\n",
       "      <th>cell_IDs</th>\n",
       "      <th>leiden_0.6</th>\n",
       "      <th>scATAcat_annotation</th>\n",
       "      <th>ground_truth_annotations</th>\n",
       "      <th>ground_truth</th>\n",
       "      <th>labelTransfer_predicted</th>\n",
       "      <th>labelTransfer_predicted_simplified</th>\n",
       "    </tr>\n",
       "  </thead>\n",
       "  <tbody>\n",
       "    <tr>\n",
       "      <th>0</th>\n",
       "      <td>MPP_94</td>\n",
       "      <td>1</td>\n",
       "      <td>HSC</td>\n",
       "      <td>MPP</td>\n",
       "      <td>MPP</td>\n",
       "      <td>CD8 Naive</td>\n",
       "      <td>CD8Tcell</td>\n",
       "    </tr>\n",
       "    <tr>\n",
       "      <th>1</th>\n",
       "      <td>MPP_68</td>\n",
       "      <td>0</td>\n",
       "      <td>CMP</td>\n",
       "      <td>MPP</td>\n",
       "      <td>MPP</td>\n",
       "      <td>CD4 Memory</td>\n",
       "      <td>CD4Tcell</td>\n",
       "    </tr>\n",
       "    <tr>\n",
       "      <th>2</th>\n",
       "      <td>MPP_124</td>\n",
       "      <td>0</td>\n",
       "      <td>CMP</td>\n",
       "      <td>MPP</td>\n",
       "      <td>MPP</td>\n",
       "      <td>CD4 Naive</td>\n",
       "      <td>CD4Tcell</td>\n",
       "    </tr>\n",
       "    <tr>\n",
       "      <th>3</th>\n",
       "      <td>MPP_105</td>\n",
       "      <td>0</td>\n",
       "      <td>CMP</td>\n",
       "      <td>MPP</td>\n",
       "      <td>MPP</td>\n",
       "      <td>CD14 Mono</td>\n",
       "      <td>Mono</td>\n",
       "    </tr>\n",
       "    <tr>\n",
       "      <th>4</th>\n",
       "      <td>CMP_131</td>\n",
       "      <td>0</td>\n",
       "      <td>CMP</td>\n",
       "      <td>CMP</td>\n",
       "      <td>CMP</td>\n",
       "      <td>Memory B</td>\n",
       "      <td>Bcell</td>\n",
       "    </tr>\n",
       "    <tr>\n",
       "      <th>...</th>\n",
       "      <td>...</td>\n",
       "      <td>...</td>\n",
       "      <td>...</td>\n",
       "      <td>...</td>\n",
       "      <td>...</td>\n",
       "      <td>...</td>\n",
       "      <td>...</td>\n",
       "    </tr>\n",
       "    <tr>\n",
       "      <th>1867</th>\n",
       "      <td>CLP_12</td>\n",
       "      <td>6</td>\n",
       "      <td>CLP</td>\n",
       "      <td>CLP</td>\n",
       "      <td>CLP</td>\n",
       "      <td>Prog_B 2</td>\n",
       "      <td>CLP</td>\n",
       "    </tr>\n",
       "    <tr>\n",
       "      <th>1868</th>\n",
       "      <td>HSC_470</td>\n",
       "      <td>4</td>\n",
       "      <td>HSC</td>\n",
       "      <td>HSC</td>\n",
       "      <td>HSC</td>\n",
       "      <td>CD14 Mono</td>\n",
       "      <td>Mono</td>\n",
       "    </tr>\n",
       "    <tr>\n",
       "      <th>1869</th>\n",
       "      <td>MEP_183</td>\n",
       "      <td>3</td>\n",
       "      <td>MEP</td>\n",
       "      <td>MEP</td>\n",
       "      <td>MEP</td>\n",
       "      <td>Prog_RBC</td>\n",
       "      <td>MEP</td>\n",
       "    </tr>\n",
       "    <tr>\n",
       "      <th>1870</th>\n",
       "      <td>MEP_27</td>\n",
       "      <td>3</td>\n",
       "      <td>MEP</td>\n",
       "      <td>MEP</td>\n",
       "      <td>MEP</td>\n",
       "      <td>CD8 Naive</td>\n",
       "      <td>CD8Tcell</td>\n",
       "    </tr>\n",
       "    <tr>\n",
       "      <th>1871</th>\n",
       "      <td>LMPP_52</td>\n",
       "      <td>2</td>\n",
       "      <td>GMP</td>\n",
       "      <td>LMPP</td>\n",
       "      <td>LMPP</td>\n",
       "      <td>LMPP</td>\n",
       "      <td>LMPP</td>\n",
       "    </tr>\n",
       "  </tbody>\n",
       "</table>\n",
       "<p>1872 rows × 7 columns</p>\n",
       "</div>"
      ],
      "text/plain": [
       "     cell_IDs  leiden_0.6 scATAcat_annotation ground_truth_annotations  \\\n",
       "0      MPP_94           1                 HSC                      MPP   \n",
       "1      MPP_68           0                 CMP                      MPP   \n",
       "2     MPP_124           0                 CMP                      MPP   \n",
       "3     MPP_105           0                 CMP                      MPP   \n",
       "4     CMP_131           0                 CMP                      CMP   \n",
       "...       ...         ...                 ...                      ...   \n",
       "1867   CLP_12           6                 CLP                      CLP   \n",
       "1868  HSC_470           4                 HSC                      HSC   \n",
       "1869  MEP_183           3                 MEP                      MEP   \n",
       "1870   MEP_27           3                 MEP                      MEP   \n",
       "1871  LMPP_52           2                 GMP                     LMPP   \n",
       "\n",
       "     ground_truth labelTransfer_predicted labelTransfer_predicted_simplified  \n",
       "0             MPP               CD8 Naive                           CD8Tcell  \n",
       "1             MPP              CD4 Memory                           CD4Tcell  \n",
       "2             MPP               CD4 Naive                           CD4Tcell  \n",
       "3             MPP               CD14 Mono                               Mono  \n",
       "4             CMP                Memory B                              Bcell  \n",
       "...           ...                     ...                                ...  \n",
       "1867          CLP                Prog_B 2                                CLP  \n",
       "1868          HSC               CD14 Mono                               Mono  \n",
       "1869          MEP                Prog_RBC                                MEP  \n",
       "1870          MEP               CD8 Naive                           CD8Tcell  \n",
       "1871         LMPP                    LMPP                               LMPP  \n",
       "\n",
       "[1872 rows x 7 columns]"
      ]
     },
     "execution_count": 16,
     "metadata": {},
     "output_type": "execute_result"
    }
   ],
   "source": [
    "scATAcat_labelTransfer_groundTruth_commonCells"
   ]
  },
  {
   "cell_type": "markdown",
   "id": "b563f74e-e8f0-44a9-825a-0fe7d576f8cc",
   "metadata": {},
   "source": [
    "## subset the ground truth to common annotations\n"
   ]
  },
  {
   "cell_type": "code",
   "execution_count": 17,
   "id": "b205ddfc-a69c-49f8-bd7a-a8354456ec7a",
   "metadata": {},
   "outputs": [
    {
     "data": {
      "text/plain": [
       "['HSC', 'GMP', 'CLP', 'LMPP', 'MEP']"
      ]
     },
     "execution_count": 17,
     "metadata": {},
     "output_type": "execute_result"
    }
   ],
   "source": [
    "common_annotations = list(set(scATAcat_labelTransfer_groundTruth_commonCells.scATAcat_annotation)&set(scATAcat_labelTransfer_groundTruth_commonCells.labelTransfer_predicted_simplified)&set(scATAcat_labelTransfer_groundTruth_commonCells.ground_truth_annotations))\n",
    "common_annotations"
   ]
  },
  {
   "cell_type": "code",
   "execution_count": 18,
   "id": "b39d79c8-f0ac-4dd5-ad80-eb89be24dd2c",
   "metadata": {},
   "outputs": [],
   "source": [
    "scATAcat_labelTransfer_groundTruth_commonCells_commonAnnotations = scATAcat_labelTransfer_groundTruth_commonCells[scATAcat_labelTransfer_groundTruth_commonCells.ground_truth_annotations.isin(common_annotations)]"
   ]
  },
  {
   "cell_type": "code",
   "execution_count": 19,
   "id": "c476c0cd-4a77-4d0d-84ca-3e828af69c15",
   "metadata": {},
   "outputs": [
    {
     "data": {
      "text/html": [
       "<div>\n",
       "<style scoped>\n",
       "    .dataframe tbody tr th:only-of-type {\n",
       "        vertical-align: middle;\n",
       "    }\n",
       "\n",
       "    .dataframe tbody tr th {\n",
       "        vertical-align: top;\n",
       "    }\n",
       "\n",
       "    .dataframe thead th {\n",
       "        text-align: right;\n",
       "    }\n",
       "</style>\n",
       "<table border=\"1\" class=\"dataframe\">\n",
       "  <thead>\n",
       "    <tr style=\"text-align: right;\">\n",
       "      <th></th>\n",
       "      <th>cell_IDs</th>\n",
       "      <th>leiden_0.6</th>\n",
       "      <th>scATAcat_annotation</th>\n",
       "      <th>ground_truth_annotations</th>\n",
       "      <th>ground_truth</th>\n",
       "      <th>labelTransfer_predicted</th>\n",
       "      <th>labelTransfer_predicted_simplified</th>\n",
       "    </tr>\n",
       "  </thead>\n",
       "  <tbody>\n",
       "    <tr>\n",
       "      <th>6</th>\n",
       "      <td>LMPP_33</td>\n",
       "      <td>7</td>\n",
       "      <td>LMPP</td>\n",
       "      <td>LMPP</td>\n",
       "      <td>LMPP</td>\n",
       "      <td>CD4 Memory</td>\n",
       "      <td>CD4Tcell</td>\n",
       "    </tr>\n",
       "    <tr>\n",
       "      <th>7</th>\n",
       "      <td>GMP_202</td>\n",
       "      <td>2</td>\n",
       "      <td>GMP</td>\n",
       "      <td>GMP</td>\n",
       "      <td>GMP</td>\n",
       "      <td>NK</td>\n",
       "      <td>NKcell</td>\n",
       "    </tr>\n",
       "    <tr>\n",
       "      <th>8</th>\n",
       "      <td>CLP_190</td>\n",
       "      <td>6</td>\n",
       "      <td>CLP</td>\n",
       "      <td>CLP</td>\n",
       "      <td>CLP</td>\n",
       "      <td>Prog_B 2</td>\n",
       "      <td>CLP</td>\n",
       "    </tr>\n",
       "    <tr>\n",
       "      <th>10</th>\n",
       "      <td>CLP_140</td>\n",
       "      <td>6</td>\n",
       "      <td>CLP</td>\n",
       "      <td>CLP</td>\n",
       "      <td>CLP</td>\n",
       "      <td>Naive B</td>\n",
       "      <td>Bcell</td>\n",
       "    </tr>\n",
       "    <tr>\n",
       "      <th>11</th>\n",
       "      <td>GMP_270</td>\n",
       "      <td>2</td>\n",
       "      <td>GMP</td>\n",
       "      <td>GMP</td>\n",
       "      <td>GMP</td>\n",
       "      <td>NK</td>\n",
       "      <td>NKcell</td>\n",
       "    </tr>\n",
       "    <tr>\n",
       "      <th>...</th>\n",
       "      <td>...</td>\n",
       "      <td>...</td>\n",
       "      <td>...</td>\n",
       "      <td>...</td>\n",
       "      <td>...</td>\n",
       "      <td>...</td>\n",
       "      <td>...</td>\n",
       "    </tr>\n",
       "    <tr>\n",
       "      <th>1867</th>\n",
       "      <td>CLP_12</td>\n",
       "      <td>6</td>\n",
       "      <td>CLP</td>\n",
       "      <td>CLP</td>\n",
       "      <td>CLP</td>\n",
       "      <td>Prog_B 2</td>\n",
       "      <td>CLP</td>\n",
       "    </tr>\n",
       "    <tr>\n",
       "      <th>1868</th>\n",
       "      <td>HSC_470</td>\n",
       "      <td>4</td>\n",
       "      <td>HSC</td>\n",
       "      <td>HSC</td>\n",
       "      <td>HSC</td>\n",
       "      <td>CD14 Mono</td>\n",
       "      <td>Mono</td>\n",
       "    </tr>\n",
       "    <tr>\n",
       "      <th>1869</th>\n",
       "      <td>MEP_183</td>\n",
       "      <td>3</td>\n",
       "      <td>MEP</td>\n",
       "      <td>MEP</td>\n",
       "      <td>MEP</td>\n",
       "      <td>Prog_RBC</td>\n",
       "      <td>MEP</td>\n",
       "    </tr>\n",
       "    <tr>\n",
       "      <th>1870</th>\n",
       "      <td>MEP_27</td>\n",
       "      <td>3</td>\n",
       "      <td>MEP</td>\n",
       "      <td>MEP</td>\n",
       "      <td>MEP</td>\n",
       "      <td>CD8 Naive</td>\n",
       "      <td>CD8Tcell</td>\n",
       "    </tr>\n",
       "    <tr>\n",
       "      <th>1871</th>\n",
       "      <td>LMPP_52</td>\n",
       "      <td>2</td>\n",
       "      <td>GMP</td>\n",
       "      <td>LMPP</td>\n",
       "      <td>LMPP</td>\n",
       "      <td>LMPP</td>\n",
       "      <td>LMPP</td>\n",
       "    </tr>\n",
       "  </tbody>\n",
       "</table>\n",
       "<p>1053 rows × 7 columns</p>\n",
       "</div>"
      ],
      "text/plain": [
       "     cell_IDs  leiden_0.6 scATAcat_annotation ground_truth_annotations  \\\n",
       "6     LMPP_33           7                LMPP                     LMPP   \n",
       "7     GMP_202           2                 GMP                      GMP   \n",
       "8     CLP_190           6                 CLP                      CLP   \n",
       "10    CLP_140           6                 CLP                      CLP   \n",
       "11    GMP_270           2                 GMP                      GMP   \n",
       "...       ...         ...                 ...                      ...   \n",
       "1867   CLP_12           6                 CLP                      CLP   \n",
       "1868  HSC_470           4                 HSC                      HSC   \n",
       "1869  MEP_183           3                 MEP                      MEP   \n",
       "1870   MEP_27           3                 MEP                      MEP   \n",
       "1871  LMPP_52           2                 GMP                     LMPP   \n",
       "\n",
       "     ground_truth labelTransfer_predicted labelTransfer_predicted_simplified  \n",
       "6            LMPP              CD4 Memory                           CD4Tcell  \n",
       "7             GMP                      NK                             NKcell  \n",
       "8             CLP                Prog_B 2                                CLP  \n",
       "10            CLP                 Naive B                              Bcell  \n",
       "11            GMP                      NK                             NKcell  \n",
       "...           ...                     ...                                ...  \n",
       "1867          CLP                Prog_B 2                                CLP  \n",
       "1868          HSC               CD14 Mono                               Mono  \n",
       "1869          MEP                Prog_RBC                                MEP  \n",
       "1870          MEP               CD8 Naive                           CD8Tcell  \n",
       "1871         LMPP                    LMPP                               LMPP  \n",
       "\n",
       "[1053 rows x 7 columns]"
      ]
     },
     "execution_count": 19,
     "metadata": {},
     "output_type": "execute_result"
    }
   ],
   "source": [
    "scATAcat_labelTransfer_groundTruth_commonCells_commonAnnotations"
   ]
  },
  {
   "cell_type": "markdown",
   "id": "de57502a-c94c-4205-97fd-41d742bcbd0c",
   "metadata": {},
   "source": [
    "## accuracy metrics for scATAcat:"
   ]
  },
  {
   "cell_type": "code",
   "execution_count": 20,
   "id": "1c46779a-07d0-4d06-b4fd-504094a4078d",
   "metadata": {},
   "outputs": [
    {
     "name": "stdout",
     "output_type": "stream",
     "text": [
      "accuracy:\n"
     ]
    },
    {
     "data": {
      "text/plain": [
       "0.9164292497625831"
      ]
     },
     "execution_count": 20,
     "metadata": {},
     "output_type": "execute_result"
    }
   ],
   "source": [
    "get_accuracy(scATAcat_labelTransfer_groundTruth_commonCells_commonAnnotations, correct_id_col='ground_truth_annotations', predicted_id_col='scATAcat_annotation')"
   ]
  },
  {
   "cell_type": "code",
   "execution_count": 21,
   "id": "109b67f7-460d-45f2-a640-dc60fd4ee2f4",
   "metadata": {},
   "outputs": [
    {
     "name": "stdout",
     "output_type": "stream",
     "text": [
      "CLP\n",
      "predicted cell ID\n",
      "0.9722222222222222\n",
      "GMP\n",
      "predicted cell ID\n",
      "0.8458498023715415\n",
      "HSC\n",
      "predicted cell ID\n",
      "0.9362745098039216\n",
      "LMPP\n",
      "predicted cell ID\n",
      "0.851063829787234\n",
      "MEP\n",
      "predicted cell ID\n",
      "0.968421052631579\n",
      "balanced accuracy:\n",
      "0.9147662833632996\n"
     ]
    },
    {
     "data": {
      "text/plain": [
       "0.9147662833632996"
      ]
     },
     "execution_count": 21,
     "metadata": {},
     "output_type": "execute_result"
    }
   ],
   "source": [
    "get_balanced_accuracy(scATAcat_labelTransfer_groundTruth_commonCells_commonAnnotations, correct_id_col='ground_truth_annotations', predicted_id_col='scATAcat_annotation')"
   ]
  },
  {
   "cell_type": "code",
   "execution_count": 22,
   "id": "a741483d-338c-4b5f-a16f-9c1bfee77757",
   "metadata": {},
   "outputs": [
    {
     "name": "stdout",
     "output_type": "stream",
     "text": [
      "cluster accuracy:\n"
     ]
    },
    {
     "data": {
      "text/plain": [
       "0.8571428571428571"
      ]
     },
     "execution_count": 22,
     "metadata": {},
     "output_type": "execute_result"
    }
   ],
   "source": [
    "get_cluster_accuracy(scATAcat_labelTransfer_groundTruth_commonCells_commonAnnotations,cluster_id_column =leiden_key, correct_id_col='ground_truth_annotations', predicted_id_col='scATAcat_annotation')"
   ]
  },
  {
   "cell_type": "markdown",
   "id": "4d3f627b-96f7-4964-98d7-eedc17ae87c6",
   "metadata": {},
   "source": [
    "## accuracy metrics for label transfer:"
   ]
  },
  {
   "cell_type": "code",
   "execution_count": 23,
   "id": "3199ec6a-ee77-4523-b446-173216c03767",
   "metadata": {},
   "outputs": [
    {
     "name": "stdout",
     "output_type": "stream",
     "text": [
      "accuracy:\n"
     ]
    },
    {
     "data": {
      "text/plain": [
       "0.16334283000949668"
      ]
     },
     "execution_count": 23,
     "metadata": {},
     "output_type": "execute_result"
    }
   ],
   "source": [
    "get_accuracy(scATAcat_labelTransfer_groundTruth_commonCells_commonAnnotations, correct_id_col='ground_truth_annotations', predicted_id_col='labelTransfer_predicted_simplified')"
   ]
  },
  {
   "cell_type": "code",
   "execution_count": 24,
   "id": "34e87626-4fb8-4b7a-94a3-38b24bcc7686",
   "metadata": {},
   "outputs": [
    {
     "name": "stdout",
     "output_type": "stream",
     "text": [
      "CLP\n",
      "predicted cell ID\n",
      "0.17592592592592593\n",
      "GMP\n",
      "predicted cell ID\n",
      "0.05928853754940711\n",
      "HSC\n",
      "predicted cell ID\n",
      "0.004901960784313725\n",
      "LMPP\n",
      "predicted cell ID\n",
      "0.06382978723404255\n",
      "MEP\n",
      "predicted cell ID\n",
      "0.6842105263157895\n",
      "balanced accuracy:\n",
      "0.19763134756189576\n"
     ]
    },
    {
     "data": {
      "text/plain": [
       "0.19763134756189576"
      ]
     },
     "execution_count": 24,
     "metadata": {},
     "output_type": "execute_result"
    }
   ],
   "source": [
    "get_balanced_accuracy(scATAcat_labelTransfer_groundTruth_commonCells_commonAnnotations, correct_id_col='ground_truth_annotations', predicted_id_col='labelTransfer_predicted_simplified')"
   ]
  },
  {
   "cell_type": "code",
   "execution_count": 25,
   "id": "00182bb1-3f79-4010-a854-10eb283dc1f0",
   "metadata": {},
   "outputs": [
    {
     "name": "stdout",
     "output_type": "stream",
     "text": [
      "cluster accuracy:\n"
     ]
    },
    {
     "data": {
      "text/plain": [
       "0.14285714285714285"
      ]
     },
     "execution_count": 25,
     "metadata": {},
     "output_type": "execute_result"
    }
   ],
   "source": [
    "get_cluster_accuracy(scATAcat_labelTransfer_groundTruth_commonCells_commonAnnotations,cluster_id_column =leiden_key, correct_id_col='ground_truth_annotations', predicted_id_col='labelTransfer_predicted_simplified')"
   ]
  },
  {
   "cell_type": "code",
   "execution_count": null,
   "id": "788396a6-b5d8-4027-87a8-2689d903e973",
   "metadata": {},
   "outputs": [],
   "source": []
  }
 ],
 "metadata": {
  "kernelspec": {
   "display_name": "python_3.10.10_env",
   "language": "python",
   "name": "python_3.10.10_env"
  },
  "language_info": {
   "codemirror_mode": {
    "name": "ipython",
    "version": 3
   },
   "file_extension": ".py",
   "mimetype": "text/x-python",
   "name": "python",
   "nbconvert_exporter": "python",
   "pygments_lexer": "ipython3",
   "version": "3.10.10"
  }
 },
 "nbformat": 4,
 "nbformat_minor": 5
}
