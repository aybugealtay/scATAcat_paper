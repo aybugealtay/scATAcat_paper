{
 "cells": [
  {
   "cell_type": "code",
   "execution_count": 1,
   "id": "f206106b-080f-44f2-a335-57ab43eb2dab",
   "metadata": {},
   "outputs": [],
   "source": [
    "import pandas as pd\n",
    "import numpy as np\n",
    "import statistics\n",
    "import sklearn.metrics\n",
    "import warnings\n",
    "import matplotlib\n",
    "import matplotlib.pyplot as plt\n",
    "from matplotlib.colors import LinearSegmentedColormap\n",
    "warnings.filterwarnings(\"ignore\")"
   ]
  },
  {
   "cell_type": "code",
   "execution_count": 2,
   "id": "8eb1e4be-e029-49cd-9e74-7537dd02b102",
   "metadata": {},
   "outputs": [],
   "source": [
    "def get_accuracy(annotation_df, correct_id_col='real_cellID', predicted_id_col='predicted_cellID'):\n",
    "    num_correct_ann= annotation_df[annotation_df[correct_id_col]==annotation_df[predicted_id_col]].shape[0]\n",
    "    acc=num_correct_ann/annotation_df.shape[0]\n",
    "    return acc"
   ]
  },
  {
   "cell_type": "code",
   "execution_count": 3,
   "id": "302509f9-5e7b-43c1-b896-71c0d1c78a62",
   "metadata": {},
   "outputs": [],
   "source": [
    "def get_balanced_accuracy_verbose(annotation_df, correct_id_col='real_cellID', predicted_id_col='predicted_cellID'):\n",
    "    ann=[]\n",
    "    for cell_type in sorted(set(annotation_df[correct_id_col])):\n",
    "        cell_type_sub = annotation_df[annotation_df[correct_id_col]==cell_type]\n",
    "        print(cell_type)\n",
    "        num_cells =cell_type_sub.shape[0]\n",
    "        print(\"predicted cell ID\")\n",
    "        num_correct_ann = cell_type_sub[cell_type_sub[predicted_id_col]==cell_type].shape[0]\n",
    "        #print(cell_type_sub.predicted_cellID.value_counts())\n",
    "        perc=(num_correct_ann/num_cells)\n",
    "        print(perc)\n",
    "        ann.append(perc)\n",
    "    balanced_accuracy= np.sum(ann)/len(ann)\n",
    "    print(\"balanced accuracy:\")\n",
    "    print(balanced_accuracy)\n",
    "    return balanced_accuracy"
   ]
  },
  {
   "cell_type": "code",
   "execution_count": 4,
   "id": "b3c39aec-94cd-4148-908a-dbe94a0e7fe2",
   "metadata": {},
   "outputs": [],
   "source": [
    "def get_balanced_accuracy(annotation_df, correct_id_col='real_cellID', predicted_id_col='predicted_cellID'):\n",
    "    ann=[]\n",
    "    for cell_type in sorted(set(annotation_df[correct_id_col])):\n",
    "        cell_type_sub = annotation_df[annotation_df[correct_id_col]==cell_type]\n",
    "        num_cells =cell_type_sub.shape[0]\n",
    "        num_correct_ann = cell_type_sub[cell_type_sub[predicted_id_col]==cell_type].shape[0]\n",
    "        #print(cell_type_sub.predicted_cellID.value_counts())\n",
    "        perc=(num_correct_ann/num_cells)\n",
    "        ann.append(perc)\n",
    "    balanced_accuracy= np.sum(ann)/len(ann)\n",
    "    return balanced_accuracy"
   ]
  },
  {
   "cell_type": "code",
   "execution_count": 5,
   "id": "070c2dc2-8343-4ca3-bf30-89e4b6da9e65",
   "metadata": {},
   "outputs": [],
   "source": [
    "def get_cluster_accuracy(annotation_df, cluster_id_column ='clust',correct_id_col='real_cellID', predicted_id_col='predicted_cellID'):\n",
    "    correc_ann_counter=0\n",
    "    annotation_df = annotation_df.groupby(cluster_id_column).filter(lambda x: len(x) > 10)\n",
    "    cluster_ids =sorted(set(annotation_df[cluster_id_column]))\n",
    "    for cluster_id in cluster_ids:\n",
    "        cluster_sub = annotation_df[annotation_df[cluster_id_column]==cluster_id]   \n",
    "        clust_real_id_counts = cluster_sub[correct_id_col].value_counts()\n",
    "        # sort fist by number then by index, then get the cell type with the highest occurance. This takes care of ties\n",
    "        clust_real_id = clust_real_id_counts.iloc[np.lexsort((clust_real_id_counts.index, -clust_real_id_counts.values))].index[0]\n",
    "        clust_predicted_id_counts = cluster_sub[predicted_id_col].value_counts()\n",
    "        # sort fist by number then by index, then get the cell type with the highest occurance. This takes care of ties\n",
    "        clust_predicted_id = clust_predicted_id_counts.iloc[np.lexsort((clust_predicted_id_counts.index, -clust_predicted_id_counts.values))].index[0]\n",
    "        if clust_real_id == clust_predicted_id:\n",
    "            correc_ann_counter += 1\n",
    "        else:\n",
    "            continue\n",
    "    clust_accuracy= correc_ann_counter/len(cluster_ids)\n",
    "    return clust_accuracy"
   ]
  },
  {
   "cell_type": "code",
   "execution_count": 6,
   "id": "bbe2cebd-25e6-4229-98f1-fbb567481b50",
   "metadata": {},
   "outputs": [],
   "source": [
    "def get_cohens_kappa_score(annotation_df, correct_id_col='real_cellID', predicted_id_col='predicted_cellID'):\n",
    "    cohens_kappa_score= sklearn.metrics.cohen_kappa_score(annotation_df[correct_id_col],annotation_df[predicted_id_col])\n",
    "    return(cohens_kappa_score)"
   ]
  },
  {
   "cell_type": "code",
   "execution_count": 7,
   "id": "3a39c70f-46b2-4a4f-95fe-777c166244dd",
   "metadata": {},
   "outputs": [],
   "source": [
    "def get_F1_score(annotation_df, correct_id_col='real_cellID', predicted_id_col='predicted_cellID'):\n",
    "    F1_list=[]\n",
    "    for cell_type in sorted(set(annotation_df[correct_id_col])):\n",
    "        # subset dataframe to the cell-type of interest \n",
    "        # then convert df labels to binary classification tasks\n",
    "        cell_type_sub = annotation_df[(annotation_df[correct_id_col]==cell_type) | (annotation_df[predicted_id_col]==cell_type)]\n",
    "        #cell_type_sub = cell_type_sub[[correct_id_col, predicted_id_col]]\n",
    "        cell_type_sub[correct_id_col] = cell_type_sub[correct_id_col].where(cell_type_sub[correct_id_col].isin([cell_type]), 'other')\n",
    "        cell_type_sub[predicted_id_col] = cell_type_sub[predicted_id_col].where(cell_type_sub[predicted_id_col].isin([cell_type]), 'other')\n",
    "        F1_cell_type = sklearn.metrics.f1_score(cell_type_sub[correct_id_col], cell_type_sub[predicted_id_col], pos_label = cell_type)\n",
    "        F1_list.append(F1_cell_type)\n",
    "    return(F1_list)"
   ]
  },
  {
   "cell_type": "code",
   "execution_count": 8,
   "id": "01efb650-ab57-4c68-bd42-4b4d20574d21",
   "metadata": {},
   "outputs": [],
   "source": [
    "def get_macroF1_score(annotation_df, correct_id_col='real_cellID', predicted_id_col='predicted_cellID', label_list=None):\n",
    "    if label_list ==None:\n",
    "        label_list  = annotation_df[correct_id_col].value_counts().index   \n",
    "    macroF1_score = sklearn.metrics.f1_score(annotation_df[correct_id_col], annotation_df[predicted_id_col],average='macro', labels=label_list)\n",
    "    return(macroF1_score)\n"
   ]
  },
  {
   "cell_type": "code",
   "execution_count": 9,
   "id": "5bc5cca4-0b02-47ad-a3c7-6966e5cec224",
   "metadata": {},
   "outputs": [],
   "source": [
    "def get_medianF1_score(annotation_df, correct_id_col='real_cellID', predicted_id_col='predicted_cellID'):\n",
    "    F1_scores = get_F1_score(annotation_df, correct_id_col=correct_id_col, predicted_id_col=predicted_id_col)\n",
    "    medianF1_score = statistics.median(F1_scores)\n",
    "    return(medianF1_score)"
   ]
  },
  {
   "cell_type": "code",
   "execution_count": 10,
   "id": "e16eb27e-2658-456d-88bd-6eebc289f3ab",
   "metadata": {},
   "outputs": [],
   "source": [
    "def get_precision_score(annotation_df, correct_id_col='real_cellID', predicted_id_col='predicted_cellID'):\n",
    "    precision_list=[]\n",
    "    for cell_type in sorted(set(annotation_df[correct_id_col])):\n",
    "        # subset dataframe to the cell-type of interest\n",
    "        cell_type_sub = annotation_df[(annotation_df[correct_id_col]==cell_type) | (annotation_df[predicted_id_col]==cell_type)]\n",
    "        cell_type_sub[correct_id_col] = cell_type_sub[correct_id_col].where(cell_type_sub[correct_id_col].isin([cell_type]), 'other')\n",
    "        cell_type_sub[predicted_id_col] = cell_type_sub[predicted_id_col].where(cell_type_sub[predicted_id_col].isin([cell_type]), 'other')\n",
    "        precision_cell_type = sklearn.metrics.precision_score(cell_type_sub[correct_id_col], cell_type_sub[predicted_id_col], pos_label = cell_type)\n",
    "        precision_list.append(precision_cell_type)\n",
    "    return(precision_list)"
   ]
  },
  {
   "cell_type": "code",
   "execution_count": 11,
   "id": "110d53f3-23d1-42e4-9ff4-155cd106be11",
   "metadata": {},
   "outputs": [],
   "source": [
    "def get_medianPrecision_score(annotation_df, correct_id_col='real_cellID', predicted_id_col='predicted_cellID'):\n",
    "    precision_scores = get_precision_score(annotation_df, correct_id_col=correct_id_col, predicted_id_col=predicted_id_col)\n",
    "    medianPrecision_score = statistics.median(precision_scores)\n",
    "    return(medianPrecision_score)"
   ]
  },
  {
   "cell_type": "code",
   "execution_count": 12,
   "id": "74fdac95-4ef3-4ccf-9700-342c4b4dc9ca",
   "metadata": {},
   "outputs": [],
   "source": [
    "def get_recall_score(annotation_df, correct_id_col='real_cellID', predicted_id_col='predicted_cellID'):\n",
    "    recall_list=[]\n",
    "    for cell_type in sorted(set(annotation_df[correct_id_col])):\n",
    "        # subset dataframe to the cell-type of interest\n",
    "        cell_type_sub = annotation_df[(annotation_df[correct_id_col]==cell_type) | (annotation_df[predicted_id_col]==cell_type)]\n",
    "        cell_type_sub[correct_id_col] = cell_type_sub[correct_id_col].where(cell_type_sub[correct_id_col].isin([cell_type]), 'other')\n",
    "        cell_type_sub[predicted_id_col] = cell_type_sub[predicted_id_col].where(cell_type_sub[predicted_id_col].isin([cell_type]), 'other')\n",
    "        recall_cell_type = sklearn.metrics.recall_score(cell_type_sub[correct_id_col], cell_type_sub[predicted_id_col], pos_label = cell_type)\n",
    "        recall_list.append(recall_cell_type)\n",
    "    return(recall_list)"
   ]
  },
  {
   "cell_type": "code",
   "execution_count": 13,
   "id": "a7b25836-d1e7-4703-ba76-5ebd7648ad92",
   "metadata": {},
   "outputs": [],
   "source": [
    "def get_medianRecall_score(annotation_df, correct_id_col='real_cellID', predicted_id_col='predicted_cellID'):\n",
    "    recall_scores = get_recall_score(annotation_df, correct_id_col=correct_id_col, predicted_id_col=predicted_id_col)\n",
    "    medianPrecision_score = statistics.median(recall_scores)\n",
    "    return(medianPrecision_score)"
   ]
  },
  {
   "cell_type": "code",
   "execution_count": 14,
   "id": "053a0c25-5a97-48e1-923e-ab93fd3907c9",
   "metadata": {},
   "outputs": [],
   "source": [
    "def get_adjusted_rand_score(annotation_df, correct_id_col='real_cellID', predicted_id_col='predicted_cellID'):\n",
    "    adjusted_rand_score= sklearn.metrics.adjusted_rand_score(annotation_df[correct_id_col],annotation_df[predicted_id_col])\n",
    "    return(adjusted_rand_score)"
   ]
  },
  {
   "cell_type": "code",
   "execution_count": 15,
   "id": "56edfc68-738a-4639-920f-fe857a41bba6",
   "metadata": {},
   "outputs": [],
   "source": [
    "def get_mathews_corr_coef_score(annotation_df, correct_id_col='real_cellID', predicted_id_col='predicted_cellID'):\n",
    "    matthews_corrcoef_score= sklearn.metrics.matthews_corrcoef(annotation_df[correct_id_col],annotation_df[predicted_id_col])\n",
    "    return(matthews_corrcoef_score)"
   ]
  },
  {
   "cell_type": "code",
   "execution_count": 16,
   "id": "a15e48b0-eb1d-48cc-89d7-be4ffd7228f8",
   "metadata": {},
   "outputs": [],
   "source": [
    "def get_common_cells(*dataframes):\n",
    "    df_cell_list = [v.index for v in dataframes]\n",
    "    common_cells= list(set.intersection(*map(set,df_cell_list)))\n",
    "    return(common_cells)"
   ]
  },
  {
   "cell_type": "code",
   "execution_count": 17,
   "id": "d416de1f-f9da-4935-8b51-0a315b38fbf0",
   "metadata": {},
   "outputs": [],
   "source": [
    "def get_combined_annotations_df_for_common_cells(*frames, common_cells, cell_ID_column = \"cell_IDs\"):\n",
    "    if not frames:\n",
    "        return None\n",
    "    if len(frames) == 1:\n",
    "        return frames[0]\n",
    "    out = frames[0]\n",
    "    out = out.loc[common_cells,]\n",
    "    for df in frames[1:]:\n",
    "        out = out.merge(df.loc[common_cells,], on=cell_ID_column)\n",
    "    return out"
   ]
  },
  {
   "cell_type": "code",
   "execution_count": 18,
   "id": "e3b17ed5-b3db-4c3d-9098-f7f0e9d1b81a",
   "metadata": {},
   "outputs": [],
   "source": [
    "def plot_performance_metrics(df , colors=None, labels = None, y_min = 0.0, frame_color = 'gray', frame_width = 0.5, x_label_rotation = 45, tick_size = 14,legend_fontsize = 12,\n",
    "                            legend_labels = None, legend_loc = 'upper center', legend_bbox_to_anchor=(0.5, -0.2), legend_ncol=4, save=False, save_path=None):\n",
    "\n",
    "    # Default values\n",
    "    default_colors = ['#5E0B8A', '#00A7E1', '#BDDA57', '#FF8C00']\n",
    "    default_labels = ['accuracy', 'balanced \\naccuracy','cluster \\naccuracy', 'macro \\nF1', 'median \\nF1',\n",
    "                      'median \\nprecision', 'median \\nrecall','MCC', 'ARI', \"Cohen's \\nkappa\"]\n",
    "    default_legend_labels =['scATAcat', 'Seurat label transfer', 'Cellcano', 'EpiAnno']\n",
    "\n",
    "    # Use default if None is passed\n",
    "    colors = default_colors if colors is None else colors\n",
    "    labels = default_labels if labels is None else labels\n",
    "    legend_labels = default_legend_labels if legend_labels is None else legend_labels\n",
    "  \n",
    "    df.columns = labels\n",
    "    df.index = legend_labels\n",
    "    \n",
    "    matplotlib.rcParams['pdf.fonttype'] = 42\n",
    "    matplotlib.rcParams['ps.fonttype'] = 42\n",
    "\n",
    "    n_bins = 100  # Increase this number for a smoother gradient\n",
    "    cmap = LinearSegmentedColormap.from_list('custom_cmap', colors, N=n_bins)\n",
    "    ax = df.T.plot(kind='bar', figsize=(15, 10), legend=True, fontsize=12, colormap=cmap)\n",
    "    ax.set_ylim(ymin=y_min)\n",
    "    # Change plot frame to gray and adjust linewidth\n",
    "    spine_color = 'gray'\n",
    "    linewidth = frame_width # Adjust the linewidth as needed\n",
    "    for spine in ax.spines.values():\n",
    "        spine.set_color(spine_color)\n",
    "        spine.set_linewidth(linewidth)\n",
    "    ax.legend(legend_labels,fontsize=legend_fontsize, loc=legend_loc, bbox_to_anchor=legend_bbox_to_anchor,\n",
    "          fancybox=False, shadow=False, ncol=legend_ncol, frameon=False)\n",
    "    plt.xticks(rotation=x_label_rotation)\n",
    "    plt.tick_params(axis='both', which='major', labelsize=tick_size)\n",
    "\n",
    "    if save == False:\n",
    "        plt.show()\n",
    "    else:\n",
    "        if save_path == None:\n",
    "            print(\"specify the save_path directory\")\n",
    "        else:\n",
    "            plt.savefig(save_path, bbox_inches='tight', transparent=True)"
   ]
  },
  {
   "cell_type": "markdown",
   "id": "147a6041-afe9-4612-b0bf-99ce4d62dd7b",
   "metadata": {},
   "source": [
    "### seurat annotations"
   ]
  },
  {
   "cell_type": "code",
   "execution_count": 19,
   "id": "16180c86-5317-49e0-800c-ede0ec7b94be",
   "metadata": {},
   "outputs": [],
   "source": [
    "data_dir = '../../../results/Fig1_Fig2_Fig3_SFig1-FACS_BM_scATAC/'\n",
    "\n",
    "leiden_key = 'leiden_1.0'"
   ]
  },
  {
   "cell_type": "markdown",
   "id": "c3a65bf3-af6d-4025-be46-cff8af9a8bce",
   "metadata": {},
   "source": [
    "### scATAcat annotations"
   ]
  },
  {
   "cell_type": "code",
   "execution_count": 20,
   "id": "1320ece8-e4e8-42ef-9a92-6f52e9f22a38",
   "metadata": {},
   "outputs": [
    {
     "data": {
      "text/html": [
       "<div>\n",
       "<style scoped>\n",
       "    .dataframe tbody tr th:only-of-type {\n",
       "        vertical-align: middle;\n",
       "    }\n",
       "\n",
       "    .dataframe tbody tr th {\n",
       "        vertical-align: top;\n",
       "    }\n",
       "\n",
       "    .dataframe thead th {\n",
       "        text-align: right;\n",
       "    }\n",
       "</style>\n",
       "<table border=\"1\" class=\"dataframe\">\n",
       "  <thead>\n",
       "    <tr style=\"text-align: right;\">\n",
       "      <th></th>\n",
       "      <th>cell_IDs</th>\n",
       "      <th>leiden_1.0</th>\n",
       "      <th>scATAcat_annotation</th>\n",
       "      <th>ground_truth_annotations</th>\n",
       "    </tr>\n",
       "  </thead>\n",
       "  <tbody>\n",
       "    <tr>\n",
       "      <th>CLP_1</th>\n",
       "      <td>CLP_1</td>\n",
       "      <td>8</td>\n",
       "      <td>CLP</td>\n",
       "      <td>CLP</td>\n",
       "    </tr>\n",
       "    <tr>\n",
       "      <th>CMP_0</th>\n",
       "      <td>CMP_0</td>\n",
       "      <td>2</td>\n",
       "      <td>CMP</td>\n",
       "      <td>CMP</td>\n",
       "    </tr>\n",
       "    <tr>\n",
       "      <th>CMP_1</th>\n",
       "      <td>CMP_1</td>\n",
       "      <td>2</td>\n",
       "      <td>CMP</td>\n",
       "      <td>CMP</td>\n",
       "    </tr>\n",
       "    <tr>\n",
       "      <th>CMP_2</th>\n",
       "      <td>CMP_2</td>\n",
       "      <td>5</td>\n",
       "      <td>CMP</td>\n",
       "      <td>CMP</td>\n",
       "    </tr>\n",
       "    <tr>\n",
       "      <th>CMP_3</th>\n",
       "      <td>CMP_3</td>\n",
       "      <td>2</td>\n",
       "      <td>CMP</td>\n",
       "      <td>CMP</td>\n",
       "    </tr>\n",
       "  </tbody>\n",
       "</table>\n",
       "</div>"
      ],
      "text/plain": [
       "      cell_IDs  leiden_1.0 scATAcat_annotation ground_truth_annotations\n",
       "CLP_1    CLP_1           8                 CLP                      CLP\n",
       "CMP_0    CMP_0           2                 CMP                      CMP\n",
       "CMP_1    CMP_1           2                 CMP                      CMP\n",
       "CMP_2    CMP_2           5                 CMP                      CMP\n",
       "CMP_3    CMP_3           2                 CMP                      CMP"
      ]
     },
     "execution_count": 20,
     "metadata": {},
     "output_type": "execute_result"
    }
   ],
   "source": [
    "scATAcat_annotations = pd.read_csv(data_dir +\"/Fig1_SFig1-apply_scATAcat/apply_scATAcat_feasibility_study/outputs/scATAcat_annotations.csv\")\n",
    "scATAcat_annotations.columns = ['cell_IDs',leiden_key, 'scATAcat_annotation' ,'ground_truth_annotations']\n",
    "scATAcat_annotations.index = scATAcat_annotations.cell_IDs\n",
    "scATAcat_annotations.index.name = None\n",
    "scATAcat_annotations.head()"
   ]
  },
  {
   "cell_type": "raw",
   "id": "88c1fb79-df5f-4a82-ac6e-b1e0b7fd72c3",
   "metadata": {},
   "source": [
    "# change HSC and MPP to HSC/MPP\n",
    "scATAcat_annotations = scATAcat_annotations.replace('HSC', 'HSC/MPP')\n",
    "scATAcat_annotations = scATAcat_annotations.replace('MPP', 'HSC/MPP')\n",
    "#scATAcat_annotations['scATAcat_annotation'] = scATAcat_annotations['scATAcat_annotation'].map({'HSC': 'HSC/MPP', '<PP': 'HSC/MPP'})\n",
    "#scATAcat_annotations['ground_truth_annotations'] = scATAcat_annotations['ground_truth_annotations'].map({'HSC': 'HSC/MPP', '<PP': 'HSC/MPP'})\n"
   ]
  },
  {
   "cell_type": "code",
   "execution_count": 21,
   "id": "de82963c-d211-4f6c-b387-16807cc2bb40",
   "metadata": {},
   "outputs": [
    {
     "data": {
      "text/html": [
       "<div>\n",
       "<style scoped>\n",
       "    .dataframe tbody tr th:only-of-type {\n",
       "        vertical-align: middle;\n",
       "    }\n",
       "\n",
       "    .dataframe tbody tr th {\n",
       "        vertical-align: top;\n",
       "    }\n",
       "\n",
       "    .dataframe thead th {\n",
       "        text-align: right;\n",
       "    }\n",
       "</style>\n",
       "<table border=\"1\" class=\"dataframe\">\n",
       "  <thead>\n",
       "    <tr style=\"text-align: right;\">\n",
       "      <th></th>\n",
       "      <th>cell_IDs</th>\n",
       "      <th>leiden_1.0</th>\n",
       "      <th>scATAcat_annotation</th>\n",
       "      <th>ground_truth_annotations</th>\n",
       "    </tr>\n",
       "  </thead>\n",
       "  <tbody>\n",
       "    <tr>\n",
       "      <th>CLP_1</th>\n",
       "      <td>CLP_1</td>\n",
       "      <td>8</td>\n",
       "      <td>CLP</td>\n",
       "      <td>CLP</td>\n",
       "    </tr>\n",
       "    <tr>\n",
       "      <th>CMP_0</th>\n",
       "      <td>CMP_0</td>\n",
       "      <td>2</td>\n",
       "      <td>CMP</td>\n",
       "      <td>CMP</td>\n",
       "    </tr>\n",
       "    <tr>\n",
       "      <th>CMP_1</th>\n",
       "      <td>CMP_1</td>\n",
       "      <td>2</td>\n",
       "      <td>CMP</td>\n",
       "      <td>CMP</td>\n",
       "    </tr>\n",
       "    <tr>\n",
       "      <th>CMP_2</th>\n",
       "      <td>CMP_2</td>\n",
       "      <td>5</td>\n",
       "      <td>CMP</td>\n",
       "      <td>CMP</td>\n",
       "    </tr>\n",
       "    <tr>\n",
       "      <th>CMP_3</th>\n",
       "      <td>CMP_3</td>\n",
       "      <td>2</td>\n",
       "      <td>CMP</td>\n",
       "      <td>CMP</td>\n",
       "    </tr>\n",
       "    <tr>\n",
       "      <th>...</th>\n",
       "      <td>...</td>\n",
       "      <td>...</td>\n",
       "      <td>...</td>\n",
       "      <td>...</td>\n",
       "    </tr>\n",
       "    <tr>\n",
       "      <th>LMPP_90</th>\n",
       "      <td>LMPP_90</td>\n",
       "      <td>7</td>\n",
       "      <td>LMPP</td>\n",
       "      <td>LMPP</td>\n",
       "    </tr>\n",
       "    <tr>\n",
       "      <th>LMPP_91</th>\n",
       "      <td>LMPP_91</td>\n",
       "      <td>7</td>\n",
       "      <td>LMPP</td>\n",
       "      <td>LMPP</td>\n",
       "    </tr>\n",
       "    <tr>\n",
       "      <th>LMPP_93</th>\n",
       "      <td>LMPP_93</td>\n",
       "      <td>7</td>\n",
       "      <td>LMPP</td>\n",
       "      <td>LMPP</td>\n",
       "    </tr>\n",
       "    <tr>\n",
       "      <th>LMPP_94</th>\n",
       "      <td>LMPP_94</td>\n",
       "      <td>7</td>\n",
       "      <td>LMPP</td>\n",
       "      <td>LMPP</td>\n",
       "    </tr>\n",
       "    <tr>\n",
       "      <th>LMPP_95</th>\n",
       "      <td>LMPP_95</td>\n",
       "      <td>7</td>\n",
       "      <td>LMPP</td>\n",
       "      <td>LMPP</td>\n",
       "    </tr>\n",
       "  </tbody>\n",
       "</table>\n",
       "<p>1872 rows × 4 columns</p>\n",
       "</div>"
      ],
      "text/plain": [
       "        cell_IDs  leiden_1.0 scATAcat_annotation ground_truth_annotations\n",
       "CLP_1      CLP_1           8                 CLP                      CLP\n",
       "CMP_0      CMP_0           2                 CMP                      CMP\n",
       "CMP_1      CMP_1           2                 CMP                      CMP\n",
       "CMP_2      CMP_2           5                 CMP                      CMP\n",
       "CMP_3      CMP_3           2                 CMP                      CMP\n",
       "...          ...         ...                 ...                      ...\n",
       "LMPP_90  LMPP_90           7                LMPP                     LMPP\n",
       "LMPP_91  LMPP_91           7                LMPP                     LMPP\n",
       "LMPP_93  LMPP_93           7                LMPP                     LMPP\n",
       "LMPP_94  LMPP_94           7                LMPP                     LMPP\n",
       "LMPP_95  LMPP_95           7                LMPP                     LMPP\n",
       "\n",
       "[1872 rows x 4 columns]"
      ]
     },
     "execution_count": 21,
     "metadata": {},
     "output_type": "execute_result"
    }
   ],
   "source": [
    "scATAcat_annotations"
   ]
  },
  {
   "cell_type": "code",
   "execution_count": 22,
   "id": "ec57283d-4689-42d6-9c82-60dab8dbb72f",
   "metadata": {},
   "outputs": [
    {
     "data": {
      "text/plain": [
       "ground_truth_annotations\n",
       "CMP     645\n",
       "HSC     408\n",
       "GMP     253\n",
       "MEP     190\n",
       "MPP     174\n",
       "CLP     108\n",
       "LMPP     94\n",
       "Name: count, dtype: int64"
      ]
     },
     "execution_count": 22,
     "metadata": {},
     "output_type": "execute_result"
    }
   ],
   "source": [
    "scATAcat_annotations['ground_truth_annotations'].value_counts()"
   ]
  },
  {
   "cell_type": "markdown",
   "id": "4eebde7e-24d9-40b5-9fd7-bf1c7ee99088",
   "metadata": {},
   "source": [
    "## scores only for scATAcat"
   ]
  },
  {
   "cell_type": "code",
   "execution_count": 23,
   "id": "15d5d771-6df6-41f7-89bc-141d19cc0ff4",
   "metadata": {
    "scrolled": true
   },
   "outputs": [],
   "source": [
    "scores_df = pd.DataFrame(index=[\"scATAcat\"],\n",
    "                        columns=[\"accuracy\",\"balanced_accuracy\",\"cluster_accuracy\",\"macroF1_score\",\"medianF1_score\",\"medianPrecision_score\",\"medianRecall_score\",\"mathews_corr_coef_score\",\"adjusted_rand_score\",\"cohens_kappa_score\"])\n",
    "annotation_df = scATAcat_annotations\n",
    "correct_id_col = 'ground_truth_annotations'\n",
    "cluster_id_column ='leiden_1.0'\n",
    "for method in scores_df.index:\n",
    "    if method == \"scATAcat\":\n",
    "        predicted_id_col = \"scATAcat_annotation\"\n",
    "        scores_df.loc[\"scATAcat\", \"accuracy\"] = get_accuracy(annotation_df = annotation_df,correct_id_col=correct_id_col,predicted_id_col=predicted_id_col)\n",
    "        scores_df.loc[\"scATAcat\", \"balanced_accuracy\"] = get_balanced_accuracy(annotation_df = annotation_df,correct_id_col=correct_id_col,predicted_id_col=predicted_id_col)\n",
    "        scores_df.loc[\"scATAcat\", \"cluster_accuracy\"] =  get_cluster_accuracy(annotation_df = annotation_df, cluster_id_column =cluster_id_column,correct_id_col=correct_id_col, predicted_id_col=predicted_id_col)\n",
    "        scores_df.loc[\"scATAcat\", \"macroF1_score\"] = get_macroF1_score(annotation_df = annotation_df, correct_id_col=correct_id_col, predicted_id_col=predicted_id_col, label_list=None)\n",
    "        scores_df.loc[\"scATAcat\", \"medianF1_score\"] = get_medianF1_score(annotation_df = annotation_df,correct_id_col=correct_id_col,predicted_id_col=predicted_id_col)\n",
    "        scores_df.loc[\"scATAcat\", \"medianPrecision_score\"] = get_medianPrecision_score(annotation_df = annotation_df,correct_id_col=correct_id_col,predicted_id_col=predicted_id_col)\n",
    "        scores_df.loc[\"scATAcat\", \"medianRecall_score\"] =  get_medianRecall_score(annotation_df = annotation_df,correct_id_col=correct_id_col,predicted_id_col=predicted_id_col)\n",
    "        scores_df.loc[\"scATAcat\", \"mathews_corr_coef_score\"] = get_mathews_corr_coef_score(annotation_df = annotation_df,correct_id_col=correct_id_col,predicted_id_col=predicted_id_col)\n",
    "        scores_df.loc[\"scATAcat\", \"adjusted_rand_score\"] = get_adjusted_rand_score(annotation_df = annotation_df,correct_id_col=correct_id_col,predicted_id_col=predicted_id_col)\n",
    "        scores_df.loc[\"scATAcat\", \"cohens_kappa_score\"] =  get_cohens_kappa_score(annotation_df = annotation_df,correct_id_col=correct_id_col,predicted_id_col=predicted_id_col)"
   ]
  },
  {
   "cell_type": "code",
   "execution_count": 24,
   "id": "9c070808-0170-43b9-b614-ddb8cc280846",
   "metadata": {},
   "outputs": [
    {
     "data": {
      "text/html": [
       "<div>\n",
       "<style scoped>\n",
       "    .dataframe tbody tr th:only-of-type {\n",
       "        vertical-align: middle;\n",
       "    }\n",
       "\n",
       "    .dataframe tbody tr th {\n",
       "        vertical-align: top;\n",
       "    }\n",
       "\n",
       "    .dataframe thead th {\n",
       "        text-align: right;\n",
       "    }\n",
       "</style>\n",
       "<table border=\"1\" class=\"dataframe\">\n",
       "  <thead>\n",
       "    <tr style=\"text-align: right;\">\n",
       "      <th></th>\n",
       "      <th>accuracy</th>\n",
       "      <th>balanced_accuracy</th>\n",
       "      <th>cluster_accuracy</th>\n",
       "      <th>macroF1_score</th>\n",
       "      <th>medianF1_score</th>\n",
       "      <th>medianPrecision_score</th>\n",
       "      <th>medianRecall_score</th>\n",
       "      <th>mathews_corr_coef_score</th>\n",
       "      <th>adjusted_rand_score</th>\n",
       "      <th>cohens_kappa_score</th>\n",
       "    </tr>\n",
       "  </thead>\n",
       "  <tbody>\n",
       "    <tr>\n",
       "      <th>scATAcat</th>\n",
       "      <td>0.780983</td>\n",
       "      <td>0.768039</td>\n",
       "      <td>1.0</td>\n",
       "      <td>0.724672</td>\n",
       "      <td>0.82314</td>\n",
       "      <td>0.871429</td>\n",
       "      <td>0.914894</td>\n",
       "      <td>0.734002</td>\n",
       "      <td>0.565654</td>\n",
       "      <td>0.721967</td>\n",
       "    </tr>\n",
       "  </tbody>\n",
       "</table>\n",
       "</div>"
      ],
      "text/plain": [
       "          accuracy balanced_accuracy cluster_accuracy macroF1_score  \\\n",
       "scATAcat  0.780983          0.768039              1.0      0.724672   \n",
       "\n",
       "         medianF1_score medianPrecision_score medianRecall_score  \\\n",
       "scATAcat        0.82314              0.871429           0.914894   \n",
       "\n",
       "         mathews_corr_coef_score adjusted_rand_score cohens_kappa_score  \n",
       "scATAcat                0.734002            0.565654           0.721967  "
      ]
     },
     "execution_count": 24,
     "metadata": {},
     "output_type": "execute_result"
    }
   ],
   "source": [
    "scores_df"
   ]
  },
  {
   "cell_type": "code",
   "execution_count": 25,
   "id": "cf07d561-fed2-4e25-8406-0709b4c80977",
   "metadata": {},
   "outputs": [],
   "source": [
    "figures_dir = \"../../../results/Fig1_Fig2_Fig3_SFig1-FACS_BM_scATAC/compare_annotation_performances/feasibility_study/figures/\""
   ]
  },
  {
   "cell_type": "code",
   "execution_count": 26,
   "id": "f628b0d5-7588-44f6-9dc8-1c214d385b09",
   "metadata": {},
   "outputs": [],
   "source": [
    "import os\n",
    "os.makedirs(figures_dir,exist_ok=True)"
   ]
  },
  {
   "cell_type": "code",
   "execution_count": 27,
   "id": "618d82f2-bfc5-4884-bad9-da14c034d6ad",
   "metadata": {},
   "outputs": [
    {
     "data": {
      "image/png": "[encoded data removed]",
      "text/plain": [
       "<Figure size 1500x1000 with 1 Axes>"
      ]
     },
     "metadata": {},
     "output_type": "display_data"
    }
   ],
   "source": [
    "plot_performance_metrics(df = scores_df, legend_labels=[\"scATAcat\"],save=True, x_label_rotation = 30, tick_size=16, save_path=figures_dir+ '/only_scATAcat.png')\n"
   ]
  }
 ],
 "metadata": {
  "kernelspec": {
   "display_name": "scATAcat_reproducibility_env",
   "language": "python",
   "name": "scatacat_reproducibility_env"
  },
  "language_info": {
   "codemirror_mode": {
    "name": "ipython",
    "version": 3
   },
   "file_extension": ".py",
   "mimetype": "text/x-python",
   "name": "python",
   "nbconvert_exporter": "python",
   "pygments_lexer": "ipython3",
   "version": "3.10.10"
  },
  "widgets": {
   "application/vnd.jupyter.widget-state+json": {
    "state": {},
    "version_major": 2,
    "version_minor": 0
   }
  }
 },
 "nbformat": 4,
 "nbformat_minor": 5
}
