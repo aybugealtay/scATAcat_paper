{
 "cells": [
  {
   "cell_type": "code",
   "execution_count": 1,
   "id": "9da02c3f-ed67-4383-adaa-79b10e38a4e4",
   "metadata": {},
   "outputs": [],
   "source": [
    "import pandas as pd\n",
    "import numpy as np"
   ]
  },
  {
   "cell_type": "code",
   "execution_count": 2,
   "id": "2ab03585-8083-45ec-b62e-11ec06c47b47",
   "metadata": {},
   "outputs": [],
   "source": [
    "def get_accuracy(annotation_df, correct_id_col='real_cellID', predicted_id_col='predicted_cellID'):\n",
    "    num_correct_ann= annotation_df[annotation_df[correct_id_col]==annotation_df[predicted_id_col]].shape[0]\n",
    "    acc=num_correct_ann/annotation_df.shape[0]\n",
    "    print(\"accuracy:\")\n",
    "    return acc"
   ]
  },
  {
   "cell_type": "code",
   "execution_count": 3,
   "id": "a8d3f735-dd92-465a-a7aa-c90422032e86",
   "metadata": {},
   "outputs": [],
   "source": [
    "def get_balanced_accuracy(annotation_df, correct_id_col='real_cellID', predicted_id_col='predicted_cellID'):\n",
    "    ann=[]\n",
    "    for cell_type in sorted(set(annotation_df[correct_id_col])):\n",
    "        cell_type_sub = annotation_df[annotation_df[correct_id_col]==cell_type]\n",
    "        print(cell_type)\n",
    "        num_cells =cell_type_sub.shape[0]\n",
    "        print(\"predicted cell ID\")\n",
    "        num_correct_ann = cell_type_sub[cell_type_sub[predicted_id_col]==cell_type].shape[0]\n",
    "        #print(cell_type_sub.predicted_cellID.value_counts())\n",
    "        perc=(num_correct_ann/num_cells)\n",
    "        print(perc)\n",
    "        ann.append(perc)\n",
    "    balanced_accuracy= np.sum(ann)/len(ann)\n",
    "    print(\"balanced accuracy:\")\n",
    "    print(balanced_accuracy)\n",
    "    return balanced_accuracy"
   ]
  },
  {
   "cell_type": "code",
   "execution_count": 4,
   "id": "0ce647ce-14dd-45e0-b106-b92cbb74a253",
   "metadata": {},
   "outputs": [],
   "source": [
    "def get_cluster_accuracy(annotation_df, cluster_id_column ='clust',correct_id_col='real_cellID', predicted_id_col='predicted_cellID'):\n",
    "    correc_ann_counter=0\n",
    "    annotation_df = annotation_df.groupby(cluster_id_column).filter(lambda x: len(x) > 10)\n",
    "    cluster_ids =sorted(set(annotation_df[cluster_id_column]))\n",
    "    for cluster_id in cluster_ids:\n",
    "        cluster_sub = annotation_df[annotation_df[cluster_id_column]==cluster_id]   \n",
    "        clust_real_id_counts = cluster_sub[correct_id_col].value_counts()\n",
    "        # sort fist by number then by index, then get the cell type with the highest occurance. This takes care of ties\n",
    "        clust_real_id = clust_real_id_counts.iloc[np.lexsort((clust_real_id_counts.index, -clust_real_id_counts.values))].index[0]\n",
    "        clust_predicted_id_counts = cluster_sub[predicted_id_col].value_counts()\n",
    "        # sort fist by number then by index, then get the cell type with the highest occurance. This takes care of ties\n",
    "        clust_predicted_id = clust_predicted_id_counts.iloc[np.lexsort((clust_predicted_id_counts.index, -clust_predicted_id_counts.values))].index[0]\n",
    "        if clust_real_id == clust_predicted_id:\n",
    "            correc_ann_counter += 1\n",
    "        else:\n",
    "            continue\n",
    "    clust_accuracy= correc_ann_counter/len(cluster_ids)\n",
    "    print(\"cluster accuracy:\")\n",
    "    return clust_accuracy"
   ]
  },
  {
   "cell_type": "code",
   "execution_count": 18,
   "id": "f54b23ec-7218-4fa1-b541-cf53149aa055",
   "metadata": {},
   "outputs": [],
   "source": [
    "# reformat the data"
   ]
  },
  {
   "cell_type": "code",
   "execution_count": 59,
   "id": "03d90555-3915-4b15-aa13-f7defaac5d29",
   "metadata": {},
   "outputs": [],
   "source": [
    "Cellcano_annotations = pd.read_csv(\"/project/scATAC_analysis/scATAcat_review/benchmarking/Cellcano/apply_BM/output_Buenrostro2018_FACS_BM/predict_Buenrostro2018_FACS_BMcelltypes.csv\")"
   ]
  },
  {
   "cell_type": "code",
   "execution_count": 60,
   "id": "26a16094-10a4-4710-9a85-257cdd82b2c0",
   "metadata": {},
   "outputs": [
    {
     "data": {
      "text/html": [
       "<div>\n",
       "<style scoped>\n",
       "    .dataframe tbody tr th:only-of-type {\n",
       "        vertical-align: middle;\n",
       "    }\n",
       "\n",
       "    .dataframe tbody tr th {\n",
       "        vertical-align: top;\n",
       "    }\n",
       "\n",
       "    .dataframe thead th {\n",
       "        text-align: right;\n",
       "    }\n",
       "</style>\n",
       "<table border=\"1\" class=\"dataframe\">\n",
       "  <thead>\n",
       "    <tr style=\"text-align: right;\">\n",
       "      <th></th>\n",
       "      <th>cell_IDs</th>\n",
       "      <th>Cellcano_annotations</th>\n",
       "      <th>ground_truth_annotations</th>\n",
       "    </tr>\n",
       "  </thead>\n",
       "  <tbody>\n",
       "    <tr>\n",
       "      <th>MEP_150</th>\n",
       "      <td>MEP_150</td>\n",
       "      <td>MEP</td>\n",
       "      <td>MEP</td>\n",
       "    </tr>\n",
       "    <tr>\n",
       "      <th>CMP_239</th>\n",
       "      <td>CMP_239</td>\n",
       "      <td>Mono1</td>\n",
       "      <td>CMP</td>\n",
       "    </tr>\n",
       "    <tr>\n",
       "      <th>HSC_284</th>\n",
       "      <td>HSC_284</td>\n",
       "      <td>MDP</td>\n",
       "      <td>HSC</td>\n",
       "    </tr>\n",
       "    <tr>\n",
       "      <th>GMP_285</th>\n",
       "      <td>GMP_285</td>\n",
       "      <td>MDP</td>\n",
       "      <td>GMP</td>\n",
       "    </tr>\n",
       "    <tr>\n",
       "      <th>CMP_164</th>\n",
       "      <td>CMP_164</td>\n",
       "      <td>MDP</td>\n",
       "      <td>CMP</td>\n",
       "    </tr>\n",
       "  </tbody>\n",
       "</table>\n",
       "</div>"
      ],
      "text/plain": [
       "        cell_IDs Cellcano_annotations ground_truth_annotations\n",
       "MEP_150  MEP_150                  MEP                      MEP\n",
       "CMP_239  CMP_239                Mono1                      CMP\n",
       "HSC_284  HSC_284                  MDP                      HSC\n",
       "GMP_285  GMP_285                  MDP                      GMP\n",
       "CMP_164  CMP_164                  MDP                      CMP"
      ]
     },
     "execution_count": 60,
     "metadata": {},
     "output_type": "execute_result"
    }
   ],
   "source": [
    "Cellcano_annotations[['prefix', 'cell_IDs']] = Cellcano_annotations.iloc[:,0].str.split(\"#\", n=1, expand=True)\n",
    "Cellcano_annotations = Cellcano_annotations[[\"cell_IDs\", \"pred_celltype\"]]\n",
    "Cellcano_annotations.columns = [\"cell_IDs\", \"Cellcano_annotations\"]\n",
    "Cellcano_annotations[\"ground_truth_annotations\"] = Cellcano_annotations[\"cell_IDs\"].str.split(\"_\", n=1, expand=True)[0]\n",
    "Cellcano_annotations.index =Cellcano_annotations[\"cell_IDs\"]\n",
    "Cellcano_annotations.index.name = None\n",
    "Cellcano_annotations.head()"
   ]
  },
  {
   "cell_type": "code",
   "execution_count": 61,
   "id": "f465280d-9931-4c3a-9234-a53a9ae30fc7",
   "metadata": {},
   "outputs": [
    {
     "name": "stdout",
     "output_type": "stream",
     "text": [
      "{'Mono1': 'Mono', 'MDP': 'GMP', 'N-CD8T2': 'CD8Tcell', 'Mat-NK2': 'NKcell', 'MEP': 'MEP', 'EM-CDT8': 'CD8Tcell', 'Naive-B': 'Bcell', 'Pre-B': 'CLP', 'CM-CD8T': 'CD8Tcell', 'Mono2': 'Mono', 'Plasma-B': 'Bcell', 'cDC': 'cDC', 'GDelta-T': 'gdT', 'pDC': 'pDC', 'LMPP': 'LMPP', 'GMP': 'GMP', 'Memory-B': 'Bcell', 'HSC/MPP': 'HSC/MPP', 'Pro-B': 'CLP', 'Mat-NK1': 'NKcell'}\n"
     ]
    }
   ],
   "source": [
    "Cellcano_annotations_ = ['Mono1', 'MDP', 'N-CD8T2', 'Mat-NK2', 'MEP', 'EM-CDT8', 'Naive-B','Pre-B', 'CM-CD8T', 'Mono2', 'Plasma-B', 'cDC', 'GDelta-T', 'pDC','LMPP', 'GMP', 'Memory-B', 'HSC/MPP', 'Pro-B', 'Mat-NK1']\n",
    "Cellcano_annotations_simplified  =[ \"Mono\",\"GMP\",\"CD8Tcell\",\"NKcell\",\"MEP\",\"CD8Tcell\",\"Bcell\",\"CLP\",\"CD8Tcell\",\"Mono\",\"Bcell\",\"cDC\",\"gdT\",\"pDC\",\"LMPP\",\"GMP\",\"Bcell\",\"HSC/MPP\",\"CLP\",\"NKcell\"]\n",
    "\n",
    "Cellcano_annotations_simplified_dict = dict(zip(Cellcano_annotations_, Cellcano_annotations_simplified))\n",
    "\n",
    "print(Cellcano_annotations_simplified_dict)\n"
   ]
  },
  {
   "cell_type": "code",
   "execution_count": 63,
   "id": "cd3a3089-b8fc-4cd2-b868-ebdf120ea69a",
   "metadata": {},
   "outputs": [
    {
     "data": {
      "text/html": [
       "<div>\n",
       "<style scoped>\n",
       "    .dataframe tbody tr th:only-of-type {\n",
       "        vertical-align: middle;\n",
       "    }\n",
       "\n",
       "    .dataframe tbody tr th {\n",
       "        vertical-align: top;\n",
       "    }\n",
       "\n",
       "    .dataframe thead th {\n",
       "        text-align: right;\n",
       "    }\n",
       "</style>\n",
       "<table border=\"1\" class=\"dataframe\">\n",
       "  <thead>\n",
       "    <tr style=\"text-align: right;\">\n",
       "      <th></th>\n",
       "      <th>cell_IDs</th>\n",
       "      <th>Cellcano_annotations</th>\n",
       "      <th>ground_truth_annotations</th>\n",
       "      <th>Cellcano_annotations_simplified</th>\n",
       "    </tr>\n",
       "  </thead>\n",
       "  <tbody>\n",
       "    <tr>\n",
       "      <th>MEP_150</th>\n",
       "      <td>MEP_150</td>\n",
       "      <td>MEP</td>\n",
       "      <td>MEP</td>\n",
       "      <td>MEP</td>\n",
       "    </tr>\n",
       "    <tr>\n",
       "      <th>CMP_239</th>\n",
       "      <td>CMP_239</td>\n",
       "      <td>Mono1</td>\n",
       "      <td>CMP</td>\n",
       "      <td>Mono</td>\n",
       "    </tr>\n",
       "    <tr>\n",
       "      <th>HSC_284</th>\n",
       "      <td>HSC_284</td>\n",
       "      <td>MDP</td>\n",
       "      <td>HSC</td>\n",
       "      <td>GMP</td>\n",
       "    </tr>\n",
       "    <tr>\n",
       "      <th>GMP_285</th>\n",
       "      <td>GMP_285</td>\n",
       "      <td>MDP</td>\n",
       "      <td>GMP</td>\n",
       "      <td>GMP</td>\n",
       "    </tr>\n",
       "    <tr>\n",
       "      <th>CMP_164</th>\n",
       "      <td>CMP_164</td>\n",
       "      <td>MDP</td>\n",
       "      <td>CMP</td>\n",
       "      <td>GMP</td>\n",
       "    </tr>\n",
       "  </tbody>\n",
       "</table>\n",
       "</div>"
      ],
      "text/plain": [
       "        cell_IDs Cellcano_annotations ground_truth_annotations  \\\n",
       "MEP_150  MEP_150                  MEP                      MEP   \n",
       "CMP_239  CMP_239                Mono1                      CMP   \n",
       "HSC_284  HSC_284                  MDP                      HSC   \n",
       "GMP_285  GMP_285                  MDP                      GMP   \n",
       "CMP_164  CMP_164                  MDP                      CMP   \n",
       "\n",
       "        Cellcano_annotations_simplified  \n",
       "MEP_150                             MEP  \n",
       "CMP_239                            Mono  \n",
       "HSC_284                             GMP  \n",
       "GMP_285                             GMP  \n",
       "CMP_164                             GMP  "
      ]
     },
     "execution_count": 63,
     "metadata": {},
     "output_type": "execute_result"
    }
   ],
   "source": [
    "\n",
    "Cellcano_annotations= Cellcano_annotations.assign(Cellcano_annotations_simplified=list(Cellcano_annotations['Cellcano_annotations'].map(Cellcano_annotations_simplified_dict)))\n",
    "Cellcano_annotations.head()"
   ]
  },
  {
   "cell_type": "markdown",
   "id": "de57502a-c94c-4205-97fd-41d742bcbd0c",
   "metadata": {},
   "source": [
    "## accuracy metrics for scATAcat:"
   ]
  },
  {
   "cell_type": "code",
   "execution_count": 64,
   "id": "1c46779a-07d0-4d06-b4fd-504094a4078d",
   "metadata": {},
   "outputs": [
    {
     "name": "stdout",
     "output_type": "stream",
     "text": [
      "accuracy:\n"
     ]
    },
    {
     "data": {
      "text/plain": [
       "0.09653333333333333"
      ]
     },
     "execution_count": 64,
     "metadata": {},
     "output_type": "execute_result"
    }
   ],
   "source": [
    "get_accuracy(Cellcano_annotations, correct_id_col='ground_truth_annotations', predicted_id_col='Cellcano_annotations_simplified')"
   ]
  },
  {
   "cell_type": "code",
   "execution_count": 65,
   "id": "109b67f7-460d-45f2-a640-dc60fd4ee2f4",
   "metadata": {},
   "outputs": [
    {
     "name": "stdout",
     "output_type": "stream",
     "text": [
      "CLP\n",
      "predicted cell ID\n",
      "0.1388888888888889\n",
      "CMP\n",
      "predicted cell ID\n",
      "0.0\n",
      "GMP\n",
      "predicted cell ID\n",
      "0.14566929133858267\n",
      "HSC\n",
      "predicted cell ID\n",
      "0.0\n",
      "LMPP\n",
      "predicted cell ID\n",
      "0.0\n",
      "MEP\n",
      "predicted cell ID\n",
      "0.675392670157068\n",
      "MPP\n",
      "predicted cell ID\n",
      "0.0\n",
      "balanced accuracy:\n",
      "0.13713583576921995\n"
     ]
    },
    {
     "data": {
      "text/plain": [
       "0.13713583576921995"
      ]
     },
     "execution_count": 65,
     "metadata": {},
     "output_type": "execute_result"
    }
   ],
   "source": [
    "get_balanced_accuracy(Cellcano_annotations, correct_id_col='ground_truth_annotations', predicted_id_col='Cellcano_annotations_simplified')"
   ]
  },
  {
   "cell_type": "code",
   "execution_count": 58,
   "id": "a741483d-338c-4b5f-a16f-9c1bfee77757",
   "metadata": {},
   "outputs": [
    {
     "ename": "NameError",
     "evalue": "name 'leiden_key' is not defined",
     "output_type": "error",
     "traceback": [
      "\u001b[0;31m---------------------------------------------------------------------------\u001b[0m",
      "\u001b[0;31mNameError\u001b[0m                                 Traceback (most recent call last)",
      "Cell \u001b[0;32mIn[58], line 1\u001b[0m\n\u001b[0;32m----> 1\u001b[0m get_cluster_accuracy(Cellcano_annotations,cluster_id_column \u001b[38;5;241m=\u001b[39m\u001b[43mleiden_key\u001b[49m, correct_id_col\u001b[38;5;241m=\u001b[39m\u001b[38;5;124m'\u001b[39m\u001b[38;5;124mground_truth_annotations\u001b[39m\u001b[38;5;124m'\u001b[39m, predicted_id_col\u001b[38;5;241m=\u001b[39m\u001b[38;5;124m'\u001b[39m\u001b[38;5;124mCellcano_annotations_simplified\u001b[39m\u001b[38;5;124m'\u001b[39m)\n",
      "\u001b[0;31mNameError\u001b[0m: name 'leiden_key' is not defined"
     ]
    }
   ],
   "source": [
    "get_cluster_accuracy(Cellcano_annotations,cluster_id_column =leiden_key, correct_id_col='ground_truth_annotations', predicted_id_col='Cellcano_annotations_simplified')"
   ]
  },
  {
   "cell_type": "code",
   "execution_count": null,
   "id": "467b591a-cda6-4a5d-88c8-e941ca7b8b7c",
   "metadata": {},
   "outputs": [],
   "source": []
  }
 ],
 "metadata": {
  "kernelspec": {
   "display_name": "python_3.10.10_env",
   "language": "python",
   "name": "python_3.10.10_env"
  },
  "language_info": {
   "codemirror_mode": {
    "name": "ipython",
    "version": 3
   },
   "file_extension": ".py",
   "mimetype": "text/x-python",
   "name": "python",
   "nbconvert_exporter": "python",
   "pygments_lexer": "ipython3",
   "version": "3.10.10"
  },
  "widgets": {
   "application/vnd.jupyter.widget-state+json": {
    "state": {},
    "version_major": 2,
    "version_minor": 0
   }
  }
 },
 "nbformat": 4,
 "nbformat_minor": 5
}
