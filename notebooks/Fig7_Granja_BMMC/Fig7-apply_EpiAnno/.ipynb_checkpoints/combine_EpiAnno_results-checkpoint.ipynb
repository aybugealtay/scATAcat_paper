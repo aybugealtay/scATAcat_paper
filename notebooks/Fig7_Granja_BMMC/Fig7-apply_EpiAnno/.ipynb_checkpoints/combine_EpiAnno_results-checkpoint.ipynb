{
 "cells": [
  {
   "cell_type": "code",
   "execution_count": 1,
   "id": "4d075b05-2753-4f99-b2d0-f8cc064ce416",
   "metadata": {},
   "outputs": [],
   "source": [
    "import numpy as np\n",
    "import pandas as pd\n",
    "import os"
   ]
  },
  {
   "cell_type": "code",
   "execution_count": 2,
   "id": "791215e3-8f47-4da3-b488-1da639fe360f",
   "metadata": {},
   "outputs": [],
   "source": [
    "def get_cell_ID_label_mapping(EpiAnnoResult_path, peakByCellMatrix_path):\n",
    "    result_df = pd.DataFrame(np.load(EpiAnnoResult_path, allow_pickle=True)[()]['pred_label'],columns=[\"predicted_labels\"])\n",
    "    peak_by_cell_df = pd.read_csv(peakByCellMatrix_path, index_col=0)\n",
    "    cell_IDs  = pd.DataFrame(peak_by_cell_df.columns, columns=[\"dummy\"])\n",
    "    cell_IDs[['ignone', 'cell_IDs']] = cell_IDs['dummy'].str.split('#', n=1, expand=True)\n",
    "    cell_IDs =cell_IDs['cell_IDs']\n",
    "    del peak_by_cell_df\n",
    "    result_df = pd.concat([ cell_IDs,result_df], axis=1)\n",
    "    result_path = os.path.dirname(EpiAnnoResult_path)\n",
    "    result_filename = result_path+\"/predicted_labels.csv\"\n",
    "    result_df.to_csv(result_filename)\n",
    "    return(result_df)"
   ]
  },
  {
   "cell_type": "code",
   "execution_count": 3,
   "id": "07f581bc-c2be-4706-8889-d8ace115a7b7",
   "metadata": {},
   "outputs": [],
   "source": [
    "mapping = get_cell_ID_label_mapping(EpiAnnoResult_path=\"/project/scATAC_analysis/scATAcat_review/results/Fig6-Granja_PBMC_scATAC/Fig6-apply_EpiAnno/result_peak_rate_0.050_latent_10.npy\",\n",
    "                                                                    peakByCellMatrix_path=\"/project/scATAC_analysis/scATAcat_review/data/Granja2019/PBMC_D10T1/05_peaks_and_genesScore_matrix_ArchR/input_for_EpiAnno/PeakMatrix_dense.csv\")"
   ]
  },
  {
   "cell_type": "code",
   "execution_count": 5,
   "id": "53f14391-263a-403c-a93c-d0db599ec26e",
   "metadata": {},
   "outputs": [
    {
     "data": {
      "text/html": [
       "<div>\n",
       "<style scoped>\n",
       "    .dataframe tbody tr th:only-of-type {\n",
       "        vertical-align: middle;\n",
       "    }\n",
       "\n",
       "    .dataframe tbody tr th {\n",
       "        vertical-align: top;\n",
       "    }\n",
       "\n",
       "    .dataframe thead th {\n",
       "        text-align: right;\n",
       "    }\n",
       "</style>\n",
       "<table border=\"1\" class=\"dataframe\">\n",
       "  <thead>\n",
       "    <tr style=\"text-align: right;\">\n",
       "      <th></th>\n",
       "      <th>cell_IDs</th>\n",
       "      <th>predicted_labels</th>\n",
       "    </tr>\n",
       "  </thead>\n",
       "  <tbody>\n",
       "    <tr>\n",
       "      <th>0</th>\n",
       "      <td>GTGTGATCAAGGAAGA-1</td>\n",
       "      <td>CM-CD8T</td>\n",
       "    </tr>\n",
       "    <tr>\n",
       "      <th>1</th>\n",
       "      <td>GCACGCATCCAGGTCG-1</td>\n",
       "      <td>N-CD8T1</td>\n",
       "    </tr>\n",
       "    <tr>\n",
       "      <th>2</th>\n",
       "      <td>GGGAACAGTACAAGCG-1</td>\n",
       "      <td>EM-CDT8</td>\n",
       "    </tr>\n",
       "    <tr>\n",
       "      <th>3</th>\n",
       "      <td>AAAGATGTCTCTGAGA-1</td>\n",
       "      <td>Plasma-B</td>\n",
       "    </tr>\n",
       "    <tr>\n",
       "      <th>4</th>\n",
       "      <td>CTAGGATGTCTCTGCT-1</td>\n",
       "      <td>CM-CD8T</td>\n",
       "    </tr>\n",
       "    <tr>\n",
       "      <th>...</th>\n",
       "      <td>...</td>\n",
       "      <td>...</td>\n",
       "    </tr>\n",
       "    <tr>\n",
       "      <th>3408</th>\n",
       "      <td>GCATTCCTCTACTGCC-1</td>\n",
       "      <td>pDC</td>\n",
       "    </tr>\n",
       "    <tr>\n",
       "      <th>3409</th>\n",
       "      <td>TAGCTTTCAGGGTACA-1</td>\n",
       "      <td>cDC</td>\n",
       "    </tr>\n",
       "    <tr>\n",
       "      <th>3410</th>\n",
       "      <td>AGTCCGGCAATAGTGA-1</td>\n",
       "      <td>Treg</td>\n",
       "    </tr>\n",
       "    <tr>\n",
       "      <th>3411</th>\n",
       "      <td>GTGACATCAATTGGCT-1</td>\n",
       "      <td>Mat-NK1</td>\n",
       "    </tr>\n",
       "    <tr>\n",
       "      <th>3412</th>\n",
       "      <td>AGCCTCTCATATTGGC-1</td>\n",
       "      <td>pDC</td>\n",
       "    </tr>\n",
       "  </tbody>\n",
       "</table>\n",
       "<p>3413 rows × 2 columns</p>\n",
       "</div>"
      ],
      "text/plain": [
       "                cell_IDs predicted_labels\n",
       "0     GTGTGATCAAGGAAGA-1          CM-CD8T\n",
       "1     GCACGCATCCAGGTCG-1          N-CD8T1\n",
       "2     GGGAACAGTACAAGCG-1          EM-CDT8\n",
       "3     AAAGATGTCTCTGAGA-1         Plasma-B\n",
       "4     CTAGGATGTCTCTGCT-1          CM-CD8T\n",
       "...                  ...              ...\n",
       "3408  GCATTCCTCTACTGCC-1              pDC\n",
       "3409  TAGCTTTCAGGGTACA-1              cDC\n",
       "3410  AGTCCGGCAATAGTGA-1             Treg\n",
       "3411  GTGACATCAATTGGCT-1          Mat-NK1\n",
       "3412  AGCCTCTCATATTGGC-1              pDC\n",
       "\n",
       "[3413 rows x 2 columns]"
      ]
     },
     "execution_count": 5,
     "metadata": {},
     "output_type": "execute_result"
    }
   ],
   "source": [
    "mapping"
   ]
  },
  {
   "cell_type": "code",
   "execution_count": 4,
   "id": "55598a6a-c986-49ed-a343-d475dde4acfb",
   "metadata": {},
   "outputs": [
    {
     "data": {
      "text/plain": [
       "predicted_labels\n",
       "Mono2       1027\n",
       "N-Treg       479\n",
       "N-CD4T1      259\n",
       "Naive-B      210\n",
       "M-CD4T       203\n",
       "Mat-NK1      172\n",
       "N-CD8T1      155\n",
       "EM-CDT8      134\n",
       "GDelta-T     117\n",
       "CM-CD8T      106\n",
       "cDC           90\n",
       "Treg          86\n",
       "Memory-B      83\n",
       "Plasma-B      50\n",
       "Mono1         47\n",
       "pDC           32\n",
       "Mat-NK2       29\n",
       "HSC/MPP       26\n",
       "Basofil       20\n",
       "N-CD8T3       19\n",
       "N-CD4T2       19\n",
       "MDP           14\n",
       "LMPP          11\n",
       "MEP            9\n",
       "Imm-NK         8\n",
       "CMP/BMP        6\n",
       "N-CD8T2        2\n",
       "Name: count, dtype: int64"
      ]
     },
     "execution_count": 4,
     "metadata": {},
     "output_type": "execute_result"
    }
   ],
   "source": [
    "mapping.predicted_labels.value_counts()"
   ]
  },
  {
   "cell_type": "code",
   "execution_count": null,
   "id": "8ba9df53-5ed1-4c08-8f5c-edd1e7273d29",
   "metadata": {},
   "outputs": [],
   "source": []
  }
 ],
 "metadata": {
  "kernelspec": {
   "display_name": "scATAcat_reproducibility_env",
   "language": "python",
   "name": "scatacat_reproducibility_env"
  },
  "language_info": {
   "codemirror_mode": {
    "name": "ipython",
    "version": 3
   },
   "file_extension": ".py",
   "mimetype": "text/x-python",
   "name": "python",
   "nbconvert_exporter": "python",
   "pygments_lexer": "ipython3",
   "version": "3.10.10"
  },
  "widgets": {
   "application/vnd.jupyter.widget-state+json": {
    "state": {},
    "version_major": 2,
    "version_minor": 0
   }
  }
 },
 "nbformat": 4,
 "nbformat_minor": 5
}
